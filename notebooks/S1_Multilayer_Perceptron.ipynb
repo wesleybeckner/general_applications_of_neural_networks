{
  "nbformat": 4,
  "nbformat_minor": 0,
  "metadata": {
    "colab": {
      "name": "S1_Multilayer_Perceptron.ipynb",
      "provenance": [],
      "collapsed_sections": [],
      "toc_visible": true,
      "include_colab_link": true
    },
    "kernelspec": {
      "name": "python3",
      "display_name": "Python 3"
    },
    "language_info": {
      "name": "python"
    }
  },
  "cells": [
    {
      "cell_type": "markdown",
      "metadata": {
        "id": "view-in-github",
        "colab_type": "text"
      },
      "source": [
        "<a href=\"https://colab.research.google.com/github/wesleybeckner/general_applications_of_neural_networks/blob/main/notebooks/S1_Multilayer_Perceptron.ipynb\" target=\"_parent\"><img src=\"https://colab.research.google.com/assets/colab-badge.svg\" alt=\"Open In Colab\"/></a>"
      ]
    },
    {
      "cell_type": "markdown",
      "metadata": {
        "id": "vhe1yX4AMckE"
      },
      "source": [
        "# General Applications of Neural Networks, Session 1: The Multilayer Perceptron\n",
        "\n",
        "**Instructor**: Wesley Beckner\n",
        "\n",
        "**Contact**: wesleybeckner@gmail.com\n",
        "\n",
        "---\n",
        "\n",
        "<br>\n",
        "\n",
        "In this session we will introduce Neural Networks! We'll cover the over arching concepts used to talk about network architecture as well as their building blocks.\n",
        "\n",
        "_images in this notebook borrowed from [Ryan Holbrook](https://mathformachines.com/)_\n",
        "\n",
        "<br>\n",
        "\n",
        "---\n",
        "\n",
        "<br>\n",
        "\n",
        "<a name='top'></a>"
      ]
    },
    {
      "cell_type": "markdown",
      "metadata": {
        "id": "mNtJitcRW51Y"
      },
      "source": [
        "<a name='x.0'></a>\n",
        "\n",
        "## 1.0 Preparing Environment and Importing Data\n",
        "\n",
        "[back to top](#top)"
      ]
    },
    {
      "cell_type": "code",
      "metadata": {
        "colab": {
          "base_uri": "https://localhost:8080/",
          "height": 298
        },
        "id": "C3kYgV3LLGKJ",
        "outputId": "55a29ceb-c2ef-4eb5-f435-da3bec766561"
      },
      "source": [
        "!pip uninstall scikit-learn -y\n",
        "\n",
        "!pip install -U scikit-learn"
      ],
      "execution_count": null,
      "outputs": [
        {
          "output_type": "stream",
          "text": [
            "Found existing installation: scikit-learn 0.24.2\n",
            "Uninstalling scikit-learn-0.24.2:\n",
            "  Successfully uninstalled scikit-learn-0.24.2\n",
            "Collecting scikit-learn\n",
            "  Using cached scikit_learn-0.24.2-cp37-cp37m-manylinux2010_x86_64.whl (22.3 MB)\n",
            "Requirement already satisfied: threadpoolctl>=2.0.0 in /usr/local/lib/python3.7/dist-packages (from scikit-learn) (2.2.0)\n",
            "Requirement already satisfied: scipy>=0.19.1 in /usr/local/lib/python3.7/dist-packages (from scikit-learn) (1.4.1)\n",
            "Requirement already satisfied: numpy>=1.13.3 in /usr/local/lib/python3.7/dist-packages (from scikit-learn) (1.19.5)\n",
            "Requirement already satisfied: joblib>=0.11 in /usr/local/lib/python3.7/dist-packages (from scikit-learn) (1.0.1)\n",
            "Installing collected packages: scikit-learn\n",
            "Successfully installed scikit-learn-0.24.2\n"
          ],
          "name": "stdout"
        },
        {
          "output_type": "display_data",
          "data": {
            "application/vnd.colab-display-data+json": {
              "pip_warning": {
                "packages": [
                  "sklearn"
                ]
              }
            }
          },
          "metadata": {
            "tags": []
          }
        }
      ]
    },
    {
      "cell_type": "markdown",
      "metadata": {
        "id": "chdcBoBL8SNm"
      },
      "source": [
        "<a name='x.0.1'></a>\n",
        "\n",
        "### 1.0.1 Import Packages\n",
        "\n",
        "[back to top](#top)"
      ]
    },
    {
      "cell_type": "code",
      "metadata": {
        "id": "KtCyp8X9zjpF"
      },
      "source": [
        "from tensorflow import keras\n",
        "from keras import backend as K\n",
        "from tensorflow.keras import layers\n",
        "import pandas as pd\n",
        "import matplotlib.pyplot as plt\n",
        "import seaborn as sns\n",
        "import tensorflow as tf\n",
        "from sklearn.model_selection import train_test_split\n",
        "import plotly.express as px\n",
        "\n",
        "from sklearn.impute import SimpleImputer\n",
        "from copy import copy\n",
        "sns.set()\n",
        "\n",
        "import numpy as np\n",
        "import pandas as pd\n",
        "from sklearn.preprocessing import StandardScaler, OneHotEncoder\n",
        "from sklearn.compose import make_column_transformer, make_column_selector\n",
        "from sklearn import set_config\n",
        "from sklearn.pipeline import make_pipeline\n",
        "from sklearn.metrics import mean_squared_error\n",
        "set_config(display='diagram')"
      ],
      "execution_count": null,
      "outputs": []
    },
    {
      "cell_type": "markdown",
      "metadata": {
        "id": "R7vDY-8U8SWd"
      },
      "source": [
        "<a name='x.0.1'></a>\n",
        "\n",
        "### 1.0.2 Load Dataset\n",
        "\n",
        "[back to top](#top)\n",
        "\n",
        "Before diving in I want to compare two methods of reading and preprocessing our data:"
      ]
    },
    {
      "cell_type": "code",
      "metadata": {
        "colab": {
          "base_uri": "https://localhost:8080/",
          "height": 135
        },
        "id": "AXSQeVAvKySD",
        "outputId": "f12f3f52-55a3-459f-983b-12ce35aec1fe"
      },
      "source": [
        "# import wine data\n",
        "wine = pd.read_csv(\"https://raw.githubusercontent.com/wesleybeckner/\"\\\n",
        "      \"ds_for_engineers/main/data/wine_quality/winequalityN.csv\")\n",
        "\n",
        "# create X and y\n",
        "X = wine.copy()\n",
        "y = X.pop('quality')\n",
        "\n",
        "# split into train/test\n",
        "X_train, X_test, y_train, y_test = train_test_split(X, y)\n",
        "X_train, X_val, y_train, y_val = train_test_split(X_train, y_train)\n",
        "\n",
        "# the numerical values pipe\n",
        "num_proc = make_pipeline(SimpleImputer(strategy='median'), # impute with median\n",
        "                         StandardScaler()) # scale and center\n",
        "\n",
        "# the categorical values pipe\n",
        "cat_proc = make_pipeline(\n",
        "    SimpleImputer(strategy='constant', \n",
        "                  fill_value='missing'), # impute with placeholder\n",
        "    OneHotEncoder(handle_unknown='ignore')) # one hot encode\n",
        "\n",
        "# parallelize the two pipes\n",
        "preprocessor = make_column_transformer((num_proc,\n",
        "                                make_column_selector(dtype_include=np.number)),\n",
        "                                       (cat_proc,\n",
        "                                make_column_selector(dtype_include=object)))\n",
        "\n",
        "X_train_std = preprocessor.fit_transform(X_train) # fit_transform on train\n",
        "X_test_std = preprocessor.transform(X_test) # transform test and validation\n",
        "X_val_std = preprocessor.transform(X_val)\n",
        "\n",
        "y_train_std = np.log(y_train) # log output y\n",
        "y_val_std = np.log(y_val) # log output y\n",
        "y_test_std = np.log(y_test) # log output y\n",
        "\n",
        "preprocessor"
      ],
      "execution_count": null,
      "outputs": [
        {
          "output_type": "execute_result",
          "data": {
            "text/html": [
              "<style>#sk-81b6bb9b-6f93-4195-900b-55d5f542e910 {color: black;background-color: white;}#sk-81b6bb9b-6f93-4195-900b-55d5f542e910 pre{padding: 0;}#sk-81b6bb9b-6f93-4195-900b-55d5f542e910 div.sk-toggleable {background-color: white;}#sk-81b6bb9b-6f93-4195-900b-55d5f542e910 label.sk-toggleable__label {cursor: pointer;display: block;width: 100%;margin-bottom: 0;padding: 0.2em 0.3em;box-sizing: border-box;text-align: center;}#sk-81b6bb9b-6f93-4195-900b-55d5f542e910 div.sk-toggleable__content {max-height: 0;max-width: 0;overflow: hidden;text-align: left;background-color: #f0f8ff;}#sk-81b6bb9b-6f93-4195-900b-55d5f542e910 div.sk-toggleable__content pre {margin: 0.2em;color: black;border-radius: 0.25em;background-color: #f0f8ff;}#sk-81b6bb9b-6f93-4195-900b-55d5f542e910 input.sk-toggleable__control:checked~div.sk-toggleable__content {max-height: 200px;max-width: 100%;overflow: auto;}#sk-81b6bb9b-6f93-4195-900b-55d5f542e910 div.sk-estimator input.sk-toggleable__control:checked~label.sk-toggleable__label {background-color: #d4ebff;}#sk-81b6bb9b-6f93-4195-900b-55d5f542e910 div.sk-label input.sk-toggleable__control:checked~label.sk-toggleable__label {background-color: #d4ebff;}#sk-81b6bb9b-6f93-4195-900b-55d5f542e910 input.sk-hidden--visually {border: 0;clip: rect(1px 1px 1px 1px);clip: rect(1px, 1px, 1px, 1px);height: 1px;margin: -1px;overflow: hidden;padding: 0;position: absolute;width: 1px;}#sk-81b6bb9b-6f93-4195-900b-55d5f542e910 div.sk-estimator {font-family: monospace;background-color: #f0f8ff;margin: 0.25em 0.25em;border: 1px dotted black;border-radius: 0.25em;box-sizing: border-box;}#sk-81b6bb9b-6f93-4195-900b-55d5f542e910 div.sk-estimator:hover {background-color: #d4ebff;}#sk-81b6bb9b-6f93-4195-900b-55d5f542e910 div.sk-parallel-item::after {content: \"\";width: 100%;border-bottom: 1px solid gray;flex-grow: 1;}#sk-81b6bb9b-6f93-4195-900b-55d5f542e910 div.sk-label:hover label.sk-toggleable__label {background-color: #d4ebff;}#sk-81b6bb9b-6f93-4195-900b-55d5f542e910 div.sk-serial::before {content: \"\";position: absolute;border-left: 1px solid gray;box-sizing: border-box;top: 2em;bottom: 0;left: 50%;}#sk-81b6bb9b-6f93-4195-900b-55d5f542e910 div.sk-serial {display: flex;flex-direction: column;align-items: center;background-color: white;}#sk-81b6bb9b-6f93-4195-900b-55d5f542e910 div.sk-item {z-index: 1;}#sk-81b6bb9b-6f93-4195-900b-55d5f542e910 div.sk-parallel {display: flex;align-items: stretch;justify-content: center;background-color: white;}#sk-81b6bb9b-6f93-4195-900b-55d5f542e910 div.sk-parallel-item {display: flex;flex-direction: column;position: relative;background-color: white;}#sk-81b6bb9b-6f93-4195-900b-55d5f542e910 div.sk-parallel-item:first-child::after {align-self: flex-end;width: 50%;}#sk-81b6bb9b-6f93-4195-900b-55d5f542e910 div.sk-parallel-item:last-child::after {align-self: flex-start;width: 50%;}#sk-81b6bb9b-6f93-4195-900b-55d5f542e910 div.sk-parallel-item:only-child::after {width: 0;}#sk-81b6bb9b-6f93-4195-900b-55d5f542e910 div.sk-dashed-wrapped {border: 1px dashed gray;margin: 0.2em;box-sizing: border-box;padding-bottom: 0.1em;background-color: white;position: relative;}#sk-81b6bb9b-6f93-4195-900b-55d5f542e910 div.sk-label label {font-family: monospace;font-weight: bold;background-color: white;display: inline-block;line-height: 1.2em;}#sk-81b6bb9b-6f93-4195-900b-55d5f542e910 div.sk-label-container {position: relative;z-index: 2;text-align: center;}#sk-81b6bb9b-6f93-4195-900b-55d5f542e910 div.sk-container {display: inline-block;position: relative;}</style><div id=\"sk-81b6bb9b-6f93-4195-900b-55d5f542e910\" class\"sk-top-container\"><div class=\"sk-container\"><div class=\"sk-item sk-dashed-wrapped\"><div class=\"sk-label-container\"><div class=\"sk-label sk-toggleable\"><input class=\"sk-toggleable__control sk-hidden--visually\" id=\"03c00fdc-8ba0-486f-b533-185820655dce\" type=\"checkbox\" ><label class=\"sk-toggleable__label\" for=\"03c00fdc-8ba0-486f-b533-185820655dce\">ColumnTransformer</label><div class=\"sk-toggleable__content\"><pre>ColumnTransformer(transformers=[('pipeline-1',\n",
              "                                 Pipeline(steps=[('simpleimputer',\n",
              "                                                  SimpleImputer(strategy='median')),\n",
              "                                                 ('standardscaler',\n",
              "                                                  StandardScaler())]),\n",
              "                                 <sklearn.compose._column_transformer.make_column_selector object at 0x7f5a9bd26bd0>),\n",
              "                                ('pipeline-2',\n",
              "                                 Pipeline(steps=[('simpleimputer',\n",
              "                                                  SimpleImputer(fill_value='missing',\n",
              "                                                                strategy='constant')),\n",
              "                                                 ('onehotencoder',\n",
              "                                                  OneHotEncoder(handle_unknown='ignore'))]),\n",
              "                                 <sklearn.compose._column_transformer.make_column_selector object at 0x7f5a9bd26e90>)])</pre></div></div></div><div class=\"sk-parallel\"><div class=\"sk-parallel-item\"><div class=\"sk-item\"><div class=\"sk-label-container\"><div class=\"sk-label sk-toggleable\"><input class=\"sk-toggleable__control sk-hidden--visually\" id=\"3bf0a90e-c55c-46b7-8b60-3bd7dcc62d92\" type=\"checkbox\" ><label class=\"sk-toggleable__label\" for=\"3bf0a90e-c55c-46b7-8b60-3bd7dcc62d92\">pipeline-1</label><div class=\"sk-toggleable__content\"><pre><sklearn.compose._column_transformer.make_column_selector object at 0x7f5a9bd26bd0></pre></div></div></div><div class=\"sk-serial\"><div class=\"sk-item\"><div class=\"sk-serial\"><div class=\"sk-item\"><div class=\"sk-estimator sk-toggleable\"><input class=\"sk-toggleable__control sk-hidden--visually\" id=\"5ffc1719-ade2-4237-a5ef-847bebefbf19\" type=\"checkbox\" ><label class=\"sk-toggleable__label\" for=\"5ffc1719-ade2-4237-a5ef-847bebefbf19\">SimpleImputer</label><div class=\"sk-toggleable__content\"><pre>SimpleImputer(strategy='median')</pre></div></div></div><div class=\"sk-item\"><div class=\"sk-estimator sk-toggleable\"><input class=\"sk-toggleable__control sk-hidden--visually\" id=\"4cfdb6b5-ef34-4fdd-81e8-6a3a04495bcb\" type=\"checkbox\" ><label class=\"sk-toggleable__label\" for=\"4cfdb6b5-ef34-4fdd-81e8-6a3a04495bcb\">StandardScaler</label><div class=\"sk-toggleable__content\"><pre>StandardScaler()</pre></div></div></div></div></div></div></div></div><div class=\"sk-parallel-item\"><div class=\"sk-item\"><div class=\"sk-label-container\"><div class=\"sk-label sk-toggleable\"><input class=\"sk-toggleable__control sk-hidden--visually\" id=\"33f150b6-34e6-4f09-9374-b19c9e19aed9\" type=\"checkbox\" ><label class=\"sk-toggleable__label\" for=\"33f150b6-34e6-4f09-9374-b19c9e19aed9\">pipeline-2</label><div class=\"sk-toggleable__content\"><pre><sklearn.compose._column_transformer.make_column_selector object at 0x7f5a9bd26e90></pre></div></div></div><div class=\"sk-serial\"><div class=\"sk-item\"><div class=\"sk-serial\"><div class=\"sk-item\"><div class=\"sk-estimator sk-toggleable\"><input class=\"sk-toggleable__control sk-hidden--visually\" id=\"4af628ce-f2a5-4948-a89c-4f69499c5b4e\" type=\"checkbox\" ><label class=\"sk-toggleable__label\" for=\"4af628ce-f2a5-4948-a89c-4f69499c5b4e\">SimpleImputer</label><div class=\"sk-toggleable__content\"><pre>SimpleImputer(fill_value='missing', strategy='constant')</pre></div></div></div><div class=\"sk-item\"><div class=\"sk-estimator sk-toggleable\"><input class=\"sk-toggleable__control sk-hidden--visually\" id=\"489acc38-6db9-43de-877d-a41631d212fb\" type=\"checkbox\" ><label class=\"sk-toggleable__label\" for=\"489acc38-6db9-43de-877d-a41631d212fb\">OneHotEncoder</label><div class=\"sk-toggleable__content\"><pre>OneHotEncoder(handle_unknown='ignore')</pre></div></div></div></div></div></div></div></div></div></div></div></div>"
            ],
            "text/plain": [
              "ColumnTransformer(transformers=[('pipeline-1',\n",
              "                                 Pipeline(steps=[('simpleimputer',\n",
              "                                                  SimpleImputer(strategy='median')),\n",
              "                                                 ('standardscaler',\n",
              "                                                  StandardScaler())]),\n",
              "                                 <sklearn.compose._column_transformer.make_column_selector object at 0x7f5a9bd26bd0>),\n",
              "                                ('pipeline-2',\n",
              "                                 Pipeline(steps=[('simpleimputer',\n",
              "                                                  SimpleImputer(fill_value='missing',\n",
              "                                                                strategy='constant')),\n",
              "                                                 ('onehotencoder',\n",
              "                                                  OneHotEncoder(handle_unknown='ignore'))]),\n",
              "                                 <sklearn.compose._column_transformer.make_column_selector object at 0x7f5a9bd26e90>)])"
            ]
          },
          "metadata": {
            "tags": []
          },
          "execution_count": 7
        }
      ]
    },
    {
      "cell_type": "markdown",
      "metadata": {
        "id": "wlj85iTSIwji"
      },
      "source": [
        "<a name='x.1'></a>\n",
        "\n",
        "## 1.1 Neural Network Building Blocks\n",
        "\n",
        "[back to top](#top)"
      ]
    },
    {
      "cell_type": "markdown",
      "metadata": {
        "id": "b-5Mx4C8u5oy"
      },
      "source": [
        "<a name='x.1.1'></a>\n",
        "\n",
        "### 1.1.1 The Perceptron\n",
        "\n",
        "[back to top](#top)\n",
        "\n",
        "The simplest unit of a neural network is the perceptron. Given an input vector \\\\(x\\\\) and an output vector \\\\(y\\\\), we can illustrate this like so:\n",
        "\n",
        "<p align=center>\n",
        "<img src=\"https://raw.githubusercontent.com/wesleybeckner/general_applications_of_neural_networks/main/assets/mfOlDR6.png\"></img>\n",
        "</p>\n",
        "\n",
        "where \\\\(w\\\\) is a weight applied to \\\\(x\\\\) and \\\\(b\\\\) is an unweighted term that we call the <i>bias</i>. We include a bias so that the perceptron is not entirely dependent on the input data. A neural network _learns_ by updating \\\\(w\\\\) and \\\\(b\\\\) so that it can accurately model \\\\(x\\\\) to \\\\(y\\\\). When we write out the perceptron mathematically we get the following:\n",
        "\n",
        "$$ y = xw+b $$\n",
        "\n",
        "which should look familiar! This is our equation for a linear function. In fact, we will see that a neural network is essentially many instances of linear regression along side, and being fed into, one another. \n",
        "\n",
        "Often, we will have not an input feature vector \\\\(x\\\\) but an input feature matrix, \\\\(X\\\\). We can update our schematic for a perceptron to account for this:\n",
        "\n",
        "<p align=center>\n",
        "<img src=\"https://raw.githubusercontent.com/wesleybeckner/general_applications_of_neural_networks/main/assets/vyXSnlZ.png\"></img>\n",
        "</p>\n",
        "\n",
        "We can write the mathematical formula for this neuron as follows:\n",
        "\n",
        "$$ y =  x_2 w_2 + x_1 w_1 + x_0 w_0 + b $$\n",
        "\n",
        "In tensorflow/keras we can define this perceptron:"
      ]
    },
    {
      "cell_type": "code",
      "metadata": {
        "id": "QG0y0XItu_9J"
      },
      "source": [
        "from tensorflow import keras\n",
        "from tensorflow.keras import layers\n",
        "\n",
        "# Create a network with 1 linear unit\n",
        "model = keras.Sequential([\n",
        "    layers.Dense(units=1,  # number of units (the + filled circle above)\n",
        "                 input_shape=[3]) # number of x_ (the x filled circle above)\n",
        "])"
      ],
      "execution_count": null,
      "outputs": []
    },
    {
      "cell_type": "markdown",
      "metadata": {
        "id": "2REdlnhH1dHS"
      },
      "source": [
        "In order to build this single perceptron with keras, I had to use some additional language here: layers, dense, sequential. We'll explain what these are referring to in a moment. What I want to draw your attention to now, however, is that we tell `layers.Dense` that we want _1 unit_, the single perceptron, and `input_shape=[3]`, the number of features. Notice that `b` is automatically included without having it as a parameter. Just as we always have a y intercept in a linear model. \n",
        "\n",
        "After we introduce the other aspects of the neural network architecture, we will train a single perceptron model and compare it with a linear model, we will see that they are functionally no different."
      ]
    },
    {
      "cell_type": "markdown",
      "metadata": {
        "id": "hrtzdoY63JzU"
      },
      "source": [
        "### 🏋️ Exercise 1: Single Perceptron\n",
        "\n",
        "define a single perceptron that could be used to predict wine density from acidity. \n",
        "\n",
        "\n",
        "Inpsect the weights.\n",
        "\n",
        "Use the untrained model to predict y and plot this against true y"
      ]
    },
    {
      "cell_type": "code",
      "metadata": {
        "id": "NNTUB3NZ2v1v"
      },
      "source": [
        "# Code cell for exercise 1\n",
        "\n",
        "# DECLARE MODEL\n",
        "model = keras.Sequential([\n",
        "                          \n",
        "    ### YOUR CODE HERE ###    \n",
        "    \n",
        "])"
      ],
      "execution_count": null,
      "outputs": []
    },
    {
      "cell_type": "code",
      "metadata": {
        "id": "5yPd0JQ0yt2f",
        "colab": {
          "base_uri": "https://localhost:8080/"
        },
        "outputId": "74f92233-0f94-41f5-ec5d-003f9ea0cee1"
      },
      "source": [
        "model.weights"
      ],
      "execution_count": null,
      "outputs": [
        {
          "output_type": "execute_result",
          "data": {
            "text/plain": [
              "[<tf.Variable 'dense_2/kernel:0' shape=(1, 1) dtype=float32, numpy=array([[1.4809548]], dtype=float32)>,\n",
              " <tf.Variable 'dense_2/bias:0' shape=(1,) dtype=float32, numpy=array([0.], dtype=float32)>]"
            ]
          },
          "metadata": {
            "tags": []
          },
          "execution_count": 14
        }
      ]
    },
    {
      "cell_type": "markdown",
      "metadata": {
        "id": "Me3pIoaHFWA1"
      },
      "source": [
        "And now use the untrained model to predict `wine['density']` from `wine['fixed acidity']`"
      ]
    },
    {
      "cell_type": "code",
      "metadata": {
        "id": "EQYOBHnM3VM7",
        "colab": {
          "base_uri": "https://localhost:8080/",
          "height": 285
        },
        "outputId": "98d97d0f-9c69-4e41-af06-6aabd99fe8bc"
      },
      "source": [
        "# in the line below, use model.predict() and provide wine['fixed acidity'] as \n",
        "# the input data to predict what wine['density'] will be\n",
        "# y_pred = \n",
        "\n",
        "plt.plot(y_pred, wine['density'], ls='', marker='o', alpha=0.3)"
      ],
      "execution_count": null,
      "outputs": [
        {
          "output_type": "execute_result",
          "data": {
            "text/plain": [
              "[<matplotlib.lines.Line2D at 0x7f5a9269a890>]"
            ]
          },
          "metadata": {
            "tags": []
          },
          "execution_count": 17
        },
        {
          "output_type": "display_data",
          "data": {
            "image/png": "[encoded data removed]",
            "text/plain": [
              "<Figure size 432x288 with 1 Axes>"
            ]
          },
          "metadata": {
            "tags": []
          }
        }
      ]
    },
    {
      "cell_type": "markdown",
      "metadata": {
        "id": "062Czp9-rBOi"
      },
      "source": [
        "<a name='x.2'></a>\n",
        "\n",
        "## 1.2 Neural Network Architectures\n",
        "\n",
        "[back to top](#top)\n",
        "\n"
      ]
    },
    {
      "cell_type": "markdown",
      "metadata": {
        "id": "lPKG1QnNIq_l"
      },
      "source": [
        "<a name='x.2.1'></a>\n",
        "\n",
        "###1.2.1 Neural Network Layers\n",
        "\n",
        "[back to top](#top)\n",
        "\n",
        "Now that we have the idea of the most basic building block of a neural network, we will start to discuss the larger architecture. The reason we focused on the lowest building block, is that neural networks are _modular_. They are made up of instances of these perceptrons or neurons. neurons in parallel make up a _layer_\n",
        "\n",
        "<p align=center>\n",
        "<img src=\"https://raw.githubusercontent.com/wesleybeckner/general_applications_of_neural_networks/main/assets/2MA4iMV.png\"></img>\n",
        "</p>\n",
        "\n",
        "These layers feed into one another. When each node of a preceding layer is connected to every node of a following layer, we say they are _fully connected_ and the receiving layer is _a dense layer_. In a moment we will talk about input, output and hidden layers, for neural networks with three or more layers."
      ]
    },
    {
      "cell_type": "markdown",
      "metadata": {
        "id": "5QKiWYNwKAPE"
      },
      "source": [
        "<a name='x.2.2'></a>\n",
        "\n",
        "### 1.2.2 The Activation Function\n",
        "\n",
        "[back to top](#top)\n",
        "\n",
        "It turns out that stringing together a bunch of linear functions, will still result in overall linear relationships. We need a way to break out of this. A neat trick is introduced at the output of each neuron. The output passes through an _activation function_. There are a handful of different activation functions used in practice, the most common is known as the _rectifier_ function:\n",
        "\n",
        "$$ max(f(x), 0) $$\n",
        "\n",
        "and the resulting node can be schematically drawn like this:\n",
        "\n",
        "<p align=center>\n",
        "<img src=\"https://raw.githubusercontent.com/wesleybeckner/general_applications_of_neural_networks/main/assets/eFry7Yu.png\"></img>\n",
        "</p>\n",
        "\n",
        "with the inset of the summation node indicating that at a minimum the resultant y value is 0."
      ]
    },
    {
      "cell_type": "markdown",
      "metadata": {
        "id": "r6J9H0lAGLaD"
      },
      "source": [
        "#### 🏋️ Exercise 2: The Rectifier Function\n",
        "\n",
        "Write a function called `my_perceptron` that takes x, a length 2 array, as an input. Have your function return the maximum of \\\\((0, w*x + b)\\\\) where w is a length 2 weight vector."
      ]
    },
    {
      "cell_type": "code",
      "metadata": {
        "id": "Ukr1k7ZGGrD_"
      },
      "source": [
        "# Code cell for exercise 2\n",
        "def my_perceptron(x):\n",
        "  \"\"\"\n",
        "  a simple 2 input feature perceptron with predefined weights, intercept, and \n",
        "  a rectifier activation function\n",
        "\n",
        "  Parameters\n",
        "  ----------\n",
        "  x: array\n",
        "    the input array of length 2\n",
        "\n",
        "  Returns\n",
        "  -------\n",
        "  rect: int\n",
        "    the rectified output of the perceptron\n",
        "  \"\"\"\n",
        "\n",
        "  # # define b, w, and y (y=mx+b)\n",
        "  # w = \n",
        "  # b = \n",
        "  # y = \n",
        "\n",
        "  # # return the max of 0 and y\n",
        "  # rect = \n",
        "  return rect"
      ],
      "execution_count": null,
      "outputs": []
    },
    {
      "cell_type": "markdown",
      "metadata": {
        "id": "99EI6eYzIRBA"
      },
      "source": [
        "After you write your function make sure it returns 0 when the output of the linear component is negative."
      ]
    },
    {
      "cell_type": "code",
      "metadata": {
        "id": "5yyXqBSIG-wO"
      },
      "source": [
        "def test_zero_output():\n",
        "  x = np.array([-10,-10]) # 10 * 1 + (-10) * 2 + 1 = -11\n",
        "  assert my_perceptron(x) == 0, \"The output is not zero when it should be!\""
      ],
      "execution_count": null,
      "outputs": []
    },
    {
      "cell_type": "code",
      "metadata": {
        "id": "8OsS4iRTIu1u",
        "colab": {
          "base_uri": "https://localhost:8080/"
        },
        "outputId": "b6b037f4-6f41-4dec-9aad-4159d1ab4b62"
      },
      "source": [
        "test_zero_output()\n",
        "print(\"test passing\")"
      ],
      "execution_count": null,
      "outputs": [
        {
          "output_type": "stream",
          "text": [
            "test passing\n"
          ],
          "name": "stdout"
        }
      ]
    },
    {
      "cell_type": "markdown",
      "metadata": {
        "id": "lJJG5cakL9bT"
      },
      "source": [
        "<a name='x.2.3'></a>\n",
        "\n",
        "### 1.2.3 Stacking Layers\n",
        "\n",
        "[back to top](#top)\n",
        "\n",
        "When we stack many layers together, we create what are traditionally regarded as neural networks. the first and last layers are called the _input_ and _output_ layers, while the inbetween layers are referred to as _hidden_ layers, since their outputs are not directly seen. Tradditionally, a neural network with three or more hidden layers is referred to as a _deep_ neural network.\n",
        "\n",
        "<p align=center>\n",
        "<img src=\"https://raw.githubusercontent.com/wesleybeckner/general_applications_of_neural_networks/main/assets/Y5iwFQZ.png\"></img>\n",
        "</p>\n",
        "\n",
        "Notice that in this schematic, the last node does not have an activation function. This is typical of a regression task. In a classification task, we might require an activation function here."
      ]
    },
    {
      "cell_type": "markdown",
      "metadata": {
        "id": "p6-UHfSQ3oVc"
      },
      "source": [
        "<a name='x.2.2'></a>\n",
        "\n",
        "### 1.2.4 Building Sequential Neural Networks\n",
        "\n",
        "[back to top](#top)\n",
        "\n",
        "Now that we have the essential components of a neural network architecture, we can enter into the domain of overall naming conventions for architecure types. The classic neural network architecture is a _feed forward_ neural network, where every preceding layer feeds into the next layer. We will practice building that with keras."
      ]
    },
    {
      "cell_type": "markdown",
      "metadata": {
        "id": "V90sK92mNcNL"
      },
      "source": [
        "### 🏋️ Exercise 3: Building Sequential Layers\n",
        "\n",
        "In the cell bellow, use keras to build a 3-layer network with `activation='relu'` and 512 units. Create the output layer so that it can predict 1 continuous value."
      ]
    },
    {
      "cell_type": "code",
      "metadata": {
        "id": "-wTgl7X0NkQp"
      },
      "source": [
        "# Code cell for exercise 3\n",
        "\n",
        "# DECLARE THE MODEL\n",
        "\n",
        "model = keras.Sequential([\n",
        "                          \n",
        "    ### YOUR CODE HERE ###\n",
        "\n",
        "    # the hidden ReLU layers\n",
        "\n",
        "    # the linear output layer \n",
        "    \n",
        "])"
      ],
      "execution_count": null,
      "outputs": []
    },
    {
      "cell_type": "markdown",
      "metadata": {
        "id": "ppKeNDLlRLYT"
      },
      "source": [
        "### 🏋️ Exercise 4: Other Activation Functions\n",
        "\n",
        "There are other activation functions we can use after the summation in a neural node. Use the code below to plot and inspect them!\n",
        "\n",
        "Pick one and do a quick google search on what that activation function's best use case is."
      ]
    },
    {
      "cell_type": "code",
      "metadata": {
        "id": "j0DzJmfKRCbv",
        "colab": {
          "base_uri": "https://localhost:8080/",
          "height": 285
        },
        "outputId": "3745962f-c5b4-4670-f8ca-8096fc64bdad"
      },
      "source": [
        "# Code cell for exercise 4\n",
        "\n",
        "import tensorflow as tf\n",
        "\n",
        "# YOUR CODE HERE: Change 'relu' to 'elu', 'selu', 'swish'... or something else\n",
        "activation_layer = layers.Activation('relu')\n",
        "\n",
        "x = tf.linspace(-3.0, 3.0, 100)\n",
        "y = activation_layer(x) # once created, a layer is callable just like a function\n",
        "\n",
        "plt.plot(x, y)\n",
        "plt.xlim(-3, 3)\n",
        "plt.xlabel(\"Input\")\n",
        "plt.ylabel(\"Output\")\n",
        "plt.show()"
      ],
      "execution_count": null,
      "outputs": [
        {
          "output_type": "display_data",
          "data": {
            "image/png": "[encoded data removed]",
            "text/plain": [
              "<Figure size 432x288 with 1 Axes>"
            ]
          },
          "metadata": {
            "tags": []
          }
        }
      ]
    },
    {
      "cell_type": "markdown",
      "metadata": {
        "id": "XOQGi08Gur_g"
      },
      "source": [
        "<a name='x.3'></a>\n",
        "\n",
        "## 1.3 Neural Network Training\n",
        "\n",
        "[back to top](#top)\n",
        "\n",
        "We've defined neural network architectures, now how do we train them? There are two main concepts here: the _loss function_ which we've encountered before, and the _optimizer_ the means by which we improve the loss function"
      ]
    },
    {
      "cell_type": "markdown",
      "metadata": {
        "id": "ERUFHizHT-n9"
      },
      "source": [
        "<a name='x.3.1'></a>\n",
        "\n",
        "### 1.3.1 The Loss Function\n",
        "\n",
        "[back to top](#top)\n",
        "\n",
        "In previous sessions, we've envountered MSE:\n",
        "\n",
        "$$ MSE = \\frac{1}{N}\\sum{(y-\\hat{y})^2}$$\n",
        "\n",
        "<p align=center>\n",
        "<img src=\"https://cdn.corporatefinanceinstitute.com/assets/Sum-of-Squares-1024x712.png\" width=400></img>\n",
        "</p>\n",
        "\n",
        "Another common loss for neural networks is the mean absolute error (MAE):\n",
        "\n",
        "$$ MAE = \\frac{1}{N}\\sum{|y-\\hat{y}|}$$\n",
        "\n",
        "<p align=center>\n",
        "<img src=\"https://cdn-media-1.freecodecamp.org/images/MNskFmGPKuQfMLdmpkT-X7-8w2cJXulP3683\" width=400></img>\n",
        "</p>\n",
        "\n",
        "In anycase, the loss function describes the difference between the actual and predicted output of the model. The important thing to note, is that the weights in the neural network are systematically updated according to this loss function, they do this via an optimization algorithm."
      ]
    },
    {
      "cell_type": "markdown",
      "metadata": {
        "id": "4zE9cBS3nrSH"
      },
      "source": [
        "<a name='x.3.2'></a>\n",
        "\n",
        "### 1.3.2 The Optimizer\n",
        "\n",
        "[back to top](#top)\n",
        "\n",
        "In order to update the neural network weights to improve the loss function, we require an algorithm. Virtually all available algorithms for this purpose fall within the family of _stochastic gradient descent_. This works essentially in these iterative steps:\n",
        "\n",
        "1. a subsample of the input data is passed through the network \n",
        "2. a loss is computed\n",
        "2. the weights are adjusted in a direction to improve the loss\n",
        "\n",
        "> The key here is in step 3. The brilliance of neural networks, is that the loss function is differentiable with respect to the weights in the network, and so the change in loss can be ascribed to certain weight changes. We refer to this as _assigning blame_ in the network, and it works through the mathematical _chain rule_ of differentiation. We won't go into great detail here, other than to make a nod to it, and that this algorithm (step 3) is referred to as _back propagation_. \n",
        "\n",
        "The three step process is repeated until a stop criteria is reached, the simplest being the loss stops improving above some threshold or a desired loss is achieved. \n",
        "\n",
        "<p align=center>\n",
        "<img src=\"https://raw.githubusercontent.com/wesleybeckner/general_applications_of_neural_networks/main/assets/rFI1tIk.gif\"></img>\n",
        "</p>\n",
        "\n",
        "In the above animation, the black line represents the output of the model, the red dots make up a _minibatch_ or simply a _batch_ while the opaque red dots represent the whole training dataset. Exposing the model to an entire round of the training data is referred to as an _epoch_. The training loss improves with additional rounds of trianing (middle panel) and the weights are adjusted to update the model (right panel).\n"
      ]
    },
    {
      "cell_type": "markdown",
      "metadata": {
        "id": "qvWwYKtFmt-Q"
      },
      "source": [
        "### 1.3.3 Batches and Epochs\n",
        "\n",
        "An epoch is the number of times the model will see the entire training set\n",
        "\n",
        "A batch is the number of training samples the model will run before calculating a total error and updating its internal parameters. \n",
        "\n",
        "Variability of batch (from 1 sample all the way to the entire training set size) leads to different categorizations of the optimizer algorithm:\n",
        "\n",
        "* Batch Gradient Descent. Batch Size = Size of Training Set\n",
        "* Stochastic Gradient Descent. Batch Size = 1\n",
        "* Mini-Batch Gradient Descent. 1 < Batch Size < Size of Training Set\n",
        "\n",
        "We will visit additional details about batch and epochs in the next session when we discuss model evaluation."
      ]
    },
    {
      "cell_type": "markdown",
      "metadata": {
        "id": "lVd1TMcerkaJ"
      },
      "source": [
        "<a name='x.3.3'></a>\n",
        "\n",
        "### 1.3.4 Learning Rate\n",
        "\n",
        "[back to top](#top)\n",
        "\n",
        "notice how in the above animation the model makes progressive steps toward a global optimum. The size of these steps is determined by the _learning rate_. You can think of it as the amount of improvement to make in the direction of steepest descent (the derivative of the loss function in regards to the changes in weights). Sometimes a large step size can result in stepping over crevices in the solution surface and getting stuck, while too small of step sizes can lead to a slow algorithm. Often the optimum learning rate is not obvious, luckily there are some optimizers that are self-calibrating in this regard. _Adam_ is one such optimizer available to us in keras. "
      ]
    },
    {
      "cell_type": "code",
      "metadata": {
        "id": "RxBq2QfwuFyh"
      },
      "source": [
        "# we can compile the model like so\n",
        "model.compile(\n",
        "    optimizer=\"adam\",\n",
        "    loss=\"mae\",\n",
        ")"
      ],
      "execution_count": null,
      "outputs": []
    },
    {
      "cell_type": "markdown",
      "metadata": {
        "id": "2p4qhOHy4BCP"
      },
      "source": [
        "### 🏋️ Exercise 5.1: Train your first Neural Networks\n",
        "\n",
        "[back to top](#top)\n",
        "\n",
        "We're going to train our first neural network.\n",
        "\n",
        "Take the model you created in exercise 3 and paste it in the cell below. Make sure that the `input_shape` of the first layer matches the number of features in `X_train_std`"
      ]
    },
    {
      "cell_type": "code",
      "metadata": {
        "colab": {
          "base_uri": "https://localhost:8080/"
        },
        "id": "qR725Pij03OC",
        "outputId": "9016b8ef-b167-41a0-8a74-e7288e39c5f3"
      },
      "source": [
        "X_train_std.shape[1]"
      ],
      "execution_count": null,
      "outputs": [
        {
          "output_type": "execute_result",
          "data": {
            "text/plain": [
              "13"
            ]
          },
          "metadata": {
            "tags": []
          },
          "execution_count": 27
        }
      ]
    },
    {
      "cell_type": "code",
      "metadata": {
        "id": "spB1UMIMuFOv"
      },
      "source": [
        "# Code cell for exercise 5\n",
        "\n",
        "# DECLARE THE MODEL\n",
        "\n",
        "model = keras.Sequential([\n",
        "                          \n",
        "    ### YOUR CODE HERE ###\n",
        "\n",
        "    # the hidden ReLU layers\n",
        "\n",
        "    # the linear output layer \n",
        "    \n",
        "])"
      ],
      "execution_count": null,
      "outputs": []
    },
    {
      "cell_type": "markdown",
      "metadata": {
        "id": "zZovXZPLdkSO"
      },
      "source": [
        "Now we'll compile the model"
      ]
    },
    {
      "cell_type": "code",
      "metadata": {
        "id": "GU5e8QlfDm2v"
      },
      "source": [
        "model.compile(\n",
        "    optimizer='adam',\n",
        "    loss='mse',\n",
        ")"
      ],
      "execution_count": null,
      "outputs": []
    },
    {
      "cell_type": "markdown",
      "metadata": {
        "id": "4yYit0rRdmYr"
      },
      "source": [
        "And then train for 10 epochs"
      ]
    },
    {
      "cell_type": "code",
      "metadata": {
        "colab": {
          "base_uri": "https://localhost:8080/"
        },
        "id": "TjHiz9bBDovQ",
        "outputId": "af36fce5-9b1f-4dee-ac4c-9acc2cca182f"
      },
      "source": [
        "history = model.fit(\n",
        "    X_train_std, y_train_std,\n",
        "    validation_data=(X_val_std, y_val_std),\n",
        "    batch_size=256,\n",
        "    epochs=10,\n",
        ")"
      ],
      "execution_count": null,
      "outputs": [
        {
          "output_type": "stream",
          "text": [
            "Epoch 1/10\n",
            "15/15 [==============================] - 1s 33ms/step - loss: 0.6389 - val_loss: 0.1925\n",
            "Epoch 2/10\n",
            "15/15 [==============================] - 0s 22ms/step - loss: 0.1330 - val_loss: 0.1054\n",
            "Epoch 3/10\n",
            "15/15 [==============================] - 0s 22ms/step - loss: 0.0739 - val_loss: 0.0587\n",
            "Epoch 4/10\n",
            "15/15 [==============================] - 0s 23ms/step - loss: 0.0442 - val_loss: 0.0378\n",
            "Epoch 5/10\n",
            "15/15 [==============================] - 0s 22ms/step - loss: 0.0266 - val_loss: 0.0283\n",
            "Epoch 6/10\n",
            "15/15 [==============================] - 0s 23ms/step - loss: 0.0193 - val_loss: 0.0233\n",
            "Epoch 7/10\n",
            "15/15 [==============================] - 0s 23ms/step - loss: 0.0165 - val_loss: 0.0212\n",
            "Epoch 8/10\n",
            "15/15 [==============================] - 0s 22ms/step - loss: 0.0151 - val_loss: 0.0204\n",
            "Epoch 9/10\n",
            "15/15 [==============================] - 0s 22ms/step - loss: 0.0144 - val_loss: 0.0199\n",
            "Epoch 10/10\n",
            "15/15 [==============================] - 0s 23ms/step - loss: 0.0140 - val_loss: 0.0194\n"
          ],
          "name": "stdout"
        }
      ]
    },
    {
      "cell_type": "markdown",
      "metadata": {
        "id": "zJhdp8txeRGv"
      },
      "source": [
        "Let's take a look at our training history:"
      ]
    },
    {
      "cell_type": "code",
      "metadata": {
        "colab": {
          "base_uri": "https://localhost:8080/",
          "height": 361
        },
        "id": "c8w_bgj012Yl",
        "outputId": "19a98e54-0b6e-4220-d222-a356f370d4c8"
      },
      "source": [
        "pd.DataFrame(history.history)"
      ],
      "execution_count": null,
      "outputs": [
        {
          "output_type": "execute_result",
          "data": {
            "text/html": [
              "<div>\n",
              "<style scoped>\n",
              "    .dataframe tbody tr th:only-of-type {\n",
              "        vertical-align: middle;\n",
              "    }\n",
              "\n",
              "    .dataframe tbody tr th {\n",
              "        vertical-align: top;\n",
              "    }\n",
              "\n",
              "    .dataframe thead th {\n",
              "        text-align: right;\n",
              "    }\n",
              "</style>\n",
              "<table border=\"1\" class=\"dataframe\">\n",
              "  <thead>\n",
              "    <tr style=\"text-align: right;\">\n",
              "      <th></th>\n",
              "      <th>loss</th>\n",
              "      <th>val_loss</th>\n",
              "    </tr>\n",
              "  </thead>\n",
              "  <tbody>\n",
              "    <tr>\n",
              "      <th>0</th>\n",
              "      <td>0.638868</td>\n",
              "      <td>0.192506</td>\n",
              "    </tr>\n",
              "    <tr>\n",
              "      <th>1</th>\n",
              "      <td>0.133038</td>\n",
              "      <td>0.105378</td>\n",
              "    </tr>\n",
              "    <tr>\n",
              "      <th>2</th>\n",
              "      <td>0.073934</td>\n",
              "      <td>0.058686</td>\n",
              "    </tr>\n",
              "    <tr>\n",
              "      <th>3</th>\n",
              "      <td>0.044192</td>\n",
              "      <td>0.037832</td>\n",
              "    </tr>\n",
              "    <tr>\n",
              "      <th>4</th>\n",
              "      <td>0.026648</td>\n",
              "      <td>0.028253</td>\n",
              "    </tr>\n",
              "    <tr>\n",
              "      <th>5</th>\n",
              "      <td>0.019265</td>\n",
              "      <td>0.023272</td>\n",
              "    </tr>\n",
              "    <tr>\n",
              "      <th>6</th>\n",
              "      <td>0.016508</td>\n",
              "      <td>0.021151</td>\n",
              "    </tr>\n",
              "    <tr>\n",
              "      <th>7</th>\n",
              "      <td>0.015126</td>\n",
              "      <td>0.020368</td>\n",
              "    </tr>\n",
              "    <tr>\n",
              "      <th>8</th>\n",
              "      <td>0.014371</td>\n",
              "      <td>0.019929</td>\n",
              "    </tr>\n",
              "    <tr>\n",
              "      <th>9</th>\n",
              "      <td>0.014009</td>\n",
              "      <td>0.019429</td>\n",
              "    </tr>\n",
              "  </tbody>\n",
              "</table>\n",
              "</div>"
            ],
            "text/plain": [
              "       loss  val_loss\n",
              "0  0.638868  0.192506\n",
              "1  0.133038  0.105378\n",
              "2  0.073934  0.058686\n",
              "3  0.044192  0.037832\n",
              "4  0.026648  0.028253\n",
              "5  0.019265  0.023272\n",
              "6  0.016508  0.021151\n",
              "7  0.015126  0.020368\n",
              "8  0.014371  0.019929\n",
              "9  0.014009  0.019429"
            ]
          },
          "metadata": {
            "tags": []
          },
          "execution_count": 35
        }
      ]
    },
    {
      "cell_type": "code",
      "metadata": {
        "colab": {
          "base_uri": "https://localhost:8080/",
          "height": 343
        },
        "id": "1faQNrIeEFt4",
        "outputId": "beb26c05-60e9-499e-9f80-0bb3381510a1"
      },
      "source": [
        "# convert the training history to a dataframe\n",
        "history_df = pd.DataFrame(history.history)\n",
        "# use Pandas native plot method\n",
        "fig, ax = plt.subplots(figsize=(10,5))\n",
        "history_df['loss'].plot(ax=ax)\n",
        "history_df['val_loss'].plot(ax=ax)\n",
        "ax.set_ylim(0,.05)"
      ],
      "execution_count": null,
      "outputs": [
        {
          "output_type": "execute_result",
          "data": {
            "text/plain": [
              "(0.0, 0.05)"
            ]
          },
          "metadata": {
            "tags": []
          },
          "execution_count": 36
        },
        {
          "output_type": "display_data",
          "data": {
            "image/png": "[encoded data removed]",
            "text/plain": [
              "<Figure size 720x360 with 1 Axes>"
            ]
          },
          "metadata": {
            "tags": []
          }
        }
      ]
    },
    {
      "cell_type": "markdown",
      "metadata": {
        "id": "UQK8JOo9Y1ch"
      },
      "source": [
        "### 🏋️ Exercise 5.2: Improve loss by varying nodes and hidden layers\n",
        "\n",
        "Take your former model as a starting point and now either add nodes or layers to see if the model improves"
      ]
    },
    {
      "cell_type": "code",
      "metadata": {
        "colab": {
          "base_uri": "https://localhost:8080/"
        },
        "id": "3Jq3LsRsX_hG",
        "outputId": "88df2ba4-b509-42fa-ad08-42db20c18254"
      },
      "source": [
        "model = keras.Sequential([\n",
        "    ### YOUR CODE HERE ###\n",
        "    \n",
        "])\n",
        "\n",
        "model.compile(\n",
        "    optimizer='adam',\n",
        "    loss='mse',\n",
        ")\n",
        "\n",
        "history = model.fit(\n",
        "    X_train_std, y_train_std,\n",
        "    validation_data=(X_val_std, y_val_std),\n",
        "    batch_size=256,\n",
        "    epochs=10,\n",
        ")"
      ],
      "execution_count": null,
      "outputs": [
        {
          "output_type": "stream",
          "text": [
            "Epoch 1/10\n",
            "15/15 [==============================] - 1s 11ms/step - loss: 3.0090 - val_loss: 1.9299\n",
            "Epoch 2/10\n",
            "15/15 [==============================] - 0s 4ms/step - loss: 1.3536 - val_loss: 0.7737\n",
            "Epoch 3/10\n",
            "15/15 [==============================] - 0s 3ms/step - loss: 0.4739 - val_loss: 0.2300\n",
            "Epoch 4/10\n",
            "15/15 [==============================] - 0s 4ms/step - loss: 0.1334 - val_loss: 0.0781\n",
            "Epoch 5/10\n",
            "15/15 [==============================] - 0s 4ms/step - loss: 0.0592 - val_loss: 0.0471\n",
            "Epoch 6/10\n",
            "15/15 [==============================] - 0s 4ms/step - loss: 0.0402 - val_loss: 0.0354\n",
            "Epoch 7/10\n",
            "15/15 [==============================] - 0s 3ms/step - loss: 0.0335 - val_loss: 0.0325\n",
            "Epoch 8/10\n",
            "15/15 [==============================] - 0s 4ms/step - loss: 0.0311 - val_loss: 0.0305\n",
            "Epoch 9/10\n",
            "15/15 [==============================] - 0s 3ms/step - loss: 0.0291 - val_loss: 0.0288\n",
            "Epoch 10/10\n",
            "15/15 [==============================] - 0s 3ms/step - loss: 0.0274 - val_loss: 0.0271\n"
          ],
          "name": "stdout"
        }
      ]
    },
    {
      "cell_type": "code",
      "metadata": {
        "colab": {
          "base_uri": "https://localhost:8080/",
          "height": 285
        },
        "id": "G4kGMGOcZF7S",
        "outputId": "e2276665-1c6f-40e3-a7b4-e20287946df9"
      },
      "source": [
        "y_pred = model.predict(X_test_std)\n",
        "plt.plot(np.exp(y_test_std), np.exp(y_pred), ls='', marker='o')"
      ],
      "execution_count": null,
      "outputs": [
        {
          "output_type": "execute_result",
          "data": {
            "text/plain": [
              "[<matplotlib.lines.Line2D at 0x7f5d26303e10>]"
            ]
          },
          "metadata": {
            "tags": []
          },
          "execution_count": 18
        },
        {
          "output_type": "display_data",
          "data": {
            "image/png": "[encoded data removed]",
            "text/plain": [
              "<Figure size 432x288 with 1 Axes>"
            ]
          },
          "metadata": {
            "tags": []
          }
        }
      ]
    },
    {
      "cell_type": "markdown",
      "metadata": {
        "id": "FsUB7TTLZpS-"
      },
      "source": [
        "### 🏋️ Exercise 5.3: Learning Curves\n",
        "\n",
        "Using 4 hidden layers now create 4 models that run for 30 epochs each:\n",
        "\n",
        "1. Vary the number of nodes in each layer\n",
        "2. Record the train/val/test score (MSE)\n",
        "3. Plot either total nodes or total trainable parameters vs score for each of the 5 models"
      ]
    },
    {
      "cell_type": "code",
      "metadata": {
        "colab": {
          "base_uri": "https://localhost:8080/",
          "height": 174
        },
        "id": "GXwT2c257NOM",
        "outputId": "fb190039-a812-4916-bde2-40d05abccfe4"
      },
      "source": [
        "# Code Cell for Exercise 1.3.5"
      ],
      "execution_count": null,
      "outputs": [
        {
          "output_type": "execute_result",
          "data": {
            "text/html": [
              "<div>\n",
              "<style scoped>\n",
              "    .dataframe tbody tr th:only-of-type {\n",
              "        vertical-align: middle;\n",
              "    }\n",
              "\n",
              "    .dataframe tbody tr th {\n",
              "        vertical-align: top;\n",
              "    }\n",
              "\n",
              "    .dataframe thead th {\n",
              "        text-align: right;\n",
              "    }\n",
              "</style>\n",
              "<table border=\"1\" class=\"dataframe\">\n",
              "  <thead>\n",
              "    <tr style=\"text-align: right;\">\n",
              "      <th></th>\n",
              "      <th>tot. units</th>\n",
              "      <th>test mse</th>\n",
              "      <th>val mse</th>\n",
              "      <th>train mse</th>\n",
              "    </tr>\n",
              "  </thead>\n",
              "  <tbody>\n",
              "    <tr>\n",
              "      <th>0</th>\n",
              "      <td>4</td>\n",
              "      <td>0.030658</td>\n",
              "      <td>0.030919</td>\n",
              "      <td>0.031088</td>\n",
              "    </tr>\n",
              "    <tr>\n",
              "      <th>1</th>\n",
              "      <td>25</td>\n",
              "      <td>0.020217</td>\n",
              "      <td>0.020164</td>\n",
              "      <td>0.019062</td>\n",
              "    </tr>\n",
              "    <tr>\n",
              "      <th>2</th>\n",
              "      <td>100</td>\n",
              "      <td>0.017429</td>\n",
              "      <td>0.018110</td>\n",
              "      <td>0.017416</td>\n",
              "    </tr>\n",
              "    <tr>\n",
              "      <th>3</th>\n",
              "      <td>289</td>\n",
              "      <td>0.019124</td>\n",
              "      <td>0.019371</td>\n",
              "      <td>0.018190</td>\n",
              "    </tr>\n",
              "  </tbody>\n",
              "</table>\n",
              "</div>"
            ],
            "text/plain": [
              "   tot. units  test mse   val mse  train mse\n",
              "0           4  0.030658  0.030919   0.031088\n",
              "1          25  0.020217  0.020164   0.019062\n",
              "2         100  0.017429  0.018110   0.017416\n",
              "3         289  0.019124  0.019371   0.018190"
            ]
          },
          "metadata": {
            "tags": []
          },
          "execution_count": 82
        }
      ]
    },
    {
      "cell_type": "markdown",
      "metadata": {
        "id": "EHJ1vrnFexQ8"
      },
      "source": [
        "When we look at our historical loss do we notice that sometimes before the last epoch we actually hit a minimum? We'll discuss how to deal with this in the next session!"
      ]
    }
  ]
}