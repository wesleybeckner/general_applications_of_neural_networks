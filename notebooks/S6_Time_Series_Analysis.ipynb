{
 "cells": [
  {
   "cell_type": "markdown",
   "metadata": {
    "id": "vhe1yX4AMckE"
   },
   "source": [
    "# General Applications of Neural Networks <br> Session 6: Recurrent Neural Networks and Time Series Analysis\n",
    "\n",
    "**Instructor**: Wesley Beckner\n",
    "\n",
    "**Contact**: wesleybeckner@gmail.com\n",
    "\n",
    "---\n",
    "\n",
    "<br>\n",
    "\n",
    "In this session, we'll be exploring NN as they apply to sequenced data, specifically time series data.\n",
    "\n",
    "<br>\n",
    "\n",
    "---\n",
    "\n",
    "<br>\n",
    "\n",
    "<a name='top'></a>"
   ]
  },
  {
   "cell_type": "markdown",
   "metadata": {
    "id": "mNtJitcRW51Y"
   },
   "source": [
    "<a name='x.0'></a>\n",
    "\n",
    "## 6.0 Preparing Environment and Importing Data\n",
    "\n",
    "[back to top](#top)"
   ]
  },
  {
   "cell_type": "markdown",
   "metadata": {
    "id": "chdcBoBL8SNm"
   },
   "source": [
    "<a name='x.0.1'></a>\n",
    "\n",
    "### 6.0.1 Import Packages\n",
    "\n",
    "[back to top](#top)"
   ]
  },
  {
   "cell_type": "code",
   "execution_count": 1,
   "metadata": {
    "colab": {
     "base_uri": "https://localhost:8080/"
    },
    "executionInfo": {
     "elapsed": 2315,
     "status": "ok",
     "timestamp": 1645668354288,
     "user": {
      "displayName": "Wesley Beckner",
      "photoUrl": "https://lh3.googleusercontent.com/a-/AOh14GjSrSNC5ljFK1tVytNJhengi6L9T_zjAvSSfuo3ug=s64",
      "userId": "17051665784581118920"
     },
     "user_tz": 480
    },
    "id": "dwdIW99JRl-1",
    "outputId": "2181af42-7059-49e4-ac19-50a7a3bb8afd"
   },
   "outputs": [],
   "source": [
    "import pandas as pd\n",
    "import numpy as np\n",
    "import seaborn as sns\n",
    "import matplotlib.pyplot as plt\n",
    "import plotly.express as px\n",
    "import random\n",
    "from scipy.stats import gamma, norm, expon\n",
    "from ipywidgets import interact\n",
    "from statsmodels.tsa.stattools import pacf, acf\n",
    "from sklearn.metrics import mean_squared_error\n",
    "\n",
    "def melt_results(model, X, y, window_size):\n",
    "  y_pred = model.predict(X)\n",
    "  results = pd.DataFrame(y_pred, y)\n",
    "  results = results.reset_index()\n",
    "  results.index = orders.loc[0, time_cols].index[window_size:]\n",
    "  results = results.reset_index()\n",
    "  results.columns=['Date', 'real', 'predicted']\n",
    "  results = results.melt(id_vars='Date', var_name='Source', value_name='KG')\n",
    "  return results\n",
    "\n",
    "def process_data(Xy, window=3, time_cols=12, remove_null=False):\n",
    "  \"\"\"\n",
    "  This function splits your time series data into the proper windows\n",
    "\n",
    "  Parameters\n",
    "  ----------\n",
    "  Xy: array\n",
    "    The input data. If there are non-time series columns, assumes they are on\n",
    "    the left and time columns are on the right. \n",
    "  time_cols: int\n",
    "    The number of time columns, default 12\n",
    "  window: int\n",
    "    The time window size, default 3\n",
    "\n",
    "  Returns\n",
    "  -------\n",
    "  X_: array\n",
    "    The independent variables, includes time and non-time series columns with\n",
    "    the new window\n",
    "  y_: array\n",
    "    The dependent variable, selected from the time columns at the end of the \n",
    "    window\n",
    "  labels:\n",
    "    The time series labels, can be used in subsequent plot\n",
    "  \"\"\"\n",
    "  # separate the non-time series columns\n",
    "  X_cat = Xy[:,:-time_cols]\n",
    "\n",
    "  # select the columns to apply the sweeping window\n",
    "  X = Xy[:,-time_cols:]\n",
    "\n",
    "  X_ = []\n",
    "  y = []\n",
    "\n",
    "  for i in range(X.shape[1]-window):\n",
    "    # after attaching the current window to the non-time series \n",
    "    # columns, add it to a growing list\n",
    "    X_.append(np.concatenate((X_cat, X[:, i:i+window]), axis=1))\n",
    "\n",
    "    # add the next time delta after the window to the list of y\n",
    "    # values\n",
    "    y.append(X[:, i+window])\n",
    "\n",
    "  # X_ is 3D: [number of replicates from sweeping window,\n",
    "  #           length of input data, \n",
    "  #           size of new feature with categories and time]\n",
    "  # we want to reshape X_ so that the replicates due to the sweeping window is \n",
    "  # a part of the same dimension as the instances of the input data\n",
    "  X_ = np.array(X_).reshape(X.shape[0]*np.array(X_).shape[0],window+X_cat.shape[1])\n",
    "  y = np.array(y).reshape(X.shape[0]*np.array(y).shape[0],)\n",
    "\n",
    "  if remove_null:\n",
    "    # remove training data where the target is 0 (may be unfair advantage)\n",
    "    X_ = X_[np.where(~np.isnan(y.astype(float)))[0]]\n",
    "    y = y[np.where(~np.isnan(y.astype(float)))[0]]\n",
    "\n",
    "  # create labels that show the previous month values used to train the model\n",
    "  labels = []\n",
    "  for row in X_:\n",
    "    labels.append(\"X: {}\".format(np.array2string(row[-window:].astype(float).round())))\n",
    "  return X_, y, labels\n",
    "\n",
    "def train_test_process(data, train_test_val_ratios = [0.6, 0.8], window_size=3):\n",
    "  # get the indices at the associated ratios\n",
    "  idx_split1 = int(data.shape[1]*train_test_val_ratios[0])\n",
    "  idx_split2 = int(data.shape[1]*train_test_val_ratios[1])\n",
    "\n",
    "  # index the data to build the sets\n",
    "  data_train = data[:,:idx_split1]\n",
    "  data_val = data[:,idx_split1:idx_split2]\n",
    "  data_test = data[:,idx_split2:]\n",
    "\n",
    "  # build out the training sets with the sweeping window method\n",
    "  X_train, y_train, labels = process_data(data_train, window=window_size, time_cols=132)\n",
    "  X_val, y_val, labels = process_data(data_val, window=window_size, time_cols=132)\n",
    "  X_test, y_test, labels = process_data(data_test, window=window_size, time_cols=132)\n",
    "\n",
    "  print(\"train size: {}\".format(X_train.shape[0]))\n",
    "  print(\"val size: {}\".format(X_val.shape[0]))\n",
    "  print(\"test size: {}\".format(X_test.shape[0]), end='\\n\\n')\n",
    "\n",
    "  return X_train, y_train, X_val, y_val, X_test, y_test"
   ]
  },
  {
   "cell_type": "markdown",
   "metadata": {
    "id": "R7vDY-8U8SWd"
   },
   "source": [
    "<a name='x.0.2'></a>\n",
    "\n",
    "### 6.0.2 Load Dataset\n",
    "\n",
    "[back to top](#top)"
   ]
  },
  {
   "cell_type": "code",
   "execution_count": 2,
   "metadata": {
    "colab": {
     "base_uri": "https://localhost:8080/",
     "height": 423
    },
    "executionInfo": {
     "elapsed": 272,
     "status": "ok",
     "timestamp": 1645668354558,
     "user": {
      "displayName": "Wesley Beckner",
      "photoUrl": "https://lh3.googleusercontent.com/a-/AOh14GjSrSNC5ljFK1tVytNJhengi6L9T_zjAvSSfuo3ug=s64",
      "userId": "17051665784581118920"
     },
     "user_tz": 480
    },
    "id": "PNdnL3fBC9Jr",
    "outputId": "2197f2fc-5817-4e0a-87e5-4894ae2cef8a"
   },
   "outputs": [
    {
     "data": {
      "text/html": [
       "<div>\n",
       "<style scoped>\n",
       "    .dataframe tbody tr th:only-of-type {\n",
       "        vertical-align: middle;\n",
       "    }\n",
       "\n",
       "    .dataframe tbody tr th {\n",
       "        vertical-align: top;\n",
       "    }\n",
       "\n",
       "    .dataframe thead th {\n",
       "        text-align: right;\n",
       "    }\n",
       "</style>\n",
       "<table border=\"1\" class=\"dataframe\">\n",
       "  <thead>\n",
       "    <tr style=\"text-align: right;\">\n",
       "      <th></th>\n",
       "      <th>base_cake</th>\n",
       "      <th>truffle_type</th>\n",
       "      <th>primary_flavor</th>\n",
       "      <th>secondary_flavor</th>\n",
       "      <th>color_group</th>\n",
       "      <th>customer</th>\n",
       "      <th>date</th>\n",
       "      <th>kg</th>\n",
       "    </tr>\n",
       "  </thead>\n",
       "  <tbody>\n",
       "    <tr>\n",
       "      <th>0</th>\n",
       "      <td>Cheese</td>\n",
       "      <td>Candy Outer</td>\n",
       "      <td>Horchata</td>\n",
       "      <td>Vanilla</td>\n",
       "      <td>Amethyst</td>\n",
       "      <td>Perk-a-Cola</td>\n",
       "      <td>1/2010</td>\n",
       "      <td>12570.335165</td>\n",
       "    </tr>\n",
       "    <tr>\n",
       "      <th>1</th>\n",
       "      <td>Tiramisu</td>\n",
       "      <td>Chocolate Outer</td>\n",
       "      <td>Irish Cream</td>\n",
       "      <td>Egg Nog</td>\n",
       "      <td>Slate</td>\n",
       "      <td>Dandy's Candies</td>\n",
       "      <td>1/2010</td>\n",
       "      <td>7922.970436</td>\n",
       "    </tr>\n",
       "    <tr>\n",
       "      <th>2</th>\n",
       "      <td>Sponge</td>\n",
       "      <td>Chocolate Outer</td>\n",
       "      <td>Ginger Ale</td>\n",
       "      <td>Apple</td>\n",
       "      <td>Slate</td>\n",
       "      <td>Dandy's Candies</td>\n",
       "      <td>1/2010</td>\n",
       "      <td>10521.306722</td>\n",
       "    </tr>\n",
       "    <tr>\n",
       "      <th>3</th>\n",
       "      <td>Cheese</td>\n",
       "      <td>Chocolate Outer</td>\n",
       "      <td>Coffee</td>\n",
       "      <td>Pear</td>\n",
       "      <td>Opal</td>\n",
       "      <td>Dandy's Candies</td>\n",
       "      <td>1/2010</td>\n",
       "      <td>4739.122200</td>\n",
       "    </tr>\n",
       "    <tr>\n",
       "      <th>4</th>\n",
       "      <td>Chiffon</td>\n",
       "      <td>Jelly Filled</td>\n",
       "      <td>Butter Toffee</td>\n",
       "      <td>Apricot</td>\n",
       "      <td>Olive</td>\n",
       "      <td>Slugworth</td>\n",
       "      <td>1/2010</td>\n",
       "      <td>2756.891961</td>\n",
       "    </tr>\n",
       "    <tr>\n",
       "      <th>...</th>\n",
       "      <td>...</td>\n",
       "      <td>...</td>\n",
       "      <td>...</td>\n",
       "      <td>...</td>\n",
       "      <td>...</td>\n",
       "      <td>...</td>\n",
       "      <td>...</td>\n",
       "      <td>...</td>\n",
       "    </tr>\n",
       "    <tr>\n",
       "      <th>13195</th>\n",
       "      <td>Chiffon</td>\n",
       "      <td>Chocolate Outer</td>\n",
       "      <td>Acai Berry</td>\n",
       "      <td>Tangerine</td>\n",
       "      <td>Slate</td>\n",
       "      <td>Fickelgruber</td>\n",
       "      <td>12/2020</td>\n",
       "      <td>25714.512372</td>\n",
       "    </tr>\n",
       "    <tr>\n",
       "      <th>13196</th>\n",
       "      <td>Butter</td>\n",
       "      <td>Jelly Filled</td>\n",
       "      <td>Plum</td>\n",
       "      <td>Peppermint</td>\n",
       "      <td>Olive</td>\n",
       "      <td>Fickelgruber</td>\n",
       "      <td>12/2020</td>\n",
       "      <td>15043.303525</td>\n",
       "    </tr>\n",
       "    <tr>\n",
       "      <th>13197</th>\n",
       "      <td>Chiffon</td>\n",
       "      <td>Chocolate Outer</td>\n",
       "      <td>Wild Cherry Cream</td>\n",
       "      <td>Peppermint</td>\n",
       "      <td>Taupe</td>\n",
       "      <td>Perk-a-Cola</td>\n",
       "      <td>12/2020</td>\n",
       "      <td>8769.613116</td>\n",
       "    </tr>\n",
       "    <tr>\n",
       "      <th>13198</th>\n",
       "      <td>Cheese</td>\n",
       "      <td>Candy Outer</td>\n",
       "      <td>Mango</td>\n",
       "      <td>Mango</td>\n",
       "      <td>Rose</td>\n",
       "      <td>Dandy's Candies</td>\n",
       "      <td>12/2020</td>\n",
       "      <td>5065.975534</td>\n",
       "    </tr>\n",
       "    <tr>\n",
       "      <th>13199</th>\n",
       "      <td>Sponge</td>\n",
       "      <td>Chocolate Outer</td>\n",
       "      <td>Ginger Ale</td>\n",
       "      <td>Passion Fruit</td>\n",
       "      <td>Black</td>\n",
       "      <td>Fickelgruber</td>\n",
       "      <td>12/2020</td>\n",
       "      <td>9466.712219</td>\n",
       "    </tr>\n",
       "  </tbody>\n",
       "</table>\n",
       "<p>13200 rows × 8 columns</p>\n",
       "</div>"
      ],
      "text/plain": [
       "      base_cake     truffle_type     primary_flavor secondary_flavor  \\\n",
       "0        Cheese      Candy Outer           Horchata          Vanilla   \n",
       "1      Tiramisu  Chocolate Outer        Irish Cream          Egg Nog   \n",
       "2        Sponge  Chocolate Outer         Ginger Ale            Apple   \n",
       "3        Cheese  Chocolate Outer             Coffee             Pear   \n",
       "4       Chiffon     Jelly Filled      Butter Toffee          Apricot   \n",
       "...         ...              ...                ...              ...   \n",
       "13195   Chiffon  Chocolate Outer         Acai Berry        Tangerine   \n",
       "13196    Butter     Jelly Filled               Plum       Peppermint   \n",
       "13197   Chiffon  Chocolate Outer  Wild Cherry Cream       Peppermint   \n",
       "13198    Cheese      Candy Outer              Mango            Mango   \n",
       "13199    Sponge  Chocolate Outer         Ginger Ale    Passion Fruit   \n",
       "\n",
       "      color_group         customer     date            kg  \n",
       "0        Amethyst      Perk-a-Cola   1/2010  12570.335165  \n",
       "1           Slate  Dandy's Candies   1/2010   7922.970436  \n",
       "2           Slate  Dandy's Candies   1/2010  10521.306722  \n",
       "3            Opal  Dandy's Candies   1/2010   4739.122200  \n",
       "4           Olive        Slugworth   1/2010   2756.891961  \n",
       "...           ...              ...      ...           ...  \n",
       "13195       Slate     Fickelgruber  12/2020  25714.512372  \n",
       "13196       Olive     Fickelgruber  12/2020  15043.303525  \n",
       "13197       Taupe      Perk-a-Cola  12/2020   8769.613116  \n",
       "13198        Rose  Dandy's Candies  12/2020   5065.975534  \n",
       "13199       Black     Fickelgruber  12/2020   9466.712219  \n",
       "\n",
       "[13200 rows x 8 columns]"
      ]
     },
     "execution_count": 2,
     "metadata": {},
     "output_type": "execute_result"
    }
   ],
   "source": [
    "orders = pd.read_csv(\"https://raw.githubusercontent.com/wesleybeckner/\"\\\n",
    "                     \"truffletopia/main/truffletopia/data/12_year_orders.csv\")\n",
    "\n",
    "cat_cols = ['base_cake', 'truffle_type', 'primary_flavor', 'secondary_flavor',\n",
    "       'color_group', 'customer']\n",
    "       \n",
    "time_cols = [i for i in orders.columns if i not in cat_cols]\n",
    "\n",
    "# note that our data is 'untidy' if we wanted to tidy the data we would need to\n",
    "# unpivot or 'melt' our date columns like so:\n",
    "orders.melt(id_vars=cat_cols, var_name='date', value_name='kg')\n",
    "\n",
    "# however the data as it is, is useful for our purposes of timeseries prediction \n",
    "# today"
   ]
  },
  {
   "cell_type": "markdown",
   "metadata": {
    "id": "062Czp9-rBOi"
   },
   "source": [
    "<a name='x.1'></a>\n",
    "\n",
    "## 6.1 Why We Think in Sequences\n",
    "\n",
    "[back to top](#top)\n",
    "\n",
    "There are some problems that are best framed as a sequence in either the input or the output. For example, in our image classification we are performing a mapping of many-to-one: sequence input (the pixels) to a single output (classification). Other examples include:\n",
    "\n",
    "* One-to-many: sequence output, e.x. word (if treated as a single input) to generate a picture\n",
    "* Many-to-many: sequence input and output, e.x. machine translation (like english to mandarin)\n",
    "* Synchronized many-to-many: synced sequence input and output, e.x. video classification\n",
    "\n",
    "State of the art handling of sequences has occurred in a class of networks called recurrent neural networks"
   ]
  },
  {
   "cell_type": "markdown",
   "metadata": {
    "id": "lPKG1QnNIq_l"
   },
   "source": [
    "<a name='x.2'></a>\n",
    "\n",
    "## 6.2 Recurrent Neural Networks\n",
    "\n",
    "[back to top](#top)\n",
    "\n",
    "Recurrent Neural Networks (RNNs) can be thought of as a FFNN with loops added into the architecture. This allows the network to retain information, create \"memory\" that can be associated with signals later in the sequence. \n",
    "\n",
    "We didn't go into much detail about the actual training algorithm of neural networks: **_back propagation_**. But what we will say here, is that this algorithm breaks down with recurrent neural networks because of the looped connections. A trick was created to overcome this, where the looped connections are unrolled, using a copy of the \"unhooked\" neuron to represent where the loop was initally fed back. This algorithm is called **_back propagation through time_**.\n",
    "\n",
    "Another problem is introduced when training recurrent neural networks, in that the gradients calculated during back propagation can become very large, **_exploding gradients_**, or very small **_vanishing gradients_**. This problem is modulated in FNNNs by the ReLU, In RNNs, a more sophisticated gating mechanism is used in an architecture we call **_Long Short-Term Memory Networks_**\n",
    "\n",
    "<p align=center>\n",
    "<img src=\"https://miro.medium.com/max/4136/1*SKGAqkVVzT6co-sZ29ze-g.png\"></img>\n",
    "</p>\n",
    "<small>LSTM shown in both typical and unfolded format</small>\n",
    "\n"
   ]
  },
  {
   "cell_type": "markdown",
   "metadata": {
    "id": "50iMj89J55nA"
   },
   "source": [
    "### 6.2.1 Long Short-Term Memory Networks\n",
    "\n",
    "[back to top](#top)\n",
    "\n",
    "Long Short-Term Memory Networks (LSTMs) are a type of RNN that are trained using back propagation through time and overcome the vanishing/exploding gradient problem. Similar to CNNs, their architecture is composed of blocks, this time with memory blocks rather than convolutional blocks. A block is smarter than the classical neuron; it contains gates that manage the block's state and output. The gates are operated by a sigmoid function, determining whether they are open or closed (triggered or not trigerred). There are three types of gates within a memory block:\n",
    "\n",
    "* Forget gate: decides what information is discarded\n",
    "* Input gate: decides what information updates the memory state\n",
    "* Output gate: decides what information to send forward depending on the input and memory state\n",
    "\n",
    "These weights that configure these gates are learned during training, and their coordination allow each memory block to learn sophisticated relationships in and among sequenced data. \n",
    "\n",
    "> Big takeaway: memory blocks contain trainable parameters that allow the block to learn relationships between sequenced data \n"
   ]
  },
  {
   "cell_type": "markdown",
   "metadata": {
    "id": "wlj85iTSIwji"
   },
   "source": [
    "<a name='x.3'></a>\n",
    "\n",
    "## 6.3 Exploratory Data Analysis with Plotly/Pandas\n",
    "\n",
    "[back to top](#top)"
   ]
  },
  {
   "cell_type": "code",
   "execution_count": 3,
   "metadata": {
    "colab": {
     "base_uri": "https://localhost:8080/",
     "height": 369
    },
    "executionInfo": {
     "elapsed": 8,
     "status": "ok",
     "timestamp": 1645668354559,
     "user": {
      "displayName": "Wesley Beckner",
      "photoUrl": "https://lh3.googleusercontent.com/a-/AOh14GjSrSNC5ljFK1tVytNJhengi6L9T_zjAvSSfuo3ug=s64",
      "userId": "17051665784581118920"
     },
     "user_tz": 480
    },
    "id": "gLKYbKEEngST",
    "outputId": "5071f4e2-4e9b-4a07-9751-2b602b824e28"
   },
   "outputs": [
    {
     "data": {
      "text/html": [
       "<div>\n",
       "<style scoped>\n",
       "    .dataframe tbody tr th:only-of-type {\n",
       "        vertical-align: middle;\n",
       "    }\n",
       "\n",
       "    .dataframe tbody tr th {\n",
       "        vertical-align: top;\n",
       "    }\n",
       "\n",
       "    .dataframe thead th {\n",
       "        text-align: right;\n",
       "    }\n",
       "</style>\n",
       "<table border=\"1\" class=\"dataframe\">\n",
       "  <thead>\n",
       "    <tr style=\"text-align: right;\">\n",
       "      <th></th>\n",
       "      <th>base_cake</th>\n",
       "      <th>truffle_type</th>\n",
       "      <th>primary_flavor</th>\n",
       "      <th>secondary_flavor</th>\n",
       "      <th>color_group</th>\n",
       "      <th>customer</th>\n",
       "      <th>1/2010</th>\n",
       "      <th>2/2010</th>\n",
       "      <th>3/2010</th>\n",
       "      <th>4/2010</th>\n",
       "      <th>...</th>\n",
       "      <th>3/2020</th>\n",
       "      <th>4/2020</th>\n",
       "      <th>5/2020</th>\n",
       "      <th>6/2020</th>\n",
       "      <th>7/2020</th>\n",
       "      <th>8/2020</th>\n",
       "      <th>9/2020</th>\n",
       "      <th>10/2020</th>\n",
       "      <th>11/2020</th>\n",
       "      <th>12/2020</th>\n",
       "    </tr>\n",
       "  </thead>\n",
       "  <tbody>\n",
       "    <tr>\n",
       "      <th>0</th>\n",
       "      <td>Cheese</td>\n",
       "      <td>Candy Outer</td>\n",
       "      <td>Horchata</td>\n",
       "      <td>Vanilla</td>\n",
       "      <td>Amethyst</td>\n",
       "      <td>Perk-a-Cola</td>\n",
       "      <td>12570.335165</td>\n",
       "      <td>11569.168746</td>\n",
       "      <td>13616.812204</td>\n",
       "      <td>11884.370881</td>\n",
       "      <td>...</td>\n",
       "      <td>21575.521051</td>\n",
       "      <td>18856.178110</td>\n",
       "      <td>20701.250676</td>\n",
       "      <td>19406.448560</td>\n",
       "      <td>22328.687163</td>\n",
       "      <td>19384.824042</td>\n",
       "      <td>21449.154890</td>\n",
       "      <td>19554.405590</td>\n",
       "      <td>21873.104938</td>\n",
       "      <td>19572.860127</td>\n",
       "    </tr>\n",
       "    <tr>\n",
       "      <th>1</th>\n",
       "      <td>Tiramisu</td>\n",
       "      <td>Chocolate Outer</td>\n",
       "      <td>Irish Cream</td>\n",
       "      <td>Egg Nog</td>\n",
       "      <td>Slate</td>\n",
       "      <td>Dandy's Candies</td>\n",
       "      <td>7922.970436</td>\n",
       "      <td>6464.558625</td>\n",
       "      <td>6616.092291</td>\n",
       "      <td>8244.991928</td>\n",
       "      <td>...</td>\n",
       "      <td>10145.394106</td>\n",
       "      <td>13132.925131</td>\n",
       "      <td>10821.805709</td>\n",
       "      <td>10829.961838</td>\n",
       "      <td>12995.340352</td>\n",
       "      <td>10504.814195</td>\n",
       "      <td>10617.199735</td>\n",
       "      <td>13377.165673</td>\n",
       "      <td>11065.835571</td>\n",
       "      <td>11135.386324</td>\n",
       "    </tr>\n",
       "    <tr>\n",
       "      <th>2</th>\n",
       "      <td>Sponge</td>\n",
       "      <td>Chocolate Outer</td>\n",
       "      <td>Ginger Ale</td>\n",
       "      <td>Apple</td>\n",
       "      <td>Slate</td>\n",
       "      <td>Dandy's Candies</td>\n",
       "      <td>10521.306722</td>\n",
       "      <td>5543.335645</td>\n",
       "      <td>5294.892374</td>\n",
       "      <td>11010.452413</td>\n",
       "      <td>...</td>\n",
       "      <td>8516.098910</td>\n",
       "      <td>17498.911792</td>\n",
       "      <td>8369.846849</td>\n",
       "      <td>8334.206937</td>\n",
       "      <td>17519.678690</td>\n",
       "      <td>8595.378915</td>\n",
       "      <td>8909.348040</td>\n",
       "      <td>17234.636475</td>\n",
       "      <td>9002.216839</td>\n",
       "      <td>8794.467252</td>\n",
       "    </tr>\n",
       "    <tr>\n",
       "      <th>3</th>\n",
       "      <td>Cheese</td>\n",
       "      <td>Chocolate Outer</td>\n",
       "      <td>Coffee</td>\n",
       "      <td>Pear</td>\n",
       "      <td>Opal</td>\n",
       "      <td>Dandy's Candies</td>\n",
       "      <td>4739.122200</td>\n",
       "      <td>2733.281035</td>\n",
       "      <td>4984.394797</td>\n",
       "      <td>2750.709519</td>\n",
       "      <td>...</td>\n",
       "      <td>8093.541144</td>\n",
       "      <td>4301.081977</td>\n",
       "      <td>8235.616589</td>\n",
       "      <td>4151.474242</td>\n",
       "      <td>8213.665500</td>\n",
       "      <td>4008.885583</td>\n",
       "      <td>7912.641813</td>\n",
       "      <td>4275.162782</td>\n",
       "      <td>8031.227879</td>\n",
       "      <td>4628.989194</td>\n",
       "    </tr>\n",
       "    <tr>\n",
       "      <th>4</th>\n",
       "      <td>Chiffon</td>\n",
       "      <td>Jelly Filled</td>\n",
       "      <td>Butter Toffee</td>\n",
       "      <td>Apricot</td>\n",
       "      <td>Olive</td>\n",
       "      <td>Slugworth</td>\n",
       "      <td>2756.891961</td>\n",
       "      <td>1739.900797</td>\n",
       "      <td>1791.975108</td>\n",
       "      <td>1533.023665</td>\n",
       "      <td>...</td>\n",
       "      <td>1864.015449</td>\n",
       "      <td>1800.566323</td>\n",
       "      <td>1625.130275</td>\n",
       "      <td>1908.316219</td>\n",
       "      <td>2696.631511</td>\n",
       "      <td>1859.017636</td>\n",
       "      <td>1690.042699</td>\n",
       "      <td>1764.410866</td>\n",
       "      <td>1909.608709</td>\n",
       "      <td>1711.780317</td>\n",
       "    </tr>\n",
       "  </tbody>\n",
       "</table>\n",
       "<p>5 rows × 138 columns</p>\n",
       "</div>"
      ],
      "text/plain": [
       "  base_cake     truffle_type primary_flavor secondary_flavor color_group  \\\n",
       "0    Cheese      Candy Outer       Horchata          Vanilla    Amethyst   \n",
       "1  Tiramisu  Chocolate Outer    Irish Cream          Egg Nog       Slate   \n",
       "2    Sponge  Chocolate Outer     Ginger Ale            Apple       Slate   \n",
       "3    Cheese  Chocolate Outer         Coffee             Pear        Opal   \n",
       "4   Chiffon     Jelly Filled  Butter Toffee          Apricot       Olive   \n",
       "\n",
       "          customer        1/2010        2/2010        3/2010        4/2010  \\\n",
       "0      Perk-a-Cola  12570.335165  11569.168746  13616.812204  11884.370881   \n",
       "1  Dandy's Candies   7922.970436   6464.558625   6616.092291   8244.991928   \n",
       "2  Dandy's Candies  10521.306722   5543.335645   5294.892374  11010.452413   \n",
       "3  Dandy's Candies   4739.122200   2733.281035   4984.394797   2750.709519   \n",
       "4        Slugworth   2756.891961   1739.900797   1791.975108   1533.023665   \n",
       "\n",
       "   ...        3/2020        4/2020        5/2020        6/2020        7/2020  \\\n",
       "0  ...  21575.521051  18856.178110  20701.250676  19406.448560  22328.687163   \n",
       "1  ...  10145.394106  13132.925131  10821.805709  10829.961838  12995.340352   \n",
       "2  ...   8516.098910  17498.911792   8369.846849   8334.206937  17519.678690   \n",
       "3  ...   8093.541144   4301.081977   8235.616589   4151.474242   8213.665500   \n",
       "4  ...   1864.015449   1800.566323   1625.130275   1908.316219   2696.631511   \n",
       "\n",
       "         8/2020        9/2020       10/2020       11/2020       12/2020  \n",
       "0  19384.824042  21449.154890  19554.405590  21873.104938  19572.860127  \n",
       "1  10504.814195  10617.199735  13377.165673  11065.835571  11135.386324  \n",
       "2   8595.378915   8909.348040  17234.636475   9002.216839   8794.467252  \n",
       "3   4008.885583   7912.641813   4275.162782   8031.227879   4628.989194  \n",
       "4   1859.017636   1690.042699   1764.410866   1909.608709   1711.780317  \n",
       "\n",
       "[5 rows x 138 columns]"
      ]
     },
     "execution_count": 3,
     "metadata": {},
     "output_type": "execute_result"
    }
   ],
   "source": [
    "orders.head()"
   ]
  },
  {
   "cell_type": "code",
   "execution_count": 5,
   "metadata": {
    "colab": {
     "base_uri": "https://localhost:8080/",
     "height": 542
    },
    "executionInfo": {
     "elapsed": 1066,
     "status": "ok",
     "timestamp": 1645668355619,
     "user": {
      "displayName": "Wesley Beckner",
      "photoUrl": "https://lh3.googleusercontent.com/a-/AOh14GjSrSNC5ljFK1tVytNJhengi6L9T_zjAvSSfuo3ug=s64",
      "userId": "17051665784581118920"
     },
     "user_tz": 480
    },
    "id": "LpEBJL2WEJzg",
    "outputId": "017c6ab4-7cde-449d-e997-fe0e790b497a"
   },
   "outputs": [
    {
     "data": {
      "text/html": [
       "<html>\n",
       "<head><meta charset=\"utf-8\" /></head>\n",
       "<body>\n",
       "    <div>            <script src=\"https://cdnjs.cloudflare.com/ajax/libs/mathjax/2.7.5/MathJax.js?config=TeX-AMS-MML_SVG\"></script><script type=\"text/javascript\">if (window.MathJax) {MathJax.Hub.Config({SVG: {font: \"STIX-Web\"}});}</script>                <script type=\"text/javascript\">window.PlotlyConfig = {MathJaxConfig: 'local'};</script>\n",
       "        <script src=\"https://cdn.plot.ly/plotly-2.8.3.min.js\"></script>                <div id=\"78860497-0227-4f11-9696-e7100d1cd14d\" class=\"plotly-graph-div\" style=\"height:525px; width:100%;\"></div>            <script type=\"text/javascript\">                                    window.PLOTLYENV=window.PLOTLYENV || {};                                    if (document.getElementById(\"78860497-0227-4f11-9696-e7100d1cd14d\")) {                    Plotly.newPlot(                        \"78860497-0227-4f11-9696-e7100d1cd14d\",                        [{\"hovertemplate\":\"Date=%{x}<br>KG=%{y}<extra></extra>\",\"legendgroup\":\"\",\"marker\":{\"color\":\"#636efa\",\"symbol\":\"circle\"},\"mode\":\"markers\",\"name\":\"\",\"orientation\":\"v\",\"showlegend\":false,\"x\":[\"1/2010\",\"2/2010\",\"3/2010\",\"4/2010\",\"5/2010\",\"6/2010\",\"7/2010\",\"8/2010\",\"9/2010\",\"10/2010\",\"11/2010\",\"12/2010\",\"1/2011\",\"2/2011\",\"3/2011\",\"4/2011\",\"5/2011\",\"6/2011\",\"7/2011\",\"8/2011\",\"9/2011\",\"10/2011\",\"11/2011\",\"12/2011\",\"1/2012\",\"2/2012\",\"3/2012\",\"4/2012\",\"5/2012\",\"6/2012\",\"7/2012\",\"8/2012\",\"9/2012\",\"10/2012\",\"11/2012\",\"12/2012\",\"1/2013\",\"2/2013\",\"3/2013\",\"4/2013\",\"5/2013\",\"6/2013\",\"7/2013\",\"8/2013\",\"9/2013\",\"10/2013\",\"11/2013\",\"12/2013\",\"1/2014\",\"2/2014\",\"3/2014\",\"4/2014\",\"5/2014\",\"6/2014\",\"7/2014\",\"8/2014\",\"9/2014\",\"10/2014\",\"11/2014\",\"12/2014\",\"1/2015\",\"2/2015\",\"3/2015\",\"4/2015\",\"5/2015\",\"6/2015\",\"7/2015\",\"8/2015\",\"9/2015\",\"10/2015\",\"11/2015\",\"12/2015\",\"1/2016\",\"2/2016\",\"3/2016\",\"4/2016\",\"5/2016\",\"6/2016\",\"7/2016\",\"8/2016\",\"9/2016\",\"10/2016\",\"11/2016\",\"12/2016\",\"1/2017\",\"2/2017\",\"3/2017\",\"4/2017\",\"5/2017\",\"6/2017\",\"7/2017\",\"8/2017\",\"9/2017\",\"10/2017\",\"11/2017\",\"12/2017\",\"1/2018\",\"2/2018\",\"3/2018\",\"4/2018\",\"5/2018\",\"6/2018\",\"7/2018\",\"8/2018\",\"9/2018\",\"10/2018\",\"11/2018\",\"12/2018\",\"1/2019\",\"2/2019\",\"3/2019\",\"4/2019\",\"5/2019\",\"6/2019\",\"7/2019\",\"8/2019\",\"9/2019\",\"10/2019\",\"11/2019\",\"12/2019\",\"1/2020\",\"2/2020\",\"3/2020\",\"4/2020\",\"5/2020\",\"6/2020\",\"7/2020\",\"8/2020\",\"9/2020\",\"10/2020\",\"11/2020\",\"12/2020\"],\"xaxis\":\"x\",\"y\":[12570.33516482565,11569.168746227244,13616.8122044598,11884.3708810225,13950.332334409886,12781.156535682429,14256.210023357236,12887.711959877464,15038.574005789536,12626.48930557771,14611.291109090684,13194.81429999148,14921.016215576235,13477.391456909943,15409.211079596587,13999.215068692509,15597.436975845374,14098.12497823274,15596.818092478728,14941.69403166363,15715.347212025836,14181.212141927936,16282.0980055455,14650.929410064906,16433.209008286325,15400.579033515967,16756.981262857273,15128.148250492244,17523.979943307248,15413.044691473402,16366.26437701746,14568.470958551738,16901.11154186154,14659.021365286097,16494.903960781197,15398.721298130027,17938.090871773184,15850.35787113158,18236.778754419985,15956.750789202086,17401.696472111977,15890.10321935092,17283.79073343649,16302.509223010222,17229.64501478726,16223.309276278227,17796.223621100053,16344.001270241426,17782.006164552513,16326.588260101846,18253.569321985724,16818.12312918114,18554.33980878632,16900.704327264033,18479.00603218699,17042.963875823145,18287.35559715585,17244.887842050513,18822.494484753846,17603.725932131478,18766.104076650663,17170.12649068024,19632.147600450644,16856.921979192426,18854.690380403008,17880.884218985302,19087.480847049384,18196.112254637803,19770.963054596545,16488.739325030063,19699.01989730995,17194.707087425755,19372.65790157132,17715.24432224015,19227.53144133251,17691.136252909622,20114.53450629712,17926.252604903035,19880.02532889845,16690.02893115867,19928.02694695529,18553.766165315024,20547.154033981024,17301.11715078875,19538.97650435099,17902.44835514176,21269.577926886348,18842.69654955895,20095.445399491346,17670.300576591326,20310.884287446843,18754.84178182952,20736.279238797026,18617.387584546323,20783.71123390676,17470.755864944782,20523.579839792717,18796.936905805047,20028.582492587037,18677.535295190337,20048.1074217522,18929.24861718753,20571.15590247796,18207.204656231734,20839.04289237627,18966.53298378622,20909.977545252816,18589.807151786372,21287.370122673103,17987.976866769444,21111.062684974822,18538.311320658097,21797.26713239234,18935.35277235507,21331.37841983855,18783.75961074272,22139.12337340894,18553.79727063604,21579.50628438568,19726.43311123112,21147.624131226225,19232.360491469408,21575.52105110441,18856.1781102771,20701.25067582265,19406.448559709923,22328.687162949856,19384.824041986754,21449.154889830097,19554.40558950196,21873.104938389297,19572.860127015803],\"yaxis\":\"y\",\"type\":\"scatter\"}],                        {\"template\":{\"data\":{\"bar\":[{\"error_x\":{\"color\":\"#2a3f5f\"},\"error_y\":{\"color\":\"#2a3f5f\"},\"marker\":{\"line\":{\"color\":\"#E5ECF6\",\"width\":0.5},\"pattern\":{\"fillmode\":\"overlay\",\"size\":10,\"solidity\":0.2}},\"type\":\"bar\"}],\"barpolar\":[{\"marker\":{\"line\":{\"color\":\"#E5ECF6\",\"width\":0.5},\"pattern\":{\"fillmode\":\"overlay\",\"size\":10,\"solidity\":0.2}},\"type\":\"barpolar\"}],\"carpet\":[{\"aaxis\":{\"endlinecolor\":\"#2a3f5f\",\"gridcolor\":\"white\",\"linecolor\":\"white\",\"minorgridcolor\":\"white\",\"startlinecolor\":\"#2a3f5f\"},\"baxis\":{\"endlinecolor\":\"#2a3f5f\",\"gridcolor\":\"white\",\"linecolor\":\"white\",\"minorgridcolor\":\"white\",\"startlinecolor\":\"#2a3f5f\"},\"type\":\"carpet\"}],\"choropleth\":[{\"colorbar\":{\"outlinewidth\":0,\"ticks\":\"\"},\"type\":\"choropleth\"}],\"contour\":[{\"colorbar\":{\"outlinewidth\":0,\"ticks\":\"\"},\"colorscale\":[[0.0,\"#0d0887\"],[0.1111111111111111,\"#46039f\"],[0.2222222222222222,\"#7201a8\"],[0.3333333333333333,\"#9c179e\"],[0.4444444444444444,\"#bd3786\"],[0.5555555555555556,\"#d8576b\"],[0.6666666666666666,\"#ed7953\"],[0.7777777777777778,\"#fb9f3a\"],[0.8888888888888888,\"#fdca26\"],[1.0,\"#f0f921\"]],\"type\":\"contour\"}],\"contourcarpet\":[{\"colorbar\":{\"outlinewidth\":0,\"ticks\":\"\"},\"type\":\"contourcarpet\"}],\"heatmap\":[{\"colorbar\":{\"outlinewidth\":0,\"ticks\":\"\"},\"colorscale\":[[0.0,\"#0d0887\"],[0.1111111111111111,\"#46039f\"],[0.2222222222222222,\"#7201a8\"],[0.3333333333333333,\"#9c179e\"],[0.4444444444444444,\"#bd3786\"],[0.5555555555555556,\"#d8576b\"],[0.6666666666666666,\"#ed7953\"],[0.7777777777777778,\"#fb9f3a\"],[0.8888888888888888,\"#fdca26\"],[1.0,\"#f0f921\"]],\"type\":\"heatmap\"}],\"heatmapgl\":[{\"colorbar\":{\"outlinewidth\":0,\"ticks\":\"\"},\"colorscale\":[[0.0,\"#0d0887\"],[0.1111111111111111,\"#46039f\"],[0.2222222222222222,\"#7201a8\"],[0.3333333333333333,\"#9c179e\"],[0.4444444444444444,\"#bd3786\"],[0.5555555555555556,\"#d8576b\"],[0.6666666666666666,\"#ed7953\"],[0.7777777777777778,\"#fb9f3a\"],[0.8888888888888888,\"#fdca26\"],[1.0,\"#f0f921\"]],\"type\":\"heatmapgl\"}],\"histogram\":[{\"marker\":{\"pattern\":{\"fillmode\":\"overlay\",\"size\":10,\"solidity\":0.2}},\"type\":\"histogram\"}],\"histogram2d\":[{\"colorbar\":{\"outlinewidth\":0,\"ticks\":\"\"},\"colorscale\":[[0.0,\"#0d0887\"],[0.1111111111111111,\"#46039f\"],[0.2222222222222222,\"#7201a8\"],[0.3333333333333333,\"#9c179e\"],[0.4444444444444444,\"#bd3786\"],[0.5555555555555556,\"#d8576b\"],[0.6666666666666666,\"#ed7953\"],[0.7777777777777778,\"#fb9f3a\"],[0.8888888888888888,\"#fdca26\"],[1.0,\"#f0f921\"]],\"type\":\"histogram2d\"}],\"histogram2dcontour\":[{\"colorbar\":{\"outlinewidth\":0,\"ticks\":\"\"},\"colorscale\":[[0.0,\"#0d0887\"],[0.1111111111111111,\"#46039f\"],[0.2222222222222222,\"#7201a8\"],[0.3333333333333333,\"#9c179e\"],[0.4444444444444444,\"#bd3786\"],[0.5555555555555556,\"#d8576b\"],[0.6666666666666666,\"#ed7953\"],[0.7777777777777778,\"#fb9f3a\"],[0.8888888888888888,\"#fdca26\"],[1.0,\"#f0f921\"]],\"type\":\"histogram2dcontour\"}],\"mesh3d\":[{\"colorbar\":{\"outlinewidth\":0,\"ticks\":\"\"},\"type\":\"mesh3d\"}],\"parcoords\":[{\"line\":{\"colorbar\":{\"outlinewidth\":0,\"ticks\":\"\"}},\"type\":\"parcoords\"}],\"pie\":[{\"automargin\":true,\"type\":\"pie\"}],\"scatter\":[{\"marker\":{\"colorbar\":{\"outlinewidth\":0,\"ticks\":\"\"}},\"type\":\"scatter\"}],\"scatter3d\":[{\"line\":{\"colorbar\":{\"outlinewidth\":0,\"ticks\":\"\"}},\"marker\":{\"colorbar\":{\"outlinewidth\":0,\"ticks\":\"\"}},\"type\":\"scatter3d\"}],\"scattercarpet\":[{\"marker\":{\"colorbar\":{\"outlinewidth\":0,\"ticks\":\"\"}},\"type\":\"scattercarpet\"}],\"scattergeo\":[{\"marker\":{\"colorbar\":{\"outlinewidth\":0,\"ticks\":\"\"}},\"type\":\"scattergeo\"}],\"scattergl\":[{\"marker\":{\"colorbar\":{\"outlinewidth\":0,\"ticks\":\"\"}},\"type\":\"scattergl\"}],\"scattermapbox\":[{\"marker\":{\"colorbar\":{\"outlinewidth\":0,\"ticks\":\"\"}},\"type\":\"scattermapbox\"}],\"scatterpolar\":[{\"marker\":{\"colorbar\":{\"outlinewidth\":0,\"ticks\":\"\"}},\"type\":\"scatterpolar\"}],\"scatterpolargl\":[{\"marker\":{\"colorbar\":{\"outlinewidth\":0,\"ticks\":\"\"}},\"type\":\"scatterpolargl\"}],\"scatterternary\":[{\"marker\":{\"colorbar\":{\"outlinewidth\":0,\"ticks\":\"\"}},\"type\":\"scatterternary\"}],\"surface\":[{\"colorbar\":{\"outlinewidth\":0,\"ticks\":\"\"},\"colorscale\":[[0.0,\"#0d0887\"],[0.1111111111111111,\"#46039f\"],[0.2222222222222222,\"#7201a8\"],[0.3333333333333333,\"#9c179e\"],[0.4444444444444444,\"#bd3786\"],[0.5555555555555556,\"#d8576b\"],[0.6666666666666666,\"#ed7953\"],[0.7777777777777778,\"#fb9f3a\"],[0.8888888888888888,\"#fdca26\"],[1.0,\"#f0f921\"]],\"type\":\"surface\"}],\"table\":[{\"cells\":{\"fill\":{\"color\":\"#EBF0F8\"},\"line\":{\"color\":\"white\"}},\"header\":{\"fill\":{\"color\":\"#C8D4E3\"},\"line\":{\"color\":\"white\"}},\"type\":\"table\"}]},\"layout\":{\"annotationdefaults\":{\"arrowcolor\":\"#2a3f5f\",\"arrowhead\":0,\"arrowwidth\":1},\"autotypenumbers\":\"strict\",\"coloraxis\":{\"colorbar\":{\"outlinewidth\":0,\"ticks\":\"\"}},\"colorscale\":{\"diverging\":[[0,\"#8e0152\"],[0.1,\"#c51b7d\"],[0.2,\"#de77ae\"],[0.3,\"#f1b6da\"],[0.4,\"#fde0ef\"],[0.5,\"#f7f7f7\"],[0.6,\"#e6f5d0\"],[0.7,\"#b8e186\"],[0.8,\"#7fbc41\"],[0.9,\"#4d9221\"],[1,\"#276419\"]],\"sequential\":[[0.0,\"#0d0887\"],[0.1111111111111111,\"#46039f\"],[0.2222222222222222,\"#7201a8\"],[0.3333333333333333,\"#9c179e\"],[0.4444444444444444,\"#bd3786\"],[0.5555555555555556,\"#d8576b\"],[0.6666666666666666,\"#ed7953\"],[0.7777777777777778,\"#fb9f3a\"],[0.8888888888888888,\"#fdca26\"],[1.0,\"#f0f921\"]],\"sequentialminus\":[[0.0,\"#0d0887\"],[0.1111111111111111,\"#46039f\"],[0.2222222222222222,\"#7201a8\"],[0.3333333333333333,\"#9c179e\"],[0.4444444444444444,\"#bd3786\"],[0.5555555555555556,\"#d8576b\"],[0.6666666666666666,\"#ed7953\"],[0.7777777777777778,\"#fb9f3a\"],[0.8888888888888888,\"#fdca26\"],[1.0,\"#f0f921\"]]},\"colorway\":[\"#636efa\",\"#EF553B\",\"#00cc96\",\"#ab63fa\",\"#FFA15A\",\"#19d3f3\",\"#FF6692\",\"#B6E880\",\"#FF97FF\",\"#FECB52\"],\"font\":{\"color\":\"#2a3f5f\"},\"geo\":{\"bgcolor\":\"white\",\"lakecolor\":\"white\",\"landcolor\":\"#E5ECF6\",\"showlakes\":true,\"showland\":true,\"subunitcolor\":\"white\"},\"hoverlabel\":{\"align\":\"left\"},\"hovermode\":\"closest\",\"mapbox\":{\"style\":\"light\"},\"paper_bgcolor\":\"white\",\"plot_bgcolor\":\"#E5ECF6\",\"polar\":{\"angularaxis\":{\"gridcolor\":\"white\",\"linecolor\":\"white\",\"ticks\":\"\"},\"bgcolor\":\"#E5ECF6\",\"radialaxis\":{\"gridcolor\":\"white\",\"linecolor\":\"white\",\"ticks\":\"\"}},\"scene\":{\"xaxis\":{\"backgroundcolor\":\"#E5ECF6\",\"gridcolor\":\"white\",\"gridwidth\":2,\"linecolor\":\"white\",\"showbackground\":true,\"ticks\":\"\",\"zerolinecolor\":\"white\"},\"yaxis\":{\"backgroundcolor\":\"#E5ECF6\",\"gridcolor\":\"white\",\"gridwidth\":2,\"linecolor\":\"white\",\"showbackground\":true,\"ticks\":\"\",\"zerolinecolor\":\"white\"},\"zaxis\":{\"backgroundcolor\":\"#E5ECF6\",\"gridcolor\":\"white\",\"gridwidth\":2,\"linecolor\":\"white\",\"showbackground\":true,\"ticks\":\"\",\"zerolinecolor\":\"white\"}},\"shapedefaults\":{\"line\":{\"color\":\"#2a3f5f\"}},\"ternary\":{\"aaxis\":{\"gridcolor\":\"white\",\"linecolor\":\"white\",\"ticks\":\"\"},\"baxis\":{\"gridcolor\":\"white\",\"linecolor\":\"white\",\"ticks\":\"\"},\"bgcolor\":\"#E5ECF6\",\"caxis\":{\"gridcolor\":\"white\",\"linecolor\":\"white\",\"ticks\":\"\"}},\"title\":{\"x\":0.05},\"xaxis\":{\"automargin\":true,\"gridcolor\":\"white\",\"linecolor\":\"white\",\"ticks\":\"\",\"title\":{\"standoff\":15},\"zerolinecolor\":\"white\",\"zerolinewidth\":2},\"yaxis\":{\"automargin\":true,\"gridcolor\":\"white\",\"linecolor\":\"white\",\"ticks\":\"\",\"title\":{\"standoff\":15},\"zerolinecolor\":\"white\",\"zerolinewidth\":2}}},\"xaxis\":{\"anchor\":\"y\",\"domain\":[0.0,1.0],\"title\":{\"text\":\"Date\"}},\"yaxis\":{\"anchor\":\"x\",\"domain\":[0.0,1.0],\"title\":{\"text\":\"KG\"}},\"legend\":{\"tracegroupgap\":0},\"margin\":{\"t\":60}},                        {\"responsive\": true}                    ).then(function(){\n",
       "                            \n",
       "var gd = document.getElementById('78860497-0227-4f11-9696-e7100d1cd14d');\n",
       "var x = new MutationObserver(function (mutations, observer) {{\n",
       "        var display = window.getComputedStyle(gd).display;\n",
       "        if (!display || display === 'none') {{\n",
       "            console.log([gd, 'removed!']);\n",
       "            Plotly.purge(gd);\n",
       "            observer.disconnect();\n",
       "        }}\n",
       "}});\n",
       "\n",
       "// Listen for the removal of the full notebook cells\n",
       "var notebookContainer = gd.closest('#notebook-container');\n",
       "if (notebookContainer) {{\n",
       "    x.observe(notebookContainer, {childList: true});\n",
       "}}\n",
       "\n",
       "// Listen for the clearing of the current output cell\n",
       "var outputEl = gd.closest('.output');\n",
       "if (outputEl) {{\n",
       "    x.observe(outputEl, {childList: true});\n",
       "}}\n",
       "\n",
       "                        })                };                            </script>        </div>\n",
       "</body>\n",
       "</html>"
      ]
     },
     "metadata": {},
     "output_type": "display_data"
    }
   ],
   "source": [
    "data = pd.DataFrame(orders.loc[0, time_cols])\n",
    "data = data.reset_index()\n",
    "data.columns = ['Date', 'KG']\n",
    "data\n",
    "px.scatter(data, x='Date',  y='KG')"
   ]
  },
  {
   "cell_type": "code",
   "execution_count": 6,
   "metadata": {
    "colab": {
     "base_uri": "https://localhost:8080/",
     "height": 623
    },
    "executionInfo": {
     "elapsed": 432,
     "status": "ok",
     "timestamp": 1645668356038,
     "user": {
      "displayName": "Wesley Beckner",
      "photoUrl": "https://lh3.googleusercontent.com/a-/AOh14GjSrSNC5ljFK1tVytNJhengi6L9T_zjAvSSfuo3ug=s64",
      "userId": "17051665784581118920"
     },
     "user_tz": 480
    },
    "id": "ZO4KGh2aIhYj",
    "outputId": "0fe1ce52-adab-47c5-aa1b-7666e3841c8f"
   },
   "outputs": [
    {
     "data": {
      "text/plain": [
       "<matplotlib.axes._subplots.AxesSubplot at 0x7ff3c213eb50>"
      ]
     },
     "execution_count": 6,
     "metadata": {},
     "output_type": "execute_result"
    },
    {
     "data": {
      "image/png": "[encoded data removed]",
      "text/plain": [
       "<Figure size 720x720 with 1 Axes>"
      ]
     },
     "metadata": {
      "needs_background": "light"
     },
     "output_type": "display_data"
    }
   ],
   "source": [
    "fig, ax = plt.subplots(1,1,figsize=(10,10))\n",
    "pd.plotting.autocorrelation_plot(data['KG'], ax=ax)"
   ]
  },
  {
   "cell_type": "markdown",
   "metadata": {
    "id": "c35IMXN5r1vx"
   },
   "source": [
    "Normally with time series data, we'd want to try a host of preprocessing techniques and remove the trend (really create two separate analyses, one of the trend and one of the seasonality) but to keep things simple and to showcase the utility of machine learning, we are going to deviate from the stats-like approach and work with our data as is. \n",
    "\n",
    "For more details on the stats-like models you can perform a cursory search on _ARIMA_, _ARMA_, _SARIMA_"
   ]
  },
  {
   "cell_type": "markdown",
   "metadata": {
    "id": "2p4qhOHy4BCP"
   },
   "source": [
    "<a name='x.4'></a>\n",
    "\n",
    "## 6.4 Modeling\n",
    "\n",
    "[back to top](#top)"
   ]
  },
  {
   "cell_type": "code",
   "execution_count": 4,
   "metadata": {
    "executionInfo": {
     "elapsed": 1562,
     "status": "ok",
     "timestamp": 1645668357596,
     "user": {
      "displayName": "Wesley Beckner",
      "photoUrl": "https://lh3.googleusercontent.com/a-/AOh14GjSrSNC5ljFK1tVytNJhengi6L9T_zjAvSSfuo3ug=s64",
      "userId": "17051665784581118920"
     },
     "user_tz": 480
    },
    "id": "dAsFW1HvQp2E"
   },
   "outputs": [],
   "source": [
    "from tensorflow import keras\n",
    "from tensorflow.keras import layers"
   ]
  },
  {
   "cell_type": "markdown",
   "metadata": {
    "id": "-iE3lc9FLo68"
   },
   "source": [
    "<a name='x.4.1'></a>\n",
    "\n",
    "### 6.4.1 Sweeping (Rolling) Window\n",
    "\n",
    "[back to top](#top)\n",
    "\n",
    "We're going to revist this idea of a sweeping window from our feature engineering disucssion. It turns out, even though we are using a NN, there is still some preprocessing we need to do. In our case, each time delta is represented by a month. So we will choose some number of months to include in our feature set, this will in turn determine what our overall training data will look like. \n",
    "\n",
    "<p align=center>\n",
    "<img src=\"https://cdn.analyticsvidhya.com/wp-content/uploads/2019/11/3hotmk.gif\"></img>\n",
    "</p>"
   ]
  },
  {
   "cell_type": "code",
   "execution_count": 5,
   "metadata": {
    "executionInfo": {
     "elapsed": 17,
     "status": "ok",
     "timestamp": 1645668357596,
     "user": {
      "displayName": "Wesley Beckner",
      "photoUrl": "https://lh3.googleusercontent.com/a-/AOh14GjSrSNC5ljFK1tVytNJhengi6L9T_zjAvSSfuo3ug=s64",
      "userId": "17051665784581118920"
     },
     "user_tz": 480
    },
    "id": "c2U8wDoWSD1y"
   },
   "outputs": [],
   "source": [
    "Xy = orders.loc[[0], time_cols].values\n",
    "# separate the non-time series columns\n",
    "X_cat = Xy[:,:-120]\n",
    "\n",
    "# select the columns to apply the sweeping window\n",
    "X = Xy[:,-120:]"
   ]
  },
  {
   "cell_type": "markdown",
   "metadata": {
    "id": "VXRj_yrpGeOD"
   },
   "source": [
    "with a window size of 3, our X will have 3 features, the prior 3 months leading up to the month for which we will attempt to forecast. "
   ]
  },
  {
   "cell_type": "code",
   "execution_count": 6,
   "metadata": {
    "colab": {
     "base_uri": "https://localhost:8080/"
    },
    "executionInfo": {
     "elapsed": 16,
     "status": "ok",
     "timestamp": 1645668357597,
     "user": {
      "displayName": "Wesley Beckner",
      "photoUrl": "https://lh3.googleusercontent.com/a-/AOh14GjSrSNC5ljFK1tVytNJhengi6L9T_zjAvSSfuo3ug=s64",
      "userId": "17051665784581118920"
     },
     "user_tz": 480
    },
    "id": "QQETIaWfGcNc",
    "outputId": "de4b54db-c447-485d-8cca-658793eb1374"
   },
   "outputs": [
    {
     "data": {
      "text/plain": [
       "array([[12570.33516483, 11569.16874623, 13616.81220446],\n",
       "       [11569.16874623, 13616.81220446, 11884.37088102],\n",
       "       [13616.81220446, 11884.37088102, 13950.33233441],\n",
       "       [11884.37088102, 13950.33233441, 12781.15653568],\n",
       "       [13950.33233441, 12781.15653568, 14256.21002336]])"
      ]
     },
     "execution_count": 6,
     "metadata": {},
     "output_type": "execute_result"
    }
   ],
   "source": [
    "window_size = 3\n",
    "X, y, labels = process_data(orders.loc[[0], time_cols].values, window=window_size, time_cols=132)\n",
    "X[:5]"
   ]
  },
  {
   "cell_type": "markdown",
   "metadata": {
    "id": "NMoUDdpbGR6v"
   },
   "source": [
    "With a window size of 1, our X data will have a feature size of 1"
   ]
  },
  {
   "cell_type": "code",
   "execution_count": 7,
   "metadata": {
    "colab": {
     "base_uri": "https://localhost:8080/"
    },
    "executionInfo": {
     "elapsed": 349,
     "status": "ok",
     "timestamp": 1645668357937,
     "user": {
      "displayName": "Wesley Beckner",
      "photoUrl": "https://lh3.googleusercontent.com/a-/AOh14GjSrSNC5ljFK1tVytNJhengi6L9T_zjAvSSfuo3ug=s64",
      "userId": "17051665784581118920"
     },
     "user_tz": 480
    },
    "id": "4yzUBeqpM6xR",
    "outputId": "b7541f48-6ef7-445c-e0d5-51446610065f"
   },
   "outputs": [
    {
     "data": {
      "text/plain": [
       "array([[12570.33516483],\n",
       "       [11569.16874623],\n",
       "       [13616.81220446],\n",
       "       [11884.37088102],\n",
       "       [13950.33233441]])"
      ]
     },
     "execution_count": 7,
     "metadata": {},
     "output_type": "execute_result"
    }
   ],
   "source": [
    "window_size = 1\n",
    "X, y, labels = process_data(orders.loc[[0], time_cols].values, window=window_size, time_cols=132)\n",
    "X[:5]"
   ]
  },
  {
   "cell_type": "markdown",
   "metadata": {
    "id": "7XRpDQgHGofC"
   },
   "source": [
    "and so on."
   ]
  },
  {
   "cell_type": "markdown",
   "metadata": {
    "id": "FFWFQP0r9Ab3"
   },
   "source": [
    "<a name='x.4.2'></a>\n",
    "\n",
    "### 6.4.2 FFNN\n",
    "\n",
    "[back to top](#top)\n",
    "\n",
    "I'm going to start with a very simple FFNN model:"
   ]
  },
  {
   "cell_type": "code",
   "execution_count": 9,
   "metadata": {
    "executionInfo": {
     "elapsed": 2616,
     "status": "ok",
     "timestamp": 1645668360552,
     "user": {
      "displayName": "Wesley Beckner",
      "photoUrl": "https://lh3.googleusercontent.com/a-/AOh14GjSrSNC5ljFK1tVytNJhengi6L9T_zjAvSSfuo3ug=s64",
      "userId": "17051665784581118920"
     },
     "user_tz": 480
    },
    "id": "nj-ULeUEP4ML"
   },
   "outputs": [],
   "source": [
    "model = keras.Sequential([\n",
    "    layers.Dense(8, input_shape=[window_size]), # one layer, 8 nodes\n",
    "    layers.Dense(1) # single output for the kg\n",
    "])\n",
    "\n",
    "model.compile(loss='mean_squared_error', optimizer='adam')"
   ]
  },
  {
   "cell_type": "code",
   "execution_count": 10,
   "metadata": {
    "executionInfo": {
     "elapsed": 4,
     "status": "ok",
     "timestamp": 1645668360552,
     "user": {
      "displayName": "Wesley Beckner",
      "photoUrl": "https://lh3.googleusercontent.com/a-/AOh14GjSrSNC5ljFK1tVytNJhengi6L9T_zjAvSSfuo3ug=s64",
      "userId": "17051665784581118920"
     },
     "user_tz": 480
    },
    "id": "02Ch-AztTtgf"
   },
   "outputs": [],
   "source": [
    "early_stopping = keras.callbacks.EarlyStopping(\n",
    "    patience=10,\n",
    "    min_delta=0.001,\n",
    "    restore_best_weights=True,\n",
    "    monitor='loss'\n",
    ")"
   ]
  },
  {
   "cell_type": "code",
   "execution_count": 11,
   "metadata": {
    "executionInfo": {
     "elapsed": 4616,
     "status": "ok",
     "timestamp": 1645668365165,
     "user": {
      "displayName": "Wesley Beckner",
      "photoUrl": "https://lh3.googleusercontent.com/a-/AOh14GjSrSNC5ljFK1tVytNJhengi6L9T_zjAvSSfuo3ug=s64",
      "userId": "17051665784581118920"
     },
     "user_tz": 480
    },
    "id": "-My8Fl8OR9bp"
   },
   "outputs": [],
   "source": [
    "history = model.fit(\n",
    "    X, y,\n",
    "    batch_size=10,\n",
    "    epochs=1000,\n",
    "    callbacks=[early_stopping],\n",
    "    verbose=0, # hide the output because we have so many epochs\n",
    ")"
   ]
  },
  {
   "cell_type": "code",
   "execution_count": 12,
   "metadata": {
    "colab": {
     "base_uri": "https://localhost:8080/",
     "height": 206
    },
    "executionInfo": {
     "elapsed": 10,
     "status": "ok",
     "timestamp": 1645668365165,
     "user": {
      "displayName": "Wesley Beckner",
      "photoUrl": "https://lh3.googleusercontent.com/a-/AOh14GjSrSNC5ljFK1tVytNJhengi6L9T_zjAvSSfuo3ug=s64",
      "userId": "17051665784581118920"
     },
     "user_tz": 480
    },
    "id": "BFDYY9t4UViN",
    "outputId": "c8017b99-4aa9-42a2-d086-497dad5753b1"
   },
   "outputs": [
    {
     "data": {
      "text/html": [
       "<div>\n",
       "<style scoped>\n",
       "    .dataframe tbody tr th:only-of-type {\n",
       "        vertical-align: middle;\n",
       "    }\n",
       "\n",
       "    .dataframe tbody tr th {\n",
       "        vertical-align: top;\n",
       "    }\n",
       "\n",
       "    .dataframe thead th {\n",
       "        text-align: right;\n",
       "    }\n",
       "</style>\n",
       "<table border=\"1\" class=\"dataframe\">\n",
       "  <thead>\n",
       "    <tr style=\"text-align: right;\">\n",
       "      <th></th>\n",
       "      <th>loss</th>\n",
       "    </tr>\n",
       "  </thead>\n",
       "  <tbody>\n",
       "    <tr>\n",
       "      <th>19</th>\n",
       "      <td>4.243438e+06</td>\n",
       "    </tr>\n",
       "    <tr>\n",
       "      <th>20</th>\n",
       "      <td>4.240187e+06</td>\n",
       "    </tr>\n",
       "    <tr>\n",
       "      <th>21</th>\n",
       "      <td>4.240501e+06</td>\n",
       "    </tr>\n",
       "    <tr>\n",
       "      <th>22</th>\n",
       "      <td>4.247284e+06</td>\n",
       "    </tr>\n",
       "    <tr>\n",
       "      <th>23</th>\n",
       "      <td>4.238702e+06</td>\n",
       "    </tr>\n",
       "  </tbody>\n",
       "</table>\n",
       "</div>"
      ],
      "text/plain": [
       "            loss\n",
       "19  4.243438e+06\n",
       "20  4.240187e+06\n",
       "21  4.240501e+06\n",
       "22  4.247284e+06\n",
       "23  4.238702e+06"
      ]
     },
     "execution_count": 12,
     "metadata": {},
     "output_type": "execute_result"
    }
   ],
   "source": [
    "history_df = pd.DataFrame(history.history)\n",
    "history_df.tail()"
   ]
  },
  {
   "cell_type": "markdown",
   "metadata": {
    "id": "EsuoEnHVWEuk"
   },
   "source": [
    "As we can see from the `y` vs `y_pred` the FFNN is just predicting the previous month's value:"
   ]
  },
  {
   "cell_type": "code",
   "execution_count": 13,
   "metadata": {
    "colab": {
     "base_uri": "https://localhost:8080/",
     "height": 423
    },
    "executionInfo": {
     "elapsed": 941,
     "status": "ok",
     "timestamp": 1645668366320,
     "user": {
      "displayName": "Wesley Beckner",
      "photoUrl": "https://lh3.googleusercontent.com/a-/AOh14GjSrSNC5ljFK1tVytNJhengi6L9T_zjAvSSfuo3ug=s64",
      "userId": "17051665784581118920"
     },
     "user_tz": 480
    },
    "id": "c8wvEZSjV3Se",
    "outputId": "818b3c8d-6792-485d-f55f-8500b512dc68"
   },
   "outputs": [
    {
     "data": {
      "text/html": [
       "<div>\n",
       "<style scoped>\n",
       "    .dataframe tbody tr th:only-of-type {\n",
       "        vertical-align: middle;\n",
       "    }\n",
       "\n",
       "    .dataframe tbody tr th {\n",
       "        vertical-align: top;\n",
       "    }\n",
       "\n",
       "    .dataframe thead th {\n",
       "        text-align: right;\n",
       "    }\n",
       "</style>\n",
       "<table border=\"1\" class=\"dataframe\">\n",
       "  <thead>\n",
       "    <tr style=\"text-align: right;\">\n",
       "      <th></th>\n",
       "      <th>0</th>\n",
       "    </tr>\n",
       "  </thead>\n",
       "  <tbody>\n",
       "    <tr>\n",
       "      <th>11569.168746</th>\n",
       "      <td>12562.842773</td>\n",
       "    </tr>\n",
       "    <tr>\n",
       "      <th>13616.812204</th>\n",
       "      <td>11562.307617</td>\n",
       "    </tr>\n",
       "    <tr>\n",
       "      <th>11884.370881</th>\n",
       "      <td>13608.662109</td>\n",
       "    </tr>\n",
       "    <tr>\n",
       "      <th>13950.332334</th>\n",
       "      <td>11877.311523</td>\n",
       "    </tr>\n",
       "    <tr>\n",
       "      <th>12781.156536</th>\n",
       "      <td>13941.969727</td>\n",
       "    </tr>\n",
       "    <tr>\n",
       "      <th>...</th>\n",
       "      <td>...</td>\n",
       "    </tr>\n",
       "    <tr>\n",
       "      <th>19384.824042</th>\n",
       "      <td>22315.048828</td>\n",
       "    </tr>\n",
       "    <tr>\n",
       "      <th>21449.154890</th>\n",
       "      <td>19373.041016</td>\n",
       "    </tr>\n",
       "    <tr>\n",
       "      <th>19554.405590</th>\n",
       "      <td>21436.068359</td>\n",
       "    </tr>\n",
       "    <tr>\n",
       "      <th>21873.104938</th>\n",
       "      <td>19542.517578</td>\n",
       "    </tr>\n",
       "    <tr>\n",
       "      <th>19572.860127</th>\n",
       "      <td>21859.757812</td>\n",
       "    </tr>\n",
       "  </tbody>\n",
       "</table>\n",
       "<p>131 rows × 1 columns</p>\n",
       "</div>"
      ],
      "text/plain": [
       "                         0\n",
       "11569.168746  12562.842773\n",
       "13616.812204  11562.307617\n",
       "11884.370881  13608.662109\n",
       "13950.332334  11877.311523\n",
       "12781.156536  13941.969727\n",
       "...                    ...\n",
       "19384.824042  22315.048828\n",
       "21449.154890  19373.041016\n",
       "19554.405590  21436.068359\n",
       "21873.104938  19542.517578\n",
       "19572.860127  21859.757812\n",
       "\n",
       "[131 rows x 1 columns]"
      ]
     },
     "execution_count": 13,
     "metadata": {},
     "output_type": "execute_result"
    }
   ],
   "source": [
    "y_pred = model.predict(X)\n",
    "pd.DataFrame(y_pred, y)"
   ]
  },
  {
   "cell_type": "markdown",
   "metadata": {
    "id": "GAcVdW0zWPFm"
   },
   "source": [
    "We can try this with a more suitable window size"
   ]
  },
  {
   "cell_type": "code",
   "execution_count": 16,
   "metadata": {
    "executionInfo": {
     "elapsed": 9,
     "status": "ok",
     "timestamp": 1645668366321,
     "user": {
      "displayName": "Wesley Beckner",
      "photoUrl": "https://lh3.googleusercontent.com/a-/AOh14GjSrSNC5ljFK1tVytNJhengi6L9T_zjAvSSfuo3ug=s64",
      "userId": "17051665784581118920"
     },
     "user_tz": 480
    },
    "id": "DZlqAdNaWQ36"
   },
   "outputs": [],
   "source": [
    "window_size = 3\n",
    "X, y, labels = process_data(orders.loc[[0], time_cols].values, window=window_size, time_cols=132)\n",
    "\n",
    "model = keras.Sequential([\n",
    "    # layers.Dense(8, input_shape=[window_size]),\n",
    "    layers.Dense(1, input_shape=[window_size])\n",
    "])\n",
    "\n",
    "model.compile(loss='mean_squared_error', optimizer='adam')"
   ]
  },
  {
   "cell_type": "code",
   "execution_count": 17,
   "metadata": {
    "executionInfo": {
     "elapsed": 16857,
     "status": "ok",
     "timestamp": 1645668383171,
     "user": {
      "displayName": "Wesley Beckner",
      "photoUrl": "https://lh3.googleusercontent.com/a-/AOh14GjSrSNC5ljFK1tVytNJhengi6L9T_zjAvSSfuo3ug=s64",
      "userId": "17051665784581118920"
     },
     "user_tz": 480
    },
    "id": "xZOse2SdWSEW"
   },
   "outputs": [],
   "source": [
    "history = model.fit(\n",
    "    X, y,\n",
    "    batch_size=10,\n",
    "    epochs=1000,\n",
    "    callbacks=[early_stopping],\n",
    "    verbose=0, # hide the output because we have so many epochs\n",
    ")"
   ]
  },
  {
   "cell_type": "code",
   "execution_count": 18,
   "metadata": {
    "colab": {
     "base_uri": "https://localhost:8080/",
     "height": 206
    },
    "executionInfo": {
     "elapsed": 33,
     "status": "ok",
     "timestamp": 1645668383171,
     "user": {
      "displayName": "Wesley Beckner",
      "photoUrl": "https://lh3.googleusercontent.com/a-/AOh14GjSrSNC5ljFK1tVytNJhengi6L9T_zjAvSSfuo3ug=s64",
      "userId": "17051665784581118920"
     },
     "user_tz": 480
    },
    "id": "3LrH3h-cWUOw",
    "outputId": "3cc449d2-88e3-4841-c7d9-6d74cfe6edf7"
   },
   "outputs": [
    {
     "data": {
      "text/html": [
       "\n",
       "  <div id=\"df-afaaa018-2d7b-4c78-aa8c-d622f9dadb69\">\n",
       "    <div class=\"colab-df-container\">\n",
       "      <div>\n",
       "<style scoped>\n",
       "    .dataframe tbody tr th:only-of-type {\n",
       "        vertical-align: middle;\n",
       "    }\n",
       "\n",
       "    .dataframe tbody tr th {\n",
       "        vertical-align: top;\n",
       "    }\n",
       "\n",
       "    .dataframe thead th {\n",
       "        text-align: right;\n",
       "    }\n",
       "</style>\n",
       "<table border=\"1\" class=\"dataframe\">\n",
       "  <thead>\n",
       "    <tr style=\"text-align: right;\">\n",
       "      <th></th>\n",
       "      <th>loss</th>\n",
       "    </tr>\n",
       "  </thead>\n",
       "  <tbody>\n",
       "    <tr>\n",
       "      <th>752</th>\n",
       "      <td>550135.6875</td>\n",
       "    </tr>\n",
       "    <tr>\n",
       "      <th>753</th>\n",
       "      <td>555000.3750</td>\n",
       "    </tr>\n",
       "    <tr>\n",
       "      <th>754</th>\n",
       "      <td>550800.3125</td>\n",
       "    </tr>\n",
       "    <tr>\n",
       "      <th>755</th>\n",
       "      <td>551368.6250</td>\n",
       "    </tr>\n",
       "    <tr>\n",
       "      <th>756</th>\n",
       "      <td>548760.4375</td>\n",
       "    </tr>\n",
       "  </tbody>\n",
       "</table>\n",
       "</div>\n",
       "      <button class=\"colab-df-convert\" onclick=\"convertToInteractive('df-afaaa018-2d7b-4c78-aa8c-d622f9dadb69')\"\n",
       "              title=\"Convert this dataframe to an interactive table.\"\n",
       "              style=\"display:none;\">\n",
       "        \n",
       "  <svg xmlns=\"http://www.w3.org/2000/svg\" height=\"24px\"viewBox=\"0 0 24 24\"\n",
       "       width=\"24px\">\n",
       "    <path d=\"M0 0h24v24H0V0z\" fill=\"none\"/>\n",
       "    <path d=\"M18.56 5.44l.94 2.06.94-2.06 2.06-.94-2.06-.94-.94-2.06-.94 2.06-2.06.94zm-11 1L8.5 8.5l.94-2.06 2.06-.94-2.06-.94L8.5 2.5l-.94 2.06-2.06.94zm10 10l.94 2.06.94-2.06 2.06-.94-2.06-.94-.94-2.06-.94 2.06-2.06.94z\"/><path d=\"M17.41 7.96l-1.37-1.37c-.4-.4-.92-.59-1.43-.59-.52 0-1.04.2-1.43.59L10.3 9.45l-7.72 7.72c-.78.78-.78 2.05 0 2.83L4 21.41c.39.39.9.59 1.41.59.51 0 1.02-.2 1.41-.59l7.78-7.78 2.81-2.81c.8-.78.8-2.07 0-2.86zM5.41 20L4 18.59l7.72-7.72 1.47 1.35L5.41 20z\"/>\n",
       "  </svg>\n",
       "      </button>\n",
       "      \n",
       "  <style>\n",
       "    .colab-df-container {\n",
       "      display:flex;\n",
       "      flex-wrap:wrap;\n",
       "      gap: 12px;\n",
       "    }\n",
       "\n",
       "    .colab-df-convert {\n",
       "      background-color: #E8F0FE;\n",
       "      border: none;\n",
       "      border-radius: 50%;\n",
       "      cursor: pointer;\n",
       "      display: none;\n",
       "      fill: #1967D2;\n",
       "      height: 32px;\n",
       "      padding: 0 0 0 0;\n",
       "      width: 32px;\n",
       "    }\n",
       "\n",
       "    .colab-df-convert:hover {\n",
       "      background-color: #E2EBFA;\n",
       "      box-shadow: 0px 1px 2px rgba(60, 64, 67, 0.3), 0px 1px 3px 1px rgba(60, 64, 67, 0.15);\n",
       "      fill: #174EA6;\n",
       "    }\n",
       "\n",
       "    [theme=dark] .colab-df-convert {\n",
       "      background-color: #3B4455;\n",
       "      fill: #D2E3FC;\n",
       "    }\n",
       "\n",
       "    [theme=dark] .colab-df-convert:hover {\n",
       "      background-color: #434B5C;\n",
       "      box-shadow: 0px 1px 3px 1px rgba(0, 0, 0, 0.15);\n",
       "      filter: drop-shadow(0px 1px 2px rgba(0, 0, 0, 0.3));\n",
       "      fill: #FFFFFF;\n",
       "    }\n",
       "  </style>\n",
       "\n",
       "      <script>\n",
       "        const buttonEl =\n",
       "          document.querySelector('#df-afaaa018-2d7b-4c78-aa8c-d622f9dadb69 button.colab-df-convert');\n",
       "        buttonEl.style.display =\n",
       "          google.colab.kernel.accessAllowed ? 'block' : 'none';\n",
       "\n",
       "        async function convertToInteractive(key) {\n",
       "          const element = document.querySelector('#df-afaaa018-2d7b-4c78-aa8c-d622f9dadb69');\n",
       "          const dataTable =\n",
       "            await google.colab.kernel.invokeFunction('convertToInteractive',\n",
       "                                                     [key], {});\n",
       "          if (!dataTable) return;\n",
       "\n",
       "          const docLinkHtml = 'Like what you see? Visit the ' +\n",
       "            '<a target=\"_blank\" href=https://colab.research.google.com/notebooks/data_table.ipynb>data table notebook</a>'\n",
       "            + ' to learn more about interactive tables.';\n",
       "          element.innerHTML = '';\n",
       "          dataTable['output_type'] = 'display_data';\n",
       "          await google.colab.output.renderOutput(dataTable, element);\n",
       "          const docLink = document.createElement('div');\n",
       "          docLink.innerHTML = docLinkHtml;\n",
       "          element.appendChild(docLink);\n",
       "        }\n",
       "      </script>\n",
       "    </div>\n",
       "  </div>\n",
       "  "
      ],
      "text/plain": [
       "            loss\n",
       "752  550135.6875\n",
       "753  555000.3750\n",
       "754  550800.3125\n",
       "755  551368.6250\n",
       "756  548760.4375"
      ]
     },
     "execution_count": 18,
     "metadata": {},
     "output_type": "execute_result"
    }
   ],
   "source": [
    "history_df = pd.DataFrame(history.history)\n",
    "history_df.tail()"
   ]
  },
  {
   "cell_type": "markdown",
   "metadata": {
    "id": "Z_K0EUvyWzbL"
   },
   "source": [
    "A cursory glance looks like our values are closer together"
   ]
  },
  {
   "cell_type": "code",
   "execution_count": 19,
   "metadata": {
    "executionInfo": {
     "elapsed": 12,
     "status": "ok",
     "timestamp": 1645668383172,
     "user": {
      "displayName": "Wesley Beckner",
      "photoUrl": "https://lh3.googleusercontent.com/a-/AOh14GjSrSNC5ljFK1tVytNJhengi6L9T_zjAvSSfuo3ug=s64",
      "userId": "17051665784581118920"
     },
     "user_tz": 480
    },
    "id": "r9uvAPUJWohB"
   },
   "outputs": [],
   "source": [
    "results = melt_results(model, X, y, window_size)"
   ]
  },
  {
   "cell_type": "code",
   "execution_count": 20,
   "metadata": {
    "colab": {
     "base_uri": "https://localhost:8080/",
     "height": 542
    },
    "executionInfo": {
     "elapsed": 252,
     "status": "ok",
     "timestamp": 1645668383413,
     "user": {
      "displayName": "Wesley Beckner",
      "photoUrl": "https://lh3.googleusercontent.com/a-/AOh14GjSrSNC5ljFK1tVytNJhengi6L9T_zjAvSSfuo3ug=s64",
      "userId": "17051665784581118920"
     },
     "user_tz": 480
    },
    "id": "jwtkIXVXZXB2",
    "outputId": "b11d513b-a3e4-49ac-c9f8-d3cf3853875e"
   },
   "outputs": [
    {
     "data": {
      "text/html": [
       "<html>\n",
       "<head><meta charset=\"utf-8\" /></head>\n",
       "<body>\n",
       "    <div>            <script src=\"https://cdnjs.cloudflare.com/ajax/libs/mathjax/2.7.5/MathJax.js?config=TeX-AMS-MML_SVG\"></script><script type=\"text/javascript\">if (window.MathJax) {MathJax.Hub.Config({SVG: {font: \"STIX-Web\"}});}</script>                <script type=\"text/javascript\">window.PlotlyConfig = {MathJaxConfig: 'local'};</script>\n",
       "        <script src=\"https://cdn.plot.ly/plotly-2.8.3.min.js\"></script>                <div id=\"82ca7aaa-b25e-4fa4-9917-a70105e71bfe\" class=\"plotly-graph-div\" style=\"height:525px; width:100%;\"></div>            <script type=\"text/javascript\">                                    window.PLOTLYENV=window.PLOTLYENV || {};                                    if (document.getElementById(\"82ca7aaa-b25e-4fa4-9917-a70105e71bfe\")) {                    Plotly.newPlot(                        \"82ca7aaa-b25e-4fa4-9917-a70105e71bfe\",                        [{\"hovertemplate\":\"Source=real<br>Date=%{x}<br>KG=%{y}<extra></extra>\",\"legendgroup\":\"real\",\"line\":{\"color\":\"#636efa\",\"dash\":\"solid\"},\"marker\":{\"symbol\":\"circle\"},\"mode\":\"lines\",\"name\":\"real\",\"orientation\":\"v\",\"showlegend\":true,\"x\":[\"4/2010\",\"5/2010\",\"6/2010\",\"7/2010\",\"8/2010\",\"9/2010\",\"10/2010\",\"11/2010\",\"12/2010\",\"1/2011\",\"2/2011\",\"3/2011\",\"4/2011\",\"5/2011\",\"6/2011\",\"7/2011\",\"8/2011\",\"9/2011\",\"10/2011\",\"11/2011\",\"12/2011\",\"1/2012\",\"2/2012\",\"3/2012\",\"4/2012\",\"5/2012\",\"6/2012\",\"7/2012\",\"8/2012\",\"9/2012\",\"10/2012\",\"11/2012\",\"12/2012\",\"1/2013\",\"2/2013\",\"3/2013\",\"4/2013\",\"5/2013\",\"6/2013\",\"7/2013\",\"8/2013\",\"9/2013\",\"10/2013\",\"11/2013\",\"12/2013\",\"1/2014\",\"2/2014\",\"3/2014\",\"4/2014\",\"5/2014\",\"6/2014\",\"7/2014\",\"8/2014\",\"9/2014\",\"10/2014\",\"11/2014\",\"12/2014\",\"1/2015\",\"2/2015\",\"3/2015\",\"4/2015\",\"5/2015\",\"6/2015\",\"7/2015\",\"8/2015\",\"9/2015\",\"10/2015\",\"11/2015\",\"12/2015\",\"1/2016\",\"2/2016\",\"3/2016\",\"4/2016\",\"5/2016\",\"6/2016\",\"7/2016\",\"8/2016\",\"9/2016\",\"10/2016\",\"11/2016\",\"12/2016\",\"1/2017\",\"2/2017\",\"3/2017\",\"4/2017\",\"5/2017\",\"6/2017\",\"7/2017\",\"8/2017\",\"9/2017\",\"10/2017\",\"11/2017\",\"12/2017\",\"1/2018\",\"2/2018\",\"3/2018\",\"4/2018\",\"5/2018\",\"6/2018\",\"7/2018\",\"8/2018\",\"9/2018\",\"10/2018\",\"11/2018\",\"12/2018\",\"1/2019\",\"2/2019\",\"3/2019\",\"4/2019\",\"5/2019\",\"6/2019\",\"7/2019\",\"8/2019\",\"9/2019\",\"10/2019\",\"11/2019\",\"12/2019\",\"1/2020\",\"2/2020\",\"3/2020\",\"4/2020\",\"5/2020\",\"6/2020\",\"7/2020\",\"8/2020\",\"9/2020\",\"10/2020\",\"11/2020\",\"12/2020\"],\"xaxis\":\"x\",\"y\":[11884.3708810225,13950.332334409886,12781.156535682429,14256.210023357236,12887.711959877464,15038.574005789536,12626.48930557771,14611.291109090684,13194.81429999148,14921.016215576235,13477.391456909943,15409.211079596587,13999.215068692509,15597.436975845374,14098.12497823274,15596.818092478728,14941.69403166363,15715.347212025836,14181.212141927936,16282.0980055455,14650.929410064906,16433.209008286325,15400.579033515967,16756.981262857273,15128.148250492244,17523.979943307248,15413.044691473402,16366.26437701746,14568.470958551738,16901.11154186154,14659.021365286097,16494.903960781197,15398.721298130027,17938.090871773184,15850.35787113158,18236.778754419985,15956.750789202086,17401.696472111977,15890.10321935092,17283.79073343649,16302.509223010222,17229.64501478726,16223.309276278227,17796.223621100053,16344.001270241426,17782.006164552513,16326.588260101846,18253.569321985724,16818.12312918114,18554.33980878632,16900.704327264033,18479.00603218699,17042.963875823145,18287.35559715585,17244.887842050513,18822.494484753846,17603.725932131478,18766.104076650663,17170.12649068024,19632.147600450644,16856.921979192426,18854.690380403008,17880.884218985302,19087.480847049384,18196.112254637803,19770.963054596545,16488.739325030063,19699.01989730995,17194.707087425755,19372.65790157132,17715.24432224015,19227.53144133251,17691.136252909622,20114.53450629712,17926.252604903035,19880.02532889845,16690.02893115867,19928.02694695529,18553.766165315024,20547.154033981024,17301.11715078875,19538.97650435099,17902.44835514176,21269.577926886348,18842.69654955895,20095.445399491346,17670.300576591326,20310.884287446843,18754.84178182952,20736.279238797026,18617.387584546323,20783.71123390676,17470.755864944782,20523.579839792717,18796.936905805047,20028.582492587037,18677.535295190337,20048.1074217522,18929.24861718753,20571.15590247796,18207.204656231734,20839.04289237627,18966.53298378622,20909.977545252816,18589.807151786372,21287.370122673103,17987.976866769444,21111.062684974822,18538.311320658097,21797.26713239234,18935.35277235507,21331.37841983855,18783.75961074272,22139.12337340894,18553.79727063604,21579.50628438568,19726.43311123112,21147.624131226225,19232.360491469408,21575.52105110441,18856.1781102771,20701.25067582265,19406.448559709923,22328.687162949856,19384.824041986754,21449.154889830097,19554.40558950196,21873.104938389297,19572.860127015803],\"yaxis\":\"y\",\"type\":\"scatter\"},{\"hovertemplate\":\"Source=predicted<br>Date=%{x}<br>KG=%{y}<extra></extra>\",\"legendgroup\":\"predicted\",\"line\":{\"color\":\"#EF553B\",\"dash\":\"solid\"},\"marker\":{\"symbol\":\"circle\"},\"mode\":\"lines\",\"name\":\"predicted\",\"orientation\":\"v\",\"showlegend\":true,\"x\":[\"4/2010\",\"5/2010\",\"6/2010\",\"7/2010\",\"8/2010\",\"9/2010\",\"10/2010\",\"11/2010\",\"12/2010\",\"1/2011\",\"2/2011\",\"3/2011\",\"4/2011\",\"5/2011\",\"6/2011\",\"7/2011\",\"8/2011\",\"9/2011\",\"10/2011\",\"11/2011\",\"12/2011\",\"1/2012\",\"2/2012\",\"3/2012\",\"4/2012\",\"5/2012\",\"6/2012\",\"7/2012\",\"8/2012\",\"9/2012\",\"10/2012\",\"11/2012\",\"12/2012\",\"1/2013\",\"2/2013\",\"3/2013\",\"4/2013\",\"5/2013\",\"6/2013\",\"7/2013\",\"8/2013\",\"9/2013\",\"10/2013\",\"11/2013\",\"12/2013\",\"1/2014\",\"2/2014\",\"3/2014\",\"4/2014\",\"5/2014\",\"6/2014\",\"7/2014\",\"8/2014\",\"9/2014\",\"10/2014\",\"11/2014\",\"12/2014\",\"1/2015\",\"2/2015\",\"3/2015\",\"4/2015\",\"5/2015\",\"6/2015\",\"7/2015\",\"8/2015\",\"9/2015\",\"10/2015\",\"11/2015\",\"12/2015\",\"1/2016\",\"2/2016\",\"3/2016\",\"4/2016\",\"5/2016\",\"6/2016\",\"7/2016\",\"8/2016\",\"9/2016\",\"10/2016\",\"11/2016\",\"12/2016\",\"1/2017\",\"2/2017\",\"3/2017\",\"4/2017\",\"5/2017\",\"6/2017\",\"7/2017\",\"8/2017\",\"9/2017\",\"10/2017\",\"11/2017\",\"12/2017\",\"1/2018\",\"2/2018\",\"3/2018\",\"4/2018\",\"5/2018\",\"6/2018\",\"7/2018\",\"8/2018\",\"9/2018\",\"10/2018\",\"11/2018\",\"12/2018\",\"1/2019\",\"2/2019\",\"3/2019\",\"4/2019\",\"5/2019\",\"6/2019\",\"7/2019\",\"8/2019\",\"9/2019\",\"10/2019\",\"11/2019\",\"12/2019\",\"1/2020\",\"2/2020\",\"3/2020\",\"4/2020\",\"5/2020\",\"6/2020\",\"7/2020\",\"8/2020\",\"9/2020\",\"10/2020\",\"11/2020\",\"12/2020\"],\"xaxis\":\"x\",\"y\":[11259.46875,13349.3271484375,11999.1884765625,13402.828125,12855.837890625,14155.4228515625,12754.638671875,15048.845703125,13186.6015625,14235.9033203125,13297.19921875,14713.466796875,13498.7080078125,15067.93359375,14165.580078125,15497.2734375,14365.888671875,15148.046875,15068.068359375,16118.8349609375,14179.611328125,15954.45703125,14863.759765625,16005.7275390625,15471.76171875,16870.5546875,15047.203125,17263.318359375,16314.33203125,16796.021484375,14613.373046875,16736.271484375,15206.1015625,16066.9560546875,14936.6484375,17584.765625,16049.8486328125,18068.611328125,16724.56640625,17411.38671875,16229.265625,17066.962890625,16557.314453125,17299.4609375,16180.7421875,17704.82421875,16630.2109375,17771.55078125,16378.6552734375,17948.849609375,16954.154296875,18469.576171875,17242.130859375,18381.76953125,17418.310546875,18195.595703125,17229.048828125,18623.435546875,17894.810546875,18993.314453125,17053.271484375,19668.8359375,17656.671875,18290.076171875,18008.35546875,18951.130859375,18099.71484375,20576.140625,16999.568359375,19164.525390625,17750.412109375,19035.54296875,18096.880859375,19223.251953125,17561.724609375,19894.462890625,18409.365234375,20418.21484375,17134.646484375,18833.755859375,18542.748046875,21094.056640625,18265.861328125,19157.732421875,17378.361328125,20617.12109375,19811.525390625,20679.423828125,17959.744140625,19659.283203125,18858.236328125,20747.884765625,18962.271484375,21262.759765625,18083.052734375,19712.927734375,19362.912109375,20106.318359375,18954.232421875,19932.1015625,18940.099609375,20899.845703125,18468.845703125,20349.244140625,19276.36328125,21042.38671875,18796.822265625,21450.583984375,18562.283203125,20671.611328125,18622.966796875,21422.41015625,19609.720703125,21309.9609375,18808.9453125,22059.017578125,19347.857421875,20853.78125,20282.482421875,21394.27734375,19376.556640625,21669.943359375,19711.716796875,20395.39453125,18906.919921875,22195.814453125,20270.896484375,21309.14453125,19700.73828125],\"yaxis\":\"y\",\"type\":\"scatter\"}],                        {\"template\":{\"data\":{\"bar\":[{\"error_x\":{\"color\":\"#2a3f5f\"},\"error_y\":{\"color\":\"#2a3f5f\"},\"marker\":{\"line\":{\"color\":\"#E5ECF6\",\"width\":0.5},\"pattern\":{\"fillmode\":\"overlay\",\"size\":10,\"solidity\":0.2}},\"type\":\"bar\"}],\"barpolar\":[{\"marker\":{\"line\":{\"color\":\"#E5ECF6\",\"width\":0.5},\"pattern\":{\"fillmode\":\"overlay\",\"size\":10,\"solidity\":0.2}},\"type\":\"barpolar\"}],\"carpet\":[{\"aaxis\":{\"endlinecolor\":\"#2a3f5f\",\"gridcolor\":\"white\",\"linecolor\":\"white\",\"minorgridcolor\":\"white\",\"startlinecolor\":\"#2a3f5f\"},\"baxis\":{\"endlinecolor\":\"#2a3f5f\",\"gridcolor\":\"white\",\"linecolor\":\"white\",\"minorgridcolor\":\"white\",\"startlinecolor\":\"#2a3f5f\"},\"type\":\"carpet\"}],\"choropleth\":[{\"colorbar\":{\"outlinewidth\":0,\"ticks\":\"\"},\"type\":\"choropleth\"}],\"contour\":[{\"colorbar\":{\"outlinewidth\":0,\"ticks\":\"\"},\"colorscale\":[[0.0,\"#0d0887\"],[0.1111111111111111,\"#46039f\"],[0.2222222222222222,\"#7201a8\"],[0.3333333333333333,\"#9c179e\"],[0.4444444444444444,\"#bd3786\"],[0.5555555555555556,\"#d8576b\"],[0.6666666666666666,\"#ed7953\"],[0.7777777777777778,\"#fb9f3a\"],[0.8888888888888888,\"#fdca26\"],[1.0,\"#f0f921\"]],\"type\":\"contour\"}],\"contourcarpet\":[{\"colorbar\":{\"outlinewidth\":0,\"ticks\":\"\"},\"type\":\"contourcarpet\"}],\"heatmap\":[{\"colorbar\":{\"outlinewidth\":0,\"ticks\":\"\"},\"colorscale\":[[0.0,\"#0d0887\"],[0.1111111111111111,\"#46039f\"],[0.2222222222222222,\"#7201a8\"],[0.3333333333333333,\"#9c179e\"],[0.4444444444444444,\"#bd3786\"],[0.5555555555555556,\"#d8576b\"],[0.6666666666666666,\"#ed7953\"],[0.7777777777777778,\"#fb9f3a\"],[0.8888888888888888,\"#fdca26\"],[1.0,\"#f0f921\"]],\"type\":\"heatmap\"}],\"heatmapgl\":[{\"colorbar\":{\"outlinewidth\":0,\"ticks\":\"\"},\"colorscale\":[[0.0,\"#0d0887\"],[0.1111111111111111,\"#46039f\"],[0.2222222222222222,\"#7201a8\"],[0.3333333333333333,\"#9c179e\"],[0.4444444444444444,\"#bd3786\"],[0.5555555555555556,\"#d8576b\"],[0.6666666666666666,\"#ed7953\"],[0.7777777777777778,\"#fb9f3a\"],[0.8888888888888888,\"#fdca26\"],[1.0,\"#f0f921\"]],\"type\":\"heatmapgl\"}],\"histogram\":[{\"marker\":{\"pattern\":{\"fillmode\":\"overlay\",\"size\":10,\"solidity\":0.2}},\"type\":\"histogram\"}],\"histogram2d\":[{\"colorbar\":{\"outlinewidth\":0,\"ticks\":\"\"},\"colorscale\":[[0.0,\"#0d0887\"],[0.1111111111111111,\"#46039f\"],[0.2222222222222222,\"#7201a8\"],[0.3333333333333333,\"#9c179e\"],[0.4444444444444444,\"#bd3786\"],[0.5555555555555556,\"#d8576b\"],[0.6666666666666666,\"#ed7953\"],[0.7777777777777778,\"#fb9f3a\"],[0.8888888888888888,\"#fdca26\"],[1.0,\"#f0f921\"]],\"type\":\"histogram2d\"}],\"histogram2dcontour\":[{\"colorbar\":{\"outlinewidth\":0,\"ticks\":\"\"},\"colorscale\":[[0.0,\"#0d0887\"],[0.1111111111111111,\"#46039f\"],[0.2222222222222222,\"#7201a8\"],[0.3333333333333333,\"#9c179e\"],[0.4444444444444444,\"#bd3786\"],[0.5555555555555556,\"#d8576b\"],[0.6666666666666666,\"#ed7953\"],[0.7777777777777778,\"#fb9f3a\"],[0.8888888888888888,\"#fdca26\"],[1.0,\"#f0f921\"]],\"type\":\"histogram2dcontour\"}],\"mesh3d\":[{\"colorbar\":{\"outlinewidth\":0,\"ticks\":\"\"},\"type\":\"mesh3d\"}],\"parcoords\":[{\"line\":{\"colorbar\":{\"outlinewidth\":0,\"ticks\":\"\"}},\"type\":\"parcoords\"}],\"pie\":[{\"automargin\":true,\"type\":\"pie\"}],\"scatter\":[{\"marker\":{\"colorbar\":{\"outlinewidth\":0,\"ticks\":\"\"}},\"type\":\"scatter\"}],\"scatter3d\":[{\"line\":{\"colorbar\":{\"outlinewidth\":0,\"ticks\":\"\"}},\"marker\":{\"colorbar\":{\"outlinewidth\":0,\"ticks\":\"\"}},\"type\":\"scatter3d\"}],\"scattercarpet\":[{\"marker\":{\"colorbar\":{\"outlinewidth\":0,\"ticks\":\"\"}},\"type\":\"scattercarpet\"}],\"scattergeo\":[{\"marker\":{\"colorbar\":{\"outlinewidth\":0,\"ticks\":\"\"}},\"type\":\"scattergeo\"}],\"scattergl\":[{\"marker\":{\"colorbar\":{\"outlinewidth\":0,\"ticks\":\"\"}},\"type\":\"scattergl\"}],\"scattermapbox\":[{\"marker\":{\"colorbar\":{\"outlinewidth\":0,\"ticks\":\"\"}},\"type\":\"scattermapbox\"}],\"scatterpolar\":[{\"marker\":{\"colorbar\":{\"outlinewidth\":0,\"ticks\":\"\"}},\"type\":\"scatterpolar\"}],\"scatterpolargl\":[{\"marker\":{\"colorbar\":{\"outlinewidth\":0,\"ticks\":\"\"}},\"type\":\"scatterpolargl\"}],\"scatterternary\":[{\"marker\":{\"colorbar\":{\"outlinewidth\":0,\"ticks\":\"\"}},\"type\":\"scatterternary\"}],\"surface\":[{\"colorbar\":{\"outlinewidth\":0,\"ticks\":\"\"},\"colorscale\":[[0.0,\"#0d0887\"],[0.1111111111111111,\"#46039f\"],[0.2222222222222222,\"#7201a8\"],[0.3333333333333333,\"#9c179e\"],[0.4444444444444444,\"#bd3786\"],[0.5555555555555556,\"#d8576b\"],[0.6666666666666666,\"#ed7953\"],[0.7777777777777778,\"#fb9f3a\"],[0.8888888888888888,\"#fdca26\"],[1.0,\"#f0f921\"]],\"type\":\"surface\"}],\"table\":[{\"cells\":{\"fill\":{\"color\":\"#EBF0F8\"},\"line\":{\"color\":\"white\"}},\"header\":{\"fill\":{\"color\":\"#C8D4E3\"},\"line\":{\"color\":\"white\"}},\"type\":\"table\"}]},\"layout\":{\"annotationdefaults\":{\"arrowcolor\":\"#2a3f5f\",\"arrowhead\":0,\"arrowwidth\":1},\"autotypenumbers\":\"strict\",\"coloraxis\":{\"colorbar\":{\"outlinewidth\":0,\"ticks\":\"\"}},\"colorscale\":{\"diverging\":[[0,\"#8e0152\"],[0.1,\"#c51b7d\"],[0.2,\"#de77ae\"],[0.3,\"#f1b6da\"],[0.4,\"#fde0ef\"],[0.5,\"#f7f7f7\"],[0.6,\"#e6f5d0\"],[0.7,\"#b8e186\"],[0.8,\"#7fbc41\"],[0.9,\"#4d9221\"],[1,\"#276419\"]],\"sequential\":[[0.0,\"#0d0887\"],[0.1111111111111111,\"#46039f\"],[0.2222222222222222,\"#7201a8\"],[0.3333333333333333,\"#9c179e\"],[0.4444444444444444,\"#bd3786\"],[0.5555555555555556,\"#d8576b\"],[0.6666666666666666,\"#ed7953\"],[0.7777777777777778,\"#fb9f3a\"],[0.8888888888888888,\"#fdca26\"],[1.0,\"#f0f921\"]],\"sequentialminus\":[[0.0,\"#0d0887\"],[0.1111111111111111,\"#46039f\"],[0.2222222222222222,\"#7201a8\"],[0.3333333333333333,\"#9c179e\"],[0.4444444444444444,\"#bd3786\"],[0.5555555555555556,\"#d8576b\"],[0.6666666666666666,\"#ed7953\"],[0.7777777777777778,\"#fb9f3a\"],[0.8888888888888888,\"#fdca26\"],[1.0,\"#f0f921\"]]},\"colorway\":[\"#636efa\",\"#EF553B\",\"#00cc96\",\"#ab63fa\",\"#FFA15A\",\"#19d3f3\",\"#FF6692\",\"#B6E880\",\"#FF97FF\",\"#FECB52\"],\"font\":{\"color\":\"#2a3f5f\"},\"geo\":{\"bgcolor\":\"white\",\"lakecolor\":\"white\",\"landcolor\":\"#E5ECF6\",\"showlakes\":true,\"showland\":true,\"subunitcolor\":\"white\"},\"hoverlabel\":{\"align\":\"left\"},\"hovermode\":\"closest\",\"mapbox\":{\"style\":\"light\"},\"paper_bgcolor\":\"white\",\"plot_bgcolor\":\"#E5ECF6\",\"polar\":{\"angularaxis\":{\"gridcolor\":\"white\",\"linecolor\":\"white\",\"ticks\":\"\"},\"bgcolor\":\"#E5ECF6\",\"radialaxis\":{\"gridcolor\":\"white\",\"linecolor\":\"white\",\"ticks\":\"\"}},\"scene\":{\"xaxis\":{\"backgroundcolor\":\"#E5ECF6\",\"gridcolor\":\"white\",\"gridwidth\":2,\"linecolor\":\"white\",\"showbackground\":true,\"ticks\":\"\",\"zerolinecolor\":\"white\"},\"yaxis\":{\"backgroundcolor\":\"#E5ECF6\",\"gridcolor\":\"white\",\"gridwidth\":2,\"linecolor\":\"white\",\"showbackground\":true,\"ticks\":\"\",\"zerolinecolor\":\"white\"},\"zaxis\":{\"backgroundcolor\":\"#E5ECF6\",\"gridcolor\":\"white\",\"gridwidth\":2,\"linecolor\":\"white\",\"showbackground\":true,\"ticks\":\"\",\"zerolinecolor\":\"white\"}},\"shapedefaults\":{\"line\":{\"color\":\"#2a3f5f\"}},\"ternary\":{\"aaxis\":{\"gridcolor\":\"white\",\"linecolor\":\"white\",\"ticks\":\"\"},\"baxis\":{\"gridcolor\":\"white\",\"linecolor\":\"white\",\"ticks\":\"\"},\"bgcolor\":\"#E5ECF6\",\"caxis\":{\"gridcolor\":\"white\",\"linecolor\":\"white\",\"ticks\":\"\"}},\"title\":{\"x\":0.05},\"xaxis\":{\"automargin\":true,\"gridcolor\":\"white\",\"linecolor\":\"white\",\"ticks\":\"\",\"title\":{\"standoff\":15},\"zerolinecolor\":\"white\",\"zerolinewidth\":2},\"yaxis\":{\"automargin\":true,\"gridcolor\":\"white\",\"linecolor\":\"white\",\"ticks\":\"\",\"title\":{\"standoff\":15},\"zerolinecolor\":\"white\",\"zerolinewidth\":2}}},\"xaxis\":{\"anchor\":\"y\",\"domain\":[0.0,1.0],\"title\":{\"text\":\"Date\"}},\"yaxis\":{\"anchor\":\"x\",\"domain\":[0.0,1.0],\"title\":{\"text\":\"KG\"}},\"legend\":{\"title\":{\"text\":\"Source\"},\"tracegroupgap\":0},\"margin\":{\"t\":60}},                        {\"responsive\": true}                    ).then(function(){\n",
       "                            \n",
       "var gd = document.getElementById('82ca7aaa-b25e-4fa4-9917-a70105e71bfe');\n",
       "var x = new MutationObserver(function (mutations, observer) {{\n",
       "        var display = window.getComputedStyle(gd).display;\n",
       "        if (!display || display === 'none') {{\n",
       "            console.log([gd, 'removed!']);\n",
       "            Plotly.purge(gd);\n",
       "            observer.disconnect();\n",
       "        }}\n",
       "}});\n",
       "\n",
       "// Listen for the removal of the full notebook cells\n",
       "var notebookContainer = gd.closest('#notebook-container');\n",
       "if (notebookContainer) {{\n",
       "    x.observe(notebookContainer, {childList: true});\n",
       "}}\n",
       "\n",
       "// Listen for the clearing of the current output cell\n",
       "var outputEl = gd.closest('.output');\n",
       "if (outputEl) {{\n",
       "    x.observe(outputEl, {childList: true});\n",
       "}}\n",
       "\n",
       "                        })                };                            </script>        </div>\n",
       "</body>\n",
       "</html>"
      ]
     },
     "metadata": {},
     "output_type": "display_data"
    }
   ],
   "source": [
    "px.line(results, x='Date', y='KG', color='Source')"
   ]
  },
  {
   "cell_type": "markdown",
   "metadata": {
    "id": "S1LrcsH-qgqQ"
   },
   "source": [
    "<a name='x.4.2.1'></a>\n",
    "\n",
    "#### 🏋️ Exercise-Discussion 1: Varify that the model is linear\n",
    "\n",
    "[back to top](#top)\n",
    "\n",
    "We're having to change our way of thinking here with time series analysis. Recall that a model without an activation function can only encapsulate linear relationships. How come we can see non-linear relationships in our time series plot above? make a plot that showcases we are indeed still within a linear world.\n",
    "\n",
    "This is an open ended question, think about how you would attempt to show linearity of the model. (In [Lab 1](https://wesleybeckner.github.io/general_applications_of_neural_networks/labs/L1_Neural_Network_Linearity/) our model predicted on only 2 dimensions (vs 3, in this case), and it was a binary classification task, so it was easier to view the decision boundaries and verify linearity)."
   ]
  },
  {
   "cell_type": "code",
   "execution_count": 21,
   "metadata": {
    "executionInfo": {
     "elapsed": 11,
     "status": "ok",
     "timestamp": 1645668383414,
     "user": {
      "displayName": "Wesley Beckner",
      "photoUrl": "https://lh3.googleusercontent.com/a-/AOh14GjSrSNC5ljFK1tVytNJhengi6L9T_zjAvSSfuo3ug=s64",
      "userId": "17051665784581118920"
     },
     "user_tz": 480
    },
    "id": "YpjWpOTaqd-T"
   },
   "outputs": [],
   "source": [
    "# Code cell for Exercise 1"
   ]
  },
  {
   "cell_type": "markdown",
   "metadata": {
    "id": "DJoOpFMMa5YK"
   },
   "source": [
    "<a name='x.4.2.2'></a>\n",
    "\n",
    "#### 🏋️ Exercise 2: Vary model architecture and window size\n",
    "\n",
    "[back to top](#top)\n",
    "\n",
    "Create these three different models. Train on the whole dataset with a window size of 3. record the training loss for the last 5 epochs of each model\n",
    "\n",
    "```\n",
    "models = [\n",
    "          keras.Sequential([\n",
    "    layers.Dense(8, input_shape=[window_size]),\n",
    "    layers.Dense(1)\n",
    "]),\n",
    "keras.Sequential([\n",
    "    layers.Dense(8, activation='relu', input_shape=[window_size]),\n",
    "    layers.Dense(1)\n",
    "]),\n",
    "keras.Sequential([\n",
    "    layers.Dense(4, activation='relu', input_shape=[window_size]),\n",
    "    layers.Dense(1)\n",
    "])]\n",
    "```\n",
    "\n",
    "You can create the training sets with:\n",
    "\n",
    "```\n",
    "window_size = 3\n",
    "X, y, labels = process_data(orders.loc[[0], time_cols].values, window=window_size, time_cols=132)\n",
    "```\n",
    "\n",
    "Use a batch size of 10 when training.\n",
    "\n",
    "When you are finished training a model use `melt_results` and plotly to make a graph of your predictions vs actuals\n",
    "\n",
    "```\n",
    "df = melt_results(model, X, y, window_size)\n",
    "px.line(df, x='Date', y='KG', color='Source')\n",
    "```\n",
    "\n",
    "You can use the same early_stopping and fit formula from 6.4.2"
   ]
  },
  {
   "cell_type": "code",
   "execution_count": 22,
   "metadata": {
    "colab": {
     "base_uri": "https://localhost:8080/"
    },
    "executionInfo": {
     "elapsed": 274366,
     "status": "ok",
     "timestamp": 1645668657769,
     "user": {
      "displayName": "Wesley Beckner",
      "photoUrl": "https://lh3.googleusercontent.com/a-/AOh14GjSrSNC5ljFK1tVytNJhengi6L9T_zjAvSSfuo3ug=s64",
      "userId": "17051665784581118920"
     },
     "user_tz": 480
    },
    "id": "K_9HhTgJw2Uj",
    "outputId": "3815f30a-0257-4805-bd8c-523a22cf482d"
   },
   "outputs": [
    {
     "name": "stdout",
     "output_type": "stream",
     "text": [
      "[449815.4375, 438517.75, 434076.40625, 436526.9375, 431749.71875, 432751.5, 431072.125, 433903.71875, 434614.8125, 434704.71875]\n",
      "[319843872.0, 319843424.0, 319842976.0, 319842528.0, 319842080.0, 319841632.0, 319841120.0, 319840704.0, 319840224.0, 319839776.0]\n",
      "[398923.6875, 398456.15625, 399380.0, 399915.5, 406269.09375, 400187.28125, 397825.96875, 412889.375, 399718.75, 402859.40625]\n"
     ]
    }
   ],
   "source": [
    "# Code cell for exercise 2\n",
    "window_size = 3\n",
    "batch_size = 10\n",
    "\n",
    "models = [\n",
    "          keras.Sequential([\n",
    "    layers.Dense(8, input_shape=[window_size]),\n",
    "    layers.Dense(1)\n",
    "]),\n",
    "keras.Sequential([\n",
    "    layers.Dense(8, activation='relu', input_shape=[window_size]),\n",
    "    layers.Dense(1)\n",
    "]),\n",
    "keras.Sequential([\n",
    "    layers.Dense(4, activation='relu', input_shape=[window_size]),\n",
    "    layers.Dense(1)\n",
    "])]\n",
    "\n",
    "\n",
    "X, y, labels = process_data(orders.loc[[0], time_cols].values, window=window_size, time_cols=132)\n",
    "\n",
    "dfs = []\n",
    "for model in models:\n",
    "  model.compile(loss='mean_squared_error', optimizer='adam')\n",
    "  history = model.fit(\n",
    "      X, y,\n",
    "      batch_size=batch_size,\n",
    "      epochs=int(1e4),\n",
    "      callbacks=[early_stopping],\n",
    "      verbose=0, # hide the output because we have so many epochs\n",
    "  )\n",
    "  print(history.history['loss'][-10:])\n",
    "  df = melt_results(model, X, y, window_size)\n",
    "  dfs.append(df)\n",
    "  px.line(df, x='Date', y='KG', color='Source')"
   ]
  },
  {
   "cell_type": "code",
   "execution_count": 23,
   "metadata": {
    "colab": {
     "base_uri": "https://localhost:8080/",
     "height": 542
    },
    "executionInfo": {
     "elapsed": 22,
     "status": "ok",
     "timestamp": 1645668657770,
     "user": {
      "displayName": "Wesley Beckner",
      "photoUrl": "https://lh3.googleusercontent.com/a-/AOh14GjSrSNC5ljFK1tVytNJhengi6L9T_zjAvSSfuo3ug=s64",
      "userId": "17051665784581118920"
     },
     "user_tz": 480
    },
    "id": "FMMddEPt2DOS",
    "outputId": "38531ccb-02a6-46bd-f14d-6ee0a296641e"
   },
   "outputs": [
    {
     "data": {
      "text/html": [
       "<html>\n",
       "<head><meta charset=\"utf-8\" /></head>\n",
       "<body>\n",
       "    <div>            <script src=\"https://cdnjs.cloudflare.com/ajax/libs/mathjax/2.7.5/MathJax.js?config=TeX-AMS-MML_SVG\"></script><script type=\"text/javascript\">if (window.MathJax) {MathJax.Hub.Config({SVG: {font: \"STIX-Web\"}});}</script>                <script type=\"text/javascript\">window.PlotlyConfig = {MathJaxConfig: 'local'};</script>\n",
       "        <script src=\"https://cdn.plot.ly/plotly-2.8.3.min.js\"></script>                <div id=\"c14194e1-23b5-4c35-8582-9e0f03ea3eb3\" class=\"plotly-graph-div\" style=\"height:525px; width:100%;\"></div>            <script type=\"text/javascript\">                                    window.PLOTLYENV=window.PLOTLYENV || {};                                    if (document.getElementById(\"c14194e1-23b5-4c35-8582-9e0f03ea3eb3\")) {                    Plotly.newPlot(                        \"c14194e1-23b5-4c35-8582-9e0f03ea3eb3\",                        [{\"hovertemplate\":\"Source=real<br>Date=%{x}<br>KG=%{y}<extra></extra>\",\"legendgroup\":\"real\",\"line\":{\"color\":\"#636efa\",\"dash\":\"solid\"},\"marker\":{\"symbol\":\"circle\"},\"mode\":\"lines\",\"name\":\"real\",\"orientation\":\"v\",\"showlegend\":true,\"x\":[\"4/2010\",\"5/2010\",\"6/2010\",\"7/2010\",\"8/2010\",\"9/2010\",\"10/2010\",\"11/2010\",\"12/2010\",\"1/2011\",\"2/2011\",\"3/2011\",\"4/2011\",\"5/2011\",\"6/2011\",\"7/2011\",\"8/2011\",\"9/2011\",\"10/2011\",\"11/2011\",\"12/2011\",\"1/2012\",\"2/2012\",\"3/2012\",\"4/2012\",\"5/2012\",\"6/2012\",\"7/2012\",\"8/2012\",\"9/2012\",\"10/2012\",\"11/2012\",\"12/2012\",\"1/2013\",\"2/2013\",\"3/2013\",\"4/2013\",\"5/2013\",\"6/2013\",\"7/2013\",\"8/2013\",\"9/2013\",\"10/2013\",\"11/2013\",\"12/2013\",\"1/2014\",\"2/2014\",\"3/2014\",\"4/2014\",\"5/2014\",\"6/2014\",\"7/2014\",\"8/2014\",\"9/2014\",\"10/2014\",\"11/2014\",\"12/2014\",\"1/2015\",\"2/2015\",\"3/2015\",\"4/2015\",\"5/2015\",\"6/2015\",\"7/2015\",\"8/2015\",\"9/2015\",\"10/2015\",\"11/2015\",\"12/2015\",\"1/2016\",\"2/2016\",\"3/2016\",\"4/2016\",\"5/2016\",\"6/2016\",\"7/2016\",\"8/2016\",\"9/2016\",\"10/2016\",\"11/2016\",\"12/2016\",\"1/2017\",\"2/2017\",\"3/2017\",\"4/2017\",\"5/2017\",\"6/2017\",\"7/2017\",\"8/2017\",\"9/2017\",\"10/2017\",\"11/2017\",\"12/2017\",\"1/2018\",\"2/2018\",\"3/2018\",\"4/2018\",\"5/2018\",\"6/2018\",\"7/2018\",\"8/2018\",\"9/2018\",\"10/2018\",\"11/2018\",\"12/2018\",\"1/2019\",\"2/2019\",\"3/2019\",\"4/2019\",\"5/2019\",\"6/2019\",\"7/2019\",\"8/2019\",\"9/2019\",\"10/2019\",\"11/2019\",\"12/2019\",\"1/2020\",\"2/2020\",\"3/2020\",\"4/2020\",\"5/2020\",\"6/2020\",\"7/2020\",\"8/2020\",\"9/2020\",\"10/2020\",\"11/2020\",\"12/2020\"],\"xaxis\":\"x\",\"y\":[11884.3708810225,13950.332334409886,12781.156535682429,14256.210023357236,12887.711959877464,15038.574005789536,12626.48930557771,14611.291109090684,13194.81429999148,14921.016215576235,13477.391456909943,15409.211079596587,13999.215068692509,15597.436975845374,14098.12497823274,15596.818092478728,14941.69403166363,15715.347212025836,14181.212141927936,16282.0980055455,14650.929410064906,16433.209008286325,15400.579033515967,16756.981262857273,15128.148250492244,17523.979943307248,15413.044691473402,16366.26437701746,14568.470958551738,16901.11154186154,14659.021365286097,16494.903960781197,15398.721298130027,17938.090871773184,15850.35787113158,18236.778754419985,15956.750789202086,17401.696472111977,15890.10321935092,17283.79073343649,16302.509223010222,17229.64501478726,16223.309276278227,17796.223621100053,16344.001270241426,17782.006164552513,16326.588260101846,18253.569321985724,16818.12312918114,18554.33980878632,16900.704327264033,18479.00603218699,17042.963875823145,18287.35559715585,17244.887842050513,18822.494484753846,17603.725932131478,18766.104076650663,17170.12649068024,19632.147600450644,16856.921979192426,18854.690380403008,17880.884218985302,19087.480847049384,18196.112254637803,19770.963054596545,16488.739325030063,19699.01989730995,17194.707087425755,19372.65790157132,17715.24432224015,19227.53144133251,17691.136252909622,20114.53450629712,17926.252604903035,19880.02532889845,16690.02893115867,19928.02694695529,18553.766165315024,20547.154033981024,17301.11715078875,19538.97650435099,17902.44835514176,21269.577926886348,18842.69654955895,20095.445399491346,17670.300576591326,20310.884287446843,18754.84178182952,20736.279238797026,18617.387584546323,20783.71123390676,17470.755864944782,20523.579839792717,18796.936905805047,20028.582492587037,18677.535295190337,20048.1074217522,18929.24861718753,20571.15590247796,18207.204656231734,20839.04289237627,18966.53298378622,20909.977545252816,18589.807151786372,21287.370122673103,17987.976866769444,21111.062684974822,18538.311320658097,21797.26713239234,18935.35277235507,21331.37841983855,18783.75961074272,22139.12337340894,18553.79727063604,21579.50628438568,19726.43311123112,21147.624131226225,19232.360491469408,21575.52105110441,18856.1781102771,20701.25067582265,19406.448559709923,22328.687162949856,19384.824041986754,21449.154889830097,19554.40558950196,21873.104938389297,19572.860127015803],\"yaxis\":\"y\",\"type\":\"scatter\"},{\"hovertemplate\":\"Source=predicted<br>Date=%{x}<br>KG=%{y}<extra></extra>\",\"legendgroup\":\"predicted\",\"line\":{\"color\":\"#EF553B\",\"dash\":\"solid\"},\"marker\":{\"symbol\":\"circle\"},\"mode\":\"lines\",\"name\":\"predicted\",\"orientation\":\"v\",\"showlegend\":true,\"x\":[\"4/2010\",\"5/2010\",\"6/2010\",\"7/2010\",\"8/2010\",\"9/2010\",\"10/2010\",\"11/2010\",\"12/2010\",\"1/2011\",\"2/2011\",\"3/2011\",\"4/2011\",\"5/2011\",\"6/2011\",\"7/2011\",\"8/2011\",\"9/2011\",\"10/2011\",\"11/2011\",\"12/2011\",\"1/2012\",\"2/2012\",\"3/2012\",\"4/2012\",\"5/2012\",\"6/2012\",\"7/2012\",\"8/2012\",\"9/2012\",\"10/2012\",\"11/2012\",\"12/2012\",\"1/2013\",\"2/2013\",\"3/2013\",\"4/2013\",\"5/2013\",\"6/2013\",\"7/2013\",\"8/2013\",\"9/2013\",\"10/2013\",\"11/2013\",\"12/2013\",\"1/2014\",\"2/2014\",\"3/2014\",\"4/2014\",\"5/2014\",\"6/2014\",\"7/2014\",\"8/2014\",\"9/2014\",\"10/2014\",\"11/2014\",\"12/2014\",\"1/2015\",\"2/2015\",\"3/2015\",\"4/2015\",\"5/2015\",\"6/2015\",\"7/2015\",\"8/2015\",\"9/2015\",\"10/2015\",\"11/2015\",\"12/2015\",\"1/2016\",\"2/2016\",\"3/2016\",\"4/2016\",\"5/2016\",\"6/2016\",\"7/2016\",\"8/2016\",\"9/2016\",\"10/2016\",\"11/2016\",\"12/2016\",\"1/2017\",\"2/2017\",\"3/2017\",\"4/2017\",\"5/2017\",\"6/2017\",\"7/2017\",\"8/2017\",\"9/2017\",\"10/2017\",\"11/2017\",\"12/2017\",\"1/2018\",\"2/2018\",\"3/2018\",\"4/2018\",\"5/2018\",\"6/2018\",\"7/2018\",\"8/2018\",\"9/2018\",\"10/2018\",\"11/2018\",\"12/2018\",\"1/2019\",\"2/2019\",\"3/2019\",\"4/2019\",\"5/2019\",\"6/2019\",\"7/2019\",\"8/2019\",\"9/2019\",\"10/2019\",\"11/2019\",\"12/2019\",\"1/2020\",\"2/2020\",\"3/2020\",\"4/2020\",\"5/2020\",\"6/2020\",\"7/2020\",\"8/2020\",\"9/2020\",\"10/2020\",\"11/2020\",\"12/2020\"],\"xaxis\":\"x\",\"y\":[11787.9921875,13528.689453125,12110.7001953125,13907.7119140625,12961.4736328125,14203.09375,13122.7568359375,14902.7314453125,12854.0654296875,14552.697265625,13398.21875,14863.3095703125,13698.328125,15354.958984375,14196.06640625,15539.146484375,14288.1796875,15605.3486328125,15073.185546875,15660.1328125,14419.06640625,16213.244140625,14866.4833984375,16413.986328125,15582.1884765625,16695.1640625,15393.87890625,17421.05859375,15570.0146484375,16292.0771484375,14827.8798828125,16785.5859375,14882.7314453125,16470.625,15673.4736328125,17837.8828125,16121.4560546875,18123.783203125,16155.7373046875,17351.328125,16079.8515625,17274.8125,16454.083984375,17221.455078125,16425.328125,17751.4140625,16538.830078125,17737.751953125,16559.697265625,18209.806640625,17038.30078125,18496.013671875,17110.263671875,18438.421875,17225.5703125,18278.9296875,17451.978515625,18800.451171875,17780.96484375,18716.90625,17449.77734375,19485.955078125,17106.3671875,18849.30078125,18061.234375,19094.646484375,18406.181640625,19591.318359375,16834.88671875,19569.560546875,17458.021484375,19314.787109375,17923.216796875,19182.78125,17969.66015625,20016.71875,18173.166015625,19705.658203125,17038.638671875,19887.98828125,18801.3125,20371.0625,17574.3515625,19483.0859375,18256.52734375,21152.060546875,19040.1953125,19986.482421875,17971.458984375,20262.103515625,19003.498046875,20649.45703125,18883.546875,20602.298828125,17809.0546875,20459.7109375,18988.08984375,20003.669921875,18876.6484375,20040.59375,19149.24609375,20466.580078125,18509.63671875,20767.818359375,19215.16796875,20808.3828125,18898.787109375,21105.818359375,18333.9609375,20982.98046875,18892.697265625,21648.6484375,19225.6796875,21210.89453125,19146.6171875,21934.666015625,18896.458984375,21510.51953125,19937.326171875,21082.162109375,19513.771484375,21442.978515625,19102.048828125,20679.7578125,19730.041015625,22178.12890625,19651.638671875,21382.49609375,19835.1796875],\"yaxis\":\"y\",\"type\":\"scatter\"}],                        {\"template\":{\"data\":{\"bar\":[{\"error_x\":{\"color\":\"#2a3f5f\"},\"error_y\":{\"color\":\"#2a3f5f\"},\"marker\":{\"line\":{\"color\":\"#E5ECF6\",\"width\":0.5},\"pattern\":{\"fillmode\":\"overlay\",\"size\":10,\"solidity\":0.2}},\"type\":\"bar\"}],\"barpolar\":[{\"marker\":{\"line\":{\"color\":\"#E5ECF6\",\"width\":0.5},\"pattern\":{\"fillmode\":\"overlay\",\"size\":10,\"solidity\":0.2}},\"type\":\"barpolar\"}],\"carpet\":[{\"aaxis\":{\"endlinecolor\":\"#2a3f5f\",\"gridcolor\":\"white\",\"linecolor\":\"white\",\"minorgridcolor\":\"white\",\"startlinecolor\":\"#2a3f5f\"},\"baxis\":{\"endlinecolor\":\"#2a3f5f\",\"gridcolor\":\"white\",\"linecolor\":\"white\",\"minorgridcolor\":\"white\",\"startlinecolor\":\"#2a3f5f\"},\"type\":\"carpet\"}],\"choropleth\":[{\"colorbar\":{\"outlinewidth\":0,\"ticks\":\"\"},\"type\":\"choropleth\"}],\"contour\":[{\"colorbar\":{\"outlinewidth\":0,\"ticks\":\"\"},\"colorscale\":[[0.0,\"#0d0887\"],[0.1111111111111111,\"#46039f\"],[0.2222222222222222,\"#7201a8\"],[0.3333333333333333,\"#9c179e\"],[0.4444444444444444,\"#bd3786\"],[0.5555555555555556,\"#d8576b\"],[0.6666666666666666,\"#ed7953\"],[0.7777777777777778,\"#fb9f3a\"],[0.8888888888888888,\"#fdca26\"],[1.0,\"#f0f921\"]],\"type\":\"contour\"}],\"contourcarpet\":[{\"colorbar\":{\"outlinewidth\":0,\"ticks\":\"\"},\"type\":\"contourcarpet\"}],\"heatmap\":[{\"colorbar\":{\"outlinewidth\":0,\"ticks\":\"\"},\"colorscale\":[[0.0,\"#0d0887\"],[0.1111111111111111,\"#46039f\"],[0.2222222222222222,\"#7201a8\"],[0.3333333333333333,\"#9c179e\"],[0.4444444444444444,\"#bd3786\"],[0.5555555555555556,\"#d8576b\"],[0.6666666666666666,\"#ed7953\"],[0.7777777777777778,\"#fb9f3a\"],[0.8888888888888888,\"#fdca26\"],[1.0,\"#f0f921\"]],\"type\":\"heatmap\"}],\"heatmapgl\":[{\"colorbar\":{\"outlinewidth\":0,\"ticks\":\"\"},\"colorscale\":[[0.0,\"#0d0887\"],[0.1111111111111111,\"#46039f\"],[0.2222222222222222,\"#7201a8\"],[0.3333333333333333,\"#9c179e\"],[0.4444444444444444,\"#bd3786\"],[0.5555555555555556,\"#d8576b\"],[0.6666666666666666,\"#ed7953\"],[0.7777777777777778,\"#fb9f3a\"],[0.8888888888888888,\"#fdca26\"],[1.0,\"#f0f921\"]],\"type\":\"heatmapgl\"}],\"histogram\":[{\"marker\":{\"pattern\":{\"fillmode\":\"overlay\",\"size\":10,\"solidity\":0.2}},\"type\":\"histogram\"}],\"histogram2d\":[{\"colorbar\":{\"outlinewidth\":0,\"ticks\":\"\"},\"colorscale\":[[0.0,\"#0d0887\"],[0.1111111111111111,\"#46039f\"],[0.2222222222222222,\"#7201a8\"],[0.3333333333333333,\"#9c179e\"],[0.4444444444444444,\"#bd3786\"],[0.5555555555555556,\"#d8576b\"],[0.6666666666666666,\"#ed7953\"],[0.7777777777777778,\"#fb9f3a\"],[0.8888888888888888,\"#fdca26\"],[1.0,\"#f0f921\"]],\"type\":\"histogram2d\"}],\"histogram2dcontour\":[{\"colorbar\":{\"outlinewidth\":0,\"ticks\":\"\"},\"colorscale\":[[0.0,\"#0d0887\"],[0.1111111111111111,\"#46039f\"],[0.2222222222222222,\"#7201a8\"],[0.3333333333333333,\"#9c179e\"],[0.4444444444444444,\"#bd3786\"],[0.5555555555555556,\"#d8576b\"],[0.6666666666666666,\"#ed7953\"],[0.7777777777777778,\"#fb9f3a\"],[0.8888888888888888,\"#fdca26\"],[1.0,\"#f0f921\"]],\"type\":\"histogram2dcontour\"}],\"mesh3d\":[{\"colorbar\":{\"outlinewidth\":0,\"ticks\":\"\"},\"type\":\"mesh3d\"}],\"parcoords\":[{\"line\":{\"colorbar\":{\"outlinewidth\":0,\"ticks\":\"\"}},\"type\":\"parcoords\"}],\"pie\":[{\"automargin\":true,\"type\":\"pie\"}],\"scatter\":[{\"marker\":{\"colorbar\":{\"outlinewidth\":0,\"ticks\":\"\"}},\"type\":\"scatter\"}],\"scatter3d\":[{\"line\":{\"colorbar\":{\"outlinewidth\":0,\"ticks\":\"\"}},\"marker\":{\"colorbar\":{\"outlinewidth\":0,\"ticks\":\"\"}},\"type\":\"scatter3d\"}],\"scattercarpet\":[{\"marker\":{\"colorbar\":{\"outlinewidth\":0,\"ticks\":\"\"}},\"type\":\"scattercarpet\"}],\"scattergeo\":[{\"marker\":{\"colorbar\":{\"outlinewidth\":0,\"ticks\":\"\"}},\"type\":\"scattergeo\"}],\"scattergl\":[{\"marker\":{\"colorbar\":{\"outlinewidth\":0,\"ticks\":\"\"}},\"type\":\"scattergl\"}],\"scattermapbox\":[{\"marker\":{\"colorbar\":{\"outlinewidth\":0,\"ticks\":\"\"}},\"type\":\"scattermapbox\"}],\"scatterpolar\":[{\"marker\":{\"colorbar\":{\"outlinewidth\":0,\"ticks\":\"\"}},\"type\":\"scatterpolar\"}],\"scatterpolargl\":[{\"marker\":{\"colorbar\":{\"outlinewidth\":0,\"ticks\":\"\"}},\"type\":\"scatterpolargl\"}],\"scatterternary\":[{\"marker\":{\"colorbar\":{\"outlinewidth\":0,\"ticks\":\"\"}},\"type\":\"scatterternary\"}],\"surface\":[{\"colorbar\":{\"outlinewidth\":0,\"ticks\":\"\"},\"colorscale\":[[0.0,\"#0d0887\"],[0.1111111111111111,\"#46039f\"],[0.2222222222222222,\"#7201a8\"],[0.3333333333333333,\"#9c179e\"],[0.4444444444444444,\"#bd3786\"],[0.5555555555555556,\"#d8576b\"],[0.6666666666666666,\"#ed7953\"],[0.7777777777777778,\"#fb9f3a\"],[0.8888888888888888,\"#fdca26\"],[1.0,\"#f0f921\"]],\"type\":\"surface\"}],\"table\":[{\"cells\":{\"fill\":{\"color\":\"#EBF0F8\"},\"line\":{\"color\":\"white\"}},\"header\":{\"fill\":{\"color\":\"#C8D4E3\"},\"line\":{\"color\":\"white\"}},\"type\":\"table\"}]},\"layout\":{\"annotationdefaults\":{\"arrowcolor\":\"#2a3f5f\",\"arrowhead\":0,\"arrowwidth\":1},\"autotypenumbers\":\"strict\",\"coloraxis\":{\"colorbar\":{\"outlinewidth\":0,\"ticks\":\"\"}},\"colorscale\":{\"diverging\":[[0,\"#8e0152\"],[0.1,\"#c51b7d\"],[0.2,\"#de77ae\"],[0.3,\"#f1b6da\"],[0.4,\"#fde0ef\"],[0.5,\"#f7f7f7\"],[0.6,\"#e6f5d0\"],[0.7,\"#b8e186\"],[0.8,\"#7fbc41\"],[0.9,\"#4d9221\"],[1,\"#276419\"]],\"sequential\":[[0.0,\"#0d0887\"],[0.1111111111111111,\"#46039f\"],[0.2222222222222222,\"#7201a8\"],[0.3333333333333333,\"#9c179e\"],[0.4444444444444444,\"#bd3786\"],[0.5555555555555556,\"#d8576b\"],[0.6666666666666666,\"#ed7953\"],[0.7777777777777778,\"#fb9f3a\"],[0.8888888888888888,\"#fdca26\"],[1.0,\"#f0f921\"]],\"sequentialminus\":[[0.0,\"#0d0887\"],[0.1111111111111111,\"#46039f\"],[0.2222222222222222,\"#7201a8\"],[0.3333333333333333,\"#9c179e\"],[0.4444444444444444,\"#bd3786\"],[0.5555555555555556,\"#d8576b\"],[0.6666666666666666,\"#ed7953\"],[0.7777777777777778,\"#fb9f3a\"],[0.8888888888888888,\"#fdca26\"],[1.0,\"#f0f921\"]]},\"colorway\":[\"#636efa\",\"#EF553B\",\"#00cc96\",\"#ab63fa\",\"#FFA15A\",\"#19d3f3\",\"#FF6692\",\"#B6E880\",\"#FF97FF\",\"#FECB52\"],\"font\":{\"color\":\"#2a3f5f\"},\"geo\":{\"bgcolor\":\"white\",\"lakecolor\":\"white\",\"landcolor\":\"#E5ECF6\",\"showlakes\":true,\"showland\":true,\"subunitcolor\":\"white\"},\"hoverlabel\":{\"align\":\"left\"},\"hovermode\":\"closest\",\"mapbox\":{\"style\":\"light\"},\"paper_bgcolor\":\"white\",\"plot_bgcolor\":\"#E5ECF6\",\"polar\":{\"angularaxis\":{\"gridcolor\":\"white\",\"linecolor\":\"white\",\"ticks\":\"\"},\"bgcolor\":\"#E5ECF6\",\"radialaxis\":{\"gridcolor\":\"white\",\"linecolor\":\"white\",\"ticks\":\"\"}},\"scene\":{\"xaxis\":{\"backgroundcolor\":\"#E5ECF6\",\"gridcolor\":\"white\",\"gridwidth\":2,\"linecolor\":\"white\",\"showbackground\":true,\"ticks\":\"\",\"zerolinecolor\":\"white\"},\"yaxis\":{\"backgroundcolor\":\"#E5ECF6\",\"gridcolor\":\"white\",\"gridwidth\":2,\"linecolor\":\"white\",\"showbackground\":true,\"ticks\":\"\",\"zerolinecolor\":\"white\"},\"zaxis\":{\"backgroundcolor\":\"#E5ECF6\",\"gridcolor\":\"white\",\"gridwidth\":2,\"linecolor\":\"white\",\"showbackground\":true,\"ticks\":\"\",\"zerolinecolor\":\"white\"}},\"shapedefaults\":{\"line\":{\"color\":\"#2a3f5f\"}},\"ternary\":{\"aaxis\":{\"gridcolor\":\"white\",\"linecolor\":\"white\",\"ticks\":\"\"},\"baxis\":{\"gridcolor\":\"white\",\"linecolor\":\"white\",\"ticks\":\"\"},\"bgcolor\":\"#E5ECF6\",\"caxis\":{\"gridcolor\":\"white\",\"linecolor\":\"white\",\"ticks\":\"\"}},\"title\":{\"x\":0.05},\"xaxis\":{\"automargin\":true,\"gridcolor\":\"white\",\"linecolor\":\"white\",\"ticks\":\"\",\"title\":{\"standoff\":15},\"zerolinecolor\":\"white\",\"zerolinewidth\":2},\"yaxis\":{\"automargin\":true,\"gridcolor\":\"white\",\"linecolor\":\"white\",\"ticks\":\"\",\"title\":{\"standoff\":15},\"zerolinecolor\":\"white\",\"zerolinewidth\":2}}},\"xaxis\":{\"anchor\":\"y\",\"domain\":[0.0,1.0],\"title\":{\"text\":\"Date\"}},\"yaxis\":{\"anchor\":\"x\",\"domain\":[0.0,1.0],\"title\":{\"text\":\"KG\"}},\"legend\":{\"title\":{\"text\":\"Source\"},\"tracegroupgap\":0},\"margin\":{\"t\":60}},                        {\"responsive\": true}                    ).then(function(){\n",
       "                            \n",
       "var gd = document.getElementById('c14194e1-23b5-4c35-8582-9e0f03ea3eb3');\n",
       "var x = new MutationObserver(function (mutations, observer) {{\n",
       "        var display = window.getComputedStyle(gd).display;\n",
       "        if (!display || display === 'none') {{\n",
       "            console.log([gd, 'removed!']);\n",
       "            Plotly.purge(gd);\n",
       "            observer.disconnect();\n",
       "        }}\n",
       "}});\n",
       "\n",
       "// Listen for the removal of the full notebook cells\n",
       "var notebookContainer = gd.closest('#notebook-container');\n",
       "if (notebookContainer) {{\n",
       "    x.observe(notebookContainer, {childList: true});\n",
       "}}\n",
       "\n",
       "// Listen for the clearing of the current output cell\n",
       "var outputEl = gd.closest('.output');\n",
       "if (outputEl) {{\n",
       "    x.observe(outputEl, {childList: true});\n",
       "}}\n",
       "\n",
       "                        })                };                            </script>        </div>\n",
       "</body>\n",
       "</html>"
      ]
     },
     "metadata": {},
     "output_type": "display_data"
    }
   ],
   "source": [
    "px.line(dfs[2], x='Date', y='KG', color='Source')"
   ]
  },
  {
   "cell_type": "markdown",
   "metadata": {
    "id": "zwgi8MPtiL9v"
   },
   "source": [
    "<a name='x.4.3'></a>\n",
    "\n",
    "### 6.4.3 LSTM NN\n",
    "\n",
    "[back to top](#top)\n",
    "\n",
    "Our data preparation for the LSTM NN includes time steps. The parameter `input_dim` tells our `LSTM` block how man time steps we have in the input data. This is a reframing (and a more appropriate reframing) of the same problem. The LSTM model is viewing the input feature w/ multiple time steps as a single feature at different times, rather than separate features. We could, for instance, have a second dimension that includes non-time related information, such as the customer name or truffle types (or other featurse that also vary through time, multiple feed rates or T/P, etc)."
   ]
  },
  {
   "cell_type": "code",
   "execution_count": 24,
   "metadata": {
    "colab": {
     "base_uri": "https://localhost:8080/"
    },
    "executionInfo": {
     "elapsed": 342,
     "status": "ok",
     "timestamp": 1645668658093,
     "user": {
      "displayName": "Wesley Beckner",
      "photoUrl": "https://lh3.googleusercontent.com/a-/AOh14GjSrSNC5ljFK1tVytNJhengi6L9T_zjAvSSfuo3ug=s64",
      "userId": "17051665784581118920"
     },
     "user_tz": 480
    },
    "id": "mx3EaOVbiQG9",
    "outputId": "f15f80a7-a613-4a6e-fb6b-3af1cb3525b3"
   },
   "outputs": [
    {
     "name": "stdout",
     "output_type": "stream",
     "text": [
      "WARNING:tensorflow:Layer lstm will not use cuDNN kernels since it doesn't meet the criteria. It will use a generic GPU kernel as fallback when running on GPU.\n"
     ]
    }
   ],
   "source": [
    "window_size = 6\n",
    "batch_size = 10\n",
    "\n",
    "X, y, labels = process_data(orders.loc[[0], time_cols].values, window=window_size, time_cols=132)\n",
    "\n",
    "X = X.reshape(-1, 1, window_size)\n",
    "y = y.reshape(-1, 1, 1)\n",
    "\n",
    "model = keras.Sequential([\n",
    "    layers.LSTM(8, activation='relu', input_dim=window_size),\n",
    "    layers.Dense(8),\n",
    "    layers.Dense(1)\n",
    "])\n",
    "\n",
    "model.compile(loss='mean_squared_error', optimizer='adam')"
   ]
  },
  {
   "cell_type": "code",
   "execution_count": 25,
   "metadata": {
    "executionInfo": {
     "elapsed": 220520,
     "status": "ok",
     "timestamp": 1645668878611,
     "user": {
      "displayName": "Wesley Beckner",
      "photoUrl": "https://lh3.googleusercontent.com/a-/AOh14GjSrSNC5ljFK1tVytNJhengi6L9T_zjAvSSfuo3ug=s64",
      "userId": "17051665784581118920"
     },
     "user_tz": 480
    },
    "id": "8ZDjSaKrjuko"
   },
   "outputs": [],
   "source": [
    "history = model.fit(\n",
    "    X, y,\n",
    "    batch_size=batch_size,\n",
    "    epochs=int(1e4),\n",
    "    callbacks=[early_stopping],\n",
    "    verbose=0, # hide the output because we have so many epochs\n",
    ")"
   ]
  },
  {
   "cell_type": "code",
   "execution_count": 26,
   "metadata": {
    "colab": {
     "base_uri": "https://localhost:8080/",
     "height": 206
    },
    "executionInfo": {
     "elapsed": 26,
     "status": "ok",
     "timestamp": 1645668878611,
     "user": {
      "displayName": "Wesley Beckner",
      "photoUrl": "https://lh3.googleusercontent.com/a-/AOh14GjSrSNC5ljFK1tVytNJhengi6L9T_zjAvSSfuo3ug=s64",
      "userId": "17051665784581118920"
     },
     "user_tz": 480
    },
    "id": "ibLkZmnslG7o",
    "outputId": "365d6491-d339-40e6-bad8-2a4a61cb6776"
   },
   "outputs": [
    {
     "data": {
      "text/html": [
       "\n",
       "  <div id=\"df-1c67f9fb-60da-4b60-a4a2-c57ecffd7221\">\n",
       "    <div class=\"colab-df-container\">\n",
       "      <div>\n",
       "<style scoped>\n",
       "    .dataframe tbody tr th:only-of-type {\n",
       "        vertical-align: middle;\n",
       "    }\n",
       "\n",
       "    .dataframe tbody tr th {\n",
       "        vertical-align: top;\n",
       "    }\n",
       "\n",
       "    .dataframe thead th {\n",
       "        text-align: right;\n",
       "    }\n",
       "</style>\n",
       "<table border=\"1\" class=\"dataframe\">\n",
       "  <thead>\n",
       "    <tr style=\"text-align: right;\">\n",
       "      <th></th>\n",
       "      <th>loss</th>\n",
       "    </tr>\n",
       "  </thead>\n",
       "  <tbody>\n",
       "    <tr>\n",
       "      <th>4050</th>\n",
       "      <td>4906831.5</td>\n",
       "    </tr>\n",
       "    <tr>\n",
       "      <th>4051</th>\n",
       "      <td>4906659.0</td>\n",
       "    </tr>\n",
       "    <tr>\n",
       "      <th>4052</th>\n",
       "      <td>4906790.5</td>\n",
       "    </tr>\n",
       "    <tr>\n",
       "      <th>4053</th>\n",
       "      <td>4906763.0</td>\n",
       "    </tr>\n",
       "    <tr>\n",
       "      <th>4054</th>\n",
       "      <td>4906620.5</td>\n",
       "    </tr>\n",
       "  </tbody>\n",
       "</table>\n",
       "</div>\n",
       "      <button class=\"colab-df-convert\" onclick=\"convertToInteractive('df-1c67f9fb-60da-4b60-a4a2-c57ecffd7221')\"\n",
       "              title=\"Convert this dataframe to an interactive table.\"\n",
       "              style=\"display:none;\">\n",
       "        \n",
       "  <svg xmlns=\"http://www.w3.org/2000/svg\" height=\"24px\"viewBox=\"0 0 24 24\"\n",
       "       width=\"24px\">\n",
       "    <path d=\"M0 0h24v24H0V0z\" fill=\"none\"/>\n",
       "    <path d=\"M18.56 5.44l.94 2.06.94-2.06 2.06-.94-2.06-.94-.94-2.06-.94 2.06-2.06.94zm-11 1L8.5 8.5l.94-2.06 2.06-.94-2.06-.94L8.5 2.5l-.94 2.06-2.06.94zm10 10l.94 2.06.94-2.06 2.06-.94-2.06-.94-.94-2.06-.94 2.06-2.06.94z\"/><path d=\"M17.41 7.96l-1.37-1.37c-.4-.4-.92-.59-1.43-.59-.52 0-1.04.2-1.43.59L10.3 9.45l-7.72 7.72c-.78.78-.78 2.05 0 2.83L4 21.41c.39.39.9.59 1.41.59.51 0 1.02-.2 1.41-.59l7.78-7.78 2.81-2.81c.8-.78.8-2.07 0-2.86zM5.41 20L4 18.59l7.72-7.72 1.47 1.35L5.41 20z\"/>\n",
       "  </svg>\n",
       "      </button>\n",
       "      \n",
       "  <style>\n",
       "    .colab-df-container {\n",
       "      display:flex;\n",
       "      flex-wrap:wrap;\n",
       "      gap: 12px;\n",
       "    }\n",
       "\n",
       "    .colab-df-convert {\n",
       "      background-color: #E8F0FE;\n",
       "      border: none;\n",
       "      border-radius: 50%;\n",
       "      cursor: pointer;\n",
       "      display: none;\n",
       "      fill: #1967D2;\n",
       "      height: 32px;\n",
       "      padding: 0 0 0 0;\n",
       "      width: 32px;\n",
       "    }\n",
       "\n",
       "    .colab-df-convert:hover {\n",
       "      background-color: #E2EBFA;\n",
       "      box-shadow: 0px 1px 2px rgba(60, 64, 67, 0.3), 0px 1px 3px 1px rgba(60, 64, 67, 0.15);\n",
       "      fill: #174EA6;\n",
       "    }\n",
       "\n",
       "    [theme=dark] .colab-df-convert {\n",
       "      background-color: #3B4455;\n",
       "      fill: #D2E3FC;\n",
       "    }\n",
       "\n",
       "    [theme=dark] .colab-df-convert:hover {\n",
       "      background-color: #434B5C;\n",
       "      box-shadow: 0px 1px 3px 1px rgba(0, 0, 0, 0.15);\n",
       "      filter: drop-shadow(0px 1px 2px rgba(0, 0, 0, 0.3));\n",
       "      fill: #FFFFFF;\n",
       "    }\n",
       "  </style>\n",
       "\n",
       "      <script>\n",
       "        const buttonEl =\n",
       "          document.querySelector('#df-1c67f9fb-60da-4b60-a4a2-c57ecffd7221 button.colab-df-convert');\n",
       "        buttonEl.style.display =\n",
       "          google.colab.kernel.accessAllowed ? 'block' : 'none';\n",
       "\n",
       "        async function convertToInteractive(key) {\n",
       "          const element = document.querySelector('#df-1c67f9fb-60da-4b60-a4a2-c57ecffd7221');\n",
       "          const dataTable =\n",
       "            await google.colab.kernel.invokeFunction('convertToInteractive',\n",
       "                                                     [key], {});\n",
       "          if (!dataTable) return;\n",
       "\n",
       "          const docLinkHtml = 'Like what you see? Visit the ' +\n",
       "            '<a target=\"_blank\" href=https://colab.research.google.com/notebooks/data_table.ipynb>data table notebook</a>'\n",
       "            + ' to learn more about interactive tables.';\n",
       "          element.innerHTML = '';\n",
       "          dataTable['output_type'] = 'display_data';\n",
       "          await google.colab.output.renderOutput(dataTable, element);\n",
       "          const docLink = document.createElement('div');\n",
       "          docLink.innerHTML = docLinkHtml;\n",
       "          element.appendChild(docLink);\n",
       "        }\n",
       "      </script>\n",
       "    </div>\n",
       "  </div>\n",
       "  "
      ],
      "text/plain": [
       "           loss\n",
       "4050  4906831.5\n",
       "4051  4906659.0\n",
       "4052  4906790.5\n",
       "4053  4906763.0\n",
       "4054  4906620.5"
      ]
     },
     "execution_count": 26,
     "metadata": {},
     "output_type": "execute_result"
    }
   ],
   "source": [
    "history_df = pd.DataFrame(history.history)\n",
    "history_df.tail()"
   ]
  },
  {
   "cell_type": "code",
   "execution_count": 27,
   "metadata": {
    "executionInfo": {
     "elapsed": 42602,
     "status": "ok",
     "timestamp": 1645668921194,
     "user": {
      "displayName": "Wesley Beckner",
      "photoUrl": "https://lh3.googleusercontent.com/a-/AOh14GjSrSNC5ljFK1tVytNJhengi6L9T_zjAvSSfuo3ug=s64",
      "userId": "17051665784581118920"
     },
     "user_tz": 480
    },
    "id": "42fD1IJplFk_"
   },
   "outputs": [],
   "source": [
    "results = melt_results(model, X, y.flatten(), window_size)"
   ]
  },
  {
   "cell_type": "code",
   "execution_count": 28,
   "metadata": {
    "colab": {
     "base_uri": "https://localhost:8080/",
     "height": 542
    },
    "executionInfo": {
     "elapsed": 21,
     "status": "ok",
     "timestamp": 1645668921195,
     "user": {
      "displayName": "Wesley Beckner",
      "photoUrl": "https://lh3.googleusercontent.com/a-/AOh14GjSrSNC5ljFK1tVytNJhengi6L9T_zjAvSSfuo3ug=s64",
      "userId": "17051665784581118920"
     },
     "user_tz": 480
    },
    "id": "B-r4M1nYlOrP",
    "outputId": "379f4e01-b14c-4a74-bee0-f07cf3fa9468"
   },
   "outputs": [
    {
     "data": {
      "text/html": [
       "<html>\n",
       "<head><meta charset=\"utf-8\" /></head>\n",
       "<body>\n",
       "    <div>            <script src=\"https://cdnjs.cloudflare.com/ajax/libs/mathjax/2.7.5/MathJax.js?config=TeX-AMS-MML_SVG\"></script><script type=\"text/javascript\">if (window.MathJax) {MathJax.Hub.Config({SVG: {font: \"STIX-Web\"}});}</script>                <script type=\"text/javascript\">window.PlotlyConfig = {MathJaxConfig: 'local'};</script>\n",
       "        <script src=\"https://cdn.plot.ly/plotly-2.8.3.min.js\"></script>                <div id=\"667e8358-593d-4c9c-84a1-9d04379b0ab1\" class=\"plotly-graph-div\" style=\"height:525px; width:100%;\"></div>            <script type=\"text/javascript\">                                    window.PLOTLYENV=window.PLOTLYENV || {};                                    if (document.getElementById(\"667e8358-593d-4c9c-84a1-9d04379b0ab1\")) {                    Plotly.newPlot(                        \"667e8358-593d-4c9c-84a1-9d04379b0ab1\",                        [{\"hovertemplate\":\"Source=real<br>Date=%{x}<br>KG=%{y}<extra></extra>\",\"legendgroup\":\"real\",\"line\":{\"color\":\"#636efa\",\"dash\":\"solid\"},\"marker\":{\"symbol\":\"circle\"},\"mode\":\"lines\",\"name\":\"real\",\"orientation\":\"v\",\"showlegend\":true,\"x\":[\"7/2010\",\"8/2010\",\"9/2010\",\"10/2010\",\"11/2010\",\"12/2010\",\"1/2011\",\"2/2011\",\"3/2011\",\"4/2011\",\"5/2011\",\"6/2011\",\"7/2011\",\"8/2011\",\"9/2011\",\"10/2011\",\"11/2011\",\"12/2011\",\"1/2012\",\"2/2012\",\"3/2012\",\"4/2012\",\"5/2012\",\"6/2012\",\"7/2012\",\"8/2012\",\"9/2012\",\"10/2012\",\"11/2012\",\"12/2012\",\"1/2013\",\"2/2013\",\"3/2013\",\"4/2013\",\"5/2013\",\"6/2013\",\"7/2013\",\"8/2013\",\"9/2013\",\"10/2013\",\"11/2013\",\"12/2013\",\"1/2014\",\"2/2014\",\"3/2014\",\"4/2014\",\"5/2014\",\"6/2014\",\"7/2014\",\"8/2014\",\"9/2014\",\"10/2014\",\"11/2014\",\"12/2014\",\"1/2015\",\"2/2015\",\"3/2015\",\"4/2015\",\"5/2015\",\"6/2015\",\"7/2015\",\"8/2015\",\"9/2015\",\"10/2015\",\"11/2015\",\"12/2015\",\"1/2016\",\"2/2016\",\"3/2016\",\"4/2016\",\"5/2016\",\"6/2016\",\"7/2016\",\"8/2016\",\"9/2016\",\"10/2016\",\"11/2016\",\"12/2016\",\"1/2017\",\"2/2017\",\"3/2017\",\"4/2017\",\"5/2017\",\"6/2017\",\"7/2017\",\"8/2017\",\"9/2017\",\"10/2017\",\"11/2017\",\"12/2017\",\"1/2018\",\"2/2018\",\"3/2018\",\"4/2018\",\"5/2018\",\"6/2018\",\"7/2018\",\"8/2018\",\"9/2018\",\"10/2018\",\"11/2018\",\"12/2018\",\"1/2019\",\"2/2019\",\"3/2019\",\"4/2019\",\"5/2019\",\"6/2019\",\"7/2019\",\"8/2019\",\"9/2019\",\"10/2019\",\"11/2019\",\"12/2019\",\"1/2020\",\"2/2020\",\"3/2020\",\"4/2020\",\"5/2020\",\"6/2020\",\"7/2020\",\"8/2020\",\"9/2020\",\"10/2020\",\"11/2020\",\"12/2020\"],\"xaxis\":\"x\",\"y\":[14256.210023357236,12887.711959877464,15038.574005789536,12626.48930557771,14611.291109090684,13194.81429999148,14921.016215576235,13477.391456909943,15409.211079596587,13999.215068692509,15597.436975845374,14098.12497823274,15596.818092478728,14941.69403166363,15715.347212025836,14181.212141927936,16282.0980055455,14650.929410064906,16433.209008286325,15400.579033515967,16756.981262857273,15128.148250492244,17523.979943307248,15413.044691473402,16366.26437701746,14568.470958551738,16901.11154186154,14659.021365286097,16494.903960781197,15398.721298130027,17938.090871773184,15850.35787113158,18236.778754419985,15956.750789202086,17401.696472111977,15890.10321935092,17283.79073343649,16302.509223010222,17229.64501478726,16223.309276278227,17796.223621100053,16344.001270241426,17782.006164552513,16326.588260101846,18253.569321985724,16818.12312918114,18554.33980878632,16900.704327264033,18479.00603218699,17042.963875823145,18287.35559715585,17244.887842050513,18822.494484753846,17603.725932131478,18766.104076650663,17170.12649068024,19632.147600450644,16856.921979192426,18854.690380403008,17880.884218985302,19087.480847049384,18196.112254637803,19770.963054596545,16488.739325030063,19699.01989730995,17194.707087425755,19372.65790157132,17715.24432224015,19227.53144133251,17691.136252909622,20114.53450629712,17926.252604903035,19880.02532889845,16690.02893115867,19928.02694695529,18553.766165315024,20547.154033981024,17301.11715078875,19538.97650435099,17902.44835514176,21269.577926886348,18842.69654955895,20095.445399491346,17670.300576591326,20310.884287446843,18754.84178182952,20736.279238797026,18617.387584546323,20783.71123390676,17470.755864944782,20523.579839792717,18796.936905805047,20028.582492587037,18677.535295190337,20048.1074217522,18929.24861718753,20571.15590247796,18207.204656231734,20839.04289237627,18966.53298378622,20909.977545252816,18589.807151786372,21287.370122673103,17987.976866769444,21111.062684974822,18538.311320658097,21797.26713239234,18935.35277235507,21331.37841983855,18783.75961074272,22139.12337340894,18553.79727063604,21579.50628438568,19726.43311123112,21147.624131226225,19232.360491469408,21575.52105110441,18856.1781102771,20701.25067582265,19406.448559709923,22328.687162949856,19384.824041986754,21449.154889830097,19554.40558950196,21873.104938389297,19572.860127015803],\"yaxis\":\"y\",\"type\":\"scatter\"},{\"hovertemplate\":\"Source=predicted<br>Date=%{x}<br>KG=%{y}<extra></extra>\",\"legendgroup\":\"predicted\",\"line\":{\"color\":\"#EF553B\",\"dash\":\"solid\"},\"marker\":{\"symbol\":\"circle\"},\"mode\":\"lines\",\"name\":\"predicted\",\"orientation\":\"v\",\"showlegend\":true,\"x\":[\"7/2010\",\"8/2010\",\"9/2010\",\"10/2010\",\"11/2010\",\"12/2010\",\"1/2011\",\"2/2011\",\"3/2011\",\"4/2011\",\"5/2011\",\"6/2011\",\"7/2011\",\"8/2011\",\"9/2011\",\"10/2011\",\"11/2011\",\"12/2011\",\"1/2012\",\"2/2012\",\"3/2012\",\"4/2012\",\"5/2012\",\"6/2012\",\"7/2012\",\"8/2012\",\"9/2012\",\"10/2012\",\"11/2012\",\"12/2012\",\"1/2013\",\"2/2013\",\"3/2013\",\"4/2013\",\"5/2013\",\"6/2013\",\"7/2013\",\"8/2013\",\"9/2013\",\"10/2013\",\"11/2013\",\"12/2013\",\"1/2014\",\"2/2014\",\"3/2014\",\"4/2014\",\"5/2014\",\"6/2014\",\"7/2014\",\"8/2014\",\"9/2014\",\"10/2014\",\"11/2014\",\"12/2014\",\"1/2015\",\"2/2015\",\"3/2015\",\"4/2015\",\"5/2015\",\"6/2015\",\"7/2015\",\"8/2015\",\"9/2015\",\"10/2015\",\"11/2015\",\"12/2015\",\"1/2016\",\"2/2016\",\"3/2016\",\"4/2016\",\"5/2016\",\"6/2016\",\"7/2016\",\"8/2016\",\"9/2016\",\"10/2016\",\"11/2016\",\"12/2016\",\"1/2017\",\"2/2017\",\"3/2017\",\"4/2017\",\"5/2017\",\"6/2017\",\"7/2017\",\"8/2017\",\"9/2017\",\"10/2017\",\"11/2017\",\"12/2017\",\"1/2018\",\"2/2018\",\"3/2018\",\"4/2018\",\"5/2018\",\"6/2018\",\"7/2018\",\"8/2018\",\"9/2018\",\"10/2018\",\"11/2018\",\"12/2018\",\"1/2019\",\"2/2019\",\"3/2019\",\"4/2019\",\"5/2019\",\"6/2019\",\"7/2019\",\"8/2019\",\"9/2019\",\"10/2019\",\"11/2019\",\"12/2019\",\"1/2020\",\"2/2020\",\"3/2020\",\"4/2020\",\"5/2020\",\"6/2020\",\"7/2020\",\"8/2020\",\"9/2020\",\"10/2020\",\"11/2020\",\"12/2020\"],\"xaxis\":\"x\",\"y\":[17969.009765625,17969.009765625,17969.009765625,17969.009765625,17969.009765625,17969.009765625,17969.009765625,17969.009765625,17969.009765625,17969.009765625,17969.009765625,17969.009765625,17969.009765625,17969.009765625,17969.009765625,17969.009765625,17969.009765625,17969.009765625,17969.009765625,17969.009765625,17969.009765625,17969.009765625,17969.009765625,17969.009765625,17969.009765625,17969.009765625,17969.009765625,17969.009765625,17969.009765625,17969.009765625,17969.009765625,17969.009765625,17969.009765625,17969.009765625,17969.009765625,17969.009765625,17969.009765625,17969.009765625,17969.009765625,17969.009765625,17969.009765625,17969.009765625,17969.009765625,17969.009765625,17969.009765625,17969.009765625,17969.009765625,17969.009765625,17969.009765625,17969.009765625,17969.009765625,17969.009765625,17969.009765625,17969.009765625,17969.009765625,17969.009765625,17969.009765625,17969.009765625,17969.009765625,17969.009765625,17969.009765625,17969.009765625,17969.009765625,17969.009765625,17969.009765625,17969.009765625,17969.009765625,17969.009765625,17969.009765625,17969.009765625,17969.009765625,17969.009765625,17969.009765625,17969.009765625,17969.009765625,17969.009765625,17969.009765625,17969.009765625,17969.009765625,17969.009765625,17969.009765625,17969.009765625,17969.009765625,17969.009765625,17969.009765625,17969.009765625,17969.009765625,17969.009765625,17969.009765625,17969.009765625,17969.009765625,17969.009765625,17969.009765625,17969.009765625,17969.009765625,17969.009765625,17969.009765625,17969.009765625,17969.009765625,17969.009765625,17969.009765625,17969.009765625,17969.009765625,17969.009765625,17969.009765625,17969.009765625,17969.009765625,17969.009765625,17969.009765625,17969.009765625,17969.009765625,17969.009765625,17969.009765625,17969.009765625,17969.009765625,17969.009765625,17969.009765625,17969.009765625,17969.009765625,17969.009765625,17969.009765625,17969.009765625,17969.009765625,17969.009765625,17969.009765625,17969.009765625],\"yaxis\":\"y\",\"type\":\"scatter\"}],                        {\"template\":{\"data\":{\"bar\":[{\"error_x\":{\"color\":\"#2a3f5f\"},\"error_y\":{\"color\":\"#2a3f5f\"},\"marker\":{\"line\":{\"color\":\"#E5ECF6\",\"width\":0.5},\"pattern\":{\"fillmode\":\"overlay\",\"size\":10,\"solidity\":0.2}},\"type\":\"bar\"}],\"barpolar\":[{\"marker\":{\"line\":{\"color\":\"#E5ECF6\",\"width\":0.5},\"pattern\":{\"fillmode\":\"overlay\",\"size\":10,\"solidity\":0.2}},\"type\":\"barpolar\"}],\"carpet\":[{\"aaxis\":{\"endlinecolor\":\"#2a3f5f\",\"gridcolor\":\"white\",\"linecolor\":\"white\",\"minorgridcolor\":\"white\",\"startlinecolor\":\"#2a3f5f\"},\"baxis\":{\"endlinecolor\":\"#2a3f5f\",\"gridcolor\":\"white\",\"linecolor\":\"white\",\"minorgridcolor\":\"white\",\"startlinecolor\":\"#2a3f5f\"},\"type\":\"carpet\"}],\"choropleth\":[{\"colorbar\":{\"outlinewidth\":0,\"ticks\":\"\"},\"type\":\"choropleth\"}],\"contour\":[{\"colorbar\":{\"outlinewidth\":0,\"ticks\":\"\"},\"colorscale\":[[0.0,\"#0d0887\"],[0.1111111111111111,\"#46039f\"],[0.2222222222222222,\"#7201a8\"],[0.3333333333333333,\"#9c179e\"],[0.4444444444444444,\"#bd3786\"],[0.5555555555555556,\"#d8576b\"],[0.6666666666666666,\"#ed7953\"],[0.7777777777777778,\"#fb9f3a\"],[0.8888888888888888,\"#fdca26\"],[1.0,\"#f0f921\"]],\"type\":\"contour\"}],\"contourcarpet\":[{\"colorbar\":{\"outlinewidth\":0,\"ticks\":\"\"},\"type\":\"contourcarpet\"}],\"heatmap\":[{\"colorbar\":{\"outlinewidth\":0,\"ticks\":\"\"},\"colorscale\":[[0.0,\"#0d0887\"],[0.1111111111111111,\"#46039f\"],[0.2222222222222222,\"#7201a8\"],[0.3333333333333333,\"#9c179e\"],[0.4444444444444444,\"#bd3786\"],[0.5555555555555556,\"#d8576b\"],[0.6666666666666666,\"#ed7953\"],[0.7777777777777778,\"#fb9f3a\"],[0.8888888888888888,\"#fdca26\"],[1.0,\"#f0f921\"]],\"type\":\"heatmap\"}],\"heatmapgl\":[{\"colorbar\":{\"outlinewidth\":0,\"ticks\":\"\"},\"colorscale\":[[0.0,\"#0d0887\"],[0.1111111111111111,\"#46039f\"],[0.2222222222222222,\"#7201a8\"],[0.3333333333333333,\"#9c179e\"],[0.4444444444444444,\"#bd3786\"],[0.5555555555555556,\"#d8576b\"],[0.6666666666666666,\"#ed7953\"],[0.7777777777777778,\"#fb9f3a\"],[0.8888888888888888,\"#fdca26\"],[1.0,\"#f0f921\"]],\"type\":\"heatmapgl\"}],\"histogram\":[{\"marker\":{\"pattern\":{\"fillmode\":\"overlay\",\"size\":10,\"solidity\":0.2}},\"type\":\"histogram\"}],\"histogram2d\":[{\"colorbar\":{\"outlinewidth\":0,\"ticks\":\"\"},\"colorscale\":[[0.0,\"#0d0887\"],[0.1111111111111111,\"#46039f\"],[0.2222222222222222,\"#7201a8\"],[0.3333333333333333,\"#9c179e\"],[0.4444444444444444,\"#bd3786\"],[0.5555555555555556,\"#d8576b\"],[0.6666666666666666,\"#ed7953\"],[0.7777777777777778,\"#fb9f3a\"],[0.8888888888888888,\"#fdca26\"],[1.0,\"#f0f921\"]],\"type\":\"histogram2d\"}],\"histogram2dcontour\":[{\"colorbar\":{\"outlinewidth\":0,\"ticks\":\"\"},\"colorscale\":[[0.0,\"#0d0887\"],[0.1111111111111111,\"#46039f\"],[0.2222222222222222,\"#7201a8\"],[0.3333333333333333,\"#9c179e\"],[0.4444444444444444,\"#bd3786\"],[0.5555555555555556,\"#d8576b\"],[0.6666666666666666,\"#ed7953\"],[0.7777777777777778,\"#fb9f3a\"],[0.8888888888888888,\"#fdca26\"],[1.0,\"#f0f921\"]],\"type\":\"histogram2dcontour\"}],\"mesh3d\":[{\"colorbar\":{\"outlinewidth\":0,\"ticks\":\"\"},\"type\":\"mesh3d\"}],\"parcoords\":[{\"line\":{\"colorbar\":{\"outlinewidth\":0,\"ticks\":\"\"}},\"type\":\"parcoords\"}],\"pie\":[{\"automargin\":true,\"type\":\"pie\"}],\"scatter\":[{\"marker\":{\"colorbar\":{\"outlinewidth\":0,\"ticks\":\"\"}},\"type\":\"scatter\"}],\"scatter3d\":[{\"line\":{\"colorbar\":{\"outlinewidth\":0,\"ticks\":\"\"}},\"marker\":{\"colorbar\":{\"outlinewidth\":0,\"ticks\":\"\"}},\"type\":\"scatter3d\"}],\"scattercarpet\":[{\"marker\":{\"colorbar\":{\"outlinewidth\":0,\"ticks\":\"\"}},\"type\":\"scattercarpet\"}],\"scattergeo\":[{\"marker\":{\"colorbar\":{\"outlinewidth\":0,\"ticks\":\"\"}},\"type\":\"scattergeo\"}],\"scattergl\":[{\"marker\":{\"colorbar\":{\"outlinewidth\":0,\"ticks\":\"\"}},\"type\":\"scattergl\"}],\"scattermapbox\":[{\"marker\":{\"colorbar\":{\"outlinewidth\":0,\"ticks\":\"\"}},\"type\":\"scattermapbox\"}],\"scatterpolar\":[{\"marker\":{\"colorbar\":{\"outlinewidth\":0,\"ticks\":\"\"}},\"type\":\"scatterpolar\"}],\"scatterpolargl\":[{\"marker\":{\"colorbar\":{\"outlinewidth\":0,\"ticks\":\"\"}},\"type\":\"scatterpolargl\"}],\"scatterternary\":[{\"marker\":{\"colorbar\":{\"outlinewidth\":0,\"ticks\":\"\"}},\"type\":\"scatterternary\"}],\"surface\":[{\"colorbar\":{\"outlinewidth\":0,\"ticks\":\"\"},\"colorscale\":[[0.0,\"#0d0887\"],[0.1111111111111111,\"#46039f\"],[0.2222222222222222,\"#7201a8\"],[0.3333333333333333,\"#9c179e\"],[0.4444444444444444,\"#bd3786\"],[0.5555555555555556,\"#d8576b\"],[0.6666666666666666,\"#ed7953\"],[0.7777777777777778,\"#fb9f3a\"],[0.8888888888888888,\"#fdca26\"],[1.0,\"#f0f921\"]],\"type\":\"surface\"}],\"table\":[{\"cells\":{\"fill\":{\"color\":\"#EBF0F8\"},\"line\":{\"color\":\"white\"}},\"header\":{\"fill\":{\"color\":\"#C8D4E3\"},\"line\":{\"color\":\"white\"}},\"type\":\"table\"}]},\"layout\":{\"annotationdefaults\":{\"arrowcolor\":\"#2a3f5f\",\"arrowhead\":0,\"arrowwidth\":1},\"autotypenumbers\":\"strict\",\"coloraxis\":{\"colorbar\":{\"outlinewidth\":0,\"ticks\":\"\"}},\"colorscale\":{\"diverging\":[[0,\"#8e0152\"],[0.1,\"#c51b7d\"],[0.2,\"#de77ae\"],[0.3,\"#f1b6da\"],[0.4,\"#fde0ef\"],[0.5,\"#f7f7f7\"],[0.6,\"#e6f5d0\"],[0.7,\"#b8e186\"],[0.8,\"#7fbc41\"],[0.9,\"#4d9221\"],[1,\"#276419\"]],\"sequential\":[[0.0,\"#0d0887\"],[0.1111111111111111,\"#46039f\"],[0.2222222222222222,\"#7201a8\"],[0.3333333333333333,\"#9c179e\"],[0.4444444444444444,\"#bd3786\"],[0.5555555555555556,\"#d8576b\"],[0.6666666666666666,\"#ed7953\"],[0.7777777777777778,\"#fb9f3a\"],[0.8888888888888888,\"#fdca26\"],[1.0,\"#f0f921\"]],\"sequentialminus\":[[0.0,\"#0d0887\"],[0.1111111111111111,\"#46039f\"],[0.2222222222222222,\"#7201a8\"],[0.3333333333333333,\"#9c179e\"],[0.4444444444444444,\"#bd3786\"],[0.5555555555555556,\"#d8576b\"],[0.6666666666666666,\"#ed7953\"],[0.7777777777777778,\"#fb9f3a\"],[0.8888888888888888,\"#fdca26\"],[1.0,\"#f0f921\"]]},\"colorway\":[\"#636efa\",\"#EF553B\",\"#00cc96\",\"#ab63fa\",\"#FFA15A\",\"#19d3f3\",\"#FF6692\",\"#B6E880\",\"#FF97FF\",\"#FECB52\"],\"font\":{\"color\":\"#2a3f5f\"},\"geo\":{\"bgcolor\":\"white\",\"lakecolor\":\"white\",\"landcolor\":\"#E5ECF6\",\"showlakes\":true,\"showland\":true,\"subunitcolor\":\"white\"},\"hoverlabel\":{\"align\":\"left\"},\"hovermode\":\"closest\",\"mapbox\":{\"style\":\"light\"},\"paper_bgcolor\":\"white\",\"plot_bgcolor\":\"#E5ECF6\",\"polar\":{\"angularaxis\":{\"gridcolor\":\"white\",\"linecolor\":\"white\",\"ticks\":\"\"},\"bgcolor\":\"#E5ECF6\",\"radialaxis\":{\"gridcolor\":\"white\",\"linecolor\":\"white\",\"ticks\":\"\"}},\"scene\":{\"xaxis\":{\"backgroundcolor\":\"#E5ECF6\",\"gridcolor\":\"white\",\"gridwidth\":2,\"linecolor\":\"white\",\"showbackground\":true,\"ticks\":\"\",\"zerolinecolor\":\"white\"},\"yaxis\":{\"backgroundcolor\":\"#E5ECF6\",\"gridcolor\":\"white\",\"gridwidth\":2,\"linecolor\":\"white\",\"showbackground\":true,\"ticks\":\"\",\"zerolinecolor\":\"white\"},\"zaxis\":{\"backgroundcolor\":\"#E5ECF6\",\"gridcolor\":\"white\",\"gridwidth\":2,\"linecolor\":\"white\",\"showbackground\":true,\"ticks\":\"\",\"zerolinecolor\":\"white\"}},\"shapedefaults\":{\"line\":{\"color\":\"#2a3f5f\"}},\"ternary\":{\"aaxis\":{\"gridcolor\":\"white\",\"linecolor\":\"white\",\"ticks\":\"\"},\"baxis\":{\"gridcolor\":\"white\",\"linecolor\":\"white\",\"ticks\":\"\"},\"bgcolor\":\"#E5ECF6\",\"caxis\":{\"gridcolor\":\"white\",\"linecolor\":\"white\",\"ticks\":\"\"}},\"title\":{\"x\":0.05},\"xaxis\":{\"automargin\":true,\"gridcolor\":\"white\",\"linecolor\":\"white\",\"ticks\":\"\",\"title\":{\"standoff\":15},\"zerolinecolor\":\"white\",\"zerolinewidth\":2},\"yaxis\":{\"automargin\":true,\"gridcolor\":\"white\",\"linecolor\":\"white\",\"ticks\":\"\",\"title\":{\"standoff\":15},\"zerolinecolor\":\"white\",\"zerolinewidth\":2}}},\"xaxis\":{\"anchor\":\"y\",\"domain\":[0.0,1.0],\"title\":{\"text\":\"Date\"}},\"yaxis\":{\"anchor\":\"x\",\"domain\":[0.0,1.0],\"title\":{\"text\":\"KG\"}},\"legend\":{\"title\":{\"text\":\"Source\"},\"tracegroupgap\":0},\"margin\":{\"t\":60}},                        {\"responsive\": true}                    ).then(function(){\n",
       "                            \n",
       "var gd = document.getElementById('667e8358-593d-4c9c-84a1-9d04379b0ab1');\n",
       "var x = new MutationObserver(function (mutations, observer) {{\n",
       "        var display = window.getComputedStyle(gd).display;\n",
       "        if (!display || display === 'none') {{\n",
       "            console.log([gd, 'removed!']);\n",
       "            Plotly.purge(gd);\n",
       "            observer.disconnect();\n",
       "        }}\n",
       "}});\n",
       "\n",
       "// Listen for the removal of the full notebook cells\n",
       "var notebookContainer = gd.closest('#notebook-container');\n",
       "if (notebookContainer) {{\n",
       "    x.observe(notebookContainer, {childList: true});\n",
       "}}\n",
       "\n",
       "// Listen for the clearing of the current output cell\n",
       "var outputEl = gd.closest('.output');\n",
       "if (outputEl) {{\n",
       "    x.observe(outputEl, {childList: true});\n",
       "}}\n",
       "\n",
       "                        })                };                            </script>        </div>\n",
       "</body>\n",
       "</html>"
      ]
     },
     "metadata": {},
     "output_type": "display_data"
    }
   ],
   "source": [
    "px.line(results, x='Date', y='KG', color='Source')"
   ]
  },
  {
   "cell_type": "markdown",
   "metadata": {
    "id": "1pauUKEdPv5L"
   },
   "source": [
    "<a name='x.3.4.1'></a>\n",
    "\n",
    "#### 🏋️ Exercise 3: Compare LSTM with FFNN using Train/Val/Test sets and 3 Month Window\n",
    "\n",
    "[back to top](#top)"
   ]
  },
  {
   "cell_type": "code",
   "execution_count": 29,
   "metadata": {
    "colab": {
     "base_uri": "https://localhost:8080/"
    },
    "executionInfo": {
     "elapsed": 28629,
     "status": "ok",
     "timestamp": 1645668949805,
     "user": {
      "displayName": "Wesley Beckner",
      "photoUrl": "https://lh3.googleusercontent.com/a-/AOh14GjSrSNC5ljFK1tVytNJhengi6L9T_zjAvSSfuo3ug=s64",
      "userId": "17051665784581118920"
     },
     "user_tz": 480
    },
    "id": "u4vr_Qsq8O2i",
    "outputId": "6c16a06a-82c4-4609-96c1-26f19b9e4e31"
   },
   "outputs": [
    {
     "name": "stdout",
     "output_type": "stream",
     "text": [
      "train size: 76\n",
      "val size: 23\n",
      "test size: 24\n",
      "\n",
      "             loss     val_loss\n",
      "796  274950.81250  705562.1875\n",
      "797  278971.28125  726105.4375\n",
      "798  283036.78125  696195.4375\n",
      "799  284960.03125  723620.4375\n",
      "800  279106.31250  691688.0000\n"
     ]
    }
   ],
   "source": [
    "### YOUR OPT WINDOW SIZE FROM EXERCISE 2 ###\n",
    "window_size = 3\n",
    "batch_size = 10\n",
    "patience = 50\n",
    "\n",
    "# training on single order history\n",
    "data = orders.loc[[0], time_cols].values\n",
    "\n",
    "# describes the split train 0-.6/val .6-.8/test .8-1\n",
    "train_test_val_ratios = [0.6, 0.8]\n",
    "\n",
    "X_train, y_train, X_val, y_val, X_test, y_test = train_test_process(data,\n",
    "                                                        train_test_val_ratios)\n",
    "\n",
    "\n",
    "### YOUR EARLY STOPPING FORMULA ###\n",
    "\n",
    "early_stopping = keras.callbacks.EarlyStopping(\n",
    "    patience=10,\n",
    "    min_delta=0.001,\n",
    "    restore_best_weights=True,\n",
    "    monitor='loss'\n",
    ")\n",
    "\n",
    "### YOUR MODEL FROM EX 6.3.3.2 ###\n",
    "\n",
    "model = keras.Sequential([\n",
    "    layers.Dense(4, activation='relu', input_shape=[window_size]),\n",
    "    layers.Dense(1)\n",
    "])\n",
    "\n",
    "### UNCOMMENT THE BELOW ###\n",
    "# compile the model\n",
    "model.compile(loss='mean_squared_error', optimizer='adam')\n",
    "\n",
    "# fit the model\n",
    "history = model.fit(\n",
    "    X_train, y_train,\n",
    "    validation_data=(X_val, y_val),\n",
    "    batch_size=batch_size,\n",
    "    epochs=10000,\n",
    "    callbacks=[early_stopping],\n",
    "    verbose=0, # hide the output because we have so many epochs\n",
    "  )\n",
    "\n",
    "print(pd.DataFrame(history.history).tail())"
   ]
  },
  {
   "cell_type": "markdown",
   "metadata": {
    "id": "q9vId5bEJHaz"
   },
   "source": [
    "We'll then record the mse performance of the model to later compare with the LSTM"
   ]
  },
  {
   "cell_type": "code",
   "execution_count": 30,
   "metadata": {
    "colab": {
     "base_uri": "https://localhost:8080/"
    },
    "executionInfo": {
     "elapsed": 12796,
     "status": "ok",
     "timestamp": 1645668962587,
     "user": {
      "displayName": "Wesley Beckner",
      "photoUrl": "https://lh3.googleusercontent.com/a-/AOh14GjSrSNC5ljFK1tVytNJhengi6L9T_zjAvSSfuo3ug=s64",
      "userId": "17051665784581118920"
     },
     "user_tz": 480
    },
    "id": "xKLs8As7Aumr",
    "outputId": "47cd695e-d78d-4ec5-f096-4f09c0dd0eeb"
   },
   "outputs": [
    {
     "data": {
      "text/plain": [
       "[['Dense', 444380.32838419516]]"
      ]
     },
     "execution_count": 30,
     "metadata": {},
     "output_type": "execute_result"
    }
   ],
   "source": [
    "results = []\n",
    "y_pred = model.predict(X_test)\n",
    "mse = mean_squared_error(y_test, y_pred)\n",
    "results.append(['Dense', mse])\n",
    "results"
   ]
  },
  {
   "cell_type": "markdown",
   "metadata": {
    "id": "dzjhtmJOJN8L"
   },
   "source": [
    "We'll use the same parameters (window size, batch size, and early stopping to train the LSTM and compare the optimum FFNN architecture we previously used)"
   ]
  },
  {
   "cell_type": "code",
   "execution_count": 31,
   "metadata": {
    "colab": {
     "base_uri": "https://localhost:8080/"
    },
    "executionInfo": {
     "elapsed": 45471,
     "status": "ok",
     "timestamp": 1645669008042,
     "user": {
      "displayName": "Wesley Beckner",
      "photoUrl": "https://lh3.googleusercontent.com/a-/AOh14GjSrSNC5ljFK1tVytNJhengi6L9T_zjAvSSfuo3ug=s64",
      "userId": "17051665784581118920"
     },
     "user_tz": 480
    },
    "id": "L2bcJXyN-i90",
    "outputId": "d4e66432-f347-4ed8-aaea-fbd434d5de24"
   },
   "outputs": [
    {
     "name": "stdout",
     "output_type": "stream",
     "text": [
      "WARNING:tensorflow:Layer lstm_1 will not use cuDNN kernels since it doesn't meet the criteria. It will use a generic GPU kernel as fallback when running on GPU.\n",
      "            loss     val_loss\n",
      "836  273390.4375  673023.0625\n",
      "837  271066.7500  694139.5625\n",
      "838  275661.9375  705827.1875\n",
      "839  274106.7500  680028.2500\n",
      "840  270606.5000  691417.3750\n"
     ]
    }
   ],
   "source": [
    "X_train = X_train.reshape(-1, 1, window_size)\n",
    "y_train = y_train.reshape(-1, 1, 1)\n",
    "X_val = X_val.reshape(-1, 1, window_size)\n",
    "y_val = y_val.reshape(-1, 1, 1)\n",
    "X_test = X_test.reshape(-1, 1, window_size)\n",
    "y_test = y_test.reshape(-1, 1, 1)\n",
    "\n",
    "model = keras.Sequential([\n",
    "    layers.LSTM(8, activation='relu', input_dim=window_size),\n",
    "    layers.Dense(1)\n",
    "])\n",
    "\n",
    "model.compile(loss='mean_squared_error', optimizer='adam')\n",
    "\n",
    "history = model.fit(\n",
    "    X_train, y_train,\n",
    "    validation_data=(X_val, y_val),\n",
    "    batch_size=batch_size,\n",
    "    epochs=10000,\n",
    "    callbacks=[early_stopping],\n",
    "    verbose=0, \n",
    "  )\n",
    "\n",
    "print(pd.DataFrame(history.history).tail())"
   ]
  },
  {
   "cell_type": "code",
   "execution_count": 32,
   "metadata": {
    "executionInfo": {
     "elapsed": 37796,
     "status": "ok",
     "timestamp": 1645669045824,
     "user": {
      "displayName": "Wesley Beckner",
      "photoUrl": "https://lh3.googleusercontent.com/a-/AOh14GjSrSNC5ljFK1tVytNJhengi6L9T_zjAvSSfuo3ug=s64",
      "userId": "17051665784581118920"
     },
     "user_tz": 480
    },
    "id": "s8S3eo0uBcs2"
   },
   "outputs": [],
   "source": [
    "y_pred = model.predict(X_test)\n",
    "mse = mean_squared_error(y_test.flatten(), y_pred.flatten())\n",
    "results.append(['LSTM', mse])"
   ]
  },
  {
   "cell_type": "markdown",
   "metadata": {
    "id": "rucg8Gi-JECa"
   },
   "source": [
    "Comparison of results:"
   ]
  },
  {
   "cell_type": "code",
   "execution_count": 33,
   "metadata": {
    "colab": {
     "base_uri": "https://localhost:8080/",
     "height": 143
    },
    "executionInfo": {
     "elapsed": 24,
     "status": "ok",
     "timestamp": 1645669045825,
     "user": {
      "displayName": "Wesley Beckner",
      "photoUrl": "https://lh3.googleusercontent.com/a-/AOh14GjSrSNC5ljFK1tVytNJhengi6L9T_zjAvSSfuo3ug=s64",
      "userId": "17051665784581118920"
     },
     "user_tz": 480
    },
    "id": "QqpsXGHpTidC",
    "outputId": "1aab175f-fcba-4c02-fb2d-51ba6f553fcd"
   },
   "outputs": [
    {
     "data": {
      "text/html": [
       "\n",
       "  <div id=\"df-fed8b43f-e700-4717-b722-1ea75feecdf1\">\n",
       "    <div class=\"colab-df-container\">\n",
       "      <div>\n",
       "<style scoped>\n",
       "    .dataframe tbody tr th:only-of-type {\n",
       "        vertical-align: middle;\n",
       "    }\n",
       "\n",
       "    .dataframe tbody tr th {\n",
       "        vertical-align: top;\n",
       "    }\n",
       "\n",
       "    .dataframe thead th {\n",
       "        text-align: right;\n",
       "    }\n",
       "</style>\n",
       "<table border=\"1\" class=\"dataframe\">\n",
       "  <thead>\n",
       "    <tr style=\"text-align: right;\">\n",
       "      <th></th>\n",
       "      <th>Test MSE</th>\n",
       "    </tr>\n",
       "    <tr>\n",
       "      <th>Model</th>\n",
       "      <th></th>\n",
       "    </tr>\n",
       "  </thead>\n",
       "  <tbody>\n",
       "    <tr>\n",
       "      <th>Dense</th>\n",
       "      <td>444380</td>\n",
       "    </tr>\n",
       "    <tr>\n",
       "      <th>LSTM</th>\n",
       "      <td>424835</td>\n",
       "    </tr>\n",
       "  </tbody>\n",
       "</table>\n",
       "</div>\n",
       "      <button class=\"colab-df-convert\" onclick=\"convertToInteractive('df-fed8b43f-e700-4717-b722-1ea75feecdf1')\"\n",
       "              title=\"Convert this dataframe to an interactive table.\"\n",
       "              style=\"display:none;\">\n",
       "        \n",
       "  <svg xmlns=\"http://www.w3.org/2000/svg\" height=\"24px\"viewBox=\"0 0 24 24\"\n",
       "       width=\"24px\">\n",
       "    <path d=\"M0 0h24v24H0V0z\" fill=\"none\"/>\n",
       "    <path d=\"M18.56 5.44l.94 2.06.94-2.06 2.06-.94-2.06-.94-.94-2.06-.94 2.06-2.06.94zm-11 1L8.5 8.5l.94-2.06 2.06-.94-2.06-.94L8.5 2.5l-.94 2.06-2.06.94zm10 10l.94 2.06.94-2.06 2.06-.94-2.06-.94-.94-2.06-.94 2.06-2.06.94z\"/><path d=\"M17.41 7.96l-1.37-1.37c-.4-.4-.92-.59-1.43-.59-.52 0-1.04.2-1.43.59L10.3 9.45l-7.72 7.72c-.78.78-.78 2.05 0 2.83L4 21.41c.39.39.9.59 1.41.59.51 0 1.02-.2 1.41-.59l7.78-7.78 2.81-2.81c.8-.78.8-2.07 0-2.86zM5.41 20L4 18.59l7.72-7.72 1.47 1.35L5.41 20z\"/>\n",
       "  </svg>\n",
       "      </button>\n",
       "      \n",
       "  <style>\n",
       "    .colab-df-container {\n",
       "      display:flex;\n",
       "      flex-wrap:wrap;\n",
       "      gap: 12px;\n",
       "    }\n",
       "\n",
       "    .colab-df-convert {\n",
       "      background-color: #E8F0FE;\n",
       "      border: none;\n",
       "      border-radius: 50%;\n",
       "      cursor: pointer;\n",
       "      display: none;\n",
       "      fill: #1967D2;\n",
       "      height: 32px;\n",
       "      padding: 0 0 0 0;\n",
       "      width: 32px;\n",
       "    }\n",
       "\n",
       "    .colab-df-convert:hover {\n",
       "      background-color: #E2EBFA;\n",
       "      box-shadow: 0px 1px 2px rgba(60, 64, 67, 0.3), 0px 1px 3px 1px rgba(60, 64, 67, 0.15);\n",
       "      fill: #174EA6;\n",
       "    }\n",
       "\n",
       "    [theme=dark] .colab-df-convert {\n",
       "      background-color: #3B4455;\n",
       "      fill: #D2E3FC;\n",
       "    }\n",
       "\n",
       "    [theme=dark] .colab-df-convert:hover {\n",
       "      background-color: #434B5C;\n",
       "      box-shadow: 0px 1px 3px 1px rgba(0, 0, 0, 0.15);\n",
       "      filter: drop-shadow(0px 1px 2px rgba(0, 0, 0, 0.3));\n",
       "      fill: #FFFFFF;\n",
       "    }\n",
       "  </style>\n",
       "\n",
       "      <script>\n",
       "        const buttonEl =\n",
       "          document.querySelector('#df-fed8b43f-e700-4717-b722-1ea75feecdf1 button.colab-df-convert');\n",
       "        buttonEl.style.display =\n",
       "          google.colab.kernel.accessAllowed ? 'block' : 'none';\n",
       "\n",
       "        async function convertToInteractive(key) {\n",
       "          const element = document.querySelector('#df-fed8b43f-e700-4717-b722-1ea75feecdf1');\n",
       "          const dataTable =\n",
       "            await google.colab.kernel.invokeFunction('convertToInteractive',\n",
       "                                                     [key], {});\n",
       "          if (!dataTable) return;\n",
       "\n",
       "          const docLinkHtml = 'Like what you see? Visit the ' +\n",
       "            '<a target=\"_blank\" href=https://colab.research.google.com/notebooks/data_table.ipynb>data table notebook</a>'\n",
       "            + ' to learn more about interactive tables.';\n",
       "          element.innerHTML = '';\n",
       "          dataTable['output_type'] = 'display_data';\n",
       "          await google.colab.output.renderOutput(dataTable, element);\n",
       "          const docLink = document.createElement('div');\n",
       "          docLink.innerHTML = docLinkHtml;\n",
       "          element.appendChild(docLink);\n",
       "        }\n",
       "      </script>\n",
       "    </div>\n",
       "  </div>\n",
       "  "
      ],
      "text/plain": [
       "       Test MSE\n",
       "Model          \n",
       "Dense    444380\n",
       "LSTM     424835"
      ]
     },
     "execution_count": 33,
     "metadata": {},
     "output_type": "execute_result"
    }
   ],
   "source": [
    "pd.DataFrame(results, columns=['Model', 'Test MSE']).set_index('Model').astype(int)"
   ]
  },
  {
   "cell_type": "markdown",
   "metadata": {
    "id": "KAXwn_1fJlws"
   },
   "source": [
    "As a last visualization in this exercise we'll look at the trian/val/test predictions along the actual"
   ]
  },
  {
   "cell_type": "code",
   "execution_count": 34,
   "metadata": {
    "executionInfo": {
     "elapsed": 241,
     "status": "ok",
     "timestamp": 1645669046045,
     "user": {
      "displayName": "Wesley Beckner",
      "photoUrl": "https://lh3.googleusercontent.com/a-/AOh14GjSrSNC5ljFK1tVytNJhengi6L9T_zjAvSSfuo3ug=s64",
      "userId": "17051665784581118920"
     },
     "user_tz": 480
    },
    "id": "vkYIeMmuCcRA"
   },
   "outputs": [],
   "source": [
    "data = orders.loc[[0], time_cols].values\n",
    "idx_split1 = int(data.shape[1]*train_test_val_ratios[0])\n",
    "idx_split2 = int(data.shape[1]*train_test_val_ratios[1])\n",
    "\n",
    "y_p_train = model.predict(X_train)\n",
    "y_p_val = model.predict(X_val)\n",
    "y_p_test = model.predict(X_test)\n",
    "new = orders.loc[[0], time_cols].T.reset_index()\n",
    "new.columns = ['Date', 'Real']\n",
    "new['Train'] = np.nan\n",
    "new.iloc[window_size:idx_split1,2] = y_p_train\n",
    "new['Val'] = np.nan\n",
    "new.iloc[idx_split1+window_size:idx_split2,3] = y_p_val\n",
    "new['Test'] = np.nan\n",
    "new.iloc[idx_split2+window_size:,4] = y_p_test\n",
    "new = new.melt(id_vars='Date', var_name='Source', value_name='KG')"
   ]
  },
  {
   "cell_type": "code",
   "execution_count": 35,
   "metadata": {
    "colab": {
     "base_uri": "https://localhost:8080/",
     "height": 542
    },
    "executionInfo": {
     "elapsed": 11,
     "status": "ok",
     "timestamp": 1645669046046,
     "user": {
      "displayName": "Wesley Beckner",
      "photoUrl": "https://lh3.googleusercontent.com/a-/AOh14GjSrSNC5ljFK1tVytNJhengi6L9T_zjAvSSfuo3ug=s64",
      "userId": "17051665784581118920"
     },
     "user_tz": 480
    },
    "id": "y5TVNGx3C8vC",
    "outputId": "493b602b-8664-47f6-f19a-fea8f8addc36"
   },
   "outputs": [
    {
     "data": {
      "text/html": [
       "<html>\n",
       "<head><meta charset=\"utf-8\" /></head>\n",
       "<body>\n",
       "    <div>            <script src=\"https://cdnjs.cloudflare.com/ajax/libs/mathjax/2.7.5/MathJax.js?config=TeX-AMS-MML_SVG\"></script><script type=\"text/javascript\">if (window.MathJax) {MathJax.Hub.Config({SVG: {font: \"STIX-Web\"}});}</script>                <script type=\"text/javascript\">window.PlotlyConfig = {MathJaxConfig: 'local'};</script>\n",
       "        <script src=\"https://cdn.plot.ly/plotly-2.8.3.min.js\"></script>                <div id=\"7609a4ed-f908-4f31-9cac-ebbc76aaae8f\" class=\"plotly-graph-div\" style=\"height:525px; width:100%;\"></div>            <script type=\"text/javascript\">                                    window.PLOTLYENV=window.PLOTLYENV || {};                                    if (document.getElementById(\"7609a4ed-f908-4f31-9cac-ebbc76aaae8f\")) {                    Plotly.newPlot(                        \"7609a4ed-f908-4f31-9cac-ebbc76aaae8f\",                        [{\"hovertemplate\":\"Source=Real<br>Date=%{x}<br>KG=%{y}<extra></extra>\",\"legendgroup\":\"Real\",\"line\":{\"color\":\"#636efa\",\"dash\":\"solid\"},\"marker\":{\"symbol\":\"circle\"},\"mode\":\"lines\",\"name\":\"Real\",\"orientation\":\"v\",\"showlegend\":true,\"x\":[\"1/2010\",\"2/2010\",\"3/2010\",\"4/2010\",\"5/2010\",\"6/2010\",\"7/2010\",\"8/2010\",\"9/2010\",\"10/2010\",\"11/2010\",\"12/2010\",\"1/2011\",\"2/2011\",\"3/2011\",\"4/2011\",\"5/2011\",\"6/2011\",\"7/2011\",\"8/2011\",\"9/2011\",\"10/2011\",\"11/2011\",\"12/2011\",\"1/2012\",\"2/2012\",\"3/2012\",\"4/2012\",\"5/2012\",\"6/2012\",\"7/2012\",\"8/2012\",\"9/2012\",\"10/2012\",\"11/2012\",\"12/2012\",\"1/2013\",\"2/2013\",\"3/2013\",\"4/2013\",\"5/2013\",\"6/2013\",\"7/2013\",\"8/2013\",\"9/2013\",\"10/2013\",\"11/2013\",\"12/2013\",\"1/2014\",\"2/2014\",\"3/2014\",\"4/2014\",\"5/2014\",\"6/2014\",\"7/2014\",\"8/2014\",\"9/2014\",\"10/2014\",\"11/2014\",\"12/2014\",\"1/2015\",\"2/2015\",\"3/2015\",\"4/2015\",\"5/2015\",\"6/2015\",\"7/2015\",\"8/2015\",\"9/2015\",\"10/2015\",\"11/2015\",\"12/2015\",\"1/2016\",\"2/2016\",\"3/2016\",\"4/2016\",\"5/2016\",\"6/2016\",\"7/2016\",\"8/2016\",\"9/2016\",\"10/2016\",\"11/2016\",\"12/2016\",\"1/2017\",\"2/2017\",\"3/2017\",\"4/2017\",\"5/2017\",\"6/2017\",\"7/2017\",\"8/2017\",\"9/2017\",\"10/2017\",\"11/2017\",\"12/2017\",\"1/2018\",\"2/2018\",\"3/2018\",\"4/2018\",\"5/2018\",\"6/2018\",\"7/2018\",\"8/2018\",\"9/2018\",\"10/2018\",\"11/2018\",\"12/2018\",\"1/2019\",\"2/2019\",\"3/2019\",\"4/2019\",\"5/2019\",\"6/2019\",\"7/2019\",\"8/2019\",\"9/2019\",\"10/2019\",\"11/2019\",\"12/2019\",\"1/2020\",\"2/2020\",\"3/2020\",\"4/2020\",\"5/2020\",\"6/2020\",\"7/2020\",\"8/2020\",\"9/2020\",\"10/2020\",\"11/2020\",\"12/2020\"],\"xaxis\":\"x\",\"y\":[12570.33516482565,11569.168746227244,13616.8122044598,11884.3708810225,13950.332334409886,12781.156535682429,14256.210023357236,12887.711959877464,15038.574005789536,12626.48930557771,14611.291109090684,13194.81429999148,14921.016215576235,13477.391456909943,15409.211079596587,13999.215068692509,15597.436975845374,14098.12497823274,15596.818092478728,14941.69403166363,15715.347212025836,14181.212141927936,16282.0980055455,14650.929410064906,16433.209008286325,15400.579033515967,16756.981262857273,15128.148250492244,17523.979943307248,15413.044691473402,16366.26437701746,14568.470958551738,16901.11154186154,14659.021365286097,16494.903960781197,15398.721298130027,17938.090871773184,15850.35787113158,18236.778754419985,15956.750789202086,17401.696472111977,15890.10321935092,17283.79073343649,16302.509223010222,17229.64501478726,16223.309276278227,17796.223621100053,16344.001270241426,17782.006164552513,16326.588260101846,18253.569321985724,16818.12312918114,18554.33980878632,16900.704327264033,18479.00603218699,17042.963875823145,18287.35559715585,17244.887842050513,18822.494484753846,17603.725932131478,18766.104076650663,17170.12649068024,19632.147600450644,16856.921979192426,18854.690380403008,17880.884218985302,19087.480847049384,18196.112254637803,19770.963054596545,16488.739325030063,19699.01989730995,17194.707087425755,19372.65790157132,17715.24432224015,19227.53144133251,17691.136252909622,20114.53450629712,17926.252604903035,19880.02532889845,16690.02893115867,19928.02694695529,18553.766165315024,20547.154033981024,17301.11715078875,19538.97650435099,17902.44835514176,21269.577926886348,18842.69654955895,20095.445399491346,17670.300576591326,20310.884287446843,18754.84178182952,20736.279238797026,18617.387584546323,20783.71123390676,17470.755864944782,20523.579839792717,18796.936905805047,20028.582492587037,18677.535295190337,20048.1074217522,18929.24861718753,20571.15590247796,18207.204656231734,20839.04289237627,18966.53298378622,20909.977545252816,18589.807151786372,21287.370122673103,17987.976866769444,21111.062684974822,18538.311320658097,21797.26713239234,18935.35277235507,21331.37841983855,18783.75961074272,22139.12337340894,18553.79727063604,21579.50628438568,19726.43311123112,21147.624131226225,19232.360491469408,21575.52105110441,18856.1781102771,20701.25067582265,19406.448559709923,22328.687162949856,19384.824041986754,21449.154889830097,19554.40558950196,21873.104938389297,19572.860127015803],\"yaxis\":\"y\",\"type\":\"scatter\"},{\"hovertemplate\":\"Source=Train<br>Date=%{x}<br>KG=%{y}<extra></extra>\",\"legendgroup\":\"Train\",\"line\":{\"color\":\"#EF553B\",\"dash\":\"solid\"},\"marker\":{\"symbol\":\"circle\"},\"mode\":\"lines\",\"name\":\"Train\",\"orientation\":\"v\",\"showlegend\":true,\"x\":[\"1/2010\",\"2/2010\",\"3/2010\",\"4/2010\",\"5/2010\",\"6/2010\",\"7/2010\",\"8/2010\",\"9/2010\",\"10/2010\",\"11/2010\",\"12/2010\",\"1/2011\",\"2/2011\",\"3/2011\",\"4/2011\",\"5/2011\",\"6/2011\",\"7/2011\",\"8/2011\",\"9/2011\",\"10/2011\",\"11/2011\",\"12/2011\",\"1/2012\",\"2/2012\",\"3/2012\",\"4/2012\",\"5/2012\",\"6/2012\",\"7/2012\",\"8/2012\",\"9/2012\",\"10/2012\",\"11/2012\",\"12/2012\",\"1/2013\",\"2/2013\",\"3/2013\",\"4/2013\",\"5/2013\",\"6/2013\",\"7/2013\",\"8/2013\",\"9/2013\",\"10/2013\",\"11/2013\",\"12/2013\",\"1/2014\",\"2/2014\",\"3/2014\",\"4/2014\",\"5/2014\",\"6/2014\",\"7/2014\",\"8/2014\",\"9/2014\",\"10/2014\",\"11/2014\",\"12/2014\",\"1/2015\",\"2/2015\",\"3/2015\",\"4/2015\",\"5/2015\",\"6/2015\",\"7/2015\",\"8/2015\",\"9/2015\",\"10/2015\",\"11/2015\",\"12/2015\",\"1/2016\",\"2/2016\",\"3/2016\",\"4/2016\",\"5/2016\",\"6/2016\",\"7/2016\",\"8/2016\",\"9/2016\",\"10/2016\",\"11/2016\",\"12/2016\",\"1/2017\",\"2/2017\",\"3/2017\",\"4/2017\",\"5/2017\",\"6/2017\",\"7/2017\",\"8/2017\",\"9/2017\",\"10/2017\",\"11/2017\",\"12/2017\",\"1/2018\",\"2/2018\",\"3/2018\",\"4/2018\",\"5/2018\",\"6/2018\",\"7/2018\",\"8/2018\",\"9/2018\",\"10/2018\",\"11/2018\",\"12/2018\",\"1/2019\",\"2/2019\",\"3/2019\",\"4/2019\",\"5/2019\",\"6/2019\",\"7/2019\",\"8/2019\",\"9/2019\",\"10/2019\",\"11/2019\",\"12/2019\",\"1/2020\",\"2/2020\",\"3/2020\",\"4/2020\",\"5/2020\",\"6/2020\",\"7/2020\",\"8/2020\",\"9/2020\",\"10/2020\",\"11/2020\",\"12/2020\"],\"xaxis\":\"x\",\"y\":[null,null,null,11909.3662109375,13577.0400390625,12182.8759765625,14002.0751953125,13029.9931640625,14241.2119140625,13230.0498046875,14909.6240234375,12874.17578125,14624.0224609375,13470.0166015625,14915.193359375,13784.998046875,15425.3427734375,14260.6826171875,15579.6259765625,14339.052734375,15704.4052734375,15129.6240234375,15640.1455078125,14514.5126953125,16280.8583984375,14931.6865234375,16506.08984375,15658.6220703125,16711.865234375,15508.2880859375,17475.73828125,15539.1826171875,16266.123046875,14923.8681640625,16823.8359375,14909.078125,16561.744140625,15837.341796875,17905.666015625,16204.8701171875,18166.705078125,16152.7568359375,17385.224609375,16126.83984375,17345.96484375,16503.3671875,17257.6328125,16522.794921875,17800.07421875,16594.74609375,17776.615234375,16653.330078125,18286.029296875,17119.927734375,18542.703125,17164.484375,18490.673828125,17269.587890625,18337.6875,17550.1953125,18870.525390625,17835.525390625,18728.25,17577.498046875,19499.7265625,17114.029296875,18968.1015625,18137.283203125,19164.779296875,18517.556640625,19503.587890625,16899.98046875,19657.294921875,17499.73828125,19394.65234375,17974.37890625,19224.732421875,18100.0703125,20074.755859375,null,null,null,null,null,null,null,null,null,null,null,null,null,null,null,null,null,null,null,null,null,null,null,null,null,null,null,null,null,null,null,null,null,null,null,null,null,null,null,null,null,null,null,null,null,null,null,null,null,null,null,null,null],\"yaxis\":\"y\",\"type\":\"scatter\"},{\"hovertemplate\":\"Source=Val<br>Date=%{x}<br>KG=%{y}<extra></extra>\",\"legendgroup\":\"Val\",\"line\":{\"color\":\"#00cc96\",\"dash\":\"solid\"},\"marker\":{\"symbol\":\"circle\"},\"mode\":\"lines\",\"name\":\"Val\",\"orientation\":\"v\",\"showlegend\":true,\"x\":[\"1/2010\",\"2/2010\",\"3/2010\",\"4/2010\",\"5/2010\",\"6/2010\",\"7/2010\",\"8/2010\",\"9/2010\",\"10/2010\",\"11/2010\",\"12/2010\",\"1/2011\",\"2/2011\",\"3/2011\",\"4/2011\",\"5/2011\",\"6/2011\",\"7/2011\",\"8/2011\",\"9/2011\",\"10/2011\",\"11/2011\",\"12/2011\",\"1/2012\",\"2/2012\",\"3/2012\",\"4/2012\",\"5/2012\",\"6/2012\",\"7/2012\",\"8/2012\",\"9/2012\",\"10/2012\",\"11/2012\",\"12/2012\",\"1/2013\",\"2/2013\",\"3/2013\",\"4/2013\",\"5/2013\",\"6/2013\",\"7/2013\",\"8/2013\",\"9/2013\",\"10/2013\",\"11/2013\",\"12/2013\",\"1/2014\",\"2/2014\",\"3/2014\",\"4/2014\",\"5/2014\",\"6/2014\",\"7/2014\",\"8/2014\",\"9/2014\",\"10/2014\",\"11/2014\",\"12/2014\",\"1/2015\",\"2/2015\",\"3/2015\",\"4/2015\",\"5/2015\",\"6/2015\",\"7/2015\",\"8/2015\",\"9/2015\",\"10/2015\",\"11/2015\",\"12/2015\",\"1/2016\",\"2/2016\",\"3/2016\",\"4/2016\",\"5/2016\",\"6/2016\",\"7/2016\",\"8/2016\",\"9/2016\",\"10/2016\",\"11/2016\",\"12/2016\",\"1/2017\",\"2/2017\",\"3/2017\",\"4/2017\",\"5/2017\",\"6/2017\",\"7/2017\",\"8/2017\",\"9/2017\",\"10/2017\",\"11/2017\",\"12/2017\",\"1/2018\",\"2/2018\",\"3/2018\",\"4/2018\",\"5/2018\",\"6/2018\",\"7/2018\",\"8/2018\",\"9/2018\",\"10/2018\",\"11/2018\",\"12/2018\",\"1/2019\",\"2/2019\",\"3/2019\",\"4/2019\",\"5/2019\",\"6/2019\",\"7/2019\",\"8/2019\",\"9/2019\",\"10/2019\",\"11/2019\",\"12/2019\",\"1/2020\",\"2/2020\",\"3/2020\",\"4/2020\",\"5/2020\",\"6/2020\",\"7/2020\",\"8/2020\",\"9/2020\",\"10/2020\",\"11/2020\",\"12/2020\"],\"xaxis\":\"x\",\"y\":[null,null,null,null,null,null,null,null,null,null,null,null,null,null,null,null,null,null,null,null,null,null,null,null,null,null,null,null,null,null,null,null,null,null,null,null,null,null,null,null,null,null,null,null,null,null,null,null,null,null,null,null,null,null,null,null,null,null,null,null,null,null,null,null,null,null,null,null,null,null,null,null,null,null,null,null,null,null,null,null,null,null,20062.798828125,18912.208984375,20317.857421875,17568.76953125,19569.275390625,18453.818359375,21261.365234375,19020.208984375,19943.580078125,18056.06640625,20385.130859375,19101.236328125,20683.533203125,18955.59765625,20556.7578125,17862.564453125,20599.138671875,19015.669921875,20042.546875,18941.142578125,20107.35546875,19251.904296875,20457.21484375,null,null,null,null,null,null,null,null,null,null,null,null,null,null,null,null,null,null,null,null,null,null,null,null,null,null,null],\"yaxis\":\"y\",\"type\":\"scatter\"},{\"hovertemplate\":\"Source=Test<br>Date=%{x}<br>KG=%{y}<extra></extra>\",\"legendgroup\":\"Test\",\"line\":{\"color\":\"#ab63fa\",\"dash\":\"solid\"},\"marker\":{\"symbol\":\"circle\"},\"mode\":\"lines\",\"name\":\"Test\",\"orientation\":\"v\",\"showlegend\":true,\"x\":[\"1/2010\",\"2/2010\",\"3/2010\",\"4/2010\",\"5/2010\",\"6/2010\",\"7/2010\",\"8/2010\",\"9/2010\",\"10/2010\",\"11/2010\",\"12/2010\",\"1/2011\",\"2/2011\",\"3/2011\",\"4/2011\",\"5/2011\",\"6/2011\",\"7/2011\",\"8/2011\",\"9/2011\",\"10/2011\",\"11/2011\",\"12/2011\",\"1/2012\",\"2/2012\",\"3/2012\",\"4/2012\",\"5/2012\",\"6/2012\",\"7/2012\",\"8/2012\",\"9/2012\",\"10/2012\",\"11/2012\",\"12/2012\",\"1/2013\",\"2/2013\",\"3/2013\",\"4/2013\",\"5/2013\",\"6/2013\",\"7/2013\",\"8/2013\",\"9/2013\",\"10/2013\",\"11/2013\",\"12/2013\",\"1/2014\",\"2/2014\",\"3/2014\",\"4/2014\",\"5/2014\",\"6/2014\",\"7/2014\",\"8/2014\",\"9/2014\",\"10/2014\",\"11/2014\",\"12/2014\",\"1/2015\",\"2/2015\",\"3/2015\",\"4/2015\",\"5/2015\",\"6/2015\",\"7/2015\",\"8/2015\",\"9/2015\",\"10/2015\",\"11/2015\",\"12/2015\",\"1/2016\",\"2/2016\",\"3/2016\",\"4/2016\",\"5/2016\",\"6/2016\",\"7/2016\",\"8/2016\",\"9/2016\",\"10/2016\",\"11/2016\",\"12/2016\",\"1/2017\",\"2/2017\",\"3/2017\",\"4/2017\",\"5/2017\",\"6/2017\",\"7/2017\",\"8/2017\",\"9/2017\",\"10/2017\",\"11/2017\",\"12/2017\",\"1/2018\",\"2/2018\",\"3/2018\",\"4/2018\",\"5/2018\",\"6/2018\",\"7/2018\",\"8/2018\",\"9/2018\",\"10/2018\",\"11/2018\",\"12/2018\",\"1/2019\",\"2/2019\",\"3/2019\",\"4/2019\",\"5/2019\",\"6/2019\",\"7/2019\",\"8/2019\",\"9/2019\",\"10/2019\",\"11/2019\",\"12/2019\",\"1/2020\",\"2/2020\",\"3/2020\",\"4/2020\",\"5/2020\",\"6/2020\",\"7/2020\",\"8/2020\",\"9/2020\",\"10/2020\",\"11/2020\",\"12/2020\"],\"xaxis\":\"x\",\"y\":[null,null,null,null,null,null,null,null,null,null,null,null,null,null,null,null,null,null,null,null,null,null,null,null,null,null,null,null,null,null,null,null,null,null,null,null,null,null,null,null,null,null,null,null,null,null,null,null,null,null,null,null,null,null,null,null,null,null,null,null,null,null,null,null,null,null,null,null,null,null,null,null,null,null,null,null,null,null,null,null,null,null,null,null,null,null,null,null,null,null,null,null,null,null,null,null,null,null,null,null,null,null,null,null,null,null,null,null,20824.638671875,18997.853515625,21100.205078125,18395.37109375,21063.302734375,19017.439453125,21718.04296875,19264.138671875,21242.572265625,19281.326171875,21955.626953125,18931.779296875,21641.244140625,19973.392578125,21093.765625,19615.673828125,21458.291015625,19107.515625,20768.154296875,19921.154296875,22218.95703125,19659.841796875,21441.87109375,19937.548828125],\"yaxis\":\"y\",\"type\":\"scatter\"}],                        {\"template\":{\"data\":{\"bar\":[{\"error_x\":{\"color\":\"#2a3f5f\"},\"error_y\":{\"color\":\"#2a3f5f\"},\"marker\":{\"line\":{\"color\":\"#E5ECF6\",\"width\":0.5},\"pattern\":{\"fillmode\":\"overlay\",\"size\":10,\"solidity\":0.2}},\"type\":\"bar\"}],\"barpolar\":[{\"marker\":{\"line\":{\"color\":\"#E5ECF6\",\"width\":0.5},\"pattern\":{\"fillmode\":\"overlay\",\"size\":10,\"solidity\":0.2}},\"type\":\"barpolar\"}],\"carpet\":[{\"aaxis\":{\"endlinecolor\":\"#2a3f5f\",\"gridcolor\":\"white\",\"linecolor\":\"white\",\"minorgridcolor\":\"white\",\"startlinecolor\":\"#2a3f5f\"},\"baxis\":{\"endlinecolor\":\"#2a3f5f\",\"gridcolor\":\"white\",\"linecolor\":\"white\",\"minorgridcolor\":\"white\",\"startlinecolor\":\"#2a3f5f\"},\"type\":\"carpet\"}],\"choropleth\":[{\"colorbar\":{\"outlinewidth\":0,\"ticks\":\"\"},\"type\":\"choropleth\"}],\"contour\":[{\"colorbar\":{\"outlinewidth\":0,\"ticks\":\"\"},\"colorscale\":[[0.0,\"#0d0887\"],[0.1111111111111111,\"#46039f\"],[0.2222222222222222,\"#7201a8\"],[0.3333333333333333,\"#9c179e\"],[0.4444444444444444,\"#bd3786\"],[0.5555555555555556,\"#d8576b\"],[0.6666666666666666,\"#ed7953\"],[0.7777777777777778,\"#fb9f3a\"],[0.8888888888888888,\"#fdca26\"],[1.0,\"#f0f921\"]],\"type\":\"contour\"}],\"contourcarpet\":[{\"colorbar\":{\"outlinewidth\":0,\"ticks\":\"\"},\"type\":\"contourcarpet\"}],\"heatmap\":[{\"colorbar\":{\"outlinewidth\":0,\"ticks\":\"\"},\"colorscale\":[[0.0,\"#0d0887\"],[0.1111111111111111,\"#46039f\"],[0.2222222222222222,\"#7201a8\"],[0.3333333333333333,\"#9c179e\"],[0.4444444444444444,\"#bd3786\"],[0.5555555555555556,\"#d8576b\"],[0.6666666666666666,\"#ed7953\"],[0.7777777777777778,\"#fb9f3a\"],[0.8888888888888888,\"#fdca26\"],[1.0,\"#f0f921\"]],\"type\":\"heatmap\"}],\"heatmapgl\":[{\"colorbar\":{\"outlinewidth\":0,\"ticks\":\"\"},\"colorscale\":[[0.0,\"#0d0887\"],[0.1111111111111111,\"#46039f\"],[0.2222222222222222,\"#7201a8\"],[0.3333333333333333,\"#9c179e\"],[0.4444444444444444,\"#bd3786\"],[0.5555555555555556,\"#d8576b\"],[0.6666666666666666,\"#ed7953\"],[0.7777777777777778,\"#fb9f3a\"],[0.8888888888888888,\"#fdca26\"],[1.0,\"#f0f921\"]],\"type\":\"heatmapgl\"}],\"histogram\":[{\"marker\":{\"pattern\":{\"fillmode\":\"overlay\",\"size\":10,\"solidity\":0.2}},\"type\":\"histogram\"}],\"histogram2d\":[{\"colorbar\":{\"outlinewidth\":0,\"ticks\":\"\"},\"colorscale\":[[0.0,\"#0d0887\"],[0.1111111111111111,\"#46039f\"],[0.2222222222222222,\"#7201a8\"],[0.3333333333333333,\"#9c179e\"],[0.4444444444444444,\"#bd3786\"],[0.5555555555555556,\"#d8576b\"],[0.6666666666666666,\"#ed7953\"],[0.7777777777777778,\"#fb9f3a\"],[0.8888888888888888,\"#fdca26\"],[1.0,\"#f0f921\"]],\"type\":\"histogram2d\"}],\"histogram2dcontour\":[{\"colorbar\":{\"outlinewidth\":0,\"ticks\":\"\"},\"colorscale\":[[0.0,\"#0d0887\"],[0.1111111111111111,\"#46039f\"],[0.2222222222222222,\"#7201a8\"],[0.3333333333333333,\"#9c179e\"],[0.4444444444444444,\"#bd3786\"],[0.5555555555555556,\"#d8576b\"],[0.6666666666666666,\"#ed7953\"],[0.7777777777777778,\"#fb9f3a\"],[0.8888888888888888,\"#fdca26\"],[1.0,\"#f0f921\"]],\"type\":\"histogram2dcontour\"}],\"mesh3d\":[{\"colorbar\":{\"outlinewidth\":0,\"ticks\":\"\"},\"type\":\"mesh3d\"}],\"parcoords\":[{\"line\":{\"colorbar\":{\"outlinewidth\":0,\"ticks\":\"\"}},\"type\":\"parcoords\"}],\"pie\":[{\"automargin\":true,\"type\":\"pie\"}],\"scatter\":[{\"marker\":{\"colorbar\":{\"outlinewidth\":0,\"ticks\":\"\"}},\"type\":\"scatter\"}],\"scatter3d\":[{\"line\":{\"colorbar\":{\"outlinewidth\":0,\"ticks\":\"\"}},\"marker\":{\"colorbar\":{\"outlinewidth\":0,\"ticks\":\"\"}},\"type\":\"scatter3d\"}],\"scattercarpet\":[{\"marker\":{\"colorbar\":{\"outlinewidth\":0,\"ticks\":\"\"}},\"type\":\"scattercarpet\"}],\"scattergeo\":[{\"marker\":{\"colorbar\":{\"outlinewidth\":0,\"ticks\":\"\"}},\"type\":\"scattergeo\"}],\"scattergl\":[{\"marker\":{\"colorbar\":{\"outlinewidth\":0,\"ticks\":\"\"}},\"type\":\"scattergl\"}],\"scattermapbox\":[{\"marker\":{\"colorbar\":{\"outlinewidth\":0,\"ticks\":\"\"}},\"type\":\"scattermapbox\"}],\"scatterpolar\":[{\"marker\":{\"colorbar\":{\"outlinewidth\":0,\"ticks\":\"\"}},\"type\":\"scatterpolar\"}],\"scatterpolargl\":[{\"marker\":{\"colorbar\":{\"outlinewidth\":0,\"ticks\":\"\"}},\"type\":\"scatterpolargl\"}],\"scatterternary\":[{\"marker\":{\"colorbar\":{\"outlinewidth\":0,\"ticks\":\"\"}},\"type\":\"scatterternary\"}],\"surface\":[{\"colorbar\":{\"outlinewidth\":0,\"ticks\":\"\"},\"colorscale\":[[0.0,\"#0d0887\"],[0.1111111111111111,\"#46039f\"],[0.2222222222222222,\"#7201a8\"],[0.3333333333333333,\"#9c179e\"],[0.4444444444444444,\"#bd3786\"],[0.5555555555555556,\"#d8576b\"],[0.6666666666666666,\"#ed7953\"],[0.7777777777777778,\"#fb9f3a\"],[0.8888888888888888,\"#fdca26\"],[1.0,\"#f0f921\"]],\"type\":\"surface\"}],\"table\":[{\"cells\":{\"fill\":{\"color\":\"#EBF0F8\"},\"line\":{\"color\":\"white\"}},\"header\":{\"fill\":{\"color\":\"#C8D4E3\"},\"line\":{\"color\":\"white\"}},\"type\":\"table\"}]},\"layout\":{\"annotationdefaults\":{\"arrowcolor\":\"#2a3f5f\",\"arrowhead\":0,\"arrowwidth\":1},\"autotypenumbers\":\"strict\",\"coloraxis\":{\"colorbar\":{\"outlinewidth\":0,\"ticks\":\"\"}},\"colorscale\":{\"diverging\":[[0,\"#8e0152\"],[0.1,\"#c51b7d\"],[0.2,\"#de77ae\"],[0.3,\"#f1b6da\"],[0.4,\"#fde0ef\"],[0.5,\"#f7f7f7\"],[0.6,\"#e6f5d0\"],[0.7,\"#b8e186\"],[0.8,\"#7fbc41\"],[0.9,\"#4d9221\"],[1,\"#276419\"]],\"sequential\":[[0.0,\"#0d0887\"],[0.1111111111111111,\"#46039f\"],[0.2222222222222222,\"#7201a8\"],[0.3333333333333333,\"#9c179e\"],[0.4444444444444444,\"#bd3786\"],[0.5555555555555556,\"#d8576b\"],[0.6666666666666666,\"#ed7953\"],[0.7777777777777778,\"#fb9f3a\"],[0.8888888888888888,\"#fdca26\"],[1.0,\"#f0f921\"]],\"sequentialminus\":[[0.0,\"#0d0887\"],[0.1111111111111111,\"#46039f\"],[0.2222222222222222,\"#7201a8\"],[0.3333333333333333,\"#9c179e\"],[0.4444444444444444,\"#bd3786\"],[0.5555555555555556,\"#d8576b\"],[0.6666666666666666,\"#ed7953\"],[0.7777777777777778,\"#fb9f3a\"],[0.8888888888888888,\"#fdca26\"],[1.0,\"#f0f921\"]]},\"colorway\":[\"#636efa\",\"#EF553B\",\"#00cc96\",\"#ab63fa\",\"#FFA15A\",\"#19d3f3\",\"#FF6692\",\"#B6E880\",\"#FF97FF\",\"#FECB52\"],\"font\":{\"color\":\"#2a3f5f\"},\"geo\":{\"bgcolor\":\"white\",\"lakecolor\":\"white\",\"landcolor\":\"#E5ECF6\",\"showlakes\":true,\"showland\":true,\"subunitcolor\":\"white\"},\"hoverlabel\":{\"align\":\"left\"},\"hovermode\":\"closest\",\"mapbox\":{\"style\":\"light\"},\"paper_bgcolor\":\"white\",\"plot_bgcolor\":\"#E5ECF6\",\"polar\":{\"angularaxis\":{\"gridcolor\":\"white\",\"linecolor\":\"white\",\"ticks\":\"\"},\"bgcolor\":\"#E5ECF6\",\"radialaxis\":{\"gridcolor\":\"white\",\"linecolor\":\"white\",\"ticks\":\"\"}},\"scene\":{\"xaxis\":{\"backgroundcolor\":\"#E5ECF6\",\"gridcolor\":\"white\",\"gridwidth\":2,\"linecolor\":\"white\",\"showbackground\":true,\"ticks\":\"\",\"zerolinecolor\":\"white\"},\"yaxis\":{\"backgroundcolor\":\"#E5ECF6\",\"gridcolor\":\"white\",\"gridwidth\":2,\"linecolor\":\"white\",\"showbackground\":true,\"ticks\":\"\",\"zerolinecolor\":\"white\"},\"zaxis\":{\"backgroundcolor\":\"#E5ECF6\",\"gridcolor\":\"white\",\"gridwidth\":2,\"linecolor\":\"white\",\"showbackground\":true,\"ticks\":\"\",\"zerolinecolor\":\"white\"}},\"shapedefaults\":{\"line\":{\"color\":\"#2a3f5f\"}},\"ternary\":{\"aaxis\":{\"gridcolor\":\"white\",\"linecolor\":\"white\",\"ticks\":\"\"},\"baxis\":{\"gridcolor\":\"white\",\"linecolor\":\"white\",\"ticks\":\"\"},\"bgcolor\":\"#E5ECF6\",\"caxis\":{\"gridcolor\":\"white\",\"linecolor\":\"white\",\"ticks\":\"\"}},\"title\":{\"x\":0.05},\"xaxis\":{\"automargin\":true,\"gridcolor\":\"white\",\"linecolor\":\"white\",\"ticks\":\"\",\"title\":{\"standoff\":15},\"zerolinecolor\":\"white\",\"zerolinewidth\":2},\"yaxis\":{\"automargin\":true,\"gridcolor\":\"white\",\"linecolor\":\"white\",\"ticks\":\"\",\"title\":{\"standoff\":15},\"zerolinecolor\":\"white\",\"zerolinewidth\":2}}},\"xaxis\":{\"anchor\":\"y\",\"domain\":[0.0,1.0],\"title\":{\"text\":\"Date\"}},\"yaxis\":{\"anchor\":\"x\",\"domain\":[0.0,1.0],\"title\":{\"text\":\"KG\"}},\"legend\":{\"title\":{\"text\":\"Source\"},\"tracegroupgap\":0},\"margin\":{\"t\":60}},                        {\"responsive\": true}                    ).then(function(){\n",
       "                            \n",
       "var gd = document.getElementById('7609a4ed-f908-4f31-9cac-ebbc76aaae8f');\n",
       "var x = new MutationObserver(function (mutations, observer) {{\n",
       "        var display = window.getComputedStyle(gd).display;\n",
       "        if (!display || display === 'none') {{\n",
       "            console.log([gd, 'removed!']);\n",
       "            Plotly.purge(gd);\n",
       "            observer.disconnect();\n",
       "        }}\n",
       "}});\n",
       "\n",
       "// Listen for the removal of the full notebook cells\n",
       "var notebookContainer = gd.closest('#notebook-container');\n",
       "if (notebookContainer) {{\n",
       "    x.observe(notebookContainer, {childList: true});\n",
       "}}\n",
       "\n",
       "// Listen for the clearing of the current output cell\n",
       "var outputEl = gd.closest('.output');\n",
       "if (outputEl) {{\n",
       "    x.observe(outputEl, {childList: true});\n",
       "}}\n",
       "\n",
       "                        })                };                            </script>        </div>\n",
       "</body>\n",
       "</html>"
      ]
     },
     "metadata": {},
     "output_type": "display_data"
    }
   ],
   "source": [
    "px.line(new, x='Date', y='KG', color='Source')"
   ]
  },
  {
   "cell_type": "markdown",
   "metadata": {
    "id": "utLO4bRCGweP"
   },
   "source": [
    "<a name='x.5'></a>\n",
    "\n",
    "## 6.5 Model Extensibility\n",
    "\n",
    "[back to top](#top)"
   ]
  },
  {
   "cell_type": "code",
   "execution_count": 36,
   "metadata": {
    "executionInfo": {
     "elapsed": 245,
     "status": "ok",
     "timestamp": 1645669083557,
     "user": {
      "displayName": "Wesley Beckner",
      "photoUrl": "https://lh3.googleusercontent.com/a-/AOh14GjSrSNC5ljFK1tVytNJhengi6L9T_zjAvSSfuo3ug=s64",
      "userId": "17051665784581118920"
     },
     "user_tz": 480
    },
    "id": "F2M2msSVA3JL"
   },
   "outputs": [],
   "source": [
    "from ipywidgets import interact"
   ]
  },
  {
   "cell_type": "markdown",
   "metadata": {
    "id": "DEZFcEbMhqne"
   },
   "source": [
    "<a name='x.5.1'></a>\n",
    "\n",
    "### 🏋️ Exercise 4: Apply Model to Other Orders\n",
    "\n",
    "Take the last LSTM model and apply it to other orders in the dataset. What do you notice?\n",
    "\n",
    "[back to top](#top)"
   ]
  },
  {
   "cell_type": "code",
   "execution_count": 37,
   "metadata": {
    "executionInfo": {
     "elapsed": 200,
     "status": "ok",
     "timestamp": 1645669087007,
     "user": {
      "displayName": "Wesley Beckner",
      "photoUrl": "https://lh3.googleusercontent.com/a-/AOh14GjSrSNC5ljFK1tVytNJhengi6L9T_zjAvSSfuo3ug=s64",
      "userId": "17051665784581118920"
     },
     "user_tz": 480
    },
    "id": "zaeF4L1_HnJm"
   },
   "outputs": [],
   "source": [
    "def apply_model(dataset=orders.index, window_size=3):\n",
    "  window_size = window_size\n",
    "  data = pd.DataFrame(orders.loc[dataset, time_cols])\n",
    "  data = data.reset_index()\n",
    "  data.columns = ['Date', 'KG']\n",
    "\n",
    "  \n",
    "\n",
    "  X, y, labels = process_data(orders.loc[[dataset], \n",
    "                              time_cols].values, \n",
    "                              window=window_size, \n",
    "                              time_cols=132)\n",
    "\n",
    "  y_pred = model.predict(X.reshape(-1, 1, window_size)).flatten()\n",
    "\n",
    "  results = pd.DataFrame(y_pred,  y)\n",
    "  results = results.reset_index()\n",
    "  results.index = data['Date'][window_size:]\n",
    "  results = results.reset_index()\n",
    "  results.columns=['Date', 'real', 'predicted']\n",
    "  results = results.melt(id_vars='Date', var_name='Source', value_name='KG')\n",
    "\n",
    "  fig = px.line(results, x='Date', y='KG', color='Source')\n",
    "  return fig"
   ]
  },
  {
   "cell_type": "code",
   "execution_count": 38,
   "metadata": {
    "colab": {
     "base_uri": "https://localhost:8080/",
     "height": 623,
     "referenced_widgets": [
      "80fa1dbdda7f44b2bf4e19578675fedd",
      "ef676b52851b46f1b64c1f5cab3fbd8d",
      "b2b9e12e7cce494aa72625d4df1f4c39",
      "0cbfd92ed9ca4062990a905264e15cd8",
      "7d86c42c92074521a73bb1da782318ed",
      "63277fc345624b8b91e4e1e1371ca3f9",
      "cd755d8e299246859de92634b7de099a",
      "07eb9059e34e46bea531cfb79c881a97",
      "382186c3617c44a3b6b06fc89fa691d5",
      "d8242022b6524c798c88bba5cb3a7558"
     ]
    },
    "executionInfo": {
     "elapsed": 284,
     "status": "ok",
     "timestamp": 1645669089241,
     "user": {
      "displayName": "Wesley Beckner",
      "photoUrl": "https://lh3.googleusercontent.com/a-/AOh14GjSrSNC5ljFK1tVytNJhengi6L9T_zjAvSSfuo3ug=s64",
      "userId": "17051665784581118920"
     },
     "user_tz": 480
    },
    "id": "YFYPPI8dA_ye",
    "outputId": "69c8769b-426a-4973-cbe2-ea3e33ee6b10"
   },
   "outputs": [
    {
     "data": {
      "application/vnd.jupyter.widget-view+json": {
       "model_id": "80fa1dbdda7f44b2bf4e19578675fedd",
       "version_major": 2,
       "version_minor": 0
      },
      "text/plain": [
       "interactive(children=(Dropdown(description='dataset', options=(0, 1, 2, 3, 4, 5, 6, 7, 8, 9, 10, 11, 12, 13, 1…"
      ]
     },
     "metadata": {},
     "output_type": "display_data"
    },
    {
     "data": {
      "text/plain": [
       "<function __main__.apply_model>"
      ]
     },
     "execution_count": 38,
     "metadata": {},
     "output_type": "execute_result"
    }
   ],
   "source": [
    "interact(apply_model)"
   ]
  },
  {
   "cell_type": "markdown",
   "metadata": {
    "id": "KvTtb8VpITmZ"
   },
   "source": [
    "<a name='x.5.2'></a>\n",
    "\n",
    "### 🏋️ Exercise-Discussion 5.1: How Would You Create a General Forecast Model?\n",
    "\n",
    "[back to top](#top)\n",
    "\n",
    "> After exploring how your model does on other order histories, what do you think is a good strategy for developing company wide order forecasts?\n",
    "\n",
    "Some possible questions:\n",
    "\n",
    "* should you create a single model for the whole company?\n",
    "* could you embed meta data about the order in this all-inclusive model?\n",
    "* should you make models specific to certain customers, products, etc. \n",
    "  * what kind of analysis could you do before hand to determine how your models should be grouped?"
   ]
  },
  {
   "cell_type": "code",
   "execution_count": 39,
   "metadata": {
    "executionInfo": {
     "elapsed": 202,
     "status": "ok",
     "timestamp": 1645669186234,
     "user": {
      "displayName": "Wesley Beckner",
      "photoUrl": "https://lh3.googleusercontent.com/a-/AOh14GjSrSNC5ljFK1tVytNJhengi6L9T_zjAvSSfuo3ug=s64",
      "userId": "17051665784581118920"
     },
     "user_tz": 480
    },
    "id": "aRPVmitPzrbz"
   },
   "outputs": [],
   "source": [
    "melted = orders.melt(id_vars=['base_cake', 'truffle_type', 'primary_flavor', 'secondary_flavor',\n",
    "       'color_group', 'customer'], var_name='month', value_name='kg')"
   ]
  },
  {
   "cell_type": "code",
   "execution_count": 40,
   "metadata": {
    "executionInfo": {
     "elapsed": 219,
     "status": "ok",
     "timestamp": 1645669187317,
     "user": {
      "displayName": "Wesley Beckner",
      "photoUrl": "https://lh3.googleusercontent.com/a-/AOh14GjSrSNC5ljFK1tVytNJhengi6L9T_zjAvSSfuo3ug=s64",
      "userId": "17051665784581118920"
     },
     "user_tz": 480
    },
    "id": "lF5Etme5IPOa"
   },
   "outputs": [],
   "source": [
    "def my_eda(color=cat_cols):\n",
    "  fig = px.line(melted, x='month', y='kg', color=color)\n",
    "  return fig"
   ]
  },
  {
   "cell_type": "code",
   "execution_count": 41,
   "metadata": {
    "colab": {
     "base_uri": "https://localhost:8080/",
     "height": 591,
     "referenced_widgets": [
      "2273fdc6684c4de8a3614a26e0582814",
      "8e965f37b8b9408e946844ba111a9635",
      "ab57c41c1b5e43a7960dc48dd7d0a418",
      "c4e7473f459a451099549084d2aefcbc",
      "12dcbee0ccd44ecb8e8ab35073b94bb2",
      "3386e31f0e4e4e5f967ad8d5209d1831",
      "8189b035d2e743938518105ef2ed3f5e"
     ]
    },
    "executionInfo": {
     "elapsed": 666,
     "status": "ok",
     "timestamp": 1645669189038,
     "user": {
      "displayName": "Wesley Beckner",
      "photoUrl": "https://lh3.googleusercontent.com/a-/AOh14GjSrSNC5ljFK1tVytNJhengi6L9T_zjAvSSfuo3ug=s64",
      "userId": "17051665784581118920"
     },
     "user_tz": 480
    },
    "id": "MWs-Liyp0CSZ",
    "outputId": "c258cb9f-4b0a-442f-abd9-9cd537bd322d"
   },
   "outputs": [
    {
     "data": {
      "application/vnd.jupyter.widget-view+json": {
       "model_id": "2273fdc6684c4de8a3614a26e0582814",
       "version_major": 2,
       "version_minor": 0
      },
      "text/plain": [
       "interactive(children=(Dropdown(description='color', options=('base_cake', 'truffle_type', 'primary_flavor', 's…"
      ]
     },
     "metadata": {},
     "output_type": "display_data"
    },
    {
     "data": {
      "text/plain": [
       "<function __main__.my_eda>"
      ]
     },
     "execution_count": 41,
     "metadata": {},
     "output_type": "execute_result"
    }
   ],
   "source": [
    "interact(my_eda)"
   ]
  },
  {
   "cell_type": "markdown",
   "metadata": {
    "id": "l16UTW23wsd1"
   },
   "source": [
    "<a name='x.5.2.1'></a>\n",
    "\n",
    "### 🏋️ Exercise 5.2: EDA\n",
    "\n",
    "[back to top](#top)\n",
    "\n",
    "In our quest to create a model that works well for all orders to truffltopia. I tell you that there are some orders with patterned behavior, according to their meta data. Your first task, is to find out which categorical variable best separates the data. You can use any statistical or visual method you like\n",
    "\n",
    "```\n",
    "# recall the categorical variables:\n",
    "['base_cake', 'truffle_type', 'primary_flavor', 'secondary_flavor', 'color_group', 'customer']\n",
    "```\n",
    "\n",
    "From C1 S6, it may be useful to think of this diagram:\n",
    "\n",
    "<img src=\"https://cdn.scribbr.com/wp-content/uploads//2020/01/flowchart-for-choosing-a-statistical-test.png\" width=800px></img>"
   ]
  },
  {
   "cell_type": "markdown",
   "metadata": {
    "id": "adG6lXNjxsb_"
   },
   "source": [
    "<a name='x.5.2.2'></a>\n",
    "\n",
    "### 🏋️ Exercise 5.3: Decide on Model\n",
    "\n",
    "[back to top](#top)\n",
    "\n",
    "Will you model the whole dataset together? Will you create a number of submodels? Choose based on the groupings you determined statistically significant in the data. \n",
    "\n",
    "As a base comparison I have provided a formula that trains a model on the entire order history:\n",
    "\n",
    "```\n",
    "data = orders\n",
    "data = data[time_cols].values\n",
    "\n",
    "batch_size = 256\n",
    "window_size = 12\n",
    "\n",
    "print(\"batch size: {}\".format(batch_size))\n",
    "print(\"window size: {}\".format(window_size), end='\\n\\n')\n",
    "\n",
    "# describes the split train 0-.6/val .6-.8/test .8-1\n",
    "train_test_val_ratios = [0.8, 0.9]\n",
    "\n",
    "X_train, y_train, X_val, y_val, X_test, y_test = train_test_process(data,\n",
    "                                                        train_test_val_ratios,\n",
    "                                                        window_size)\n",
    "\n",
    "early_stopping = keras.callbacks.EarlyStopping(\n",
    "    patience=50,\n",
    "    min_delta=0.001,\n",
    "    restore_best_weights=True,\n",
    "    monitor='loss'\n",
    ")\n",
    "\n",
    "model = keras.Sequential([\n",
    "    layers.Dense(8, input_shape=[window_size]),\n",
    "    layers.Dense(16),\n",
    "    layers.Dense(32),\n",
    "    layers.Dense(16),\n",
    "    layers.Dense(1)\n",
    "])\n",
    "\n",
    "model.compile(loss='mean_squared_error', optimizer='adam')\n",
    "\n",
    "history = model.fit(\n",
    "    X_train, y_train,\n",
    "    validation_data=(X_val, y_val),\n",
    "    batch_size=batch_size,\n",
    "    epochs=10000,\n",
    "    callbacks=[early_stopping],\n",
    "    verbose=0, # hide the output because we have so many epochs\n",
    "  )\n",
    "\n",
    "print(pd.DataFrame(history.history).tail())\n",
    "```"
   ]
  },
  {
   "cell_type": "code",
   "execution_count": 42,
   "metadata": {
    "colab": {
     "base_uri": "https://localhost:8080/"
    },
    "executionInfo": {
     "elapsed": 22150,
     "status": "ok",
     "timestamp": 1645669256789,
     "user": {
      "displayName": "Wesley Beckner",
      "photoUrl": "https://lh3.googleusercontent.com/a-/AOh14GjSrSNC5ljFK1tVytNJhengi6L9T_zjAvSSfuo3ug=s64",
      "userId": "17051665784581118920"
     },
     "user_tz": 480
    },
    "id": "WIxjKWrqCwQ3",
    "outputId": "bf0db80b-6879-4fd8-ce8f-020743c44689"
   },
   "outputs": [
    {
     "name": "stdout",
     "output_type": "stream",
     "text": [
      "batch size: 256\n",
      "window size: 12\n",
      "\n",
      "train size: 9300\n",
      "val size: 100\n",
      "test size: 200\n",
      "\n",
      "             loss      val_loss\n",
      "178  273904.93750  533661.50000\n",
      "179  288718.50000  519464.28125\n",
      "180  295474.71875  513898.46875\n",
      "181  299524.78125  664799.06250\n",
      "182  283324.56250  509953.53125\n"
     ]
    }
   ],
   "source": [
    "data = orders\n",
    "data = data[time_cols].values\n",
    "\n",
    "batch_size = 256\n",
    "window_size = 12\n",
    "\n",
    "print(\"batch size: {}\".format(batch_size))\n",
    "print(\"window size: {}\".format(window_size), end='\\n\\n')\n",
    "\n",
    "# describes the split train 0-.6/val .6-.8/test .8-1\n",
    "train_test_val_ratios = [0.8, 0.9]\n",
    "\n",
    "X_train, y_train, X_val, y_val, X_test, y_test = train_test_process(data,\n",
    "                                                        train_test_val_ratios,\n",
    "                                                        window_size)\n",
    "\n",
    "early_stopping = keras.callbacks.EarlyStopping(\n",
    "    patience=50,\n",
    "    min_delta=0.001,\n",
    "    restore_best_weights=True,\n",
    "    monitor='loss'\n",
    ")\n",
    "\n",
    "model = keras.Sequential([\n",
    "    layers.Dense(8, input_shape=[window_size]),\n",
    "    layers.Dense(16),\n",
    "    layers.Dense(32),\n",
    "    layers.Dense(16),\n",
    "    layers.Dense(1)\n",
    "])\n",
    "\n",
    "model.compile(loss='mean_squared_error', optimizer='adam')\n",
    "\n",
    "history = model.fit(\n",
    "    X_train, y_train,\n",
    "    validation_data=(X_val, y_val),\n",
    "    batch_size=batch_size,\n",
    "    epochs=10000,\n",
    "    callbacks=[early_stopping],\n",
    "    verbose=0, # hide the output because we have so many epochs\n",
    "  )\n",
    "\n",
    "print(pd.DataFrame(history.history).tail())"
   ]
  },
  {
   "cell_type": "markdown",
   "metadata": {
    "id": "Ou7iaizMMJ5k"
   },
   "source": [
    "And a history of the loss with the following settings:\n",
    "```\n",
    "batch size: 256\n",
    "window size: 12\n",
    "\n",
    "train size: 9300\n",
    "val size: 100\n",
    "test size: 200\n",
    "\n",
    "             loss     val_loss\n",
    "326  279111.15625  953265.0625\n",
    "327  322529.15625  580780.2500\n",
    "328  285901.56250  476007.4375\n",
    "329  302237.68750  496192.8125\n",
    "330  281779.40625  480916.6250\n",
    "```"
   ]
  },
  {
   "cell_type": "code",
   "execution_count": null,
   "metadata": {
    "id": "cxCe5Yo6DrkI"
   },
   "outputs": [],
   "source": [
    "interact(apply_model)"
   ]
  }
 ],
 "metadata": {
  "accelerator": "GPU",
  "colab": {
   "collapsed_sections": [],
   "name": "S6_Time_Series_Analysis.ipynb",
   "provenance": [
    {
     "file_id": "https://github.com/wesleybeckner/general_applications_of_neural_networks/blob/main/notebooks/S5_Time_Series_Analysis.ipynb",
     "timestamp": 1645664757222
    }
   ],
   "toc_visible": true
  },
  "kernelspec": {
   "display_name": "Python 3",
   "language": "python",
   "name": "python3"
  },
  "language_info": {
   "codemirror_mode": {
    "name": "ipython",
    "version": 3
   },
   "file_extension": ".py",
   "mimetype": "text/x-python",
   "name": "python",
   "nbconvert_exporter": "python",
   "pygments_lexer": "ipython3",
   "version": "3.6.13"
  },
  "widgets": {
   "application/vnd.jupyter.widget-state+json": {
    "07eb9059e34e46bea531cfb79c881a97": {
     "model_module": "@jupyter-widgets/controls",
     "model_module_version": "1.5.0",
     "model_name": "SliderStyleModel",
     "state": {
      "_model_module": "@jupyter-widgets/controls",
      "_model_module_version": "1.5.0",
      "_model_name": "SliderStyleModel",
      "_view_count": null,
      "_view_module": "@jupyter-widgets/base",
      "_view_module_version": "1.2.0",
      "_view_name": "StyleView",
      "description_width": "",
      "handle_color": null
     }
    },
    "0cbfd92ed9ca4062990a905264e15cd8": {
     "model_module": "@jupyter-widgets/controls",
     "model_module_version": "1.5.0",
     "model_name": "IntSliderModel",
     "state": {
      "_dom_classes": [],
      "_model_module": "@jupyter-widgets/controls",
      "_model_module_version": "1.5.0",
      "_model_name": "IntSliderModel",
      "_view_count": null,
      "_view_module": "@jupyter-widgets/controls",
      "_view_module_version": "1.5.0",
      "_view_name": "IntSliderView",
      "continuous_update": true,
      "description": "window_size",
      "description_tooltip": null,
      "disabled": false,
      "layout": "IPY_MODEL_382186c3617c44a3b6b06fc89fa691d5",
      "max": 9,
      "min": -3,
      "orientation": "horizontal",
      "readout": true,
      "readout_format": "d",
      "step": 1,
      "style": "IPY_MODEL_07eb9059e34e46bea531cfb79c881a97",
      "value": 3
     }
    },
    "12dcbee0ccd44ecb8e8ab35073b94bb2": {
     "model_module": "@jupyter-widgets/controls",
     "model_module_version": "1.5.0",
     "model_name": "DescriptionStyleModel",
     "state": {
      "_model_module": "@jupyter-widgets/controls",
      "_model_module_version": "1.5.0",
      "_model_name": "DescriptionStyleModel",
      "_view_count": null,
      "_view_module": "@jupyter-widgets/base",
      "_view_module_version": "1.2.0",
      "_view_name": "StyleView",
      "description_width": ""
     }
    },
    "2273fdc6684c4de8a3614a26e0582814": {
     "model_module": "@jupyter-widgets/controls",
     "model_module_version": "1.5.0",
     "model_name": "VBoxModel",
     "state": {
      "_dom_classes": [
       "widget-interact"
      ],
      "_model_module": "@jupyter-widgets/controls",
      "_model_module_version": "1.5.0",
      "_model_name": "VBoxModel",
      "_view_count": null,
      "_view_module": "@jupyter-widgets/controls",
      "_view_module_version": "1.5.0",
      "_view_name": "VBoxView",
      "box_style": "",
      "children": [
       "IPY_MODEL_ab57c41c1b5e43a7960dc48dd7d0a418",
       "IPY_MODEL_c4e7473f459a451099549084d2aefcbc"
      ],
      "layout": "IPY_MODEL_8e965f37b8b9408e946844ba111a9635"
     }
    },
    "3386e31f0e4e4e5f967ad8d5209d1831": {
     "model_module": "@jupyter-widgets/base",
     "model_module_version": "1.2.0",
     "model_name": "LayoutModel",
     "state": {
      "_model_module": "@jupyter-widgets/base",
      "_model_module_version": "1.2.0",
      "_model_name": "LayoutModel",
      "_view_count": null,
      "_view_module": "@jupyter-widgets/base",
      "_view_module_version": "1.2.0",
      "_view_name": "LayoutView",
      "align_content": null,
      "align_items": null,
      "align_self": null,
      "border": null,
      "bottom": null,
      "display": null,
      "flex": null,
      "flex_flow": null,
      "grid_area": null,
      "grid_auto_columns": null,
      "grid_auto_flow": null,
      "grid_auto_rows": null,
      "grid_column": null,
      "grid_gap": null,
      "grid_row": null,
      "grid_template_areas": null,
      "grid_template_columns": null,
      "grid_template_rows": null,
      "height": null,
      "justify_content": null,
      "justify_items": null,
      "left": null,
      "margin": null,
      "max_height": null,
      "max_width": null,
      "min_height": null,
      "min_width": null,
      "object_fit": null,
      "object_position": null,
      "order": null,
      "overflow": null,
      "overflow_x": null,
      "overflow_y": null,
      "padding": null,
      "right": null,
      "top": null,
      "visibility": null,
      "width": null
     }
    },
    "382186c3617c44a3b6b06fc89fa691d5": {
     "model_module": "@jupyter-widgets/base",
     "model_module_version": "1.2.0",
     "model_name": "LayoutModel",
     "state": {
      "_model_module": "@jupyter-widgets/base",
      "_model_module_version": "1.2.0",
      "_model_name": "LayoutModel",
      "_view_count": null,
      "_view_module": "@jupyter-widgets/base",
      "_view_module_version": "1.2.0",
      "_view_name": "LayoutView",
      "align_content": null,
      "align_items": null,
      "align_self": null,
      "border": null,
      "bottom": null,
      "display": null,
      "flex": null,
      "flex_flow": null,
      "grid_area": null,
      "grid_auto_columns": null,
      "grid_auto_flow": null,
      "grid_auto_rows": null,
      "grid_column": null,
      "grid_gap": null,
      "grid_row": null,
      "grid_template_areas": null,
      "grid_template_columns": null,
      "grid_template_rows": null,
      "height": null,
      "justify_content": null,
      "justify_items": null,
      "left": null,
      "margin": null,
      "max_height": null,
      "max_width": null,
      "min_height": null,
      "min_width": null,
      "object_fit": null,
      "object_position": null,
      "order": null,
      "overflow": null,
      "overflow_x": null,
      "overflow_y": null,
      "padding": null,
      "right": null,
      "top": null,
      "visibility": null,
      "width": null
     }
    },
    "63277fc345624b8b91e4e1e1371ca3f9": {
     "model_module": "@jupyter-widgets/controls",
     "model_module_version": "1.5.0",
     "model_name": "DescriptionStyleModel",
     "state": {
      "_model_module": "@jupyter-widgets/controls",
      "_model_module_version": "1.5.0",
      "_model_name": "DescriptionStyleModel",
      "_view_count": null,
      "_view_module": "@jupyter-widgets/base",
      "_view_module_version": "1.2.0",
      "_view_name": "StyleView",
      "description_width": ""
     }
    },
    "7d86c42c92074521a73bb1da782318ed": {
     "model_module": "@jupyter-widgets/output",
     "model_module_version": "1.0.0",
     "model_name": "OutputModel",
     "state": {
      "_dom_classes": [],
      "_model_module": "@jupyter-widgets/output",
      "_model_module_version": "1.0.0",
      "_model_name": "OutputModel",
      "_view_count": null,
      "_view_module": "@jupyter-widgets/output",
      "_view_module_version": "1.0.0",
      "_view_name": "OutputView",
      "layout": "IPY_MODEL_d8242022b6524c798c88bba5cb3a7558",
      "msg_id": "",
      "outputs": [
       {
        "data": {
         "text/html": "<html>\n<head><meta charset=\"utf-8\" /></head>\n<body>\n    <div>            <script src=\"https://cdnjs.cloudflare.com/ajax/libs/mathjax/2.7.5/MathJax.js?config=TeX-AMS-MML_SVG\"></script><script type=\"text/javascript\">if (window.MathJax) {MathJax.Hub.Config({SVG: {font: \"STIX-Web\"}});}</script>                <script type=\"text/javascript\">window.PlotlyConfig = {MathJaxConfig: 'local'};</script>\n        <script src=\"https://cdn.plot.ly/plotly-2.8.3.min.js\"></script>                <div id=\"e9b61f45-cb80-4855-b7cc-8d1b1a2e16fa\" class=\"plotly-graph-div\" style=\"height:525px; width:100%;\"></div>            <script type=\"text/javascript\">                                    window.PLOTLYENV=window.PLOTLYENV || {};                                    if (document.getElementById(\"e9b61f45-cb80-4855-b7cc-8d1b1a2e16fa\")) {                    Plotly.newPlot(                        \"e9b61f45-cb80-4855-b7cc-8d1b1a2e16fa\",                        [{\"hovertemplate\":\"Source=real<br>Date=%{x}<br>KG=%{y}<extra></extra>\",\"legendgroup\":\"real\",\"line\":{\"color\":\"#636efa\",\"dash\":\"solid\"},\"marker\":{\"symbol\":\"circle\"},\"mode\":\"lines\",\"name\":\"real\",\"orientation\":\"v\",\"showlegend\":true,\"x\":[\"4/2010\",\"5/2010\",\"6/2010\",\"7/2010\",\"8/2010\",\"9/2010\",\"10/2010\",\"11/2010\",\"12/2010\",\"1/2011\",\"2/2011\",\"3/2011\",\"4/2011\",\"5/2011\",\"6/2011\",\"7/2011\",\"8/2011\",\"9/2011\",\"10/2011\",\"11/2011\",\"12/2011\",\"1/2012\",\"2/2012\",\"3/2012\",\"4/2012\",\"5/2012\",\"6/2012\",\"7/2012\",\"8/2012\",\"9/2012\",\"10/2012\",\"11/2012\",\"12/2012\",\"1/2013\",\"2/2013\",\"3/2013\",\"4/2013\",\"5/2013\",\"6/2013\",\"7/2013\",\"8/2013\",\"9/2013\",\"10/2013\",\"11/2013\",\"12/2013\",\"1/2014\",\"2/2014\",\"3/2014\",\"4/2014\",\"5/2014\",\"6/2014\",\"7/2014\",\"8/2014\",\"9/2014\",\"10/2014\",\"11/2014\",\"12/2014\",\"1/2015\",\"2/2015\",\"3/2015\",\"4/2015\",\"5/2015\",\"6/2015\",\"7/2015\",\"8/2015\",\"9/2015\",\"10/2015\",\"11/2015\",\"12/2015\",\"1/2016\",\"2/2016\",\"3/2016\",\"4/2016\",\"5/2016\",\"6/2016\",\"7/2016\",\"8/2016\",\"9/2016\",\"10/2016\",\"11/2016\",\"12/2016\",\"1/2017\",\"2/2017\",\"3/2017\",\"4/2017\",\"5/2017\",\"6/2017\",\"7/2017\",\"8/2017\",\"9/2017\",\"10/2017\",\"11/2017\",\"12/2017\",\"1/2018\",\"2/2018\",\"3/2018\",\"4/2018\",\"5/2018\",\"6/2018\",\"7/2018\",\"8/2018\",\"9/2018\",\"10/2018\",\"11/2018\",\"12/2018\",\"1/2019\",\"2/2019\",\"3/2019\",\"4/2019\",\"5/2019\",\"6/2019\",\"7/2019\",\"8/2019\",\"9/2019\",\"10/2019\",\"11/2019\",\"12/2019\",\"1/2020\",\"2/2020\",\"3/2020\",\"4/2020\",\"5/2020\",\"6/2020\",\"7/2020\",\"8/2020\",\"9/2020\",\"10/2020\",\"11/2020\",\"12/2020\"],\"xaxis\":\"x\",\"y\":[666.4481144075917,1378.4654833398624,737.0138361363856,716.5576660329726,778.8577655681105,1634.8517126112524,699.9838131772116,689.1285112875195,787.8282715662804,1733.5268644682762,747.1765486181631,976.7839498304328,960.7137264175196,1937.164916696644,1161.0917181121922,1119.0115330847416,940.4311676289554,2225.7212768786144,1123.2962243460422,1147.9749938668715,1291.472526764309,2377.5536809219343,1375.770242732815,1148.5802777912909,1180.2402990879496,2757.515029346406,1429.245038490752,1403.9780450018454,1279.1412525701242,3059.3251831885755,1582.4830708904158,1560.579342924265,1634.363502770131,3211.4420101628266,1594.5154332486395,1854.890035316134,1647.4190610633557,3279.554364353772,1600.2761242331792,1589.4104051972815,2126.5916507744023,3265.7511989718423,1687.7178765323238,1972.0487301323396,2181.857167297466,3829.0928697657273,2304.2453012610504,1974.588204858637,2299.972897891761,4108.573716791619,2004.37651491702,2014.7211520053904,2183.701898493586,3747.349770706011,2408.1036082302485,2078.800210103022,2244.7364688905336,4259.696813929569,2436.879390952572,2383.1153878156724,2471.065824371879,4561.436741364161,2641.0451676350613,2312.799859816091,2680.3770597033986,4971.351671847343,3214.5774274842693,2381.985245502565,2571.7992090365046,4813.501692499476,2560.0334023863943,2886.98819780046,2964.799959597906,4966.697210534474,2452.315377070168,2470.06068242684,2654.91282542863,5540.318996404216,2785.6526582118404,2408.5906407267366,2569.262169842973,5446.758396335373,2806.548304679029,2638.682043191046,3318.9476071951817,5767.446367759112,3181.653307584475,3112.140276016422,3369.107298668916,6466.154433531885,3305.896427519958,3327.478958378636,3531.472073764279,6491.89596518638,3018.366385508109,2984.4937434769126,3204.971372867223,6797.360889157292,3225.61276003439,3555.323975192597,3027.13334404063,6393.439495829581,4002.9958466767503,3545.5845965595304,3569.800173298948,6737.078895043248,3692.382098585799,3743.0974675541615,3774.197671139085,7131.684955424116,3336.937437859659,4034.37696748122,3707.6384942591194,6779.978411282902,3967.239041627434,3600.487259459061,3633.5807981847015,6544.511552360103,4404.838001760608,4329.953248100952,4463.872474729011,8466.675519691269,4277.877406377365,4630.4854367681,4130.828732998163,8556.9623263949,4590.899855350853,3590.501500423084,4916.292419805373],\"yaxis\":\"y\",\"type\":\"scatter\"},{\"hovertemplate\":\"Source=predicted<br>Date=%{x}<br>KG=%{y}<extra></extra>\",\"legendgroup\":\"predicted\",\"line\":{\"color\":\"#EF553B\",\"dash\":\"solid\"},\"marker\":{\"symbol\":\"circle\"},\"mode\":\"lines\",\"name\":\"predicted\",\"orientation\":\"v\",\"showlegend\":true,\"x\":[\"4/2010\",\"5/2010\",\"6/2010\",\"7/2010\",\"8/2010\",\"9/2010\",\"10/2010\",\"11/2010\",\"12/2010\",\"1/2011\",\"2/2011\",\"3/2011\",\"4/2011\",\"5/2011\",\"6/2011\",\"7/2011\",\"8/2011\",\"9/2011\",\"10/2011\",\"11/2011\",\"12/2011\",\"1/2012\",\"2/2012\",\"3/2012\",\"4/2012\",\"5/2012\",\"6/2012\",\"7/2012\",\"8/2012\",\"9/2012\",\"10/2012\",\"11/2012\",\"12/2012\",\"1/2013\",\"2/2013\",\"3/2013\",\"4/2013\",\"5/2013\",\"6/2013\",\"7/2013\",\"8/2013\",\"9/2013\",\"10/2013\",\"11/2013\",\"12/2013\",\"1/2014\",\"2/2014\",\"3/2014\",\"4/2014\",\"5/2014\",\"6/2014\",\"7/2014\",\"8/2014\",\"9/2014\",\"10/2014\",\"11/2014\",\"12/2014\",\"1/2015\",\"2/2015\",\"3/2015\",\"4/2015\",\"5/2015\",\"6/2015\",\"7/2015\",\"8/2015\",\"9/2015\",\"10/2015\",\"11/2015\",\"12/2015\",\"1/2016\",\"2/2016\",\"3/2016\",\"4/2016\",\"5/2016\",\"6/2016\",\"7/2016\",\"8/2016\",\"9/2016\",\"10/2016\",\"11/2016\",\"12/2016\",\"1/2017\",\"2/2017\",\"3/2017\",\"4/2017\",\"5/2017\",\"6/2017\",\"7/2017\",\"8/2017\",\"9/2017\",\"10/2017\",\"11/2017\",\"12/2017\",\"1/2018\",\"2/2018\",\"3/2018\",\"4/2018\",\"5/2018\",\"6/2018\",\"7/2018\",\"8/2018\",\"9/2018\",\"10/2018\",\"11/2018\",\"12/2018\",\"1/2019\",\"2/2019\",\"3/2019\",\"4/2019\",\"5/2019\",\"6/2019\",\"7/2019\",\"8/2019\",\"9/2019\",\"10/2019\",\"11/2019\",\"12/2019\",\"1/2020\",\"2/2020\",\"3/2020\",\"4/2020\",\"5/2020\",\"6/2020\",\"7/2020\",\"8/2020\",\"9/2020\",\"10/2020\",\"11/2020\",\"12/2020\"],\"xaxis\":\"x\",\"y\":[709.3225708007812,672.6318359375,783.5535888671875,1323.391845703125,859.0945434570312,731.0103149414062,922.9567260742188,1544.956787109375,814.4044799804688,709.6790161132812,948.3262329101562,1639.811767578125,913.0671997070312,996.9041137695312,1119.9146728515625,1876.5848388671875,1352.974365234375,1097.39453125,1137.2864990234375,2130.19873046875,1317.9375,1181.119384765625,1480.40283203125,2293.1767578125,1570.6634521484375,1148.1405029296875,1437.8768310546875,2643.90380859375,1667.118896484375,1393.89208984375,1559.1453857421875,2933.49072265625,1846.8076171875,1582.84814453125,1897.9580078125,3062.505126953125,1910.309326171875,1853.4664306640625,1901.6895751953125,3124.00341796875,1868.149658203125,1682.625,2355.072509765625,3111.977294921875,2024.50830078125,2038.145263671875,2469.082275390625,3702.651611328125,2640.359375,2019.421875,2620.644775390625,3907.468994140625,2343.952392578125,2057.206298828125,2455.277587890625,3644.121826171875,2764.0029296875,2099.521728515625,2587.009033203125,4105.58544921875,2843.351806640625,2411.515380859375,2821.75537109375,4399.12548828125,3033.695556640625,2366.7607421875,3081.805908203125,4842.3935546875,3619.414306640625,2376.39794921875,2953.365478515625,4610.87451171875,3052.89990234375,2941.840576171875,3304.607177734375,4722.9140625,2868.962158203125,2518.797119140625,3137.244873046875,5291.81494140625,3188.6376953125,2427.821533203125,3048.190185546875,5213.13330078125,3251.46630859375,2707.03369140625,3769.619384765625,5534.71630859375,3710.63427734375,3171.197998046875,3894.270263671875,6176.92626953125,3868.617919921875,3385.662353515625,4033.092041015625,6155.1005859375,3518.12353515625,3039.213134765625,3803.930419921875,6466.33740234375,3826.072509765625,3520.599365234375,3541.563720703125,6219.31005859375,4608.86083984375,3546.6083984375,4092.473876953125,6469.37744140625,4329.27490234375,3779.169921875,4328.48486328125,6767.255859375,4020.984619140625,4056.5458984375,4194.01416015625,6543.32763671875,4579.75341796875,3609.100830078125,4117.26953125,6396.36572265625,5151.75244140625,4378.28369140625,5130.47509765625,8079.15966796875,5063.0361328125,4609.47216796875,4820.52197265625,8212.830078125,2514.72216796875],\"yaxis\":\"y\",\"type\":\"scatter\"}],                        {\"template\":{\"data\":{\"bar\":[{\"error_x\":{\"color\":\"#2a3f5f\"},\"error_y\":{\"color\":\"#2a3f5f\"},\"marker\":{\"line\":{\"color\":\"#E5ECF6\",\"width\":0.5},\"pattern\":{\"fillmode\":\"overlay\",\"size\":10,\"solidity\":0.2}},\"type\":\"bar\"}],\"barpolar\":[{\"marker\":{\"line\":{\"color\":\"#E5ECF6\",\"width\":0.5},\"pattern\":{\"fillmode\":\"overlay\",\"size\":10,\"solidity\":0.2}},\"type\":\"barpolar\"}],\"carpet\":[{\"aaxis\":{\"endlinecolor\":\"#2a3f5f\",\"gridcolor\":\"white\",\"linecolor\":\"white\",\"minorgridcolor\":\"white\",\"startlinecolor\":\"#2a3f5f\"},\"baxis\":{\"endlinecolor\":\"#2a3f5f\",\"gridcolor\":\"white\",\"linecolor\":\"white\",\"minorgridcolor\":\"white\",\"startlinecolor\":\"#2a3f5f\"},\"type\":\"carpet\"}],\"choropleth\":[{\"colorbar\":{\"outlinewidth\":0,\"ticks\":\"\"},\"type\":\"choropleth\"}],\"contour\":[{\"colorbar\":{\"outlinewidth\":0,\"ticks\":\"\"},\"colorscale\":[[0.0,\"#0d0887\"],[0.1111111111111111,\"#46039f\"],[0.2222222222222222,\"#7201a8\"],[0.3333333333333333,\"#9c179e\"],[0.4444444444444444,\"#bd3786\"],[0.5555555555555556,\"#d8576b\"],[0.6666666666666666,\"#ed7953\"],[0.7777777777777778,\"#fb9f3a\"],[0.8888888888888888,\"#fdca26\"],[1.0,\"#f0f921\"]],\"type\":\"contour\"}],\"contourcarpet\":[{\"colorbar\":{\"outlinewidth\":0,\"ticks\":\"\"},\"type\":\"contourcarpet\"}],\"heatmap\":[{\"colorbar\":{\"outlinewidth\":0,\"ticks\":\"\"},\"colorscale\":[[0.0,\"#0d0887\"],[0.1111111111111111,\"#46039f\"],[0.2222222222222222,\"#7201a8\"],[0.3333333333333333,\"#9c179e\"],[0.4444444444444444,\"#bd3786\"],[0.5555555555555556,\"#d8576b\"],[0.6666666666666666,\"#ed7953\"],[0.7777777777777778,\"#fb9f3a\"],[0.8888888888888888,\"#fdca26\"],[1.0,\"#f0f921\"]],\"type\":\"heatmap\"}],\"heatmapgl\":[{\"colorbar\":{\"outlinewidth\":0,\"ticks\":\"\"},\"colorscale\":[[0.0,\"#0d0887\"],[0.1111111111111111,\"#46039f\"],[0.2222222222222222,\"#7201a8\"],[0.3333333333333333,\"#9c179e\"],[0.4444444444444444,\"#bd3786\"],[0.5555555555555556,\"#d8576b\"],[0.6666666666666666,\"#ed7953\"],[0.7777777777777778,\"#fb9f3a\"],[0.8888888888888888,\"#fdca26\"],[1.0,\"#f0f921\"]],\"type\":\"heatmapgl\"}],\"histogram\":[{\"marker\":{\"pattern\":{\"fillmode\":\"overlay\",\"size\":10,\"solidity\":0.2}},\"type\":\"histogram\"}],\"histogram2d\":[{\"colorbar\":{\"outlinewidth\":0,\"ticks\":\"\"},\"colorscale\":[[0.0,\"#0d0887\"],[0.1111111111111111,\"#46039f\"],[0.2222222222222222,\"#7201a8\"],[0.3333333333333333,\"#9c179e\"],[0.4444444444444444,\"#bd3786\"],[0.5555555555555556,\"#d8576b\"],[0.6666666666666666,\"#ed7953\"],[0.7777777777777778,\"#fb9f3a\"],[0.8888888888888888,\"#fdca26\"],[1.0,\"#f0f921\"]],\"type\":\"histogram2d\"}],\"histogram2dcontour\":[{\"colorbar\":{\"outlinewidth\":0,\"ticks\":\"\"},\"colorscale\":[[0.0,\"#0d0887\"],[0.1111111111111111,\"#46039f\"],[0.2222222222222222,\"#7201a8\"],[0.3333333333333333,\"#9c179e\"],[0.4444444444444444,\"#bd3786\"],[0.5555555555555556,\"#d8576b\"],[0.6666666666666666,\"#ed7953\"],[0.7777777777777778,\"#fb9f3a\"],[0.8888888888888888,\"#fdca26\"],[1.0,\"#f0f921\"]],\"type\":\"histogram2dcontour\"}],\"mesh3d\":[{\"colorbar\":{\"outlinewidth\":0,\"ticks\":\"\"},\"type\":\"mesh3d\"}],\"parcoords\":[{\"line\":{\"colorbar\":{\"outlinewidth\":0,\"ticks\":\"\"}},\"type\":\"parcoords\"}],\"pie\":[{\"automargin\":true,\"type\":\"pie\"}],\"scatter\":[{\"marker\":{\"colorbar\":{\"outlinewidth\":0,\"ticks\":\"\"}},\"type\":\"scatter\"}],\"scatter3d\":[{\"line\":{\"colorbar\":{\"outlinewidth\":0,\"ticks\":\"\"}},\"marker\":{\"colorbar\":{\"outlinewidth\":0,\"ticks\":\"\"}},\"type\":\"scatter3d\"}],\"scattercarpet\":[{\"marker\":{\"colorbar\":{\"outlinewidth\":0,\"ticks\":\"\"}},\"type\":\"scattercarpet\"}],\"scattergeo\":[{\"marker\":{\"colorbar\":{\"outlinewidth\":0,\"ticks\":\"\"}},\"type\":\"scattergeo\"}],\"scattergl\":[{\"marker\":{\"colorbar\":{\"outlinewidth\":0,\"ticks\":\"\"}},\"type\":\"scattergl\"}],\"scattermapbox\":[{\"marker\":{\"colorbar\":{\"outlinewidth\":0,\"ticks\":\"\"}},\"type\":\"scattermapbox\"}],\"scatterpolar\":[{\"marker\":{\"colorbar\":{\"outlinewidth\":0,\"ticks\":\"\"}},\"type\":\"scatterpolar\"}],\"scatterpolargl\":[{\"marker\":{\"colorbar\":{\"outlinewidth\":0,\"ticks\":\"\"}},\"type\":\"scatterpolargl\"}],\"scatterternary\":[{\"marker\":{\"colorbar\":{\"outlinewidth\":0,\"ticks\":\"\"}},\"type\":\"scatterternary\"}],\"surface\":[{\"colorbar\":{\"outlinewidth\":0,\"ticks\":\"\"},\"colorscale\":[[0.0,\"#0d0887\"],[0.1111111111111111,\"#46039f\"],[0.2222222222222222,\"#7201a8\"],[0.3333333333333333,\"#9c179e\"],[0.4444444444444444,\"#bd3786\"],[0.5555555555555556,\"#d8576b\"],[0.6666666666666666,\"#ed7953\"],[0.7777777777777778,\"#fb9f3a\"],[0.8888888888888888,\"#fdca26\"],[1.0,\"#f0f921\"]],\"type\":\"surface\"}],\"table\":[{\"cells\":{\"fill\":{\"color\":\"#EBF0F8\"},\"line\":{\"color\":\"white\"}},\"header\":{\"fill\":{\"color\":\"#C8D4E3\"},\"line\":{\"color\":\"white\"}},\"type\":\"table\"}]},\"layout\":{\"annotationdefaults\":{\"arrowcolor\":\"#2a3f5f\",\"arrowhead\":0,\"arrowwidth\":1},\"autotypenumbers\":\"strict\",\"coloraxis\":{\"colorbar\":{\"outlinewidth\":0,\"ticks\":\"\"}},\"colorscale\":{\"diverging\":[[0,\"#8e0152\"],[0.1,\"#c51b7d\"],[0.2,\"#de77ae\"],[0.3,\"#f1b6da\"],[0.4,\"#fde0ef\"],[0.5,\"#f7f7f7\"],[0.6,\"#e6f5d0\"],[0.7,\"#b8e186\"],[0.8,\"#7fbc41\"],[0.9,\"#4d9221\"],[1,\"#276419\"]],\"sequential\":[[0.0,\"#0d0887\"],[0.1111111111111111,\"#46039f\"],[0.2222222222222222,\"#7201a8\"],[0.3333333333333333,\"#9c179e\"],[0.4444444444444444,\"#bd3786\"],[0.5555555555555556,\"#d8576b\"],[0.6666666666666666,\"#ed7953\"],[0.7777777777777778,\"#fb9f3a\"],[0.8888888888888888,\"#fdca26\"],[1.0,\"#f0f921\"]],\"sequentialminus\":[[0.0,\"#0d0887\"],[0.1111111111111111,\"#46039f\"],[0.2222222222222222,\"#7201a8\"],[0.3333333333333333,\"#9c179e\"],[0.4444444444444444,\"#bd3786\"],[0.5555555555555556,\"#d8576b\"],[0.6666666666666666,\"#ed7953\"],[0.7777777777777778,\"#fb9f3a\"],[0.8888888888888888,\"#fdca26\"],[1.0,\"#f0f921\"]]},\"colorway\":[\"#636efa\",\"#EF553B\",\"#00cc96\",\"#ab63fa\",\"#FFA15A\",\"#19d3f3\",\"#FF6692\",\"#B6E880\",\"#FF97FF\",\"#FECB52\"],\"font\":{\"color\":\"#2a3f5f\"},\"geo\":{\"bgcolor\":\"white\",\"lakecolor\":\"white\",\"landcolor\":\"#E5ECF6\",\"showlakes\":true,\"showland\":true,\"subunitcolor\":\"white\"},\"hoverlabel\":{\"align\":\"left\"},\"hovermode\":\"closest\",\"mapbox\":{\"style\":\"light\"},\"paper_bgcolor\":\"white\",\"plot_bgcolor\":\"#E5ECF6\",\"polar\":{\"angularaxis\":{\"gridcolor\":\"white\",\"linecolor\":\"white\",\"ticks\":\"\"},\"bgcolor\":\"#E5ECF6\",\"radialaxis\":{\"gridcolor\":\"white\",\"linecolor\":\"white\",\"ticks\":\"\"}},\"scene\":{\"xaxis\":{\"backgroundcolor\":\"#E5ECF6\",\"gridcolor\":\"white\",\"gridwidth\":2,\"linecolor\":\"white\",\"showbackground\":true,\"ticks\":\"\",\"zerolinecolor\":\"white\"},\"yaxis\":{\"backgroundcolor\":\"#E5ECF6\",\"gridcolor\":\"white\",\"gridwidth\":2,\"linecolor\":\"white\",\"showbackground\":true,\"ticks\":\"\",\"zerolinecolor\":\"white\"},\"zaxis\":{\"backgroundcolor\":\"#E5ECF6\",\"gridcolor\":\"white\",\"gridwidth\":2,\"linecolor\":\"white\",\"showbackground\":true,\"ticks\":\"\",\"zerolinecolor\":\"white\"}},\"shapedefaults\":{\"line\":{\"color\":\"#2a3f5f\"}},\"ternary\":{\"aaxis\":{\"gridcolor\":\"white\",\"linecolor\":\"white\",\"ticks\":\"\"},\"baxis\":{\"gridcolor\":\"white\",\"linecolor\":\"white\",\"ticks\":\"\"},\"bgcolor\":\"#E5ECF6\",\"caxis\":{\"gridcolor\":\"white\",\"linecolor\":\"white\",\"ticks\":\"\"}},\"title\":{\"x\":0.05},\"xaxis\":{\"automargin\":true,\"gridcolor\":\"white\",\"linecolor\":\"white\",\"ticks\":\"\",\"title\":{\"standoff\":15},\"zerolinecolor\":\"white\",\"zerolinewidth\":2},\"yaxis\":{\"automargin\":true,\"gridcolor\":\"white\",\"linecolor\":\"white\",\"ticks\":\"\",\"title\":{\"standoff\":15},\"zerolinecolor\":\"white\",\"zerolinewidth\":2}}},\"xaxis\":{\"anchor\":\"y\",\"domain\":[0.0,1.0],\"title\":{\"text\":\"Date\"}},\"yaxis\":{\"anchor\":\"x\",\"domain\":[0.0,1.0],\"title\":{\"text\":\"KG\"}},\"legend\":{\"title\":{\"text\":\"Source\"},\"tracegroupgap\":0},\"margin\":{\"t\":60}},                        {\"responsive\": true}                    ).then(function(){\n                            \nvar gd = document.getElementById('e9b61f45-cb80-4855-b7cc-8d1b1a2e16fa');\nvar x = new MutationObserver(function (mutations, observer) {{\n        var display = window.getComputedStyle(gd).display;\n        if (!display || display === 'none') {{\n            console.log([gd, 'removed!']);\n            Plotly.purge(gd);\n            observer.disconnect();\n        }}\n}});\n\n// Listen for the removal of the full notebook cells\nvar notebookContainer = gd.closest('#notebook-container');\nif (notebookContainer) {{\n    x.observe(notebookContainer, {childList: true});\n}}\n\n// Listen for the clearing of the current output cell\nvar outputEl = gd.closest('.output');\nif (outputEl) {{\n    x.observe(outputEl, {childList: true});\n}}\n\n                        })                };                            </script>        </div>\n</body>\n</html>"
        },
        "metadata": {},
        "output_type": "display_data"
       }
      ]
     }
    },
    "80fa1dbdda7f44b2bf4e19578675fedd": {
     "model_module": "@jupyter-widgets/controls",
     "model_module_version": "1.5.0",
     "model_name": "VBoxModel",
     "state": {
      "_dom_classes": [
       "widget-interact"
      ],
      "_model_module": "@jupyter-widgets/controls",
      "_model_module_version": "1.5.0",
      "_model_name": "VBoxModel",
      "_view_count": null,
      "_view_module": "@jupyter-widgets/controls",
      "_view_module_version": "1.5.0",
      "_view_name": "VBoxView",
      "box_style": "",
      "children": [
       "IPY_MODEL_b2b9e12e7cce494aa72625d4df1f4c39",
       "IPY_MODEL_0cbfd92ed9ca4062990a905264e15cd8",
       "IPY_MODEL_7d86c42c92074521a73bb1da782318ed"
      ],
      "layout": "IPY_MODEL_ef676b52851b46f1b64c1f5cab3fbd8d"
     }
    },
    "8189b035d2e743938518105ef2ed3f5e": {
     "model_module": "@jupyter-widgets/base",
     "model_module_version": "1.2.0",
     "model_name": "LayoutModel",
     "state": {
      "_model_module": "@jupyter-widgets/base",
      "_model_module_version": "1.2.0",
      "_model_name": "LayoutModel",
      "_view_count": null,
      "_view_module": "@jupyter-widgets/base",
      "_view_module_version": "1.2.0",
      "_view_name": "LayoutView",
      "align_content": null,
      "align_items": null,
      "align_self": null,
      "border": null,
      "bottom": null,
      "display": null,
      "flex": null,
      "flex_flow": null,
      "grid_area": null,
      "grid_auto_columns": null,
      "grid_auto_flow": null,
      "grid_auto_rows": null,
      "grid_column": null,
      "grid_gap": null,
      "grid_row": null,
      "grid_template_areas": null,
      "grid_template_columns": null,
      "grid_template_rows": null,
      "height": null,
      "justify_content": null,
      "justify_items": null,
      "left": null,
      "margin": null,
      "max_height": null,
      "max_width": null,
      "min_height": null,
      "min_width": null,
      "object_fit": null,
      "object_position": null,
      "order": null,
      "overflow": null,
      "overflow_x": null,
      "overflow_y": null,
      "padding": null,
      "right": null,
      "top": null,
      "visibility": null,
      "width": null
     }
    },
    "8e965f37b8b9408e946844ba111a9635": {
     "model_module": "@jupyter-widgets/base",
     "model_module_version": "1.2.0",
     "model_name": "LayoutModel",
     "state": {
      "_model_module": "@jupyter-widgets/base",
      "_model_module_version": "1.2.0",
      "_model_name": "LayoutModel",
      "_view_count": null,
      "_view_module": "@jupyter-widgets/base",
      "_view_module_version": "1.2.0",
      "_view_name": "LayoutView",
      "align_content": null,
      "align_items": null,
      "align_self": null,
      "border": null,
      "bottom": null,
      "display": null,
      "flex": null,
      "flex_flow": null,
      "grid_area": null,
      "grid_auto_columns": null,
      "grid_auto_flow": null,
      "grid_auto_rows": null,
      "grid_column": null,
      "grid_gap": null,
      "grid_row": null,
      "grid_template_areas": null,
      "grid_template_columns": null,
      "grid_template_rows": null,
      "height": null,
      "justify_content": null,
      "justify_items": null,
      "left": null,
      "margin": null,
      "max_height": null,
      "max_width": null,
      "min_height": null,
      "min_width": null,
      "object_fit": null,
      "object_position": null,
      "order": null,
      "overflow": null,
      "overflow_x": null,
      "overflow_y": null,
      "padding": null,
      "right": null,
      "top": null,
      "visibility": null,
      "width": null
     }
    },
    "ab57c41c1b5e43a7960dc48dd7d0a418": {
     "model_module": "@jupyter-widgets/controls",
     "model_module_version": "1.5.0",
     "model_name": "DropdownModel",
     "state": {
      "_dom_classes": [],
      "_model_module": "@jupyter-widgets/controls",
      "_model_module_version": "1.5.0",
      "_model_name": "DropdownModel",
      "_options_labels": [
       "base_cake",
       "truffle_type",
       "primary_flavor",
       "secondary_flavor",
       "color_group",
       "customer"
      ],
      "_view_count": null,
      "_view_module": "@jupyter-widgets/controls",
      "_view_module_version": "1.5.0",
      "_view_name": "DropdownView",
      "description": "color",
      "description_tooltip": null,
      "disabled": false,
      "index": 1,
      "layout": "IPY_MODEL_3386e31f0e4e4e5f967ad8d5209d1831",
      "style": "IPY_MODEL_12dcbee0ccd44ecb8e8ab35073b94bb2"
     }
    },
    "b2b9e12e7cce494aa72625d4df1f4c39": {
     "model_module": "@jupyter-widgets/controls",
     "model_module_version": "1.5.0",
     "model_name": "DropdownModel",
     "state": {
      "_dom_classes": [],
      "_model_module": "@jupyter-widgets/controls",
      "_model_module_version": "1.5.0",
      "_model_name": "DropdownModel",
      "_options_labels": [
       "0",
       "1",
       "2",
       "3",
       "4",
       "5",
       "6",
       "7",
       "8",
       "9",
       "10",
       "11",
       "12",
       "13",
       "14",
       "15",
       "16",
       "17",
       "18",
       "19",
       "20",
       "21",
       "22",
       "23",
       "24",
       "25",
       "26",
       "27",
       "28",
       "29",
       "30",
       "31",
       "32",
       "33",
       "34",
       "35",
       "36",
       "37",
       "38",
       "39",
       "40",
       "41",
       "42",
       "43",
       "44",
       "45",
       "46",
       "47",
       "48",
       "49",
       "50",
       "51",
       "52",
       "53",
       "54",
       "55",
       "56",
       "57",
       "58",
       "59",
       "60",
       "61",
       "62",
       "63",
       "64",
       "65",
       "66",
       "67",
       "68",
       "69",
       "70",
       "71",
       "72",
       "73",
       "74",
       "75",
       "76",
       "77",
       "78",
       "79",
       "80",
       "81",
       "82",
       "83",
       "84",
       "85",
       "86",
       "87",
       "88",
       "89",
       "90",
       "91",
       "92",
       "93",
       "94",
       "95",
       "96",
       "97",
       "98",
       "99"
      ],
      "_view_count": null,
      "_view_module": "@jupyter-widgets/controls",
      "_view_module_version": "1.5.0",
      "_view_name": "DropdownView",
      "description": "dataset",
      "description_tooltip": null,
      "disabled": false,
      "index": 10,
      "layout": "IPY_MODEL_cd755d8e299246859de92634b7de099a",
      "style": "IPY_MODEL_63277fc345624b8b91e4e1e1371ca3f9"
     }
    },
    "c4e7473f459a451099549084d2aefcbc": {
     "model_module": "@jupyter-widgets/output",
     "model_module_version": "1.0.0",
     "model_name": "OutputModel",
     "state": {
      "_dom_classes": [],
      "_model_module": "@jupyter-widgets/output",
      "_model_module_version": "1.0.0",
      "_model_name": "OutputModel",
      "_view_count": null,
      "_view_module": "@jupyter-widgets/output",
      "_view_module_version": "1.0.0",
      "_view_name": "OutputView",
      "layout": "IPY_MODEL_8189b035d2e743938518105ef2ed3f5e",
      "msg_id": "",
      "outputs": [
       {
        "data": {
         "text/html": "<html>\n<head><meta charset=\"utf-8\" /></head>\n<body>\n    <div>            <script src=\"https://cdnjs.cloudflare.com/ajax/libs/mathjax/2.7.5/MathJax.js?config=TeX-AMS-MML_SVG\"></script><script type=\"text/javascript\">if (window.MathJax) {MathJax.Hub.Config({SVG: {font: \"STIX-Web\"}});}</script>                <script type=\"text/javascript\">window.PlotlyConfig = {MathJaxConfig: 'local'};</script>\n        <script src=\"https://cdn.plot.ly/plotly-2.8.3.min.js\"></script>                <div id=\"73a5c92e-0c1a-4c3c-8ea4-60aa35c55eac\" class=\"plotly-graph-div\" style=\"height:525px; width:100%;\"></div>            <script type=\"text/javascript\">                                    window.PLOTLYENV=window.PLOTLYENV || {};                                    if (document.getElementById(\"73a5c92e-0c1a-4c3c-8ea4-60aa35c55eac\")) {                    Plotly.newPlot(                        \"73a5c92e-0c1a-4c3c-8ea4-60aa35c55eac\",                        [{\"hovertemplate\":\"truffle_type=Candy Outer<br>month=%{x}<br>kg=%{y}<extra></extra>\",\"legendgroup\":\"Candy Outer\",\"line\":{\"color\":\"#636efa\",\"dash\":\"solid\"},\"marker\":{\"symbol\":\"circle\"},\"mode\":\"lines\",\"name\":\"Candy Outer\",\"showlegend\":true,\"x\":[\"1/2010\",\"1/2010\",\"1/2010\",\"1/2010\",\"1/2010\",\"1/2010\",\"1/2010\",\"1/2010\",\"1/2010\",\"1/2010\",\"1/2010\",\"1/2010\",\"1/2010\",\"1/2010\",\"1/2010\",\"1/2010\",\"1/2010\",\"1/2010\",\"1/2010\",\"1/2010\",\"1/2010\",\"1/2010\",\"1/2010\",\"1/2010\",\"1/2010\",\"1/2010\",\"2/2010\",\"2/2010\",\"2/2010\",\"2/2010\",\"2/2010\",\"2/2010\",\"2/2010\",\"2/2010\",\"2/2010\",\"2/2010\",\"2/2010\",\"2/2010\",\"2/2010\",\"2/2010\",\"2/2010\",\"2/2010\",\"2/2010\",\"2/2010\",\"2/2010\",\"2/2010\",\"2/2010\",\"2/2010\",\"2/2010\",\"2/2010\",\"2/2010\",\"2/2010\",\"3/2010\",\"3/2010\",\"3/2010\",\"3/2010\",\"3/2010\",\"3/2010\",\"3/2010\",\"3/2010\",\"3/2010\",\"3/2010\",\"3/2010\",\"3/2010\",\"3/2010\",\"3/2010\",\"3/2010\",\"3/2010\",\"3/2010\",\"3/2010\",\"3/2010\",\"3/2010\",\"3/2010\",\"3/2010\",\"3/2010\",\"3/2010\",\"3/2010\",\"3/2010\",\"4/2010\",\"4/2010\",\"4/2010\",\"4/2010\",\"4/2010\",\"4/2010\",\"4/2010\",\"4/2010\",\"4/2010\",\"4/2010\",\"4/2010\",\"4/2010\",\"4/2010\",\"4/2010\",\"4/2010\",\"4/2010\",\"4/2010\",\"4/2010\",\"4/2010\",\"4/2010\",\"4/2010\",\"4/2010\",\"4/2010\",\"4/2010\",\"4/2010\",\"4/2010\",\"5/2010\",\"5/2010\",\"5/2010\",\"5/2010\",\"5/2010\",\"5/2010\",\"5/2010\",\"5/2010\",\"5/2010\",\"5/2010\",\"5/2010\",\"5/2010\",\"5/2010\",\"5/2010\",\"5/2010\",\"5/2010\",\"5/2010\",\"5/2010\",\"5/2010\",\"5/2010\",\"5/2010\",\"5/2010\",\"5/2010\",\"5/2010\",\"5/2010\",\"5/2010\",\"6/2010\",\"6/2010\",\"6/2010\",\"6/2010\",\"6/2010\",\"6/2010\",\"6/2010\",\"6/2010\",\"6/2010\",\"6/2010\",\"6/2010\",\"6/2010\",\"6/2010\",\"6/2010\",\"6/2010\",\"6/2010\",\"6/2010\",\"6/2010\",\"6/2010\",\"6/2010\",\"6/2010\",\"6/2010\",\"6/2010\",\"6/2010\",\"6/2010\",\"6/2010\",\"7/2010\",\"7/2010\",\"7/2010\",\"7/2010\",\"7/2010\",\"7/2010\",\"7/2010\",\"7/2010\",\"7/2010\",\"7/2010\",\"7/2010\",\"7/2010\",\"7/2010\",\"7/2010\",\"7/2010\",\"7/2010\",\"7/2010\",\"7/2010\",\"7/2010\",\"7/2010\",\"7/2010\",\"7/2010\",\"7/2010\",\"7/2010\",\"7/2010\",\"7/2010\",\"8/2010\",\"8/2010\",\"8/2010\",\"8/2010\",\"8/2010\",\"8/2010\",\"8/2010\",\"8/2010\",\"8/2010\",\"8/2010\",\"8/2010\",\"8/2010\",\"8/2010\",\"8/2010\",\"8/2010\",\"8/2010\",\"8/2010\",\"8/2010\",\"8/2010\",\"8/2010\",\"8/2010\",\"8/2010\",\"8/2010\",\"8/2010\",\"8/2010\",\"8/2010\",\"9/2010\",\"9/2010\",\"9/2010\",\"9/2010\",\"9/2010\",\"9/2010\",\"9/2010\",\"9/2010\",\"9/2010\",\"9/2010\",\"9/2010\",\"9/2010\",\"9/2010\",\"9/2010\",\"9/2010\",\"9/2010\",\"9/2010\",\"9/2010\",\"9/2010\",\"9/2010\",\"9/2010\",\"9/2010\",\"9/2010\",\"9/2010\",\"9/2010\",\"9/2010\",\"10/2010\",\"10/2010\",\"10/2010\",\"10/2010\",\"10/2010\",\"10/2010\",\"10/2010\",\"10/2010\",\"10/2010\",\"10/2010\",\"10/2010\",\"10/2010\",\"10/2010\",\"10/2010\",\"10/2010\",\"10/2010\",\"10/2010\",\"10/2010\",\"10/2010\",\"10/2010\",\"10/2010\",\"10/2010\",\"10/2010\",\"10/2010\",\"10/2010\",\"10/2010\",\"11/2010\",\"11/2010\",\"11/2010\",\"11/2010\",\"11/2010\",\"11/2010\",\"11/2010\",\"11/2010\",\"11/2010\",\"11/2010\",\"11/2010\",\"11/2010\",\"11/2010\",\"11/2010\",\"11/2010\",\"11/2010\",\"11/2010\",\"11/2010\",\"11/2010\",\"11/2010\",\"11/2010\",\"11/2010\",\"11/2010\",\"11/2010\",\"11/2010\",\"11/2010\",\"12/2010\",\"12/2010\",\"12/2010\",\"12/2010\",\"12/2010\",\"12/2010\",\"12/2010\",\"12/2010\",\"12/2010\",\"12/2010\",\"12/2010\",\"12/2010\",\"12/2010\",\"12/2010\",\"12/2010\",\"12/2010\",\"12/2010\",\"12/2010\",\"12/2010\",\"12/2010\",\"12/2010\",\"12/2010\",\"12/2010\",\"12/2010\",\"12/2010\",\"12/2010\",\"1/2011\",\"1/2011\",\"1/2011\",\"1/2011\",\"1/2011\",\"1/2011\",\"1/2011\",\"1/2011\",\"1/2011\",\"1/2011\",\"1/2011\",\"1/2011\",\"1/2011\",\"1/2011\",\"1/2011\",\"1/2011\",\"1/2011\",\"1/2011\",\"1/2011\",\"1/2011\",\"1/2011\",\"1/2011\",\"1/2011\",\"1/2011\",\"1/2011\",\"1/2011\",\"2/2011\",\"2/2011\",\"2/2011\",\"2/2011\",\"2/2011\",\"2/2011\",\"2/2011\",\"2/2011\",\"2/2011\",\"2/2011\",\"2/2011\",\"2/2011\",\"2/2011\",\"2/2011\",\"2/2011\",\"2/2011\",\"2/2011\",\"2/2011\",\"2/2011\",\"2/2011\",\"2/2011\",\"2/2011\",\"2/2011\",\"2/2011\",\"2/2011\",\"2/2011\",\"3/2011\",\"3/2011\",\"3/2011\",\"3/2011\",\"3/2011\",\"3/2011\",\"3/2011\",\"3/2011\",\"3/2011\",\"3/2011\",\"3/2011\",\"3/2011\",\"3/2011\",\"3/2011\",\"3/2011\",\"3/2011\",\"3/2011\",\"3/2011\",\"3/2011\",\"3/2011\",\"3/2011\",\"3/2011\",\"3/2011\",\"3/2011\",\"3/2011\",\"3/2011\",\"4/2011\",\"4/2011\",\"4/2011\",\"4/2011\",\"4/2011\",\"4/2011\",\"4/2011\",\"4/2011\",\"4/2011\",\"4/2011\",\"4/2011\",\"4/2011\",\"4/2011\",\"4/2011\",\"4/2011\",\"4/2011\",\"4/2011\",\"4/2011\",\"4/2011\",\"4/2011\",\"4/2011\",\"4/2011\",\"4/2011\",\"4/2011\",\"4/2011\",\"4/2011\",\"5/2011\",\"5/2011\",\"5/2011\",\"5/2011\",\"5/2011\",\"5/2011\",\"5/2011\",\"5/2011\",\"5/2011\",\"5/2011\",\"5/2011\",\"5/2011\",\"5/2011\",\"5/2011\",\"5/2011\",\"5/2011\",\"5/2011\",\"5/2011\",\"5/2011\",\"5/2011\",\"5/2011\",\"5/2011\",\"5/2011\",\"5/2011\",\"5/2011\",\"5/2011\",\"6/2011\",\"6/2011\",\"6/2011\",\"6/2011\",\"6/2011\",\"6/2011\",\"6/2011\",\"6/2011\",\"6/2011\",\"6/2011\",\"6/2011\",\"6/2011\",\"6/2011\",\"6/2011\",\"6/2011\",\"6/2011\",\"6/2011\",\"6/2011\",\"6/2011\",\"6/2011\",\"6/2011\",\"6/2011\",\"6/2011\",\"6/2011\",\"6/2011\",\"6/2011\",\"7/2011\",\"7/2011\",\"7/2011\",\"7/2011\",\"7/2011\",\"7/2011\",\"7/2011\",\"7/2011\",\"7/2011\",\"7/2011\",\"7/2011\",\"7/2011\",\"7/2011\",\"7/2011\",\"7/2011\",\"7/2011\",\"7/2011\",\"7/2011\",\"7/2011\",\"7/2011\",\"7/2011\",\"7/2011\",\"7/2011\",\"7/2011\",\"7/2011\",\"7/2011\",\"8/2011\",\"8/2011\",\"8/2011\",\"8/2011\",\"8/2011\",\"8/2011\",\"8/2011\",\"8/2011\",\"8/2011\",\"8/2011\",\"8/2011\",\"8/2011\",\"8/2011\",\"8/2011\",\"8/2011\",\"8/2011\",\"8/2011\",\"8/2011\",\"8/2011\",\"8/2011\",\"8/2011\",\"8/2011\",\"8/2011\",\"8/2011\",\"8/2011\",\"8/2011\",\"9/2011\",\"9/2011\",\"9/2011\",\"9/2011\",\"9/2011\",\"9/2011\",\"9/2011\",\"9/2011\",\"9/2011\",\"9/2011\",\"9/2011\",\"9/2011\",\"9/2011\",\"9/2011\",\"9/2011\",\"9/2011\",\"9/2011\",\"9/2011\",\"9/2011\",\"9/2011\",\"9/2011\",\"9/2011\",\"9/2011\",\"9/2011\",\"9/2011\",\"9/2011\",\"10/2011\",\"10/2011\",\"10/2011\",\"10/2011\",\"10/2011\",\"10/2011\",\"10/2011\",\"10/2011\",\"10/2011\",\"10/2011\",\"10/2011\",\"10/2011\",\"10/2011\",\"10/2011\",\"10/2011\",\"10/2011\",\"10/2011\",\"10/2011\",\"10/2011\",\"10/2011\",\"10/2011\",\"10/2011\",\"10/2011\",\"10/2011\",\"10/2011\",\"10/2011\",\"11/2011\",\"11/2011\",\"11/2011\",\"11/2011\",\"11/2011\",\"11/2011\",\"11/2011\",\"11/2011\",\"11/2011\",\"11/2011\",\"11/2011\",\"11/2011\",\"11/2011\",\"11/2011\",\"11/2011\",\"11/2011\",\"11/2011\",\"11/2011\",\"11/2011\",\"11/2011\",\"11/2011\",\"11/2011\",\"11/2011\",\"11/2011\",\"11/2011\",\"11/2011\",\"12/2011\",\"12/2011\",\"12/2011\",\"12/2011\",\"12/2011\",\"12/2011\",\"12/2011\",\"12/2011\",\"12/2011\",\"12/2011\",\"12/2011\",\"12/2011\",\"12/2011\",\"12/2011\",\"12/2011\",\"12/2011\",\"12/2011\",\"12/2011\",\"12/2011\",\"12/2011\",\"12/2011\",\"12/2011\",\"12/2011\",\"12/2011\",\"12/2011\",\"12/2011\",\"1/2012\",\"1/2012\",\"1/2012\",\"1/2012\",\"1/2012\",\"1/2012\",\"1/2012\",\"1/2012\",\"1/2012\",\"1/2012\",\"1/2012\",\"1/2012\",\"1/2012\",\"1/2012\",\"1/2012\",\"1/2012\",\"1/2012\",\"1/2012\",\"1/2012\",\"1/2012\",\"1/2012\",\"1/2012\",\"1/2012\",\"1/2012\",\"1/2012\",\"1/2012\",\"2/2012\",\"2/2012\",\"2/2012\",\"2/2012\",\"2/2012\",\"2/2012\",\"2/2012\",\"2/2012\",\"2/2012\",\"2/2012\",\"2/2012\",\"2/2012\",\"2/2012\",\"2/2012\",\"2/2012\",\"2/2012\",\"2/2012\",\"2/2012\",\"2/2012\",\"2/2012\",\"2/2012\",\"2/2012\",\"2/2012\",\"2/2012\",\"2/2012\",\"2/2012\",\"3/2012\",\"3/2012\",\"3/2012\",\"3/2012\",\"3/2012\",\"3/2012\",\"3/2012\",\"3/2012\",\"3/2012\",\"3/2012\",\"3/2012\",\"3/2012\",\"3/2012\",\"3/2012\",\"3/2012\",\"3/2012\",\"3/2012\",\"3/2012\",\"3/2012\",\"3/2012\",\"3/2012\",\"3/2012\",\"3/2012\",\"3/2012\",\"3/2012\",\"3/2012\",\"4/2012\",\"4/2012\",\"4/2012\",\"4/2012\",\"4/2012\",\"4/2012\",\"4/2012\",\"4/2012\",\"4/2012\",\"4/2012\",\"4/2012\",\"4/2012\",\"4/2012\",\"4/2012\",\"4/2012\",\"4/2012\",\"4/2012\",\"4/2012\",\"4/2012\",\"4/2012\",\"4/2012\",\"4/2012\",\"4/2012\",\"4/2012\",\"4/2012\",\"4/2012\",\"5/2012\",\"5/2012\",\"5/2012\",\"5/2012\",\"5/2012\",\"5/2012\",\"5/2012\",\"5/2012\",\"5/2012\",\"5/2012\",\"5/2012\",\"5/2012\",\"5/2012\",\"5/2012\",\"5/2012\",\"5/2012\",\"5/2012\",\"5/2012\",\"5/2012\",\"5/2012\",\"5/2012\",\"5/2012\",\"5/2012\",\"5/2012\",\"5/2012\",\"5/2012\",\"6/2012\",\"6/2012\",\"6/2012\",\"6/2012\",\"6/2012\",\"6/2012\",\"6/2012\",\"6/2012\",\"6/2012\",\"6/2012\",\"6/2012\",\"6/2012\",\"6/2012\",\"6/2012\",\"6/2012\",\"6/2012\",\"6/2012\",\"6/2012\",\"6/2012\",\"6/2012\",\"6/2012\",\"6/2012\",\"6/2012\",\"6/2012\",\"6/2012\",\"6/2012\",\"7/2012\",\"7/2012\",\"7/2012\",\"7/2012\",\"7/2012\",\"7/2012\",\"7/2012\",\"7/2012\",\"7/2012\",\"7/2012\",\"7/2012\",\"7/2012\",\"7/2012\",\"7/2012\",\"7/2012\",\"7/2012\",\"7/2012\",\"7/2012\",\"7/2012\",\"7/2012\",\"7/2012\",\"7/2012\",\"7/2012\",\"7/2012\",\"7/2012\",\"7/2012\",\"8/2012\",\"8/2012\",\"8/2012\",\"8/2012\",\"8/2012\",\"8/2012\",\"8/2012\",\"8/2012\",\"8/2012\",\"8/2012\",\"8/2012\",\"8/2012\",\"8/2012\",\"8/2012\",\"8/2012\",\"8/2012\",\"8/2012\",\"8/2012\",\"8/2012\",\"8/2012\",\"8/2012\",\"8/2012\",\"8/2012\",\"8/2012\",\"8/2012\",\"8/2012\",\"9/2012\",\"9/2012\",\"9/2012\",\"9/2012\",\"9/2012\",\"9/2012\",\"9/2012\",\"9/2012\",\"9/2012\",\"9/2012\",\"9/2012\",\"9/2012\",\"9/2012\",\"9/2012\",\"9/2012\",\"9/2012\",\"9/2012\",\"9/2012\",\"9/2012\",\"9/2012\",\"9/2012\",\"9/2012\",\"9/2012\",\"9/2012\",\"9/2012\",\"9/2012\",\"10/2012\",\"10/2012\",\"10/2012\",\"10/2012\",\"10/2012\",\"10/2012\",\"10/2012\",\"10/2012\",\"10/2012\",\"10/2012\",\"10/2012\",\"10/2012\",\"10/2012\",\"10/2012\",\"10/2012\",\"10/2012\",\"10/2012\",\"10/2012\",\"10/2012\",\"10/2012\",\"10/2012\",\"10/2012\",\"10/2012\",\"10/2012\",\"10/2012\",\"10/2012\",\"11/2012\",\"11/2012\",\"11/2012\",\"11/2012\",\"11/2012\",\"11/2012\",\"11/2012\",\"11/2012\",\"11/2012\",\"11/2012\",\"11/2012\",\"11/2012\",\"11/2012\",\"11/2012\",\"11/2012\",\"11/2012\",\"11/2012\",\"11/2012\",\"11/2012\",\"11/2012\",\"11/2012\",\"11/2012\",\"11/2012\",\"11/2012\",\"11/2012\",\"11/2012\",\"12/2012\",\"12/2012\",\"12/2012\",\"12/2012\",\"12/2012\",\"12/2012\",\"12/2012\",\"12/2012\",\"12/2012\",\"12/2012\",\"12/2012\",\"12/2012\",\"12/2012\",\"12/2012\",\"12/2012\",\"12/2012\",\"12/2012\",\"12/2012\",\"12/2012\",\"12/2012\",\"12/2012\",\"12/2012\",\"12/2012\",\"12/2012\",\"12/2012\",\"12/2012\",\"1/2013\",\"1/2013\",\"1/2013\",\"1/2013\",\"1/2013\",\"1/2013\",\"1/2013\",\"1/2013\",\"1/2013\",\"1/2013\",\"1/2013\",\"1/2013\",\"1/2013\",\"1/2013\",\"1/2013\",\"1/2013\",\"1/2013\",\"1/2013\",\"1/2013\",\"1/2013\",\"1/2013\",\"1/2013\",\"1/2013\",\"1/2013\",\"1/2013\",\"1/2013\",\"2/2013\",\"2/2013\",\"2/2013\",\"2/2013\",\"2/2013\",\"2/2013\",\"2/2013\",\"2/2013\",\"2/2013\",\"2/2013\",\"2/2013\",\"2/2013\",\"2/2013\",\"2/2013\",\"2/2013\",\"2/2013\",\"2/2013\",\"2/2013\",\"2/2013\",\"2/2013\",\"2/2013\",\"2/2013\",\"2/2013\",\"2/2013\",\"2/2013\",\"2/2013\",\"3/2013\",\"3/2013\",\"3/2013\",\"3/2013\",\"3/2013\",\"3/2013\",\"3/2013\",\"3/2013\",\"3/2013\",\"3/2013\",\"3/2013\",\"3/2013\",\"3/2013\",\"3/2013\",\"3/2013\",\"3/2013\",\"3/2013\",\"3/2013\",\"3/2013\",\"3/2013\",\"3/2013\",\"3/2013\",\"3/2013\",\"3/2013\",\"3/2013\",\"3/2013\",\"4/2013\",\"4/2013\",\"4/2013\",\"4/2013\",\"4/2013\",\"4/2013\",\"4/2013\",\"4/2013\",\"4/2013\",\"4/2013\",\"4/2013\",\"4/2013\",\"4/2013\",\"4/2013\",\"4/2013\",\"4/2013\",\"4/2013\",\"4/2013\",\"4/2013\",\"4/2013\",\"4/2013\",\"4/2013\",\"4/2013\",\"4/2013\",\"4/2013\",\"4/2013\",\"5/2013\",\"5/2013\",\"5/2013\",\"5/2013\",\"5/2013\",\"5/2013\",\"5/2013\",\"5/2013\",\"5/2013\",\"5/2013\",\"5/2013\",\"5/2013\",\"5/2013\",\"5/2013\",\"5/2013\",\"5/2013\",\"5/2013\",\"5/2013\",\"5/2013\",\"5/2013\",\"5/2013\",\"5/2013\",\"5/2013\",\"5/2013\",\"5/2013\",\"5/2013\",\"6/2013\",\"6/2013\",\"6/2013\",\"6/2013\",\"6/2013\",\"6/2013\",\"6/2013\",\"6/2013\",\"6/2013\",\"6/2013\",\"6/2013\",\"6/2013\",\"6/2013\",\"6/2013\",\"6/2013\",\"6/2013\",\"6/2013\",\"6/2013\",\"6/2013\",\"6/2013\",\"6/2013\",\"6/2013\",\"6/2013\",\"6/2013\",\"6/2013\",\"6/2013\",\"7/2013\",\"7/2013\",\"7/2013\",\"7/2013\",\"7/2013\",\"7/2013\",\"7/2013\",\"7/2013\",\"7/2013\",\"7/2013\",\"7/2013\",\"7/2013\",\"7/2013\",\"7/2013\",\"7/2013\",\"7/2013\",\"7/2013\",\"7/2013\",\"7/2013\",\"7/2013\",\"7/2013\",\"7/2013\",\"7/2013\",\"7/2013\",\"7/2013\",\"7/2013\",\"8/2013\",\"8/2013\",\"8/2013\",\"8/2013\",\"8/2013\",\"8/2013\",\"8/2013\",\"8/2013\",\"8/2013\",\"8/2013\",\"8/2013\",\"8/2013\",\"8/2013\",\"8/2013\",\"8/2013\",\"8/2013\",\"8/2013\",\"8/2013\",\"8/2013\",\"8/2013\",\"8/2013\",\"8/2013\",\"8/2013\",\"8/2013\",\"8/2013\",\"8/2013\",\"9/2013\",\"9/2013\",\"9/2013\",\"9/2013\",\"9/2013\",\"9/2013\",\"9/2013\",\"9/2013\",\"9/2013\",\"9/2013\",\"9/2013\",\"9/2013\",\"9/2013\",\"9/2013\",\"9/2013\",\"9/2013\",\"9/2013\",\"9/2013\",\"9/2013\",\"9/2013\",\"9/2013\",\"9/2013\",\"9/2013\",\"9/2013\",\"9/2013\",\"9/2013\",\"10/2013\",\"10/2013\",\"10/2013\",\"10/2013\",\"10/2013\",\"10/2013\",\"10/2013\",\"10/2013\",\"10/2013\",\"10/2013\",\"10/2013\",\"10/2013\",\"10/2013\",\"10/2013\",\"10/2013\",\"10/2013\",\"10/2013\",\"10/2013\",\"10/2013\",\"10/2013\",\"10/2013\",\"10/2013\",\"10/2013\",\"10/2013\",\"10/2013\",\"10/2013\",\"11/2013\",\"11/2013\",\"11/2013\",\"11/2013\",\"11/2013\",\"11/2013\",\"11/2013\",\"11/2013\",\"11/2013\",\"11/2013\",\"11/2013\",\"11/2013\",\"11/2013\",\"11/2013\",\"11/2013\",\"11/2013\",\"11/2013\",\"11/2013\",\"11/2013\",\"11/2013\",\"11/2013\",\"11/2013\",\"11/2013\",\"11/2013\",\"11/2013\",\"11/2013\",\"12/2013\",\"12/2013\",\"12/2013\",\"12/2013\",\"12/2013\",\"12/2013\",\"12/2013\",\"12/2013\",\"12/2013\",\"12/2013\",\"12/2013\",\"12/2013\",\"12/2013\",\"12/2013\",\"12/2013\",\"12/2013\",\"12/2013\",\"12/2013\",\"12/2013\",\"12/2013\",\"12/2013\",\"12/2013\",\"12/2013\",\"12/2013\",\"12/2013\",\"12/2013\",\"1/2014\",\"1/2014\",\"1/2014\",\"1/2014\",\"1/2014\",\"1/2014\",\"1/2014\",\"1/2014\",\"1/2014\",\"1/2014\",\"1/2014\",\"1/2014\",\"1/2014\",\"1/2014\",\"1/2014\",\"1/2014\",\"1/2014\",\"1/2014\",\"1/2014\",\"1/2014\",\"1/2014\",\"1/2014\",\"1/2014\",\"1/2014\",\"1/2014\",\"1/2014\",\"2/2014\",\"2/2014\",\"2/2014\",\"2/2014\",\"2/2014\",\"2/2014\",\"2/2014\",\"2/2014\",\"2/2014\",\"2/2014\",\"2/2014\",\"2/2014\",\"2/2014\",\"2/2014\",\"2/2014\",\"2/2014\",\"2/2014\",\"2/2014\",\"2/2014\",\"2/2014\",\"2/2014\",\"2/2014\",\"2/2014\",\"2/2014\",\"2/2014\",\"2/2014\",\"3/2014\",\"3/2014\",\"3/2014\",\"3/2014\",\"3/2014\",\"3/2014\",\"3/2014\",\"3/2014\",\"3/2014\",\"3/2014\",\"3/2014\",\"3/2014\",\"3/2014\",\"3/2014\",\"3/2014\",\"3/2014\",\"3/2014\",\"3/2014\",\"3/2014\",\"3/2014\",\"3/2014\",\"3/2014\",\"3/2014\",\"3/2014\",\"3/2014\",\"3/2014\",\"4/2014\",\"4/2014\",\"4/2014\",\"4/2014\",\"4/2014\",\"4/2014\",\"4/2014\",\"4/2014\",\"4/2014\",\"4/2014\",\"4/2014\",\"4/2014\",\"4/2014\",\"4/2014\",\"4/2014\",\"4/2014\",\"4/2014\",\"4/2014\",\"4/2014\",\"4/2014\",\"4/2014\",\"4/2014\",\"4/2014\",\"4/2014\",\"4/2014\",\"4/2014\",\"5/2014\",\"5/2014\",\"5/2014\",\"5/2014\",\"5/2014\",\"5/2014\",\"5/2014\",\"5/2014\",\"5/2014\",\"5/2014\",\"5/2014\",\"5/2014\",\"5/2014\",\"5/2014\",\"5/2014\",\"5/2014\",\"5/2014\",\"5/2014\",\"5/2014\",\"5/2014\",\"5/2014\",\"5/2014\",\"5/2014\",\"5/2014\",\"5/2014\",\"5/2014\",\"6/2014\",\"6/2014\",\"6/2014\",\"6/2014\",\"6/2014\",\"6/2014\",\"6/2014\",\"6/2014\",\"6/2014\",\"6/2014\",\"6/2014\",\"6/2014\",\"6/2014\",\"6/2014\",\"6/2014\",\"6/2014\",\"6/2014\",\"6/2014\",\"6/2014\",\"6/2014\",\"6/2014\",\"6/2014\",\"6/2014\",\"6/2014\",\"6/2014\",\"6/2014\",\"7/2014\",\"7/2014\",\"7/2014\",\"7/2014\",\"7/2014\",\"7/2014\",\"7/2014\",\"7/2014\",\"7/2014\",\"7/2014\",\"7/2014\",\"7/2014\",\"7/2014\",\"7/2014\",\"7/2014\",\"7/2014\",\"7/2014\",\"7/2014\",\"7/2014\",\"7/2014\",\"7/2014\",\"7/2014\",\"7/2014\",\"7/2014\",\"7/2014\",\"7/2014\",\"8/2014\",\"8/2014\",\"8/2014\",\"8/2014\",\"8/2014\",\"8/2014\",\"8/2014\",\"8/2014\",\"8/2014\",\"8/2014\",\"8/2014\",\"8/2014\",\"8/2014\",\"8/2014\",\"8/2014\",\"8/2014\",\"8/2014\",\"8/2014\",\"8/2014\",\"8/2014\",\"8/2014\",\"8/2014\",\"8/2014\",\"8/2014\",\"8/2014\",\"8/2014\",\"9/2014\",\"9/2014\",\"9/2014\",\"9/2014\",\"9/2014\",\"9/2014\",\"9/2014\",\"9/2014\",\"9/2014\",\"9/2014\",\"9/2014\",\"9/2014\",\"9/2014\",\"9/2014\",\"9/2014\",\"9/2014\",\"9/2014\",\"9/2014\",\"9/2014\",\"9/2014\",\"9/2014\",\"9/2014\",\"9/2014\",\"9/2014\",\"9/2014\",\"9/2014\",\"10/2014\",\"10/2014\",\"10/2014\",\"10/2014\",\"10/2014\",\"10/2014\",\"10/2014\",\"10/2014\",\"10/2014\",\"10/2014\",\"10/2014\",\"10/2014\",\"10/2014\",\"10/2014\",\"10/2014\",\"10/2014\",\"10/2014\",\"10/2014\",\"10/2014\",\"10/2014\",\"10/2014\",\"10/2014\",\"10/2014\",\"10/2014\",\"10/2014\",\"10/2014\",\"11/2014\",\"11/2014\",\"11/2014\",\"11/2014\",\"11/2014\",\"11/2014\",\"11/2014\",\"11/2014\",\"11/2014\",\"11/2014\",\"11/2014\",\"11/2014\",\"11/2014\",\"11/2014\",\"11/2014\",\"11/2014\",\"11/2014\",\"11/2014\",\"11/2014\",\"11/2014\",\"11/2014\",\"11/2014\",\"11/2014\",\"11/2014\",\"11/2014\",\"11/2014\",\"12/2014\",\"12/2014\",\"12/2014\",\"12/2014\",\"12/2014\",\"12/2014\",\"12/2014\",\"12/2014\",\"12/2014\",\"12/2014\",\"12/2014\",\"12/2014\",\"12/2014\",\"12/2014\",\"12/2014\",\"12/2014\",\"12/2014\",\"12/2014\",\"12/2014\",\"12/2014\",\"12/2014\",\"12/2014\",\"12/2014\",\"12/2014\",\"12/2014\",\"12/2014\",\"1/2015\",\"1/2015\",\"1/2015\",\"1/2015\",\"1/2015\",\"1/2015\",\"1/2015\",\"1/2015\",\"1/2015\",\"1/2015\",\"1/2015\",\"1/2015\",\"1/2015\",\"1/2015\",\"1/2015\",\"1/2015\",\"1/2015\",\"1/2015\",\"1/2015\",\"1/2015\",\"1/2015\",\"1/2015\",\"1/2015\",\"1/2015\",\"1/2015\",\"1/2015\",\"2/2015\",\"2/2015\",\"2/2015\",\"2/2015\",\"2/2015\",\"2/2015\",\"2/2015\",\"2/2015\",\"2/2015\",\"2/2015\",\"2/2015\",\"2/2015\",\"2/2015\",\"2/2015\",\"2/2015\",\"2/2015\",\"2/2015\",\"2/2015\",\"2/2015\",\"2/2015\",\"2/2015\",\"2/2015\",\"2/2015\",\"2/2015\",\"2/2015\",\"2/2015\",\"3/2015\",\"3/2015\",\"3/2015\",\"3/2015\",\"3/2015\",\"3/2015\",\"3/2015\",\"3/2015\",\"3/2015\",\"3/2015\",\"3/2015\",\"3/2015\",\"3/2015\",\"3/2015\",\"3/2015\",\"3/2015\",\"3/2015\",\"3/2015\",\"3/2015\",\"3/2015\",\"3/2015\",\"3/2015\",\"3/2015\",\"3/2015\",\"3/2015\",\"3/2015\",\"4/2015\",\"4/2015\",\"4/2015\",\"4/2015\",\"4/2015\",\"4/2015\",\"4/2015\",\"4/2015\",\"4/2015\",\"4/2015\",\"4/2015\",\"4/2015\",\"4/2015\",\"4/2015\",\"4/2015\",\"4/2015\",\"4/2015\",\"4/2015\",\"4/2015\",\"4/2015\",\"4/2015\",\"4/2015\",\"4/2015\",\"4/2015\",\"4/2015\",\"4/2015\",\"5/2015\",\"5/2015\",\"5/2015\",\"5/2015\",\"5/2015\",\"5/2015\",\"5/2015\",\"5/2015\",\"5/2015\",\"5/2015\",\"5/2015\",\"5/2015\",\"5/2015\",\"5/2015\",\"5/2015\",\"5/2015\",\"5/2015\",\"5/2015\",\"5/2015\",\"5/2015\",\"5/2015\",\"5/2015\",\"5/2015\",\"5/2015\",\"5/2015\",\"5/2015\",\"6/2015\",\"6/2015\",\"6/2015\",\"6/2015\",\"6/2015\",\"6/2015\",\"6/2015\",\"6/2015\",\"6/2015\",\"6/2015\",\"6/2015\",\"6/2015\",\"6/2015\",\"6/2015\",\"6/2015\",\"6/2015\",\"6/2015\",\"6/2015\",\"6/2015\",\"6/2015\",\"6/2015\",\"6/2015\",\"6/2015\",\"6/2015\",\"6/2015\",\"6/2015\",\"7/2015\",\"7/2015\",\"7/2015\",\"7/2015\",\"7/2015\",\"7/2015\",\"7/2015\",\"7/2015\",\"7/2015\",\"7/2015\",\"7/2015\",\"7/2015\",\"7/2015\",\"7/2015\",\"7/2015\",\"7/2015\",\"7/2015\",\"7/2015\",\"7/2015\",\"7/2015\",\"7/2015\",\"7/2015\",\"7/2015\",\"7/2015\",\"7/2015\",\"7/2015\",\"8/2015\",\"8/2015\",\"8/2015\",\"8/2015\",\"8/2015\",\"8/2015\",\"8/2015\",\"8/2015\",\"8/2015\",\"8/2015\",\"8/2015\",\"8/2015\",\"8/2015\",\"8/2015\",\"8/2015\",\"8/2015\",\"8/2015\",\"8/2015\",\"8/2015\",\"8/2015\",\"8/2015\",\"8/2015\",\"8/2015\",\"8/2015\",\"8/2015\",\"8/2015\",\"9/2015\",\"9/2015\",\"9/2015\",\"9/2015\",\"9/2015\",\"9/2015\",\"9/2015\",\"9/2015\",\"9/2015\",\"9/2015\",\"9/2015\",\"9/2015\",\"9/2015\",\"9/2015\",\"9/2015\",\"9/2015\",\"9/2015\",\"9/2015\",\"9/2015\",\"9/2015\",\"9/2015\",\"9/2015\",\"9/2015\",\"9/2015\",\"9/2015\",\"9/2015\",\"10/2015\",\"10/2015\",\"10/2015\",\"10/2015\",\"10/2015\",\"10/2015\",\"10/2015\",\"10/2015\",\"10/2015\",\"10/2015\",\"10/2015\",\"10/2015\",\"10/2015\",\"10/2015\",\"10/2015\",\"10/2015\",\"10/2015\",\"10/2015\",\"10/2015\",\"10/2015\",\"10/2015\",\"10/2015\",\"10/2015\",\"10/2015\",\"10/2015\",\"10/2015\",\"11/2015\",\"11/2015\",\"11/2015\",\"11/2015\",\"11/2015\",\"11/2015\",\"11/2015\",\"11/2015\",\"11/2015\",\"11/2015\",\"11/2015\",\"11/2015\",\"11/2015\",\"11/2015\",\"11/2015\",\"11/2015\",\"11/2015\",\"11/2015\",\"11/2015\",\"11/2015\",\"11/2015\",\"11/2015\",\"11/2015\",\"11/2015\",\"11/2015\",\"11/2015\",\"12/2015\",\"12/2015\",\"12/2015\",\"12/2015\",\"12/2015\",\"12/2015\",\"12/2015\",\"12/2015\",\"12/2015\",\"12/2015\",\"12/2015\",\"12/2015\",\"12/2015\",\"12/2015\",\"12/2015\",\"12/2015\",\"12/2015\",\"12/2015\",\"12/2015\",\"12/2015\",\"12/2015\",\"12/2015\",\"12/2015\",\"12/2015\",\"12/2015\",\"12/2015\",\"1/2016\",\"1/2016\",\"1/2016\",\"1/2016\",\"1/2016\",\"1/2016\",\"1/2016\",\"1/2016\",\"1/2016\",\"1/2016\",\"1/2016\",\"1/2016\",\"1/2016\",\"1/2016\",\"1/2016\",\"1/2016\",\"1/2016\",\"1/2016\",\"1/2016\",\"1/2016\",\"1/2016\",\"1/2016\",\"1/2016\",\"1/2016\",\"1/2016\",\"1/2016\",\"2/2016\",\"2/2016\",\"2/2016\",\"2/2016\",\"2/2016\",\"2/2016\",\"2/2016\",\"2/2016\",\"2/2016\",\"2/2016\",\"2/2016\",\"2/2016\",\"2/2016\",\"2/2016\",\"2/2016\",\"2/2016\",\"2/2016\",\"2/2016\",\"2/2016\",\"2/2016\",\"2/2016\",\"2/2016\",\"2/2016\",\"2/2016\",\"2/2016\",\"2/2016\",\"3/2016\",\"3/2016\",\"3/2016\",\"3/2016\",\"3/2016\",\"3/2016\",\"3/2016\",\"3/2016\",\"3/2016\",\"3/2016\",\"3/2016\",\"3/2016\",\"3/2016\",\"3/2016\",\"3/2016\",\"3/2016\",\"3/2016\",\"3/2016\",\"3/2016\",\"3/2016\",\"3/2016\",\"3/2016\",\"3/2016\",\"3/2016\",\"3/2016\",\"3/2016\",\"4/2016\",\"4/2016\",\"4/2016\",\"4/2016\",\"4/2016\",\"4/2016\",\"4/2016\",\"4/2016\",\"4/2016\",\"4/2016\",\"4/2016\",\"4/2016\",\"4/2016\",\"4/2016\",\"4/2016\",\"4/2016\",\"4/2016\",\"4/2016\",\"4/2016\",\"4/2016\",\"4/2016\",\"4/2016\",\"4/2016\",\"4/2016\",\"4/2016\",\"4/2016\",\"5/2016\",\"5/2016\",\"5/2016\",\"5/2016\",\"5/2016\",\"5/2016\",\"5/2016\",\"5/2016\",\"5/2016\",\"5/2016\",\"5/2016\",\"5/2016\",\"5/2016\",\"5/2016\",\"5/2016\",\"5/2016\",\"5/2016\",\"5/2016\",\"5/2016\",\"5/2016\",\"5/2016\",\"5/2016\",\"5/2016\",\"5/2016\",\"5/2016\",\"5/2016\",\"6/2016\",\"6/2016\",\"6/2016\",\"6/2016\",\"6/2016\",\"6/2016\",\"6/2016\",\"6/2016\",\"6/2016\",\"6/2016\",\"6/2016\",\"6/2016\",\"6/2016\",\"6/2016\",\"6/2016\",\"6/2016\",\"6/2016\",\"6/2016\",\"6/2016\",\"6/2016\",\"6/2016\",\"6/2016\",\"6/2016\",\"6/2016\",\"6/2016\",\"6/2016\",\"7/2016\",\"7/2016\",\"7/2016\",\"7/2016\",\"7/2016\",\"7/2016\",\"7/2016\",\"7/2016\",\"7/2016\",\"7/2016\",\"7/2016\",\"7/2016\",\"7/2016\",\"7/2016\",\"7/2016\",\"7/2016\",\"7/2016\",\"7/2016\",\"7/2016\",\"7/2016\",\"7/2016\",\"7/2016\",\"7/2016\",\"7/2016\",\"7/2016\",\"7/2016\",\"8/2016\",\"8/2016\",\"8/2016\",\"8/2016\",\"8/2016\",\"8/2016\",\"8/2016\",\"8/2016\",\"8/2016\",\"8/2016\",\"8/2016\",\"8/2016\",\"8/2016\",\"8/2016\",\"8/2016\",\"8/2016\",\"8/2016\",\"8/2016\",\"8/2016\",\"8/2016\",\"8/2016\",\"8/2016\",\"8/2016\",\"8/2016\",\"8/2016\",\"8/2016\",\"9/2016\",\"9/2016\",\"9/2016\",\"9/2016\",\"9/2016\",\"9/2016\",\"9/2016\",\"9/2016\",\"9/2016\",\"9/2016\",\"9/2016\",\"9/2016\",\"9/2016\",\"9/2016\",\"9/2016\",\"9/2016\",\"9/2016\",\"9/2016\",\"9/2016\",\"9/2016\",\"9/2016\",\"9/2016\",\"9/2016\",\"9/2016\",\"9/2016\",\"9/2016\",\"10/2016\",\"10/2016\",\"10/2016\",\"10/2016\",\"10/2016\",\"10/2016\",\"10/2016\",\"10/2016\",\"10/2016\",\"10/2016\",\"10/2016\",\"10/2016\",\"10/2016\",\"10/2016\",\"10/2016\",\"10/2016\",\"10/2016\",\"10/2016\",\"10/2016\",\"10/2016\",\"10/2016\",\"10/2016\",\"10/2016\",\"10/2016\",\"10/2016\",\"10/2016\",\"11/2016\",\"11/2016\",\"11/2016\",\"11/2016\",\"11/2016\",\"11/2016\",\"11/2016\",\"11/2016\",\"11/2016\",\"11/2016\",\"11/2016\",\"11/2016\",\"11/2016\",\"11/2016\",\"11/2016\",\"11/2016\",\"11/2016\",\"11/2016\",\"11/2016\",\"11/2016\",\"11/2016\",\"11/2016\",\"11/2016\",\"11/2016\",\"11/2016\",\"11/2016\",\"12/2016\",\"12/2016\",\"12/2016\",\"12/2016\",\"12/2016\",\"12/2016\",\"12/2016\",\"12/2016\",\"12/2016\",\"12/2016\",\"12/2016\",\"12/2016\",\"12/2016\",\"12/2016\",\"12/2016\",\"12/2016\",\"12/2016\",\"12/2016\",\"12/2016\",\"12/2016\",\"12/2016\",\"12/2016\",\"12/2016\",\"12/2016\",\"12/2016\",\"12/2016\",\"1/2017\",\"1/2017\",\"1/2017\",\"1/2017\",\"1/2017\",\"1/2017\",\"1/2017\",\"1/2017\",\"1/2017\",\"1/2017\",\"1/2017\",\"1/2017\",\"1/2017\",\"1/2017\",\"1/2017\",\"1/2017\",\"1/2017\",\"1/2017\",\"1/2017\",\"1/2017\",\"1/2017\",\"1/2017\",\"1/2017\",\"1/2017\",\"1/2017\",\"1/2017\",\"2/2017\",\"2/2017\",\"2/2017\",\"2/2017\",\"2/2017\",\"2/2017\",\"2/2017\",\"2/2017\",\"2/2017\",\"2/2017\",\"2/2017\",\"2/2017\",\"2/2017\",\"2/2017\",\"2/2017\",\"2/2017\",\"2/2017\",\"2/2017\",\"2/2017\",\"2/2017\",\"2/2017\",\"2/2017\",\"2/2017\",\"2/2017\",\"2/2017\",\"2/2017\",\"3/2017\",\"3/2017\",\"3/2017\",\"3/2017\",\"3/2017\",\"3/2017\",\"3/2017\",\"3/2017\",\"3/2017\",\"3/2017\",\"3/2017\",\"3/2017\",\"3/2017\",\"3/2017\",\"3/2017\",\"3/2017\",\"3/2017\",\"3/2017\",\"3/2017\",\"3/2017\",\"3/2017\",\"3/2017\",\"3/2017\",\"3/2017\",\"3/2017\",\"3/2017\",\"4/2017\",\"4/2017\",\"4/2017\",\"4/2017\",\"4/2017\",\"4/2017\",\"4/2017\",\"4/2017\",\"4/2017\",\"4/2017\",\"4/2017\",\"4/2017\",\"4/2017\",\"4/2017\",\"4/2017\",\"4/2017\",\"4/2017\",\"4/2017\",\"4/2017\",\"4/2017\",\"4/2017\",\"4/2017\",\"4/2017\",\"4/2017\",\"4/2017\",\"4/2017\",\"5/2017\",\"5/2017\",\"5/2017\",\"5/2017\",\"5/2017\",\"5/2017\",\"5/2017\",\"5/2017\",\"5/2017\",\"5/2017\",\"5/2017\",\"5/2017\",\"5/2017\",\"5/2017\",\"5/2017\",\"5/2017\",\"5/2017\",\"5/2017\",\"5/2017\",\"5/2017\",\"5/2017\",\"5/2017\",\"5/2017\",\"5/2017\",\"5/2017\",\"5/2017\",\"6/2017\",\"6/2017\",\"6/2017\",\"6/2017\",\"6/2017\",\"6/2017\",\"6/2017\",\"6/2017\",\"6/2017\",\"6/2017\",\"6/2017\",\"6/2017\",\"6/2017\",\"6/2017\",\"6/2017\",\"6/2017\",\"6/2017\",\"6/2017\",\"6/2017\",\"6/2017\",\"6/2017\",\"6/2017\",\"6/2017\",\"6/2017\",\"6/2017\",\"6/2017\",\"7/2017\",\"7/2017\",\"7/2017\",\"7/2017\",\"7/2017\",\"7/2017\",\"7/2017\",\"7/2017\",\"7/2017\",\"7/2017\",\"7/2017\",\"7/2017\",\"7/2017\",\"7/2017\",\"7/2017\",\"7/2017\",\"7/2017\",\"7/2017\",\"7/2017\",\"7/2017\",\"7/2017\",\"7/2017\",\"7/2017\",\"7/2017\",\"7/2017\",\"7/2017\",\"8/2017\",\"8/2017\",\"8/2017\",\"8/2017\",\"8/2017\",\"8/2017\",\"8/2017\",\"8/2017\",\"8/2017\",\"8/2017\",\"8/2017\",\"8/2017\",\"8/2017\",\"8/2017\",\"8/2017\",\"8/2017\",\"8/2017\",\"8/2017\",\"8/2017\",\"8/2017\",\"8/2017\",\"8/2017\",\"8/2017\",\"8/2017\",\"8/2017\",\"8/2017\",\"9/2017\",\"9/2017\",\"9/2017\",\"9/2017\",\"9/2017\",\"9/2017\",\"9/2017\",\"9/2017\",\"9/2017\",\"9/2017\",\"9/2017\",\"9/2017\",\"9/2017\",\"9/2017\",\"9/2017\",\"9/2017\",\"9/2017\",\"9/2017\",\"9/2017\",\"9/2017\",\"9/2017\",\"9/2017\",\"9/2017\",\"9/2017\",\"9/2017\",\"9/2017\",\"10/2017\",\"10/2017\",\"10/2017\",\"10/2017\",\"10/2017\",\"10/2017\",\"10/2017\",\"10/2017\",\"10/2017\",\"10/2017\",\"10/2017\",\"10/2017\",\"10/2017\",\"10/2017\",\"10/2017\",\"10/2017\",\"10/2017\",\"10/2017\",\"10/2017\",\"10/2017\",\"10/2017\",\"10/2017\",\"10/2017\",\"10/2017\",\"10/2017\",\"10/2017\",\"11/2017\",\"11/2017\",\"11/2017\",\"11/2017\",\"11/2017\",\"11/2017\",\"11/2017\",\"11/2017\",\"11/2017\",\"11/2017\",\"11/2017\",\"11/2017\",\"11/2017\",\"11/2017\",\"11/2017\",\"11/2017\",\"11/2017\",\"11/2017\",\"11/2017\",\"11/2017\",\"11/2017\",\"11/2017\",\"11/2017\",\"11/2017\",\"11/2017\",\"11/2017\",\"12/2017\",\"12/2017\",\"12/2017\",\"12/2017\",\"12/2017\",\"12/2017\",\"12/2017\",\"12/2017\",\"12/2017\",\"12/2017\",\"12/2017\",\"12/2017\",\"12/2017\",\"12/2017\",\"12/2017\",\"12/2017\",\"12/2017\",\"12/2017\",\"12/2017\",\"12/2017\",\"12/2017\",\"12/2017\",\"12/2017\",\"12/2017\",\"12/2017\",\"12/2017\",\"1/2018\",\"1/2018\",\"1/2018\",\"1/2018\",\"1/2018\",\"1/2018\",\"1/2018\",\"1/2018\",\"1/2018\",\"1/2018\",\"1/2018\",\"1/2018\",\"1/2018\",\"1/2018\",\"1/2018\",\"1/2018\",\"1/2018\",\"1/2018\",\"1/2018\",\"1/2018\",\"1/2018\",\"1/2018\",\"1/2018\",\"1/2018\",\"1/2018\",\"1/2018\",\"2/2018\",\"2/2018\",\"2/2018\",\"2/2018\",\"2/2018\",\"2/2018\",\"2/2018\",\"2/2018\",\"2/2018\",\"2/2018\",\"2/2018\",\"2/2018\",\"2/2018\",\"2/2018\",\"2/2018\",\"2/2018\",\"2/2018\",\"2/2018\",\"2/2018\",\"2/2018\",\"2/2018\",\"2/2018\",\"2/2018\",\"2/2018\",\"2/2018\",\"2/2018\",\"3/2018\",\"3/2018\",\"3/2018\",\"3/2018\",\"3/2018\",\"3/2018\",\"3/2018\",\"3/2018\",\"3/2018\",\"3/2018\",\"3/2018\",\"3/2018\",\"3/2018\",\"3/2018\",\"3/2018\",\"3/2018\",\"3/2018\",\"3/2018\",\"3/2018\",\"3/2018\",\"3/2018\",\"3/2018\",\"3/2018\",\"3/2018\",\"3/2018\",\"3/2018\",\"4/2018\",\"4/2018\",\"4/2018\",\"4/2018\",\"4/2018\",\"4/2018\",\"4/2018\",\"4/2018\",\"4/2018\",\"4/2018\",\"4/2018\",\"4/2018\",\"4/2018\",\"4/2018\",\"4/2018\",\"4/2018\",\"4/2018\",\"4/2018\",\"4/2018\",\"4/2018\",\"4/2018\",\"4/2018\",\"4/2018\",\"4/2018\",\"4/2018\",\"4/2018\",\"5/2018\",\"5/2018\",\"5/2018\",\"5/2018\",\"5/2018\",\"5/2018\",\"5/2018\",\"5/2018\",\"5/2018\",\"5/2018\",\"5/2018\",\"5/2018\",\"5/2018\",\"5/2018\",\"5/2018\",\"5/2018\",\"5/2018\",\"5/2018\",\"5/2018\",\"5/2018\",\"5/2018\",\"5/2018\",\"5/2018\",\"5/2018\",\"5/2018\",\"5/2018\",\"6/2018\",\"6/2018\",\"6/2018\",\"6/2018\",\"6/2018\",\"6/2018\",\"6/2018\",\"6/2018\",\"6/2018\",\"6/2018\",\"6/2018\",\"6/2018\",\"6/2018\",\"6/2018\",\"6/2018\",\"6/2018\",\"6/2018\",\"6/2018\",\"6/2018\",\"6/2018\",\"6/2018\",\"6/2018\",\"6/2018\",\"6/2018\",\"6/2018\",\"6/2018\",\"7/2018\",\"7/2018\",\"7/2018\",\"7/2018\",\"7/2018\",\"7/2018\",\"7/2018\",\"7/2018\",\"7/2018\",\"7/2018\",\"7/2018\",\"7/2018\",\"7/2018\",\"7/2018\",\"7/2018\",\"7/2018\",\"7/2018\",\"7/2018\",\"7/2018\",\"7/2018\",\"7/2018\",\"7/2018\",\"7/2018\",\"7/2018\",\"7/2018\",\"7/2018\",\"8/2018\",\"8/2018\",\"8/2018\",\"8/2018\",\"8/2018\",\"8/2018\",\"8/2018\",\"8/2018\",\"8/2018\",\"8/2018\",\"8/2018\",\"8/2018\",\"8/2018\",\"8/2018\",\"8/2018\",\"8/2018\",\"8/2018\",\"8/2018\",\"8/2018\",\"8/2018\",\"8/2018\",\"8/2018\",\"8/2018\",\"8/2018\",\"8/2018\",\"8/2018\",\"9/2018\",\"9/2018\",\"9/2018\",\"9/2018\",\"9/2018\",\"9/2018\",\"9/2018\",\"9/2018\",\"9/2018\",\"9/2018\",\"9/2018\",\"9/2018\",\"9/2018\",\"9/2018\",\"9/2018\",\"9/2018\",\"9/2018\",\"9/2018\",\"9/2018\",\"9/2018\",\"9/2018\",\"9/2018\",\"9/2018\",\"9/2018\",\"9/2018\",\"9/2018\",\"10/2018\",\"10/2018\",\"10/2018\",\"10/2018\",\"10/2018\",\"10/2018\",\"10/2018\",\"10/2018\",\"10/2018\",\"10/2018\",\"10/2018\",\"10/2018\",\"10/2018\",\"10/2018\",\"10/2018\",\"10/2018\",\"10/2018\",\"10/2018\",\"10/2018\",\"10/2018\",\"10/2018\",\"10/2018\",\"10/2018\",\"10/2018\",\"10/2018\",\"10/2018\",\"11/2018\",\"11/2018\",\"11/2018\",\"11/2018\",\"11/2018\",\"11/2018\",\"11/2018\",\"11/2018\",\"11/2018\",\"11/2018\",\"11/2018\",\"11/2018\",\"11/2018\",\"11/2018\",\"11/2018\",\"11/2018\",\"11/2018\",\"11/2018\",\"11/2018\",\"11/2018\",\"11/2018\",\"11/2018\",\"11/2018\",\"11/2018\",\"11/2018\",\"11/2018\",\"12/2018\",\"12/2018\",\"12/2018\",\"12/2018\",\"12/2018\",\"12/2018\",\"12/2018\",\"12/2018\",\"12/2018\",\"12/2018\",\"12/2018\",\"12/2018\",\"12/2018\",\"12/2018\",\"12/2018\",\"12/2018\",\"12/2018\",\"12/2018\",\"12/2018\",\"12/2018\",\"12/2018\",\"12/2018\",\"12/2018\",\"12/2018\",\"12/2018\",\"12/2018\",\"1/2019\",\"1/2019\",\"1/2019\",\"1/2019\",\"1/2019\",\"1/2019\",\"1/2019\",\"1/2019\",\"1/2019\",\"1/2019\",\"1/2019\",\"1/2019\",\"1/2019\",\"1/2019\",\"1/2019\",\"1/2019\",\"1/2019\",\"1/2019\",\"1/2019\",\"1/2019\",\"1/2019\",\"1/2019\",\"1/2019\",\"1/2019\",\"1/2019\",\"1/2019\",\"2/2019\",\"2/2019\",\"2/2019\",\"2/2019\",\"2/2019\",\"2/2019\",\"2/2019\",\"2/2019\",\"2/2019\",\"2/2019\",\"2/2019\",\"2/2019\",\"2/2019\",\"2/2019\",\"2/2019\",\"2/2019\",\"2/2019\",\"2/2019\",\"2/2019\",\"2/2019\",\"2/2019\",\"2/2019\",\"2/2019\",\"2/2019\",\"2/2019\",\"2/2019\",\"3/2019\",\"3/2019\",\"3/2019\",\"3/2019\",\"3/2019\",\"3/2019\",\"3/2019\",\"3/2019\",\"3/2019\",\"3/2019\",\"3/2019\",\"3/2019\",\"3/2019\",\"3/2019\",\"3/2019\",\"3/2019\",\"3/2019\",\"3/2019\",\"3/2019\",\"3/2019\",\"3/2019\",\"3/2019\",\"3/2019\",\"3/2019\",\"3/2019\",\"3/2019\",\"4/2019\",\"4/2019\",\"4/2019\",\"4/2019\",\"4/2019\",\"4/2019\",\"4/2019\",\"4/2019\",\"4/2019\",\"4/2019\",\"4/2019\",\"4/2019\",\"4/2019\",\"4/2019\",\"4/2019\",\"4/2019\",\"4/2019\",\"4/2019\",\"4/2019\",\"4/2019\",\"4/2019\",\"4/2019\",\"4/2019\",\"4/2019\",\"4/2019\",\"4/2019\",\"5/2019\",\"5/2019\",\"5/2019\",\"5/2019\",\"5/2019\",\"5/2019\",\"5/2019\",\"5/2019\",\"5/2019\",\"5/2019\",\"5/2019\",\"5/2019\",\"5/2019\",\"5/2019\",\"5/2019\",\"5/2019\",\"5/2019\",\"5/2019\",\"5/2019\",\"5/2019\",\"5/2019\",\"5/2019\",\"5/2019\",\"5/2019\",\"5/2019\",\"5/2019\",\"6/2019\",\"6/2019\",\"6/2019\",\"6/2019\",\"6/2019\",\"6/2019\",\"6/2019\",\"6/2019\",\"6/2019\",\"6/2019\",\"6/2019\",\"6/2019\",\"6/2019\",\"6/2019\",\"6/2019\",\"6/2019\",\"6/2019\",\"6/2019\",\"6/2019\",\"6/2019\",\"6/2019\",\"6/2019\",\"6/2019\",\"6/2019\",\"6/2019\",\"6/2019\",\"7/2019\",\"7/2019\",\"7/2019\",\"7/2019\",\"7/2019\",\"7/2019\",\"7/2019\",\"7/2019\",\"7/2019\",\"7/2019\",\"7/2019\",\"7/2019\",\"7/2019\",\"7/2019\",\"7/2019\",\"7/2019\",\"7/2019\",\"7/2019\",\"7/2019\",\"7/2019\",\"7/2019\",\"7/2019\",\"7/2019\",\"7/2019\",\"7/2019\",\"7/2019\",\"8/2019\",\"8/2019\",\"8/2019\",\"8/2019\",\"8/2019\",\"8/2019\",\"8/2019\",\"8/2019\",\"8/2019\",\"8/2019\",\"8/2019\",\"8/2019\",\"8/2019\",\"8/2019\",\"8/2019\",\"8/2019\",\"8/2019\",\"8/2019\",\"8/2019\",\"8/2019\",\"8/2019\",\"8/2019\",\"8/2019\",\"8/2019\",\"8/2019\",\"8/2019\",\"9/2019\",\"9/2019\",\"9/2019\",\"9/2019\",\"9/2019\",\"9/2019\",\"9/2019\",\"9/2019\",\"9/2019\",\"9/2019\",\"9/2019\",\"9/2019\",\"9/2019\",\"9/2019\",\"9/2019\",\"9/2019\",\"9/2019\",\"9/2019\",\"9/2019\",\"9/2019\",\"9/2019\",\"9/2019\",\"9/2019\",\"9/2019\",\"9/2019\",\"9/2019\",\"10/2019\",\"10/2019\",\"10/2019\",\"10/2019\",\"10/2019\",\"10/2019\",\"10/2019\",\"10/2019\",\"10/2019\",\"10/2019\",\"10/2019\",\"10/2019\",\"10/2019\",\"10/2019\",\"10/2019\",\"10/2019\",\"10/2019\",\"10/2019\",\"10/2019\",\"10/2019\",\"10/2019\",\"10/2019\",\"10/2019\",\"10/2019\",\"10/2019\",\"10/2019\",\"11/2019\",\"11/2019\",\"11/2019\",\"11/2019\",\"11/2019\",\"11/2019\",\"11/2019\",\"11/2019\",\"11/2019\",\"11/2019\",\"11/2019\",\"11/2019\",\"11/2019\",\"11/2019\",\"11/2019\",\"11/2019\",\"11/2019\",\"11/2019\",\"11/2019\",\"11/2019\",\"11/2019\",\"11/2019\",\"11/2019\",\"11/2019\",\"11/2019\",\"11/2019\",\"12/2019\",\"12/2019\",\"12/2019\",\"12/2019\",\"12/2019\",\"12/2019\",\"12/2019\",\"12/2019\",\"12/2019\",\"12/2019\",\"12/2019\",\"12/2019\",\"12/2019\",\"12/2019\",\"12/2019\",\"12/2019\",\"12/2019\",\"12/2019\",\"12/2019\",\"12/2019\",\"12/2019\",\"12/2019\",\"12/2019\",\"12/2019\",\"12/2019\",\"12/2019\",\"1/2020\",\"1/2020\",\"1/2020\",\"1/2020\",\"1/2020\",\"1/2020\",\"1/2020\",\"1/2020\",\"1/2020\",\"1/2020\",\"1/2020\",\"1/2020\",\"1/2020\",\"1/2020\",\"1/2020\",\"1/2020\",\"1/2020\",\"1/2020\",\"1/2020\",\"1/2020\",\"1/2020\",\"1/2020\",\"1/2020\",\"1/2020\",\"1/2020\",\"1/2020\",\"2/2020\",\"2/2020\",\"2/2020\",\"2/2020\",\"2/2020\",\"2/2020\",\"2/2020\",\"2/2020\",\"2/2020\",\"2/2020\",\"2/2020\",\"2/2020\",\"2/2020\",\"2/2020\",\"2/2020\",\"2/2020\",\"2/2020\",\"2/2020\",\"2/2020\",\"2/2020\",\"2/2020\",\"2/2020\",\"2/2020\",\"2/2020\",\"2/2020\",\"2/2020\",\"3/2020\",\"3/2020\",\"3/2020\",\"3/2020\",\"3/2020\",\"3/2020\",\"3/2020\",\"3/2020\",\"3/2020\",\"3/2020\",\"3/2020\",\"3/2020\",\"3/2020\",\"3/2020\",\"3/2020\",\"3/2020\",\"3/2020\",\"3/2020\",\"3/2020\",\"3/2020\",\"3/2020\",\"3/2020\",\"3/2020\",\"3/2020\",\"3/2020\",\"3/2020\",\"4/2020\",\"4/2020\",\"4/2020\",\"4/2020\",\"4/2020\",\"4/2020\",\"4/2020\",\"4/2020\",\"4/2020\",\"4/2020\",\"4/2020\",\"4/2020\",\"4/2020\",\"4/2020\",\"4/2020\",\"4/2020\",\"4/2020\",\"4/2020\",\"4/2020\",\"4/2020\",\"4/2020\",\"4/2020\",\"4/2020\",\"4/2020\",\"4/2020\",\"4/2020\",\"5/2020\",\"5/2020\",\"5/2020\",\"5/2020\",\"5/2020\",\"5/2020\",\"5/2020\",\"5/2020\",\"5/2020\",\"5/2020\",\"5/2020\",\"5/2020\",\"5/2020\",\"5/2020\",\"5/2020\",\"5/2020\",\"5/2020\",\"5/2020\",\"5/2020\",\"5/2020\",\"5/2020\",\"5/2020\",\"5/2020\",\"5/2020\",\"5/2020\",\"5/2020\",\"6/2020\",\"6/2020\",\"6/2020\",\"6/2020\",\"6/2020\",\"6/2020\",\"6/2020\",\"6/2020\",\"6/2020\",\"6/2020\",\"6/2020\",\"6/2020\",\"6/2020\",\"6/2020\",\"6/2020\",\"6/2020\",\"6/2020\",\"6/2020\",\"6/2020\",\"6/2020\",\"6/2020\",\"6/2020\",\"6/2020\",\"6/2020\",\"6/2020\",\"6/2020\",\"7/2020\",\"7/2020\",\"7/2020\",\"7/2020\",\"7/2020\",\"7/2020\",\"7/2020\",\"7/2020\",\"7/2020\",\"7/2020\",\"7/2020\",\"7/2020\",\"7/2020\",\"7/2020\",\"7/2020\",\"7/2020\",\"7/2020\",\"7/2020\",\"7/2020\",\"7/2020\",\"7/2020\",\"7/2020\",\"7/2020\",\"7/2020\",\"7/2020\",\"7/2020\",\"8/2020\",\"8/2020\",\"8/2020\",\"8/2020\",\"8/2020\",\"8/2020\",\"8/2020\",\"8/2020\",\"8/2020\",\"8/2020\",\"8/2020\",\"8/2020\",\"8/2020\",\"8/2020\",\"8/2020\",\"8/2020\",\"8/2020\",\"8/2020\",\"8/2020\",\"8/2020\",\"8/2020\",\"8/2020\",\"8/2020\",\"8/2020\",\"8/2020\",\"8/2020\",\"9/2020\",\"9/2020\",\"9/2020\",\"9/2020\",\"9/2020\",\"9/2020\",\"9/2020\",\"9/2020\",\"9/2020\",\"9/2020\",\"9/2020\",\"9/2020\",\"9/2020\",\"9/2020\",\"9/2020\",\"9/2020\",\"9/2020\",\"9/2020\",\"9/2020\",\"9/2020\",\"9/2020\",\"9/2020\",\"9/2020\",\"9/2020\",\"9/2020\",\"9/2020\",\"10/2020\",\"10/2020\",\"10/2020\",\"10/2020\",\"10/2020\",\"10/2020\",\"10/2020\",\"10/2020\",\"10/2020\",\"10/2020\",\"10/2020\",\"10/2020\",\"10/2020\",\"10/2020\",\"10/2020\",\"10/2020\",\"10/2020\",\"10/2020\",\"10/2020\",\"10/2020\",\"10/2020\",\"10/2020\",\"10/2020\",\"10/2020\",\"10/2020\",\"10/2020\",\"11/2020\",\"11/2020\",\"11/2020\",\"11/2020\",\"11/2020\",\"11/2020\",\"11/2020\",\"11/2020\",\"11/2020\",\"11/2020\",\"11/2020\",\"11/2020\",\"11/2020\",\"11/2020\",\"11/2020\",\"11/2020\",\"11/2020\",\"11/2020\",\"11/2020\",\"11/2020\",\"11/2020\",\"11/2020\",\"11/2020\",\"11/2020\",\"11/2020\",\"11/2020\",\"12/2020\",\"12/2020\",\"12/2020\",\"12/2020\",\"12/2020\",\"12/2020\",\"12/2020\",\"12/2020\",\"12/2020\",\"12/2020\",\"12/2020\",\"12/2020\",\"12/2020\",\"12/2020\",\"12/2020\",\"12/2020\",\"12/2020\",\"12/2020\",\"12/2020\",\"12/2020\",\"12/2020\",\"12/2020\",\"12/2020\",\"12/2020\",\"12/2020\",\"12/2020\"],\"xaxis\":\"x\",\"y\":[12570.33516482565,21117.677616113,4608.475608698248,3548.824313487963,1274.3042424924377,2563.234753992524,7269.645262823623,978.7791866420222,6889.281519756252,35135.42372445665,4531.650664387073,3002.121985887168,3095.243361407752,8638.487624583227,1839.3019889554732,9351.455463342709,28782.33733910697,12464.187576993509,794.7953323639556,6024.619626037589,19071.721893994632,2524.3829363240948,5073.801881820088,21333.948981615355,2765.696584676268,3800.764336703208,11569.168746227244,14148.847242238802,2481.239799272594,2257.4184447549983,800.5953041385278,1610.972773486371,6100.345013847099,798.1614097027026,5187.888207364945,18886.145424442548,2599.2019239483448,2503.42448256409,2836.661678764522,5488.305112268448,1750.533457312333,6795.4119966580765,15883.203347018489,9508.955133591831,654.9265777292441,2845.917909972554,12896.76775552564,1669.365456690536,2803.293879523544,10646.986516076116,2603.354879113791,3644.792182554689,13616.8122044598,21809.21258544121,2510.3827366736696,2684.100101615782,1303.8118460167354,1712.984300622133,5776.301309904393,939.93355534661,5091.573764741036,19379.173697045582,2652.642992278664,2675.949780115857,3268.1565312351554,6181.359797444294,1891.1762303096648,7244.239390487725,15616.116393080738,9328.29202259509,779.7365161434423,3381.4754796368934,12986.853259978878,1799.663914667708,4992.508931104383,10703.737896107394,2723.3989528777147,3138.289991626687,11884.3708810225,14666.648452787058,5702.977467206088,3730.879394146397,950.3807932318448,2426.958785957744,6140.177556904525,721.2349100055678,5155.590779497332,36827.308636809415,5328.9474010769445,2786.4571629151974,3170.0822966286514,5506.992105306143,2161.4932014463816,9454.16508521743,16016.8165370043,12739.559154420098,640.7033294712527,2741.5609260845717,19721.29520924103,1877.5790568487432,2474.653448478044,10858.77503799768,2974.565573558276,3490.3327030670007,13950.332334409886,22073.96834327236,2624.4638689243043,2819.0819584098613,1678.0123841572374,1683.8358998180686,5903.835055599359,1079.3780747088158,5290.43241319606,20069.46795874496,2909.234284068716,3128.706635387363,3410.444635352939,9655.480046141172,2039.6506692288324,7240.602653635093,15873.362399282336,9767.801439428877,933.646742271355,6416.617384950672,13109.995681683233,2139.103985230542,5178.493114290807,11725.184743865651,2855.5001728710577,3387.873183139042,12781.156535682429,15081.800889264958,2904.3543874980546,2837.419498813725,1135.4711806813089,1638.1935341614185,6433.593776473498,943.6724560571652,5287.688522790576,20120.860743416404,3027.392599627337,3176.465027249676,3308.764716265567,6099.064107676934,1995.788550900577,7427.02316402457,16485.820482195275,10029.987168519412,767.7496319267761,2640.936554718828,13483.753443086003,2113.257349141664,2574.7594281162,11603.32371256413,3136.002011197133,3166.3254055444795,14256.210023357236,22773.28538962259,6106.349980799305,3487.610233543152,2006.6754024423328,2595.972778633724,8483.858409968965,1393.7375419532532,6871.090744320063,38483.97139640246,5942.139961341719,3983.998672408426,3869.971926725639,6604.839868800407,2521.325907263466,9769.04446136464,31423.077206518697,13109.663294598477,1028.4875571511045,3250.496084662785,20410.22606929656,3274.5898991889417,5093.384821827152,23072.56079699,3777.540355280853,4126.733105150367,12887.711959877464,15000.432207664662,3251.7224587694177,3459.1288064810574,1089.4951039870402,1657.398064775481,6162.277205952788,1284.7572599457596,5274.067113247369,20509.229897859197,3128.0095004022173,3294.6788784884006,3406.9167007515885,5912.980759347758,2292.72446850998,7565.2934890842835,16769.284494474654,10519.598078392026,894.1696792767669,3129.93682761939,13893.958133949196,2311.442399811511,2432.7921109211725,12392.705173761997,3495.7961789993733,4128.047988582958,15038.574005789536,23234.166359140847,3419.9718141304384,3078.218834638357,1633.2582391858143,1467.4006898870743,6440.966108929286,1308.956439438229,5296.031548745387,20628.51410815115,3313.1820076976624,3525.007208811616,4223.593159666177,10030.167105142653,2258.867600238891,7517.687843264727,17008.497192626994,10536.761388812394,1311.274390470659,6878.07213684033,13994.207965447047,2339.3218581603223,5177.149641776594,11966.798669241694,3458.5074394860326,3809.224496340714,12626.48930557771,15378.82411129092,6813.42518734132,3441.8194279540403,1253.7993951259425,2547.060318244287,6719.253088727209,660.3604304190279,5337.57939300346,39664.171565171535,6482.54338203637,3747.7582945865233,3326.6365243236924,6603.605442720109,2863.560751446517,10076.490452557082,17475.028896373897,13933.485996320424,789.0234719039869,3324.949171174089,21212.8250746236,2346.1399420922007,2617.652461501248,11867.62938731905,3781.0471150002977,3766.606662496543,14611.291109090684,23957.63558170125,3494.66878199971,3362.517185501717,2068.214486290677,1661.2059910639246,6559.086157692054,1497.2955053352125,5293.900797323986,21267.16641154123,3599.6401544431146,3737.165556830969,4688.370953206527,6384.494956978787,2412.909612512716,7837.810498840694,17194.975051166588,10508.64295551052,1067.8695090740378,3471.7101917961727,14307.99289389082,2383.950837074064,5180.336505876818,12406.77046398652,3852.7810784308895,3778.417172448427,13194.81429999148,15995.07850814138,3270.510345905313,3070.839291533125,1137.6114909757632,1524.3283989410245,7038.889680584861,1267.465475399839,5217.70029632257,21285.026147636,3673.9317297986895,3860.9759484370015,3825.268397598486,6788.573433557915,2706.7594140752785,7868.235946965072,17368.973981866813,10749.492801952838,1027.614407154187,3343.501058632211,14449.957053689075,2428.3371317296924,2568.5074640386674,12212.709240667422,3934.555349330968,3632.4584789749583,14921.016215576235,24268.500690385397,7443.57181858997,4071.5603219128016,2048.907005588468,2362.7654126703696,8810.428604430877,1259.1666501193438,6834.2220588641785,40650.53952407614,7400.199763090898,4877.16152813085,4637.853532547076,10517.341560841243,3079.608791314376,10714.991024996403,33507.90025617468,14438.024612058003,1298.8021174586413,7251.503211945914,22046.66321847304,4294.35051395869,5095.068440109772,24649.825241604187,4500.204671883322,4088.3579133847866,13477.391456909943,16068.495021734529,3641.673219982702,2994.6460839599526,1313.4843751597373,1399.0143726371311,6938.086308919291,1087.6675942028714,5323.246285104585,21722.08733965375,4011.8728562786137,4215.416453503544,4269.247970350191,6635.07200557486,2940.962699238117,8207.201608459072,17928.207681859894,10948.494799075092,1048.5996691404955,3223.8729515376262,14963.590015487303,2764.953930252015,2744.0158165671032,12454.938925475291,4370.087580232002,3838.8145756638496,15409.211079596587,24576.62132537752,4021.427635518528,3994.356232386048,2366.4694162997034,1560.94372578787,6803.260300938074,1773.0416505296437,5333.235387603359,21969.8892639661,4111.221806181547,4360.704652908625,5031.663461360101,6909.571388254673,2738.882374643259,8566.19363776636,18145.401722324288,10755.05346631158,1397.1437920693163,3457.43518336219,14557.73469599602,2709.549498751277,5280.075061620732,11746.971252723455,4116.293707099352,3880.8315559276575,13999.215068692509,16300.386151208892,8348.644178439685,4014.038350110662,1452.6218168193068,2335.3135354175165,6830.6688915934965,1776.6989000018873,5294.487339364203,41794.33180519397,7969.994836500362,4455.563219955995,4360.12187020198,6550.819208178202,3328.2709061044307,10763.343691681734,18304.431525561773,14664.084114248784,1097.374897950331,4015.24342398819,22648.24451323668,2865.5820033355176,2553.263729262314,12233.703486969009,4595.223911735823,4191.791678840007,15597.436975845374,25113.74848097132,4150.078614360145,3454.509132359024,2810.343676439016,1754.324003475845,6899.58868055667,2287.068344695695,5146.202203738137,22273.30266459971,4357.623630962882,4608.900156986625,5377.223302344977,10105.250721178734,2877.0887619200284,8092.50548911982,18337.418730016685,11346.032229155717,1494.1086304705789,7183.122474177494,15179.32677207829,2983.420797675379,5049.245792423036,12519.15112068808,4679.9688464836045,4065.798428777436,14098.12497823274,16817.416014893486,4355.239448635111,3310.9628936958725,1638.778981581832,1507.0825123422762,7253.588313831384,1634.6856099322658,5459.521821283614,22649.21606885802,4400.784579766665,4743.842446184641,4349.795621350487,6564.2638062450405,3069.5389617756346,8234.34628838253,18071.966184168847,11514.34767593354,1130.747247093709,3935.01218068628,14892.447606617812,3248.491396048028,2597.419151612775,12632.838500883829,4542.562638387267,4027.2479330894985,15596.818092478728,25623.761237100745,9036.561053070258,4378.396901575318,2523.3970322328914,2579.377622110653,9525.91538292775,2105.869975405798,7026.267883386081,42480.90525093652,8374.814323223338,5854.390633422644,5622.4662048740565,6678.18066474327,3558.590551395837,11561.078655118888,34850.52679640069,14981.401970445131,1422.7256000754874,3135.933925695745,22810.92503572541,4922.316906162289,5050.776584498258,26488.09989901295,5411.761236978869,4198.735782175485,14941.69403166363,17102.215521495058,4739.658333099762,3503.897692290492,1326.066334825803,1572.9291727369036,7677.266092561142,1412.36276034837,5264.637555709597,22837.31347916948,4814.462474124544,4840.281723705904,5002.747039029065,7019.054579391529,3266.649290484016,8529.495607519017,18639.887006699017,11390.20420060749,1024.1129112030103,3192.307255325205,15442.725398246546,3081.4037407670485,2522.938379405281,14139.632759745606,4764.227621272647,3892.8454184503858,15715.347212025836,26119.41530005545,4892.199762220778,3243.031032669519,2896.0020165084165,1777.2344195479875,6098.706487334629,1926.2015223243295,5132.430562116658,22914.145657859324,4650.103014265089,5051.822295385051,6207.3944628424815,10975.409815186516,3190.727963611546,8411.980511238566,18582.10927883427,11103.198059304666,1681.394036269348,7359.911594662183,15279.966216956636,3346.45807622354,5164.075657687119,13585.456878860374,5150.978907567753,4101.57550351417,14181.212141927936,17036.85547981773,10211.72582972409,5134.437799508121,1237.662482468655,2712.863253516392,7490.698786931217,1779.329630945439,5416.418912006311,43525.78939547571,9416.979052023353,5242.041310251991,5385.57382653069,6792.996115257909,3980.44701557074,11335.257912434136,18573.525493453908,14929.099485302952,1159.898659522121,3841.041558411629,23386.59176467089,3367.8692864829877,2406.556058221343,13658.11780647844,4883.654362342017,3938.081125181061,16282.0980055455,26088.84708792054,5145.440719677589,3146.712492692457,2753.027019838957,1567.7099628177552,7205.08208271074,1706.683339990209,5263.220628514563,23044.93865589303,5037.847467937794,5249.865563594466,6523.326281509988,7243.5769501090035,3382.069629317132,8596.040728231794,19073.995580952425,11865.427967171256,1678.1264838953189,3724.18131914366,15848.11170313156,3387.623162644478,5168.412682538909,13341.902079435256,4687.593271333148,4159.883414503881,14650.929410064906,17788.888000432322,4942.4059116326425,2640.5818555044507,1382.706067807693,1532.4302152195528,7453.555647507734,1648.685304963714,5117.458407707308,23407.72164668387,5156.067789314781,5369.621999855835,5257.5085552806495,6867.279824106147,3341.198931446299,8480.521355585795,19441.915760674998,11931.466140710678,1360.582965027926,3717.730454292716,15581.489525524285,3500.9567301535376,2612.3586217682446,13511.101320311,5398.179958479577,4022.137478979551,16433.209008286325,26144.79873441248,10229.17914491051,4450.598320502359,2850.174559105286,2545.375457794713,9424.92966988591,2232.1741075544605,6677.314929574785,44286.84946910607,9942.019622108077,6579.975334629107,6277.361660776405,11350.477147787684,4252.937565300151,11351.609297912131,36373.862241024166,15576.53305828254,1800.2030938007565,7309.815093499558,24166.449919615043,5719.65358779599,5250.677168577238,27087.87085675956,6648.664071436342,4516.224111990874,15400.579033515967,17703.263257793278,5379.26204270311,3307.466632251549,1960.1046859586036,1395.205038654134,6707.075940147598,1898.280494790248,5486.287706156741,23263.79005903114,5458.154977535975,5744.800595180385,5471.264287381973,6966.717776693901,3578.4927116335302,8711.111369092085,19210.604318039976,11865.893307376697,1588.8602340957448,4284.766656008044,16096.61954566044,3809.175853697616,2768.9082390770404,13384.276140609973,5584.728283988533,4012.6086063384623,16756.981262857273,26938.904716617748,5358.540880101503,2911.4376351035435,3410.29738846655,1554.636437673326,7352.181176443925,2144.324747151002,5197.17558369903,23790.582940351334,5768.382809581966,5767.376519445342,7190.977225490429,7506.14398611671,3895.862860962287,8679.128116395954,19210.235192473552,12121.462038523625,1788.6854850776183,3603.266331184813,16522.343369500217,3662.192878737948,5213.273615684532,13498.474133006404,5717.903462271249,4272.253569066881,15128.148250492244,17984.975183911338,10894.457644872644,4208.29415179289,1827.7317061871383,2488.5583237208907,7029.803559408796,2110.6836418808107,5401.6877270715895,45396.10461413354,10789.28934003462,5784.454994246089,5581.4336732253305,7758.430058536594,4869.940615695287,11441.46250715683,19378.36419599742,15578.605326478517,1461.853224764213,3612.084313170029,24512.30875652457,3636.2571703018266,2538.087291282011,13664.08167637981,6110.100406930833,4335.13469381034,17523.979943307248,27059.37231372461,6032.562221690929,3359.9290553696305,3293.2067083749407,1515.5836563986877,8325.831165405045,2164.629059317429,5399.640831756621,24089.499135518163,5653.467063431501,6045.038289169614,7228.494536313054,11270.051400347542,3935.417835475519,9053.350918816472,19495.208347830863,12076.228027084777,1795.6558696474438,7565.166327773939,16359.733040114435,3569.655966040324,5349.837509859767,14599.574676565877,6025.867357394316,3863.079349641212,15413.044691473402,18044.151838862854,5904.815705696214,2756.1198530533006,1433.5673619438985,1579.4212061893306,7398.00721890462,2364.239071158243,5272.934551928351,24258.879785161356,5735.687491543252,6545.636762693564,5876.610301461517,7302.9442887680925,3858.333489167873,8895.315178324594,19794.95845209557,12455.964422086494,1556.9012020743694,4165.130320635531,16487.707410750452,4166.715625643991,2497.521220609476,14270.171278272026,6102.552412827033,4268.947591744284,16366.26437701746,27241.986317541105,11272.376984196077,4415.906900403151,3241.7291312157736,2384.595457169421,9929.207383216271,2604.963693024797,7017.727634587123,45958.74684896434,11432.609353501875,7601.528553175096,7409.4036825228495,7229.091491000864,4759.884145326925,11993.295799849831,37920.50322914093,16035.764173307349,2033.4450518023516,3530.28843563395,25040.680978623222,6386.737075451699,5189.218312302112,27838.397513307547,7176.327538197429,4865.121569600091,14568.470958551738,18164.623124352827,5769.177367625025,3382.6149295615364,1971.8012817602569,1486.5469586295706,8382.286375240305,2593.9333278775466,5345.720414550057,24768.37384155927,6352.524990280186,6303.266730019039,6463.646951230437,7542.807015060333,3967.513701029272,9066.752442797271,20368.017383016417,12029.087235416016,1639.4354098892568,4042.602948532268,16394.29794355376,4186.293732851036,2511.59585107748,14645.642744254008,6578.104525384864,4381.965832670286,16901.11154186154,28004.07786226959,6252.936722382958,3892.341134660084,3236.7503494545394,1778.715776473715,7154.638575082019,2693.3774266417768,5173.364895283418,24657.421537730817,6045.871299463199,6398.566525624588,7569.316114679426,10942.34137656464,4212.883562988265,9236.468400292331,20255.557947388108,12070.74623049415,1888.8984191624727,7559.080654732112,16315.942709916377,4269.795443529434,5282.980117344726,13912.868335516509,6612.429514085092,4489.585242552457,14659.021365286097,18206.861338578783,12244.804627338235,5145.730178136921,1393.3045386053554,2454.724931475718,7690.262408684619,2142.579165607648,5350.058924306557,46735.87807596621,11788.979988266796,6592.25913296521,6937.876272256395,7767.081418191473,5127.49998544058,11862.672463128849,20184.71795977577,16185.98496245438,1649.5842793500278,3918.417066846715,24832.166400619662,4418.694285107374,2522.621287709333,14591.678299543011,6124.294939880585,4185.158793575475,16494.903960781197,27967.23804317598,6687.5225153634365,3634.487194814108,3683.700760417799,1623.398809857504,7253.343650735884,2867.5285589973623,5432.736974730397,24713.54602365316,6565.840798381379,6697.327769660591,8203.117813120094,7137.56647862643,4500.825446868836,9252.951909758607,20317.63647626253,12711.118979844716,1992.264566416622,4332.817302356803,16878.814374208654,4301.899590496085,5166.543075174605,14276.164015674263,7142.788240636414,4532.343553231094,15398.721298130027,18705.448528628403,6789.189655283768,3752.8675069196192,1835.7124757852648,1492.0789230228168,7435.22236298798,2411.9788035659344,5224.421732088303,24606.69895778924,6669.346644633426,6940.112445066072,6729.293102380892,7823.887467450435,4679.981936312087,9450.46198290188,20465.582411650765,12650.103221359946,1339.202824778253,3417.5985281102685,17255.578540229122,4580.232355034073,2634.58867739942,14283.67109247156,7036.296210931626,4427.129524049371,17938.090871773184,28260.81579239192,13073.839636744446,4283.429263887683,4161.788062970031,2368.60230864548,9825.07888853269,3192.6991455378634,7111.0100054898585,47272.23182022791,12524.315306538852,8761.686928541581,7969.821662547985,10919.082036586546,5585.11881668649,12205.897932790238,38503.37988669981,16753.240684772216,2453.222896612145,8078.183968650913,25111.19610557067,7259.297528766969,5088.654638065924,29059.12844939608,7822.289333971615,4630.356273545548,15850.35787113158,18903.050733356224,6246.5770362298845,3372.5316719328503,1745.131647418784,1746.406229148958,7684.906002501223,2142.502908511049,5342.472374389022,25120.932923294426,6757.186740450687,7089.689799720141,7651.946402125028,7455.67639457806,4569.678726768857,9323.058900305585,20436.9495938783,12369.505700682554,1615.5920102251107,3838.9037448760578,17149.414779583065,4542.645761037664,2409.2131100792376,14534.091675864647,6483.436848944222,4115.883873792636,18236.778754419985,28609.829265631222,7084.560473486346,3932.2854399616695,3754.375867959236,1583.0766478169332,8110.762563503879,3093.4965217629183,5343.18013099727,25423.71785058237,6684.280453783912,6990.382506153072,8705.651934053209,7552.751433205327,4513.678721641641,9243.463387523658,20445.597313369337,13050.245231235182,2540.001618113248,4556.702252422996,16853.896047987684,4453.116194369886,4974.458544479776,14301.652082760256,7114.113521642803,4846.559275661793,15956.750789202086,18903.05411100366,13458.207835147472,4831.504997129767,2132.3494423862867,2705.932253841738,8343.15386339396,2649.363003050505,5288.322570951505,48071.5746566126,13312.212620933424,7243.166504421594,7351.85503404209,7462.098983243243,5833.23051371558,12417.013853843077,21049.12114918769,16659.3458707677,1892.862498089092,3454.257092394503,26207.795534290475,4624.40086390029,2444.020291097896,15303.031603103744,7307.649325386228,4741.492382229005,17401.696472111977,28673.704978964342,6691.998753364179,3859.536309977874,4562.363483884078,1509.364181796732,7474.767703683031,2396.889558461147,5354.766955029217,25707.398992136805,7283.6788081327795,7607.542434324288,8903.85045403843,11665.44399149743,4940.071219190515,9797.187045607983,20905.515907659912,12376.45879799368,2524.869652297658,8398.027298858873,17029.846997507142,5129.223840123155,5129.776821616253,15150.739238456395,8480.749003878656,4273.412911125867,15890.10321935092,19488.01314580364,7543.553564087305,3593.5339336090137,2242.6048491343786,1397.7982267839975,7551.036429299839,2339.46684306045,5213.625636843184,25844.0600347153,7142.092969872911,7613.649371037775,7852.758318453267,8564.175951310155,4992.615738977042,9542.857754359202,20981.95249399121,12598.97424232524,1918.8426410214252,4532.261388102978,17084.05009046441,5046.848849167386,2486.958388310043,15111.035726919848,7290.996132648062,4513.527415377364,17283.79073343649,28706.03770472574,14338.18965346766,4646.091853043638,4502.199731709246,2497.6337753784146,10734.65722879962,3502.6407289815525,6717.115121960011,48624.847367649,14190.387918958962,9471.9352422752,8595.036402085905,7798.622885428892,5830.169790020095,12728.096446700283,39693.06939134892,16755.665812484745,2634.990358224916,3638.119250461376,26320.784979705164,7796.570931252616,5067.98583003605,28789.39919405306,8851.635143546382,4880.210718081814,16302.509223010222,19433.067886250723,7738.698658548576,4625.464561520888,2083.657829866622,1551.9291160315831,7894.473349499521,3121.6640948456748,5246.813379867989,25740.406795458908,7714.5646466274675,8147.213236527149,7292.700834577177,8059.984973758543,5392.060607387329,9547.380567470109,21170.88982451137,12795.916390265364,1897.4164544838168,4342.235750914529,17353.17288550725,5097.681332705158,2734.2054823698527,14616.496438713471,8354.715458288796,4448.695566310522,17229.64501478726,29169.18222661803,7484.626811058884,3718.56549553625,4614.973094547411,1664.2982645510629,7674.705747701379,2928.9242029770994,5290.162423698194,26106.263898453148,7584.866640771307,8134.363317798303,9973.391999205694,11433.954157089074,5204.080782428127,9450.366350611714,21032.403601090624,13528.702013311857,2326.0320853541634,7980.060415615741,17486.36150530801,5364.5039418769775,5027.857336603962,14908.750166429463,8563.677752418982,4309.947048209249,16223.309276278227,19322.27766039738,14826.737783122666,5227.465251269801,1981.8703490480732,2384.300596862573,7761.896091340707,3377.841687816018,5296.683137366766,48877.234860460536,14854.223442510647,8468.351673176816,8249.34537500684,7947.019023643158,6301.93221809484,12884.158623480189,21319.990049676853,16823.680701915495,1817.636373441576,3209.66759583151,26058.792798754177,5389.359302733127,2465.036660785836,14858.13460361216,8342.089706221506,4734.898598209843,17796.223621100053,29182.900202616176,7765.543226545564,3957.21970907173,4939.500027761833,1525.3000480398764,7560.726256462021,2618.202451266375,5402.806249532654,25734.02358148551,8131.916926605108,8499.703600573323,9767.091151025135,8384.55821736708,5260.567083624263,9777.083744981846,21079.279005946966,13219.275399670423,2297.0349499188223,3621.703701354128,17965.093392430106,5122.390796768135,5234.444763577894,15289.90438963856,8608.071561180253,4611.39199666159,16344.001270241426,20065.63708918201,7277.981985433507,3807.509862478889,2561.7962314275937,1421.9294936621582,8234.44374310272,2544.3121344133,5364.982425534829,26449.45007628437,7916.721083675309,8544.51801038697,8201.380484048736,7898.95706198436,5456.943082428604,9663.877340052406,21377.509879916342,13086.790519745868,1965.3494114137748,3987.206877589448,17650.70108087524,5379.660909415982,2470.8821977122016,15528.145152087753,8013.017139307836,4857.699601644062,17782.006164552513,29857.18724976628,16369.556762796194,5213.008364719943,4931.390705015629,2597.181883042121,11355.712181803518,3694.246459043948,7084.323562063829,49733.880249710586,15392.429401220716,10319.842158314625,9890.710908352192,12103.16871488054,6360.621095437422,12874.909750298091,40560.39131946943,17066.14905325563,2533.195300385083,8616.858360583294,26692.310469175696,8797.271395752554,5163.305994948234,31105.90407559484,9696.533308566322,5030.005402641954,16326.588260101846,19889.01994787612,8262.278373973892,3730.703024665544,2824.294876590924,1639.0626700451598,7993.286669498183,2432.227668019133,5149.874505502821,26614.348680340507,8102.896429676695,8532.859129958386,8535.009589637903,8132.589149986576,5203.662488071774,9601.69723422418,21610.341278969987,13269.1737074051,1793.7725962276263,4179.467988831306,17489.886920525743,5501.291058108628,2448.761448570616,15319.15365521362,8802.398698775241,4992.7425701127095,18253.569321985724,29262.627619823405,7983.639483640426,3509.5098353242174,4612.113596158946,1658.0677259633214,7918.245841154088,3620.893375229477,5200.189609448369,26435.738831047853,8609.519484860219,8672.006515149767,10246.287803128864,7650.557235368745,5914.287330718658,9625.97758254928,21276.95375600468,13145.0106980371,2720.799070784843,4080.537369600841,17841.9579807301,5502.10493053552,4961.648955230526,14955.71702562457,8383.560202543138,4152.669286132537,16818.12312918114,20077.0675003624,16186.442533530382,4415.766461237968,1833.5203149373476,2503.522933806621,7328.033903134191,3038.9552876125745,5228.228566576898,50334.16454729435,16095.52847379874,9175.867805969869,8063.213147187605,8154.458069646378,7042.409276411751,12793.756200906531,21511.307007604595,17642.41862175927,2101.621096870773,4238.526384654865,26808.536797816985,6338.906082589584,2523.256377219836,15602.026255251296,9045.433558684052,4456.877813821788,18554.33980878632,29605.616278654317,8441.136438453079,4880.314253329477,4403.657809233198,1646.5078338070537,8052.924432626602,3353.8297405431103,5059.222263163132,26739.048397921808,8890.412136849554,8915.718715142744,10857.823663559708,12447.69752288913,6224.63224369325,9952.464927110945,21730.859132801397,13441.440197127296,2901.626471604213,8164.995924723618,17613.886959688218,5951.204411526013,5043.704014639598,14894.097858205025,9571.541743209613,4789.405167443134,16900.704327264033,20329.16823787175,8625.372244784168,3667.1182531717386,2459.9992163072834,1549.4491181262365,8491.105394366725,2632.2179756884934,5272.876930620694,26603.13809690279,9408.75407849416,9234.238495976671,9271.270868182271,7947.579293547807,5846.903139668371,9691.009672348524,21957.552759159145,13250.181966159702,2230.1355212525013,3535.7582311960714,17829.95926941604,6175.148753344832,2544.2943969467688,15650.749998506077,9411.323076667912,4777.919109713236,18479.00603218699,30284.52638495199,17174.78290447348,5498.141234329443,4609.060715012412,2389.7641769399715,11061.220569597735,3947.992099703972,7131.966410020247,50762.41795524968,17029.564324873194,11287.678422259876,11376.820042347965,8764.178778766827,7389.606758873795,13075.200160332235,41277.62190395214,17659.823600415803,2928.832292695236,4177.706913049082,27125.629777495556,9230.276124367869,5072.526252868811,30906.97580270874,11046.66517773598,5261.139067130336,17042.963875823145,20208.802654713247,8420.921397936772,3506.639768488896,3062.814433883699,1624.483378789614,8169.215310548448,3295.0781776608537,5302.377760341311,27003.78423268629,9338.516012595315,9652.721174126727,9587.294366264345,7866.719807272035,6554.157050196312,10086.490917719286,21840.414593533955,13388.35420258469,2344.066617577,4026.310133054796,18002.350459038895,6214.9557040112,2532.8610315720466,15944.217489869214,9103.899607181262,4529.595856248127,18287.35559715585,30193.206145155284,9241.318684942027,3629.375572931327,5183.87801908387,1705.3673126744127,9011.441089123316,4082.167446408908,5193.971568715358,26867.51581608027,8904.781228759057,9463.14845094084,10578.353040242424,12717.6569722245,5921.944156311165,10231.182681023693,21996.672584637232,13495.179774187776,2980.3772370565043,7827.937044261334,17969.619132696833,5924.371852028717,5150.281395712493,16135.474791723283,9719.585901354942,4515.686675852533,17244.887842050513,20266.420179587163,18554.340121619567,5654.028175260683,3006.0966798124678,2324.85287784103,8038.24638110999,3472.4726874472785,5209.315102749849,51222.94055856895,17127.755701697868,9733.887393043056,9359.974663516135,8091.92912938524,7373.771793268513,13462.232633056292,22068.591067727783,18013.25040786892,2341.532932500519,4925.681148416563,27374.988727706703,5870.435615313727,2595.47719004446,15426.12556989663,10173.71659528973,4925.29296895754,18822.494484753846,30202.25330332604,8941.250560072724,3408.5721186404435,5129.9825813381,1502.474914065451,7436.771510390142,3638.8776469043432,5307.928878600051,26915.51618158949,9313.71306928555,9803.380073015478,11622.463098065484,8604.800747624371,6826.787130000109,9719.832081123572,21853.103545853974,13584.000719899068,3169.3000524042486,4842.744550028096,18415.235167708684,6472.869840917489,5229.246559568554,15968.100636474564,9260.394034849114,5241.800836905066,17603.725932131478,19917.5552704197,9596.472825125533,3283.728912264678,3620.157208805155,1404.9329830277522,8767.856709178099,3581.012446611204,5264.121538892258,27194.680201972245,9256.699587162218,9831.34388006328,10203.670740538966,8638.14724180438,6208.677545083057,10031.051576091466,22272.53150219082,13863.523065115542,1958.3355618967548,4049.974268637321,18050.154640891757,6451.650021480685,2568.796790559918,15431.728706742702,9902.04750796781,4567.14192728638,18766.104076650663,30638.36925138456,18876.439598201763,5667.231837774435,5499.913176679888,2419.6151049625832,11028.658383364793,3844.445364763056,7065.216657515989,51570.83483862476,18522.0357695082,12191.2463443073,11683.747646729906,12733.246501709003,7771.46466825387,13462.307845011894,42005.00571187195,18006.095652031625,2976.865942449411,8037.507473116352,27804.14638954769,10370.095442301292,4987.770590867878,30964.16304993921,11101.685081603411,5133.888484873404,17170.12649068024,20981.328174423405,10596.72853317591,3808.138254149797,3712.027442416731,1701.6571365279804,8383.517679251354,2746.4962594166923,5130.419201184757,27203.122158209517,9777.155723874135,10479.974430702036,9358.747000368,8785.975630968018,6719.479942629046,10097.594046543409,22678.9205603442,13507.083895433228,2218.347687123457,4391.229023439884,18216.61514933868,6680.874119823332,2636.8145493597426,16398.963048613317,9376.373911290208,4429.086363220078,19632.147600450644,30576.53333467577,10222.478576418547,3397.1620245559275,6078.967882559618,1678.5569589491452,7863.501455835783,4687.996692761753,5139.133278981005,27371.428270139397,9975.94835600894,10530.415199080113,12124.903770832309,9391.145347022328,7036.861304667571,9692.23740570593,22012.212410551743,13464.815251871163,3514.474371319258,4268.914265853891,18502.374619190497,7001.575554314552,5090.857655730458,15994.637705592011,10221.86350647309,4313.279369997341,16856.921979192426,20981.709491457183,19718.4935951444,4471.2615884923525,2633.319814811837,2514.009443890038,8251.103750629605,3364.9986015480504,5200.731277706524,51748.6586342868,18638.290138180604,10761.311242646849,9990.916440174731,7899.953736995602,7835.4650350838865,13558.763360571204,22208.80703369013,18240.730409583703,2627.8709900709705,4582.189498987647,27778.646228357666,7118.140841563727,2581.199188667868,16339.509336589032,10420.820273967098,5048.860597152854,18854.690380403008,31279.934598867687,9736.53156791222,3844.177690203981,6008.84502099091,1644.1697445886157,8871.971589776878,4789.958135648739,5253.774924086375,27448.03986475434,10221.029342903536,10556.092401583615,12756.78457563853,13130.729957697236,7183.08299523103,10140.936301383996,22528.3903987263,13585.441560161798,3806.676531696688,8483.237470483822,18648.16502018938,6887.331369728846,5005.7479794884985,15443.272774052204,10853.5492994031,4750.729205636583,17880.884218985302,20667.95301679169,9462.06707547841,3550.75303445198,3501.3594867052216,1444.9481952504707,7569.048173729595,4628.761314864204,5047.141407617207,27854.942066318035,10393.732689684646,11245.111710395218,10440.206047806836,8953.626848570892,6764.683086505507,9814.82341034109,22412.043976586872,13887.100519142285,2871.663754721716,4283.183186632975,18550.16472252726,6987.376547594382,2555.6447164354126,15935.99388346854,10117.510925956936,4705.564090540323,19087.480847049384,31209.636231632983,20646.0702280297,4518.046883705969,5817.189628007814,2441.871530120744,11647.464051642544,4189.157926811097,7037.684150011328,52207.47887357695,19099.81409218957,12854.257970593457,12212.32968960051,8468.832959803678,8628.9310284087,13466.712710235284,42928.39112869125,18247.303493330484,3557.810625970539,4192.394833868723,28204.503416484364,10826.141207346527,5127.590203523539,32587.04534921329,12822.04772510562,5705.419941908876,18196.112254637803,21303.534566674334,10004.36540501204,3714.377616976316,3173.417533752631,1700.8980413849893,8777.686821219657,4786.239660870279,5335.056808359136,27769.761149317976,10676.806930830804,11033.80266460787,10167.526334097704,8150.791035322993,6809.643534451827,10310.19936168013,23111.38206346114,14154.096736132517,2919.103067915292,4473.881744489173,18832.19833003726,6948.824975041356,2635.4037962535317,16103.518205183733,10996.318379129088,5042.270303723506,19770.963054596545,31493.688881723523,9505.143860687707,3647.182626337069,5798.695526716554,1675.18837786962,9382.193064460973,4149.979760182711,5437.995318945658,28015.93756347897,10456.992393716951,11318.332061106266,13377.52114493859,12317.25856616442,7316.372349894044,10405.70164222321,22955.87126554969,14278.157463306066,3267.7730201183654,8445.671448576422,19085.33823183748,7165.323191103971,5176.222056152089,16908.888020607035,10627.098991256027,4638.493008186019,16488.739325030063,21249.979770542363,20922.560513121527,4666.307764031044,3165.36212604916,2669.6284530056914,9036.279894133491,2770.942620451628,5347.562475719899,52950.83443982092,20600.391123142967,10899.00992727595,10291.372109603666,8867.829297128053,9122.922978269846,13712.315238421525,22568.846487636947,18663.74597736565,2645.1735810276555,4676.139569213185,28456.302895112665,7236.8540028663165,2497.3517896983853,16135.39243885421,11190.57294643881,4652.345859928066,19699.01989730995,31568.60824276213,11674.269635614128,3961.773214841179,7600.02856646402,1744.4322471566838,8907.676144482804,4354.155933243397,5319.206920389736,27755.149958453327,10574.140873170729,11456.71050683158,13921.625157588433,8494.09320838251,7563.114125409043,10315.144002624287,22652.0690132422,14290.601136381028,4188.288556326348,3731.675326903675,19385.283353102404,7541.672820761459,5283.003458635463,16131.6223926532,9983.036907281044,4737.379214623481,17194.707087425755,21033.90015077379,10331.325613360075,4232.30352278248,2450.222236368535,1637.959944325376,8588.329162926164,4737.586763075103,5213.318523149444,28207.25525837237,11037.08942878614,11149.277687786123,11784.24007673659,8789.353347176571,7497.892927274965,10567.55020850094,22730.212649331526,13753.803682710706,2941.3788264832137,4317.811142842744,19459.39721007632,7451.77277923886,2534.98090332678,16413.387716053378,11359.845143762494,4827.184135325398,19372.65790157132,31992.332891824222,21592.03445127988,5048.870920780209,6705.959307712129,2502.156622744417,11129.13970813982,4494.649153304881,6919.724009585624,53326.628946791294,20722.44453281759,14222.981723159392,12807.033916162269,13632.62577267552,8771.656873539865,13655.26268113398,43616.08811667288,18286.37898998053,3903.371331847799,9030.215520361842,28675.696641273043,12190.438985545745,5188.98094931471,33368.51951281168,12409.367331340618,5447.910910442231,17715.24432224015,21274.052935227024,11262.340825261168,4375.622450076138,3754.205147646169,1658.269021960726,8703.541352031707,3479.524725074114,5358.8415284285,27833.361785689274,11538.123387589603,11825.119889722844,11634.50109504202,8696.734751795912,7624.706211719263,10329.200583232696,22975.043482420424,14143.246991023494,3006.8554190333266,4039.390547457401,19007.9812253471,7369.606179222477,2549.8981943158287,16332.853277119086,10924.152495303522,4865.867852998029,19227.53144133251,31517.27761218868,10820.11432466245,3497.777811500884,5828.3169435339305,1753.5651539804776,8637.452926966711,5089.951444379826,5497.012697433969,28245.80140481736,11091.589890884792,12461.676316686428,14124.589921695066,8681.4543308068,7388.919654608788,10280.638773802564,22944.109576530307,14019.909344520383,3661.2048523971785,4658.594065197735,19407.33710284564,7753.0935856850365,5107.8627121361615,16572.228003837306,11054.76908931273,5047.847797733182,17691.136252909622,21315.24825753035,22388.106005181864,5802.354335629403,3736.808876694779,2279.672495844,9480.618596334029,4188.042364705365,5313.181412144186,53349.72347498469,22057.795943256355,12030.55014450598,11973.019353529422,9611.649048646,9222.165333796602,13904.002833583305,22868.494156670327,18350.581912789537,2788.743387515578,4582.986821414505,29073.86933860671,8063.146314585409,2645.599309874295,16635.81552516696,12242.655406009631,4894.781081186405,20114.53450629712,31612.14456920161,10704.207752356808,4284.287809383334,6811.197734035745,1445.924572021518,8682.220115463326,4706.548936300735,5189.479265933245,28371.51892473557,11145.203837261275,11681.98880956566,15094.403613426988,12851.185187114212,8289.28197042604,10682.437811810352,23402.25000674294,13863.298912367072,3601.261861860031,9464.83610061906,19426.04722457177,7606.201862631515,5143.786530165817,16425.445268957563,11750.889084242444,5212.849719371506,17926.252604903035,21115.79703145205,11133.419613906875,4418.925448884399,3523.1821743434903,1747.4390471431411,8701.350215662658,4402.023628458544,5295.793647644161,28687.178267788284,11453.362791418012,11925.136085318252,11081.84524661331,9356.086268981642,7960.369735986907,10222.877120474,23232.815306849363,14364.268255833158,3179.057486191499,4553.471389530479,19258.61652539759,7844.25368731736,2513.56944123674,16886.565122984757,11887.46408565902,5115.694091494919,19880.02532889845,31924.7759036617,23099.12817118352,5694.821142289186,6238.008651552434,2304.04843901654,11748.932598659288,4323.412950185647,6980.562758800565,53589.74689990198,22189.103753306263,14944.17854292976,14580.676209421868,8828.39802928424,9926.183693637158,14191.370990733429,43816.82550621721,19044.79406951412,3961.245995662041,4603.157207594214,29219.583902640446,12980.21919074718,5113.582058134621,34019.29869499753,13028.653501459918,6131.896655519842,16690.02893115867,21227.92010640297,12237.807187534896,4044.059012725442,4032.5615441234713,1570.1396977462027,9115.389441542227,3347.135745975305,5241.103250640562,28040.257229102604,11898.678730813352,12442.593528687874,11864.505176340032,8718.243749595304,7675.901566998939,10969.627336740674,23715.17572488735,14184.632730538811,2738.644390140227,4980.226274691501,18984.37264529764,8663.78089940136,2608.337907315482,16636.7071203289,11992.846192370833,4688.174260228994,19928.02694695529,32245.847980597468,10663.300388264224,4458.200637393069,6916.624647168611,1495.215158631535,9617.698141840656,6518.469911541806,5155.670411019654,28846.177744034438,11991.167074349114,12538.745939062304,14206.954559207436,13867.681070643011,8473.654637090516,10224.586423993156,23403.55241676449,14219.938135244336,4168.07016521158,9262.524781753884,19408.9414946885,8321.795494179662,5120.489820585007,17186.09597351036,12974.785704642329,5203.476952400883,18553.766165315024,21540.296241521315,23263.66185802904,5978.42323546946,4254.839075695851,2360.1023582591265,9300.03092064232,4053.300329123027,5205.218995208075,54106.33950565147,23338.62829043659,12869.37579250738,12111.615785346332,8283.981991921475,10178.993709925584,13848.477587109051,22967.95237166709,19075.015375369952,3342.7395135091338,4312.800241525601,29371.8915196165,8018.330042693227,2457.058383448445,17163.314436143683,12522.272193043158,4837.631505366614,20547.154033981024,32460.688569482398,12481.910128951386,5185.308739300947,6868.43504140788,1537.852975906446,9761.230413198831,6377.234173304945,5340.477872439147,29124.60667149549,12121.105733143098,12988.709877960298,15614.608617326752,8700.111606789967,8089.022944877525,10935.461514869035,23483.87183491026,14331.778890634268,3630.858455456512,5002.813672051972,19553.78090084718,8688.570233914135,5078.7932265814325,16560.64844452255,12638.99647722669,5002.3505379440085,17301.11715078875,21542.440053274942,12824.27992738694,4740.5378498455,2923.166207692253,1626.744304289301,7971.03279831148,3781.27849810718,5233.542843566719,28623.18431016505,12690.768182430116,13439.786331469408,12705.983683272272,8913.572528727958,7913.265314835022,10947.583043153749,23666.800910715767,14195.26864740618,3191.607699380458,4285.576652488176,19423.00334979327,8620.59228973032,2469.8742432255053,16258.244170040223,13672.491763585978,4972.004147167168,19538.97650435099,32714.509920442502,23504.5577803722,5680.7616897491525,8330.601881181587,2314.957071938152,11374.420833405433,6363.317393337849,7113.46110000785,54821.58746856363,23877.13078975747,15733.694465621733,15097.405573628625,14282.254111154443,10293.405597332385,13940.5916554349,44238.412369501966,18894.452972740462,3715.812757760857,9660.083042395778,29249.595942224627,13779.755902105828,5100.005765175359,34503.43959436092,14695.73448932054,5985.550876979324,17902.44835514176,21557.567035475597,11661.324111116224,4275.2163057583175,3993.267374030993,1582.959744616398,8852.938180138332,5149.010005620979,5353.093411796494,29106.68568031198,13220.24582207794,12781.681062380554,13911.914913731513,8160.677205162608,8673.71512072241,11032.223458748284,23836.72551477667,14312.011915244651,3509.6655395042867,4338.623742926773,19212.160385611754,8706.63930545829,2554.483684492677,16919.932998240096,13447.26150586028,5411.343269706457,21269.577926886348,32633.274203859597,13612.05891262034,5059.322862212763,6719.326461052889,1713.2441620535935,8959.466519465466,5210.962073404824,5308.790569683941,29496.73701058003,12783.993386660632,13852.984739485662,15559.18431009418,9087.19556116772,8518.787447740766,10844.50245354019,23968.516892971908,14670.942091989467,4124.992355085282,5042.744584267712,19596.15857367639,8608.235797364518,5228.400319804025,16595.131237632053,12461.350916747637,4798.868279935525,18842.69654955895,21445.397104350373,25318.541026965904,5161.56752758907,3809.0936121830073,2489.7349413557727,9621.558917925047,4557.048462741694,5396.024185494294,54491.18624847828,24331.6657853887,13561.860312777631,13095.303893393708,8611.253985007772,10637.43131316598,14429.12377217684,23978.72557943123,19238.70027698729,2804.3160923469745,4923.171186338366,29587.20777926346,9161.960339504858,2877.8158125316536,16713.609326756163,13673.421866829238,5222.509539149797,20095.445399491346,32805.73915121556,13699.263889624814,4595.136476564117,7896.367934817204,1481.302480285019,8578.92354899088,5346.520992293757,5288.669558315835,28689.32740750067,12979.44723477742,14040.135509090622,15808.27529907558,14039.756082923474,8947.38779864036,11108.85547210874,23451.32086058472,14449.061985072614,4524.24305059827,9007.078156695396,19880.5315000172,8401.64724828967,4991.887323308368,17104.710235358234,14955.69222660656,5020.125512938264,17670.300576591326,21367.657411393506,12960.9931708761,4276.108492932125,3257.1512267132207,1493.4783093289984,9397.821788780384,4058.519017934189,5493.537341801717,29384.10527892096,12806.61587593011,13740.714848496364,13529.643031670836,8836.753457531519,8846.627849196813,10831.576012782529,23891.529870755967,14707.325560572755,3140.1741497567305,4970.919700649612,19830.22548242901,8857.914506674617,2542.709411507806,17494.79038808097,14491.664719547136,5099.7885999999735,20310.884287446843,32690.68099126102,26878.92250062248,5346.779449219394,6536.774754075104,2567.5476402364498,11772.817970687864,4960.096545293739,7029.40603300034,55213.40617551644,25007.86123839028,16789.263410327505,16399.86164392838,8961.214333145715,10617.757150394642,14049.63258385056,45275.91618464734,19323.913148436663,4239.929232283723,4137.28003229616,29537.01323233672,13568.913472411714,5166.84309516721,33536.334974082805,15158.113772503655,5905.2253986124615,18754.84178182952,21777.92365800605,13482.843235651711,3647.886215599032,4498.298962279942,1698.9782546325623,8766.79883844352,4577.624730359348,5294.444100335979,29259.69086980344,13884.250626704825,14098.726557223508,13163.37327762867,8671.038062603437,9268.74904171212,10946.885148494874,23719.041804175573,14826.740220496577,3711.076570384133,3907.6495282084966,19354.28764244013,9178.56435759351,2520.844442351201,17097.83319455206,13232.658560937363,5334.099874648558,20736.279238797026,32706.611329005664,11952.070456213089,3912.514845271988,7404.73638700555,1438.1317574001075,9655.753674749658,4887.26017101165,5273.575144122165,29416.47488431916,13698.11560426999,14633.835557380557,16366.71117035298,14149.426236398282,9604.194680692875,10828.173450507991,24324.56148255659,14493.679896209103,4368.7089766719255,9484.029854367667,19753.81660466946,9517.184817708036,5317.73560871215,17370.79062914022,12999.984120783916,4526.058631707399,18617.387584546323,22059.657389408785,26376.780070350265,5706.062336093309,4085.865655266301,2415.079097814704,9767.532310567914,5304.66455764658,5239.942543982232,55790.27093875329,25663.30204932751,14683.004166978108,14338.3493768504,9204.874039804025,10877.077608838645,14490.031311514018,24034.3424606952,19159.872729082843,3613.75202099732,4922.591259591749,29850.325945585777,9207.351845789435,2542.40118204503,17274.513905558786,15113.688159722751,4860.452089937832,20783.71123390676,33063.51731885885,12507.976454308126,4623.37049106734,9309.436536033216,1780.4629285654164,8801.25546574825,5644.141832191844,5221.675909544222,29386.809674048916,13454.612083423355,14126.849809182171,16967.096057810668,9126.996374661989,9364.7229594743,10780.840247047252,24310.09243095017,14320.422605371969,4455.558079850594,4170.351818564193,19886.7818260545,9831.265019337863,5227.897441012718,17359.37993350378,13568.640066715245,5210.512679163494,17470.755864944782,22485.004834778058,13187.545888400256,4550.628415575501,5260.7867762947535,1638.289141352731,8498.621431444826,5905.139928660323,5221.272941603265,29740.956130101866,13793.551976892317,14772.328983099862,15164.541118195884,8881.93889845347,9298.911413913978,11232.563793264364,23749.117059154207,14647.27753759686,3573.609431913349,4236.919409302725,20069.70269788895,9610.74572490294,2537.9494667073586,17137.541881732985,13809.517535922529,5108.811930964344,20523.579839792717,33361.90417508876,26354.66442939767,6042.628969541635,8347.766672436856,2408.614772997375,12866.251893088824,5007.310845933529,7093.989357226839,55800.62927637927,25920.60585906112,17460.122699020125,16697.63429646785,13086.1075440976,11200.571003921938,14412.68550663431,45741.87509612677,19698.966939034348,5166.265875739033,9492.102439580303,30047.138928106167,14538.12829008542,5110.6083898223615,34542.26874676817,16865.90839500912,5838.723569793824,18796.936905805047,21942.922096530223,13442.922136951544,4974.813601684725,4626.11725533662,1653.5954231791468,8798.252022949813,4082.9358325612848,5181.815732169214,29475.94691204156,14322.809483025389,15126.24241218367,13565.52292807793,8703.417253684684,9353.210950400462,10746.80367330508,24051.68102251573,15120.663855205852,3208.3594995793906,3727.38130741194,19931.300381114423,9510.396082820587,2547.332565697816,17405.1865518972,14904.984468613464,5222.390956550229,20028.582492587037,33343.929822851955,14314.491178869468,3874.426948450413,7825.578891882916,1737.4748703772188,8838.56768786951,5101.921499643986,5420.772414188089,29738.2418279052,14076.181194154444,14904.72490533319,17769.373644367908,9213.99882927096,9725.076147443244,11062.18588042592,23796.4244377349,15022.8297409779,5193.546685972968,4740.078833181155,20095.73734959617,10020.766350080306,5140.620559881531,16903.51635696099,14661.239559133906,5006.61854569858,18677.535295190337,22157.291248585705,27516.304657507,5572.181970445053,3888.726967109254,2403.9947707140504,8927.558678741183,5200.502349747603,5529.67687181183,56323.09747994518,27097.90984770132,14741.609924225257,15840.58257160466,9420.939068414104,11083.100286899216,14794.983737752842,24458.065880509257,19609.798123294284,3275.190667418925,4648.399266271323,30116.327411289065,9990.907448032014,2797.1320623623574,17369.265706346392,13952.974015571412,5349.76834260902,20048.1074217522,33560.82230059197,14062.505977579782,4216.415683392155,7921.993375896771,1605.412090020034,9358.47543448522,5618.64134792023,5201.632878850899,29719.20288127381,14508.193730931993,14969.16465509378,16688.43636226341,13064.191454769349,9295.37563602495,11399.233183581002,24407.34963766772,14350.93279973681,4733.366762485787,9659.988148116416,20098.14270494408,9567.619171885795,5161.3880413334255,17557.469745367467,15995.032772614026,5242.80666593387,18929.24861718753,22390.03415541074,13416.641896574289,4471.367153635137,4301.516038778211,1375.760370589628,8972.836084718992,5553.048438309521,5347.806787367972,29762.378348314905,14144.925148571812,15348.540399118529,14898.67125518344,10340.01144848482,10047.131169322029,11384.34824506152,24333.517252935624,15522.980531815389,3805.7649490237663,5088.815686205536,20396.65832247798,10005.822661095366,2550.7471492002933,16877.942692515433,16107.627495713195,5251.914963676854,20571.15590247796,33728.70034989938,28890.358202151507,6137.047797057237,8688.553346890832,2523.8508234589067,11983.178916230609,6482.422600322155,6905.2723660354695,56381.17851187134,27948.19449666304,18976.47835998232,18258.96351561719,8710.920574498927,12685.958622958897,14713.72885485834,45481.02854939266,19821.49490350753,4363.114910518569,4775.191774458541,29803.97454756251,15906.877068847338,5077.538773346318,34100.22707301945,15987.571337222404,5790.6009510006525,18207.204656231734,22528.862722968475,15898.807635535768,5020.298191627794,4404.707851277646,1673.3797280439178,8778.192054296567,5598.211262474357,5093.737912028113,29611.036686992116,14480.576012413056,15649.235738996957,16458.172855014403,8517.216228243664,9709.957812014734,10916.926707709188,24513.67917349447,15279.99978307533,3552.0187672325724,4584.597060141837,20608.927290100783,10386.64544087586,2576.6771142294783,17392.742011365885,14801.346030726225,5001.880035640284,20839.04289237627,33519.39859968394,14846.316044108657,5522.766484389439,8364.405220608147,1692.626690191718,9997.251862878013,5168.487705756899,5532.063561635589,29564.831482692603,14267.462366831223,16078.335018902006,18759.31748109142,13630.719166907236,9874.4923151872,10924.3324934541,24250.32872200932,15134.506450376664,5265.037736193189,9841.63087420815,20213.3064864954,10338.777156991311,5224.910228430231,17196.69293118698,16659.16250229726,5322.812320705375,18966.53298378622,22498.59648145321,28960.50959092568,5344.414781074436,4584.207344111032,2496.460200725084,8151.450529515069,4329.17933489682,5219.37436483173,56451.0644051144,28441.862790740284,16067.000390294865,16428.8179635965,9321.665194926283,12250.45824422847,15033.268663866667,24390.59030906041,19833.328752553592,3530.945180495658,4740.093548578099,30652.441750204947,11033.913747861165,2463.8977665476664,17039.396642304742,15927.40803831674,5094.437701588703,20909.977545252816,34152.991837813475,14944.842861920191,3798.755456104064,8687.839320123127,1586.3342725071384,10115.54212729407,6057.954335543737,5290.463112188376,30183.569970848574,15059.008192253328,15782.68396584632,18620.119244817,9112.382197210303,9893.76813472426,11164.786922176589,24379.015222168928,14888.135347622912,4962.327763096194,4511.902071590965,20176.20235013824,10191.965348202812,5194.844065820139,16913.647448757885,16924.747825598683,5596.940459896378,18589.807151786372,22512.02147565376,15246.232827164691,4139.898304658557,5546.783334109725,1500.9830950615617,9814.190546727064,5813.439303483402,5242.232242208466,29886.156018786656,15475.77472037084,16597.62281818996,15238.734530322228,9507.755518604468,10404.337495855949,10925.277103914354,24265.160687469608,15051.00102669432,3832.7104230444206,5212.038323534886,20294.50833371224,10182.601314697757,2527.7267415691863,18487.28361661932,16056.294221801192,5297.008188962457,21287.370122673103,34157.10344977998,30009.395642326253,6166.639832790537,9198.29268633091,2527.857046869068,12448.315386874374,5499.098440744998,7043.6506086159625,57262.52224044787,29053.43936886673,19582.39859117869,18737.170283706266,14274.503257722512,12080.018751080624,14848.864165949302,46808.24822353087,19506.933257250457,5451.658890306508,9577.010574280575,30917.38752498996,16610.106734386114,5062.527873613506,35241.640008209855,17853.73135036939,5988.827416636681,17987.976866769444,22511.601549076626,15141.148481983204,4097.144560628108,6427.153537656809,1628.7046595004174,8907.451742589152,5521.033255073339,5232.831159954338,30219.23913918735,15537.92460942372,16268.712402423078,16074.532579574194,8396.857325354427,10924.339395282976,11033.484549879213,25087.095091819403,14862.122127242716,3783.082758080148,4754.604335820307,20457.69796477622,9784.34879411622,2603.388649356898,16951.86705297686,15196.37566455743,5205.65819958417,21111.062684974822,34076.15161415718,14936.699964937025,4261.28999310139,10520.327229207289,1712.7228514541157,9207.720030285602,7663.461977957284,5066.6067234303855,29999.271426373925,14730.503751761678,16723.10732830066,19598.111080634942,9459.434091792124,9986.225519116097,10974.428916328665,24929.52856876368,15527.240580152577,4687.995133083315,4318.021726651405,20790.278259745948,10377.934407922794,4952.278815287511,17819.492559814847,17061.303144836747,5567.990521848764,18538.311320658097,22809.896272202048,29782.68043789873,5800.225450503015,3947.3635014336346,2441.1069334170384,9479.584156540115,4739.581531684106,5244.921644047897,57708.096709256126,30105.23997191323,16508.36341573272,15831.915347157375,8695.808534696804,12351.963321988002,14711.504077358812,24696.9951615917,20315.141741065265,4593.7120648014425,5134.932183164654,30813.059084662054,10648.136038032706,2695.064544821338,17813.638610923936,16141.27520610518,5125.212168087088,21797.26713239234,34012.862349864314,15869.895841705422,4347.066089087964,8949.944918695137,1486.3445864148714,9253.521132147376,7090.679074789319,5326.733057380028,30526.36249133485,16414.52498882137,16583.4310060206,18868.985842316968,14015.623893719989,10938.703048997711,11268.241531355974,25223.23001258524,15303.928798984796,5760.86051459088,10992.191867531454,20372.533427884053,10553.542834196349,5098.524340413446,18286.581901616075,16107.270369156897,5684.268386274116,18935.35277235507,22873.391860997333,16193.851052923848,5000.769531553826,5660.942642213307,1565.4299815069187,9281.622012316036,5044.2468507642725,5147.911919285302,30659.5939612964,16261.692058179942,16486.35347564516,15588.32886052123,9212.93435152677,10494.728936119784,11048.19154405131,24802.821406248066,15000.196707874991,3504.3071357003537,5366.049692501181,20492.29979693754,10641.45797220141,2446.912777215968,17913.90405521683,17904.5301803716,5170.962042485308,21331.37841983855,34213.73770385994,32258.007678984017,5982.654392363726,9007.18641680825,2503.3640079104707,12324.75803254686,7314.959443848221,7032.337573183972,57567.22445598617,30016.61908987104,19876.36391271006,19916.683560872887,9403.16538558817,13172.840144449903,14935.482415939356,47254.86670543083,20034.931162318528,4989.075621805456,4860.421017548299,30914.29517136651,17205.734413055892,5186.509055623021,35560.51228572861,19546.53253925881,5839.834617700698,18783.75961074272,22864.0381032142,16237.901217318002,4970.129153200156,3700.468679022497,1569.3917949829654,9710.188647930872,5414.828678523983,5195.364345800347,30784.07265219141,17188.42975303042,16904.01412479361,16334.993352276208,9128.10836819302,10864.49657655228,11079.143636876042,24582.206101148782,15166.87808804091,4134.184626377608,4579.819832720329,20728.36923801769,11285.165309277729,2694.123171183689,17879.622004301007,16517.095498940977,4839.5413819416935,22139.12337340894,34225.75017605288,14980.498597099211,4552.551336669425,10705.179706507635,1533.5995716200828,9214.19578321145,7833.809123999546,5312.112408101777,30558.46349710745,17361.872257081508,17488.173853111206,19885.61990688775,13908.895139765393,11335.6903459011,10843.431145359044,25080.16913076624,15093.974073876654,4811.814427879813,9714.367194588476,20875.142687192125,11227.954209258529,5249.678210955369,18021.93109310688,17441.3609782706,5123.367240242544,18553.79727063604,23066.72094540404,32850.87711173244,6498.322716317896,4631.319358987175,2578.590759612438,9375.209179115083,5576.410874954641,5354.053715784636,57884.81675371029,31037.64566618464,17102.469858223558,15859.649548712025,9307.447964371995,13853.243614984933,14897.87830158862,25107.03905103772,20327.229496861288,4281.325405548056,3539.082817074887,31287.472992194405,10541.882633120136,2355.190541770023,17658.425192951614,16904.795250586627,5597.321262778627,21579.50628438568,34521.670156263084,15751.092215035183,3327.802917033041,9248.23724304513,1735.100260819386,9672.171302094366,9310.922534079382,5293.822852019894,30714.990368308983,16478.519176850274,17735.91124814544,21314.821782805782,9237.594143664135,11061.365116151264,11071.938326200085,24969.25739169878,15738.516974439795,6034.444376677829,4581.225218235897,20688.854266215632,11379.687938695228,5187.218496609993,17975.04916127191,16124.21731290555,5495.937132012511,19726.43311123112,23013.575366189045,17389.557474622256,4208.804315632868,6504.018793861535,1476.623653447631,8859.764894205218,5693.166956634647,5364.037759922406,30725.28563725608,17177.27219531675,17798.48437454945,18148.469038111325,8293.274119691967,11455.898431780866,12030.021155608409,25039.833985530477,15588.852706248348,4366.671431875971,4987.798012881657,20705.90135817704,11048.354465984014,2473.2440872283887,17320.841054082583,17729.22384087571,5130.017780191238,21147.624131226225,34493.47039230622,32680.111494938752,4419.152227130292,9313.998911755956,2494.127575513367,11602.613826164008,6588.5269624291695,6918.9039380594295,58065.460220535584,32093.586096793555,20972.757416567267,21147.49305444648,14517.67409578234,13842.02396420988,15016.926497244143,47369.45203876258,20011.41765442329,5728.279070913403,9877.44785123169,31106.241098623348,18107.274186636976,5077.086481503478,35588.76701756581,18543.645236218184,5804.579686664598,19232.360491469408,23190.60673722152,15863.4519092252,4002.466209357965,4938.438331348682,1571.30950960133,9872.930478766011,5667.771582148801,5281.202858005775,31145.92471071318,16864.2101340532,17858.13986270995,16923.752714687897,9320.674060491485,10752.164798245498,11411.557581679042,25138.89656758051,15463.123085015037,3830.7476032245854,4008.0679947107496,20913.200354646917,11507.110101743709,2627.189353885972,17302.360083308176,17452.021367553578,5611.707137947379,21575.52105110441,34214.36922696948,17779.913056514593,4863.9192721356485,9494.20374387922,1399.0887526571832,9720.268882697188,8219.702103568525,5251.505065190991,30744.16665509255,16807.14392538477,17968.63465275052,22071.36851200374,8803.559832110934,11770.958515755505,11348.229018780385,25584.432806770343,15595.769741215368,5710.8724060730565,5321.051530269836,20633.186193442496,11187.530502216732,5044.990936708112,17161.217888638188,17611.07209964126,4589.080677621762,18856.1781102771,23032.458050104968,33954.0736288811,5742.5766040931,4728.792562110935,2381.4796997443486,9799.329353039646,3684.6944592493433,5415.271442579458,58290.59553545716,33118.34169195554,17744.291850987393,18751.207697237627,8489.000625079845,13873.036337055535,15459.960381532976,25603.34422189122,19883.56144019511,4537.274568817876,4714.269514211277,31499.001250603884,11878.772090557495,2661.2950380694188,17916.487559262296,16643.171465050516,5888.01486248326,20701.25067582265,34619.13470788374,16021.579607945205,4112.1374651276055,11148.302423894618,1620.3061878137407,10204.07040353848,8145.024878184738,5329.529070534968,30750.13935910739,17372.860016929455,17787.14177542655,21526.5412381272,14202.804574022295,11831.12649983734,10881.040399578183,25110.517530339053,15636.51367005621,5505.827686333179,10261.923113898418,20937.904092175693,11598.183009532506,5158.951592718034,18152.73104570068,17328.50108741168,5370.40391961834,19406.448559709923,23320.156589601906,17380.68720445964,4411.189933502525,4846.471956679778,1680.9672827972363,9284.53003128408,6292.9161031232925,5275.965645734338,30846.637515261496,17512.89644899591,18603.84520851885,16692.965925046006,9680.462940597075,11469.813634568372,11162.850791158022,25500.96292106522,15168.523337233906,4678.985799105796,5451.532550523561,20838.034930994912,12118.282809765506,2561.5084409301994,17963.333460014754,16972.040905757844,5195.5348187458685,22328.687162949856,34636.05664420948,34981.308139621375,5947.299162406393,10544.28997454633,2613.639142107313,12223.990068413985,6220.2222725352185,6828.068278249912,58703.34526096401,33101.57370956012,22099.681282921483,20309.26078588892,8637.046026730563,14990.843119863996,15492.64058329557,47761.6878753501,20551.28742436781,5857.321828277807,4873.24144853594,31517.07984058716,19303.605857327348,5073.970543638456,36572.77779020057,20308.583466803044,6136.648359132095,19384.824041986754,23037.52171072162,16718.15450920027,3766.3209496113336,6351.884284101954,1604.9824671536944,8944.42683010256,5472.249250920689,5233.431788310422,31275.208389116186,18163.60538721518,18111.2901820617,19936.188660313484,9875.508695729795,11939.283023233227,11727.511520303684,25343.715182658325,15341.156762674074,4946.988596754989,4457.108050023392,20965.72580867748,12218.222350376454,2358.36211895557,17999.143628414422,19368.850547012305,5534.752990216915,21449.154889830097,35082.07615179665,17279.18408312238,4445.527271015113,10057.965242582226,1614.9925771198157,9228.45643114461,8562.111110601129,5299.991064231189,30934.535615098022,17709.827033197857,18268.619741613293,21897.18660633652,14615.077787063216,12176.411538909051,11167.299131037642,25329.16716487348,15624.463429610663,5638.735880742026,9723.625091012062,21273.023907083934,12419.483248180792,5228.320473219086,17659.42063784587,18360.52963962233,5344.297131758828,19554.40558950196,23606.30560462546,35394.80657248906,5831.197311737659,5389.672213753252,2466.93913992886,9403.84122574606,7160.081162485877,5449.901664023168,58568.05912531744,34290.19210263976,18815.057377519926,18157.1228487327,8734.808214383871,14996.242670659489,15073.55330434916,25098.061753090104,20413.672844119457,4049.6086749278456,5265.604183631102,31617.909399122967,12326.613437638647,2762.5695608977885,18449.901307973105,20020.394649187885,5345.079890247289,21873.104938389297,35054.55794501629,18044.175063726187,4039.710809972799,11734.4142313657,1426.8830488145204,10592.763156890898,7920.691820640316,5368.002638882167,31126.136386904465,18335.78864941512,18933.98713778461,22474.750028575105,9990.9193275664,12525.983668634117,11774.079467486888,25720.975079162254,15209.37003250994,6333.580379704661,5472.481533366197,21165.78238853284,11747.59879843926,5083.101547717232,17735.95637748255,18014.154900034282,5820.79007017502,19572.860127015803,23255.190961276807,17865.388229591234,3955.891355504734,5506.87376122448,1753.813495146804,9998.312726340711,6014.031712946251,5290.963561621787,31161.249467302667,18251.8686732792,19582.89653027673,16998.788418969638,10210.71037527257,12397.85397175556,11796.813003156003,25578.70442744761,15686.640701137418,4971.149570768065,5053.831779143565,21022.455810989293,12397.448441141009,2501.4006858876587,17340.95141511574,18137.646316812366,5065.975533832358],\"yaxis\":\"y\",\"type\":\"scattergl\"},{\"hovertemplate\":\"truffle_type=Chocolate Outer<br>month=%{x}<br>kg=%{y}<extra></extra>\",\"legendgroup\":\"Chocolate Outer\",\"line\":{\"color\":\"#EF553B\",\"dash\":\"solid\"},\"marker\":{\"symbol\":\"circle\"},\"mode\":\"lines\",\"name\":\"Chocolate Outer\",\"showlegend\":true,\"x\":[\"1/2010\",\"1/2010\",\"1/2010\",\"1/2010\",\"1/2010\",\"1/2010\",\"1/2010\",\"1/2010\",\"1/2010\",\"1/2010\",\"1/2010\",\"1/2010\",\"1/2010\",\"1/2010\",\"1/2010\",\"1/2010\",\"1/2010\",\"1/2010\",\"1/2010\",\"1/2010\",\"1/2010\",\"1/2010\",\"1/2010\",\"1/2010\",\"1/2010\",\"1/2010\",\"1/2010\",\"1/2010\",\"1/2010\",\"1/2010\",\"1/2010\",\"1/2010\",\"1/2010\",\"1/2010\",\"1/2010\",\"1/2010\",\"2/2010\",\"2/2010\",\"2/2010\",\"2/2010\",\"2/2010\",\"2/2010\",\"2/2010\",\"2/2010\",\"2/2010\",\"2/2010\",\"2/2010\",\"2/2010\",\"2/2010\",\"2/2010\",\"2/2010\",\"2/2010\",\"2/2010\",\"2/2010\",\"2/2010\",\"2/2010\",\"2/2010\",\"2/2010\",\"2/2010\",\"2/2010\",\"2/2010\",\"2/2010\",\"2/2010\",\"2/2010\",\"2/2010\",\"2/2010\",\"2/2010\",\"2/2010\",\"2/2010\",\"2/2010\",\"2/2010\",\"2/2010\",\"3/2010\",\"3/2010\",\"3/2010\",\"3/2010\",\"3/2010\",\"3/2010\",\"3/2010\",\"3/2010\",\"3/2010\",\"3/2010\",\"3/2010\",\"3/2010\",\"3/2010\",\"3/2010\",\"3/2010\",\"3/2010\",\"3/2010\",\"3/2010\",\"3/2010\",\"3/2010\",\"3/2010\",\"3/2010\",\"3/2010\",\"3/2010\",\"3/2010\",\"3/2010\",\"3/2010\",\"3/2010\",\"3/2010\",\"3/2010\",\"3/2010\",\"3/2010\",\"3/2010\",\"3/2010\",\"3/2010\",\"3/2010\",\"4/2010\",\"4/2010\",\"4/2010\",\"4/2010\",\"4/2010\",\"4/2010\",\"4/2010\",\"4/2010\",\"4/2010\",\"4/2010\",\"4/2010\",\"4/2010\",\"4/2010\",\"4/2010\",\"4/2010\",\"4/2010\",\"4/2010\",\"4/2010\",\"4/2010\",\"4/2010\",\"4/2010\",\"4/2010\",\"4/2010\",\"4/2010\",\"4/2010\",\"4/2010\",\"4/2010\",\"4/2010\",\"4/2010\",\"4/2010\",\"4/2010\",\"4/2010\",\"4/2010\",\"4/2010\",\"4/2010\",\"4/2010\",\"5/2010\",\"5/2010\",\"5/2010\",\"5/2010\",\"5/2010\",\"5/2010\",\"5/2010\",\"5/2010\",\"5/2010\",\"5/2010\",\"5/2010\",\"5/2010\",\"5/2010\",\"5/2010\",\"5/2010\",\"5/2010\",\"5/2010\",\"5/2010\",\"5/2010\",\"5/2010\",\"5/2010\",\"5/2010\",\"5/2010\",\"5/2010\",\"5/2010\",\"5/2010\",\"5/2010\",\"5/2010\",\"5/2010\",\"5/2010\",\"5/2010\",\"5/2010\",\"5/2010\",\"5/2010\",\"5/2010\",\"5/2010\",\"6/2010\",\"6/2010\",\"6/2010\",\"6/2010\",\"6/2010\",\"6/2010\",\"6/2010\",\"6/2010\",\"6/2010\",\"6/2010\",\"6/2010\",\"6/2010\",\"6/2010\",\"6/2010\",\"6/2010\",\"6/2010\",\"6/2010\",\"6/2010\",\"6/2010\",\"6/2010\",\"6/2010\",\"6/2010\",\"6/2010\",\"6/2010\",\"6/2010\",\"6/2010\",\"6/2010\",\"6/2010\",\"6/2010\",\"6/2010\",\"6/2010\",\"6/2010\",\"6/2010\",\"6/2010\",\"6/2010\",\"6/2010\",\"7/2010\",\"7/2010\",\"7/2010\",\"7/2010\",\"7/2010\",\"7/2010\",\"7/2010\",\"7/2010\",\"7/2010\",\"7/2010\",\"7/2010\",\"7/2010\",\"7/2010\",\"7/2010\",\"7/2010\",\"7/2010\",\"7/2010\",\"7/2010\",\"7/2010\",\"7/2010\",\"7/2010\",\"7/2010\",\"7/2010\",\"7/2010\",\"7/2010\",\"7/2010\",\"7/2010\",\"7/2010\",\"7/2010\",\"7/2010\",\"7/2010\",\"7/2010\",\"7/2010\",\"7/2010\",\"7/2010\",\"7/2010\",\"8/2010\",\"8/2010\",\"8/2010\",\"8/2010\",\"8/2010\",\"8/2010\",\"8/2010\",\"8/2010\",\"8/2010\",\"8/2010\",\"8/2010\",\"8/2010\",\"8/2010\",\"8/2010\",\"8/2010\",\"8/2010\",\"8/2010\",\"8/2010\",\"8/2010\",\"8/2010\",\"8/2010\",\"8/2010\",\"8/2010\",\"8/2010\",\"8/2010\",\"8/2010\",\"8/2010\",\"8/2010\",\"8/2010\",\"8/2010\",\"8/2010\",\"8/2010\",\"8/2010\",\"8/2010\",\"8/2010\",\"8/2010\",\"9/2010\",\"9/2010\",\"9/2010\",\"9/2010\",\"9/2010\",\"9/2010\",\"9/2010\",\"9/2010\",\"9/2010\",\"9/2010\",\"9/2010\",\"9/2010\",\"9/2010\",\"9/2010\",\"9/2010\",\"9/2010\",\"9/2010\",\"9/2010\",\"9/2010\",\"9/2010\",\"9/2010\",\"9/2010\",\"9/2010\",\"9/2010\",\"9/2010\",\"9/2010\",\"9/2010\",\"9/2010\",\"9/2010\",\"9/2010\",\"9/2010\",\"9/2010\",\"9/2010\",\"9/2010\",\"9/2010\",\"9/2010\",\"10/2010\",\"10/2010\",\"10/2010\",\"10/2010\",\"10/2010\",\"10/2010\",\"10/2010\",\"10/2010\",\"10/2010\",\"10/2010\",\"10/2010\",\"10/2010\",\"10/2010\",\"10/2010\",\"10/2010\",\"10/2010\",\"10/2010\",\"10/2010\",\"10/2010\",\"10/2010\",\"10/2010\",\"10/2010\",\"10/2010\",\"10/2010\",\"10/2010\",\"10/2010\",\"10/2010\",\"10/2010\",\"10/2010\",\"10/2010\",\"10/2010\",\"10/2010\",\"10/2010\",\"10/2010\",\"10/2010\",\"10/2010\",\"11/2010\",\"11/2010\",\"11/2010\",\"11/2010\",\"11/2010\",\"11/2010\",\"11/2010\",\"11/2010\",\"11/2010\",\"11/2010\",\"11/2010\",\"11/2010\",\"11/2010\",\"11/2010\",\"11/2010\",\"11/2010\",\"11/2010\",\"11/2010\",\"11/2010\",\"11/2010\",\"11/2010\",\"11/2010\",\"11/2010\",\"11/2010\",\"11/2010\",\"11/2010\",\"11/2010\",\"11/2010\",\"11/2010\",\"11/2010\",\"11/2010\",\"11/2010\",\"11/2010\",\"11/2010\",\"11/2010\",\"11/2010\",\"12/2010\",\"12/2010\",\"12/2010\",\"12/2010\",\"12/2010\",\"12/2010\",\"12/2010\",\"12/2010\",\"12/2010\",\"12/2010\",\"12/2010\",\"12/2010\",\"12/2010\",\"12/2010\",\"12/2010\",\"12/2010\",\"12/2010\",\"12/2010\",\"12/2010\",\"12/2010\",\"12/2010\",\"12/2010\",\"12/2010\",\"12/2010\",\"12/2010\",\"12/2010\",\"12/2010\",\"12/2010\",\"12/2010\",\"12/2010\",\"12/2010\",\"12/2010\",\"12/2010\",\"12/2010\",\"12/2010\",\"12/2010\",\"1/2011\",\"1/2011\",\"1/2011\",\"1/2011\",\"1/2011\",\"1/2011\",\"1/2011\",\"1/2011\",\"1/2011\",\"1/2011\",\"1/2011\",\"1/2011\",\"1/2011\",\"1/2011\",\"1/2011\",\"1/2011\",\"1/2011\",\"1/2011\",\"1/2011\",\"1/2011\",\"1/2011\",\"1/2011\",\"1/2011\",\"1/2011\",\"1/2011\",\"1/2011\",\"1/2011\",\"1/2011\",\"1/2011\",\"1/2011\",\"1/2011\",\"1/2011\",\"1/2011\",\"1/2011\",\"1/2011\",\"1/2011\",\"2/2011\",\"2/2011\",\"2/2011\",\"2/2011\",\"2/2011\",\"2/2011\",\"2/2011\",\"2/2011\",\"2/2011\",\"2/2011\",\"2/2011\",\"2/2011\",\"2/2011\",\"2/2011\",\"2/2011\",\"2/2011\",\"2/2011\",\"2/2011\",\"2/2011\",\"2/2011\",\"2/2011\",\"2/2011\",\"2/2011\",\"2/2011\",\"2/2011\",\"2/2011\",\"2/2011\",\"2/2011\",\"2/2011\",\"2/2011\",\"2/2011\",\"2/2011\",\"2/2011\",\"2/2011\",\"2/2011\",\"2/2011\",\"3/2011\",\"3/2011\",\"3/2011\",\"3/2011\",\"3/2011\",\"3/2011\",\"3/2011\",\"3/2011\",\"3/2011\",\"3/2011\",\"3/2011\",\"3/2011\",\"3/2011\",\"3/2011\",\"3/2011\",\"3/2011\",\"3/2011\",\"3/2011\",\"3/2011\",\"3/2011\",\"3/2011\",\"3/2011\",\"3/2011\",\"3/2011\",\"3/2011\",\"3/2011\",\"3/2011\",\"3/2011\",\"3/2011\",\"3/2011\",\"3/2011\",\"3/2011\",\"3/2011\",\"3/2011\",\"3/2011\",\"3/2011\",\"4/2011\",\"4/2011\",\"4/2011\",\"4/2011\",\"4/2011\",\"4/2011\",\"4/2011\",\"4/2011\",\"4/2011\",\"4/2011\",\"4/2011\",\"4/2011\",\"4/2011\",\"4/2011\",\"4/2011\",\"4/2011\",\"4/2011\",\"4/2011\",\"4/2011\",\"4/2011\",\"4/2011\",\"4/2011\",\"4/2011\",\"4/2011\",\"4/2011\",\"4/2011\",\"4/2011\",\"4/2011\",\"4/2011\",\"4/2011\",\"4/2011\",\"4/2011\",\"4/2011\",\"4/2011\",\"4/2011\",\"4/2011\",\"5/2011\",\"5/2011\",\"5/2011\",\"5/2011\",\"5/2011\",\"5/2011\",\"5/2011\",\"5/2011\",\"5/2011\",\"5/2011\",\"5/2011\",\"5/2011\",\"5/2011\",\"5/2011\",\"5/2011\",\"5/2011\",\"5/2011\",\"5/2011\",\"5/2011\",\"5/2011\",\"5/2011\",\"5/2011\",\"5/2011\",\"5/2011\",\"5/2011\",\"5/2011\",\"5/2011\",\"5/2011\",\"5/2011\",\"5/2011\",\"5/2011\",\"5/2011\",\"5/2011\",\"5/2011\",\"5/2011\",\"5/2011\",\"6/2011\",\"6/2011\",\"6/2011\",\"6/2011\",\"6/2011\",\"6/2011\",\"6/2011\",\"6/2011\",\"6/2011\",\"6/2011\",\"6/2011\",\"6/2011\",\"6/2011\",\"6/2011\",\"6/2011\",\"6/2011\",\"6/2011\",\"6/2011\",\"6/2011\",\"6/2011\",\"6/2011\",\"6/2011\",\"6/2011\",\"6/2011\",\"6/2011\",\"6/2011\",\"6/2011\",\"6/2011\",\"6/2011\",\"6/2011\",\"6/2011\",\"6/2011\",\"6/2011\",\"6/2011\",\"6/2011\",\"6/2011\",\"7/2011\",\"7/2011\",\"7/2011\",\"7/2011\",\"7/2011\",\"7/2011\",\"7/2011\",\"7/2011\",\"7/2011\",\"7/2011\",\"7/2011\",\"7/2011\",\"7/2011\",\"7/2011\",\"7/2011\",\"7/2011\",\"7/2011\",\"7/2011\",\"7/2011\",\"7/2011\",\"7/2011\",\"7/2011\",\"7/2011\",\"7/2011\",\"7/2011\",\"7/2011\",\"7/2011\",\"7/2011\",\"7/2011\",\"7/2011\",\"7/2011\",\"7/2011\",\"7/2011\",\"7/2011\",\"7/2011\",\"7/2011\",\"8/2011\",\"8/2011\",\"8/2011\",\"8/2011\",\"8/2011\",\"8/2011\",\"8/2011\",\"8/2011\",\"8/2011\",\"8/2011\",\"8/2011\",\"8/2011\",\"8/2011\",\"8/2011\",\"8/2011\",\"8/2011\",\"8/2011\",\"8/2011\",\"8/2011\",\"8/2011\",\"8/2011\",\"8/2011\",\"8/2011\",\"8/2011\",\"8/2011\",\"8/2011\",\"8/2011\",\"8/2011\",\"8/2011\",\"8/2011\",\"8/2011\",\"8/2011\",\"8/2011\",\"8/2011\",\"8/2011\",\"8/2011\",\"9/2011\",\"9/2011\",\"9/2011\",\"9/2011\",\"9/2011\",\"9/2011\",\"9/2011\",\"9/2011\",\"9/2011\",\"9/2011\",\"9/2011\",\"9/2011\",\"9/2011\",\"9/2011\",\"9/2011\",\"9/2011\",\"9/2011\",\"9/2011\",\"9/2011\",\"9/2011\",\"9/2011\",\"9/2011\",\"9/2011\",\"9/2011\",\"9/2011\",\"9/2011\",\"9/2011\",\"9/2011\",\"9/2011\",\"9/2011\",\"9/2011\",\"9/2011\",\"9/2011\",\"9/2011\",\"9/2011\",\"9/2011\",\"10/2011\",\"10/2011\",\"10/2011\",\"10/2011\",\"10/2011\",\"10/2011\",\"10/2011\",\"10/2011\",\"10/2011\",\"10/2011\",\"10/2011\",\"10/2011\",\"10/2011\",\"10/2011\",\"10/2011\",\"10/2011\",\"10/2011\",\"10/2011\",\"10/2011\",\"10/2011\",\"10/2011\",\"10/2011\",\"10/2011\",\"10/2011\",\"10/2011\",\"10/2011\",\"10/2011\",\"10/2011\",\"10/2011\",\"10/2011\",\"10/2011\",\"10/2011\",\"10/2011\",\"10/2011\",\"10/2011\",\"10/2011\",\"11/2011\",\"11/2011\",\"11/2011\",\"11/2011\",\"11/2011\",\"11/2011\",\"11/2011\",\"11/2011\",\"11/2011\",\"11/2011\",\"11/2011\",\"11/2011\",\"11/2011\",\"11/2011\",\"11/2011\",\"11/2011\",\"11/2011\",\"11/2011\",\"11/2011\",\"11/2011\",\"11/2011\",\"11/2011\",\"11/2011\",\"11/2011\",\"11/2011\",\"11/2011\",\"11/2011\",\"11/2011\",\"11/2011\",\"11/2011\",\"11/2011\",\"11/2011\",\"11/2011\",\"11/2011\",\"11/2011\",\"11/2011\",\"12/2011\",\"12/2011\",\"12/2011\",\"12/2011\",\"12/2011\",\"12/2011\",\"12/2011\",\"12/2011\",\"12/2011\",\"12/2011\",\"12/2011\",\"12/2011\",\"12/2011\",\"12/2011\",\"12/2011\",\"12/2011\",\"12/2011\",\"12/2011\",\"12/2011\",\"12/2011\",\"12/2011\",\"12/2011\",\"12/2011\",\"12/2011\",\"12/2011\",\"12/2011\",\"12/2011\",\"12/2011\",\"12/2011\",\"12/2011\",\"12/2011\",\"12/2011\",\"12/2011\",\"12/2011\",\"12/2011\",\"12/2011\",\"1/2012\",\"1/2012\",\"1/2012\",\"1/2012\",\"1/2012\",\"1/2012\",\"1/2012\",\"1/2012\",\"1/2012\",\"1/2012\",\"1/2012\",\"1/2012\",\"1/2012\",\"1/2012\",\"1/2012\",\"1/2012\",\"1/2012\",\"1/2012\",\"1/2012\",\"1/2012\",\"1/2012\",\"1/2012\",\"1/2012\",\"1/2012\",\"1/2012\",\"1/2012\",\"1/2012\",\"1/2012\",\"1/2012\",\"1/2012\",\"1/2012\",\"1/2012\",\"1/2012\",\"1/2012\",\"1/2012\",\"1/2012\",\"2/2012\",\"2/2012\",\"2/2012\",\"2/2012\",\"2/2012\",\"2/2012\",\"2/2012\",\"2/2012\",\"2/2012\",\"2/2012\",\"2/2012\",\"2/2012\",\"2/2012\",\"2/2012\",\"2/2012\",\"2/2012\",\"2/2012\",\"2/2012\",\"2/2012\",\"2/2012\",\"2/2012\",\"2/2012\",\"2/2012\",\"2/2012\",\"2/2012\",\"2/2012\",\"2/2012\",\"2/2012\",\"2/2012\",\"2/2012\",\"2/2012\",\"2/2012\",\"2/2012\",\"2/2012\",\"2/2012\",\"2/2012\",\"3/2012\",\"3/2012\",\"3/2012\",\"3/2012\",\"3/2012\",\"3/2012\",\"3/2012\",\"3/2012\",\"3/2012\",\"3/2012\",\"3/2012\",\"3/2012\",\"3/2012\",\"3/2012\",\"3/2012\",\"3/2012\",\"3/2012\",\"3/2012\",\"3/2012\",\"3/2012\",\"3/2012\",\"3/2012\",\"3/2012\",\"3/2012\",\"3/2012\",\"3/2012\",\"3/2012\",\"3/2012\",\"3/2012\",\"3/2012\",\"3/2012\",\"3/2012\",\"3/2012\",\"3/2012\",\"3/2012\",\"3/2012\",\"4/2012\",\"4/2012\",\"4/2012\",\"4/2012\",\"4/2012\",\"4/2012\",\"4/2012\",\"4/2012\",\"4/2012\",\"4/2012\",\"4/2012\",\"4/2012\",\"4/2012\",\"4/2012\",\"4/2012\",\"4/2012\",\"4/2012\",\"4/2012\",\"4/2012\",\"4/2012\",\"4/2012\",\"4/2012\",\"4/2012\",\"4/2012\",\"4/2012\",\"4/2012\",\"4/2012\",\"4/2012\",\"4/2012\",\"4/2012\",\"4/2012\",\"4/2012\",\"4/2012\",\"4/2012\",\"4/2012\",\"4/2012\",\"5/2012\",\"5/2012\",\"5/2012\",\"5/2012\",\"5/2012\",\"5/2012\",\"5/2012\",\"5/2012\",\"5/2012\",\"5/2012\",\"5/2012\",\"5/2012\",\"5/2012\",\"5/2012\",\"5/2012\",\"5/2012\",\"5/2012\",\"5/2012\",\"5/2012\",\"5/2012\",\"5/2012\",\"5/2012\",\"5/2012\",\"5/2012\",\"5/2012\",\"5/2012\",\"5/2012\",\"5/2012\",\"5/2012\",\"5/2012\",\"5/2012\",\"5/2012\",\"5/2012\",\"5/2012\",\"5/2012\",\"5/2012\",\"6/2012\",\"6/2012\",\"6/2012\",\"6/2012\",\"6/2012\",\"6/2012\",\"6/2012\",\"6/2012\",\"6/2012\",\"6/2012\",\"6/2012\",\"6/2012\",\"6/2012\",\"6/2012\",\"6/2012\",\"6/2012\",\"6/2012\",\"6/2012\",\"6/2012\",\"6/2012\",\"6/2012\",\"6/2012\",\"6/2012\",\"6/2012\",\"6/2012\",\"6/2012\",\"6/2012\",\"6/2012\",\"6/2012\",\"6/2012\",\"6/2012\",\"6/2012\",\"6/2012\",\"6/2012\",\"6/2012\",\"6/2012\",\"7/2012\",\"7/2012\",\"7/2012\",\"7/2012\",\"7/2012\",\"7/2012\",\"7/2012\",\"7/2012\",\"7/2012\",\"7/2012\",\"7/2012\",\"7/2012\",\"7/2012\",\"7/2012\",\"7/2012\",\"7/2012\",\"7/2012\",\"7/2012\",\"7/2012\",\"7/2012\",\"7/2012\",\"7/2012\",\"7/2012\",\"7/2012\",\"7/2012\",\"7/2012\",\"7/2012\",\"7/2012\",\"7/2012\",\"7/2012\",\"7/2012\",\"7/2012\",\"7/2012\",\"7/2012\",\"7/2012\",\"7/2012\",\"8/2012\",\"8/2012\",\"8/2012\",\"8/2012\",\"8/2012\",\"8/2012\",\"8/2012\",\"8/2012\",\"8/2012\",\"8/2012\",\"8/2012\",\"8/2012\",\"8/2012\",\"8/2012\",\"8/2012\",\"8/2012\",\"8/2012\",\"8/2012\",\"8/2012\",\"8/2012\",\"8/2012\",\"8/2012\",\"8/2012\",\"8/2012\",\"8/2012\",\"8/2012\",\"8/2012\",\"8/2012\",\"8/2012\",\"8/2012\",\"8/2012\",\"8/2012\",\"8/2012\",\"8/2012\",\"8/2012\",\"8/2012\",\"9/2012\",\"9/2012\",\"9/2012\",\"9/2012\",\"9/2012\",\"9/2012\",\"9/2012\",\"9/2012\",\"9/2012\",\"9/2012\",\"9/2012\",\"9/2012\",\"9/2012\",\"9/2012\",\"9/2012\",\"9/2012\",\"9/2012\",\"9/2012\",\"9/2012\",\"9/2012\",\"9/2012\",\"9/2012\",\"9/2012\",\"9/2012\",\"9/2012\",\"9/2012\",\"9/2012\",\"9/2012\",\"9/2012\",\"9/2012\",\"9/2012\",\"9/2012\",\"9/2012\",\"9/2012\",\"9/2012\",\"9/2012\",\"10/2012\",\"10/2012\",\"10/2012\",\"10/2012\",\"10/2012\",\"10/2012\",\"10/2012\",\"10/2012\",\"10/2012\",\"10/2012\",\"10/2012\",\"10/2012\",\"10/2012\",\"10/2012\",\"10/2012\",\"10/2012\",\"10/2012\",\"10/2012\",\"10/2012\",\"10/2012\",\"10/2012\",\"10/2012\",\"10/2012\",\"10/2012\",\"10/2012\",\"10/2012\",\"10/2012\",\"10/2012\",\"10/2012\",\"10/2012\",\"10/2012\",\"10/2012\",\"10/2012\",\"10/2012\",\"10/2012\",\"10/2012\",\"11/2012\",\"11/2012\",\"11/2012\",\"11/2012\",\"11/2012\",\"11/2012\",\"11/2012\",\"11/2012\",\"11/2012\",\"11/2012\",\"11/2012\",\"11/2012\",\"11/2012\",\"11/2012\",\"11/2012\",\"11/2012\",\"11/2012\",\"11/2012\",\"11/2012\",\"11/2012\",\"11/2012\",\"11/2012\",\"11/2012\",\"11/2012\",\"11/2012\",\"11/2012\",\"11/2012\",\"11/2012\",\"11/2012\",\"11/2012\",\"11/2012\",\"11/2012\",\"11/2012\",\"11/2012\",\"11/2012\",\"11/2012\",\"12/2012\",\"12/2012\",\"12/2012\",\"12/2012\",\"12/2012\",\"12/2012\",\"12/2012\",\"12/2012\",\"12/2012\",\"12/2012\",\"12/2012\",\"12/2012\",\"12/2012\",\"12/2012\",\"12/2012\",\"12/2012\",\"12/2012\",\"12/2012\",\"12/2012\",\"12/2012\",\"12/2012\",\"12/2012\",\"12/2012\",\"12/2012\",\"12/2012\",\"12/2012\",\"12/2012\",\"12/2012\",\"12/2012\",\"12/2012\",\"12/2012\",\"12/2012\",\"12/2012\",\"12/2012\",\"12/2012\",\"12/2012\",\"1/2013\",\"1/2013\",\"1/2013\",\"1/2013\",\"1/2013\",\"1/2013\",\"1/2013\",\"1/2013\",\"1/2013\",\"1/2013\",\"1/2013\",\"1/2013\",\"1/2013\",\"1/2013\",\"1/2013\",\"1/2013\",\"1/2013\",\"1/2013\",\"1/2013\",\"1/2013\",\"1/2013\",\"1/2013\",\"1/2013\",\"1/2013\",\"1/2013\",\"1/2013\",\"1/2013\",\"1/2013\",\"1/2013\",\"1/2013\",\"1/2013\",\"1/2013\",\"1/2013\",\"1/2013\",\"1/2013\",\"1/2013\",\"2/2013\",\"2/2013\",\"2/2013\",\"2/2013\",\"2/2013\",\"2/2013\",\"2/2013\",\"2/2013\",\"2/2013\",\"2/2013\",\"2/2013\",\"2/2013\",\"2/2013\",\"2/2013\",\"2/2013\",\"2/2013\",\"2/2013\",\"2/2013\",\"2/2013\",\"2/2013\",\"2/2013\",\"2/2013\",\"2/2013\",\"2/2013\",\"2/2013\",\"2/2013\",\"2/2013\",\"2/2013\",\"2/2013\",\"2/2013\",\"2/2013\",\"2/2013\",\"2/2013\",\"2/2013\",\"2/2013\",\"2/2013\",\"3/2013\",\"3/2013\",\"3/2013\",\"3/2013\",\"3/2013\",\"3/2013\",\"3/2013\",\"3/2013\",\"3/2013\",\"3/2013\",\"3/2013\",\"3/2013\",\"3/2013\",\"3/2013\",\"3/2013\",\"3/2013\",\"3/2013\",\"3/2013\",\"3/2013\",\"3/2013\",\"3/2013\",\"3/2013\",\"3/2013\",\"3/2013\",\"3/2013\",\"3/2013\",\"3/2013\",\"3/2013\",\"3/2013\",\"3/2013\",\"3/2013\",\"3/2013\",\"3/2013\",\"3/2013\",\"3/2013\",\"3/2013\",\"4/2013\",\"4/2013\",\"4/2013\",\"4/2013\",\"4/2013\",\"4/2013\",\"4/2013\",\"4/2013\",\"4/2013\",\"4/2013\",\"4/2013\",\"4/2013\",\"4/2013\",\"4/2013\",\"4/2013\",\"4/2013\",\"4/2013\",\"4/2013\",\"4/2013\",\"4/2013\",\"4/2013\",\"4/2013\",\"4/2013\",\"4/2013\",\"4/2013\",\"4/2013\",\"4/2013\",\"4/2013\",\"4/2013\",\"4/2013\",\"4/2013\",\"4/2013\",\"4/2013\",\"4/2013\",\"4/2013\",\"4/2013\",\"5/2013\",\"5/2013\",\"5/2013\",\"5/2013\",\"5/2013\",\"5/2013\",\"5/2013\",\"5/2013\",\"5/2013\",\"5/2013\",\"5/2013\",\"5/2013\",\"5/2013\",\"5/2013\",\"5/2013\",\"5/2013\",\"5/2013\",\"5/2013\",\"5/2013\",\"5/2013\",\"5/2013\",\"5/2013\",\"5/2013\",\"5/2013\",\"5/2013\",\"5/2013\",\"5/2013\",\"5/2013\",\"5/2013\",\"5/2013\",\"5/2013\",\"5/2013\",\"5/2013\",\"5/2013\",\"5/2013\",\"5/2013\",\"6/2013\",\"6/2013\",\"6/2013\",\"6/2013\",\"6/2013\",\"6/2013\",\"6/2013\",\"6/2013\",\"6/2013\",\"6/2013\",\"6/2013\",\"6/2013\",\"6/2013\",\"6/2013\",\"6/2013\",\"6/2013\",\"6/2013\",\"6/2013\",\"6/2013\",\"6/2013\",\"6/2013\",\"6/2013\",\"6/2013\",\"6/2013\",\"6/2013\",\"6/2013\",\"6/2013\",\"6/2013\",\"6/2013\",\"6/2013\",\"6/2013\",\"6/2013\",\"6/2013\",\"6/2013\",\"6/2013\",\"6/2013\",\"7/2013\",\"7/2013\",\"7/2013\",\"7/2013\",\"7/2013\",\"7/2013\",\"7/2013\",\"7/2013\",\"7/2013\",\"7/2013\",\"7/2013\",\"7/2013\",\"7/2013\",\"7/2013\",\"7/2013\",\"7/2013\",\"7/2013\",\"7/2013\",\"7/2013\",\"7/2013\",\"7/2013\",\"7/2013\",\"7/2013\",\"7/2013\",\"7/2013\",\"7/2013\",\"7/2013\",\"7/2013\",\"7/2013\",\"7/2013\",\"7/2013\",\"7/2013\",\"7/2013\",\"7/2013\",\"7/2013\",\"7/2013\",\"8/2013\",\"8/2013\",\"8/2013\",\"8/2013\",\"8/2013\",\"8/2013\",\"8/2013\",\"8/2013\",\"8/2013\",\"8/2013\",\"8/2013\",\"8/2013\",\"8/2013\",\"8/2013\",\"8/2013\",\"8/2013\",\"8/2013\",\"8/2013\",\"8/2013\",\"8/2013\",\"8/2013\",\"8/2013\",\"8/2013\",\"8/2013\",\"8/2013\",\"8/2013\",\"8/2013\",\"8/2013\",\"8/2013\",\"8/2013\",\"8/2013\",\"8/2013\",\"8/2013\",\"8/2013\",\"8/2013\",\"8/2013\",\"9/2013\",\"9/2013\",\"9/2013\",\"9/2013\",\"9/2013\",\"9/2013\",\"9/2013\",\"9/2013\",\"9/2013\",\"9/2013\",\"9/2013\",\"9/2013\",\"9/2013\",\"9/2013\",\"9/2013\",\"9/2013\",\"9/2013\",\"9/2013\",\"9/2013\",\"9/2013\",\"9/2013\",\"9/2013\",\"9/2013\",\"9/2013\",\"9/2013\",\"9/2013\",\"9/2013\",\"9/2013\",\"9/2013\",\"9/2013\",\"9/2013\",\"9/2013\",\"9/2013\",\"9/2013\",\"9/2013\",\"9/2013\",\"10/2013\",\"10/2013\",\"10/2013\",\"10/2013\",\"10/2013\",\"10/2013\",\"10/2013\",\"10/2013\",\"10/2013\",\"10/2013\",\"10/2013\",\"10/2013\",\"10/2013\",\"10/2013\",\"10/2013\",\"10/2013\",\"10/2013\",\"10/2013\",\"10/2013\",\"10/2013\",\"10/2013\",\"10/2013\",\"10/2013\",\"10/2013\",\"10/2013\",\"10/2013\",\"10/2013\",\"10/2013\",\"10/2013\",\"10/2013\",\"10/2013\",\"10/2013\",\"10/2013\",\"10/2013\",\"10/2013\",\"10/2013\",\"11/2013\",\"11/2013\",\"11/2013\",\"11/2013\",\"11/2013\",\"11/2013\",\"11/2013\",\"11/2013\",\"11/2013\",\"11/2013\",\"11/2013\",\"11/2013\",\"11/2013\",\"11/2013\",\"11/2013\",\"11/2013\",\"11/2013\",\"11/2013\",\"11/2013\",\"11/2013\",\"11/2013\",\"11/2013\",\"11/2013\",\"11/2013\",\"11/2013\",\"11/2013\",\"11/2013\",\"11/2013\",\"11/2013\",\"11/2013\",\"11/2013\",\"11/2013\",\"11/2013\",\"11/2013\",\"11/2013\",\"11/2013\",\"12/2013\",\"12/2013\",\"12/2013\",\"12/2013\",\"12/2013\",\"12/2013\",\"12/2013\",\"12/2013\",\"12/2013\",\"12/2013\",\"12/2013\",\"12/2013\",\"12/2013\",\"12/2013\",\"12/2013\",\"12/2013\",\"12/2013\",\"12/2013\",\"12/2013\",\"12/2013\",\"12/2013\",\"12/2013\",\"12/2013\",\"12/2013\",\"12/2013\",\"12/2013\",\"12/2013\",\"12/2013\",\"12/2013\",\"12/2013\",\"12/2013\",\"12/2013\",\"12/2013\",\"12/2013\",\"12/2013\",\"12/2013\",\"1/2014\",\"1/2014\",\"1/2014\",\"1/2014\",\"1/2014\",\"1/2014\",\"1/2014\",\"1/2014\",\"1/2014\",\"1/2014\",\"1/2014\",\"1/2014\",\"1/2014\",\"1/2014\",\"1/2014\",\"1/2014\",\"1/2014\",\"1/2014\",\"1/2014\",\"1/2014\",\"1/2014\",\"1/2014\",\"1/2014\",\"1/2014\",\"1/2014\",\"1/2014\",\"1/2014\",\"1/2014\",\"1/2014\",\"1/2014\",\"1/2014\",\"1/2014\",\"1/2014\",\"1/2014\",\"1/2014\",\"1/2014\",\"2/2014\",\"2/2014\",\"2/2014\",\"2/2014\",\"2/2014\",\"2/2014\",\"2/2014\",\"2/2014\",\"2/2014\",\"2/2014\",\"2/2014\",\"2/2014\",\"2/2014\",\"2/2014\",\"2/2014\",\"2/2014\",\"2/2014\",\"2/2014\",\"2/2014\",\"2/2014\",\"2/2014\",\"2/2014\",\"2/2014\",\"2/2014\",\"2/2014\",\"2/2014\",\"2/2014\",\"2/2014\",\"2/2014\",\"2/2014\",\"2/2014\",\"2/2014\",\"2/2014\",\"2/2014\",\"2/2014\",\"2/2014\",\"3/2014\",\"3/2014\",\"3/2014\",\"3/2014\",\"3/2014\",\"3/2014\",\"3/2014\",\"3/2014\",\"3/2014\",\"3/2014\",\"3/2014\",\"3/2014\",\"3/2014\",\"3/2014\",\"3/2014\",\"3/2014\",\"3/2014\",\"3/2014\",\"3/2014\",\"3/2014\",\"3/2014\",\"3/2014\",\"3/2014\",\"3/2014\",\"3/2014\",\"3/2014\",\"3/2014\",\"3/2014\",\"3/2014\",\"3/2014\",\"3/2014\",\"3/2014\",\"3/2014\",\"3/2014\",\"3/2014\",\"3/2014\",\"4/2014\",\"4/2014\",\"4/2014\",\"4/2014\",\"4/2014\",\"4/2014\",\"4/2014\",\"4/2014\",\"4/2014\",\"4/2014\",\"4/2014\",\"4/2014\",\"4/2014\",\"4/2014\",\"4/2014\",\"4/2014\",\"4/2014\",\"4/2014\",\"4/2014\",\"4/2014\",\"4/2014\",\"4/2014\",\"4/2014\",\"4/2014\",\"4/2014\",\"4/2014\",\"4/2014\",\"4/2014\",\"4/2014\",\"4/2014\",\"4/2014\",\"4/2014\",\"4/2014\",\"4/2014\",\"4/2014\",\"4/2014\",\"5/2014\",\"5/2014\",\"5/2014\",\"5/2014\",\"5/2014\",\"5/2014\",\"5/2014\",\"5/2014\",\"5/2014\",\"5/2014\",\"5/2014\",\"5/2014\",\"5/2014\",\"5/2014\",\"5/2014\",\"5/2014\",\"5/2014\",\"5/2014\",\"5/2014\",\"5/2014\",\"5/2014\",\"5/2014\",\"5/2014\",\"5/2014\",\"5/2014\",\"5/2014\",\"5/2014\",\"5/2014\",\"5/2014\",\"5/2014\",\"5/2014\",\"5/2014\",\"5/2014\",\"5/2014\",\"5/2014\",\"5/2014\",\"6/2014\",\"6/2014\",\"6/2014\",\"6/2014\",\"6/2014\",\"6/2014\",\"6/2014\",\"6/2014\",\"6/2014\",\"6/2014\",\"6/2014\",\"6/2014\",\"6/2014\",\"6/2014\",\"6/2014\",\"6/2014\",\"6/2014\",\"6/2014\",\"6/2014\",\"6/2014\",\"6/2014\",\"6/2014\",\"6/2014\",\"6/2014\",\"6/2014\",\"6/2014\",\"6/2014\",\"6/2014\",\"6/2014\",\"6/2014\",\"6/2014\",\"6/2014\",\"6/2014\",\"6/2014\",\"6/2014\",\"6/2014\",\"7/2014\",\"7/2014\",\"7/2014\",\"7/2014\",\"7/2014\",\"7/2014\",\"7/2014\",\"7/2014\",\"7/2014\",\"7/2014\",\"7/2014\",\"7/2014\",\"7/2014\",\"7/2014\",\"7/2014\",\"7/2014\",\"7/2014\",\"7/2014\",\"7/2014\",\"7/2014\",\"7/2014\",\"7/2014\",\"7/2014\",\"7/2014\",\"7/2014\",\"7/2014\",\"7/2014\",\"7/2014\",\"7/2014\",\"7/2014\",\"7/2014\",\"7/2014\",\"7/2014\",\"7/2014\",\"7/2014\",\"7/2014\",\"8/2014\",\"8/2014\",\"8/2014\",\"8/2014\",\"8/2014\",\"8/2014\",\"8/2014\",\"8/2014\",\"8/2014\",\"8/2014\",\"8/2014\",\"8/2014\",\"8/2014\",\"8/2014\",\"8/2014\",\"8/2014\",\"8/2014\",\"8/2014\",\"8/2014\",\"8/2014\",\"8/2014\",\"8/2014\",\"8/2014\",\"8/2014\",\"8/2014\",\"8/2014\",\"8/2014\",\"8/2014\",\"8/2014\",\"8/2014\",\"8/2014\",\"8/2014\",\"8/2014\",\"8/2014\",\"8/2014\",\"8/2014\",\"9/2014\",\"9/2014\",\"9/2014\",\"9/2014\",\"9/2014\",\"9/2014\",\"9/2014\",\"9/2014\",\"9/2014\",\"9/2014\",\"9/2014\",\"9/2014\",\"9/2014\",\"9/2014\",\"9/2014\",\"9/2014\",\"9/2014\",\"9/2014\",\"9/2014\",\"9/2014\",\"9/2014\",\"9/2014\",\"9/2014\",\"9/2014\",\"9/2014\",\"9/2014\",\"9/2014\",\"9/2014\",\"9/2014\",\"9/2014\",\"9/2014\",\"9/2014\",\"9/2014\",\"9/2014\",\"9/2014\",\"9/2014\",\"10/2014\",\"10/2014\",\"10/2014\",\"10/2014\",\"10/2014\",\"10/2014\",\"10/2014\",\"10/2014\",\"10/2014\",\"10/2014\",\"10/2014\",\"10/2014\",\"10/2014\",\"10/2014\",\"10/2014\",\"10/2014\",\"10/2014\",\"10/2014\",\"10/2014\",\"10/2014\",\"10/2014\",\"10/2014\",\"10/2014\",\"10/2014\",\"10/2014\",\"10/2014\",\"10/2014\",\"10/2014\",\"10/2014\",\"10/2014\",\"10/2014\",\"10/2014\",\"10/2014\",\"10/2014\",\"10/2014\",\"10/2014\",\"11/2014\",\"11/2014\",\"11/2014\",\"11/2014\",\"11/2014\",\"11/2014\",\"11/2014\",\"11/2014\",\"11/2014\",\"11/2014\",\"11/2014\",\"11/2014\",\"11/2014\",\"11/2014\",\"11/2014\",\"11/2014\",\"11/2014\",\"11/2014\",\"11/2014\",\"11/2014\",\"11/2014\",\"11/2014\",\"11/2014\",\"11/2014\",\"11/2014\",\"11/2014\",\"11/2014\",\"11/2014\",\"11/2014\",\"11/2014\",\"11/2014\",\"11/2014\",\"11/2014\",\"11/2014\",\"11/2014\",\"11/2014\",\"12/2014\",\"12/2014\",\"12/2014\",\"12/2014\",\"12/2014\",\"12/2014\",\"12/2014\",\"12/2014\",\"12/2014\",\"12/2014\",\"12/2014\",\"12/2014\",\"12/2014\",\"12/2014\",\"12/2014\",\"12/2014\",\"12/2014\",\"12/2014\",\"12/2014\",\"12/2014\",\"12/2014\",\"12/2014\",\"12/2014\",\"12/2014\",\"12/2014\",\"12/2014\",\"12/2014\",\"12/2014\",\"12/2014\",\"12/2014\",\"12/2014\",\"12/2014\",\"12/2014\",\"12/2014\",\"12/2014\",\"12/2014\",\"1/2015\",\"1/2015\",\"1/2015\",\"1/2015\",\"1/2015\",\"1/2015\",\"1/2015\",\"1/2015\",\"1/2015\",\"1/2015\",\"1/2015\",\"1/2015\",\"1/2015\",\"1/2015\",\"1/2015\",\"1/2015\",\"1/2015\",\"1/2015\",\"1/2015\",\"1/2015\",\"1/2015\",\"1/2015\",\"1/2015\",\"1/2015\",\"1/2015\",\"1/2015\",\"1/2015\",\"1/2015\",\"1/2015\",\"1/2015\",\"1/2015\",\"1/2015\",\"1/2015\",\"1/2015\",\"1/2015\",\"1/2015\",\"2/2015\",\"2/2015\",\"2/2015\",\"2/2015\",\"2/2015\",\"2/2015\",\"2/2015\",\"2/2015\",\"2/2015\",\"2/2015\",\"2/2015\",\"2/2015\",\"2/2015\",\"2/2015\",\"2/2015\",\"2/2015\",\"2/2015\",\"2/2015\",\"2/2015\",\"2/2015\",\"2/2015\",\"2/2015\",\"2/2015\",\"2/2015\",\"2/2015\",\"2/2015\",\"2/2015\",\"2/2015\",\"2/2015\",\"2/2015\",\"2/2015\",\"2/2015\",\"2/2015\",\"2/2015\",\"2/2015\",\"2/2015\",\"3/2015\",\"3/2015\",\"3/2015\",\"3/2015\",\"3/2015\",\"3/2015\",\"3/2015\",\"3/2015\",\"3/2015\",\"3/2015\",\"3/2015\",\"3/2015\",\"3/2015\",\"3/2015\",\"3/2015\",\"3/2015\",\"3/2015\",\"3/2015\",\"3/2015\",\"3/2015\",\"3/2015\",\"3/2015\",\"3/2015\",\"3/2015\",\"3/2015\",\"3/2015\",\"3/2015\",\"3/2015\",\"3/2015\",\"3/2015\",\"3/2015\",\"3/2015\",\"3/2015\",\"3/2015\",\"3/2015\",\"3/2015\",\"4/2015\",\"4/2015\",\"4/2015\",\"4/2015\",\"4/2015\",\"4/2015\",\"4/2015\",\"4/2015\",\"4/2015\",\"4/2015\",\"4/2015\",\"4/2015\",\"4/2015\",\"4/2015\",\"4/2015\",\"4/2015\",\"4/2015\",\"4/2015\",\"4/2015\",\"4/2015\",\"4/2015\",\"4/2015\",\"4/2015\",\"4/2015\",\"4/2015\",\"4/2015\",\"4/2015\",\"4/2015\",\"4/2015\",\"4/2015\",\"4/2015\",\"4/2015\",\"4/2015\",\"4/2015\",\"4/2015\",\"4/2015\",\"5/2015\",\"5/2015\",\"5/2015\",\"5/2015\",\"5/2015\",\"5/2015\",\"5/2015\",\"5/2015\",\"5/2015\",\"5/2015\",\"5/2015\",\"5/2015\",\"5/2015\",\"5/2015\",\"5/2015\",\"5/2015\",\"5/2015\",\"5/2015\",\"5/2015\",\"5/2015\",\"5/2015\",\"5/2015\",\"5/2015\",\"5/2015\",\"5/2015\",\"5/2015\",\"5/2015\",\"5/2015\",\"5/2015\",\"5/2015\",\"5/2015\",\"5/2015\",\"5/2015\",\"5/2015\",\"5/2015\",\"5/2015\",\"6/2015\",\"6/2015\",\"6/2015\",\"6/2015\",\"6/2015\",\"6/2015\",\"6/2015\",\"6/2015\",\"6/2015\",\"6/2015\",\"6/2015\",\"6/2015\",\"6/2015\",\"6/2015\",\"6/2015\",\"6/2015\",\"6/2015\",\"6/2015\",\"6/2015\",\"6/2015\",\"6/2015\",\"6/2015\",\"6/2015\",\"6/2015\",\"6/2015\",\"6/2015\",\"6/2015\",\"6/2015\",\"6/2015\",\"6/2015\",\"6/2015\",\"6/2015\",\"6/2015\",\"6/2015\",\"6/2015\",\"6/2015\",\"7/2015\",\"7/2015\",\"7/2015\",\"7/2015\",\"7/2015\",\"7/2015\",\"7/2015\",\"7/2015\",\"7/2015\",\"7/2015\",\"7/2015\",\"7/2015\",\"7/2015\",\"7/2015\",\"7/2015\",\"7/2015\",\"7/2015\",\"7/2015\",\"7/2015\",\"7/2015\",\"7/2015\",\"7/2015\",\"7/2015\",\"7/2015\",\"7/2015\",\"7/2015\",\"7/2015\",\"7/2015\",\"7/2015\",\"7/2015\",\"7/2015\",\"7/2015\",\"7/2015\",\"7/2015\",\"7/2015\",\"7/2015\",\"8/2015\",\"8/2015\",\"8/2015\",\"8/2015\",\"8/2015\",\"8/2015\",\"8/2015\",\"8/2015\",\"8/2015\",\"8/2015\",\"8/2015\",\"8/2015\",\"8/2015\",\"8/2015\",\"8/2015\",\"8/2015\",\"8/2015\",\"8/2015\",\"8/2015\",\"8/2015\",\"8/2015\",\"8/2015\",\"8/2015\",\"8/2015\",\"8/2015\",\"8/2015\",\"8/2015\",\"8/2015\",\"8/2015\",\"8/2015\",\"8/2015\",\"8/2015\",\"8/2015\",\"8/2015\",\"8/2015\",\"8/2015\",\"9/2015\",\"9/2015\",\"9/2015\",\"9/2015\",\"9/2015\",\"9/2015\",\"9/2015\",\"9/2015\",\"9/2015\",\"9/2015\",\"9/2015\",\"9/2015\",\"9/2015\",\"9/2015\",\"9/2015\",\"9/2015\",\"9/2015\",\"9/2015\",\"9/2015\",\"9/2015\",\"9/2015\",\"9/2015\",\"9/2015\",\"9/2015\",\"9/2015\",\"9/2015\",\"9/2015\",\"9/2015\",\"9/2015\",\"9/2015\",\"9/2015\",\"9/2015\",\"9/2015\",\"9/2015\",\"9/2015\",\"9/2015\",\"10/2015\",\"10/2015\",\"10/2015\",\"10/2015\",\"10/2015\",\"10/2015\",\"10/2015\",\"10/2015\",\"10/2015\",\"10/2015\",\"10/2015\",\"10/2015\",\"10/2015\",\"10/2015\",\"10/2015\",\"10/2015\",\"10/2015\",\"10/2015\",\"10/2015\",\"10/2015\",\"10/2015\",\"10/2015\",\"10/2015\",\"10/2015\",\"10/2015\",\"10/2015\",\"10/2015\",\"10/2015\",\"10/2015\",\"10/2015\",\"10/2015\",\"10/2015\",\"10/2015\",\"10/2015\",\"10/2015\",\"10/2015\",\"11/2015\",\"11/2015\",\"11/2015\",\"11/2015\",\"11/2015\",\"11/2015\",\"11/2015\",\"11/2015\",\"11/2015\",\"11/2015\",\"11/2015\",\"11/2015\",\"11/2015\",\"11/2015\",\"11/2015\",\"11/2015\",\"11/2015\",\"11/2015\",\"11/2015\",\"11/2015\",\"11/2015\",\"11/2015\",\"11/2015\",\"11/2015\",\"11/2015\",\"11/2015\",\"11/2015\",\"11/2015\",\"11/2015\",\"11/2015\",\"11/2015\",\"11/2015\",\"11/2015\",\"11/2015\",\"11/2015\",\"11/2015\",\"12/2015\",\"12/2015\",\"12/2015\",\"12/2015\",\"12/2015\",\"12/2015\",\"12/2015\",\"12/2015\",\"12/2015\",\"12/2015\",\"12/2015\",\"12/2015\",\"12/2015\",\"12/2015\",\"12/2015\",\"12/2015\",\"12/2015\",\"12/2015\",\"12/2015\",\"12/2015\",\"12/2015\",\"12/2015\",\"12/2015\",\"12/2015\",\"12/2015\",\"12/2015\",\"12/2015\",\"12/2015\",\"12/2015\",\"12/2015\",\"12/2015\",\"12/2015\",\"12/2015\",\"12/2015\",\"12/2015\",\"12/2015\",\"1/2016\",\"1/2016\",\"1/2016\",\"1/2016\",\"1/2016\",\"1/2016\",\"1/2016\",\"1/2016\",\"1/2016\",\"1/2016\",\"1/2016\",\"1/2016\",\"1/2016\",\"1/2016\",\"1/2016\",\"1/2016\",\"1/2016\",\"1/2016\",\"1/2016\",\"1/2016\",\"1/2016\",\"1/2016\",\"1/2016\",\"1/2016\",\"1/2016\",\"1/2016\",\"1/2016\",\"1/2016\",\"1/2016\",\"1/2016\",\"1/2016\",\"1/2016\",\"1/2016\",\"1/2016\",\"1/2016\",\"1/2016\",\"2/2016\",\"2/2016\",\"2/2016\",\"2/2016\",\"2/2016\",\"2/2016\",\"2/2016\",\"2/2016\",\"2/2016\",\"2/2016\",\"2/2016\",\"2/2016\",\"2/2016\",\"2/2016\",\"2/2016\",\"2/2016\",\"2/2016\",\"2/2016\",\"2/2016\",\"2/2016\",\"2/2016\",\"2/2016\",\"2/2016\",\"2/2016\",\"2/2016\",\"2/2016\",\"2/2016\",\"2/2016\",\"2/2016\",\"2/2016\",\"2/2016\",\"2/2016\",\"2/2016\",\"2/2016\",\"2/2016\",\"2/2016\",\"3/2016\",\"3/2016\",\"3/2016\",\"3/2016\",\"3/2016\",\"3/2016\",\"3/2016\",\"3/2016\",\"3/2016\",\"3/2016\",\"3/2016\",\"3/2016\",\"3/2016\",\"3/2016\",\"3/2016\",\"3/2016\",\"3/2016\",\"3/2016\",\"3/2016\",\"3/2016\",\"3/2016\",\"3/2016\",\"3/2016\",\"3/2016\",\"3/2016\",\"3/2016\",\"3/2016\",\"3/2016\",\"3/2016\",\"3/2016\",\"3/2016\",\"3/2016\",\"3/2016\",\"3/2016\",\"3/2016\",\"3/2016\",\"4/2016\",\"4/2016\",\"4/2016\",\"4/2016\",\"4/2016\",\"4/2016\",\"4/2016\",\"4/2016\",\"4/2016\",\"4/2016\",\"4/2016\",\"4/2016\",\"4/2016\",\"4/2016\",\"4/2016\",\"4/2016\",\"4/2016\",\"4/2016\",\"4/2016\",\"4/2016\",\"4/2016\",\"4/2016\",\"4/2016\",\"4/2016\",\"4/2016\",\"4/2016\",\"4/2016\",\"4/2016\",\"4/2016\",\"4/2016\",\"4/2016\",\"4/2016\",\"4/2016\",\"4/2016\",\"4/2016\",\"4/2016\",\"5/2016\",\"5/2016\",\"5/2016\",\"5/2016\",\"5/2016\",\"5/2016\",\"5/2016\",\"5/2016\",\"5/2016\",\"5/2016\",\"5/2016\",\"5/2016\",\"5/2016\",\"5/2016\",\"5/2016\",\"5/2016\",\"5/2016\",\"5/2016\",\"5/2016\",\"5/2016\",\"5/2016\",\"5/2016\",\"5/2016\",\"5/2016\",\"5/2016\",\"5/2016\",\"5/2016\",\"5/2016\",\"5/2016\",\"5/2016\",\"5/2016\",\"5/2016\",\"5/2016\",\"5/2016\",\"5/2016\",\"5/2016\",\"6/2016\",\"6/2016\",\"6/2016\",\"6/2016\",\"6/2016\",\"6/2016\",\"6/2016\",\"6/2016\",\"6/2016\",\"6/2016\",\"6/2016\",\"6/2016\",\"6/2016\",\"6/2016\",\"6/2016\",\"6/2016\",\"6/2016\",\"6/2016\",\"6/2016\",\"6/2016\",\"6/2016\",\"6/2016\",\"6/2016\",\"6/2016\",\"6/2016\",\"6/2016\",\"6/2016\",\"6/2016\",\"6/2016\",\"6/2016\",\"6/2016\",\"6/2016\",\"6/2016\",\"6/2016\",\"6/2016\",\"6/2016\",\"7/2016\",\"7/2016\",\"7/2016\",\"7/2016\",\"7/2016\",\"7/2016\",\"7/2016\",\"7/2016\",\"7/2016\",\"7/2016\",\"7/2016\",\"7/2016\",\"7/2016\",\"7/2016\",\"7/2016\",\"7/2016\",\"7/2016\",\"7/2016\",\"7/2016\",\"7/2016\",\"7/2016\",\"7/2016\",\"7/2016\",\"7/2016\",\"7/2016\",\"7/2016\",\"7/2016\",\"7/2016\",\"7/2016\",\"7/2016\",\"7/2016\",\"7/2016\",\"7/2016\",\"7/2016\",\"7/2016\",\"7/2016\",\"8/2016\",\"8/2016\",\"8/2016\",\"8/2016\",\"8/2016\",\"8/2016\",\"8/2016\",\"8/2016\",\"8/2016\",\"8/2016\",\"8/2016\",\"8/2016\",\"8/2016\",\"8/2016\",\"8/2016\",\"8/2016\",\"8/2016\",\"8/2016\",\"8/2016\",\"8/2016\",\"8/2016\",\"8/2016\",\"8/2016\",\"8/2016\",\"8/2016\",\"8/2016\",\"8/2016\",\"8/2016\",\"8/2016\",\"8/2016\",\"8/2016\",\"8/2016\",\"8/2016\",\"8/2016\",\"8/2016\",\"8/2016\",\"9/2016\",\"9/2016\",\"9/2016\",\"9/2016\",\"9/2016\",\"9/2016\",\"9/2016\",\"9/2016\",\"9/2016\",\"9/2016\",\"9/2016\",\"9/2016\",\"9/2016\",\"9/2016\",\"9/2016\",\"9/2016\",\"9/2016\",\"9/2016\",\"9/2016\",\"9/2016\",\"9/2016\",\"9/2016\",\"9/2016\",\"9/2016\",\"9/2016\",\"9/2016\",\"9/2016\",\"9/2016\",\"9/2016\",\"9/2016\",\"9/2016\",\"9/2016\",\"9/2016\",\"9/2016\",\"9/2016\",\"9/2016\",\"10/2016\",\"10/2016\",\"10/2016\",\"10/2016\",\"10/2016\",\"10/2016\",\"10/2016\",\"10/2016\",\"10/2016\",\"10/2016\",\"10/2016\",\"10/2016\",\"10/2016\",\"10/2016\",\"10/2016\",\"10/2016\",\"10/2016\",\"10/2016\",\"10/2016\",\"10/2016\",\"10/2016\",\"10/2016\",\"10/2016\",\"10/2016\",\"10/2016\",\"10/2016\",\"10/2016\",\"10/2016\",\"10/2016\",\"10/2016\",\"10/2016\",\"10/2016\",\"10/2016\",\"10/2016\",\"10/2016\",\"10/2016\",\"11/2016\",\"11/2016\",\"11/2016\",\"11/2016\",\"11/2016\",\"11/2016\",\"11/2016\",\"11/2016\",\"11/2016\",\"11/2016\",\"11/2016\",\"11/2016\",\"11/2016\",\"11/2016\",\"11/2016\",\"11/2016\",\"11/2016\",\"11/2016\",\"11/2016\",\"11/2016\",\"11/2016\",\"11/2016\",\"11/2016\",\"11/2016\",\"11/2016\",\"11/2016\",\"11/2016\",\"11/2016\",\"11/2016\",\"11/2016\",\"11/2016\",\"11/2016\",\"11/2016\",\"11/2016\",\"11/2016\",\"11/2016\",\"12/2016\",\"12/2016\",\"12/2016\",\"12/2016\",\"12/2016\",\"12/2016\",\"12/2016\",\"12/2016\",\"12/2016\",\"12/2016\",\"12/2016\",\"12/2016\",\"12/2016\",\"12/2016\",\"12/2016\",\"12/2016\",\"12/2016\",\"12/2016\",\"12/2016\",\"12/2016\",\"12/2016\",\"12/2016\",\"12/2016\",\"12/2016\",\"12/2016\",\"12/2016\",\"12/2016\",\"12/2016\",\"12/2016\",\"12/2016\",\"12/2016\",\"12/2016\",\"12/2016\",\"12/2016\",\"12/2016\",\"12/2016\",\"1/2017\",\"1/2017\",\"1/2017\",\"1/2017\",\"1/2017\",\"1/2017\",\"1/2017\",\"1/2017\",\"1/2017\",\"1/2017\",\"1/2017\",\"1/2017\",\"1/2017\",\"1/2017\",\"1/2017\",\"1/2017\",\"1/2017\",\"1/2017\",\"1/2017\",\"1/2017\",\"1/2017\",\"1/2017\",\"1/2017\",\"1/2017\",\"1/2017\",\"1/2017\",\"1/2017\",\"1/2017\",\"1/2017\",\"1/2017\",\"1/2017\",\"1/2017\",\"1/2017\",\"1/2017\",\"1/2017\",\"1/2017\",\"2/2017\",\"2/2017\",\"2/2017\",\"2/2017\",\"2/2017\",\"2/2017\",\"2/2017\",\"2/2017\",\"2/2017\",\"2/2017\",\"2/2017\",\"2/2017\",\"2/2017\",\"2/2017\",\"2/2017\",\"2/2017\",\"2/2017\",\"2/2017\",\"2/2017\",\"2/2017\",\"2/2017\",\"2/2017\",\"2/2017\",\"2/2017\",\"2/2017\",\"2/2017\",\"2/2017\",\"2/2017\",\"2/2017\",\"2/2017\",\"2/2017\",\"2/2017\",\"2/2017\",\"2/2017\",\"2/2017\",\"2/2017\",\"3/2017\",\"3/2017\",\"3/2017\",\"3/2017\",\"3/2017\",\"3/2017\",\"3/2017\",\"3/2017\",\"3/2017\",\"3/2017\",\"3/2017\",\"3/2017\",\"3/2017\",\"3/2017\",\"3/2017\",\"3/2017\",\"3/2017\",\"3/2017\",\"3/2017\",\"3/2017\",\"3/2017\",\"3/2017\",\"3/2017\",\"3/2017\",\"3/2017\",\"3/2017\",\"3/2017\",\"3/2017\",\"3/2017\",\"3/2017\",\"3/2017\",\"3/2017\",\"3/2017\",\"3/2017\",\"3/2017\",\"3/2017\",\"4/2017\",\"4/2017\",\"4/2017\",\"4/2017\",\"4/2017\",\"4/2017\",\"4/2017\",\"4/2017\",\"4/2017\",\"4/2017\",\"4/2017\",\"4/2017\",\"4/2017\",\"4/2017\",\"4/2017\",\"4/2017\",\"4/2017\",\"4/2017\",\"4/2017\",\"4/2017\",\"4/2017\",\"4/2017\",\"4/2017\",\"4/2017\",\"4/2017\",\"4/2017\",\"4/2017\",\"4/2017\",\"4/2017\",\"4/2017\",\"4/2017\",\"4/2017\",\"4/2017\",\"4/2017\",\"4/2017\",\"4/2017\",\"5/2017\",\"5/2017\",\"5/2017\",\"5/2017\",\"5/2017\",\"5/2017\",\"5/2017\",\"5/2017\",\"5/2017\",\"5/2017\",\"5/2017\",\"5/2017\",\"5/2017\",\"5/2017\",\"5/2017\",\"5/2017\",\"5/2017\",\"5/2017\",\"5/2017\",\"5/2017\",\"5/2017\",\"5/2017\",\"5/2017\",\"5/2017\",\"5/2017\",\"5/2017\",\"5/2017\",\"5/2017\",\"5/2017\",\"5/2017\",\"5/2017\",\"5/2017\",\"5/2017\",\"5/2017\",\"5/2017\",\"5/2017\",\"6/2017\",\"6/2017\",\"6/2017\",\"6/2017\",\"6/2017\",\"6/2017\",\"6/2017\",\"6/2017\",\"6/2017\",\"6/2017\",\"6/2017\",\"6/2017\",\"6/2017\",\"6/2017\",\"6/2017\",\"6/2017\",\"6/2017\",\"6/2017\",\"6/2017\",\"6/2017\",\"6/2017\",\"6/2017\",\"6/2017\",\"6/2017\",\"6/2017\",\"6/2017\",\"6/2017\",\"6/2017\",\"6/2017\",\"6/2017\",\"6/2017\",\"6/2017\",\"6/2017\",\"6/2017\",\"6/2017\",\"6/2017\",\"7/2017\",\"7/2017\",\"7/2017\",\"7/2017\",\"7/2017\",\"7/2017\",\"7/2017\",\"7/2017\",\"7/2017\",\"7/2017\",\"7/2017\",\"7/2017\",\"7/2017\",\"7/2017\",\"7/2017\",\"7/2017\",\"7/2017\",\"7/2017\",\"7/2017\",\"7/2017\",\"7/2017\",\"7/2017\",\"7/2017\",\"7/2017\",\"7/2017\",\"7/2017\",\"7/2017\",\"7/2017\",\"7/2017\",\"7/2017\",\"7/2017\",\"7/2017\",\"7/2017\",\"7/2017\",\"7/2017\",\"7/2017\",\"8/2017\",\"8/2017\",\"8/2017\",\"8/2017\",\"8/2017\",\"8/2017\",\"8/2017\",\"8/2017\",\"8/2017\",\"8/2017\",\"8/2017\",\"8/2017\",\"8/2017\",\"8/2017\",\"8/2017\",\"8/2017\",\"8/2017\",\"8/2017\",\"8/2017\",\"8/2017\",\"8/2017\",\"8/2017\",\"8/2017\",\"8/2017\",\"8/2017\",\"8/2017\",\"8/2017\",\"8/2017\",\"8/2017\",\"8/2017\",\"8/2017\",\"8/2017\",\"8/2017\",\"8/2017\",\"8/2017\",\"8/2017\",\"9/2017\",\"9/2017\",\"9/2017\",\"9/2017\",\"9/2017\",\"9/2017\",\"9/2017\",\"9/2017\",\"9/2017\",\"9/2017\",\"9/2017\",\"9/2017\",\"9/2017\",\"9/2017\",\"9/2017\",\"9/2017\",\"9/2017\",\"9/2017\",\"9/2017\",\"9/2017\",\"9/2017\",\"9/2017\",\"9/2017\",\"9/2017\",\"9/2017\",\"9/2017\",\"9/2017\",\"9/2017\",\"9/2017\",\"9/2017\",\"9/2017\",\"9/2017\",\"9/2017\",\"9/2017\",\"9/2017\",\"9/2017\",\"10/2017\",\"10/2017\",\"10/2017\",\"10/2017\",\"10/2017\",\"10/2017\",\"10/2017\",\"10/2017\",\"10/2017\",\"10/2017\",\"10/2017\",\"10/2017\",\"10/2017\",\"10/2017\",\"10/2017\",\"10/2017\",\"10/2017\",\"10/2017\",\"10/2017\",\"10/2017\",\"10/2017\",\"10/2017\",\"10/2017\",\"10/2017\",\"10/2017\",\"10/2017\",\"10/2017\",\"10/2017\",\"10/2017\",\"10/2017\",\"10/2017\",\"10/2017\",\"10/2017\",\"10/2017\",\"10/2017\",\"10/2017\",\"11/2017\",\"11/2017\",\"11/2017\",\"11/2017\",\"11/2017\",\"11/2017\",\"11/2017\",\"11/2017\",\"11/2017\",\"11/2017\",\"11/2017\",\"11/2017\",\"11/2017\",\"11/2017\",\"11/2017\",\"11/2017\",\"11/2017\",\"11/2017\",\"11/2017\",\"11/2017\",\"11/2017\",\"11/2017\",\"11/2017\",\"11/2017\",\"11/2017\",\"11/2017\",\"11/2017\",\"11/2017\",\"11/2017\",\"11/2017\",\"11/2017\",\"11/2017\",\"11/2017\",\"11/2017\",\"11/2017\",\"11/2017\",\"12/2017\",\"12/2017\",\"12/2017\",\"12/2017\",\"12/2017\",\"12/2017\",\"12/2017\",\"12/2017\",\"12/2017\",\"12/2017\",\"12/2017\",\"12/2017\",\"12/2017\",\"12/2017\",\"12/2017\",\"12/2017\",\"12/2017\",\"12/2017\",\"12/2017\",\"12/2017\",\"12/2017\",\"12/2017\",\"12/2017\",\"12/2017\",\"12/2017\",\"12/2017\",\"12/2017\",\"12/2017\",\"12/2017\",\"12/2017\",\"12/2017\",\"12/2017\",\"12/2017\",\"12/2017\",\"12/2017\",\"12/2017\",\"1/2018\",\"1/2018\",\"1/2018\",\"1/2018\",\"1/2018\",\"1/2018\",\"1/2018\",\"1/2018\",\"1/2018\",\"1/2018\",\"1/2018\",\"1/2018\",\"1/2018\",\"1/2018\",\"1/2018\",\"1/2018\",\"1/2018\",\"1/2018\",\"1/2018\",\"1/2018\",\"1/2018\",\"1/2018\",\"1/2018\",\"1/2018\",\"1/2018\",\"1/2018\",\"1/2018\",\"1/2018\",\"1/2018\",\"1/2018\",\"1/2018\",\"1/2018\",\"1/2018\",\"1/2018\",\"1/2018\",\"1/2018\",\"2/2018\",\"2/2018\",\"2/2018\",\"2/2018\",\"2/2018\",\"2/2018\",\"2/2018\",\"2/2018\",\"2/2018\",\"2/2018\",\"2/2018\",\"2/2018\",\"2/2018\",\"2/2018\",\"2/2018\",\"2/2018\",\"2/2018\",\"2/2018\",\"2/2018\",\"2/2018\",\"2/2018\",\"2/2018\",\"2/2018\",\"2/2018\",\"2/2018\",\"2/2018\",\"2/2018\",\"2/2018\",\"2/2018\",\"2/2018\",\"2/2018\",\"2/2018\",\"2/2018\",\"2/2018\",\"2/2018\",\"2/2018\",\"3/2018\",\"3/2018\",\"3/2018\",\"3/2018\",\"3/2018\",\"3/2018\",\"3/2018\",\"3/2018\",\"3/2018\",\"3/2018\",\"3/2018\",\"3/2018\",\"3/2018\",\"3/2018\",\"3/2018\",\"3/2018\",\"3/2018\",\"3/2018\",\"3/2018\",\"3/2018\",\"3/2018\",\"3/2018\",\"3/2018\",\"3/2018\",\"3/2018\",\"3/2018\",\"3/2018\",\"3/2018\",\"3/2018\",\"3/2018\",\"3/2018\",\"3/2018\",\"3/2018\",\"3/2018\",\"3/2018\",\"3/2018\",\"4/2018\",\"4/2018\",\"4/2018\",\"4/2018\",\"4/2018\",\"4/2018\",\"4/2018\",\"4/2018\",\"4/2018\",\"4/2018\",\"4/2018\",\"4/2018\",\"4/2018\",\"4/2018\",\"4/2018\",\"4/2018\",\"4/2018\",\"4/2018\",\"4/2018\",\"4/2018\",\"4/2018\",\"4/2018\",\"4/2018\",\"4/2018\",\"4/2018\",\"4/2018\",\"4/2018\",\"4/2018\",\"4/2018\",\"4/2018\",\"4/2018\",\"4/2018\",\"4/2018\",\"4/2018\",\"4/2018\",\"4/2018\",\"5/2018\",\"5/2018\",\"5/2018\",\"5/2018\",\"5/2018\",\"5/2018\",\"5/2018\",\"5/2018\",\"5/2018\",\"5/2018\",\"5/2018\",\"5/2018\",\"5/2018\",\"5/2018\",\"5/2018\",\"5/2018\",\"5/2018\",\"5/2018\",\"5/2018\",\"5/2018\",\"5/2018\",\"5/2018\",\"5/2018\",\"5/2018\",\"5/2018\",\"5/2018\",\"5/2018\",\"5/2018\",\"5/2018\",\"5/2018\",\"5/2018\",\"5/2018\",\"5/2018\",\"5/2018\",\"5/2018\",\"5/2018\",\"6/2018\",\"6/2018\",\"6/2018\",\"6/2018\",\"6/2018\",\"6/2018\",\"6/2018\",\"6/2018\",\"6/2018\",\"6/2018\",\"6/2018\",\"6/2018\",\"6/2018\",\"6/2018\",\"6/2018\",\"6/2018\",\"6/2018\",\"6/2018\",\"6/2018\",\"6/2018\",\"6/2018\",\"6/2018\",\"6/2018\",\"6/2018\",\"6/2018\",\"6/2018\",\"6/2018\",\"6/2018\",\"6/2018\",\"6/2018\",\"6/2018\",\"6/2018\",\"6/2018\",\"6/2018\",\"6/2018\",\"6/2018\",\"7/2018\",\"7/2018\",\"7/2018\",\"7/2018\",\"7/2018\",\"7/2018\",\"7/2018\",\"7/2018\",\"7/2018\",\"7/2018\",\"7/2018\",\"7/2018\",\"7/2018\",\"7/2018\",\"7/2018\",\"7/2018\",\"7/2018\",\"7/2018\",\"7/2018\",\"7/2018\",\"7/2018\",\"7/2018\",\"7/2018\",\"7/2018\",\"7/2018\",\"7/2018\",\"7/2018\",\"7/2018\",\"7/2018\",\"7/2018\",\"7/2018\",\"7/2018\",\"7/2018\",\"7/2018\",\"7/2018\",\"7/2018\",\"8/2018\",\"8/2018\",\"8/2018\",\"8/2018\",\"8/2018\",\"8/2018\",\"8/2018\",\"8/2018\",\"8/2018\",\"8/2018\",\"8/2018\",\"8/2018\",\"8/2018\",\"8/2018\",\"8/2018\",\"8/2018\",\"8/2018\",\"8/2018\",\"8/2018\",\"8/2018\",\"8/2018\",\"8/2018\",\"8/2018\",\"8/2018\",\"8/2018\",\"8/2018\",\"8/2018\",\"8/2018\",\"8/2018\",\"8/2018\",\"8/2018\",\"8/2018\",\"8/2018\",\"8/2018\",\"8/2018\",\"8/2018\",\"9/2018\",\"9/2018\",\"9/2018\",\"9/2018\",\"9/2018\",\"9/2018\",\"9/2018\",\"9/2018\",\"9/2018\",\"9/2018\",\"9/2018\",\"9/2018\",\"9/2018\",\"9/2018\",\"9/2018\",\"9/2018\",\"9/2018\",\"9/2018\",\"9/2018\",\"9/2018\",\"9/2018\",\"9/2018\",\"9/2018\",\"9/2018\",\"9/2018\",\"9/2018\",\"9/2018\",\"9/2018\",\"9/2018\",\"9/2018\",\"9/2018\",\"9/2018\",\"9/2018\",\"9/2018\",\"9/2018\",\"9/2018\",\"10/2018\",\"10/2018\",\"10/2018\",\"10/2018\",\"10/2018\",\"10/2018\",\"10/2018\",\"10/2018\",\"10/2018\",\"10/2018\",\"10/2018\",\"10/2018\",\"10/2018\",\"10/2018\",\"10/2018\",\"10/2018\",\"10/2018\",\"10/2018\",\"10/2018\",\"10/2018\",\"10/2018\",\"10/2018\",\"10/2018\",\"10/2018\",\"10/2018\",\"10/2018\",\"10/2018\",\"10/2018\",\"10/2018\",\"10/2018\",\"10/2018\",\"10/2018\",\"10/2018\",\"10/2018\",\"10/2018\",\"10/2018\",\"11/2018\",\"11/2018\",\"11/2018\",\"11/2018\",\"11/2018\",\"11/2018\",\"11/2018\",\"11/2018\",\"11/2018\",\"11/2018\",\"11/2018\",\"11/2018\",\"11/2018\",\"11/2018\",\"11/2018\",\"11/2018\",\"11/2018\",\"11/2018\",\"11/2018\",\"11/2018\",\"11/2018\",\"11/2018\",\"11/2018\",\"11/2018\",\"11/2018\",\"11/2018\",\"11/2018\",\"11/2018\",\"11/2018\",\"11/2018\",\"11/2018\",\"11/2018\",\"11/2018\",\"11/2018\",\"11/2018\",\"11/2018\",\"12/2018\",\"12/2018\",\"12/2018\",\"12/2018\",\"12/2018\",\"12/2018\",\"12/2018\",\"12/2018\",\"12/2018\",\"12/2018\",\"12/2018\",\"12/2018\",\"12/2018\",\"12/2018\",\"12/2018\",\"12/2018\",\"12/2018\",\"12/2018\",\"12/2018\",\"12/2018\",\"12/2018\",\"12/2018\",\"12/2018\",\"12/2018\",\"12/2018\",\"12/2018\",\"12/2018\",\"12/2018\",\"12/2018\",\"12/2018\",\"12/2018\",\"12/2018\",\"12/2018\",\"12/2018\",\"12/2018\",\"12/2018\",\"1/2019\",\"1/2019\",\"1/2019\",\"1/2019\",\"1/2019\",\"1/2019\",\"1/2019\",\"1/2019\",\"1/2019\",\"1/2019\",\"1/2019\",\"1/2019\",\"1/2019\",\"1/2019\",\"1/2019\",\"1/2019\",\"1/2019\",\"1/2019\",\"1/2019\",\"1/2019\",\"1/2019\",\"1/2019\",\"1/2019\",\"1/2019\",\"1/2019\",\"1/2019\",\"1/2019\",\"1/2019\",\"1/2019\",\"1/2019\",\"1/2019\",\"1/2019\",\"1/2019\",\"1/2019\",\"1/2019\",\"1/2019\",\"2/2019\",\"2/2019\",\"2/2019\",\"2/2019\",\"2/2019\",\"2/2019\",\"2/2019\",\"2/2019\",\"2/2019\",\"2/2019\",\"2/2019\",\"2/2019\",\"2/2019\",\"2/2019\",\"2/2019\",\"2/2019\",\"2/2019\",\"2/2019\",\"2/2019\",\"2/2019\",\"2/2019\",\"2/2019\",\"2/2019\",\"2/2019\",\"2/2019\",\"2/2019\",\"2/2019\",\"2/2019\",\"2/2019\",\"2/2019\",\"2/2019\",\"2/2019\",\"2/2019\",\"2/2019\",\"2/2019\",\"2/2019\",\"3/2019\",\"3/2019\",\"3/2019\",\"3/2019\",\"3/2019\",\"3/2019\",\"3/2019\",\"3/2019\",\"3/2019\",\"3/2019\",\"3/2019\",\"3/2019\",\"3/2019\",\"3/2019\",\"3/2019\",\"3/2019\",\"3/2019\",\"3/2019\",\"3/2019\",\"3/2019\",\"3/2019\",\"3/2019\",\"3/2019\",\"3/2019\",\"3/2019\",\"3/2019\",\"3/2019\",\"3/2019\",\"3/2019\",\"3/2019\",\"3/2019\",\"3/2019\",\"3/2019\",\"3/2019\",\"3/2019\",\"3/2019\",\"4/2019\",\"4/2019\",\"4/2019\",\"4/2019\",\"4/2019\",\"4/2019\",\"4/2019\",\"4/2019\",\"4/2019\",\"4/2019\",\"4/2019\",\"4/2019\",\"4/2019\",\"4/2019\",\"4/2019\",\"4/2019\",\"4/2019\",\"4/2019\",\"4/2019\",\"4/2019\",\"4/2019\",\"4/2019\",\"4/2019\",\"4/2019\",\"4/2019\",\"4/2019\",\"4/2019\",\"4/2019\",\"4/2019\",\"4/2019\",\"4/2019\",\"4/2019\",\"4/2019\",\"4/2019\",\"4/2019\",\"4/2019\",\"5/2019\",\"5/2019\",\"5/2019\",\"5/2019\",\"5/2019\",\"5/2019\",\"5/2019\",\"5/2019\",\"5/2019\",\"5/2019\",\"5/2019\",\"5/2019\",\"5/2019\",\"5/2019\",\"5/2019\",\"5/2019\",\"5/2019\",\"5/2019\",\"5/2019\",\"5/2019\",\"5/2019\",\"5/2019\",\"5/2019\",\"5/2019\",\"5/2019\",\"5/2019\",\"5/2019\",\"5/2019\",\"5/2019\",\"5/2019\",\"5/2019\",\"5/2019\",\"5/2019\",\"5/2019\",\"5/2019\",\"5/2019\",\"6/2019\",\"6/2019\",\"6/2019\",\"6/2019\",\"6/2019\",\"6/2019\",\"6/2019\",\"6/2019\",\"6/2019\",\"6/2019\",\"6/2019\",\"6/2019\",\"6/2019\",\"6/2019\",\"6/2019\",\"6/2019\",\"6/2019\",\"6/2019\",\"6/2019\",\"6/2019\",\"6/2019\",\"6/2019\",\"6/2019\",\"6/2019\",\"6/2019\",\"6/2019\",\"6/2019\",\"6/2019\",\"6/2019\",\"6/2019\",\"6/2019\",\"6/2019\",\"6/2019\",\"6/2019\",\"6/2019\",\"6/2019\",\"7/2019\",\"7/2019\",\"7/2019\",\"7/2019\",\"7/2019\",\"7/2019\",\"7/2019\",\"7/2019\",\"7/2019\",\"7/2019\",\"7/2019\",\"7/2019\",\"7/2019\",\"7/2019\",\"7/2019\",\"7/2019\",\"7/2019\",\"7/2019\",\"7/2019\",\"7/2019\",\"7/2019\",\"7/2019\",\"7/2019\",\"7/2019\",\"7/2019\",\"7/2019\",\"7/2019\",\"7/2019\",\"7/2019\",\"7/2019\",\"7/2019\",\"7/2019\",\"7/2019\",\"7/2019\",\"7/2019\",\"7/2019\",\"8/2019\",\"8/2019\",\"8/2019\",\"8/2019\",\"8/2019\",\"8/2019\",\"8/2019\",\"8/2019\",\"8/2019\",\"8/2019\",\"8/2019\",\"8/2019\",\"8/2019\",\"8/2019\",\"8/2019\",\"8/2019\",\"8/2019\",\"8/2019\",\"8/2019\",\"8/2019\",\"8/2019\",\"8/2019\",\"8/2019\",\"8/2019\",\"8/2019\",\"8/2019\",\"8/2019\",\"8/2019\",\"8/2019\",\"8/2019\",\"8/2019\",\"8/2019\",\"8/2019\",\"8/2019\",\"8/2019\",\"8/2019\",\"9/2019\",\"9/2019\",\"9/2019\",\"9/2019\",\"9/2019\",\"9/2019\",\"9/2019\",\"9/2019\",\"9/2019\",\"9/2019\",\"9/2019\",\"9/2019\",\"9/2019\",\"9/2019\",\"9/2019\",\"9/2019\",\"9/2019\",\"9/2019\",\"9/2019\",\"9/2019\",\"9/2019\",\"9/2019\",\"9/2019\",\"9/2019\",\"9/2019\",\"9/2019\",\"9/2019\",\"9/2019\",\"9/2019\",\"9/2019\",\"9/2019\",\"9/2019\",\"9/2019\",\"9/2019\",\"9/2019\",\"9/2019\",\"10/2019\",\"10/2019\",\"10/2019\",\"10/2019\",\"10/2019\",\"10/2019\",\"10/2019\",\"10/2019\",\"10/2019\",\"10/2019\",\"10/2019\",\"10/2019\",\"10/2019\",\"10/2019\",\"10/2019\",\"10/2019\",\"10/2019\",\"10/2019\",\"10/2019\",\"10/2019\",\"10/2019\",\"10/2019\",\"10/2019\",\"10/2019\",\"10/2019\",\"10/2019\",\"10/2019\",\"10/2019\",\"10/2019\",\"10/2019\",\"10/2019\",\"10/2019\",\"10/2019\",\"10/2019\",\"10/2019\",\"10/2019\",\"11/2019\",\"11/2019\",\"11/2019\",\"11/2019\",\"11/2019\",\"11/2019\",\"11/2019\",\"11/2019\",\"11/2019\",\"11/2019\",\"11/2019\",\"11/2019\",\"11/2019\",\"11/2019\",\"11/2019\",\"11/2019\",\"11/2019\",\"11/2019\",\"11/2019\",\"11/2019\",\"11/2019\",\"11/2019\",\"11/2019\",\"11/2019\",\"11/2019\",\"11/2019\",\"11/2019\",\"11/2019\",\"11/2019\",\"11/2019\",\"11/2019\",\"11/2019\",\"11/2019\",\"11/2019\",\"11/2019\",\"11/2019\",\"12/2019\",\"12/2019\",\"12/2019\",\"12/2019\",\"12/2019\",\"12/2019\",\"12/2019\",\"12/2019\",\"12/2019\",\"12/2019\",\"12/2019\",\"12/2019\",\"12/2019\",\"12/2019\",\"12/2019\",\"12/2019\",\"12/2019\",\"12/2019\",\"12/2019\",\"12/2019\",\"12/2019\",\"12/2019\",\"12/2019\",\"12/2019\",\"12/2019\",\"12/2019\",\"12/2019\",\"12/2019\",\"12/2019\",\"12/2019\",\"12/2019\",\"12/2019\",\"12/2019\",\"12/2019\",\"12/2019\",\"12/2019\",\"1/2020\",\"1/2020\",\"1/2020\",\"1/2020\",\"1/2020\",\"1/2020\",\"1/2020\",\"1/2020\",\"1/2020\",\"1/2020\",\"1/2020\",\"1/2020\",\"1/2020\",\"1/2020\",\"1/2020\",\"1/2020\",\"1/2020\",\"1/2020\",\"1/2020\",\"1/2020\",\"1/2020\",\"1/2020\",\"1/2020\",\"1/2020\",\"1/2020\",\"1/2020\",\"1/2020\",\"1/2020\",\"1/2020\",\"1/2020\",\"1/2020\",\"1/2020\",\"1/2020\",\"1/2020\",\"1/2020\",\"1/2020\",\"2/2020\",\"2/2020\",\"2/2020\",\"2/2020\",\"2/2020\",\"2/2020\",\"2/2020\",\"2/2020\",\"2/2020\",\"2/2020\",\"2/2020\",\"2/2020\",\"2/2020\",\"2/2020\",\"2/2020\",\"2/2020\",\"2/2020\",\"2/2020\",\"2/2020\",\"2/2020\",\"2/2020\",\"2/2020\",\"2/2020\",\"2/2020\",\"2/2020\",\"2/2020\",\"2/2020\",\"2/2020\",\"2/2020\",\"2/2020\",\"2/2020\",\"2/2020\",\"2/2020\",\"2/2020\",\"2/2020\",\"2/2020\",\"3/2020\",\"3/2020\",\"3/2020\",\"3/2020\",\"3/2020\",\"3/2020\",\"3/2020\",\"3/2020\",\"3/2020\",\"3/2020\",\"3/2020\",\"3/2020\",\"3/2020\",\"3/2020\",\"3/2020\",\"3/2020\",\"3/2020\",\"3/2020\",\"3/2020\",\"3/2020\",\"3/2020\",\"3/2020\",\"3/2020\",\"3/2020\",\"3/2020\",\"3/2020\",\"3/2020\",\"3/2020\",\"3/2020\",\"3/2020\",\"3/2020\",\"3/2020\",\"3/2020\",\"3/2020\",\"3/2020\",\"3/2020\",\"4/2020\",\"4/2020\",\"4/2020\",\"4/2020\",\"4/2020\",\"4/2020\",\"4/2020\",\"4/2020\",\"4/2020\",\"4/2020\",\"4/2020\",\"4/2020\",\"4/2020\",\"4/2020\",\"4/2020\",\"4/2020\",\"4/2020\",\"4/2020\",\"4/2020\",\"4/2020\",\"4/2020\",\"4/2020\",\"4/2020\",\"4/2020\",\"4/2020\",\"4/2020\",\"4/2020\",\"4/2020\",\"4/2020\",\"4/2020\",\"4/2020\",\"4/2020\",\"4/2020\",\"4/2020\",\"4/2020\",\"4/2020\",\"5/2020\",\"5/2020\",\"5/2020\",\"5/2020\",\"5/2020\",\"5/2020\",\"5/2020\",\"5/2020\",\"5/2020\",\"5/2020\",\"5/2020\",\"5/2020\",\"5/2020\",\"5/2020\",\"5/2020\",\"5/2020\",\"5/2020\",\"5/2020\",\"5/2020\",\"5/2020\",\"5/2020\",\"5/2020\",\"5/2020\",\"5/2020\",\"5/2020\",\"5/2020\",\"5/2020\",\"5/2020\",\"5/2020\",\"5/2020\",\"5/2020\",\"5/2020\",\"5/2020\",\"5/2020\",\"5/2020\",\"5/2020\",\"6/2020\",\"6/2020\",\"6/2020\",\"6/2020\",\"6/2020\",\"6/2020\",\"6/2020\",\"6/2020\",\"6/2020\",\"6/2020\",\"6/2020\",\"6/2020\",\"6/2020\",\"6/2020\",\"6/2020\",\"6/2020\",\"6/2020\",\"6/2020\",\"6/2020\",\"6/2020\",\"6/2020\",\"6/2020\",\"6/2020\",\"6/2020\",\"6/2020\",\"6/2020\",\"6/2020\",\"6/2020\",\"6/2020\",\"6/2020\",\"6/2020\",\"6/2020\",\"6/2020\",\"6/2020\",\"6/2020\",\"6/2020\",\"7/2020\",\"7/2020\",\"7/2020\",\"7/2020\",\"7/2020\",\"7/2020\",\"7/2020\",\"7/2020\",\"7/2020\",\"7/2020\",\"7/2020\",\"7/2020\",\"7/2020\",\"7/2020\",\"7/2020\",\"7/2020\",\"7/2020\",\"7/2020\",\"7/2020\",\"7/2020\",\"7/2020\",\"7/2020\",\"7/2020\",\"7/2020\",\"7/2020\",\"7/2020\",\"7/2020\",\"7/2020\",\"7/2020\",\"7/2020\",\"7/2020\",\"7/2020\",\"7/2020\",\"7/2020\",\"7/2020\",\"7/2020\",\"8/2020\",\"8/2020\",\"8/2020\",\"8/2020\",\"8/2020\",\"8/2020\",\"8/2020\",\"8/2020\",\"8/2020\",\"8/2020\",\"8/2020\",\"8/2020\",\"8/2020\",\"8/2020\",\"8/2020\",\"8/2020\",\"8/2020\",\"8/2020\",\"8/2020\",\"8/2020\",\"8/2020\",\"8/2020\",\"8/2020\",\"8/2020\",\"8/2020\",\"8/2020\",\"8/2020\",\"8/2020\",\"8/2020\",\"8/2020\",\"8/2020\",\"8/2020\",\"8/2020\",\"8/2020\",\"8/2020\",\"8/2020\",\"9/2020\",\"9/2020\",\"9/2020\",\"9/2020\",\"9/2020\",\"9/2020\",\"9/2020\",\"9/2020\",\"9/2020\",\"9/2020\",\"9/2020\",\"9/2020\",\"9/2020\",\"9/2020\",\"9/2020\",\"9/2020\",\"9/2020\",\"9/2020\",\"9/2020\",\"9/2020\",\"9/2020\",\"9/2020\",\"9/2020\",\"9/2020\",\"9/2020\",\"9/2020\",\"9/2020\",\"9/2020\",\"9/2020\",\"9/2020\",\"9/2020\",\"9/2020\",\"9/2020\",\"9/2020\",\"9/2020\",\"9/2020\",\"10/2020\",\"10/2020\",\"10/2020\",\"10/2020\",\"10/2020\",\"10/2020\",\"10/2020\",\"10/2020\",\"10/2020\",\"10/2020\",\"10/2020\",\"10/2020\",\"10/2020\",\"10/2020\",\"10/2020\",\"10/2020\",\"10/2020\",\"10/2020\",\"10/2020\",\"10/2020\",\"10/2020\",\"10/2020\",\"10/2020\",\"10/2020\",\"10/2020\",\"10/2020\",\"10/2020\",\"10/2020\",\"10/2020\",\"10/2020\",\"10/2020\",\"10/2020\",\"10/2020\",\"10/2020\",\"10/2020\",\"10/2020\",\"11/2020\",\"11/2020\",\"11/2020\",\"11/2020\",\"11/2020\",\"11/2020\",\"11/2020\",\"11/2020\",\"11/2020\",\"11/2020\",\"11/2020\",\"11/2020\",\"11/2020\",\"11/2020\",\"11/2020\",\"11/2020\",\"11/2020\",\"11/2020\",\"11/2020\",\"11/2020\",\"11/2020\",\"11/2020\",\"11/2020\",\"11/2020\",\"11/2020\",\"11/2020\",\"11/2020\",\"11/2020\",\"11/2020\",\"11/2020\",\"11/2020\",\"11/2020\",\"11/2020\",\"11/2020\",\"11/2020\",\"11/2020\",\"12/2020\",\"12/2020\",\"12/2020\",\"12/2020\",\"12/2020\",\"12/2020\",\"12/2020\",\"12/2020\",\"12/2020\",\"12/2020\",\"12/2020\",\"12/2020\",\"12/2020\",\"12/2020\",\"12/2020\",\"12/2020\",\"12/2020\",\"12/2020\",\"12/2020\",\"12/2020\",\"12/2020\",\"12/2020\",\"12/2020\",\"12/2020\",\"12/2020\",\"12/2020\",\"12/2020\",\"12/2020\",\"12/2020\",\"12/2020\",\"12/2020\",\"12/2020\",\"12/2020\",\"12/2020\",\"12/2020\",\"12/2020\"],\"xaxis\":\"x\",\"y\":[7922.970435755875,10521.30672166583,4739.122199688704,28702.96549521671,992.4627459234312,4274.69394772808,22181.48181836208,6160.566005427702,1423.0195243263724,21310.00011234969,8023.337726674561,10592.377767219068,3380.927340368426,3495.1199903751167,3016.0878820784724,5691.210781006328,6377.013550187453,4024.1430758305232,1177.9562134915702,9016.415376772238,28937.30525532324,3671.417036702738,1156.1600228735997,3157.021725139582,19147.795827462895,8170.933590942581,6220.916945992696,15872.332142713669,4489.893489524816,3881.438721476424,1617.5146765396223,5199.890377859492,22959.27168936978,4079.136713789344,7958.29792364167,1568.8155806922364,6464.558624557852,5543.335644649658,2733.2810347312693,19427.09743155924,594.760540166068,2254.4616321982285,11253.016356318967,3118.2053390188094,1125.768749369729,17914.985738034153,6135.612632068685,5512.644094873343,2874.530646429323,2112.7261681674263,1972.849695152938,2805.1297731252344,3290.4238428349563,3438.297191411035,854.5484203023509,6622.608152646454,21868.67010400625,3096.8145140461083,672.9094561451903,2143.801162855501,16300.265622708865,7332.13923529238,3426.036631975036,13622.857892636546,4358.023787624679,2655.2341290347904,1285.2898884395586,2981.262732881341,15002.383483912745,3435.0444095407984,5227.745144572095,1334.9805091652706,6616.092291339302,5294.892373849409,4984.394796965439,18849.7989000894,661.9876507376564,2413.836935339188,11502.382665239744,6552.162082408772,1137.637944952395,18756.030052659014,6101.340585781083,10523.853176613122,3111.117917218556,1964.2996594353235,2032.398682136572,2967.5023809529625,6357.94082108074,4581.505520247077,788.0522136097175,6746.785795078482,22619.041039460222,3181.290787514107,1250.9308033287675,2260.6158262371587,19699.54250937049,8354.674408765986,3683.1275137536086,15752.430180044585,4219.947431706464,2885.807733513915,1629.969494113014,3192.925833469956,23840.505712657632,3723.1807120994586,5639.191830107305,1810.217303661315,8244.99192849074,11010.452412927234,2750.7095192954357,30484.028683768807,666.4481144075917,2551.753245280913,11618.618712142696,3492.3958780908715,1234.670735919811,18870.624392172245,6173.108444848002,5748.596891919313,3231.337534201205,2237.3370166867944,2031.957387404761,5769.632509669692,3475.4617122920004,3800.994641150384,890.8115521554386,7183.186331067914,22279.576987373952,4387.847000109952,746.8484153916897,2360.2902070332248,16520.4154250799,7232.3863893921825,3541.096488593781,13658.120990601015,4508.137512272428,2883.286002857372,1459.111403550328,6059.5216261777805,15406.467638994212,3743.335855554228,8522.989791636823,1290.348555663115,6602.132648831447,5267.190367124247,5274.473184930693,19924.181688263543,1378.4654833398624,2656.393881760765,11512.366879381929,7079.250388550967,1001.4215091481732,18821.90779086259,6160.127935727283,10636.729393841832,3522.997237163064,4246.984265856092,3261.2832429906107,2897.833563541193,6488.057903986326,4941.443760643699,1041.818620582742,7275.425138479556,30154.06813830923,3490.407175938823,1362.9477533793618,2589.445347505885,20598.86327339908,8307.25022615075,3919.028666776821,16556.82985313136,4730.142549775813,4619.211759110834,1868.5206599395085,3350.6147935964527,24702.33161041049,4030.231813753644,5751.624464120819,1915.35046546017,7032.700478017239,5546.045668869176,2737.736109019177,20222.080177576823,737.0138361363856,2547.87038668424,12078.93857980041,3805.844994668144,1320.846445465856,19405.60746920192,5905.629810313757,5465.816422168904,3459.888424484729,2285.8772480394077,2159.521240417687,2769.7982326245838,3320.9469685767617,4275.651363531932,982.1831316068376,7518.638762169352,23319.085780370544,3587.749858031072,732.0910267041794,2538.341323425013,17001.249109396085,7653.65767069433,3960.794628843704,14027.83067464363,5003.955139978134,3198.2682706742057,1655.063550031365,3347.39215537768,15896.529014732096,4069.208997089164,6156.096823662202,1512.9370644182277,8437.51786491032,11394.36262019315,5236.191951690441,31709.73045918152,716.5576660329726,5147.944015511448,24216.00506529994,7582.202216699404,1884.0903434336535,23352.60919069308,7697.823700191158,10671.549061834035,4380.937601057555,2118.0010908850263,2081.3482626966397,5729.5737302404805,6346.79525288704,4960.398261678532,1462.0594148994564,8812.091918179152,23083.067043834704,5013.148345622994,1407.3724592932342,4150.425398591213,20669.780854585228,8412.893382610053,7723.302297536487,16690.200928231432,5825.040948846221,3241.703051551397,2050.816265000059,6812.295809206817,25507.60309103357,5314.736874614805,9430.263484790568,2001.3158332455444,6919.862785612867,5712.245098354699,2807.5041416914296,20384.392332028856,778.8577655681105,2738.354351547626,12245.567320638922,4246.668542811868,1489.7784305443718,19759.101066143503,6126.221105055225,5727.732795211898,3770.8346482441057,2610.647210813897,1979.864117380029,2821.4578039273406,3296.660945760986,4397.182474760655,1164.789037142376,7334.40757193594,23617.599325770647,3944.3676000721953,743.6292397988886,2678.2233340058174,17698.843670172893,7578.999684373573,4467.054337757679,14253.67960380117,5441.419818998328,3466.4985699877984,1795.9420616599766,3750.657438673264,16352.491721339917,4699.150297349032,5844.208530365969,1524.9550478046467,7003.449553908348,5798.349463192845,5581.285441210595,20630.33009878849,1634.8517126112524,2175.8683846286995,12440.46405502684,8650.360317899745,1392.9237226987643,19676.177585951024,5911.097355396599,10463.261807892455,3848.4915517911672,4835.763840430728,2823.8102829402515,2973.724893450716,6463.594484403641,5781.423131192596,950.25549959306,7197.042747126138,31513.6462008194,4070.418428204084,1663.1378006357024,2833.896667004224,21550.69981830853,8443.74822954308,4538.10323696855,17172.75717257047,5598.99536087792,5212.862363501827,2267.097497612944,3898.019030722435,25925.706697248374,4643.873820071311,6009.75413983451,2189.41679124041,8516.767748894375,11781.306992670552,2500.8825972903664,32539.022799336963,699.9838131772116,2689.912634614507,12536.883689392129,4356.821637136256,1403.8925913764335,19938.59672156863,6080.711588500299,5653.599951711189,4147.914253277976,2643.6560149053366,1859.281238479264,5620.389590631176,3280.3994587883208,4879.978288012921,1185.6106677874911,7969.099354378299,24420.35550290984,5494.543088699211,730.8850278337865,2909.039005310776,17903.435602397047,7466.676421366892,4331.884945285161,15327.271701498938,5783.814915998578,3802.3713497472586,1944.3672648808097,7655.932638384682,16416.372837646828,4864.558313966623,9613.84488803074,1692.2463996165875,7541.471509738201,5918.299339466434,5635.1952668063095,21838.958712192096,689.1285112875195,2613.4785888996407,12539.625868983205,9238.653701717643,1269.702422370975,20370.566094284943,6163.205828614058,10470.786173653683,4391.160910086189,2807.3567120022963,1889.6247964573909,2821.197691163516,6388.6661434586695,6251.661867523853,1240.0866264519664,8411.28498618615,25175.712895404955,4185.148619111634,1871.4722272022443,3145.922982236199,21715.804000965545,8358.558756748796,4769.005203732067,17604.065054642757,6039.022301510188,3714.871293140529,1896.8931518957315,4166.305895433414,26476.24665467534,4973.708711561005,6717.97644744104,2285.892879219869,7145.880001418417,5892.693500007906,3035.782262767754,21319.597782753288,787.8282715662804,2274.485041260778,12381.038867457126,4361.275039577847,1599.4272226669775,20419.51200046025,6152.269359932422,5597.894143735834,4391.648198399879,2650.372729334103,2085.0547096355613,2757.2990664664712,3443.3177151179752,5478.283090951493,1193.2924041663105,7447.216990873045,24352.20461171916,4339.4487127165485,988.8807530891686,3288.3197351478143,18283.685874314957,7629.687184999591,5037.529044658356,15192.520602959648,6247.529721208373,3936.3184094721946,2595.712368033326,4305.66882329805,16798.703652037246,5199.127342441188,6397.445572563842,1796.8868531063044,8821.556334427927,12298.538323604973,5492.449148813127,34186.40161508883,1733.5268644682762,5103.350256223381,25667.214808464843,9762.032584509549,2594.495648453173,24675.08342428941,8041.37564501489,10648.899640577709,5485.717659605069,5562.104794347361,3015.302854483128,5771.389434229498,6389.74221680981,6452.57388930682,1696.6917404161532,9161.303257035524,33017.666203716006,5932.929747216092,1800.3171959172705,5095.047686233156,21787.60143229513,8326.235861781899,9708.39177445503,18410.052253328595,7163.521049537459,6078.389120510742,2490.553138989864,8511.190606243705,26923.752182947963,6224.487022308329,10568.954533627217,2454.50031633585,7325.240198952893,6260.141878395333,2987.850135459656,21917.15228259163,747.1765486181631,2909.0857348645536,13362.057380680826,4880.524112265832,1096.1868771238449,20752.430889460476,6037.023619420225,5569.711640952469,4678.073948523465,3085.2936099385,2015.1014431448348,2815.202011349958,3392.9407930108755,5980.881844456697,1451.2518461029176,7998.798570299164,24852.119775562343,4826.145667133237,958.7056103546216,3346.426723937485,18366.11728986079,7394.18284684593,5571.3579500654205,14931.604736371604,6631.255321875572,4140.563435937552,2323.4210023396604,4632.549681578744,16901.79796276023,5462.395706812939,6249.564340330656,1961.6202128085145,7618.246522767756,6244.74273561363,6021.641512856782,21885.968646566573,976.7839498304328,2542.5769352831367,13265.790685675383,10092.706310278498,1775.7154893144589,21079.208584916167,6058.064413711226,10473.491284399011,4656.209584542499,3222.335692016555,1915.7755881470653,2955.573428020835,6313.077159082663,6883.179811733218,1223.8232873439656,7424.118740542341,25466.95099762617,4661.720316198275,1904.712122695368,3488.09303447693,22183.48987024233,8364.768161290802,5681.695882463518,17961.089391131674,6894.501998649826,4214.192501700645,2286.711475292393,4615.226345727874,27528.47343887442,5653.0539106900205,6974.605132902625,2658.10808723763,9385.832260038223,12336.799352664086,3141.4061709857137,34740.58241983367,960.7137264175196,2227.945628077406,13137.099335028535,5269.064883207518,1987.7778874054156,21172.107335362725,6009.259168974223,5610.480193729457,4877.437399143081,3362.188239618038,1904.6257333115864,5897.029703824917,3343.792782641573,6127.610259802765,1011.0417623263226,7965.932503228581,24705.64026187311,6514.009205377267,1324.123007173142,3561.100251756701,18590.621308721373,7415.14494724964,5459.15842650459,15393.225097105951,6970.77316692182,4450.557368414899,2909.3938283309667,9414.352126319734,17951.08221616415,5840.146070348434,10283.562700838032,1881.7458409968467,7705.86041118046,6201.024217435944,5884.424448371531,22504.120061149704,1937.164916696644,2740.1370519245734,13334.316650260704,10925.682688411984,1638.5501276358902,21195.92087912083,6169.7598541172365,10561.843049826117,5104.36595889985,5964.005338426869,3242.0550876337684,2893.687531607345,6355.778407780878,7238.55188317196,1438.1238259360025,8033.52821965553,33354.39473669716,5322.756188523369,2001.2950345553736,3628.48987345216,22612.00732490308,8484.173653507642,5961.435050903884,18805.34747457608,7217.330246712368,6954.85044443043,3330.4345304273093,5148.528310005747,27691.561726020245,5744.372655553737,6636.504584481131,2817.37686017082,7709.84338277214,6638.056330538247,2898.492508471606,22714.914894806312,1161.0917181121922,2581.3263811438983,13297.182897567049,5502.685615062885,1748.7408159708602,21488.71461453927,6208.871615572313,5662.070648306975,5135.915262516475,3418.1946737877497,1963.721255224196,2812.743910027721,3395.965866427689,6015.273432195752,1730.802702990287,8063.230635541989,26154.540882113022,5092.540718718798,1104.815898232558,3900.207772769634,19363.919646941937,7580.709899256914,5897.0985302378895,16340.295366652392,7333.334198532812,4626.893796411354,2440.1207083353547,5051.99789760006,18022.349298525336,6233.342251629286,6864.782415984128,2168.34074879874,9471.542414629692,12661.775735641451,5925.633348236295,35508.8116543099,1119.0115330847416,5434.110623650141,26931.552841254383,11377.905361759658,2816.1601605760643,25922.524336067007,7991.803849536402,10628.92302528468,6468.136748432607,3711.799598804064,2037.5658241621368,5711.0180610622,6441.608088663018,7944.020602953101,1928.1705229650336,10370.962683981572,26095.656378107244,7258.343853763905,2291.969225212496,6031.586150614539,23141.458048788427,8419.573777943038,11580.307149164935,19218.156431930434,8689.571761167124,4922.578096473149,2452.937493843039,10150.906561245652,28452.90894982569,7403.246376154169,10326.725396403495,3207.006565524871,7791.968645064965,6545.099807881447,2990.2912696276085,22510.593732548685,940.4311676289554,2503.9225611629768,13536.090849056698,5997.930928173316,2013.7356056732888,21968.14322180727,6081.815502439828,5479.383675504932,5586.592542374989,3253.5849609826114,1885.4863757220755,2842.8197062374834,3318.7669329795103,6620.314553990651,1525.212507259078,9153.49701784426,26542.474146312456,5517.564934557876,1234.462375265668,4046.1311376672456,19330.762165205422,7623.064822245637,6239.844695380622,15659.534997153864,7555.093612899979,5025.856154523298,2931.363927397676,5336.935708547379,18112.835101127363,6731.959975373998,6875.830148583928,2445.187940918237,8214.485180606034,6536.149679061984,6055.2280675347965,23380.098581443355,2225.7212768786144,3263.6543573465883,13921.835603862208,11790.643877339644,2090.0680716561324,21830.13197637197,6044.409685886696,10681.855897961548,5606.065050824708,7094.9673070612425,3035.090378989456,2900.7969488997346,6546.1866597468415,8159.109115802274,1298.6089627828146,8996.000222033848,35164.386039800214,5535.668375039371,2252.0956021403927,4041.2540032581214,23506.013214551996,8481.152545851035,6230.501893021142,18541.06928159056,8082.786739893141,7588.29226512154,3354.46498245312,5609.20292684904,28499.087081318983,6724.234130319088,7183.038524423904,3062.2128961905514,9393.875864340402,12757.183923075274,3587.20453969513,35620.07655795188,1123.2962243460422,2851.5037277635083,13559.052061151511,5729.847860654164,1846.2130377180167,22140.765353383355,6204.544554134881,5551.410501221872,5786.574593467052,3706.595348244318,2030.8956102100528,5628.532290170419,3383.699416688601,6885.163641336392,1615.656545669926,8006.37700188529,26333.865204475063,7730.886741284539,1253.9163279021443,4293.439201934216,19687.354594880984,7648.115297680411,6977.164504134297,15706.767161299676,8149.301933858184,5342.8482361056695,2534.590991404892,10756.891524583636,18317.625853529626,6758.528533474952,9947.90227705053,2401.304673565484,7911.159819912994,6717.449248357055,6138.483396100317,22846.080553351472,1147.9749938668715,3859.926508652266,14096.449551606083,12704.453850407885,1860.9626632395448,22257.219614807676,6030.031223400862,10494.701191990258,5754.019430777882,3399.097250819269,1934.3201847230876,2723.2953151335005,6351.1551315159,8880.04176656461,1666.6529714880503,8302.64887184442,26866.757216593836,6110.883167776229,2445.909998858104,4481.032954014132,23824.48061570305,8374.190077674666,6900.800219565916,19729.651691090294,8393.28373659839,5529.571039103322,2674.163816299746,5719.922469648645,28488.28212306866,6906.660079654869,7103.479597379176,3461.07710814054,8181.208339461084,6473.324996561569,2997.648036989545,23556.897275422885,1291.472526764309,2588.1164223818346,13957.18227083278,6532.566090180661,1948.0395185581096,22427.841389406432,6085.742735371523,5603.616838258722,5990.257987679689,4067.990502376016,1985.039004860151,2887.2818765232414,3361.6343914762533,7310.673545452881,1846.541594024401,8994.68677676952,27385.790391855808,6158.745018585902,1328.861391275321,4312.9650990321015,19880.11936067648,7590.475788429466,7083.631399993918,15833.213803043722,8670.875447723058,5377.75487560126,3260.7751148510333,6052.306702779511,18847.81522285263,7107.135216916298,7184.768688009786,2513.7434466769937,9750.400650582584,13467.205625783983,6370.293979037515,36913.38607002268,2377.5536809219343,5659.442792852672,28002.19897640144,13146.198038509105,3276.173366070341,27255.635307762845,8106.867745565711,10735.57175431552,7394.334786863644,7128.851156175603,3112.677368537693,5744.3575401729695,6310.734978104836,8999.567184750422,2414.2928519887214,10451.024815420034,36491.97354407423,8251.563636422523,2853.459674582142,7220.862291888906,23845.740796821832,8317.296038913624,13630.949074074331,19728.86469617969,9818.393732889646,8341.727137423735,3617.183723498714,11538.299479879634,28999.04722549573,8862.358979831903,10414.169652305416,3416.547789107743,8084.792748554436,6806.690857401078,3442.123254617459,24059.17171287118,1375.770242732815,3077.4260020237807,14610.063926603263,6829.546125618206,1993.0158470394133,22814.48793743349,6158.703787015235,5674.629440794791,6368.326952886127,3972.188825097963,2150.46703493312,2933.0713314582235,3598.185309415547,7236.88638752091,1505.977418266277,8854.41257593677,27729.229456673755,6640.79022388492,1206.1395526564995,4526.190956795561,20303.801795202617,7501.324312159936,7350.25706902958,16743.552072288905,8983.930496399895,5664.151111282077,3127.8378386401714,6268.777942436691,18862.44630855563,7483.948713972624,7225.183439170599,2594.655298469724,8234.370603397823,7052.340323024359,6187.80742933415,23902.631366521426,1148.5802777912909,3114.943237608322,14016.169846539877,13580.578782893745,2456.127074162679,22822.33918225066,6296.1396492017975,10573.42244110153,6650.556033962747,4373.007869037206,1992.1621887667409,2875.86986302522,6267.254400327856,9507.499525405245,1764.2528295954132,8362.727083651896,27200.59506003723,6595.610875221805,2535.0108541194904,4699.3640224657365,24299.68768950516,8433.489174880375,7176.328307900903,19977.653827080656,9016.498226244508,5772.670461803169,3376.9365895441133,6478.635847809479,29589.503668443864,7759.921794479268,7036.97435778625,3820.5627134977008,9777.17973136888,13488.253356977237,3140.255766303996,37559.50246265212,1180.2402990879496,2857.726623651385,14068.06448603081,7330.971608900294,1685.6195931820344,23005.18020635296,6210.1431305455535,5573.30619741023,6576.104628138944,3847.0868328658494,2004.977520735816,5926.545286601573,3483.662356656433,7899.68111254531,2228.1194593502382,9044.012601678292,27617.221739316625,8874.022331260676,1208.4988605347253,5017.3681973327775,20591.43118757905,7560.436488402342,7271.427794202372,16448.535823869777,9179.417699356509,5796.036230825246,3432.979991409445,12350.987260365591,19133.52563252644,7938.330635964074,10845.606766732712,2732.412846214337,8134.87616604373,6613.263035611509,6243.439310109511,24403.002474632045,2757.515029346406,3302.727613060397,14366.110709070215,14348.770924110926,2958.713016275991,23068.511122994423,6002.398573737422,10492.772713199947,6893.039520485436,8181.118386618416,3050.857746432069,2888.791733894626,6506.594446734677,9874.715588954805,1941.5900521551007,8989.245906877108,36906.267514256426,7101.999849650293,2751.2130739720924,5142.879111235727,24499.042077764712,8355.603734384378,7871.529169882643,19455.19473123269,9117.650426781744,9206.14089121015,4307.91650448372,6699.776332324078,30111.82636351074,8214.699755295362,7178.7332776200765,3745.5240026623815,8449.426299942364,7017.9028392627,3568.780725737342,24349.15424946734,1429.245038490752,2979.1463941498346,15096.3145418008,7390.253311673263,2187.6742130845987,23168.07018324424,6084.6797167538325,5799.617761034009,6759.505079606377,4356.046003289712,1959.273477242957,2806.661171522745,3504.860977734619,8293.21017916281,1740.7210992500618,9267.790211069225,27925.59803131692,7055.405595152091,1406.2430403618037,4785.210161756454,20667.63095569388,7510.954744488952,8302.254144429286,17584.51639790812,9760.838976132018,6449.010394822298,3850.226281844467,6938.0263575446415,19158.09078834173,8253.619396436163,7415.682482283226,2937.9529830760675,9911.512891151471,13676.45852988002,6393.113314544971,38645.24338385044,1403.9780450018454,6094.866971428969,29161.1872093649,15604.082485717538,3483.1480312411973,27913.588976087507,7992.200493607863,10450.860880788989,8460.67424642243,4849.177948498343,1994.499892191273,5646.762242595651,6371.169368031356,10416.447056204532,2635.4753769503686,10210.908064525518,28527.26757293081,9521.297413734525,3048.637617372073,8215.297817693072,25061.219761589666,8418.728482823733,15241.13671947658,20067.507928875973,10743.212962041816,6442.242790923562,3018.538172674684,13100.710320864137,30297.02461875874,10075.980371117526,11332.590354342492,3877.342312304723,8686.751188375996,6925.928151332898,3246.908337741023,24194.238501458018,1279.1412525701242,3821.804480367448,14772.961324545991,7624.9976810208445,2121.471794485898,23057.140769148904,6201.587867749122,5569.045963115232,7280.413684688387,4708.464363326728,2162.646608199213,2827.0945649377963,3431.272024656931,9115.018777914402,1769.8408232617633,9459.34517047474,28067.97319926098,7203.145654476095,1276.5584376430193,5000.760812949832,20525.73702518989,7315.391989968515,8645.89998847659,17604.63876431773,10188.155897274097,6479.960709091622,3763.8931381383945,7143.54011148007,19618.04615461648,8705.571830479508,8479.06943326256,3002.8461597053165,8359.638695812075,6931.425251837782,6540.176631368787,24721.903789940225,3059.3251831885755,2737.2607957604687,14717.994727865223,15788.748935959078,2937.495866034969,23885.30813522565,6064.896095269811,10632.105849400192,7544.814775933893,9168.050222855883,2979.5515800629523,2787.3851396142727,6362.505947559034,10672.0638668203,2054.91179042726,8973.702650480729,37857.59168862817,7495.846510960741,3204.7110016997635,5454.619211380172,24961.7170900612,8190.540871403336,8363.48764804532,20082.28645667393,10339.481244785473,9914.08499545204,4564.898162936,7171.245733237428,30693.934586280626,8751.79523214845,7466.19828928847,4128.873389780792,10147.391908034218,13418.56420727629,3383.5522848567484,38448.781370278026,1582.4830708904158,3789.825164927521,14461.44366077833,8237.575913530034,2802.700316787057,23628.982013869398,5990.393195692561,5652.649519635931,7483.463299502941,4903.455758178007,2083.7191101445305,5502.426322517258,3195.873532859734,8486.467002341336,1951.655303569181,9480.55614218796,28283.25463980416,9994.874124506972,1331.9651835482575,5352.301976799605,21129.23460998373,7427.566795256631,8453.171599241914,17811.84845997029,10585.639925521364,6773.689349136713,3657.056287052704,13925.160020613645,19880.767265119117,8879.79341569569,10704.943553220955,3465.1387158352195,8655.976824611678,7103.174034052946,6688.266930476364,25169.914422859667,1560.579342924265,2943.0575525554677,14409.234898105977,16104.739862535598,2146.83265879212,23887.212966691783,6076.702737040075,10472.28731597017,7447.898309753857,4139.947214124975,1957.961470119557,2755.006742615558,6531.959394469423,10355.194890049786,1917.812787527892,9133.288411303443,28607.588286951384,7861.012607336057,3056.081836812663,5715.019193772715,25600.1298152125,8385.705294459494,8478.98490270972,20925.7495005286,10764.407499434374,7150.548993113059,3538.623543263857,7774.274665434365,30814.327804834127,9111.509775839308,7868.7953929485775,4345.349543721771,8654.796617177677,7196.960495237354,3476.123807077027,25728.185730603316,1634.363502770131,2911.453087396079,14735.40790673076,8732.195483396063,3051.724159330628,23707.523854241364,6082.304008989841,5771.3821012694725,7754.397874024426,5163.008990261306,2031.2137273396631,2680.8551690613367,3345.616399471006,8610.40602090216,2325.9094952690702,9626.43587359577,29663.496400975186,8149.31845142171,1561.660739753321,5760.315184895062,21502.468476691774,7300.605109614365,9097.016031973682,17877.629018053736,10707.68736596452,7204.169221052033,4038.790171630814,7542.057913264906,19970.04504088243,9144.72140810252,7532.128852754071,3374.71757533355,10104.950388855395,14151.48854856134,6610.602671068079,38931.07040968575,3211.4420101628266,6439.901101065767,29734.87939001257,16538.504506655543,4372.651901430559,28896.585712652854,8051.006969614085,10520.389386587012,9442.203772753555,9588.964482792037,3212.0278205749987,5678.364643625219,6205.449132986348,11453.2725907681,3143.434638643398,10459.381916725615,38293.52736951524,10641.565494753704,3314.3713017146583,9203.100959998954,26045.30715536171,8387.575290696295,17612.923733093052,20728.387323833507,12073.987381280576,10646.558763566723,4434.487949820152,14790.459746333454,31095.703760532542,11423.7815067276,11148.678288469624,4267.759039036415,8784.842420614295,7111.090574838089,3470.508075931646,25164.249545051556,1594.5154332486395,3427.76212039806,15021.477461918372,8596.456715335462,3398.456189493906,23880.383768036965,6017.975956339556,5699.234266893333,8130.191334394994,5523.091401746317,2039.085720772445,2942.907680500215,3595.8561770553115,9590.566200927951,2198.6132729557908,9167.630549108862,29493.27899560464,8170.017599653092,1404.2024604073024,5806.423101491681,21297.04712853153,7532.695154099196,8986.988214863166,17842.766490133203,11247.968747997516,7007.906450746929,3987.43694260955,8174.392339759364,20061.31634772747,9786.762880686634,8284.568369693341,3534.7836322839603,8478.921391420692,7081.51505450262,6352.664400291848,25429.48020744924,1854.890035316134,3475.624285610564,15054.51541256306,17580.350112608456,3049.7233110362326,24227.15186240584,5969.281456628489,10528.50979381156,8255.768014929317,5429.614925821947,1898.8112556970116,2730.560391295061,6375.466689434565,11288.306517417474,2337.3237527969354,9262.84926050004,28742.47924411574,8593.473156675718,3456.988801294261,6080.025258264866,25772.3037269883,8320.419908317892,9616.42077375246,20831.11462466778,11356.96457288966,7147.1959100358345,4140.582652002552,8370.096997120343,31246.396817366025,9546.444554886975,7646.242142248958,4376.58947209961,10430.837478191324,14191.122517239655,3584.8741949706214,39525.87963775861,1647.4190610633557,2884.383745699429,15285.31161979948,8468.078290956533,2874.8554546064875,24340.027679043367,6094.731666169639,5496.474009527994,8090.314444992544,5836.279598846497,1952.3473601580567,5531.193586646097,3401.362391928534,9489.595779718227,2135.7810244748407,9134.46087084856,29464.532938796063,11303.420638423757,1691.4500437210816,6276.9353245471775,21657.099143449435,7566.15162532223,9663.252965969612,17564.578696408567,11699.960066876994,7396.699776124523,3860.443847190119,15416.108608140828,19907.866804897218,9940.097394877756,11247.941200699355,3554.560177336434,8896.552485388667,7035.802934801486,6814.805936262424,26107.58446831556,3279.554364353772,3998.9939039869855,15284.822844717524,18220.86461975883,1961.8179332993689,24321.11718930109,6074.792563496656,10648.016032262623,8186.896685044011,11046.856331592944,3047.382915245613,2790.6114630165966,6442.725782770352,11967.086185205866,1680.965314071174,9580.791494797524,38623.713639798734,8524.990455635623,3660.598728581014,5980.45824058228,26020.402191773,8252.506189013176,9956.813466747506,21814.097075756923,11399.85239461591,11289.060818327762,5068.429393980568,8392.701889310352,31800.24688872221,9894.719233387978,7525.581070140436,4738.949456262559,8970.462407730836,7291.333819225813,3477.426940933733,26117.716190447474,1600.2761242331792,2919.720599261558,15015.295930655238,9827.120055377389,3184.169293254634,24116.76829370578,5791.010930602877,5667.477262843408,8624.924500754067,5591.495251870144,2028.0401641257447,2846.429772758522,3385.4191918198826,10163.335757689456,1947.2030124359435,10177.26403112519,29865.516861122043,8948.837013089085,1922.635573089188,5982.278023162556,21823.72634967705,7524.573462570978,10330.326166794755,17824.14717558193,12274.145334831212,7606.44611734217,4332.41068644565,8333.183342417156,20292.04843930409,10246.788314534097,8361.53955912384,3649.082834410638,10671.841629790702,14408.639350157671,6479.5483286551735,39985.69023699566,1589.4104051972815,5469.456746950585,30433.468953487674,18229.018675821237,4531.346532816127,29658.52939207632,8016.287957295893,10527.21940177558,10413.529536990238,5398.481196531237,1846.9424561618096,5641.182380686814,6506.434674967012,12762.503948530424,2577.127133950907,11395.491729715532,30050.492912229216,11698.351818120038,3783.4372156726968,10261.920133132982,26162.09279305881,8414.341502791294,18957.69900284659,21301.80521695493,14091.189531692897,7737.9863825108605,4255.098324675502,16196.72405777135,32060.41659606165,12566.898900981576,11504.640468517287,4580.354841255235,8979.776865839653,7156.43483843036,3504.4528706621886,26078.619510010318,2126.5916507744023,2718.832190343804,15565.486712372069,9013.97658736823,2976.0911237649257,24758.617344386465,6077.092820152905,5568.574298809741,8417.93090181308,5764.491024145533,2067.5394516531323,2750.503483679161,3329.0040159317737,10353.088932481332,2200.770877691996,9387.940288396992,29247.82991863665,9431.276637670586,1935.6845865923112,6691.124773460691,22097.72162248261,7453.36944590712,9547.917240721104,18242.882807105223,12774.549503188253,7798.8611411907,4717.878183995295,8672.930690709523,20498.726331446105,10545.526385023368,8046.206975871759,3396.28292619232,9117.996842940533,7163.582533637284,7023.649706081427,25538.68723637311,3265.7511989718423,3442.9340672576286,15387.9301989175,18977.04448771303,3459.690873087646,24915.62922857104,5933.28715834231,10519.267370151358,8868.091980279489,10710.312073192585,3212.749401501316,2917.0998303610195,6167.534329694451,12677.554595895324,3024.50738204653,9476.713592201346,39220.93791972677,8938.514507960344,3805.325221807209,6322.6630016191,26431.2514510876,8434.710728766637,10747.781912483084,22120.87577938124,12787.234700254585,12305.868817664554,5496.287840433794,8657.458170764634,32162.18848631343,10410.00790395207,7837.359325074522,5009.714366480604,10866.153583296747,14492.988174642038,3623.462946634232,41128.92677062445,1687.7178765323238,2966.0538906711317,15373.283243537266,9258.049544922233,2342.6824578805445,25266.86883360172,6157.877118237009,5432.5839333762,9149.787126906273,5918.47038421778,2011.335114704808,5907.71969538288,3392.638981316533,11197.496845637472,2466.408948881172,9195.893543645392,29609.98481992607,12579.159666752304,1869.8935799070816,6775.858232298433,22213.947732184184,7512.425879273885,10452.659266289384,18545.517178324146,12259.684412224418,7969.619403252648,4402.863806220883,17111.79784959531,20677.818713609813,10612.873135232596,11710.791046933731,4181.055892479079,9219.7729073585,7624.145266320996,6944.023752916703,26717.00510403983,1972.0487301323396,3878.690822787887,15689.1025793901,19157.78068682732,3396.7651407274825,24866.19773369656,6145.779892319976,10515.5128287659,9241.037659122492,5374.682110274527,1940.843629461987,2808.9322527786885,6330.073125284005,13597.065634633813,2477.6304912252035,9400.758504787716,30686.889658874352,9510.451955763612,3810.96917249778,6766.622174451288,26782.499987235813,8287.212553355641,10620.02590648982,21718.469650285268,13204.411970705369,8494.244263260494,4284.172103610941,9361.901292612289,32081.50865062562,11174.484116213818,8312.814060239094,5305.292678178286,8755.395253357201,7083.592493776321,3755.045208561731,25305.965764272,2181.857167297466,2961.7932076039765,15406.411624530489,9683.4701062414,3856.855041729783,25110.15124950519,6106.898992264504,5590.622457553955,9231.436699296037,5970.076279833028,2051.1255959853047,2743.9165381647463,3376.3194449863136,11542.11428522642,2463.8249599497626,9836.301361450656,30315.65953959295,9396.675237347845,1636.4815013302518,6581.948196495448,22709.513285352776,7513.975108989143,11255.09956835024,18597.40503629327,13099.178866679653,8293.634205021719,5317.759582334061,9107.237299918635,21158.76813893014,11146.22575814133,7616.063735086593,3493.252133862761,10846.871924377518,14968.313032515747,6850.6312685890825,40809.607765199806,3829.0928697657273,6901.965238915125,31330.506763743724,21007.09142133992,5312.810292556158,30286.274437822096,7967.251191223144,10487.737443697755,11460.658255893744,11422.421927719044,3164.1286350321666,5770.305076218238,6572.748625005572,13598.611025027049,4152.457429475801,11375.947405931196,39075.7020592268,13173.715487448791,4179.423860245717,11133.621260132644,26756.00096986317,8406.569379130988,20907.43496308464,22224.128362338157,15700.10049834109,13279.546604844229,6321.1820317635975,17944.15849030281,32869.46964694142,13384.982184758152,11978.691351895875,5406.469684037135,9376.94686356269,7830.006047160324,3787.391496469901,25429.32436492413,2304.2453012610504,4044.233275833036,15991.98954711374,10490.254102489243,3248.8138249405274,25017.599662619552,6108.313409251473,5588.100644142795,9665.158134443198,5937.555167613245,2110.381464648358,2906.3167707911834,3237.952358576325,12357.707248057442,2311.390267769404,9653.629061914964,30710.022477404447,9937.65934230137,2116.615703185683,7304.932686082894,22440.66149858246,7385.9364084591025,12093.00358916199,18255.52774477268,13714.30300403282,8727.068555158112,4733.512845674056,9763.404414154937,20947.42449925708,11717.43405284331,8410.523785570123,3958.8627854454658,9421.861966513585,7545.11204180679,7002.891696774405,26770.32186311744,1974.588204858637,3208.8529889102683,15517.75156595476,21259.034759595623,3319.525616161695,25595.42462605976,6141.080818089409,10573.018573497362,9623.06389989551,6208.46253036529,2117.126225697092,2997.966718957812,6367.929919914879,14045.333652830272,2283.5880924031094,9815.61740586946,30957.848305549192,9944.109812293063,3991.327372599949,7127.392357709232,27421.01518218143,8281.777602163456,11273.379761071064,21920.747471221257,14170.261264531351,9090.713549299267,4864.9763842016655,9818.058012085248,32739.517957196585,12106.8122909405,8893.107356243705,5825.129715930136,10637.515711249402,15167.978440746228,3776.2311696932056,42005.88674668979,2299.972897891761,3242.2239461150853,15579.120428048656,10957.9237914572,3465.0443095803685,25574.86934385125,6234.361345667308,5469.455393962282,9987.058170071025,5821.060974306343,2037.968267114447,5771.599588371723,3304.607569647893,12452.216819079273,2915.4368804098763,9760.620555892232,30497.778489379667,13721.18366874156,2001.5014900844656,7456.640794969285,22611.67729821908,7408.305382995069,11368.22894940762,18451.864538169768,13914.574125598529,8902.295961092812,5203.2688724201,18732.131974264765,21152.891081979564,11887.16796984096,12156.999181702118,4335.4034739578265,9029.450055335124,7302.002152060832,7124.354578223976,26650.03434412085,4108.573716791619,3311.694950228246,15793.293712452429,22379.29022288926,3574.054159805804,25228.419123272968,6190.392048552483,10316.940012852592,10267.364763469235,12491.624067993567,2991.057857072577,2944.400130983418,6281.398252878374,15172.143455121704,3439.3955979278417,10215.160551917128,40985.03000551238,10114.942952937148,4232.662654296189,7275.1376011178,27371.88249238066,8403.90808494699,12146.502613974848,22530.62622014537,14102.834719500564,13958.891382096805,6388.607102421531,10287.540154516282,33066.75322410861,12082.73100552387,7448.268044736939,5593.184665759571,9500.060779690231,7591.637075870592,3631.914044924252,26991.55923253564,2004.37651491702,2847.837139703061,16362.71490975404,10984.118828767872,3370.82428949629,25544.68697229877,5992.012978860027,5749.801229098785,10300.892682293532,6286.762593525348,2000.584856402341,2754.1827972334304,3414.346364805335,12027.711754206464,2772.608742820089,9627.755712664264,31571.70213997952,10473.267081581947,2198.277272907484,7403.191750376891,22726.233129080567,7487.132056086964,12585.154683558349,18828.495632198017,15025.927959615065,9356.534857300932,4875.888663737163,10103.76007790516,21536.50501290085,11961.649570888669,8460.223364854433,4691.005305415033,11069.44247380589,15155.68465523246,7250.951433106608,41722.43630475325,2014.7211520053904,6766.870753110297,31934.237837992016,22478.18563793845,6032.2625828668,30788.85241958639,7939.094789039887,10541.568058781786,12372.001619269044,6524.178679960646,1926.038647240753,5648.36187396029,6392.435302100495,15512.466931382913,3827.590468721744,11229.900578565675,31198.531710062645,14405.237897870898,4344.160290533879,12066.593944064856,27599.180467102546,8509.16389100986,22095.231142953653,22134.992603815244,16695.346486456634,9234.104483120063,5076.913743675736,19268.01665291416,33343.17664055165,14578.616338705417,11750.60678649821,6282.013428344302,9193.261746739723,7394.32978624507,4060.6676875538055,26943.664379561003,2183.701898493586,3847.9573432373927,15976.461027795318,11294.011111042675,3980.526844129114,25641.623754935077,6098.735048834825,5723.582466158638,10755.374270412956,6474.563489779767,1843.5185468617367,2738.432142743223,3467.043381676736,12200.779561481242,2804.244022095303,9983.303317145856,31008.765305090223,10863.936936098637,2295.019931795483,7650.706729846759,23086.658561687265,7361.422918171427,12788.69813270687,18714.93458499513,15061.395123219349,9771.207851388448,5278.863740727903,10343.327241718098,21336.53580953111,12629.933752459316,7853.506809635159,4366.563601511609,9711.312383428747,7556.087202768884,6995.723507032149,26868.91811317592,3747.349770706011,3392.786767700361,16018.700271179896,23492.8412398678,3797.956038127849,25780.28015846893,6089.158701518557,10505.816612300936,10707.68093989628,13181.524354743484,2935.4648613511604,2761.1551826778573,6314.285129565114,15272.386842224749,3259.035701663204,10410.552979270007,40578.79676234234,10714.817543352616,4449.770934796362,7754.698910668598,27680.478376149847,8378.834687030681,12344.033479231524,22860.33417195136,15285.570219624256,14479.553359526815,6663.306380240302,10550.15523649398,33610.569949670054,12706.692108133691,8514.14430023934,5972.29506714381,11175.067687227043,15465.221971362316,3804.308531183765,42616.26292971797,2408.1036082302485,3526.420442060169,16115.62454673511,11209.217585468004,3772.7161684999696,25650.4554460721,6048.938385934553,5661.238661611136,10675.585371205014,7422.834534618347,1805.6873544811533,5698.447997886448,3403.273118133108,12932.49252668636,1966.2036605629817,9901.334975966962,30778.803268953983,14744.228309302844,2356.3967741532883,7721.329904607343,23472.03371552959,7414.24911280271,12703.486311887527,18688.73085997951,15084.46322305398,9568.270099655158,5751.458218108559,20326.029975511312,21401.23451567649,12763.6568804153,12461.46170528694,4716.860180774356,9534.715938945188,7600.754341331256,6966.724012939494,26587.67110632841,2078.800210103022,3518.715213805324,16076.62702016266,23691.13549299379,3226.16807511283,25849.398447754706,6045.593973578983,10652.132251706273,11068.109874633365,7124.959894928625,2353.1157413133087,2911.417225517528,6491.472368963775,15542.641098795297,3103.601262888348,9451.55924349757,31381.95362802564,11234.677990801149,4525.099799007504,7975.252555552265,27705.938211438544,8308.167949736397,13263.6279371481,23047.55516142265,16058.889208232453,10067.04041028222,4184.919318016278,10841.615805188643,33773.86721362946,12671.25975847392,7641.171203590529,5970.139066799723,9249.322750960771,7648.24058128713,4055.7495666118457,26724.498209306428,2244.7364688905336,3599.3963325451723,16525.50980402887,11958.419664032848,3294.82389030832,25650.28657954599,6200.393766943318,5533.523526957257,11277.235572000802,7113.265744831209,1764.359608616201,2917.41286765466,3298.7116321859826,13274.022186838409,3828.601790632497,9706.813233321724,31492.056310153617,11524.566155092754,2049.7582436986445,8071.484107474612,22907.014898149388,7465.350228580169,12589.228598865113,18375.58351271465,15159.19076868463,10120.106258536343,5625.189462833044,10999.49030938991,21429.58637901172,12999.899173976357,8763.622280696494,4747.484990431989,11712.38634652006,15775.927231738,7109.312807654756,42291.9058317902,4259.696813929569,6907.275382697066,32511.54184963579,24143.23018465193,6836.398379389919,31302.62972348726,8138.555805286416,10400.620333471485,13480.489050903649,13849.898513787984,3168.6527281637887,5679.0657792359725,6231.624486078703,16709.0164695196,3526.9946039626298,11234.43557731494,41506.84161350712,15476.982119087235,4818.325762278135,12768.255265838903,27458.85560107157,8426.974074752952,24450.8100926344,22839.07377083568,18002.830393110406,15127.75612337304,7018.552808813793,21020.24334250808,33991.7019060282,16220.370070834346,12281.935113090743,6303.947488023299,9125.84033602441,7313.192902804476,4060.068350109208,27157.095011893503,2436.879390952572,3678.987866571418,16256.378247049332,12441.545661298536,4476.173040128484,25803.40344685165,6119.204401378594,5671.113529069296,11351.92095265492,7629.151613059924,1963.8892227471467,2958.041341442267,3404.5180215287464,13461.698249191808,3131.929460496905,10529.435763559752,31778.823445927686,12049.752491109552,1916.4116836143812,8515.019791452742,23081.83190144965,7392.221143988269,13278.560143404591,18774.163351856267,16544.26116259235,10206.72811405703,5886.383536253628,11459.235971900644,21619.722803091907,13379.594241054776,8145.986495299336,4703.2427577694725,9480.85359494423,7455.322442975416,7253.896096989936,27232.58589894497,2383.1153878156724,3447.0043094313005,16164.441912600323,24260.163254441744,4416.73990856299,26072.94942347112,6047.9914494867135,10570.163165884527,11546.586640467234,7084.555355571135,1965.3358838340064,2963.3217245305577,6347.469653489612,16146.204112181897,3806.9220135725886,10110.584127300732,31872.27512737195,11312.422523353704,5154.27725794856,8819.009700666884,28245.43808034861,8277.765775032423,13062.812325494397,22368.25438513622,16017.953617996794,10619.821753027054,5141.477530080448,11649.737399563495,34117.64998363598,13355.571571894168,8389.535290434183,6291.260304285857,11357.324545253545,15422.759794913043,4014.42139602285,42046.30599336961,2471.065824371879,3735.9128512505577,16470.192307215908,13043.870384888478,4600.674712200069,26194.767906216388,5960.812463854975,5566.751699655999,11478.96222695338,8250.068516998857,2093.4496921293435,5679.0800392764,3264.126993314424,14088.117002413295,4244.240307639685,10208.436878948844,31212.98356058912,15816.396089076248,2595.805173439943,8932.011316926306,23561.08079482381,7433.418463929948,13581.77964857154,17934.810729257806,17419.830970831437,10863.595779391087,5918.581481150071,21993.504590323108,22022.947349122773,13406.865651199229,12526.963991161218,5144.121850111887,9927.550866635656,7881.597987308074,7398.655550983933,28267.33041009772,4561.436741364161,3889.995389653234,16640.649187806976,25682.79589421248,4331.067025320152,26345.722374120374,6078.652801064942,10578.90672663966,11933.709962765444,14366.798056842306,2995.1067860455933,3091.25095560998,6429.837771781417,17024.674008421774,4354.657035039008,9428.190380560976,41616.397116491,12474.033965731744,4693.923534959607,8549.936151597041,28077.92230807453,8261.365754253544,15282.56156151025,22647.54346370427,16628.548552649834,16013.21196571915,7137.516029594288,11943.900837158086,33859.33886304652,14087.1607381069,8484.746164288528,6985.653950036989,9591.73008557166,7790.463263632076,3720.191481866091,27958.258391907733,2641.0451676350613,3715.676128412341,16481.39909333522,12780.460113279692,4932.263034655594,26496.88962206489,6259.925233181668,5619.886306836271,11829.502401183525,7881.612273562211,2075.5537800996253,2862.3650395086506,3324.382004218874,14191.201403071884,3284.674643652015,9510.957203071795,32215.077013395578,12516.172190270832,2761.263738937548,9007.086371303323,23624.16750758575,7370.350866173456,14369.612081956977,18995.698018079314,16366.620267876757,10924.745711152604,5700.235896646978,12063.079731318863,21901.52775879176,14339.723263856084,8553.951327853229,4832.071306336567,11231.607121733354,15431.04977823507,7445.99458438129,43909.98457734355,2312.799859816091,6640.54289607884,33078.80171928777,26200.46280047686,6902.437062176485,31704.70486885516,8003.733344227415,10416.821189318209,14801.922860522409,8079.5936577499715,1882.8593649734808,5645.4243207106365,6537.522935270266,17599.707532358774,4785.494162381259,12580.482606545009,31592.31018240568,16083.419779652264,5042.044837770599,14351.933869027913,28180.7034691009,8313.976066012121,26291.40964047409,22256.830641433717,19890.78442275708,10847.706604794665,6178.583623680251,22459.26976682824,34519.41329997746,17379.758292401086,12235.996216385398,6706.685824923898,9299.146638210204,7662.939938085999,3593.6929659531,28229.117338059958,2680.3770597033986,3746.72167535084,17004.43481271875,13642.018863324622,4584.541989835426,26815.68632128573,6233.953724858329,5499.524870552434,12050.082492672627,8094.435312270258,1882.264461548968,2998.3335481640843,3441.87974565276,14342.024900302877,3430.4620362744554,10400.15392434902,31942.20860318997,12565.045416623472,2619.430750971814,8896.415485158686,23590.631849655107,7595.423907627647,14779.92093147784,19184.75289824954,16921.144452309272,11030.116435020009,6826.339577274428,11830.835569093926,22017.15756024164,14812.64105379584,8157.5210443224705,5264.26134923334,9596.707769730408,7765.812212192941,7557.418891432378,27843.057483479683,4971.351671847343,3530.143818158442,16613.629373649906,26406.16357629682,4609.990459939068,26664.97908946155,6073.675003302121,10725.239626485549,12328.841784686852,15246.924342505656,2993.6527481500098,2938.940148168681,6490.245672696154,18110.189210892902,3206.800449012028,9862.14384674428,42611.17637332557,13116.922850467048,5380.97505529291,9440.908871821144,28595.03550829286,8450.139403146779,13990.522690930513,23473.032202320806,17257.615733374027,16893.04074132815,7670.139215783089,12630.080763979911,34585.58818589902,14497.575508163276,8853.63320344488,6715.811641440463,11477.752016448752,15783.205378580727,3921.145718598339,44475.198453280624,3214.5774274842693,4536.31037634691,16614.39953320441,13700.599042160064,3873.941570764466,26794.326784600107,6029.862330128094,5797.768698048725,12067.368602751658,7105.38233542212,1982.3774893307,5670.869417272849,3465.3986481028755,16096.743500366249,4164.52440433177,9599.186572185454,32720.21402226512,17026.67864506037,3103.115545773695,9420.49953348576,23627.380332802357,7509.541508206987,14219.012587800293,19031.60188659238,17837.21183232808,11398.547911379968,6602.921480598261,23065.22058331116,22198.67629691053,14735.866485717574,12848.858777448677,5148.037611464275,9509.471378734874,7717.703305495443,7229.268036329876,28760.40235229889,2381.985245502565,4464.770737932414,16695.374960860165,26859.89109345255,4982.1686476759705,26604.423251728476,6259.200182350692,10565.508770007598,12660.084773864544,8253.94993218196,2071.4396424857377,2900.6197290087166,6299.956873976774,18247.22931542473,3385.466288948608,10065.063381476488,32822.41229354004,12901.428601556456,5230.51758669185,9181.925400154934,28600.0653503271,8444.601970083342,14620.061230741649,23764.491803577457,17963.392774921536,11621.639735001452,6157.742711944143,12555.939925920247,34653.33510862625,14846.888485778256,8276.817019311271,7319.949848720692,9833.766964384287,7723.199007728997,4144.632193082105,28430.13094599972,2571.7992090365046,3157.318172011485,16564.722644876947,13195.997723645469,4774.247220943238,27085.65153079989,6074.838498784567,5502.356887028603,12857.209317121216,8498.200654872177,1946.1508509339649,2837.378015222718,3437.9755301526006,15346.212678731432,4467.729811617783,9891.902816753474,32402.23130568044,13187.87406092636,2957.07692517186,9419.900411768214,23868.53339025089,7546.55963132977,13978.31509524313,19652.20303174286,17728.511534410776,11504.467661586312,5821.446307275101,12610.959408599276,22507.51982903835,15396.2389114361,8536.836949098979,5472.844039833931,11637.061042277304,15980.044498322744,7676.025155114387,44268.65282702888,4813.501692499476,7583.188848720263,33841.84434845405,28376.401952556145,6519.806704080065,31823.3317261782,7998.537146778004,10546.325248057296,15250.146414539327,16594.338666329935,3152.8159942687967,5740.064197521287,6546.866165136432,19266.68481709102,4490.105977948852,12364.179807222255,42757.1662766568,17617.34419105665,5581.771650641425,15136.324564399278,28965.892268678737,8415.964081229746,28253.906576188103,23873.86411444846,20458.62448655394,17798.805994407365,7729.789305554125,24355.077733321123,35191.56770262475,18342.42681561006,12267.449112111348,7033.478569490705,10249.937007977447,8292.458077099345,4198.900463621934,28659.684532269926,2560.0334023863943,3734.827550733896,16375.112234073,13306.78694706189,5431.226871260868,26945.84782298472,6279.976660825093,5764.38103104206,12994.599457975575,9434.892259008537,2045.339072238979,2917.720552376524,3314.9236533883286,16837.866476760522,3128.259808612393,11150.938006973363,32309.020842370493,13692.093665810937,2777.167342156181,9698.671991103298,24176.68215386565,7490.295374048584,14766.28708077951,19888.79907419522,17919.594809848826,11810.48471663025,6225.328280182263,12886.20593349552,22931.7595749797,15540.00997846762,7940.436434889405,5632.312340021015,9630.654645653369,8026.376608772654,7500.315719899221,29020.77953230333,2886.98819780046,4106.563111299859,16487.82518203928,28372.77945918103,4519.614632412398,26956.372880009043,6178.417078073872,10523.177171683828,13227.93347328791,8946.500596597722,2070.5693204247614,2434.7409310070702,6449.713777330179,18835.770417097265,3299.2242105019377,10420.957645813172,32067.28769455738,13615.525554954698,5590.7351115686215,9818.367640999502,28990.95776715432,8460.067121260125,15214.690429184211,23336.92581749529,19886.82438050849,11704.2912989722,5745.089731125555,13377.743373808116,35313.124630456565,15959.471773978972,7536.952068864143,7422.525803837946,11715.313686642306,15864.783856393193,4103.231568207386,43873.430520266505,2964.799959597906,4291.101220538568,17016.271323505935,14104.206527252558,5230.1175217531,27016.53922497761,5970.244029667761,5722.995220892005,13685.581271365696,8867.345559706946,2020.7963141561304,5634.918314347406,3194.6118216550594,15917.028997634414,3430.8533512394806,9673.524899909246,32291.930977739645,18088.18878184446,3121.565327484493,10039.154711914443,23970.74247408459,7253.207767155785,14829.636161717985,20601.833077108044,18567.251642917952,11875.32267696279,6993.177916750064,24819.706462012477,22395.62216295805,15556.697257305512,12943.25657930783,5655.855738556989,9834.857356473163,7900.937074430218,7323.71173726223,28478.61985057348,4966.697210534474,3748.418174657184,16880.97318251246,29229.00319788233,5425.487160699147,26985.55899426751,6157.809006487199,10653.666788339877,13365.190266580354,17311.201888925854,3181.3681474514005,2929.517393296868,6274.895894466104,19532.77303452154,3288.470269397661,10765.195787056511,43455.393158519255,13587.1765279355,5843.560507286762,9572.88757295184,29056.246749547216,8318.297616765582,15511.78526478254,24321.334478964032,19595.926186635148,18257.790065853773,7288.934769412143,13573.23617039901,35411.773321648194,15567.948029444413,8505.725208710242,7324.908670019872,9923.319583175364,7853.212888575674,4090.326976323006,28213.72546614368,2452.315377070168,3600.0330935544475,16852.346696694254,14660.361966042468,4606.569485106711,27437.92384705144,6000.677631191505,5593.894147454383,13975.30731041468,7878.086947262923,1938.324035897573,2948.275712349101,3431.881664898179,16835.022860657522,4412.71994170536,10065.265231335065,33181.12795614362,13727.29391450274,2818.8885434266654,10007.868890602487,24418.37776836215,7428.007938094325,16182.595162186264,19789.49215450559,18762.02377057848,12677.967384940472,6890.761439166236,13679.324386335496,22782.01754220584,16267.571510347168,7607.750682624255,5549.399981482349,11540.21399988311,16274.326721753636,7607.908524696581,44986.64641996036,2470.06068242684,6551.486208681886,34031.52560365304,29458.604731652194,6562.740650408438,33050.88688550107,7948.620894174889,10589.067525019873,16707.421912552745,8318.16078874925,1838.724409735748,5612.235949134405,6350.008125950438,20630.69715305633,4616.451887779993,12734.181078011678,33630.71831388219,18821.467475346188,6395.876272012286,15903.672636945112,28767.3230720245,8347.28090682484,30162.71991735015,23786.024190332704,21784.572610466395,12228.87794972847,7158.17753934357,25399.48136840098,35684.01108666072,19543.488560960697,13123.704973728634,7536.066775712361,9914.977638012764,8093.3553984874015,4033.2281722827456,28657.11355984771,2654.91282542863,3861.3413490795856,16837.822396713742,15049.285524097935,5246.261545017704,27544.399219926527,6016.710637703452,5657.019610942656,13935.950348467051,8768.372689675705,1967.4337303182813,2826.6005186282964,3302.8210052001177,15985.085774451676,4888.886696653956,10294.284140782656,32414.947554717928,14342.44321825828,2666.125617157974,10212.64162836929,24591.74023809695,7472.965997187132,15271.074371180475,19953.22721173277,19261.52008603142,12642.962642496228,6720.102412154238,14011.11121927303,22923.68067032183,16719.539375503395,8572.181572253092,6144.418905336037,9839.24754577357,8286.024191529172,7815.15973451735,27976.49309535431,5540.318996404216,3995.685109036392,16764.33183920023,28725.859172095617,6199.254203975721,27786.54770214469,6240.405375833566,10577.551755548298,14096.312742568563,17178.026636330516,3211.994046629437,2871.1581127844543,6438.623102105589,20143.373278500057,3987.3806375847553,10453.323102746315,43597.18966364741,14475.798404256604,6204.038742227658,10317.11658599705,29845.65158893518,8237.498050652675,16259.39168651138,24027.95572017928,20374.646639701077,19007.224056819687,8863.266164161345,14201.747267979406,35321.99460414527,16670.518726034847,8235.177989906288,7767.54406438396,11621.845480321092,16047.976284078051,3991.4414762747383,44762.2750690064,2785.6526582118404,4184.32727088535,16960.57605003531,15163.080616087544,5731.757676827409,27229.91596234924,5994.417987424312,5562.276087537098,14045.742482785692,9234.378723999484,2109.520392214985,5687.16333583804,3368.5977607370505,17107.75300476252,3880.972109398001,10624.948339601811,33651.24838381878,18918.78888937555,3380.2427873698,9960.891726280895,24626.655227455645,7548.331212219666,16337.539213703218,20803.61559967861,19631.28363013412,13048.511010348828,7452.263300423448,26876.1547638466,23138.363193391346,17303.5692655685,13452.42804990168,6126.008922149319,10320.123195029895,8449.836701243094,7607.738205728199,28489.637170251503,2408.5906407267366,3734.097218179788,17168.51185785586,30375.87307731241,5448.240046956182,27303.309787463288,6027.986787222151,10477.19648240173,14403.40164832014,9578.5023407663,2053.980700322676,2669.0814495738327,6461.285968634245,21389.93816089152,4252.528825889759,10498.136675237678,33509.06383043375,14457.572656780208,5697.822676925856,10353.718842628648,29427.97410829684,8302.724066386672,17791.51933455807,24892.51925484051,20755.765314820084,13041.797151577535,6393.620936417657,14009.850606238811,35727.71626301928,16634.12380723953,9205.131993390523,7855.444476752378,9931.373399425382,8446.970476242132,4135.751621535285,28956.44232689572,2569.262169842973,4063.010288501488,17217.17603166956,15309.703609767706,4687.300197700171,27719.06994679876,6180.557934400791,5720.532601662368,14910.388427205353,9907.424333284383,2103.183909634763,2733.714985514573,3469.1271821735054,17626.15423377104,2918.934022658499,11115.602565381603,33417.09178881706,14701.927590652362,3025.6732897409665,10468.267958307168,24357.13085100077,7512.547697072437,16215.521684571811,20139.595297563334,20078.90044658872,13049.587379326347,6638.373764358611,14479.554004595062,22933.727878114703,16990.07939174831,9313.32784477734,5999.923945176543,12139.61086163731,16209.11572999248,7914.222887383898,44670.05381418491,5446.758396335373,7095.502648117402,34563.70261753541,31739.13646240493,8641.975054124605,32844.34931148547,8137.212318448392,10591.32823446528,17554.97995352256,18000.917502168813,3203.7464532393183,5861.060016749482,6436.520495090346,20299.472420564693,5944.977347406502,12083.6622754867,43611.21313517205,19605.73437947663,5500.023668202506,16379.086177586703,29623.286567498184,8384.112321801353,33091.07513841003,23864.876333505767,22450.32099036181,19493.50135062468,9012.338690525115,27578.503654767846,35846.17402230622,20592.85956655493,13475.124282610772,8374.221981600349,10330.513083005631,7958.414123569158,4150.388370723329,29234.758091888816,2806.548304679029,3796.428987686247,17222.492007487133,14862.658574186502,5809.967373102746,27540.196593410208,6013.260235575437,5610.409376566399,14407.826298285236,9492.593296429968,1959.382726942788,2810.8177456343624,3426.2026931850414,18322.74698766773,3804.081187281018,11250.211964965236,33805.51882961818,14818.720195128531,2714.4245274831874,10226.715053226804,24359.839203923224,7392.727456477915,16466.007845316446,20132.3643690971,21201.899956408783,13107.27977774808,6553.538049227725,14336.800030566348,22996.993479733428,17677.55622797045,8761.591853570962,6249.296936226464,10065.56442346335,8058.115058906316,7482.577010892805,29405.464914442724,2638.682043191046,4744.085338117069,17180.635367205014,32892.348339351745,5182.046209822859,27981.55225082089,6182.854881001237,10603.986457884092,15050.367820041782,9664.371459311287,2113.918166704674,2804.3321410008766,6469.927885591605,21229.9417636081,4847.830417922674,10733.245660997189,32519.63640598803,15676.685122711451,6642.269253565177,10939.340256879885,29667.11618977613,8382.138780744204,16955.25162034796,24213.5621035396,21176.84409317956,13648.645100129304,8041.955582946482,15016.168353606256,35860.70057602408,18211.782232811955,8597.681069730637,8355.571123428279,12511.15156262434,16574.02050455789,3904.990935023282,45620.8095902449,3318.9476071951817,4344.746966279074,17084.203172028414,17216.92138355827,6562.276850690592,28191.975366092745,6169.104923406737,5465.315495974901,14860.55235841059,9919.56040435123,1973.0583231104747,5717.220437985937,3502.7947494569257,18528.676483888637,3444.715689247586,10128.02355837641,33959.40629084407,20114.380664978085,3142.268215910184,11294.327242953368,24916.82193421224,7458.270858897871,17309.868650149077,19674.0164051918,20047.184272114097,13399.29154274774,6922.24115713828,28373.904686943235,23035.772876587533,17715.313178261724,12844.28859652476,5926.202622291981,10235.833624110834,8512.963342002287,7798.473971256802,28557.01742108188,5767.446367759112,3936.533461516337,17190.907439840325,33537.63182849033,6311.853750651656,28076.25132778422,5917.859909168337,10652.28380121176,14682.813873333247,16664.616539281542,3133.536907488161,3056.043358228552,6352.840460801568,22091.423724611515,3917.953495076519,10170.426823119498,45041.63228336975,14976.001664432591,6510.6472855134125,11072.610247931072,29863.08861187225,8431.796037960075,17283.11939466061,23857.51305745221,20342.86866188457,20549.319653883034,10024.970372395506,15188.80795875657,36082.558812535775,17680.71958518669,9204.59923026143,8477.940696445445,10143.422781527192,8161.66498968181,4165.702222897121,29489.17378989446,3181.653307584475,3891.051456568018,17419.243134641794,15884.705617961135,5262.523496616536,27950.65685966375,6022.695409455109,5628.140898707887,15109.745336739095,10694.221801808206,2012.17925185438,2736.6178521187176,3497.3152920471894,18446.240731141133,4791.679868036095,10943.69093366756,34083.843525318734,15683.855762491416,3592.6745814108053,11136.135557919562,24700.840097096312,7349.709622076268,17085.279919137276,19633.49239949713,22500.613735978084,13621.130485327616,7131.606630218468,16010.22011692192,23210.780810715656,17438.043065828737,8543.8438903374,6567.999317969696,12029.457626065823,16270.318224342447,7568.361639988205,45589.25588082372,3112.140276016422,7204.283974353544,34923.41402432105,34161.337977922594,8744.08251623084,33490.95868150688,7864.388078257852,10677.50365482046,18304.755216995796,9451.388813218557,1969.5242630606397,5599.883635322008,6525.522483703889,21077.42894262781,6058.831962956159,12187.542945672529,33912.91344501365,21077.930045225283,6187.99013906679,17547.703803993234,29620.318843979843,8515.395668658859,34399.22988169728,24188.900531625488,24732.536618465256,13652.993045670506,7310.277214737116,28994.39846974736,36240.900564535645,22141.72596653673,13359.872714284664,8403.287335297426,10423.862251108236,8102.783547288641,4078.7973804421326,28904.36652922804,3369.107298668916,3498.664483658493,17466.90722501159,15595.89957760249,5189.070224503155,28059.27429492212,6028.140635971745,5577.807068507315,16031.80319103006,9597.438803779867,1970.0503988993464,2807.7328786185744,3507.7285261432107,18091.457892896902,4187.0879624529625,11175.621804588583,33541.31145867361,16141.012254401465,2876.0375534843643,11630.42614324981,24888.262021542112,7434.452600771578,18685.39635450759,20435.357917602723,22266.0400624436,14288.26364302512,7351.035818869169,15312.315979573976,23376.923602249943,18010.884255317855,10040.988813123591,7225.822860386364,9709.72130533566,8486.837093812805,7756.552766708392,29397.00674187965,6466.154433531885,3858.3037242988153,17228.40680231861,33924.69152855672,6672.194167524167,28213.629628968185,6055.741085468557,10594.981740164185,15582.423129306171,19336.3117412322,3202.4196141955163,2721.184736782433,6303.944851401873,22655.54562444465,4064.651540357924,10673.135469835475,45960.22327778806,16046.45425833765,6735.769706826733,11299.295353295198,29738.433876988,8472.682150677318,18544.350034540097,25141.81827909403,23238.27670893914,21605.118215096547,8263.653546300575,15512.356747303802,36343.441020316895,18992.2632414529,8881.984641925479,8735.57113506608,12367.917468985292,16402.754127067463,4233.577540550335,46759.57551969974,3305.896427519958,4634.452628695616,17465.809556785476,17067.517383949697,5256.565614742833,28329.623481219485,5997.108350762643,5593.547735589177,16523.98024475366,10201.334160334727,1916.1494812926985,5483.278231219093,3457.730355843817,19238.78947201409,4981.553807443913,10697.462960008372,34763.455839624534,21404.517753287066,3154.4276266067995,11745.598288208346,24792.6144616567,7348.206462440564,18411.07128976317,20327.034423796184,22880.408047044417,14641.545800856997,7121.233516699257,29547.434715527423,23564.442354208262,18598.82261807829,12714.762178622092,6890.077627009343,10109.247976037965,8037.467788876084,8119.681843418374,28983.506879688928,3327.478958378636,4313.332036512409,17156.060888701075,33953.05446653683,5805.759189792005,28185.941593502444,6085.2397995048,10355.38297202346,16095.89162840875,10816.131016948097,1805.3593315326104,2816.883882677884,6381.118119606167,23234.53373999538,4021.40500835144,11905.98789453646,33959.267621604384,16435.945802916685,6970.954617606964,11625.09915443214,29889.330167155065,8407.809702447332,17931.04033070016,24265.40895230107,23124.127944727657,14087.43957782084,8607.755380309412,15819.249980035816,36428.67095175161,19323.36818695303,8800.172700194355,8644.5291162442,10597.517265512226,8184.225798628477,4046.1025520707926,30398.98763984057,3531.472073764279,3735.186737136032,17344.6495820839,17318.402490210225,4995.620408303874,28163.67531678652,5921.57704571443,5686.187543874666,15649.13499566402,10745.418288379782,1954.8615101994733,2792.9969866496804,3519.6808136519808,19488.574213636228,5401.01146874636,10641.639178335308,33952.963437605824,16277.675515920968,3490.6236497593795,12148.184676160949,24884.63558282633,7641.045600552801,17641.627179941253,20671.174880639675,22052.66372775277,14437.37026307363,7337.437193857446,15988.849371475624,23429.037297122424,19659.139217367014,9332.50577991412,6858.459619043886,12723.5463522246,16627.3698385646,7738.053080255799,47520.39705790127,6491.89596518638,7750.24305763891,35208.093485421305,34482.93883452952,10430.77488646764,34507.68391724012,7937.867339090696,10764.466138340596,19786.98343555614,19609.05957203633,2917.913148659305,5691.233946731079,6476.246812341855,23375.3847760262,6551.219438635013,13044.37609960008,45662.57124782687,22021.482912464187,6726.904109585556,18500.29982594001,30080.438161524427,8250.76823505373,35257.534151118234,24385.385325762178,25784.526641478315,22002.70019121124,9839.282357183482,29998.63748540525,36977.244313745,23614.5139110161,13645.960381145193,9080.510832139887,10535.166596435054,8287.85380501996,4401.6105950639685,28822.55425667646,3018.366385508109,4047.2755286240617,17342.69875036779,17997.377318180825,6344.537893969476,27924.83174383534,6183.213725852143,5544.721144173716,16485.42196150365,10507.831501344635,1904.8120182965888,2834.6028521344124,3404.0546412581434,20592.462350520327,3589.2268841597024,11757.697435736223,35304.00676919313,16910.961907089528,3879.71530379043,12509.499375091911,25609.82740957627,7343.542387163531,20038.54918023721,20112.542108480964,23187.124465073284,14985.479975908467,7227.041822846465,16002.221853278768,23824.557199104627,19355.60381885567,8937.567983588096,7336.639739202903,10043.352957727358,8307.474775851166,7675.782974864658,29923.54196321883,2984.4937434769126,4152.562589100365,17444.54206756906,35718.02199292248,5048.976527088865,28608.660856757764,5983.422612369611,10573.640324180218,16710.88449686721,10884.07776634928,2085.6786641342683,2755.4536662166524,6391.661075083099,24040.86154705008,3192.0614500712823,10430.185736253288,33853.39929748815,17197.62103493111,6860.304742966264,12286.606135228662,30521.971561410915,8347.833366409235,19005.269708594,24276.716543492406,23408.978784874056,14853.83914839886,8133.5672636849695,15733.28413185039,36847.78396239886,19374.055555677263,9257.785078646011,9533.5329239926,12434.413542605607,16869.445360429116,4248.467389428936,46521.30205311959,3204.971372867223,4393.523427064832,17493.669209594245,17361.737240785373,5545.620164010028,28561.85898364009,5956.537569807563,5538.7501039413255,16611.444667109394,11890.14724145444,1961.6907373874783,5546.086536692277,3392.9686749675047,20215.938949835094,5944.803896722681,9952.009642651765,34679.47751708301,22155.25952193273,3394.648508905737,12840.316970023532,25341.26565873916,7411.249466668014,18916.216913259785,20211.55024528077,23287.587248783693,15595.647317410969,7514.49071239014,30189.79636745345,23313.15904318206,19680.88176922572,13544.362343807865,6866.525994862637,10594.590383806715,8090.179106211465,7835.989037834676,30044.538756241865,6797.360889157292,3037.706726380058,17324.559399281385,36587.54294182656,5982.96321707409,28490.777527565748,6029.887649959226,10392.22822396279,16939.43297041066,20890.40651597076,2974.043764425529,2815.4081117534142,6215.835036689472,24350.22339626807,4731.786280493973,10700.437256584715,45415.30280628902,17032.02331270713,6925.170843621347,12415.907730958814,30477.272810968407,8214.381484299181,20720.94373571654,24609.95314984872,23586.891741857133,23238.97082057769,9768.35950729253,16615.063326622952,37083.31132944799,19738.50159851552,8903.12156636923,9462.149259571732,10473.1651914562,8258.503637865942,3784.9245377657912,30454.367647187715,3225.61276003439,3982.266085829873,17644.119631082285,18653.025535479,6907.092770123837,28585.44661725869,6112.635382592587,5661.471788699197,17537.52533547196,10805.402921992854,2026.1224310199389,2793.660919535825,3404.739014501034,21181.44771308227,5204.579453858145,11344.350622262353,34701.78472075766,17620.01114517141,3474.5756585696586,12320.980314230452,26127.315020294875,7406.881820738213,19462.985542914525,21128.6261768695,25369.80993532339,15263.6648340267,8568.721909842056,16872.39011673073,23948.90233864741,20224.00174739844,8565.354863057199,7358.513526818736,12323.923035733364,16961.500038492188,7778.705077906915,47156.79970851102,3555.323975192597,7255.777863637113,35644.98799138788,37185.18371256991,8205.635493216336,34057.2079991604,7848.186877088698,10424.54649944589,20619.51647728124,10678.96707215369,1858.6542614271152,5747.8175972021945,6388.029368828559,23605.187980711707,6626.069370651993,13853.50718653232,33824.5781918432,23297.3198659856,7337.7363253944995,19680.565085694143,31000.22715035533,8426.707659902238,37783.76784850534,25837.829829856364,28086.445326702986,15193.627737822164,9262.828580477752,32207.928392858827,37167.25569134047,24202.27206942009,14257.172641736528,9461.641568138186,10232.771158747531,8261.880924278455,4023.5235026865353,29688.69012191703,3027.13334404063,4289.859768826716,17941.27706910485,18986.064059574288,5704.472665119774,28542.14505607064,6104.020600078306,5544.766378564319,17332.895090467435,11794.671057338375,2163.0493226073268,3005.0346085648243,3346.526991975583,21902.072860247696,4645.558724593568,10941.783022413232,33893.15039714099,17790.31359536531,3522.506083906356,12957.416296245914,25062.50129232795,7488.011669465299,21128.517802416,21466.691363153437,24394.40694355184,15764.600489386969,9040.298300320408,17112.28046167903,23894.16855062145,20450.195508009696,9324.074001914783,7592.0566904269635,9973.322947031997,8221.327714688789,7996.384938397483,30799.402636013256,6393.439495829581,3170.011284878947,17992.843029281103,37351.103980741325,6497.129417021975,28622.624961561087,6175.300913429186,10485.304557464442,17858.72257877205,22020.18056762128,3045.298364872351,3150.240450804032,6501.976265902565,26144.60554801476,5509.643563535892,10733.19763957958,46362.42344213422,17470.058727604483,7668.008758634185,12413.739271081122,30591.65621254334,8403.446645337819,21974.021283277245,24587.79482116382,25810.03682862229,24179.090463924556,10771.174011868914,17203.144651281647,37256.701210190535,21658.466042032414,9323.062477362284,9287.828141205193,12450.632425724656,16468.85801350788,4236.811929631322,47031.28100961136,4002.9958466767503,4185.497916582871,17652.668872241717,17747.127221683095,4470.241323580615,28822.22238753533,5928.61375424789,5747.711832038205,17823.28134982161,12648.405477619672,1919.9200307889123,5583.0164359832015,3310.460133267596,20448.67769680192,3824.1325631358654,11049.563536143847,34128.96355330867,23581.65800767251,3950.1197312619615,12942.758460185536,25831.227530162658,7382.656978978695,19709.236520692062,21568.33234007973,25451.25924226721,15911.550779874817,8457.2697615214,32669.050851396907,24192.77573839312,21374.317238258256,13594.320088731458,6754.057894041018,10247.199668255607,8243.277819077415,7780.903629793396,30245.13225788548,3545.5845965595304,4051.334808952861,18544.091041880278,38528.61754597853,5752.367034165967,28835.294214770707,6076.040710091192,10642.615496062326,18204.84355892099,11327.96607444677,1958.9177541150564,2778.530725455053,6510.720565027024,24517.47569029325,4717.694422261957,11619.626262766144,34299.20982029694,18088.374627820165,7727.452142069403,13150.507068531042,30783.843872885293,8415.869658597907,21586.391506599837,25517.6945285992,23943.889854889145,16114.190206566962,8665.75370507065,17424.768123583126,37485.909173617605,21063.11867673103,9213.990583825189,9878.835701027354,10310.557748598589,8381.807680908487,4324.838889987988,30414.314777039963,3569.800173298948,3818.066876255176,18063.1221640651,17537.72581147687,6455.037126490359,28670.07804178629,6216.967190460707,5406.525287296245,17941.105831333287,11655.87570141588,2127.106608659248,2942.6979472528064,3515.8821246359403,21720.225701978765,4476.263843112563,10279.886991657617,34438.298005666664,17928.337092170903,3824.204994122078,13399.334251309849,25367.012129479088,7365.929071700768,22762.61143320432,21197.060328646505,25860.6082946686,15993.655888439203,10508.927751503958,17618.96867202966,24054.09672006916,20940.424021137747,8901.89656941486,7112.422769881653,12527.881699276546,16778.471018986344,8706.75022159599,47950.09173096393,6737.078895043248,7588.448843527393,36379.40513422014,38488.90153764102,10124.799316726723,34551.580099227365,7874.641723815392,10644.458790865983,21959.19544094764,21265.50029869066,3164.3916328553864,5811.847195703197,6403.234220852476,27481.82080361239,7912.325124962796,14175.509309555351,46041.78776837362,24206.712135470538,7765.085743714564,21117.922287987876,30990.308248320147,8250.939528379402,38701.70757034877,26059.07790335424,27399.06498374404,24287.584618888948,10401.080697516294,33684.62931354688,37456.03912190657,25592.168396391862,14337.76337325665,9860.993422553143,10288.11836811056,8673.021736864577,4592.025934050688,30545.21945652513,3692.382098585799,4004.39720022704,17761.7443120059,18638.6112443108,6905.642899342314,28827.548466650667,5944.880919707458,5649.121982554257,18522.7493236444,12168.558146519072,1971.8207228807075,2852.9368607167285,3445.003716991959,21431.87590494195,5197.8437820038935,11410.051932296336,34959.617813081735,18915.668344879283,3326.855738005547,13436.422664582422,25643.739505152564,7436.713108920395,21889.13564667502,21384.057350898816,25809.63262443818,16662.833428342365,8563.300317730238,18213.90082131153,24265.105738848582,21742.47725246578,8732.090578971578,8232.091228983178,10792.495418090462,8552.964237153099,7864.924598838096,29685.47032589693,3743.0974675541615,3741.878065108151,18506.012233059737,37867.15769196282,7505.784250238786,28411.644307228864,5956.453605578351,10594.595959742655,18705.48077543284,11394.374958464892,2055.4811135376463,2718.707514874527,6496.928751044347,27349.302466142657,5673.436978611247,10977.760622332207,35024.455531961066,18775.867025667416,7945.111654835441,13763.570136336302,31316.88959634692,8462.162103740953,20793.153996906112,25148.31670631939,26130.009087389484,16245.419277663614,8686.257782381885,17565.42582968225,37821.81335262073,21571.85958376796,9631.232569449276,9930.3091722711,12538.911063770794,16902.958240682314,3831.38335990485,47084.47121429973,3774.197671139085,4297.214614209488,18147.707022141814,19325.87165190006,7100.045731581588,28929.855005391317,6254.805152852542,5631.681584278386,17892.08019500041,10819.552666772288,2044.8493078663128,5809.970787763011,3415.484646968059,22382.166634810244,5111.03132551998,10315.933117076002,34547.55355653246,24731.786363214665,3973.630853784664,12939.401722790944,26205.81701859063,7718.477768871673,22415.704979494403,20460.9734033967,25578.206354138867,17361.619369654785,9726.75641704751,34717.26320435238,24269.24283757403,21815.650778011757,14695.878080630864,8516.392247405245,10564.257281551863,8346.914161732922,8121.771690565541,30820.782026641147,7131.684955424116,3951.523810900562,17956.47243352834,39953.429145347545,5896.894920033071,29075.702519853505,5994.78988739524,10510.387152493911,18565.862055609257,21559.78872934584,3074.171936096576,2930.548972124884,6242.953260326131,26500.08406110148,4590.441946486422,10865.637555403177,46003.52171759177,19246.77378185353,7917.431866060357,13994.277298177987,31051.969237877907,8453.97171194268,22790.796554176843,25562.314983855333,25545.089657650577,25401.64313048049,10369.415961877998,18044.601792244248,37453.67514736347,21088.39229031857,9882.4173878154,9918.558286894744,10672.337286331483,8431.816880045862,4428.045665176901,30749.88706614905,3336.937437859659,4177.234760673252,17727.22937680746,19535.871325630647,7521.363482894546,29065.42825530265,6019.7462168794045,5474.676220920056,18911.662190355222,13621.792020727537,2201.07043456392,2721.5996351814474,3316.1350650758777,23954.37890035812,4427.122178919687,11763.799424120023,34872.49208366575,18829.569229994893,4044.440471238971,13924.531812373938,26031.46521167813,7540.281896910017,21920.47353338888,21954.874779055,25352.931496119105,17203.972163802977,8352.723338445885,18770.96470839434,24156.570713778463,21889.49694969041,9824.48819369085,8672.226597366076,12442.348062078903,17088.184916129263,8216.48144011666,48123.10480938906,4034.37696748122,7445.27427325918,36091.45627531572,40610.35853497249,11608.567683195524,35076.87788451303,7834.723064654425,10544.51725497489,22981.825688486148,12667.130193775483,1977.435198845006,5719.021544858848,6309.496820046107,26592.337004320456,6854.345142057958,12981.029840562413,34984.10280329345,25492.800279127885,7715.0400544554095,21336.957108549424,30905.365420227285,8456.4391388731,41323.892954985495,25738.583375932933,30061.903856683213,17240.745153955282,9830.472394216386,35261.71328224708,37669.85299276049,26125.208756656364,13774.847315597352,10521.410387022175,10975.342816118951,8928.738286393078,4193.238268911971,29882.93706368662,3707.6384942591194,4358.152278286088,17912.005955998957,20094.4995104159,6814.167992083323,29440.985832649952,6159.516216604559,5692.176768011035,19293.13195480076,12137.96161135385,2011.9109132817464,2750.6519135585754,3313.389137885845,22915.26486646381,3965.620602745448,10931.45941292638,35039.70109172449,19750.67430531925,3698.7220751190753,14352.886876046585,26175.57766222197,7526.660446472269,21532.457381903485,21579.330322202983,25978.570459750543,16865.221606515344,10105.008471103089,18318.99883237091,24480.196812001523,22078.73375434856,8702.31127528022,8439.362128745224,10504.218214197736,8511.985933502947,8316.693448334101,30422.29299695301,6779.978411282902,3939.504232930693,18671.060086696525,40334.11374163872,7199.39066789654,29265.765844913403,6046.939776162287,10470.246209854851,19446.91737928629,24163.931203366912,3066.1067925214084,3032.809070347047,6598.568223303203,28213.964397268664,6480.427027361784,11163.379196857746,46432.313433445415,19698.699963598963,8052.620482688094,14039.416642716267,31288.202832706203,8233.561071900187,22178.276259193717,26050.40941776849,27487.653757359916,25485.75866563942,10997.164588168922,19530.22948776701,37638.245357861306,22569.53351248332,9226.975916915506,11148.1130619644,12700.92530684797,17273.307554185478,4591.368108039201,48631.25497310197,3967.239041627434,2780.252136018056,18124.31802738576,20688.3968387536,6678.406814065868,29339.96058144935,6114.719930457769,5507.545870346541,18950.33121937474,12211.638404834728,1998.4580777936665,5668.454975481157,3442.397338450625,21621.99353265723,5250.391720905141,11425.542892623063,35822.16186986508,25904.32524053704,4129.292356745867,14006.331046179375,26566.476214834453,7402.4581577338995,21821.57478339542,20741.629285551426,26243.734220501938,18426.062829304195,8526.031797458967,35581.197780377726,24822.570172315165,22479.22046592333,13398.48134089178,8489.990094542047,10853.622645235087,8242.17357760512,8184.213024425667,31669.626240994865,3600.487259459061,3853.1493231961,17865.95810867603,40447.713561787554,6126.010160351758,29468.406456976398,5979.94123633508,10440.420005144775,19238.536954815096,11844.128318969158,2160.1611369966035,2719.9525210718903,6371.790759590654,28018.41383182372,4405.775294792435,11281.982551519955,35683.469822121275,19737.531545030477,8043.362755670318,13917.975551817992,31367.67242188568,8378.621513928776,22108.37500251853,26034.41244641659,28213.273813586937,17314.66000460106,9186.332258209062,19272.57038821,38401.310313040725,22974.48146212956,9435.45310538587,11117.778587902489,10917.98171831956,8755.268429202368,4112.875085156192,29683.78750370277,3633.5807981847015,4105.403939806086,18022.5876686783,20905.02617306864,7239.889453839917,29645.57165267653,5995.947460262218,5566.761083657444,19695.477461221788,11540.968418586272,2163.174485247774,2763.494616865032,3453.599706928197,22979.484559587345,5940.019610531129,10897.967020227812,37173.4850309106,20007.953636872044,4163.054227858259,14423.137707198925,26432.27611059064,7389.987264080561,21654.81781339228,21217.10776493914,27201.51629777697,17653.29271306881,8496.683068292736,19068.11952319294,24355.34158785795,22606.18312556117,8794.22303690048,8125.833793259992,13005.9635325601,16961.225344388604,8342.099080688651,48346.771686958,6544.511552360103,7413.868424279929,36497.8896972733,41195.893303295765,10420.981216248922,35457.79235347808,8083.406562235693,10683.67316051268,24029.868572524472,23615.976461618666,3000.619110682334,5803.387827074823,6394.282017658808,27966.854293581306,7548.232632194112,14402.662563620595,46256.854534268095,26548.81552431885,8672.512287000809,22655.93085204651,31649.337149208564,8303.753806749146,42770.7656608006,24931.20947200937,31180.495118992552,26369.845003445476,11413.937497200775,37907.17299102319,38226.23314573748,28351.95802448,14323.65115971084,10698.138098043906,10610.202654021876,8686.594959271586,4074.6680471727327,31337.801361837748,4404.838001760608,3649.5089584752673,18104.70490499275,20846.89898818623,7743.855737242367,29336.46691338506,6151.4533167200025,5608.223789830721,19847.39240114941,12135.570591197582,1946.7391243681504,2781.9103890942265,3533.566035580918,23696.241564905024,5427.94583951762,13097.851474848128,34846.43827090433,20253.971417560933,4051.0242313134886,14593.658971578643,25980.07206244578,7555.915595639335,22947.35988886081,21818.15627811528,28243.71864008754,17914.883376243906,10058.358943190942,19459.65854836092,24724.667752864065,23368.971061314267,8988.050081090576,7633.385708459244,10145.39410638099,8516.098909629973,8093.54114441074,31693.933353885102,4329.953248100952,3627.5108924218616,18037.166699339065,42558.5289562613,6783.35928671348,29684.280157385077,6078.707893774997,10478.377675438653,20756.227226137165,12709.138027082194,1853.2485816189749,3005.5426670637453,6371.697851767217,29481.623942731687,4603.830748416068,11700.29541201497,36062.02433355493,20551.242474391587,8377.337607893283,14848.32555862811,31187.458561579588,8361.628939181839,23636.19591580961,25276.696819411754,29217.44442692709,18164.355220090463,9257.82475850964,19930.842253151317,38519.55267207368,23950.614644456964,9906.25305153273,11676.66702643319,13132.925131235836,17498.91179153779,4301.081977411684,48742.96219484136,4463.872474729011,5387.252243579327,18288.701239898557,22337.458042710696,6278.0466869328775,29551.593941848543,5999.744622201812,5734.386815948815,20100.305939443067,14647.136115983416,2054.464941476437,5721.997953227812,3525.212463888401,24079.169388717462,5854.857269320148,10678.143416249428,36074.592157714,26621.73723131907,4191.472729269468,15378.27410541849,26351.48848906091,7743.707384086381,23844.42518164126,21750.0608342491,29148.523499166928,18524.95981497384,9312.438035111183,37892.80201961864,24393.270629879484,23816.096012977745,14563.656358387048,8853.679440723998,10821.80570894535,8369.84684861255,8235.616588800915,30702.735500317685,8466.675519691269,3565.539191206471,18646.345201887303,44688.98155383023,7537.57049900537,29630.50708747647,6209.607323950979,10596.456406767284,20526.61084267233,25562.88351417419,3236.530324281324,2907.990401336103,6333.320303563381,28518.05858054033,6138.069696082291,12269.691891432389,47125.92102168789,21153.242972696164,8902.653049493305,14531.35232689091,31696.380675941768,8532.46628766828,22884.829140845577,25344.34228460151,28056.449187785376,26896.37796559904,12832.941039667949,19913.38896690432,38500.35394181831,24026.60835307181,9124.538846177133,11346.35918822892,10829.961838234654,8334.206937098206,4151.474241585178,30688.94649955928,4277.877406377365,3626.2238832725966,18386.399802749536,22589.430762449065,8082.188377453449,29440.13151207179,5928.34251154378,5775.437119732143,20562.69544438173,13499.202521231024,1920.3663896235971,2712.031825018279,3276.848528580642,23289.1498333204,4972.757442933454,11684.442505325487,36494.18503638672,21410.333442874035,4549.354597606843,15537.4274706308,26405.6267286644,7622.592129417865,23611.6530098518,21637.21316572802,29169.3460296947,18447.660018789877,9116.689389420751,19307.659175833407,24394.077261036196,24457.04838840315,9171.997208634708,9266.931480210274,12995.340352464158,17519.678689686025,8213.665499742694,48238.459147180896,4630.4854367681,7399.028361069443,37248.89073819932,43576.812769346165,11474.259613764729,35664.59087686857,7979.86599726527,10682.087917595827,24724.45895347712,14229.649804736931,2084.7920013513767,5624.227200261883,6395.678169908676,29447.04644918387,7617.504860661492,13785.35186658821,35587.07349943544,27147.933405402528,9723.594458500083,23479.406937043062,31497.43861151234,8335.210668037766,46898.90896922773,26013.13706647917,33382.934390026494,18799.351033732248,10641.167164571154,38495.22469628082,38469.93642328578,29769.307674686275,14928.696783505437,10845.010291360935,10504.81419491185,8595.378914868195,4008.885582649732,30708.369163271054,4130.828732998163,4271.415616080843,18359.2757186526,21546.358223098323,8900.277033791304,29588.05822002948,5881.609611932242,5391.2655032413295,21387.520982230573,12981.623755701808,1993.4554161010944,2844.8345547207678,3465.416541812802,23426.699403112856,6651.867524605427,12086.511482350948,35787.15549335446,20961.19018048076,5080.259044409886,14833.008074739317,26221.180330004183,7564.685630508266,23366.06953097521,21169.063047654672,30864.73577267911,18440.301600594128,9018.786691197118,20564.34508111152,24278.06780544043,23844.59445556209,9389.308710056475,9067.10356990679,10617.199735039858,8909.34804042535,7912.641813383604,31409.708741769617,8556.9623263949,4434.384629320339,18319.30502171468,44418.74456300528,8267.50996308907,29863.24102425886,6005.039453185891,10741.839914724516,20893.97852082221,24787.776667876155,3282.422196975332,2796.209641649277,6347.142695832982,31297.07837132145,6692.960704605788,10535.41955004645,48323.04219654856,21462.527339356213,8887.519824191515,15892.11334464441,32073.015819483247,8398.815679288504,24092.034124131183,26338.140770582715,28578.75854043796,28606.278341114907,13291.148934697896,20174.415920047388,38838.11977892852,24538.33919681875,9375.34764019512,11372.66817255313,13377.16567290543,17234.63647514676,4275.162782458982,47790.66162390861,4590.899855350853,3375.6614915493096,18603.31714227848,23336.64412897969,7326.930256560451,29941.056411349586,6277.731331889021,5458.633355103862,21146.524111073395,14508.081645329055,1974.4405694159332,5698.047659612327,3345.0748916736525,24757.38254706269,6355.239501981213,11090.51328258217,35771.43362622856,28629.97322883504,4169.264015803926,15708.065265016585,26481.562226583635,7360.824160532624,25306.90626207804,21601.706755923977,30464.078618828225,18984.19037710359,10246.698818519604,39661.86565392386,24645.90080019532,25157.1711759417,13972.977285150451,9322.502960790824,11065.835571097508,9002.216839326033,8031.227878545426,30437.83195335825,3590.501500423084,3711.0007089059272,17934.623814990755,46021.80698142433,8364.299019216887,29942.330144764244,6135.691474453949,10664.122255609378,21677.87250489586,13526.407906339253,1790.4139032959083,2807.5848853448165,6221.535675954281,29896.41978687694,5218.420546654548,12574.354204431864,36187.538942249055,21386.23064659756,9293.568023147012,15317.311030331834,31889.32508466619,8351.666353686545,25437.04438174214,25954.077167421958,31770.276974365865,19211.826534109998,9585.564689501076,21027.813678242903,38334.91825392551,24604.56632144213,10016.991020788788,11598.132789727704,11135.38632426506,8794.467252062728,4628.9891938786,31364.346744643048,4916.292419805373,4217.859804209091,18817.99423840007,21893.485962793628,7444.818044893529,29743.275395155943,5997.799290179973,5614.396939591227,22095.43942437709,13773.082034973437,2102.69292612588,2745.781933658747,3510.634746362743,26467.326882909078,5871.835888477509,11747.48545031711,35354.68755375431,20966.143856067207,4788.87593556317,15631.004027090044,26404.09966819668,7386.099244410564,23891.512215728904,21856.34071619707,31227.02600632727,18838.115081413587,9792.485129146531,21165.46724953108,25031.08345458578,25714.51237196936,8769.613115578442,9466.71221936558],\"yaxis\":\"y\",\"type\":\"scattergl\"},{\"hovertemplate\":\"truffle_type=Jelly Filled<br>month=%{x}<br>kg=%{y}<extra></extra>\",\"legendgroup\":\"Jelly Filled\",\"line\":{\"color\":\"#00cc96\",\"dash\":\"solid\"},\"marker\":{\"symbol\":\"circle\"},\"mode\":\"lines\",\"name\":\"Jelly Filled\",\"showlegend\":true,\"x\":[\"1/2010\",\"1/2010\",\"1/2010\",\"1/2010\",\"1/2010\",\"1/2010\",\"1/2010\",\"1/2010\",\"1/2010\",\"1/2010\",\"1/2010\",\"1/2010\",\"1/2010\",\"1/2010\",\"1/2010\",\"1/2010\",\"1/2010\",\"1/2010\",\"1/2010\",\"1/2010\",\"1/2010\",\"1/2010\",\"1/2010\",\"1/2010\",\"1/2010\",\"1/2010\",\"1/2010\",\"1/2010\",\"1/2010\",\"1/2010\",\"1/2010\",\"1/2010\",\"1/2010\",\"1/2010\",\"1/2010\",\"1/2010\",\"1/2010\",\"1/2010\",\"2/2010\",\"2/2010\",\"2/2010\",\"2/2010\",\"2/2010\",\"2/2010\",\"2/2010\",\"2/2010\",\"2/2010\",\"2/2010\",\"2/2010\",\"2/2010\",\"2/2010\",\"2/2010\",\"2/2010\",\"2/2010\",\"2/2010\",\"2/2010\",\"2/2010\",\"2/2010\",\"2/2010\",\"2/2010\",\"2/2010\",\"2/2010\",\"2/2010\",\"2/2010\",\"2/2010\",\"2/2010\",\"2/2010\",\"2/2010\",\"2/2010\",\"2/2010\",\"2/2010\",\"2/2010\",\"2/2010\",\"2/2010\",\"2/2010\",\"2/2010\",\"3/2010\",\"3/2010\",\"3/2010\",\"3/2010\",\"3/2010\",\"3/2010\",\"3/2010\",\"3/2010\",\"3/2010\",\"3/2010\",\"3/2010\",\"3/2010\",\"3/2010\",\"3/2010\",\"3/2010\",\"3/2010\",\"3/2010\",\"3/2010\",\"3/2010\",\"3/2010\",\"3/2010\",\"3/2010\",\"3/2010\",\"3/2010\",\"3/2010\",\"3/2010\",\"3/2010\",\"3/2010\",\"3/2010\",\"3/2010\",\"3/2010\",\"3/2010\",\"3/2010\",\"3/2010\",\"3/2010\",\"3/2010\",\"3/2010\",\"3/2010\",\"4/2010\",\"4/2010\",\"4/2010\",\"4/2010\",\"4/2010\",\"4/2010\",\"4/2010\",\"4/2010\",\"4/2010\",\"4/2010\",\"4/2010\",\"4/2010\",\"4/2010\",\"4/2010\",\"4/2010\",\"4/2010\",\"4/2010\",\"4/2010\",\"4/2010\",\"4/2010\",\"4/2010\",\"4/2010\",\"4/2010\",\"4/2010\",\"4/2010\",\"4/2010\",\"4/2010\",\"4/2010\",\"4/2010\",\"4/2010\",\"4/2010\",\"4/2010\",\"4/2010\",\"4/2010\",\"4/2010\",\"4/2010\",\"4/2010\",\"4/2010\",\"5/2010\",\"5/2010\",\"5/2010\",\"5/2010\",\"5/2010\",\"5/2010\",\"5/2010\",\"5/2010\",\"5/2010\",\"5/2010\",\"5/2010\",\"5/2010\",\"5/2010\",\"5/2010\",\"5/2010\",\"5/2010\",\"5/2010\",\"5/2010\",\"5/2010\",\"5/2010\",\"5/2010\",\"5/2010\",\"5/2010\",\"5/2010\",\"5/2010\",\"5/2010\",\"5/2010\",\"5/2010\",\"5/2010\",\"5/2010\",\"5/2010\",\"5/2010\",\"5/2010\",\"5/2010\",\"5/2010\",\"5/2010\",\"5/2010\",\"5/2010\",\"6/2010\",\"6/2010\",\"6/2010\",\"6/2010\",\"6/2010\",\"6/2010\",\"6/2010\",\"6/2010\",\"6/2010\",\"6/2010\",\"6/2010\",\"6/2010\",\"6/2010\",\"6/2010\",\"6/2010\",\"6/2010\",\"6/2010\",\"6/2010\",\"6/2010\",\"6/2010\",\"6/2010\",\"6/2010\",\"6/2010\",\"6/2010\",\"6/2010\",\"6/2010\",\"6/2010\",\"6/2010\",\"6/2010\",\"6/2010\",\"6/2010\",\"6/2010\",\"6/2010\",\"6/2010\",\"6/2010\",\"6/2010\",\"6/2010\",\"6/2010\",\"7/2010\",\"7/2010\",\"7/2010\",\"7/2010\",\"7/2010\",\"7/2010\",\"7/2010\",\"7/2010\",\"7/2010\",\"7/2010\",\"7/2010\",\"7/2010\",\"7/2010\",\"7/2010\",\"7/2010\",\"7/2010\",\"7/2010\",\"7/2010\",\"7/2010\",\"7/2010\",\"7/2010\",\"7/2010\",\"7/2010\",\"7/2010\",\"7/2010\",\"7/2010\",\"7/2010\",\"7/2010\",\"7/2010\",\"7/2010\",\"7/2010\",\"7/2010\",\"7/2010\",\"7/2010\",\"7/2010\",\"7/2010\",\"7/2010\",\"7/2010\",\"8/2010\",\"8/2010\",\"8/2010\",\"8/2010\",\"8/2010\",\"8/2010\",\"8/2010\",\"8/2010\",\"8/2010\",\"8/2010\",\"8/2010\",\"8/2010\",\"8/2010\",\"8/2010\",\"8/2010\",\"8/2010\",\"8/2010\",\"8/2010\",\"8/2010\",\"8/2010\",\"8/2010\",\"8/2010\",\"8/2010\",\"8/2010\",\"8/2010\",\"8/2010\",\"8/2010\",\"8/2010\",\"8/2010\",\"8/2010\",\"8/2010\",\"8/2010\",\"8/2010\",\"8/2010\",\"8/2010\",\"8/2010\",\"8/2010\",\"8/2010\",\"9/2010\",\"9/2010\",\"9/2010\",\"9/2010\",\"9/2010\",\"9/2010\",\"9/2010\",\"9/2010\",\"9/2010\",\"9/2010\",\"9/2010\",\"9/2010\",\"9/2010\",\"9/2010\",\"9/2010\",\"9/2010\",\"9/2010\",\"9/2010\",\"9/2010\",\"9/2010\",\"9/2010\",\"9/2010\",\"9/2010\",\"9/2010\",\"9/2010\",\"9/2010\",\"9/2010\",\"9/2010\",\"9/2010\",\"9/2010\",\"9/2010\",\"9/2010\",\"9/2010\",\"9/2010\",\"9/2010\",\"9/2010\",\"9/2010\",\"9/2010\",\"10/2010\",\"10/2010\",\"10/2010\",\"10/2010\",\"10/2010\",\"10/2010\",\"10/2010\",\"10/2010\",\"10/2010\",\"10/2010\",\"10/2010\",\"10/2010\",\"10/2010\",\"10/2010\",\"10/2010\",\"10/2010\",\"10/2010\",\"10/2010\",\"10/2010\",\"10/2010\",\"10/2010\",\"10/2010\",\"10/2010\",\"10/2010\",\"10/2010\",\"10/2010\",\"10/2010\",\"10/2010\",\"10/2010\",\"10/2010\",\"10/2010\",\"10/2010\",\"10/2010\",\"10/2010\",\"10/2010\",\"10/2010\",\"10/2010\",\"10/2010\",\"11/2010\",\"11/2010\",\"11/2010\",\"11/2010\",\"11/2010\",\"11/2010\",\"11/2010\",\"11/2010\",\"11/2010\",\"11/2010\",\"11/2010\",\"11/2010\",\"11/2010\",\"11/2010\",\"11/2010\",\"11/2010\",\"11/2010\",\"11/2010\",\"11/2010\",\"11/2010\",\"11/2010\",\"11/2010\",\"11/2010\",\"11/2010\",\"11/2010\",\"11/2010\",\"11/2010\",\"11/2010\",\"11/2010\",\"11/2010\",\"11/2010\",\"11/2010\",\"11/2010\",\"11/2010\",\"11/2010\",\"11/2010\",\"11/2010\",\"11/2010\",\"12/2010\",\"12/2010\",\"12/2010\",\"12/2010\",\"12/2010\",\"12/2010\",\"12/2010\",\"12/2010\",\"12/2010\",\"12/2010\",\"12/2010\",\"12/2010\",\"12/2010\",\"12/2010\",\"12/2010\",\"12/2010\",\"12/2010\",\"12/2010\",\"12/2010\",\"12/2010\",\"12/2010\",\"12/2010\",\"12/2010\",\"12/2010\",\"12/2010\",\"12/2010\",\"12/2010\",\"12/2010\",\"12/2010\",\"12/2010\",\"12/2010\",\"12/2010\",\"12/2010\",\"12/2010\",\"12/2010\",\"12/2010\",\"12/2010\",\"12/2010\",\"1/2011\",\"1/2011\",\"1/2011\",\"1/2011\",\"1/2011\",\"1/2011\",\"1/2011\",\"1/2011\",\"1/2011\",\"1/2011\",\"1/2011\",\"1/2011\",\"1/2011\",\"1/2011\",\"1/2011\",\"1/2011\",\"1/2011\",\"1/2011\",\"1/2011\",\"1/2011\",\"1/2011\",\"1/2011\",\"1/2011\",\"1/2011\",\"1/2011\",\"1/2011\",\"1/2011\",\"1/2011\",\"1/2011\",\"1/2011\",\"1/2011\",\"1/2011\",\"1/2011\",\"1/2011\",\"1/2011\",\"1/2011\",\"1/2011\",\"1/2011\",\"2/2011\",\"2/2011\",\"2/2011\",\"2/2011\",\"2/2011\",\"2/2011\",\"2/2011\",\"2/2011\",\"2/2011\",\"2/2011\",\"2/2011\",\"2/2011\",\"2/2011\",\"2/2011\",\"2/2011\",\"2/2011\",\"2/2011\",\"2/2011\",\"2/2011\",\"2/2011\",\"2/2011\",\"2/2011\",\"2/2011\",\"2/2011\",\"2/2011\",\"2/2011\",\"2/2011\",\"2/2011\",\"2/2011\",\"2/2011\",\"2/2011\",\"2/2011\",\"2/2011\",\"2/2011\",\"2/2011\",\"2/2011\",\"2/2011\",\"2/2011\",\"3/2011\",\"3/2011\",\"3/2011\",\"3/2011\",\"3/2011\",\"3/2011\",\"3/2011\",\"3/2011\",\"3/2011\",\"3/2011\",\"3/2011\",\"3/2011\",\"3/2011\",\"3/2011\",\"3/2011\",\"3/2011\",\"3/2011\",\"3/2011\",\"3/2011\",\"3/2011\",\"3/2011\",\"3/2011\",\"3/2011\",\"3/2011\",\"3/2011\",\"3/2011\",\"3/2011\",\"3/2011\",\"3/2011\",\"3/2011\",\"3/2011\",\"3/2011\",\"3/2011\",\"3/2011\",\"3/2011\",\"3/2011\",\"3/2011\",\"3/2011\",\"4/2011\",\"4/2011\",\"4/2011\",\"4/2011\",\"4/2011\",\"4/2011\",\"4/2011\",\"4/2011\",\"4/2011\",\"4/2011\",\"4/2011\",\"4/2011\",\"4/2011\",\"4/2011\",\"4/2011\",\"4/2011\",\"4/2011\",\"4/2011\",\"4/2011\",\"4/2011\",\"4/2011\",\"4/2011\",\"4/2011\",\"4/2011\",\"4/2011\",\"4/2011\",\"4/2011\",\"4/2011\",\"4/2011\",\"4/2011\",\"4/2011\",\"4/2011\",\"4/2011\",\"4/2011\",\"4/2011\",\"4/2011\",\"4/2011\",\"4/2011\",\"5/2011\",\"5/2011\",\"5/2011\",\"5/2011\",\"5/2011\",\"5/2011\",\"5/2011\",\"5/2011\",\"5/2011\",\"5/2011\",\"5/2011\",\"5/2011\",\"5/2011\",\"5/2011\",\"5/2011\",\"5/2011\",\"5/2011\",\"5/2011\",\"5/2011\",\"5/2011\",\"5/2011\",\"5/2011\",\"5/2011\",\"5/2011\",\"5/2011\",\"5/2011\",\"5/2011\",\"5/2011\",\"5/2011\",\"5/2011\",\"5/2011\",\"5/2011\",\"5/2011\",\"5/2011\",\"5/2011\",\"5/2011\",\"5/2011\",\"5/2011\",\"6/2011\",\"6/2011\",\"6/2011\",\"6/2011\",\"6/2011\",\"6/2011\",\"6/2011\",\"6/2011\",\"6/2011\",\"6/2011\",\"6/2011\",\"6/2011\",\"6/2011\",\"6/2011\",\"6/2011\",\"6/2011\",\"6/2011\",\"6/2011\",\"6/2011\",\"6/2011\",\"6/2011\",\"6/2011\",\"6/2011\",\"6/2011\",\"6/2011\",\"6/2011\",\"6/2011\",\"6/2011\",\"6/2011\",\"6/2011\",\"6/2011\",\"6/2011\",\"6/2011\",\"6/2011\",\"6/2011\",\"6/2011\",\"6/2011\",\"6/2011\",\"7/2011\",\"7/2011\",\"7/2011\",\"7/2011\",\"7/2011\",\"7/2011\",\"7/2011\",\"7/2011\",\"7/2011\",\"7/2011\",\"7/2011\",\"7/2011\",\"7/2011\",\"7/2011\",\"7/2011\",\"7/2011\",\"7/2011\",\"7/2011\",\"7/2011\",\"7/2011\",\"7/2011\",\"7/2011\",\"7/2011\",\"7/2011\",\"7/2011\",\"7/2011\",\"7/2011\",\"7/2011\",\"7/2011\",\"7/2011\",\"7/2011\",\"7/2011\",\"7/2011\",\"7/2011\",\"7/2011\",\"7/2011\",\"7/2011\",\"7/2011\",\"8/2011\",\"8/2011\",\"8/2011\",\"8/2011\",\"8/2011\",\"8/2011\",\"8/2011\",\"8/2011\",\"8/2011\",\"8/2011\",\"8/2011\",\"8/2011\",\"8/2011\",\"8/2011\",\"8/2011\",\"8/2011\",\"8/2011\",\"8/2011\",\"8/2011\",\"8/2011\",\"8/2011\",\"8/2011\",\"8/2011\",\"8/2011\",\"8/2011\",\"8/2011\",\"8/2011\",\"8/2011\",\"8/2011\",\"8/2011\",\"8/2011\",\"8/2011\",\"8/2011\",\"8/2011\",\"8/2011\",\"8/2011\",\"8/2011\",\"8/2011\",\"9/2011\",\"9/2011\",\"9/2011\",\"9/2011\",\"9/2011\",\"9/2011\",\"9/2011\",\"9/2011\",\"9/2011\",\"9/2011\",\"9/2011\",\"9/2011\",\"9/2011\",\"9/2011\",\"9/2011\",\"9/2011\",\"9/2011\",\"9/2011\",\"9/2011\",\"9/2011\",\"9/2011\",\"9/2011\",\"9/2011\",\"9/2011\",\"9/2011\",\"9/2011\",\"9/2011\",\"9/2011\",\"9/2011\",\"9/2011\",\"9/2011\",\"9/2011\",\"9/2011\",\"9/2011\",\"9/2011\",\"9/2011\",\"9/2011\",\"9/2011\",\"10/2011\",\"10/2011\",\"10/2011\",\"10/2011\",\"10/2011\",\"10/2011\",\"10/2011\",\"10/2011\",\"10/2011\",\"10/2011\",\"10/2011\",\"10/2011\",\"10/2011\",\"10/2011\",\"10/2011\",\"10/2011\",\"10/2011\",\"10/2011\",\"10/2011\",\"10/2011\",\"10/2011\",\"10/2011\",\"10/2011\",\"10/2011\",\"10/2011\",\"10/2011\",\"10/2011\",\"10/2011\",\"10/2011\",\"10/2011\",\"10/2011\",\"10/2011\",\"10/2011\",\"10/2011\",\"10/2011\",\"10/2011\",\"10/2011\",\"10/2011\",\"11/2011\",\"11/2011\",\"11/2011\",\"11/2011\",\"11/2011\",\"11/2011\",\"11/2011\",\"11/2011\",\"11/2011\",\"11/2011\",\"11/2011\",\"11/2011\",\"11/2011\",\"11/2011\",\"11/2011\",\"11/2011\",\"11/2011\",\"11/2011\",\"11/2011\",\"11/2011\",\"11/2011\",\"11/2011\",\"11/2011\",\"11/2011\",\"11/2011\",\"11/2011\",\"11/2011\",\"11/2011\",\"11/2011\",\"11/2011\",\"11/2011\",\"11/2011\",\"11/2011\",\"11/2011\",\"11/2011\",\"11/2011\",\"11/2011\",\"11/2011\",\"12/2011\",\"12/2011\",\"12/2011\",\"12/2011\",\"12/2011\",\"12/2011\",\"12/2011\",\"12/2011\",\"12/2011\",\"12/2011\",\"12/2011\",\"12/2011\",\"12/2011\",\"12/2011\",\"12/2011\",\"12/2011\",\"12/2011\",\"12/2011\",\"12/2011\",\"12/2011\",\"12/2011\",\"12/2011\",\"12/2011\",\"12/2011\",\"12/2011\",\"12/2011\",\"12/2011\",\"12/2011\",\"12/2011\",\"12/2011\",\"12/2011\",\"12/2011\",\"12/2011\",\"12/2011\",\"12/2011\",\"12/2011\",\"12/2011\",\"12/2011\",\"1/2012\",\"1/2012\",\"1/2012\",\"1/2012\",\"1/2012\",\"1/2012\",\"1/2012\",\"1/2012\",\"1/2012\",\"1/2012\",\"1/2012\",\"1/2012\",\"1/2012\",\"1/2012\",\"1/2012\",\"1/2012\",\"1/2012\",\"1/2012\",\"1/2012\",\"1/2012\",\"1/2012\",\"1/2012\",\"1/2012\",\"1/2012\",\"1/2012\",\"1/2012\",\"1/2012\",\"1/2012\",\"1/2012\",\"1/2012\",\"1/2012\",\"1/2012\",\"1/2012\",\"1/2012\",\"1/2012\",\"1/2012\",\"1/2012\",\"1/2012\",\"2/2012\",\"2/2012\",\"2/2012\",\"2/2012\",\"2/2012\",\"2/2012\",\"2/2012\",\"2/2012\",\"2/2012\",\"2/2012\",\"2/2012\",\"2/2012\",\"2/2012\",\"2/2012\",\"2/2012\",\"2/2012\",\"2/2012\",\"2/2012\",\"2/2012\",\"2/2012\",\"2/2012\",\"2/2012\",\"2/2012\",\"2/2012\",\"2/2012\",\"2/2012\",\"2/2012\",\"2/2012\",\"2/2012\",\"2/2012\",\"2/2012\",\"2/2012\",\"2/2012\",\"2/2012\",\"2/2012\",\"2/2012\",\"2/2012\",\"2/2012\",\"3/2012\",\"3/2012\",\"3/2012\",\"3/2012\",\"3/2012\",\"3/2012\",\"3/2012\",\"3/2012\",\"3/2012\",\"3/2012\",\"3/2012\",\"3/2012\",\"3/2012\",\"3/2012\",\"3/2012\",\"3/2012\",\"3/2012\",\"3/2012\",\"3/2012\",\"3/2012\",\"3/2012\",\"3/2012\",\"3/2012\",\"3/2012\",\"3/2012\",\"3/2012\",\"3/2012\",\"3/2012\",\"3/2012\",\"3/2012\",\"3/2012\",\"3/2012\",\"3/2012\",\"3/2012\",\"3/2012\",\"3/2012\",\"3/2012\",\"3/2012\",\"4/2012\",\"4/2012\",\"4/2012\",\"4/2012\",\"4/2012\",\"4/2012\",\"4/2012\",\"4/2012\",\"4/2012\",\"4/2012\",\"4/2012\",\"4/2012\",\"4/2012\",\"4/2012\",\"4/2012\",\"4/2012\",\"4/2012\",\"4/2012\",\"4/2012\",\"4/2012\",\"4/2012\",\"4/2012\",\"4/2012\",\"4/2012\",\"4/2012\",\"4/2012\",\"4/2012\",\"4/2012\",\"4/2012\",\"4/2012\",\"4/2012\",\"4/2012\",\"4/2012\",\"4/2012\",\"4/2012\",\"4/2012\",\"4/2012\",\"4/2012\",\"5/2012\",\"5/2012\",\"5/2012\",\"5/2012\",\"5/2012\",\"5/2012\",\"5/2012\",\"5/2012\",\"5/2012\",\"5/2012\",\"5/2012\",\"5/2012\",\"5/2012\",\"5/2012\",\"5/2012\",\"5/2012\",\"5/2012\",\"5/2012\",\"5/2012\",\"5/2012\",\"5/2012\",\"5/2012\",\"5/2012\",\"5/2012\",\"5/2012\",\"5/2012\",\"5/2012\",\"5/2012\",\"5/2012\",\"5/2012\",\"5/2012\",\"5/2012\",\"5/2012\",\"5/2012\",\"5/2012\",\"5/2012\",\"5/2012\",\"5/2012\",\"6/2012\",\"6/2012\",\"6/2012\",\"6/2012\",\"6/2012\",\"6/2012\",\"6/2012\",\"6/2012\",\"6/2012\",\"6/2012\",\"6/2012\",\"6/2012\",\"6/2012\",\"6/2012\",\"6/2012\",\"6/2012\",\"6/2012\",\"6/2012\",\"6/2012\",\"6/2012\",\"6/2012\",\"6/2012\",\"6/2012\",\"6/2012\",\"6/2012\",\"6/2012\",\"6/2012\",\"6/2012\",\"6/2012\",\"6/2012\",\"6/2012\",\"6/2012\",\"6/2012\",\"6/2012\",\"6/2012\",\"6/2012\",\"6/2012\",\"6/2012\",\"7/2012\",\"7/2012\",\"7/2012\",\"7/2012\",\"7/2012\",\"7/2012\",\"7/2012\",\"7/2012\",\"7/2012\",\"7/2012\",\"7/2012\",\"7/2012\",\"7/2012\",\"7/2012\",\"7/2012\",\"7/2012\",\"7/2012\",\"7/2012\",\"7/2012\",\"7/2012\",\"7/2012\",\"7/2012\",\"7/2012\",\"7/2012\",\"7/2012\",\"7/2012\",\"7/2012\",\"7/2012\",\"7/2012\",\"7/2012\",\"7/2012\",\"7/2012\",\"7/2012\",\"7/2012\",\"7/2012\",\"7/2012\",\"7/2012\",\"7/2012\",\"8/2012\",\"8/2012\",\"8/2012\",\"8/2012\",\"8/2012\",\"8/2012\",\"8/2012\",\"8/2012\",\"8/2012\",\"8/2012\",\"8/2012\",\"8/2012\",\"8/2012\",\"8/2012\",\"8/2012\",\"8/2012\",\"8/2012\",\"8/2012\",\"8/2012\",\"8/2012\",\"8/2012\",\"8/2012\",\"8/2012\",\"8/2012\",\"8/2012\",\"8/2012\",\"8/2012\",\"8/2012\",\"8/2012\",\"8/2012\",\"8/2012\",\"8/2012\",\"8/2012\",\"8/2012\",\"8/2012\",\"8/2012\",\"8/2012\",\"8/2012\",\"9/2012\",\"9/2012\",\"9/2012\",\"9/2012\",\"9/2012\",\"9/2012\",\"9/2012\",\"9/2012\",\"9/2012\",\"9/2012\",\"9/2012\",\"9/2012\",\"9/2012\",\"9/2012\",\"9/2012\",\"9/2012\",\"9/2012\",\"9/2012\",\"9/2012\",\"9/2012\",\"9/2012\",\"9/2012\",\"9/2012\",\"9/2012\",\"9/2012\",\"9/2012\",\"9/2012\",\"9/2012\",\"9/2012\",\"9/2012\",\"9/2012\",\"9/2012\",\"9/2012\",\"9/2012\",\"9/2012\",\"9/2012\",\"9/2012\",\"9/2012\",\"10/2012\",\"10/2012\",\"10/2012\",\"10/2012\",\"10/2012\",\"10/2012\",\"10/2012\",\"10/2012\",\"10/2012\",\"10/2012\",\"10/2012\",\"10/2012\",\"10/2012\",\"10/2012\",\"10/2012\",\"10/2012\",\"10/2012\",\"10/2012\",\"10/2012\",\"10/2012\",\"10/2012\",\"10/2012\",\"10/2012\",\"10/2012\",\"10/2012\",\"10/2012\",\"10/2012\",\"10/2012\",\"10/2012\",\"10/2012\",\"10/2012\",\"10/2012\",\"10/2012\",\"10/2012\",\"10/2012\",\"10/2012\",\"10/2012\",\"10/2012\",\"11/2012\",\"11/2012\",\"11/2012\",\"11/2012\",\"11/2012\",\"11/2012\",\"11/2012\",\"11/2012\",\"11/2012\",\"11/2012\",\"11/2012\",\"11/2012\",\"11/2012\",\"11/2012\",\"11/2012\",\"11/2012\",\"11/2012\",\"11/2012\",\"11/2012\",\"11/2012\",\"11/2012\",\"11/2012\",\"11/2012\",\"11/2012\",\"11/2012\",\"11/2012\",\"11/2012\",\"11/2012\",\"11/2012\",\"11/2012\",\"11/2012\",\"11/2012\",\"11/2012\",\"11/2012\",\"11/2012\",\"11/2012\",\"11/2012\",\"11/2012\",\"12/2012\",\"12/2012\",\"12/2012\",\"12/2012\",\"12/2012\",\"12/2012\",\"12/2012\",\"12/2012\",\"12/2012\",\"12/2012\",\"12/2012\",\"12/2012\",\"12/2012\",\"12/2012\",\"12/2012\",\"12/2012\",\"12/2012\",\"12/2012\",\"12/2012\",\"12/2012\",\"12/2012\",\"12/2012\",\"12/2012\",\"12/2012\",\"12/2012\",\"12/2012\",\"12/2012\",\"12/2012\",\"12/2012\",\"12/2012\",\"12/2012\",\"12/2012\",\"12/2012\",\"12/2012\",\"12/2012\",\"12/2012\",\"12/2012\",\"12/2012\",\"1/2013\",\"1/2013\",\"1/2013\",\"1/2013\",\"1/2013\",\"1/2013\",\"1/2013\",\"1/2013\",\"1/2013\",\"1/2013\",\"1/2013\",\"1/2013\",\"1/2013\",\"1/2013\",\"1/2013\",\"1/2013\",\"1/2013\",\"1/2013\",\"1/2013\",\"1/2013\",\"1/2013\",\"1/2013\",\"1/2013\",\"1/2013\",\"1/2013\",\"1/2013\",\"1/2013\",\"1/2013\",\"1/2013\",\"1/2013\",\"1/2013\",\"1/2013\",\"1/2013\",\"1/2013\",\"1/2013\",\"1/2013\",\"1/2013\",\"1/2013\",\"2/2013\",\"2/2013\",\"2/2013\",\"2/2013\",\"2/2013\",\"2/2013\",\"2/2013\",\"2/2013\",\"2/2013\",\"2/2013\",\"2/2013\",\"2/2013\",\"2/2013\",\"2/2013\",\"2/2013\",\"2/2013\",\"2/2013\",\"2/2013\",\"2/2013\",\"2/2013\",\"2/2013\",\"2/2013\",\"2/2013\",\"2/2013\",\"2/2013\",\"2/2013\",\"2/2013\",\"2/2013\",\"2/2013\",\"2/2013\",\"2/2013\",\"2/2013\",\"2/2013\",\"2/2013\",\"2/2013\",\"2/2013\",\"2/2013\",\"2/2013\",\"3/2013\",\"3/2013\",\"3/2013\",\"3/2013\",\"3/2013\",\"3/2013\",\"3/2013\",\"3/2013\",\"3/2013\",\"3/2013\",\"3/2013\",\"3/2013\",\"3/2013\",\"3/2013\",\"3/2013\",\"3/2013\",\"3/2013\",\"3/2013\",\"3/2013\",\"3/2013\",\"3/2013\",\"3/2013\",\"3/2013\",\"3/2013\",\"3/2013\",\"3/2013\",\"3/2013\",\"3/2013\",\"3/2013\",\"3/2013\",\"3/2013\",\"3/2013\",\"3/2013\",\"3/2013\",\"3/2013\",\"3/2013\",\"3/2013\",\"3/2013\",\"4/2013\",\"4/2013\",\"4/2013\",\"4/2013\",\"4/2013\",\"4/2013\",\"4/2013\",\"4/2013\",\"4/2013\",\"4/2013\",\"4/2013\",\"4/2013\",\"4/2013\",\"4/2013\",\"4/2013\",\"4/2013\",\"4/2013\",\"4/2013\",\"4/2013\",\"4/2013\",\"4/2013\",\"4/2013\",\"4/2013\",\"4/2013\",\"4/2013\",\"4/2013\",\"4/2013\",\"4/2013\",\"4/2013\",\"4/2013\",\"4/2013\",\"4/2013\",\"4/2013\",\"4/2013\",\"4/2013\",\"4/2013\",\"4/2013\",\"4/2013\",\"5/2013\",\"5/2013\",\"5/2013\",\"5/2013\",\"5/2013\",\"5/2013\",\"5/2013\",\"5/2013\",\"5/2013\",\"5/2013\",\"5/2013\",\"5/2013\",\"5/2013\",\"5/2013\",\"5/2013\",\"5/2013\",\"5/2013\",\"5/2013\",\"5/2013\",\"5/2013\",\"5/2013\",\"5/2013\",\"5/2013\",\"5/2013\",\"5/2013\",\"5/2013\",\"5/2013\",\"5/2013\",\"5/2013\",\"5/2013\",\"5/2013\",\"5/2013\",\"5/2013\",\"5/2013\",\"5/2013\",\"5/2013\",\"5/2013\",\"5/2013\",\"6/2013\",\"6/2013\",\"6/2013\",\"6/2013\",\"6/2013\",\"6/2013\",\"6/2013\",\"6/2013\",\"6/2013\",\"6/2013\",\"6/2013\",\"6/2013\",\"6/2013\",\"6/2013\",\"6/2013\",\"6/2013\",\"6/2013\",\"6/2013\",\"6/2013\",\"6/2013\",\"6/2013\",\"6/2013\",\"6/2013\",\"6/2013\",\"6/2013\",\"6/2013\",\"6/2013\",\"6/2013\",\"6/2013\",\"6/2013\",\"6/2013\",\"6/2013\",\"6/2013\",\"6/2013\",\"6/2013\",\"6/2013\",\"6/2013\",\"6/2013\",\"7/2013\",\"7/2013\",\"7/2013\",\"7/2013\",\"7/2013\",\"7/2013\",\"7/2013\",\"7/2013\",\"7/2013\",\"7/2013\",\"7/2013\",\"7/2013\",\"7/2013\",\"7/2013\",\"7/2013\",\"7/2013\",\"7/2013\",\"7/2013\",\"7/2013\",\"7/2013\",\"7/2013\",\"7/2013\",\"7/2013\",\"7/2013\",\"7/2013\",\"7/2013\",\"7/2013\",\"7/2013\",\"7/2013\",\"7/2013\",\"7/2013\",\"7/2013\",\"7/2013\",\"7/2013\",\"7/2013\",\"7/2013\",\"7/2013\",\"7/2013\",\"8/2013\",\"8/2013\",\"8/2013\",\"8/2013\",\"8/2013\",\"8/2013\",\"8/2013\",\"8/2013\",\"8/2013\",\"8/2013\",\"8/2013\",\"8/2013\",\"8/2013\",\"8/2013\",\"8/2013\",\"8/2013\",\"8/2013\",\"8/2013\",\"8/2013\",\"8/2013\",\"8/2013\",\"8/2013\",\"8/2013\",\"8/2013\",\"8/2013\",\"8/2013\",\"8/2013\",\"8/2013\",\"8/2013\",\"8/2013\",\"8/2013\",\"8/2013\",\"8/2013\",\"8/2013\",\"8/2013\",\"8/2013\",\"8/2013\",\"8/2013\",\"9/2013\",\"9/2013\",\"9/2013\",\"9/2013\",\"9/2013\",\"9/2013\",\"9/2013\",\"9/2013\",\"9/2013\",\"9/2013\",\"9/2013\",\"9/2013\",\"9/2013\",\"9/2013\",\"9/2013\",\"9/2013\",\"9/2013\",\"9/2013\",\"9/2013\",\"9/2013\",\"9/2013\",\"9/2013\",\"9/2013\",\"9/2013\",\"9/2013\",\"9/2013\",\"9/2013\",\"9/2013\",\"9/2013\",\"9/2013\",\"9/2013\",\"9/2013\",\"9/2013\",\"9/2013\",\"9/2013\",\"9/2013\",\"9/2013\",\"9/2013\",\"10/2013\",\"10/2013\",\"10/2013\",\"10/2013\",\"10/2013\",\"10/2013\",\"10/2013\",\"10/2013\",\"10/2013\",\"10/2013\",\"10/2013\",\"10/2013\",\"10/2013\",\"10/2013\",\"10/2013\",\"10/2013\",\"10/2013\",\"10/2013\",\"10/2013\",\"10/2013\",\"10/2013\",\"10/2013\",\"10/2013\",\"10/2013\",\"10/2013\",\"10/2013\",\"10/2013\",\"10/2013\",\"10/2013\",\"10/2013\",\"10/2013\",\"10/2013\",\"10/2013\",\"10/2013\",\"10/2013\",\"10/2013\",\"10/2013\",\"10/2013\",\"11/2013\",\"11/2013\",\"11/2013\",\"11/2013\",\"11/2013\",\"11/2013\",\"11/2013\",\"11/2013\",\"11/2013\",\"11/2013\",\"11/2013\",\"11/2013\",\"11/2013\",\"11/2013\",\"11/2013\",\"11/2013\",\"11/2013\",\"11/2013\",\"11/2013\",\"11/2013\",\"11/2013\",\"11/2013\",\"11/2013\",\"11/2013\",\"11/2013\",\"11/2013\",\"11/2013\",\"11/2013\",\"11/2013\",\"11/2013\",\"11/2013\",\"11/2013\",\"11/2013\",\"11/2013\",\"11/2013\",\"11/2013\",\"11/2013\",\"11/2013\",\"12/2013\",\"12/2013\",\"12/2013\",\"12/2013\",\"12/2013\",\"12/2013\",\"12/2013\",\"12/2013\",\"12/2013\",\"12/2013\",\"12/2013\",\"12/2013\",\"12/2013\",\"12/2013\",\"12/2013\",\"12/2013\",\"12/2013\",\"12/2013\",\"12/2013\",\"12/2013\",\"12/2013\",\"12/2013\",\"12/2013\",\"12/2013\",\"12/2013\",\"12/2013\",\"12/2013\",\"12/2013\",\"12/2013\",\"12/2013\",\"12/2013\",\"12/2013\",\"12/2013\",\"12/2013\",\"12/2013\",\"12/2013\",\"12/2013\",\"12/2013\",\"1/2014\",\"1/2014\",\"1/2014\",\"1/2014\",\"1/2014\",\"1/2014\",\"1/2014\",\"1/2014\",\"1/2014\",\"1/2014\",\"1/2014\",\"1/2014\",\"1/2014\",\"1/2014\",\"1/2014\",\"1/2014\",\"1/2014\",\"1/2014\",\"1/2014\",\"1/2014\",\"1/2014\",\"1/2014\",\"1/2014\",\"1/2014\",\"1/2014\",\"1/2014\",\"1/2014\",\"1/2014\",\"1/2014\",\"1/2014\",\"1/2014\",\"1/2014\",\"1/2014\",\"1/2014\",\"1/2014\",\"1/2014\",\"1/2014\",\"1/2014\",\"2/2014\",\"2/2014\",\"2/2014\",\"2/2014\",\"2/2014\",\"2/2014\",\"2/2014\",\"2/2014\",\"2/2014\",\"2/2014\",\"2/2014\",\"2/2014\",\"2/2014\",\"2/2014\",\"2/2014\",\"2/2014\",\"2/2014\",\"2/2014\",\"2/2014\",\"2/2014\",\"2/2014\",\"2/2014\",\"2/2014\",\"2/2014\",\"2/2014\",\"2/2014\",\"2/2014\",\"2/2014\",\"2/2014\",\"2/2014\",\"2/2014\",\"2/2014\",\"2/2014\",\"2/2014\",\"2/2014\",\"2/2014\",\"2/2014\",\"2/2014\",\"3/2014\",\"3/2014\",\"3/2014\",\"3/2014\",\"3/2014\",\"3/2014\",\"3/2014\",\"3/2014\",\"3/2014\",\"3/2014\",\"3/2014\",\"3/2014\",\"3/2014\",\"3/2014\",\"3/2014\",\"3/2014\",\"3/2014\",\"3/2014\",\"3/2014\",\"3/2014\",\"3/2014\",\"3/2014\",\"3/2014\",\"3/2014\",\"3/2014\",\"3/2014\",\"3/2014\",\"3/2014\",\"3/2014\",\"3/2014\",\"3/2014\",\"3/2014\",\"3/2014\",\"3/2014\",\"3/2014\",\"3/2014\",\"3/2014\",\"3/2014\",\"4/2014\",\"4/2014\",\"4/2014\",\"4/2014\",\"4/2014\",\"4/2014\",\"4/2014\",\"4/2014\",\"4/2014\",\"4/2014\",\"4/2014\",\"4/2014\",\"4/2014\",\"4/2014\",\"4/2014\",\"4/2014\",\"4/2014\",\"4/2014\",\"4/2014\",\"4/2014\",\"4/2014\",\"4/2014\",\"4/2014\",\"4/2014\",\"4/2014\",\"4/2014\",\"4/2014\",\"4/2014\",\"4/2014\",\"4/2014\",\"4/2014\",\"4/2014\",\"4/2014\",\"4/2014\",\"4/2014\",\"4/2014\",\"4/2014\",\"4/2014\",\"5/2014\",\"5/2014\",\"5/2014\",\"5/2014\",\"5/2014\",\"5/2014\",\"5/2014\",\"5/2014\",\"5/2014\",\"5/2014\",\"5/2014\",\"5/2014\",\"5/2014\",\"5/2014\",\"5/2014\",\"5/2014\",\"5/2014\",\"5/2014\",\"5/2014\",\"5/2014\",\"5/2014\",\"5/2014\",\"5/2014\",\"5/2014\",\"5/2014\",\"5/2014\",\"5/2014\",\"5/2014\",\"5/2014\",\"5/2014\",\"5/2014\",\"5/2014\",\"5/2014\",\"5/2014\",\"5/2014\",\"5/2014\",\"5/2014\",\"5/2014\",\"6/2014\",\"6/2014\",\"6/2014\",\"6/2014\",\"6/2014\",\"6/2014\",\"6/2014\",\"6/2014\",\"6/2014\",\"6/2014\",\"6/2014\",\"6/2014\",\"6/2014\",\"6/2014\",\"6/2014\",\"6/2014\",\"6/2014\",\"6/2014\",\"6/2014\",\"6/2014\",\"6/2014\",\"6/2014\",\"6/2014\",\"6/2014\",\"6/2014\",\"6/2014\",\"6/2014\",\"6/2014\",\"6/2014\",\"6/2014\",\"6/2014\",\"6/2014\",\"6/2014\",\"6/2014\",\"6/2014\",\"6/2014\",\"6/2014\",\"6/2014\",\"7/2014\",\"7/2014\",\"7/2014\",\"7/2014\",\"7/2014\",\"7/2014\",\"7/2014\",\"7/2014\",\"7/2014\",\"7/2014\",\"7/2014\",\"7/2014\",\"7/2014\",\"7/2014\",\"7/2014\",\"7/2014\",\"7/2014\",\"7/2014\",\"7/2014\",\"7/2014\",\"7/2014\",\"7/2014\",\"7/2014\",\"7/2014\",\"7/2014\",\"7/2014\",\"7/2014\",\"7/2014\",\"7/2014\",\"7/2014\",\"7/2014\",\"7/2014\",\"7/2014\",\"7/2014\",\"7/2014\",\"7/2014\",\"7/2014\",\"7/2014\",\"8/2014\",\"8/2014\",\"8/2014\",\"8/2014\",\"8/2014\",\"8/2014\",\"8/2014\",\"8/2014\",\"8/2014\",\"8/2014\",\"8/2014\",\"8/2014\",\"8/2014\",\"8/2014\",\"8/2014\",\"8/2014\",\"8/2014\",\"8/2014\",\"8/2014\",\"8/2014\",\"8/2014\",\"8/2014\",\"8/2014\",\"8/2014\",\"8/2014\",\"8/2014\",\"8/2014\",\"8/2014\",\"8/2014\",\"8/2014\",\"8/2014\",\"8/2014\",\"8/2014\",\"8/2014\",\"8/2014\",\"8/2014\",\"8/2014\",\"8/2014\",\"9/2014\",\"9/2014\",\"9/2014\",\"9/2014\",\"9/2014\",\"9/2014\",\"9/2014\",\"9/2014\",\"9/2014\",\"9/2014\",\"9/2014\",\"9/2014\",\"9/2014\",\"9/2014\",\"9/2014\",\"9/2014\",\"9/2014\",\"9/2014\",\"9/2014\",\"9/2014\",\"9/2014\",\"9/2014\",\"9/2014\",\"9/2014\",\"9/2014\",\"9/2014\",\"9/2014\",\"9/2014\",\"9/2014\",\"9/2014\",\"9/2014\",\"9/2014\",\"9/2014\",\"9/2014\",\"9/2014\",\"9/2014\",\"9/2014\",\"9/2014\",\"10/2014\",\"10/2014\",\"10/2014\",\"10/2014\",\"10/2014\",\"10/2014\",\"10/2014\",\"10/2014\",\"10/2014\",\"10/2014\",\"10/2014\",\"10/2014\",\"10/2014\",\"10/2014\",\"10/2014\",\"10/2014\",\"10/2014\",\"10/2014\",\"10/2014\",\"10/2014\",\"10/2014\",\"10/2014\",\"10/2014\",\"10/2014\",\"10/2014\",\"10/2014\",\"10/2014\",\"10/2014\",\"10/2014\",\"10/2014\",\"10/2014\",\"10/2014\",\"10/2014\",\"10/2014\",\"10/2014\",\"10/2014\",\"10/2014\",\"10/2014\",\"11/2014\",\"11/2014\",\"11/2014\",\"11/2014\",\"11/2014\",\"11/2014\",\"11/2014\",\"11/2014\",\"11/2014\",\"11/2014\",\"11/2014\",\"11/2014\",\"11/2014\",\"11/2014\",\"11/2014\",\"11/2014\",\"11/2014\",\"11/2014\",\"11/2014\",\"11/2014\",\"11/2014\",\"11/2014\",\"11/2014\",\"11/2014\",\"11/2014\",\"11/2014\",\"11/2014\",\"11/2014\",\"11/2014\",\"11/2014\",\"11/2014\",\"11/2014\",\"11/2014\",\"11/2014\",\"11/2014\",\"11/2014\",\"11/2014\",\"11/2014\",\"12/2014\",\"12/2014\",\"12/2014\",\"12/2014\",\"12/2014\",\"12/2014\",\"12/2014\",\"12/2014\",\"12/2014\",\"12/2014\",\"12/2014\",\"12/2014\",\"12/2014\",\"12/2014\",\"12/2014\",\"12/2014\",\"12/2014\",\"12/2014\",\"12/2014\",\"12/2014\",\"12/2014\",\"12/2014\",\"12/2014\",\"12/2014\",\"12/2014\",\"12/2014\",\"12/2014\",\"12/2014\",\"12/2014\",\"12/2014\",\"12/2014\",\"12/2014\",\"12/2014\",\"12/2014\",\"12/2014\",\"12/2014\",\"12/2014\",\"12/2014\",\"1/2015\",\"1/2015\",\"1/2015\",\"1/2015\",\"1/2015\",\"1/2015\",\"1/2015\",\"1/2015\",\"1/2015\",\"1/2015\",\"1/2015\",\"1/2015\",\"1/2015\",\"1/2015\",\"1/2015\",\"1/2015\",\"1/2015\",\"1/2015\",\"1/2015\",\"1/2015\",\"1/2015\",\"1/2015\",\"1/2015\",\"1/2015\",\"1/2015\",\"1/2015\",\"1/2015\",\"1/2015\",\"1/2015\",\"1/2015\",\"1/2015\",\"1/2015\",\"1/2015\",\"1/2015\",\"1/2015\",\"1/2015\",\"1/2015\",\"1/2015\",\"2/2015\",\"2/2015\",\"2/2015\",\"2/2015\",\"2/2015\",\"2/2015\",\"2/2015\",\"2/2015\",\"2/2015\",\"2/2015\",\"2/2015\",\"2/2015\",\"2/2015\",\"2/2015\",\"2/2015\",\"2/2015\",\"2/2015\",\"2/2015\",\"2/2015\",\"2/2015\",\"2/2015\",\"2/2015\",\"2/2015\",\"2/2015\",\"2/2015\",\"2/2015\",\"2/2015\",\"2/2015\",\"2/2015\",\"2/2015\",\"2/2015\",\"2/2015\",\"2/2015\",\"2/2015\",\"2/2015\",\"2/2015\",\"2/2015\",\"2/2015\",\"3/2015\",\"3/2015\",\"3/2015\",\"3/2015\",\"3/2015\",\"3/2015\",\"3/2015\",\"3/2015\",\"3/2015\",\"3/2015\",\"3/2015\",\"3/2015\",\"3/2015\",\"3/2015\",\"3/2015\",\"3/2015\",\"3/2015\",\"3/2015\",\"3/2015\",\"3/2015\",\"3/2015\",\"3/2015\",\"3/2015\",\"3/2015\",\"3/2015\",\"3/2015\",\"3/2015\",\"3/2015\",\"3/2015\",\"3/2015\",\"3/2015\",\"3/2015\",\"3/2015\",\"3/2015\",\"3/2015\",\"3/2015\",\"3/2015\",\"3/2015\",\"4/2015\",\"4/2015\",\"4/2015\",\"4/2015\",\"4/2015\",\"4/2015\",\"4/2015\",\"4/2015\",\"4/2015\",\"4/2015\",\"4/2015\",\"4/2015\",\"4/2015\",\"4/2015\",\"4/2015\",\"4/2015\",\"4/2015\",\"4/2015\",\"4/2015\",\"4/2015\",\"4/2015\",\"4/2015\",\"4/2015\",\"4/2015\",\"4/2015\",\"4/2015\",\"4/2015\",\"4/2015\",\"4/2015\",\"4/2015\",\"4/2015\",\"4/2015\",\"4/2015\",\"4/2015\",\"4/2015\",\"4/2015\",\"4/2015\",\"4/2015\",\"5/2015\",\"5/2015\",\"5/2015\",\"5/2015\",\"5/2015\",\"5/2015\",\"5/2015\",\"5/2015\",\"5/2015\",\"5/2015\",\"5/2015\",\"5/2015\",\"5/2015\",\"5/2015\",\"5/2015\",\"5/2015\",\"5/2015\",\"5/2015\",\"5/2015\",\"5/2015\",\"5/2015\",\"5/2015\",\"5/2015\",\"5/2015\",\"5/2015\",\"5/2015\",\"5/2015\",\"5/2015\",\"5/2015\",\"5/2015\",\"5/2015\",\"5/2015\",\"5/2015\",\"5/2015\",\"5/2015\",\"5/2015\",\"5/2015\",\"5/2015\",\"6/2015\",\"6/2015\",\"6/2015\",\"6/2015\",\"6/2015\",\"6/2015\",\"6/2015\",\"6/2015\",\"6/2015\",\"6/2015\",\"6/2015\",\"6/2015\",\"6/2015\",\"6/2015\",\"6/2015\",\"6/2015\",\"6/2015\",\"6/2015\",\"6/2015\",\"6/2015\",\"6/2015\",\"6/2015\",\"6/2015\",\"6/2015\",\"6/2015\",\"6/2015\",\"6/2015\",\"6/2015\",\"6/2015\",\"6/2015\",\"6/2015\",\"6/2015\",\"6/2015\",\"6/2015\",\"6/2015\",\"6/2015\",\"6/2015\",\"6/2015\",\"7/2015\",\"7/2015\",\"7/2015\",\"7/2015\",\"7/2015\",\"7/2015\",\"7/2015\",\"7/2015\",\"7/2015\",\"7/2015\",\"7/2015\",\"7/2015\",\"7/2015\",\"7/2015\",\"7/2015\",\"7/2015\",\"7/2015\",\"7/2015\",\"7/2015\",\"7/2015\",\"7/2015\",\"7/2015\",\"7/2015\",\"7/2015\",\"7/2015\",\"7/2015\",\"7/2015\",\"7/2015\",\"7/2015\",\"7/2015\",\"7/2015\",\"7/2015\",\"7/2015\",\"7/2015\",\"7/2015\",\"7/2015\",\"7/2015\",\"7/2015\",\"8/2015\",\"8/2015\",\"8/2015\",\"8/2015\",\"8/2015\",\"8/2015\",\"8/2015\",\"8/2015\",\"8/2015\",\"8/2015\",\"8/2015\",\"8/2015\",\"8/2015\",\"8/2015\",\"8/2015\",\"8/2015\",\"8/2015\",\"8/2015\",\"8/2015\",\"8/2015\",\"8/2015\",\"8/2015\",\"8/2015\",\"8/2015\",\"8/2015\",\"8/2015\",\"8/2015\",\"8/2015\",\"8/2015\",\"8/2015\",\"8/2015\",\"8/2015\",\"8/2015\",\"8/2015\",\"8/2015\",\"8/2015\",\"8/2015\",\"8/2015\",\"9/2015\",\"9/2015\",\"9/2015\",\"9/2015\",\"9/2015\",\"9/2015\",\"9/2015\",\"9/2015\",\"9/2015\",\"9/2015\",\"9/2015\",\"9/2015\",\"9/2015\",\"9/2015\",\"9/2015\",\"9/2015\",\"9/2015\",\"9/2015\",\"9/2015\",\"9/2015\",\"9/2015\",\"9/2015\",\"9/2015\",\"9/2015\",\"9/2015\",\"9/2015\",\"9/2015\",\"9/2015\",\"9/2015\",\"9/2015\",\"9/2015\",\"9/2015\",\"9/2015\",\"9/2015\",\"9/2015\",\"9/2015\",\"9/2015\",\"9/2015\",\"10/2015\",\"10/2015\",\"10/2015\",\"10/2015\",\"10/2015\",\"10/2015\",\"10/2015\",\"10/2015\",\"10/2015\",\"10/2015\",\"10/2015\",\"10/2015\",\"10/2015\",\"10/2015\",\"10/2015\",\"10/2015\",\"10/2015\",\"10/2015\",\"10/2015\",\"10/2015\",\"10/2015\",\"10/2015\",\"10/2015\",\"10/2015\",\"10/2015\",\"10/2015\",\"10/2015\",\"10/2015\",\"10/2015\",\"10/2015\",\"10/2015\",\"10/2015\",\"10/2015\",\"10/2015\",\"10/2015\",\"10/2015\",\"10/2015\",\"10/2015\",\"11/2015\",\"11/2015\",\"11/2015\",\"11/2015\",\"11/2015\",\"11/2015\",\"11/2015\",\"11/2015\",\"11/2015\",\"11/2015\",\"11/2015\",\"11/2015\",\"11/2015\",\"11/2015\",\"11/2015\",\"11/2015\",\"11/2015\",\"11/2015\",\"11/2015\",\"11/2015\",\"11/2015\",\"11/2015\",\"11/2015\",\"11/2015\",\"11/2015\",\"11/2015\",\"11/2015\",\"11/2015\",\"11/2015\",\"11/2015\",\"11/2015\",\"11/2015\",\"11/2015\",\"11/2015\",\"11/2015\",\"11/2015\",\"11/2015\",\"11/2015\",\"12/2015\",\"12/2015\",\"12/2015\",\"12/2015\",\"12/2015\",\"12/2015\",\"12/2015\",\"12/2015\",\"12/2015\",\"12/2015\",\"12/2015\",\"12/2015\",\"12/2015\",\"12/2015\",\"12/2015\",\"12/2015\",\"12/2015\",\"12/2015\",\"12/2015\",\"12/2015\",\"12/2015\",\"12/2015\",\"12/2015\",\"12/2015\",\"12/2015\",\"12/2015\",\"12/2015\",\"12/2015\",\"12/2015\",\"12/2015\",\"12/2015\",\"12/2015\",\"12/2015\",\"12/2015\",\"12/2015\",\"12/2015\",\"12/2015\",\"12/2015\",\"1/2016\",\"1/2016\",\"1/2016\",\"1/2016\",\"1/2016\",\"1/2016\",\"1/2016\",\"1/2016\",\"1/2016\",\"1/2016\",\"1/2016\",\"1/2016\",\"1/2016\",\"1/2016\",\"1/2016\",\"1/2016\",\"1/2016\",\"1/2016\",\"1/2016\",\"1/2016\",\"1/2016\",\"1/2016\",\"1/2016\",\"1/2016\",\"1/2016\",\"1/2016\",\"1/2016\",\"1/2016\",\"1/2016\",\"1/2016\",\"1/2016\",\"1/2016\",\"1/2016\",\"1/2016\",\"1/2016\",\"1/2016\",\"1/2016\",\"1/2016\",\"2/2016\",\"2/2016\",\"2/2016\",\"2/2016\",\"2/2016\",\"2/2016\",\"2/2016\",\"2/2016\",\"2/2016\",\"2/2016\",\"2/2016\",\"2/2016\",\"2/2016\",\"2/2016\",\"2/2016\",\"2/2016\",\"2/2016\",\"2/2016\",\"2/2016\",\"2/2016\",\"2/2016\",\"2/2016\",\"2/2016\",\"2/2016\",\"2/2016\",\"2/2016\",\"2/2016\",\"2/2016\",\"2/2016\",\"2/2016\",\"2/2016\",\"2/2016\",\"2/2016\",\"2/2016\",\"2/2016\",\"2/2016\",\"2/2016\",\"2/2016\",\"3/2016\",\"3/2016\",\"3/2016\",\"3/2016\",\"3/2016\",\"3/2016\",\"3/2016\",\"3/2016\",\"3/2016\",\"3/2016\",\"3/2016\",\"3/2016\",\"3/2016\",\"3/2016\",\"3/2016\",\"3/2016\",\"3/2016\",\"3/2016\",\"3/2016\",\"3/2016\",\"3/2016\",\"3/2016\",\"3/2016\",\"3/2016\",\"3/2016\",\"3/2016\",\"3/2016\",\"3/2016\",\"3/2016\",\"3/2016\",\"3/2016\",\"3/2016\",\"3/2016\",\"3/2016\",\"3/2016\",\"3/2016\",\"3/2016\",\"3/2016\",\"4/2016\",\"4/2016\",\"4/2016\",\"4/2016\",\"4/2016\",\"4/2016\",\"4/2016\",\"4/2016\",\"4/2016\",\"4/2016\",\"4/2016\",\"4/2016\",\"4/2016\",\"4/2016\",\"4/2016\",\"4/2016\",\"4/2016\",\"4/2016\",\"4/2016\",\"4/2016\",\"4/2016\",\"4/2016\",\"4/2016\",\"4/2016\",\"4/2016\",\"4/2016\",\"4/2016\",\"4/2016\",\"4/2016\",\"4/2016\",\"4/2016\",\"4/2016\",\"4/2016\",\"4/2016\",\"4/2016\",\"4/2016\",\"4/2016\",\"4/2016\",\"5/2016\",\"5/2016\",\"5/2016\",\"5/2016\",\"5/2016\",\"5/2016\",\"5/2016\",\"5/2016\",\"5/2016\",\"5/2016\",\"5/2016\",\"5/2016\",\"5/2016\",\"5/2016\",\"5/2016\",\"5/2016\",\"5/2016\",\"5/2016\",\"5/2016\",\"5/2016\",\"5/2016\",\"5/2016\",\"5/2016\",\"5/2016\",\"5/2016\",\"5/2016\",\"5/2016\",\"5/2016\",\"5/2016\",\"5/2016\",\"5/2016\",\"5/2016\",\"5/2016\",\"5/2016\",\"5/2016\",\"5/2016\",\"5/2016\",\"5/2016\",\"6/2016\",\"6/2016\",\"6/2016\",\"6/2016\",\"6/2016\",\"6/2016\",\"6/2016\",\"6/2016\",\"6/2016\",\"6/2016\",\"6/2016\",\"6/2016\",\"6/2016\",\"6/2016\",\"6/2016\",\"6/2016\",\"6/2016\",\"6/2016\",\"6/2016\",\"6/2016\",\"6/2016\",\"6/2016\",\"6/2016\",\"6/2016\",\"6/2016\",\"6/2016\",\"6/2016\",\"6/2016\",\"6/2016\",\"6/2016\",\"6/2016\",\"6/2016\",\"6/2016\",\"6/2016\",\"6/2016\",\"6/2016\",\"6/2016\",\"6/2016\",\"7/2016\",\"7/2016\",\"7/2016\",\"7/2016\",\"7/2016\",\"7/2016\",\"7/2016\",\"7/2016\",\"7/2016\",\"7/2016\",\"7/2016\",\"7/2016\",\"7/2016\",\"7/2016\",\"7/2016\",\"7/2016\",\"7/2016\",\"7/2016\",\"7/2016\",\"7/2016\",\"7/2016\",\"7/2016\",\"7/2016\",\"7/2016\",\"7/2016\",\"7/2016\",\"7/2016\",\"7/2016\",\"7/2016\",\"7/2016\",\"7/2016\",\"7/2016\",\"7/2016\",\"7/2016\",\"7/2016\",\"7/2016\",\"7/2016\",\"7/2016\",\"8/2016\",\"8/2016\",\"8/2016\",\"8/2016\",\"8/2016\",\"8/2016\",\"8/2016\",\"8/2016\",\"8/2016\",\"8/2016\",\"8/2016\",\"8/2016\",\"8/2016\",\"8/2016\",\"8/2016\",\"8/2016\",\"8/2016\",\"8/2016\",\"8/2016\",\"8/2016\",\"8/2016\",\"8/2016\",\"8/2016\",\"8/2016\",\"8/2016\",\"8/2016\",\"8/2016\",\"8/2016\",\"8/2016\",\"8/2016\",\"8/2016\",\"8/2016\",\"8/2016\",\"8/2016\",\"8/2016\",\"8/2016\",\"8/2016\",\"8/2016\",\"9/2016\",\"9/2016\",\"9/2016\",\"9/2016\",\"9/2016\",\"9/2016\",\"9/2016\",\"9/2016\",\"9/2016\",\"9/2016\",\"9/2016\",\"9/2016\",\"9/2016\",\"9/2016\",\"9/2016\",\"9/2016\",\"9/2016\",\"9/2016\",\"9/2016\",\"9/2016\",\"9/2016\",\"9/2016\",\"9/2016\",\"9/2016\",\"9/2016\",\"9/2016\",\"9/2016\",\"9/2016\",\"9/2016\",\"9/2016\",\"9/2016\",\"9/2016\",\"9/2016\",\"9/2016\",\"9/2016\",\"9/2016\",\"9/2016\",\"9/2016\",\"10/2016\",\"10/2016\",\"10/2016\",\"10/2016\",\"10/2016\",\"10/2016\",\"10/2016\",\"10/2016\",\"10/2016\",\"10/2016\",\"10/2016\",\"10/2016\",\"10/2016\",\"10/2016\",\"10/2016\",\"10/2016\",\"10/2016\",\"10/2016\",\"10/2016\",\"10/2016\",\"10/2016\",\"10/2016\",\"10/2016\",\"10/2016\",\"10/2016\",\"10/2016\",\"10/2016\",\"10/2016\",\"10/2016\",\"10/2016\",\"10/2016\",\"10/2016\",\"10/2016\",\"10/2016\",\"10/2016\",\"10/2016\",\"10/2016\",\"10/2016\",\"11/2016\",\"11/2016\",\"11/2016\",\"11/2016\",\"11/2016\",\"11/2016\",\"11/2016\",\"11/2016\",\"11/2016\",\"11/2016\",\"11/2016\",\"11/2016\",\"11/2016\",\"11/2016\",\"11/2016\",\"11/2016\",\"11/2016\",\"11/2016\",\"11/2016\",\"11/2016\",\"11/2016\",\"11/2016\",\"11/2016\",\"11/2016\",\"11/2016\",\"11/2016\",\"11/2016\",\"11/2016\",\"11/2016\",\"11/2016\",\"11/2016\",\"11/2016\",\"11/2016\",\"11/2016\",\"11/2016\",\"11/2016\",\"11/2016\",\"11/2016\",\"12/2016\",\"12/2016\",\"12/2016\",\"12/2016\",\"12/2016\",\"12/2016\",\"12/2016\",\"12/2016\",\"12/2016\",\"12/2016\",\"12/2016\",\"12/2016\",\"12/2016\",\"12/2016\",\"12/2016\",\"12/2016\",\"12/2016\",\"12/2016\",\"12/2016\",\"12/2016\",\"12/2016\",\"12/2016\",\"12/2016\",\"12/2016\",\"12/2016\",\"12/2016\",\"12/2016\",\"12/2016\",\"12/2016\",\"12/2016\",\"12/2016\",\"12/2016\",\"12/2016\",\"12/2016\",\"12/2016\",\"12/2016\",\"12/2016\",\"12/2016\",\"1/2017\",\"1/2017\",\"1/2017\",\"1/2017\",\"1/2017\",\"1/2017\",\"1/2017\",\"1/2017\",\"1/2017\",\"1/2017\",\"1/2017\",\"1/2017\",\"1/2017\",\"1/2017\",\"1/2017\",\"1/2017\",\"1/2017\",\"1/2017\",\"1/2017\",\"1/2017\",\"1/2017\",\"1/2017\",\"1/2017\",\"1/2017\",\"1/2017\",\"1/2017\",\"1/2017\",\"1/2017\",\"1/2017\",\"1/2017\",\"1/2017\",\"1/2017\",\"1/2017\",\"1/2017\",\"1/2017\",\"1/2017\",\"1/2017\",\"1/2017\",\"2/2017\",\"2/2017\",\"2/2017\",\"2/2017\",\"2/2017\",\"2/2017\",\"2/2017\",\"2/2017\",\"2/2017\",\"2/2017\",\"2/2017\",\"2/2017\",\"2/2017\",\"2/2017\",\"2/2017\",\"2/2017\",\"2/2017\",\"2/2017\",\"2/2017\",\"2/2017\",\"2/2017\",\"2/2017\",\"2/2017\",\"2/2017\",\"2/2017\",\"2/2017\",\"2/2017\",\"2/2017\",\"2/2017\",\"2/2017\",\"2/2017\",\"2/2017\",\"2/2017\",\"2/2017\",\"2/2017\",\"2/2017\",\"2/2017\",\"2/2017\",\"3/2017\",\"3/2017\",\"3/2017\",\"3/2017\",\"3/2017\",\"3/2017\",\"3/2017\",\"3/2017\",\"3/2017\",\"3/2017\",\"3/2017\",\"3/2017\",\"3/2017\",\"3/2017\",\"3/2017\",\"3/2017\",\"3/2017\",\"3/2017\",\"3/2017\",\"3/2017\",\"3/2017\",\"3/2017\",\"3/2017\",\"3/2017\",\"3/2017\",\"3/2017\",\"3/2017\",\"3/2017\",\"3/2017\",\"3/2017\",\"3/2017\",\"3/2017\",\"3/2017\",\"3/2017\",\"3/2017\",\"3/2017\",\"3/2017\",\"3/2017\",\"4/2017\",\"4/2017\",\"4/2017\",\"4/2017\",\"4/2017\",\"4/2017\",\"4/2017\",\"4/2017\",\"4/2017\",\"4/2017\",\"4/2017\",\"4/2017\",\"4/2017\",\"4/2017\",\"4/2017\",\"4/2017\",\"4/2017\",\"4/2017\",\"4/2017\",\"4/2017\",\"4/2017\",\"4/2017\",\"4/2017\",\"4/2017\",\"4/2017\",\"4/2017\",\"4/2017\",\"4/2017\",\"4/2017\",\"4/2017\",\"4/2017\",\"4/2017\",\"4/2017\",\"4/2017\",\"4/2017\",\"4/2017\",\"4/2017\",\"4/2017\",\"5/2017\",\"5/2017\",\"5/2017\",\"5/2017\",\"5/2017\",\"5/2017\",\"5/2017\",\"5/2017\",\"5/2017\",\"5/2017\",\"5/2017\",\"5/2017\",\"5/2017\",\"5/2017\",\"5/2017\",\"5/2017\",\"5/2017\",\"5/2017\",\"5/2017\",\"5/2017\",\"5/2017\",\"5/2017\",\"5/2017\",\"5/2017\",\"5/2017\",\"5/2017\",\"5/2017\",\"5/2017\",\"5/2017\",\"5/2017\",\"5/2017\",\"5/2017\",\"5/2017\",\"5/2017\",\"5/2017\",\"5/2017\",\"5/2017\",\"5/2017\",\"6/2017\",\"6/2017\",\"6/2017\",\"6/2017\",\"6/2017\",\"6/2017\",\"6/2017\",\"6/2017\",\"6/2017\",\"6/2017\",\"6/2017\",\"6/2017\",\"6/2017\",\"6/2017\",\"6/2017\",\"6/2017\",\"6/2017\",\"6/2017\",\"6/2017\",\"6/2017\",\"6/2017\",\"6/2017\",\"6/2017\",\"6/2017\",\"6/2017\",\"6/2017\",\"6/2017\",\"6/2017\",\"6/2017\",\"6/2017\",\"6/2017\",\"6/2017\",\"6/2017\",\"6/2017\",\"6/2017\",\"6/2017\",\"6/2017\",\"6/2017\",\"7/2017\",\"7/2017\",\"7/2017\",\"7/2017\",\"7/2017\",\"7/2017\",\"7/2017\",\"7/2017\",\"7/2017\",\"7/2017\",\"7/2017\",\"7/2017\",\"7/2017\",\"7/2017\",\"7/2017\",\"7/2017\",\"7/2017\",\"7/2017\",\"7/2017\",\"7/2017\",\"7/2017\",\"7/2017\",\"7/2017\",\"7/2017\",\"7/2017\",\"7/2017\",\"7/2017\",\"7/2017\",\"7/2017\",\"7/2017\",\"7/2017\",\"7/2017\",\"7/2017\",\"7/2017\",\"7/2017\",\"7/2017\",\"7/2017\",\"7/2017\",\"8/2017\",\"8/2017\",\"8/2017\",\"8/2017\",\"8/2017\",\"8/2017\",\"8/2017\",\"8/2017\",\"8/2017\",\"8/2017\",\"8/2017\",\"8/2017\",\"8/2017\",\"8/2017\",\"8/2017\",\"8/2017\",\"8/2017\",\"8/2017\",\"8/2017\",\"8/2017\",\"8/2017\",\"8/2017\",\"8/2017\",\"8/2017\",\"8/2017\",\"8/2017\",\"8/2017\",\"8/2017\",\"8/2017\",\"8/2017\",\"8/2017\",\"8/2017\",\"8/2017\",\"8/2017\",\"8/2017\",\"8/2017\",\"8/2017\",\"8/2017\",\"9/2017\",\"9/2017\",\"9/2017\",\"9/2017\",\"9/2017\",\"9/2017\",\"9/2017\",\"9/2017\",\"9/2017\",\"9/2017\",\"9/2017\",\"9/2017\",\"9/2017\",\"9/2017\",\"9/2017\",\"9/2017\",\"9/2017\",\"9/2017\",\"9/2017\",\"9/2017\",\"9/2017\",\"9/2017\",\"9/2017\",\"9/2017\",\"9/2017\",\"9/2017\",\"9/2017\",\"9/2017\",\"9/2017\",\"9/2017\",\"9/2017\",\"9/2017\",\"9/2017\",\"9/2017\",\"9/2017\",\"9/2017\",\"9/2017\",\"9/2017\",\"10/2017\",\"10/2017\",\"10/2017\",\"10/2017\",\"10/2017\",\"10/2017\",\"10/2017\",\"10/2017\",\"10/2017\",\"10/2017\",\"10/2017\",\"10/2017\",\"10/2017\",\"10/2017\",\"10/2017\",\"10/2017\",\"10/2017\",\"10/2017\",\"10/2017\",\"10/2017\",\"10/2017\",\"10/2017\",\"10/2017\",\"10/2017\",\"10/2017\",\"10/2017\",\"10/2017\",\"10/2017\",\"10/2017\",\"10/2017\",\"10/2017\",\"10/2017\",\"10/2017\",\"10/2017\",\"10/2017\",\"10/2017\",\"10/2017\",\"10/2017\",\"11/2017\",\"11/2017\",\"11/2017\",\"11/2017\",\"11/2017\",\"11/2017\",\"11/2017\",\"11/2017\",\"11/2017\",\"11/2017\",\"11/2017\",\"11/2017\",\"11/2017\",\"11/2017\",\"11/2017\",\"11/2017\",\"11/2017\",\"11/2017\",\"11/2017\",\"11/2017\",\"11/2017\",\"11/2017\",\"11/2017\",\"11/2017\",\"11/2017\",\"11/2017\",\"11/2017\",\"11/2017\",\"11/2017\",\"11/2017\",\"11/2017\",\"11/2017\",\"11/2017\",\"11/2017\",\"11/2017\",\"11/2017\",\"11/2017\",\"11/2017\",\"12/2017\",\"12/2017\",\"12/2017\",\"12/2017\",\"12/2017\",\"12/2017\",\"12/2017\",\"12/2017\",\"12/2017\",\"12/2017\",\"12/2017\",\"12/2017\",\"12/2017\",\"12/2017\",\"12/2017\",\"12/2017\",\"12/2017\",\"12/2017\",\"12/2017\",\"12/2017\",\"12/2017\",\"12/2017\",\"12/2017\",\"12/2017\",\"12/2017\",\"12/2017\",\"12/2017\",\"12/2017\",\"12/2017\",\"12/2017\",\"12/2017\",\"12/2017\",\"12/2017\",\"12/2017\",\"12/2017\",\"12/2017\",\"12/2017\",\"12/2017\",\"1/2018\",\"1/2018\",\"1/2018\",\"1/2018\",\"1/2018\",\"1/2018\",\"1/2018\",\"1/2018\",\"1/2018\",\"1/2018\",\"1/2018\",\"1/2018\",\"1/2018\",\"1/2018\",\"1/2018\",\"1/2018\",\"1/2018\",\"1/2018\",\"1/2018\",\"1/2018\",\"1/2018\",\"1/2018\",\"1/2018\",\"1/2018\",\"1/2018\",\"1/2018\",\"1/2018\",\"1/2018\",\"1/2018\",\"1/2018\",\"1/2018\",\"1/2018\",\"1/2018\",\"1/2018\",\"1/2018\",\"1/2018\",\"1/2018\",\"1/2018\",\"2/2018\",\"2/2018\",\"2/2018\",\"2/2018\",\"2/2018\",\"2/2018\",\"2/2018\",\"2/2018\",\"2/2018\",\"2/2018\",\"2/2018\",\"2/2018\",\"2/2018\",\"2/2018\",\"2/2018\",\"2/2018\",\"2/2018\",\"2/2018\",\"2/2018\",\"2/2018\",\"2/2018\",\"2/2018\",\"2/2018\",\"2/2018\",\"2/2018\",\"2/2018\",\"2/2018\",\"2/2018\",\"2/2018\",\"2/2018\",\"2/2018\",\"2/2018\",\"2/2018\",\"2/2018\",\"2/2018\",\"2/2018\",\"2/2018\",\"2/2018\",\"3/2018\",\"3/2018\",\"3/2018\",\"3/2018\",\"3/2018\",\"3/2018\",\"3/2018\",\"3/2018\",\"3/2018\",\"3/2018\",\"3/2018\",\"3/2018\",\"3/2018\",\"3/2018\",\"3/2018\",\"3/2018\",\"3/2018\",\"3/2018\",\"3/2018\",\"3/2018\",\"3/2018\",\"3/2018\",\"3/2018\",\"3/2018\",\"3/2018\",\"3/2018\",\"3/2018\",\"3/2018\",\"3/2018\",\"3/2018\",\"3/2018\",\"3/2018\",\"3/2018\",\"3/2018\",\"3/2018\",\"3/2018\",\"3/2018\",\"3/2018\",\"4/2018\",\"4/2018\",\"4/2018\",\"4/2018\",\"4/2018\",\"4/2018\",\"4/2018\",\"4/2018\",\"4/2018\",\"4/2018\",\"4/2018\",\"4/2018\",\"4/2018\",\"4/2018\",\"4/2018\",\"4/2018\",\"4/2018\",\"4/2018\",\"4/2018\",\"4/2018\",\"4/2018\",\"4/2018\",\"4/2018\",\"4/2018\",\"4/2018\",\"4/2018\",\"4/2018\",\"4/2018\",\"4/2018\",\"4/2018\",\"4/2018\",\"4/2018\",\"4/2018\",\"4/2018\",\"4/2018\",\"4/2018\",\"4/2018\",\"4/2018\",\"5/2018\",\"5/2018\",\"5/2018\",\"5/2018\",\"5/2018\",\"5/2018\",\"5/2018\",\"5/2018\",\"5/2018\",\"5/2018\",\"5/2018\",\"5/2018\",\"5/2018\",\"5/2018\",\"5/2018\",\"5/2018\",\"5/2018\",\"5/2018\",\"5/2018\",\"5/2018\",\"5/2018\",\"5/2018\",\"5/2018\",\"5/2018\",\"5/2018\",\"5/2018\",\"5/2018\",\"5/2018\",\"5/2018\",\"5/2018\",\"5/2018\",\"5/2018\",\"5/2018\",\"5/2018\",\"5/2018\",\"5/2018\",\"5/2018\",\"5/2018\",\"6/2018\",\"6/2018\",\"6/2018\",\"6/2018\",\"6/2018\",\"6/2018\",\"6/2018\",\"6/2018\",\"6/2018\",\"6/2018\",\"6/2018\",\"6/2018\",\"6/2018\",\"6/2018\",\"6/2018\",\"6/2018\",\"6/2018\",\"6/2018\",\"6/2018\",\"6/2018\",\"6/2018\",\"6/2018\",\"6/2018\",\"6/2018\",\"6/2018\",\"6/2018\",\"6/2018\",\"6/2018\",\"6/2018\",\"6/2018\",\"6/2018\",\"6/2018\",\"6/2018\",\"6/2018\",\"6/2018\",\"6/2018\",\"6/2018\",\"6/2018\",\"7/2018\",\"7/2018\",\"7/2018\",\"7/2018\",\"7/2018\",\"7/2018\",\"7/2018\",\"7/2018\",\"7/2018\",\"7/2018\",\"7/2018\",\"7/2018\",\"7/2018\",\"7/2018\",\"7/2018\",\"7/2018\",\"7/2018\",\"7/2018\",\"7/2018\",\"7/2018\",\"7/2018\",\"7/2018\",\"7/2018\",\"7/2018\",\"7/2018\",\"7/2018\",\"7/2018\",\"7/2018\",\"7/2018\",\"7/2018\",\"7/2018\",\"7/2018\",\"7/2018\",\"7/2018\",\"7/2018\",\"7/2018\",\"7/2018\",\"7/2018\",\"8/2018\",\"8/2018\",\"8/2018\",\"8/2018\",\"8/2018\",\"8/2018\",\"8/2018\",\"8/2018\",\"8/2018\",\"8/2018\",\"8/2018\",\"8/2018\",\"8/2018\",\"8/2018\",\"8/2018\",\"8/2018\",\"8/2018\",\"8/2018\",\"8/2018\",\"8/2018\",\"8/2018\",\"8/2018\",\"8/2018\",\"8/2018\",\"8/2018\",\"8/2018\",\"8/2018\",\"8/2018\",\"8/2018\",\"8/2018\",\"8/2018\",\"8/2018\",\"8/2018\",\"8/2018\",\"8/2018\",\"8/2018\",\"8/2018\",\"8/2018\",\"9/2018\",\"9/2018\",\"9/2018\",\"9/2018\",\"9/2018\",\"9/2018\",\"9/2018\",\"9/2018\",\"9/2018\",\"9/2018\",\"9/2018\",\"9/2018\",\"9/2018\",\"9/2018\",\"9/2018\",\"9/2018\",\"9/2018\",\"9/2018\",\"9/2018\",\"9/2018\",\"9/2018\",\"9/2018\",\"9/2018\",\"9/2018\",\"9/2018\",\"9/2018\",\"9/2018\",\"9/2018\",\"9/2018\",\"9/2018\",\"9/2018\",\"9/2018\",\"9/2018\",\"9/2018\",\"9/2018\",\"9/2018\",\"9/2018\",\"9/2018\",\"10/2018\",\"10/2018\",\"10/2018\",\"10/2018\",\"10/2018\",\"10/2018\",\"10/2018\",\"10/2018\",\"10/2018\",\"10/2018\",\"10/2018\",\"10/2018\",\"10/2018\",\"10/2018\",\"10/2018\",\"10/2018\",\"10/2018\",\"10/2018\",\"10/2018\",\"10/2018\",\"10/2018\",\"10/2018\",\"10/2018\",\"10/2018\",\"10/2018\",\"10/2018\",\"10/2018\",\"10/2018\",\"10/2018\",\"10/2018\",\"10/2018\",\"10/2018\",\"10/2018\",\"10/2018\",\"10/2018\",\"10/2018\",\"10/2018\",\"10/2018\",\"11/2018\",\"11/2018\",\"11/2018\",\"11/2018\",\"11/2018\",\"11/2018\",\"11/2018\",\"11/2018\",\"11/2018\",\"11/2018\",\"11/2018\",\"11/2018\",\"11/2018\",\"11/2018\",\"11/2018\",\"11/2018\",\"11/2018\",\"11/2018\",\"11/2018\",\"11/2018\",\"11/2018\",\"11/2018\",\"11/2018\",\"11/2018\",\"11/2018\",\"11/2018\",\"11/2018\",\"11/2018\",\"11/2018\",\"11/2018\",\"11/2018\",\"11/2018\",\"11/2018\",\"11/2018\",\"11/2018\",\"11/2018\",\"11/2018\",\"11/2018\",\"12/2018\",\"12/2018\",\"12/2018\",\"12/2018\",\"12/2018\",\"12/2018\",\"12/2018\",\"12/2018\",\"12/2018\",\"12/2018\",\"12/2018\",\"12/2018\",\"12/2018\",\"12/2018\",\"12/2018\",\"12/2018\",\"12/2018\",\"12/2018\",\"12/2018\",\"12/2018\",\"12/2018\",\"12/2018\",\"12/2018\",\"12/2018\",\"12/2018\",\"12/2018\",\"12/2018\",\"12/2018\",\"12/2018\",\"12/2018\",\"12/2018\",\"12/2018\",\"12/2018\",\"12/2018\",\"12/2018\",\"12/2018\",\"12/2018\",\"12/2018\",\"1/2019\",\"1/2019\",\"1/2019\",\"1/2019\",\"1/2019\",\"1/2019\",\"1/2019\",\"1/2019\",\"1/2019\",\"1/2019\",\"1/2019\",\"1/2019\",\"1/2019\",\"1/2019\",\"1/2019\",\"1/2019\",\"1/2019\",\"1/2019\",\"1/2019\",\"1/2019\",\"1/2019\",\"1/2019\",\"1/2019\",\"1/2019\",\"1/2019\",\"1/2019\",\"1/2019\",\"1/2019\",\"1/2019\",\"1/2019\",\"1/2019\",\"1/2019\",\"1/2019\",\"1/2019\",\"1/2019\",\"1/2019\",\"1/2019\",\"1/2019\",\"2/2019\",\"2/2019\",\"2/2019\",\"2/2019\",\"2/2019\",\"2/2019\",\"2/2019\",\"2/2019\",\"2/2019\",\"2/2019\",\"2/2019\",\"2/2019\",\"2/2019\",\"2/2019\",\"2/2019\",\"2/2019\",\"2/2019\",\"2/2019\",\"2/2019\",\"2/2019\",\"2/2019\",\"2/2019\",\"2/2019\",\"2/2019\",\"2/2019\",\"2/2019\",\"2/2019\",\"2/2019\",\"2/2019\",\"2/2019\",\"2/2019\",\"2/2019\",\"2/2019\",\"2/2019\",\"2/2019\",\"2/2019\",\"2/2019\",\"2/2019\",\"3/2019\",\"3/2019\",\"3/2019\",\"3/2019\",\"3/2019\",\"3/2019\",\"3/2019\",\"3/2019\",\"3/2019\",\"3/2019\",\"3/2019\",\"3/2019\",\"3/2019\",\"3/2019\",\"3/2019\",\"3/2019\",\"3/2019\",\"3/2019\",\"3/2019\",\"3/2019\",\"3/2019\",\"3/2019\",\"3/2019\",\"3/2019\",\"3/2019\",\"3/2019\",\"3/2019\",\"3/2019\",\"3/2019\",\"3/2019\",\"3/2019\",\"3/2019\",\"3/2019\",\"3/2019\",\"3/2019\",\"3/2019\",\"3/2019\",\"3/2019\",\"4/2019\",\"4/2019\",\"4/2019\",\"4/2019\",\"4/2019\",\"4/2019\",\"4/2019\",\"4/2019\",\"4/2019\",\"4/2019\",\"4/2019\",\"4/2019\",\"4/2019\",\"4/2019\",\"4/2019\",\"4/2019\",\"4/2019\",\"4/2019\",\"4/2019\",\"4/2019\",\"4/2019\",\"4/2019\",\"4/2019\",\"4/2019\",\"4/2019\",\"4/2019\",\"4/2019\",\"4/2019\",\"4/2019\",\"4/2019\",\"4/2019\",\"4/2019\",\"4/2019\",\"4/2019\",\"4/2019\",\"4/2019\",\"4/2019\",\"4/2019\",\"5/2019\",\"5/2019\",\"5/2019\",\"5/2019\",\"5/2019\",\"5/2019\",\"5/2019\",\"5/2019\",\"5/2019\",\"5/2019\",\"5/2019\",\"5/2019\",\"5/2019\",\"5/2019\",\"5/2019\",\"5/2019\",\"5/2019\",\"5/2019\",\"5/2019\",\"5/2019\",\"5/2019\",\"5/2019\",\"5/2019\",\"5/2019\",\"5/2019\",\"5/2019\",\"5/2019\",\"5/2019\",\"5/2019\",\"5/2019\",\"5/2019\",\"5/2019\",\"5/2019\",\"5/2019\",\"5/2019\",\"5/2019\",\"5/2019\",\"5/2019\",\"6/2019\",\"6/2019\",\"6/2019\",\"6/2019\",\"6/2019\",\"6/2019\",\"6/2019\",\"6/2019\",\"6/2019\",\"6/2019\",\"6/2019\",\"6/2019\",\"6/2019\",\"6/2019\",\"6/2019\",\"6/2019\",\"6/2019\",\"6/2019\",\"6/2019\",\"6/2019\",\"6/2019\",\"6/2019\",\"6/2019\",\"6/2019\",\"6/2019\",\"6/2019\",\"6/2019\",\"6/2019\",\"6/2019\",\"6/2019\",\"6/2019\",\"6/2019\",\"6/2019\",\"6/2019\",\"6/2019\",\"6/2019\",\"6/2019\",\"6/2019\",\"7/2019\",\"7/2019\",\"7/2019\",\"7/2019\",\"7/2019\",\"7/2019\",\"7/2019\",\"7/2019\",\"7/2019\",\"7/2019\",\"7/2019\",\"7/2019\",\"7/2019\",\"7/2019\",\"7/2019\",\"7/2019\",\"7/2019\",\"7/2019\",\"7/2019\",\"7/2019\",\"7/2019\",\"7/2019\",\"7/2019\",\"7/2019\",\"7/2019\",\"7/2019\",\"7/2019\",\"7/2019\",\"7/2019\",\"7/2019\",\"7/2019\",\"7/2019\",\"7/2019\",\"7/2019\",\"7/2019\",\"7/2019\",\"7/2019\",\"7/2019\",\"8/2019\",\"8/2019\",\"8/2019\",\"8/2019\",\"8/2019\",\"8/2019\",\"8/2019\",\"8/2019\",\"8/2019\",\"8/2019\",\"8/2019\",\"8/2019\",\"8/2019\",\"8/2019\",\"8/2019\",\"8/2019\",\"8/2019\",\"8/2019\",\"8/2019\",\"8/2019\",\"8/2019\",\"8/2019\",\"8/2019\",\"8/2019\",\"8/2019\",\"8/2019\",\"8/2019\",\"8/2019\",\"8/2019\",\"8/2019\",\"8/2019\",\"8/2019\",\"8/2019\",\"8/2019\",\"8/2019\",\"8/2019\",\"8/2019\",\"8/2019\",\"9/2019\",\"9/2019\",\"9/2019\",\"9/2019\",\"9/2019\",\"9/2019\",\"9/2019\",\"9/2019\",\"9/2019\",\"9/2019\",\"9/2019\",\"9/2019\",\"9/2019\",\"9/2019\",\"9/2019\",\"9/2019\",\"9/2019\",\"9/2019\",\"9/2019\",\"9/2019\",\"9/2019\",\"9/2019\",\"9/2019\",\"9/2019\",\"9/2019\",\"9/2019\",\"9/2019\",\"9/2019\",\"9/2019\",\"9/2019\",\"9/2019\",\"9/2019\",\"9/2019\",\"9/2019\",\"9/2019\",\"9/2019\",\"9/2019\",\"9/2019\",\"10/2019\",\"10/2019\",\"10/2019\",\"10/2019\",\"10/2019\",\"10/2019\",\"10/2019\",\"10/2019\",\"10/2019\",\"10/2019\",\"10/2019\",\"10/2019\",\"10/2019\",\"10/2019\",\"10/2019\",\"10/2019\",\"10/2019\",\"10/2019\",\"10/2019\",\"10/2019\",\"10/2019\",\"10/2019\",\"10/2019\",\"10/2019\",\"10/2019\",\"10/2019\",\"10/2019\",\"10/2019\",\"10/2019\",\"10/2019\",\"10/2019\",\"10/2019\",\"10/2019\",\"10/2019\",\"10/2019\",\"10/2019\",\"10/2019\",\"10/2019\",\"11/2019\",\"11/2019\",\"11/2019\",\"11/2019\",\"11/2019\",\"11/2019\",\"11/2019\",\"11/2019\",\"11/2019\",\"11/2019\",\"11/2019\",\"11/2019\",\"11/2019\",\"11/2019\",\"11/2019\",\"11/2019\",\"11/2019\",\"11/2019\",\"11/2019\",\"11/2019\",\"11/2019\",\"11/2019\",\"11/2019\",\"11/2019\",\"11/2019\",\"11/2019\",\"11/2019\",\"11/2019\",\"11/2019\",\"11/2019\",\"11/2019\",\"11/2019\",\"11/2019\",\"11/2019\",\"11/2019\",\"11/2019\",\"11/2019\",\"11/2019\",\"12/2019\",\"12/2019\",\"12/2019\",\"12/2019\",\"12/2019\",\"12/2019\",\"12/2019\",\"12/2019\",\"12/2019\",\"12/2019\",\"12/2019\",\"12/2019\",\"12/2019\",\"12/2019\",\"12/2019\",\"12/2019\",\"12/2019\",\"12/2019\",\"12/2019\",\"12/2019\",\"12/2019\",\"12/2019\",\"12/2019\",\"12/2019\",\"12/2019\",\"12/2019\",\"12/2019\",\"12/2019\",\"12/2019\",\"12/2019\",\"12/2019\",\"12/2019\",\"12/2019\",\"12/2019\",\"12/2019\",\"12/2019\",\"12/2019\",\"12/2019\",\"1/2020\",\"1/2020\",\"1/2020\",\"1/2020\",\"1/2020\",\"1/2020\",\"1/2020\",\"1/2020\",\"1/2020\",\"1/2020\",\"1/2020\",\"1/2020\",\"1/2020\",\"1/2020\",\"1/2020\",\"1/2020\",\"1/2020\",\"1/2020\",\"1/2020\",\"1/2020\",\"1/2020\",\"1/2020\",\"1/2020\",\"1/2020\",\"1/2020\",\"1/2020\",\"1/2020\",\"1/2020\",\"1/2020\",\"1/2020\",\"1/2020\",\"1/2020\",\"1/2020\",\"1/2020\",\"1/2020\",\"1/2020\",\"1/2020\",\"1/2020\",\"2/2020\",\"2/2020\",\"2/2020\",\"2/2020\",\"2/2020\",\"2/2020\",\"2/2020\",\"2/2020\",\"2/2020\",\"2/2020\",\"2/2020\",\"2/2020\",\"2/2020\",\"2/2020\",\"2/2020\",\"2/2020\",\"2/2020\",\"2/2020\",\"2/2020\",\"2/2020\",\"2/2020\",\"2/2020\",\"2/2020\",\"2/2020\",\"2/2020\",\"2/2020\",\"2/2020\",\"2/2020\",\"2/2020\",\"2/2020\",\"2/2020\",\"2/2020\",\"2/2020\",\"2/2020\",\"2/2020\",\"2/2020\",\"2/2020\",\"2/2020\",\"3/2020\",\"3/2020\",\"3/2020\",\"3/2020\",\"3/2020\",\"3/2020\",\"3/2020\",\"3/2020\",\"3/2020\",\"3/2020\",\"3/2020\",\"3/2020\",\"3/2020\",\"3/2020\",\"3/2020\",\"3/2020\",\"3/2020\",\"3/2020\",\"3/2020\",\"3/2020\",\"3/2020\",\"3/2020\",\"3/2020\",\"3/2020\",\"3/2020\",\"3/2020\",\"3/2020\",\"3/2020\",\"3/2020\",\"3/2020\",\"3/2020\",\"3/2020\",\"3/2020\",\"3/2020\",\"3/2020\",\"3/2020\",\"3/2020\",\"3/2020\",\"4/2020\",\"4/2020\",\"4/2020\",\"4/2020\",\"4/2020\",\"4/2020\",\"4/2020\",\"4/2020\",\"4/2020\",\"4/2020\",\"4/2020\",\"4/2020\",\"4/2020\",\"4/2020\",\"4/2020\",\"4/2020\",\"4/2020\",\"4/2020\",\"4/2020\",\"4/2020\",\"4/2020\",\"4/2020\",\"4/2020\",\"4/2020\",\"4/2020\",\"4/2020\",\"4/2020\",\"4/2020\",\"4/2020\",\"4/2020\",\"4/2020\",\"4/2020\",\"4/2020\",\"4/2020\",\"4/2020\",\"4/2020\",\"4/2020\",\"4/2020\",\"5/2020\",\"5/2020\",\"5/2020\",\"5/2020\",\"5/2020\",\"5/2020\",\"5/2020\",\"5/2020\",\"5/2020\",\"5/2020\",\"5/2020\",\"5/2020\",\"5/2020\",\"5/2020\",\"5/2020\",\"5/2020\",\"5/2020\",\"5/2020\",\"5/2020\",\"5/2020\",\"5/2020\",\"5/2020\",\"5/2020\",\"5/2020\",\"5/2020\",\"5/2020\",\"5/2020\",\"5/2020\",\"5/2020\",\"5/2020\",\"5/2020\",\"5/2020\",\"5/2020\",\"5/2020\",\"5/2020\",\"5/2020\",\"5/2020\",\"5/2020\",\"6/2020\",\"6/2020\",\"6/2020\",\"6/2020\",\"6/2020\",\"6/2020\",\"6/2020\",\"6/2020\",\"6/2020\",\"6/2020\",\"6/2020\",\"6/2020\",\"6/2020\",\"6/2020\",\"6/2020\",\"6/2020\",\"6/2020\",\"6/2020\",\"6/2020\",\"6/2020\",\"6/2020\",\"6/2020\",\"6/2020\",\"6/2020\",\"6/2020\",\"6/2020\",\"6/2020\",\"6/2020\",\"6/2020\",\"6/2020\",\"6/2020\",\"6/2020\",\"6/2020\",\"6/2020\",\"6/2020\",\"6/2020\",\"6/2020\",\"6/2020\",\"7/2020\",\"7/2020\",\"7/2020\",\"7/2020\",\"7/2020\",\"7/2020\",\"7/2020\",\"7/2020\",\"7/2020\",\"7/2020\",\"7/2020\",\"7/2020\",\"7/2020\",\"7/2020\",\"7/2020\",\"7/2020\",\"7/2020\",\"7/2020\",\"7/2020\",\"7/2020\",\"7/2020\",\"7/2020\",\"7/2020\",\"7/2020\",\"7/2020\",\"7/2020\",\"7/2020\",\"7/2020\",\"7/2020\",\"7/2020\",\"7/2020\",\"7/2020\",\"7/2020\",\"7/2020\",\"7/2020\",\"7/2020\",\"7/2020\",\"7/2020\",\"8/2020\",\"8/2020\",\"8/2020\",\"8/2020\",\"8/2020\",\"8/2020\",\"8/2020\",\"8/2020\",\"8/2020\",\"8/2020\",\"8/2020\",\"8/2020\",\"8/2020\",\"8/2020\",\"8/2020\",\"8/2020\",\"8/2020\",\"8/2020\",\"8/2020\",\"8/2020\",\"8/2020\",\"8/2020\",\"8/2020\",\"8/2020\",\"8/2020\",\"8/2020\",\"8/2020\",\"8/2020\",\"8/2020\",\"8/2020\",\"8/2020\",\"8/2020\",\"8/2020\",\"8/2020\",\"8/2020\",\"8/2020\",\"8/2020\",\"8/2020\",\"9/2020\",\"9/2020\",\"9/2020\",\"9/2020\",\"9/2020\",\"9/2020\",\"9/2020\",\"9/2020\",\"9/2020\",\"9/2020\",\"9/2020\",\"9/2020\",\"9/2020\",\"9/2020\",\"9/2020\",\"9/2020\",\"9/2020\",\"9/2020\",\"9/2020\",\"9/2020\",\"9/2020\",\"9/2020\",\"9/2020\",\"9/2020\",\"9/2020\",\"9/2020\",\"9/2020\",\"9/2020\",\"9/2020\",\"9/2020\",\"9/2020\",\"9/2020\",\"9/2020\",\"9/2020\",\"9/2020\",\"9/2020\",\"9/2020\",\"9/2020\",\"10/2020\",\"10/2020\",\"10/2020\",\"10/2020\",\"10/2020\",\"10/2020\",\"10/2020\",\"10/2020\",\"10/2020\",\"10/2020\",\"10/2020\",\"10/2020\",\"10/2020\",\"10/2020\",\"10/2020\",\"10/2020\",\"10/2020\",\"10/2020\",\"10/2020\",\"10/2020\",\"10/2020\",\"10/2020\",\"10/2020\",\"10/2020\",\"10/2020\",\"10/2020\",\"10/2020\",\"10/2020\",\"10/2020\",\"10/2020\",\"10/2020\",\"10/2020\",\"10/2020\",\"10/2020\",\"10/2020\",\"10/2020\",\"10/2020\",\"10/2020\",\"11/2020\",\"11/2020\",\"11/2020\",\"11/2020\",\"11/2020\",\"11/2020\",\"11/2020\",\"11/2020\",\"11/2020\",\"11/2020\",\"11/2020\",\"11/2020\",\"11/2020\",\"11/2020\",\"11/2020\",\"11/2020\",\"11/2020\",\"11/2020\",\"11/2020\",\"11/2020\",\"11/2020\",\"11/2020\",\"11/2020\",\"11/2020\",\"11/2020\",\"11/2020\",\"11/2020\",\"11/2020\",\"11/2020\",\"11/2020\",\"11/2020\",\"11/2020\",\"11/2020\",\"11/2020\",\"11/2020\",\"11/2020\",\"11/2020\",\"11/2020\",\"12/2020\",\"12/2020\",\"12/2020\",\"12/2020\",\"12/2020\",\"12/2020\",\"12/2020\",\"12/2020\",\"12/2020\",\"12/2020\",\"12/2020\",\"12/2020\",\"12/2020\",\"12/2020\",\"12/2020\",\"12/2020\",\"12/2020\",\"12/2020\",\"12/2020\",\"12/2020\",\"12/2020\",\"12/2020\",\"12/2020\",\"12/2020\",\"12/2020\",\"12/2020\",\"12/2020\",\"12/2020\",\"12/2020\",\"12/2020\",\"12/2020\",\"12/2020\",\"12/2020\",\"12/2020\",\"12/2020\",\"12/2020\",\"12/2020\",\"12/2020\"],\"xaxis\":\"x\",\"y\":[2756.891960915249,4497.576216594356,2729.163550458068,2164.786437536206,6271.31969912389,4901.190438463384,8774.347989489987,18277.43604544285,3908.297069121154,2272.680416195048,17871.697786823483,4566.885072502864,5814.167554124392,5827.535535436946,2005.0538859898124,12275.548871493154,4063.7136272069583,1039.8376059884326,3801.6568564846393,8042.605512877664,8603.052370129353,2892.299539027111,4763.16351651962,539.6641751169209,5413.226808382518,4543.291772944578,11170.510011550248,9985.889413877498,4087.335322822401,3682.3553739634895,2884.37415420275,1563.0618553504592,7294.757474091052,29487.54611622814,2073.006039564285,3891.071662317701,6443.890499614401,2571.121114315296,1739.9007973862288,4040.2550672927296,1612.2014989025888,1304.7520647054334,3883.135242679396,3757.711509272576,7942.453293390981,9801.11371036993,3099.039054559513,1603.1219191593675,9253.629120245048,2983.1821652772,4329.510182173752,2849.3316511595804,1353.6529857496123,9479.146453758363,3461.51383753948,955.0316773068656,3117.581047231095,5543.829199518526,4319.836614136759,2075.995587421363,3248.423375719516,611.0592661223824,4524.250516658239,2555.829490698287,5646.955574743202,6608.39337704117,3828.3270109092136,2004.5278555483123,2334.2038261387497,804.4128121511977,4345.97160403563,22729.62419230362,1146.762758771128,2484.692905908368,3572.739892960541,2043.4662968659695,1791.9751076871871,4173.271110477112,1638.9658796129747,2099.6626021583365,3951.11414715013,5020.933989157757,8626.593239852196,18768.5621214942,3252.090835708772,1642.1334588298243,9277.541828251318,3073.576600816324,4436.703173095323,5987.215005631184,1400.4498771043982,12648.283825871256,4181.812983705428,1081.7470401376622,3095.0257065900373,5661.9146101802935,4332.590533692923,2413.7974519286386,3031.6878560709183,867.3149113069395,3695.817660515962,2622.3664496999004,5750.361931424767,6568.467853577015,4125.794332813759,2009.543118137567,2563.7232513118206,1000.736851372767,7592.738042427555,23241.193205378997,1190.16817640846,4255.531774571374,3773.774199718972,2929.422627561327,1533.0236650610475,4846.205891750729,2790.962820384783,1340.247764663687,3975.415427782513,3671.431860495804,7985.075763224518,10062.008801637132,4346.506644356541,2732.913841509999,18500.96185443403,5118.797730082269,5785.031746282103,2873.9433756342496,1459.9274684076754,9866.693398514331,3488.667022606055,1229.97965964392,3382.437488244027,8248.352039221438,4607.171135227898,2280.3708465828727,3301.3203181610893,811.569762076527,4543.306567770017,2771.1945056979484,5566.115615507537,6827.623230409976,4341.391776991965,2122.6699251164423,2819.83943109552,942.662291664323,5102.837881024419,23328.04640347284,1302.5242081230613,2776.6922085480683,3837.547330572708,2240.0898419098003,1735.868122530382,4559.571061517732,1730.2522701076855,2198.7670283960606,3879.2999664091712,4904.722136262985,9050.046185382123,19352.2258907704,3481.3004810055027,1787.975120666734,8669.519762868122,3577.3166342592085,4514.954399036724,5686.620704134696,2406.061388846241,12773.800238529851,4146.54080445627,1123.4241328517196,4708.079901577836,5844.985611681706,4411.405351418927,2340.045812698488,5595.33981770758,811.5089052077898,4303.689608850566,2912.824267218808,5661.361493716889,6804.783556457589,5222.996133955185,2243.833846085258,2749.7372211164206,744.9565200991433,7952.21628633354,31018.107706881256,2463.772174969852,4528.341565919557,7834.960951963677,3117.4466315480727,1824.0821827200707,4931.0017133198335,1660.0589393256837,1487.0230058793077,3981.736406424352,3656.102376988389,8343.864279121593,10523.48986407,3668.244641861301,1938.6264186993087,9688.460602000596,3432.7725798145143,4559.887221532347,3017.749828019076,1617.3487638575275,9747.574191946089,3416.054611913952,1251.778311908634,3486.5245405965347,5583.0647635662735,4554.393364041338,2597.282300991208,3551.1322479593937,690.5391131903621,4179.792664273567,3067.886764478872,5690.440345184124,6707.860119136529,4580.013705914887,2308.4674848466484,2928.0019522908187,966.2282733832096,4664.292108141508,24115.564368753745,1345.355832422591,3116.585965442757,4253.469807867936,2521.662979878145,2637.470462058636,5864.3492056094055,2974.0604546077284,2206.803857099969,6260.8541232322905,5059.022904331045,9478.482885332198,20261.308786124253,4795.358549860531,3074.721058367372,18968.75362329708,5789.857186900259,5878.338616599202,6080.014553491792,1694.2192939914291,13385.467266374491,4062.7683805677034,1304.1959452120852,3865.367579187619,8943.951788203634,9475.553855754417,3312.947892874989,3666.344442196957,860.129348052987,5003.389566666278,5895.942668627436,11046.356512652788,9947.509568464213,4760.870388175949,5125.869561119902,3431.6435547922288,2060.217167099669,7455.5972707941455,24699.82054727704,1395.0130624323024,5032.199453872972,4371.280431235614,3391.6254721793007,1707.7450995493905,5131.785425325852,1508.1336699841538,1376.111474069455,3996.2845282356425,3784.8579279871183,8618.447638712762,10569.230520580377,3852.6617431770815,1996.636800719337,9005.170377151957,3626.8341593442474,4160.188411868195,2917.458799033511,1782.7396317845423,10261.587317140184,3147.351243620085,1238.102839185896,3585.114996493956,6025.959000174125,4961.190017455378,2887.006059268164,3430.4656204761163,739.3529025801166,4863.31723642949,3360.360701489925,5627.0265480502485,6596.39053335777,5115.49704018368,2407.432483698542,3190.28489709509,1003.7204551203588,5310.815519932054,24426.971441519898,1459.1141347637638,3419.763596886805,4700.313814273424,2665.2674878294965,1621.9946758239578,5047.6424530183485,1450.9703870346443,2070.0542599557107,3983.452453382719,5080.327544867002,9502.403988884142,20274.08961056021,4120.584196836602,1964.975403367933,9844.09966027379,4018.135607741484,4565.008502943735,5605.983945211054,2890.0588274776364,13785.305123966207,4115.940500221579,1268.3347803015424,4857.509819294138,5978.471296742465,4985.344691637224,2877.422982263479,5808.388719853737,971.4708154542246,5511.341025891697,3265.823975083876,5536.729511102865,6729.868924962865,6103.478315693723,2496.038719886347,3124.594480947572,1194.8005468722872,8120.842666085811,32938.551730728075,2984.138390269216,5247.161565660712,9063.75049015732,3718.299729309926,1814.318681445464,6633.581853681728,2995.2276524446143,1471.4278722693098,3980.51741218762,3728.7504307287577,8524.433650930832,10889.908530676938,5452.388565653886,3194.7583976984256,19886.8870253951,6061.201773873718,5987.83872075913,2900.945089632951,2017.272470109366,10130.830269460186,3416.846196596848,1752.5862791514553,4301.6550020897175,8981.244225382785,4791.755690243199,3008.1510686424085,3602.7677067662307,871.336997556711,4340.176253950231,3434.2656741248848,5462.804770830253,6720.344883300541,5347.804904973259,2598.966641066052,3201.322102896944,1151.0928779694905,5229.674521112353,24652.96042599769,1491.5506920908754,3464.8887962824574,4867.709734663965,2880.048258315971,1669.867918586996,5967.021518030562,1462.6381994747062,2103.118991556485,4020.9919041746366,4926.27459258519,9612.967679505437,20132.069497860077,4449.594813894599,2350.5763085497147,10660.064814563248,4281.335657471254,4537.8894868818,5775.625328802535,2082.3530903571027,13734.109879534608,3879.970656280701,1431.710259047744,3988.38892700726,6057.7685291344615,5003.01950568332,3008.6007772650496,3555.926651168115,851.4137841955148,5497.527681015282,3529.5213381184285,5671.238001207982,6880.236304087032,5635.403577983063,2687.923756751803,3467.1986340140543,1531.1322202446722,8404.24372261266,24642.08817427154,1488.0826224796797,5744.104958120399,5178.534062334729,3899.586521267582,1681.5479766869494,5958.079528903509,1455.6963262721165,1252.802436374474,3904.0121606367047,3834.803956607343,8930.501051973699,11015.121375412293,4399.506878185731,2246.3513871053165,10812.386089354308,4227.26426325756,4393.5378872594965,3185.3599152144825,2179.407882923721,10908.611901982504,3287.895635517956,1508.5038593702238,4519.586485836404,6102.558589637875,4699.40052770428,3033.7009654547223,3953.1691110616985,809.964615716812,4989.23131823085,3680.133968262558,5622.634270118859,6725.127418337724,6045.670917767759,2894.8151568145336,3811.752037130081,1244.5231676117226,5968.796885229101,25320.852590297764,1490.02249781953,3774.8594871273663,5235.069148036175,2936.850557220352,2830.9472298753726,6752.270073801073,2934.595038157908,2210.079335211834,6091.202461557396,5095.962533693118,9801.38964512651,21304.124273870217,6049.29289852799,3616.057020515988,19501.71234233161,7119.845276533233,5831.858389054348,5760.246576412384,3165.16291185437,13912.069617726473,4113.517042906408,1602.2688779627197,6079.168949415317,9190.313882009415,9912.09046167488,4395.147948912078,5970.71203303879,956.683991376932,5690.235868929745,7100.225564832921,11096.440770735237,10042.851081957731,6779.400065539113,6173.621772039606,4542.965379547172,2592.012805998989,8359.168518855771,33506.10067632933,3382.5458224719896,6055.026281428579,10316.249414586831,4211.617388933638,1732.0847184236306,6436.390984233833,1599.1997888913995,1410.7898212497266,3980.0918977862175,3718.139049368483,8999.174419797668,11485.86803217266,4789.477964670573,2299.976540748612,10509.27438433881,4556.071810735897,4333.140412959295,2885.403730372816,2124.933046839682,10335.078317925434,3458.269201177713,1641.7729458976503,4692.509268925643,6402.347835404025,4948.345959233508,3489.9070963269387,3916.311311884309,1198.5863781715916,5132.179256386919,3901.852871664809,5646.548318225578,6611.481915047943,6077.599935602323,3064.286946582705,3616.5936031658334,1179.5578648566927,5615.609731887742,25948.19928480269,1696.838985142413,3932.4678801733294,5811.834272566555,3304.7931477594725,1739.759848141241,6212.738290650667,1620.9956346045392,2135.30321847511,3834.291815440811,4949.562979098886,10280.748831727466,21179.156067389325,5013.227667757247,2595.4738402364146,10092.70316227422,4851.808947756854,4517.4279171897,5845.412972272061,2196.801832894225,14164.475909187757,4059.823387553782,1474.0809131839296,4652.094230124912,6257.117735029465,5393.564688905868,3368.343565478169,3834.533925454866,1220.8711641460911,5505.22485900697,4126.3473280123735,5652.934605458597,6775.877479192989,5976.049972156539,3675.914038248365,4138.2999657199225,942.1020228697756,8691.390049785487,26275.287325739147,1830.6648531790624,6686.153396069696,5947.654550269587,4358.337822889086,1647.5851422716707,7472.496258296405,2919.876553921531,1341.1473681962889,3850.343229769509,3912.079778395466,8850.792006757549,10928.70313409375,6310.540354936416,4015.8631715733886,21062.203353470573,7678.987564440923,5818.922197209411,2933.245659342885,2367.397652643469,10854.80590782316,3442.4631702197066,1726.543514837659,4763.738943963973,9431.970935197593,5400.669962371857,3961.407374614468,4301.457207781823,992.6704942593626,5009.503932447157,4003.195171754781,5525.517955637094,6753.352451521795,6839.849485908228,3155.980424502346,4002.356856638431,1709.2614318838273,5275.215751293334,26789.725297959227,1865.3564117014384,4110.443810573931,6036.043676556772,3414.697595661678,1750.293268674224,6685.677198915599,1562.6148064849087,2184.743955851054,3962.642475770356,5213.903116523655,10247.661753093307,21733.956037116302,4966.318530419912,2775.986025545177,10166.63010404491,5151.127895066639,4461.145069476441,5976.519185915469,3702.2497464841936,14856.84125870271,4148.820201967524,1636.4500987457134,6669.239992884667,6260.284537018606,5628.047147985453,3542.4091757925407,6085.747195553581,1525.493270842243,5449.111823104789,4348.002203189921,5454.965198837836,6950.58930513133,7518.801050558925,3497.715560757374,4142.294666611413,1180.544133326815,8875.79670077415,34504.386326077816,3675.232111662268,6832.536707829725,11808.809743077374,4943.710266239364,1710.3177135371427,6966.575545133632,1535.1203544980165,1404.995240548606,4032.015002831413,3551.245897902443,9224.409835687506,11292.647732593876,5288.230997392439,2766.63045366687,10747.688985980172,5264.52767071344,4320.85329717903,2911.7370088595444,2605.6592467398723,10938.464270189696,3074.8445328299385,1601.4040250810856,5150.990435427256,6100.169000766266,4964.551518307899,3913.314446390668,3898.9566610277857,1062.7788395545856,5627.60989484824,4398.636854077919,5750.649467706339,6549.147731154917,6913.199209461219,3557.3120703352283,4513.565715537348,1465.2322830191963,5935.085432842433,26634.36724409162,1882.8704030372503,4353.457536672644,6397.3669772619805,3548.77798617448,2805.9026002788387,8473.270378391775,3012.9626878110007,2263.3211684673824,6302.453470168811,4981.208503923915,10535.601933187942,21691.50661867323,6621.734345191127,4432.355088494046,22062.946303305675,8123.101208756387,5663.4237405346175,5750.235359389732,2663.025995340913,14759.578846383749,4126.123214694968,1975.499397419038,5408.747205849042,9446.035728852805,10514.81894828517,5091.569224362396,4404.173727945511,1028.3853557944396,5148.358893519836,8439.375031987109,11346.34668404184,9977.467734980448,6882.775644856164,7431.980806911747,5559.368683044002,3318.970478090142,9118.216130795803,26216.895980830013,2022.3235389418733,7104.791922646542,6697.87261480244,4936.088050574529,1751.7678830088494,7297.549825695514,1570.150440293248,1501.691539464526,3945.5269673181183,3596.6532470128063,9685.93967515852,11317.42100287344,5812.082010561857,2892.036354611764,10293.94641246714,5543.446819596211,4423.237134907141,3046.257988655624,2586.6447506893182,11420.724808207882,3397.541828128735,2005.209557977144,6064.41414879949,5995.290694947207,5434.567556829037,3918.375533101668,4140.063230670671,719.4031104993715,5235.321591189934,4431.290863459723,5588.761593347287,6791.763209602393,7352.971733691793,4032.540772793914,4316.375775962146,1154.2023135291995,6910.126352568548,26815.591338170296,2177.9763310949147,4798.950598777581,6721.228346074942,3861.354839726918,2009.631272788013,7707.174520435444,1679.9274726700476,2088.76823196613,3929.0693304049114,4872.6415721611575,10430.426735280222,22618.302235354724,5394.596967197142,2987.933080303822,11369.250989088936,5635.725169934396,4416.800829692225,5747.299787350092,4095.433247931602,14997.33420454388,4136.037267679157,1943.608459618696,7423.206018497895,6491.771594005251,5576.922209612659,4179.594748093179,6245.754498135343,1305.0061800260655,5863.573988244188,4514.352120012987,5650.906310218024,6733.776524321685,8363.2625213789,4018.530938061205,5168.393236888371,1757.1682545983494,9120.427468532014,36626.93195228294,4275.426599350391,7727.664517110471,13042.77403302368,5059.111708391897,1937.539053996264,8808.444112343008,2999.238719004556,1506.4329966100408,4023.6362039050073,3572.885755258978,9764.764524856831,12034.003865546423,7764.917339359305,4632.7655309876845,21333.488648646417,9082.33037480243,5823.840912626665,2820.812693687668,2615.1250299303592,11493.970851549137,3370.1115241563616,2171.525597705225,5895.307533390046,10292.836036568284,5716.255491159229,4463.160587282919,3746.953833914073,1140.0125456414482,5331.783302278628,4765.921482939001,5647.396886358523,6678.105093553674,7444.704760119379,4209.268525605173,4739.797041051378,1264.8160013641268,5975.664430615044,27228.95235866786,1904.1981772187307,5015.627366318044,7120.988863667879,4071.673888002304,1735.0978307291475,7718.021089850013,1622.8667405127258,2205.7594383706505,3997.833730726403,4876.128661384597,10465.252535013971,22963.803096432064,6231.924264224495,2976.587184265513,11339.382051370729,5853.380713304945,4329.736404590054,5831.355287315399,2703.868379715947,15187.7168610236,4114.110690773773,2094.8476280592763,6242.578376302758,6703.066027994747,5618.327309910364,4416.353856206268,3851.3884438344994,1352.00879287337,5615.380814280506,4910.468368740614,5721.548433948611,6593.360263592444,7797.097797362543,4056.07330467815,5248.578334029235,1464.5937709389575,9474.576425317327,27620.971261983308,2220.6943995429883,7993.163014048783,7106.89984319084,5591.616763057675,1839.490125132434,8132.909101003525,1513.8094778608386,1475.7134616948547,3794.272363117756,3862.560890924341,9777.346827037936,12016.6680034712,6647.770705824927,3336.665967929627,10862.911164373798,5963.281665625276,4497.589022540567,2933.971553661397,2862.309358875001,11345.165423618068,3443.383929598106,2102.7514421097208,6115.545846380976,6261.48593633955,5463.457738064127,4211.033225775884,3725.372736177735,1264.5907054865777,5348.027018916579,5188.487740760069,5741.673112109397,6612.46754315339,8124.453363622653,3825.992704085931,5063.5096274500265,1828.11119615512,5950.31018304672,27672.06296131937,2261.70476326865,5383.434089985162,7563.951813029078,4327.17108881721,2799.159989986372,9287.703211796475,2931.619251275246,2286.201519224208,6169.509012862334,5017.959320063915,10820.395008284084,23265.198994203554,8247.234523767309,4947.247662889025,21895.34077175228,9663.59958819952,5882.540821654755,5857.977555121405,4343.447688312976,15206.949722646868,4121.606292463756,2300.0769704512454,8460.193962240122,9809.590445963262,11097.888142965625,5753.144353131064,6415.205742220839,1665.803985002427,6251.840106172943,9780.834141049723,11157.650135058057,10085.55151137859,9303.370727454843,8696.349708238824,6058.373930570676,3048.478434369497,9799.095567466624,36765.85035647339,4266.440978590177,8468.479196181237,14274.867095354772,5749.624431811265,1566.9712343700369,8587.950308977714,1617.1115476814368,1469.347995169321,4158.170441232417,3745.524550770072,10291.225056222893,12304.659463257974,6694.902806507484,3198.492588756355,10959.361562843127,6602.577425491912,4457.282272470121,2893.595279037158,3158.420218592763,11689.261344213732,3337.25564044411,1919.9225780891504,6915.271191713356,6777.205953721152,5849.762740623239,4722.367412706475,3996.8009074878296,1416.9440756837091,5844.989574091443,5327.090982019222,5588.89911512903,6723.929223333598,8645.333942102843,4365.341931672348,5169.610573895127,1789.801949269041,6012.698748190404,28006.49675901778,2477.3865781268514,5740.520975631776,7867.349380106909,4431.42635269364,1752.0972936505848,8558.200688848783,1879.0893696221303,2178.522710829086,3782.227927224229,4813.547706666632,10926.063273181917,22592.819560522585,6883.957211411041,3417.581453272633,11096.12394855056,6146.452329608471,4192.645215472125,5652.720890341492,3055.981089128407,15536.765041887014,4165.564608115691,2128.463045442682,6181.538479079853,6599.180463356503,5480.20070624133,5156.744080781045,4479.367357986995,1498.3204683120723,5937.174660783845,5481.816061070171,5652.4681060203575,6748.515993490036,8844.60005185517,4215.183023801067,5398.390469821567,1620.041506441634,10036.69440597602,28331.70656467683,2325.0905721786376,8871.714656305927,7692.58025434344,5972.0950965432485,1573.0711230842603,9915.929262123553,3084.611162705764,1550.611410934939,3983.521321366881,3652.84896980158,10093.353282391485,12386.32822691706,8746.54753980243,5314.548604929925,22353.703418299054,10279.233449582633,5723.361517514656,2962.5902149251824,3101.8666796542475,11959.359475144653,3358.1809454980607,2652.546872915439,6775.814660633348,10243.221701411136,5245.801257525012,5270.28428255167,4370.380806081714,1656.4804072199918,5122.836519986233,5441.811907826844,5580.820112888566,6660.039515601957,8917.3381623518,4723.213910683498,5590.624101511493,1864.5734401615327,5762.722274736285,29634.41915187101,2640.184272802729,5831.990021065794,8226.22561826447,4615.357980570119,1760.8298230372443,8976.267905032773,1642.313348714085,2150.77236446922,3969.925780142222,5011.371536802123,10964.730785458549,23295.74762698418,6855.530849919555,3831.039840741148,10833.826418493596,6931.373352788966,4367.335163377248,5834.675375785051,4900.404003118768,15883.270538569564,4173.389571590389,2524.618808331157,8899.625989171169,6863.183427638015,5615.151994092642,5150.927268494856,6281.241052350201,1613.092004367045,6041.882857837275,5618.9821136545615,5529.471764303444,6689.981619149118,10287.03431864932,4712.448801885559,5164.835997764572,2095.256792193569,9354.1974361702,38036.10584028897,5169.356107275533,9300.983751661295,15544.768596705087,6324.9834313862975,1795.2547836876915,9749.052894006883,1430.8827740702357,1534.2403973522332,3859.2285546689695,3488.266639124031,9944.07024842267,12526.75548967669,7011.232304882982,3592.647138161536,10975.750629023296,6956.582322835442,4470.445770469982,2791.4316203710327,3288.739776944882,12017.127648554037,3529.183269791377,2198.138437451705,7184.082290337686,6866.401936777127,5480.511972071966,5434.755604998087,4462.433858438839,1806.035041848964,5501.202060472246,6057.969039643137,5684.554253337927,6657.276293948368,9451.650290352844,4611.946098938819,5913.968874579515,1613.7443022032378,6490.818434396185,28836.360776246027,2603.291067663504,6000.613013669567,8407.149180369493,4935.206309181123,2754.540708967767,10168.17089767036,2882.736685408042,2129.5282667157726,6302.801375369458,5220.431108809748,11495.209478610795,24337.76357074036,9681.18015660604,5901.037066619709,23006.343462766865,11218.746828852793,6000.993585340173,5856.238936289669,3367.584089320788,15824.367838877442,4024.686245553879,2718.2636287628466,7128.767171361288,10201.167037061425,11628.98587117049,6774.068208962748,4157.533243958954,2016.225872933604,5292.212566253945,11193.306068146474,11403.82308700289,9893.089927768357,9696.22191082573,9316.86990501815,7256.785403630687,3781.1489754967447,9359.233363205312,29632.847246741778,2485.937214660294,9516.225106472652,8875.045272497344,6443.249478615526,1886.366522996561,9561.320118085874,1481.2992217389967,1425.1814013140397,4102.992528964674,3855.444198946423,10370.867205638697,12148.551086263493,7611.454353710153,3731.954911270507,10929.910256567646,7149.728562842181,4351.623129854438,2787.4146093858217,3107.6348213762044,12121.73884263021,3398.7485263312183,2501.396102392735,7393.8244100948605,7293.7617418583795,5825.454401771048,5255.428056148081,4040.583195462476,1078.9900230676626,6068.179352711261,6173.494602694362,5495.62837203345,6790.4385746886,9542.434976874509,4877.559363229804,5776.240388618665,1848.8312910201264,6156.452087790571,28861.889163120573,2727.525520249633,6184.385980787069,8795.80554720102,5044.250106857582,1807.204970429269,9630.09925600522,1625.3334174346471,2217.8463263462795,3837.935747963533,4874.42018256798,11314.131030997429,24170.79535008901,7831.47269569852,3863.107849816669,11500.044210415095,7383.668061351123,4418.501122947203,5788.704752955698,5272.784888218326,15869.131904188604,4265.425151652513,2449.1811564371183,10261.223425818149,7517.448539219215,5715.7490565617445,5350.710703903198,6458.302554285021,2068.6490280201624,6254.846395169963,6018.826209925343,5773.877779064424,6653.563025064061,11151.585422461449,5463.961180496019,5589.386225544458,1581.237170769353,10379.793207871417,39172.38868489564,5453.281425449928,10087.141629324127,16711.153386431713,6997.3738361360665,1740.528223378014,11360.229797563015,2947.5849120491607,1543.2865175318004,3997.153421175838,3929.3813806373296,10107.31541283062,12677.745150635665,10303.178434070463,6363.492011740733,22942.913179054005,11630.360773393551,5896.505963944082,2969.7948325118623,3285.7596322649,12326.40626144809,3319.135685022724,2758.107147699749,8021.801223271865,10685.650801213094,5606.697408711872,5327.507574763351,4385.681087911171,1714.2411477078776,5085.828910131359,6316.124095989794,5592.5364472368,6677.704052189778,10159.984409346273,5542.011811063849,6278.212294198709,2280.604063892314,6432.582282056688,29684.63595616079,2756.596420066084,6378.50907752696,9273.877686553486,5258.800307090011,1766.9910718936162,10308.307201342324,1712.6036418036122,2209.769920588933,4074.243884608232,4918.423402453111,11390.130743019476,24781.2518577316,8004.11648619034,4068.2751986864014,12018.069809882789,7448.999038018291,4425.085096472079,5926.333631587946,3656.122580240286,15914.873979246331,4061.508345535165,2392.652521499964,7458.793184957637,7473.972972927179,5655.027555207714,5074.187814212885,4206.412898720728,1633.6990838377017,5732.3284829551285,6372.40525518823,5748.075542600558,6742.454237262892,10355.413724826254,5645.024310542372,6964.56307165915,1838.349841985756,9086.500483332218,29742.52047061092,2909.683607196073,10474.804305909523,9233.875102956808,7222.27553224069,1703.0600296711043,10387.475586573804,1508.258189153785,1483.714114209017,3966.520253534549,3789.773731216681,10351.261342520347,12353.882384182503,7977.099978242331,4102.883946409089,12362.442360792018,7488.364921626171,4333.502622026651,3052.4268122513345,3595.952328796777,12358.804741089763,3394.9987088394328,2612.128744908832,7964.584772995204,6789.546083679599,5793.929903874731,5798.555668607297,4182.986030090205,1611.4620909530574,6326.34898733358,6323.664129987684,5574.352016090361,6624.8116507838895,9840.2209129649,5026.816754427175,6643.619168631132,1749.3667044982744,6075.940242342365,29496.98765358425,2828.85910287925,6511.786421058234,9740.665161202867,5209.337278787712,2771.540146180627,12339.05282680961,3061.708721211872,2143.073540109824,6283.365682250278,4984.696189977639,11895.440729888402,24012.42017641837,10699.856823996655,6518.634596978342,23972.24970057308,12365.671197402737,5778.483959520491,5847.708501906164,5425.583097634249,16222.005990000418,4153.001727066592,2969.0035919435445,10862.920626426543,9953.173076848829,11758.536293818128,7681.035971648897,6909.720364187598,2153.7069687545704,6613.4796445659495,12541.468961103204,11249.28895356383,9865.474864167734,11865.165625460577,10725.734173188624,8007.494974190793,3793.415840092295,9675.856612062556,39651.79660941932,5653.126093600304,10840.056309749809,17839.521573097445,7182.188849630875,1753.2626601022107,10566.66072436018,1591.6145449767273,1617.7384593942406,3903.11745422016,3566.5078891107974,10388.575625059377,12964.719782703136,8227.696125554408,4144.257870363536,12503.393797681096,7482.5378990712115,4312.486907717512,2928.981696126362,3844.886682256448,12086.474248297543,3351.248445126156,2445.742193653858,7844.239201934544,6712.720353998355,5763.537106093071,5628.347233681392,4375.564116888363,1337.6121221384903,4878.833868793895,6507.466658662504,5594.980475318529,6586.499932021565,10319.433354236637,5519.517156089425,6775.740088584713,2042.2963522137948,6749.880345916185,29884.30550175555,3142.498240849171,7084.942734527254,9674.530888206222,5611.347865173137,1783.5249529080447,11471.499999669692,1643.9639774069242,2350.6985478012134,4124.198255626915,5047.6248312432,11817.201506207157,24408.893713644637,8474.231236611275,4547.137772269318,12314.348029799086,8223.832931132156,4414.696313685345,5672.12744706471,3847.966766423197,16073.623741632578,4033.8966526670047,2749.4357635792776,8996.489892993828,7190.717702333862,5778.680378506664,5976.801211161552,4341.910343991096,1880.9957888691783,4797.998865412261,6854.942377235055,5566.7048178443365,6796.858827538671,10851.882133970248,5442.742624753983,6297.740844433304,1984.4455396984995,10160.736154470884,29723.97231270193,2963.836804293478,11080.350515635537,9701.81057498397,7713.443632576735,1673.2636843584978,12705.086188767917,3033.546869561964,1364.0064009168343,3870.9106530968015,3619.88006957446,10163.228855006577,12907.605043030382,11334.097478123074,7084.964597637286,24552.259807366496,13073.87573475345,5705.049318968698,2879.3376419215974,4096.625873361983,12837.788485942472,3577.632862323562,3087.7191028708985,8966.04743019636,10338.1566566001,5852.797024627503,6256.968019876874,4536.231464239027,1704.2677523282014,5603.539695413793,7052.69976588271,5786.912137839043,6682.949550740898,11395.422760321246,5921.910156214288,7304.875569146133,2204.561552493448,6769.942507010112,30404.65425788541,3037.924595165927,7491.435149358592,10092.946969550863,5715.776604397692,1632.9995952921245,11205.574212438383,1384.726580907071,2221.602973046676,3727.833159976436,4931.160648896876,12080.82701276384,25124.771501720563,8686.329561956889,4681.3141840842645,11734.045867427503,8610.915401721353,4439.9151250689765,5780.551786226166,5950.758733076807,16720.18503495471,4146.166740873328,2863.2625085725726,11379.55417229478,7442.464328197328,5870.452700436217,6177.076202102973,6911.702240958872,2658.6145234677697,6582.421105681017,7173.051520189231,5693.1202425308375,6824.312011811498,12396.818627275072,5571.374947328292,7351.229891988987,2298.2901032423165,10178.912839254144,40076.712648665794,6332.927781427648,11352.233483920349,19770.40441298252,7914.484248880216,1731.1949625527466,11607.537026103062,1652.925883202537,1260.8617491407435,3992.069434508524,3849.4666223030495,10399.373917921852,12750.014790658548,8518.857528893755,4128.579501395612,11903.405355269711,8182.180306860566,4396.841859988006,2783.852129851995,3995.468798246552,12556.56947323303,3457.2416993035417,2631.883892977577,8619.580116675043,6340.411725343115,5786.982675574769,5475.738844683271,4394.831328168635,1619.836562708958,5469.596923178832,7088.145675366486,5598.40462928257,6818.176454889123,11883.773902650297,5895.866588364591,7139.793760161542,1875.03902008188,6771.1435601073845,30943.919807430502,3114.6064613877065,7671.979359190138,10300.575262363494,5918.194519316454,2637.56085630705,13331.263263180284,3076.247042171457,2154.251080670966,6372.126701844494,4980.115683372337,11785.596707140454,25147.160608829075,12076.545204931384,7160.143038219506,23980.310451208443,13844.91288691511,5860.789198867082,5728.490616699718,3919.6063452695566,16595.668299674686,4044.728812573528,3171.3646853602017,8593.547763283837,11046.736489846518,11861.415580568986,8647.779314608211,4561.413263181143,1900.335728315727,5232.320870821605,13866.521174362098,11391.193918016505,10030.844068519606,11338.187562830975,12085.242820634898,8895.833752813085,5086.765891009509,9566.795566223036,30219.99552371336,3332.728852602219,11886.281206536683,10581.04335885297,7867.917072808414,1669.5888908739587,12320.01568926876,1492.9989597580425,1301.9515004639566,4032.9502924097897,3715.677856004476,10690.49637590559,12661.501140703347,9088.600732684912,4666.1765829328615,12520.182199740577,9292.969608325737,4399.821340492237,2888.419253181713,4469.968988386459,12851.07017195954,3438.299348274204,3087.9948159865035,8897.76982947949,7616.394836022675,5992.786483264691,6506.973946984339,4298.829956306402,1739.7233370159909,6656.697265429956,7417.622349953293,5724.986420400867,6610.344109430623,11539.813910260724,5778.546192620475,8066.895138455143,2868.1657503514807,6516.19049109535,30413.21138010726,3117.1203314819086,7660.0146946554,10814.05270575,6244.716310821623,1861.4889768236496,11865.19256258736,1531.2307395870355,2247.2711116450014,3989.5097699012335,4928.864425986368,11858.88016374821,25579.427016169317,9384.125049831904,4498.963964553313,12129.000321454683,9504.389370818586,4389.621275945496,5878.296588953181,6326.630609171087,17372.421211590132,4219.615401458756,3107.0045469770125,12025.698253386216,7392.546001732489,5825.243053758447,6388.105306578751,6899.705767875017,2988.227406893715,7297.141412773336,7211.210973034068,5538.800811061959,6912.167138410426,13514.147714100454,6325.268199898948,7631.693635710389,2312.96716429517,10060.368654206815,40877.8088514672,6586.287289379916,12200.880348018947,20487.64464292799,8298.711797260297,1867.540105347013,13948.023445038749,2963.0415817941607,1267.3861971946317,4099.908410645942,3621.032803570172,10901.036650699882,13237.400593471866,12660.922614933408,7610.845567690658,24608.414848376808,14289.677978909964,5954.348917354909,2894.7487678799616,4334.649368577197,12589.558785988009,3549.152568696215,3197.9508138109586,8737.614291297525,11370.129414405992,6153.167911004673,7066.860179124763,4570.853115078657,1234.0928733551416,6202.277721405681,7682.807545728738,5520.684507667939,6622.468282120649,12416.454360202346,5866.7947031626445,8228.2883874748,3088.260405926633,6751.992276223629,30476.862746523144,3340.707810839393,7713.262974911198,11520.30952326361,6838.7828196877845,1726.6130582524816,13235.411760853887,1612.9777344187212,2273.016392720933,3918.2514874090007,4882.392372125247,11927.084720096826,24999.18163493272,9732.853074327591,5173.674568122508,12293.674497308975,9543.715881680728,4425.936691478241,5870.486615354714,4488.437824804752,17386.731722253076,4149.6446686704585,3255.4836094948096,9656.838432281547,7641.630955457468,6022.38886669348,6412.49408327131,4535.004519636685,1285.8531133381837,5341.747263306209,8114.069088473567,5672.590999298463,6869.273974941957,12369.294869737552,5942.305239644029,7107.902687055572,2598.9617381887947,10918.46951648816,31694.725904148017,3441.4989258444275,12766.672602465049,11031.963353531504,8632.751121041707,1717.646576749222,13089.409924492278,1635.4592707451452,1374.8873090043758,4015.7600723569058,3606.887558141646,10895.03146679707,13393.496002403484,9475.1579586872,4990.864430552968,12951.164821958531,9551.502548606595,4424.155904490532,2853.053465447701,4591.78689076354,12748.270379429645,3396.919003809562,2830.600549521206,8564.735790535713,7009.66654291844,6227.440928475647,5585.558786447111,4621.317783529409,1912.68120276632,5539.131646457816,7795.821220470728,5558.34059045149,6658.706180414942,12504.050327541308,6242.850697547835,7822.821340273604,2390.8618663622865,6572.876639229766,30875.5309546718,3636.842845334696,7833.221147197706,11226.02617413175,6485.634625441632,2620.001278514519,14450.415990787338,2979.07632660286,2230.357731534204,6239.285722936663,4843.167084741184,12191.435232023914,25280.069872359047,12674.78496006885,7752.941076684535,24711.172636409523,15131.951138414212,5754.35911753199,5735.79164910796,6842.846849192973,17288.580732488612,4256.930242605585,3611.4725066100073,13020.689182031276,11205.347923582623,12321.941738684332,9870.929357108362,6876.970745534074,1614.429513497912,7321.736530237027,15223.96157764402,11344.293869201943,10144.042114228549,13582.879774324958,12964.29837932767,9877.0463585514,5327.707137905792,9351.51009817306,41463.05833523247,7169.28331433248,13082.224062682162,22327.23010452719,9208.189186873848,1814.462514836502,13336.575164507058,1559.9825178080273,1215.0803095444076,3953.989012040185,3735.479253806681,10972.97217252341,13323.11415541919,9600.522822317693,5432.850451954034,12123.870103760475,10345.37674176033,4241.960409724161,2811.3816865465883,4829.984670236392,13002.682026412202,3365.4357536558086,3284.3667207285343,9950.43663823764,7337.675560830505,6472.031950793224,7110.83995228862,4866.009021825927,2004.1065894390129,5595.1643202907935,8270.013039873942,5815.718473110244,6514.151303164599,12634.271874293758,6103.930567748804,8191.515816372119,2282.66805670077,6045.609865925609,31645.973021017104,3340.090046258883,8606.085923143026,12263.767844465685,6677.732365604301,1789.383088089205,14036.249605002762,1380.7784788024535,1982.2840467837395,3923.971627528032,4731.730268005746,12308.67363807526,25971.29070265612,10700.659547740615,5016.354533503436,12440.725103147495,10117.337646261323,4315.9689292285,5905.490662659688,4471.4778580670245,17399.89926179314,4132.5931492379095,3454.987092056253,9854.599806085913,6777.357052006461,6156.946461412172,7420.787595372851,4667.641648655331,2413.6281618961043,6469.412818173446,8346.074546482223,5581.847788770511,6685.90279250001,12948.445756697878,6840.410146539081,8325.918978742628,3120.7651548736617,11089.142608490034,31578.059343194123,3970.651339527496,13385.738147535874,11875.40273960815,9095.697528033888,1873.8443540243695,16208.20745901022,2811.0321468309567,1473.0487307981311,4130.309901592529,3712.929707924112,10441.464406259804,13387.270720929706,13849.580225084415,7814.649259554775,25444.151210511274,16285.422559844288,5959.094127412432,2820.954682379144,5045.221467776594,13050.55790050626,3284.655053811809,3655.3200887675994,9989.30599749466,11051.082296979228,6234.488636891716,7309.901565342961,4871.456197543143,2640.373733800388,5205.035824170226,8786.259679183091,5671.36328944676,6714.59605472777,13417.85813410333,6967.891941418765,7778.848913273822,2928.4107308423004,7804.298949190749,31740.86180844677,3597.071805834452,8501.578300763122,12561.315933636455,6964.200237473651,1821.51484661596,14111.800519974417,1524.4183556616204,2264.4880694689746,3851.767039955033,4767.765011049214,12265.789298489704,25743.31031708174,10440.743757422635,5220.696648802017,13011.411888948564,10390.334464143103,4252.1827164477545,5849.438395873248,6829.835030769379,17522.99488568515,4173.983755761684,3252.563811345009,13557.631709803443,7015.040309236527,5919.466481122855,7998.919475309069,7236.903109335814,1966.086607799608,7015.968277988671,8133.524142445,5610.21393012062,6646.153506165201,15193.19536233768,7328.585794900744,8841.683136661193,2594.4190264382783,10246.639878055506,42132.37896185797,7491.560719000914,13930.47858008572,23514.246512041675,9610.62386573845,1887.7879513699672,13664.549290235103,1567.943136392911,1253.5348622362071,4073.054444500651,3732.302483941675,11127.76247716888,13982.204248299313,10501.449940743803,5379.887695757368,12138.91538803999,9650.025698735955,4553.405969383351,3057.675379178305,4698.356617665638,13307.127693403963,3300.3018635336957,3630.78454759618,10969.63039827706,7188.167596061385,6215.424152584471,7150.678766193792,4331.396017209499,2344.243535044361,6260.605097796056,8669.982103063136,5412.904706044637,6705.874475600528,12762.887849895262,7094.965090584162,8886.261167935265,3153.698217183095,7279.520164560439,31467.203061708173,3517.680608296444,9121.906077510408,12017.78657613467,7272.191302884256,2661.122854292156,15532.97652678419,2755.6019056791247,2148.3739385840213,6196.085312170375,4966.760824637097,12740.791066425938,25771.551974087302,13949.333089535008,8362.835713570523,24715.548067489683,17225.79445671198,6003.2244518708285,5994.580382497818,4889.612489971723,17858.237114523734,4311.451990130205,4238.088250518133,9988.82237158308,11461.969697824728,12636.297624609077,10551.834442685878,5172.35487758242,2343.2656145475344,6403.844499831293,16605.682619323066,11327.49559111952,9986.052981881348,14505.399744667076,14884.201921858035,9953.376046190118,5308.032000262656,9785.64202389896,31846.011682098902,3579.086101774646,14149.971755895638,13118.541344338628,9491.323843003383,1832.8386781243369,13933.746595200988,1639.365831948512,1420.2067618887131,3907.530481830476,3790.348443583716,11440.83531716328,13580.289477610964,10437.474892942511,5611.147381919396,12215.427228208597,10490.796284123797,4519.383511935059,2811.6776646443864,4746.742770169919,13255.46365688903,3284.3111590936146,3196.213208948021,10732.152232244329,7416.687180018387,6158.26705012904,8450.637284362476,4963.217143116126,2533.11091388318,5771.476176888416,8515.318528104053,5565.879568630726,6792.409421939404,14399.799378746167,7321.673969374947,8472.50559234991,2695.673268923272,6640.431127272495,32664.458611489288,3991.875311608665,9494.343945386703,12997.52577939413,7493.5953192009265,1980.430471663556,14570.775708735184,1460.1699012648332,2307.0364178373547,3881.045148341707,4861.294182071098,12518.342575215283,27039.988995560376,10712.055614477727,5359.989172144861,12589.15722247625,10507.495649601968,4356.789077955647,5666.713583950423,7061.30442874187,17378.375169065806,4130.706661119384,3588.4075968165844,14560.501790734612,7582.975422898014,6360.247445933962,8137.72192562628,7754.156373474006,2494.070021942361,7180.480694633023,8900.800033862479,5631.8668022897045,6824.797822591299,15952.719969785248,6928.8586267362825,8655.562796816004,2323.672231593096,10788.631536083194,41917.172987327416,7925.656999686718,14258.84631505734,24518.715716151302,9750.08585971336,1754.779693302802,16402.116277755453,3047.446690573243,1257.5732655365002,3819.439918031911,3820.008418330957,11922.89614269101,14816.317612725472,14371.048058348671,9127.500612431257,25393.84726116151,16343.423958967664,5802.743161803619,2814.5330714340225,4982.859040732303,13341.63749043364,3454.89775715493,4314.745293069473,10145.144015738731,11710.055383391733,6710.665682564705,8721.342085833188,4602.03569144799,2730.42794882062,6073.037045537555,9201.08993094318,5566.925672555488,6677.92582910043,13794.153402375048,7611.429025405413,8398.028743156738,3557.2908987803626,6513.016374062087,32068.622402771554,3731.163185935064,9599.124133798665,12954.245324902631,7050.854923273778,1748.6749935116195,14870.335819981428,1683.6449665961118,2219.2208365098145,3919.720557736825,4951.101526321454,12277.049711592945,26391.47426111357,10901.509223521156,5717.827911952677,13042.225570391478,10358.799223165526,4577.563354715992,5713.504983811632,5195.323356054216,17493.53747456709,3940.551268490744,4007.923833526379,11483.85116245916,8587.96842709233,6482.589516576504,8076.84283949358,4960.830722330737,1888.8792218148087,6077.774726902145,9275.72814203679,5614.563087183134,6654.64107954981,15226.271514555912,7027.937922560577,9707.219610675686,2742.004284359836,10547.630527424595,32343.53268117348,4228.302111924624,15141.4037920817,13149.08382248095,10415.431567029773,1911.5611062738933,15463.15516260708,1454.2086753824965,1431.579240120055,4025.734911591893,3879.227032115634,10806.711751948016,13622.232337272011,11877.785894984576,5547.571045962081,12105.178132594265,10768.0978758845,4272.171637521675,3093.133970371772,5278.933424074519,13172.760141790426,3428.80136596908,3491.5793209731933,10927.92958673121,8432.04865475188,6573.696350803429,8377.99257536114,4764.944902786029,2161.5672238956,5753.191518890195,9179.106576116515,5563.138246136872,6763.959230413286,15058.026109701024,7844.449690733816,9457.150615341669,2294.3207180691734,7060.032589564736,32239.946179787672,4040.762109029864,9344.620304239384,13697.390549955053,7967.523594303911,2834.660467821591,16366.898085032586,2868.8833575384497,2049.759614162864,6079.293314041597,5050.271200358514,12516.412696175545,26547.84016984962,14999.838801256945,8569.017807895854,25729.49812723845,17610.68619311442,5945.307063205493,5947.619783678523,7932.155678902468,17910.154524653106,4076.728820248279,4478.760468316365,14871.945093998773,11769.478175420709,12778.27256343084,11365.099875712009,7541.876806571887,2440.986784685434,6911.62123691838,18300.57128274426,11224.941152719632,10181.773180870938,16771.533552646204,15068.90666122278,11737.05956014309,6893.369405453164,10562.431921758916,42895.600790745775,8347.71720628735,15473.587341531493,26205.45814074148,10386.868377712504,1835.714014366308,15739.85052275935,1555.5558607612236,1410.1625802144426,3962.687104666135,3861.2460145034015,11279.553978013406,13762.441121166565,11785.9005628529,6244.301098759983,12981.334783452878,11619.267606035455,4481.778843756227,3077.9715834229714,5379.614841493232,13805.87308074656,3500.5730349912988,3751.032631060837,11377.257831069126,8200.966241142676,5897.264234723812,8393.190533017076,4666.9047371285,2233.60812520092,6692.326104164573,9261.43036303425,5660.420971096689,6704.020783327754,16197.638325664688,8125.913519114456,8920.911656887914,2933.853226414227,6608.707399177549,32367.569276834038,4285.3583955500135,10038.478972389215,13857.336424796957,7996.625903244641,1561.3919866899128,16164.560556587989,1461.2715844636089,2222.161177045169,3953.176205616136,4798.494953134629,12693.77030275304,26187.766533298563,11791.198419348904,5948.499411389556,13106.747877450644,11874.947615090785,4471.532845543476,5802.950738082385,4951.830740467034,17989.430403471124,4211.623501211949,3802.785527448571,11072.874513347177,8803.197180627894,6902.870429146011,8046.249010908062,4616.485159404375,2285.980544491067,6070.963645055755,9603.237084257158,5424.278188918874,6656.298527209864,15420.42008702661,8074.627627749938,9684.180010924234,3472.7307538788773,10663.329689983017,32863.73699090476,4627.318912073208,15582.98675769474,13576.713505186475,10757.297193862034,1808.676346428152,17838.849415515793,2876.9679007232203,1386.3771250230843,4012.2756147502937,3628.336332014487,11344.524194536976,14152.739505800411,14815.083451480084,9463.942907203593,26215.50646717404,18174.00632646707,5947.429949531592,2988.529612934791,5486.556269802011,13821.028756037089,3297.5046505768664,4498.834718546045,11959.33817301184,11863.121625741656,6027.154448293035,8335.884235989617,4545.712305129051,1940.6160956944848,6251.996852148163,10118.542422126404,5596.16187768883,6821.40438587951,15005.541096550072,7883.123323129899,10331.869723965438,3003.7813297772595,7799.655750217771,32395.4016630983,4350.516557856597,9774.71234645844,14107.952826061137,8340.85403498193,1777.923261693791,15339.000797013685,1481.7379177007392,2085.37539123374,4038.918674067312,4960.332484780242,12805.519764442406,26289.2749743877,12686.457040095896,6235.547064787464,13509.831655119988,11656.003669601843,4566.683900646258,5948.263857904828,8722.046194426623,18090.383458026103,4192.166145300661,4376.350325947681,15783.15723646591,7468.432044829496,6806.946997494993,8285.383583201303,7634.021989280352,3373.8621994106834,8009.5504832756915,10075.833526483691,5646.141777720128,6663.254661383488,17162.31096649141,7918.088891421723,10235.56704693041,2577.414690222456,10930.71551452424,42614.640245167175,8629.41551745877,15863.79461521788,27402.143309002586,10717.915119467638,1708.0603320079513,15466.030392546578,1559.3957192427804,1585.226168114429,4003.0954137899616,3668.264270351448,11440.183844902253,14446.968996945883,12962.305004676717,5994.229972179634,13196.835288870512,11646.298192717057,4254.2301934043,3008.868362822301,5260.556005102831,13538.292279210116,3552.609255964168,4144.948455064079,11792.523346112564,7770.037954641552,6440.154847771902,8856.20103890756,4828.547717699165,2230.719559005992,6896.73283404811,10159.606527056549,5537.600135219163,6906.937391571107,16751.146934661767,7845.665083673408,9565.767879750214,3271.6240234530205,6637.951654214905,32695.7352813438,4422.883455752207,10491.099685928632,14316.48602034667,8415.577024100285,2864.364602784329,18217.095990559952,2770.910841512687,2078.711094666,6339.142924653834,4865.121135378151,12885.157084325554,27625.73018070245,17355.861032020235,10092.831212053636,26761.33642820472,19750.675596976325,5855.273187853341,5789.600160272248,6005.697494214042,18112.138469923684,4097.986377015407,4394.293924862849,11535.402076596003,11942.389960864128,12558.624638061705,12104.660793520989,4635.308809549711,2785.253600473912,6200.248643817749,19534.5461169231,11219.028347147818,10066.53738562899,16020.213524501383,16620.548561555883,11681.864889977747,7257.783983002138,11017.015482931763,33068.52995782338,4245.120279372699,16372.710833270665,14920.911681404492,11037.01160568968,1750.581917071616,15901.024599584893,1575.3882014216729,1375.8007592923543,3909.1940706405767,3752.359759469041,11708.205919475762,14520.806527628003,12322.343393173109,6657.30813554558,13372.86297988812,12645.4214136041,4392.209649521714,2785.0733057811367,6339.723184212325,13513.010036333284,3334.203655768973,4100.024156370157,12598.896453973077,7568.626562181628,6419.6147163025125,9017.190290013772,4521.055134788148,2839.72136617466,5968.6206619435525,10375.399706757691,5446.253715272448,6610.313549834676,15624.911877313489,8630.859347620986,10005.804257051626,3739.209722128464,7617.77914935221,33441.50213737673,4700.255575274772,10588.754009799715,14777.86248487002,8594.994431810052,1754.602121297811,16693.342475282112,1568.3627712804805,2177.5643226614725,4070.5469770025206,4940.331753221548,12651.269134413971,27438.506950466148,12124.637103027591,6795.659532738989,13442.794191202243,12202.718776805415,4313.546344615933,5747.248931252319,8816.980736161295,18116.74481253839,4052.718344108677,3978.7487700097895,16168.538303821842,8518.35059135282,6698.016611964587,9601.541793920162,7789.276502437711,3601.7555602258903,7159.696667657848,10326.844872912923,5616.7187130562,6659.734211405712,19212.330365022517,8606.863025888433,10241.591247482282,3361.377373375534,10942.912673215022,43976.74480780494,9470.11536578604,17431.00024689052,28968.99495717705,11709.074045691445,1617.2617602071807,19129.413279377583,2927.5681868398856,1431.0342577787,4104.329537968981,3759.759112372808,10930.724878591696,14180.162254456232,16492.042758050728,10713.494252478316,26547.712279787724,19837.19006801877,5667.6528236697495,3113.534640580798,6152.915651236827,13926.02773342354,3423.780538886019,4453.993787127596,12646.261192009457,11296.356057697518,6427.16893870984,9069.815753856985,4972.461563398383,2846.87078198732,6707.44848149032,10357.019973022158,5675.112590288503,6661.1061410544535,16809.72699337757,8535.881262378276,10547.681551613608,4181.176654693529,6894.049231128263,33069.84842324103,4595.213488230798,10595.756000613444,15018.619008570737,8968.734585660808,1897.2218601135748,17480.806806368844,1496.471806921398,2210.0489170922733,3920.9604416213983,5226.026740087919,12604.674291744484,26911.764483795585,12846.904489283066,6837.426788531556,13883.679704535984,12801.63973288676,4227.337731414886,5974.970526620275,6298.902583348354,18295.325363088083,3988.888648008383,4025.107469431638,13414.44115150669,8349.549307430136,6647.996798772942,9970.138027889969,4788.497623049934,2151.388842404019,6338.0041998358665,10973.19187017678,5737.769847855857,6598.397189821404,16747.961810278386,8022.49242478275,10764.82054053967,3951.05589736627,11090.993830801684,32810.6151080444,4523.73750909223,17630.587240358534,15506.838313797069,11727.340780608358,1774.0678537310262,17254.915351831914,1612.108206363847,1310.680043575997,4086.3921201915327,3723.4298601552296,11280.345992102675,13539.625443928317,12936.11083982867,6591.087653925203,13610.428503820189,12803.829374080073,4302.2820572541095,2856.2731407675374,5860.417788315803,13858.52880586986,3462.161627088044,4628.531142811973,12654.48979406819,7736.78558784463,6262.690781095032,8591.27193551866,5074.007875801923,2566.47656449294,6324.718099937768,11299.134057563422,5700.609430573589,6592.567889223772,16576.78966542329,8935.115893581162,11026.019309080884,3804.956642490955,7758.140555716876,32965.31371998703,4285.353090283406,10794.862285911637,16156.375603347184,8947.379462261228,2672.1832931917106,19631.382633660567,3005.9755856362303,2044.593969263944,6223.436430298077,4970.058627448416,13202.87303205849,27075.26117135399,16823.12084400219,10452.749754487124,27234.330405467197,20207.922387715636,5831.863149621965,5850.692953417054,9359.143125393886,18402.48714182014,4059.127819622588,5011.641405702095,17306.502955778345,11837.435667880904,13204.559609270533,12253.189044868344,7353.751835160046,3712.2324422611136,6422.722005160138,20447.91885565052,11236.657952811338,10138.288265701149,19023.817070668218,17395.964073898125,12241.244850136054,7055.584052658905,10766.816661030913,43881.24316112435,9760.262227908916,17415.548036455784,30221.216333678763,11808.504865608533,1619.745936235261,18308.04287853571,1684.11288798852,1373.1060603028557,4094.4044096391967,3669.2464243401614,11726.780279512135,14577.200188204846,13161.295615375098,6893.611068640922,12828.0751608699,13499.204402930856,4460.710566609791,2790.014560544753,6149.561590018278,14040.413687838674,3465.922430489848,4890.61006114954,12918.005568377934,8010.189891607686,6585.711021124267,9977.50042415084,5201.774824560624,3108.25785821902,7332.000291744742,11336.31244649349,5781.039593665262,6710.196115563607,17947.710972974437,8887.863000900046,10538.011161317369,3364.852902301014,7368.000689678449,33953.09521768266,4797.216793696945,10836.296853930424,15544.071555196948,9011.708528484063,1954.3577753321256,18244.405766339267,1575.8629571083518,2004.826229595352,3921.1892778195142,4839.861438536765,12806.841423330565,27693.0479625528,14140.15216424681,6880.790297918215,12914.691437620657,12900.376009869367,4389.91520248619,5759.318769086342,6229.158658420853,18275.326900982946,4110.163342186405,4430.578331303364,13434.676561699947,8090.947276778705,6555.445073220632,9964.26221344726,4981.07395190676,3756.760592822582,6175.004527323501,11411.921252066795,5601.161479484581,6618.527737424332,18640.40190112016,9030.42071615233,11582.15479944037,3845.2862895996577,11012.8788536091,33639.26065852084,4479.983993781068,18178.557373955933,16069.591638279542,11837.139804452405,1748.2307137447103,19858.0641804167,2962.844062272048,1202.2592413925793,4009.9131439618463,3803.5030298731167,11495.023832983246,15353.037162319646,18304.458429606373,11060.905131400928,26719.732457214446,20384.9262910859,6021.691553311081,2829.617249272644,6288.226838351311,13925.380131805665,3532.671964836888,4502.287318189712,12215.95409392409,12199.937406881474,6972.27539142305,10013.973416325458,5056.715388973901,3471.88524143829,7323.733329860061,11410.479327902556,5541.749723541425,6733.530674937556,17916.88052881078,9721.3729735979,10203.42584071483,3824.646388059882,7789.567525846568,34160.45944907066,4681.264751148598,11343.209689914222,16485.988805157092,9579.274901572064,1798.1588626695057,17572.6954047357,1647.2236603381964,2144.541036716792,3966.8969283220295,4913.473409069872,12893.353598791204,27105.43358044424,13377.05997646052,7467.290901719562,14043.686877415355,13149.939690947347,4486.324007971526,5818.798502333913,9946.96536098786,18413.03368083457,4098.854912564081,4441.101825202573,17675.2055195204,7861.989563060994,6555.1093201911,10872.877439367458,8346.901702340982,3165.013917255668,7669.18551810803,11022.64123404562,5506.524525365265,6569.444482718381,19865.84018460783,9554.958846887344,11343.2980658108,3675.190960479672,11238.679935180991,44626.98457106713,10119.514264092371,18514.637186101147,30830.99959347612,12704.888237105348,1660.1355323236853,18448.070521740898,1553.2520259639716,1492.127579812966,3810.298137017289,3778.612725810072,11698.920959412197,14069.063085403775,14067.254363732578,6687.584268722624,13421.28958211496,14081.588585639587,4417.624345639849,2851.61149618266,6679.963519348677,13940.478795678902,3401.606158334901,4461.413987514011,13935.483671507993,8595.043501238395,7004.200474576458,9559.362778398052,5121.8478752264255,2620.7935398992126,7807.073579606973,12016.929340798266,5570.120851592463,6731.162725915244,18171.24210041604,9024.811128614174,10423.017913632168,2422.1984033844424,8170.751587617808,33639.28542456062,5315.080902239314,11549.785347828536,16638.385360035885,9304.69671921089,2829.435206124307,20572.012876865,3011.51977171577,2018.7923237536136,6351.287027956169,5021.612398718504,13409.687967100968,27578.301741521944,17884.88920978653,11579.513498595756,26819.202177504358,21629.78773145016,5842.089128637453,5951.069320112658,6472.198626518914,18517.30283184137,4098.856678753812,5455.028143566631,14079.864845105294,11691.745886540177,13301.802753950376,14085.557652256715,4938.928245180311,3049.3768345260364,6196.69069920966,21993.224363258447,11354.956671933283,10073.734001330862,18628.99720813301,18409.886089579824,13802.396806271074,7216.702418891181,11195.069960213248,34215.697572866506,5463.851446791941,18633.11475424928,16827.76928085024,12325.046726379827,1748.8214360988725,19188.350601158178,1430.6946519105277,1312.343091338578,4034.189359207586,3938.330811720446,12062.175613136016,14491.722570363854,14117.703860691629,7206.853833428043,13761.81840552498,14158.542968278136,4585.984516173875,2896.702863119592,6473.500474695919,14409.164133918424,3484.0614061836814,4913.311770187364,13858.532259948615,8111.165783182407,6693.975396248017,9778.836853454608,5084.811686282944,3096.120260384964,7126.091799159999,11324.824462175937,5726.625850577438,6726.68034913905,20233.09658500844,9467.725649146458,11128.23840770759,3241.739485647556,7193.872795196574,33614.78681140239,5182.058315367049,11696.204326498366,17241.18445622931,9487.443304706794,1714.0913067827928,19169.39908019325,1596.4818409514944,2111.8769172919333,4076.919005921905,4819.313738672263,13068.636303338384,27940.082682749024,14768.188324051856,7301.293625196205,13370.972315561972,13065.934089720198,4499.344943917344,5817.356569484574,10074.52594098756,18389.313190236,3986.028652045562,4410.418672856111,18851.330546210345,8208.229686141389,6593.106560041379,11186.586547052351,8088.9341510398435,3396.7630312923848,7367.435743762669,11874.23727090495,5699.477543152742,6760.300346391654,20752.87883863999,9780.33479002824,12329.265022169744,2474.8225600120945,11395.204636731649,44828.51296110429,9990.513951570398,18948.412582765686,32141.00174737288,13028.558479374578,1887.8476251834568,21769.939462511866,2887.957662424795,1427.9033930004748,3818.984144188002,3697.721552996512,11900.741285561668,15277.522910734564,18986.896158355958,11079.891301698668,27469.179077394303,22825.39064898371,5759.478062899197,2953.1641410438547,6258.7580808184175,14388.112323028798,3437.8970153743558,5303.128520746238,13197.287829418272,11651.483354562368,6433.252259799198,10110.080558907668,4945.4053828927,4096.735789731578,7022.659328846709,11981.983190434405,5686.134826476772,6722.72706658754,19177.25704501204,10735.62777114654,12309.970763430278,1967.6244779485928,8010.610511434667,34350.358904910674,5404.597108926549,12551.396092350118,17324.524646729686,9365.659751670652,1642.6238081190843,19714.12115559484,1541.4504682114211,2152.78451324553,3990.2314583736343,5001.983720728923,13253.186818476615,28600.257487731287,15493.445361907552,7621.173140347106,14320.167802614234,13762.739146954618,4580.674122722907,5746.281385847725,6752.912843207825,19117.57323251179,4049.490154050378,4879.264088292714,15067.727053977937,8123.508063420609,6589.88734834318,10668.18213366174,4618.903983620655,3826.592917068657,6762.109927174943,12439.098486485827,5474.222849309036,6700.957710005392,19511.13331981068,9041.980155194313,11468.864864928362,2959.4331494353714,11020.889147757727,33920.97063562693,5317.276604319044,19135.16086151385,17485.784521396406,13735.694529300616,1865.7183451877763,19669.58334352767,1536.0414168064324,1490.8709454048414,4130.988432806045,3899.7507713091823,12059.78796849665,15088.219983591904,14505.406504088323,7564.8907610232,14241.306355593484,14388.675942603364,4432.353359311072,2934.6992707827267,7353.98423964349,14007.942549396545,3541.7389390505828,4778.188043649708,15253.576350106854,7730.604643423539,6751.2148611468665,11594.008580923828,4922.279032845721,3144.35117643208,6423.904629003491,12472.49106550481,5773.735891013028,6786.835768961551,19634.756811743664,10574.050232717862,11891.991734228724,3819.197131936076,8655.450192028815,34752.79706129126,5381.888137969793,12442.214945578586,17304.36723525129,10184.249140981188,2744.9065417855127,23063.227181535636,2932.931491314484,2032.3531189637088,6112.980904701622,4986.761634823719,13693.94343033429,28421.127961842976,19264.209235367965,12335.200280787303,27428.00416490504,22858.78800851577,5798.191086845263,5877.057705658864,10010.832283487618,18834.2288314469,4048.1290477042985,5307.035996928335,20081.72884025957,11771.628994500668,13669.930344905762,13885.58549382315,7636.457460400283,3142.1154996760606,6813.914046160662,22618.20596965147,11209.956485388451,9961.057717295573,22417.820593221804,19642.92540273736,13791.441868501828,7664.128080909276,11557.790521037265,45052.94982175568,10964.561276640234,19760.17532418841,33281.531847654405,13753.434110386388,1653.0679790549311,19952.438737402565,1491.6044736433023,1490.3244214317288,4099.140130528359,3617.155361875981,11552.276433613482,14558.236551261818,15023.74213556498,7991.461701845783,13111.948759119565,14368.972094901668,4439.932583913469,2897.9707979543523,6857.993047060297,14974.95574991493,3517.4712981129,4779.134462952829,16004.258213944782,8159.456517831727,7044.687120680595,11545.062379164778,5374.374395379165,3632.5829765006974,6045.19017159206,12530.666833063187,5681.556679554355,6674.985713039332,20792.87361439123,10758.918436040974,12333.484748414312,4634.9989822044045,7793.430675528378,35000.87677589165,5315.079770699125,13496.082315409942,18098.10903150957,10815.847859714537,1848.755189227422,20230.774418407884,1551.4564988103623,2212.7789475552604,4048.380580559602,4881.37615804584,13499.372458104275,29114.836795489548,15656.143565263512,7717.274019501099,13601.580940876263,15051.80853131528,4330.2144297861405,5958.733051954998,7545.469353561183,18812.442891441573,4068.9455166756256,4968.922523026267,14553.280238042447,7947.507274907724,6679.749854026075,10638.959477568116,4895.022826034933,3461.044764888461,5900.937642410911,12633.43629594289,5508.19834499324,6546.217003261545,19845.299181952192,10632.285629109503,12274.550270715134,4600.654091479577,11266.13926626983,34187.531498375545,6036.913233005904,20443.86999867769,18445.931768229875,13948.82130807478,1677.5771937903214,22004.342133658647,2823.936564045747,1302.03267046685,3903.946440034679,3661.1168767964064,11895.31891833577,14128.984177799266,20650.28802383256,12218.640893447551,27243.478483485625,23586.80608685067,5998.711953469072,3084.9335407269723,7284.989228280596,14222.267489676096,3341.5313830523305,5560.132881350286,14333.168476072931,12589.911369277856,6900.817297099361,11345.364878322896,5235.175062987084,3291.1826669420607,7186.257300784804,12714.77070569706,5481.889096555256,6709.646047064238,20029.54326566557,11556.152825296958,12771.646151209705,4236.21505798498,8388.004414139923,34881.38641792313,5565.949322296836,13537.506776565157,18485.52098534594,10011.76110581086,1845.1303492958705,20528.307641090687,1598.8600901142129,2245.9677336439777,4038.7537956720894,4769.138705420142,12875.6960641839,28282.77497040168,14893.279251575632,7853.986916678854,14278.851170377664,15740.90621400803,4366.438839519251,5790.088329952771,10616.528195551531,18735.684600662426,3922.499848352815,4706.32324188271,19997.561761622288,8723.498605681372,6733.999564197296,10920.383954890254,8309.976042542403,4224.657239409213,8240.114450398298,12965.068032754189,5587.174548985036,6544.306585753703,21953.16414202013,9945.559714829958,12204.47832060906,4602.4113743155485,10410.09713353518,45581.39304466634,11303.637550482896,21068.250373455056,34575.17090424776,13913.30562749186,1775.8598117577624,21215.980607681955,1523.4678346450223,1360.1878197844778,3708.941970814616,3873.402224173576,12187.275617792731,16071.964635316108,15353.361171046314,8262.248490150327,13989.104705594818,14633.843351580745,4540.015190183667,2855.3160923997,7088.500693103978,14269.031915449244,3370.0002902382284,5314.627875490026,15355.38063796912,8551.843200521369,6535.112493974234,11127.752977916352,5263.454662730978,2605.763673526886,7188.94805842681,13125.30910269592,5662.447430543966,6587.692079613743,20202.76641972617,11080.940137280126,10903.654787291996,3646.3842463175097,7310.182530442889,34854.1157177488,5760.714616396658,12977.649499322582,18740.824208566235,10755.161367560198,2661.1053049872394,22471.64182389233,2916.577609734917,2170.2659852409465,6152.103938187132,4774.113315869791,13675.861527942996,28063.54378331212,21088.849987159763,12646.923288766213,28078.764339165704,24300.87195489084,5878.656299144072,5986.391198255888,7219.089519363661,18890.19482031991,3949.4245658926448,5775.774491947318,15374.28869125939,12141.50138337042,13858.40721668262,15230.26021085612,5194.714702639532,4319.512133144777,6867.896552759571,24917.2633726422,11068.28923964295,9914.668240971723,21740.390067686298,21349.94343664067,15447.99617480863,8982.863966111718,12200.48142588429,35048.80030396932,6052.746262163592,20668.00156039649,18604.983005178376,14301.974498202946,1719.6661530417125,20513.32321318511,1533.9503063295797,1450.4865378213162,4035.092875819142,3694.099140546809,12197.230101809751,15625.176468935284,15877.81092173422,8628.205077849778,13772.965039212706,16469.30094163358,4305.165376612418,2952.7979648260543,7561.1766254269105,14735.251717568071,3357.2645177120653,5260.126406945723,16719.998185202512,8801.612064158086,6773.831522993531,12541.938269266851,5249.6923835445705,4189.30622600915,7404.850474272339,13197.600425083794,5622.020476257163,6659.599359190374,20153.759243537217,10901.45508343685,11744.667200846668,4161.004563291217,7314.584120877434,35489.08722612106,5732.915692225311,13164.053047630388,18813.354670654822,10897.852692630477,1842.142054507986,20639.480882564803,1479.0141407388162,2161.2089011854564,3954.395086281735,4796.299887519215,13645.352255455817,28015.22229369853,15680.111560850562,8541.5516823038,13585.603070913294,16221.74471674811,4496.673694319374,5846.362059821157,10924.05980912382,18810.31287184605,4274.39965905374,5369.357657304477,21058.574695297684,7621.485669562944,7029.122353305074,11202.795249273828,8154.257224808071,3473.8637212287745,7719.952659471718,13384.926860146685,5464.219528922812,6484.515658849668,23552.399676656903,9839.141723377566,13644.309670706703,4891.993218236487,11893.020554429257,46717.258612559126,11465.180492604464,20984.36234872714,36480.6871236942,14793.474210116665,1500.0573119313674,23560.20426649076,2988.0253931785,1216.3488027753706,4119.826569166042,3712.659474743833,12274.19970275403,14983.490974477543,21373.40967958896,12715.712980650133,27797.87031028029,23928.15830791385,5865.78472809413,2951.9994783418724,7046.733951409887,14713.658225456456,3462.7485256264763,6032.597284936313,15411.164588026706,11869.06125210482,6810.397043889647,12444.058891722603,5142.584167858649,4732.060215610054,6614.538340825254,13538.036894349389,5579.394515385099,6748.987348223962,21850.01693899148,10871.658061063636,13176.652242757678,3788.645475720005,8789.495245576096,35223.0123937653,5876.666101138914,13844.896546743808,19187.274521293373,11558.79924713536,1731.0642891279867,21331.56196692844,1520.4144265948144,2101.262586360584,3905.786956747111,4977.496683988615,13294.42175479402,28619.090600270836,17333.103923195762,8265.219254497912,14551.451293160224,16320.156805135248,4537.29975703175,5838.321417967293,7488.748815062758,19450.12336260103,3973.337609896701,5007.579108781273,16216.909070009868,8588.557376751822,6794.26470122067,12391.517565634627,5209.87726330761,2729.543926876028,7360.676865498709,13493.562513452134,5533.319728987759,6695.012376262809,21056.51259330048,10733.440513015184,13629.510486955442,4484.042687236709,11451.488427554512,34627.26022178368,6753.80479444224,21803.706085146758,19714.627155024777,14798.096821744526,1675.7582039967772,21732.32678277108,1624.8979652142311,1378.7700445667504,3955.121470076189,3847.965126210086,12424.140004684752,15749.559649532108,17546.78484839734,8210.220481209084,14442.935405416474,15033.087676341664,4428.434995817046,3052.696760137277,7411.36939437802,14614.694838034578,3300.461863925889,4724.258048162253,16665.101295776294,8361.949662172288,6828.205791530653,11934.201092244995,5593.49417329907,3692.9810550658167,7209.931606741385,13926.289191225726,5737.159489258897,6635.76042393484,21889.66440522463,10380.305071030292,13620.473422948098,3768.2080601388298,8015.64907131688,34595.09576573893,5751.445148842115,13904.090601157608,19416.62402813607,11651.154972343116,2904.893169550639,24272.01645791308,3041.6127305040022,2180.8003454771047,6208.908546662544,4873.9240715065935,13514.21415851877,28988.369741786297,23180.32526700093,13662.879545344023,27179.38141832417,25047.7615283372,5569.037123026888,5898.4585404873205,11556.448143063812,19370.10239650937,4056.862781858658,6359.505698884211,22001.56964143113,12028.246035241573,13977.663806272176,15489.3259475346,8288.947075175256,3244.9663180524817,8695.331571447208,25922.296890684866,11236.15948847671,10097.310199732616,25515.459962369147,21974.438758257893,17192.043372504097,10037.217169742136,11597.952195438416,46341.74958166992,12355.476911961838,21953.22638967855,37713.204651856766,15642.51770484522,1789.9923333101142,23181.45286776835,1583.9458447205425,1273.9091195326992,4044.236741290031,3653.889841777583,12458.074367406003,15129.053151993012,17686.78729135117,8712.041358529386,13788.240580142092,16465.249379128265,4373.213730607404,2945.1802235659475,7833.482291394101,15049.277477566362,3619.67909573898,5207.943922489238,16465.6402364919,8744.081707218556,7028.5007720216245,11996.647720272538,5881.045933938034,3019.895881848247,6373.663117687774,13540.058481448228,5588.984912961668,6629.109660712073,21545.179204846987,10282.29499841853,13095.297587910673,4119.613902723008,8144.336867750844,35275.165219222945,6386.496621974455,14292.796386769583,20334.3045845763,11632.20708760043,1810.1254862645253,22539.6583297952,1519.469107609538,2143.0955155621696,3965.300370511819,4768.293330038358,13594.70122167975,28673.72745654869,17047.6840026762,9007.29637797537,14107.795159312946,17131.016576924005,4429.22948300742,5847.212568316625,8135.554711488779,19588.43407282766,4085.087134232,5002.433671307779,16585.794362118297,8408.033084575254,6668.363238081907,11792.28367331583,5161.764121460204,3854.988620534086,7167.5247267562845,14192.940085443526,5668.394642239433,6467.255683722617,22470.823964584128,10655.244804446143,14741.732219722846,3527.463753830295,11825.406207068208,35685.06255135825,5869.081318900744,22524.744478087217,20067.5109186978,15631.127142095836,1795.3796846116843,25959.89310112068,3031.9107991222227,1489.4224144338218,4085.2866237563744,3744.0173925330855,12114.163527582956,14749.476216361534,22225.3827926074,13766.61067401985,28470.54049595572,27195.45822113752,6019.338649901265,2903.0212000706774,7960.825792226664,14673.060036687995,3294.108567806536,6059.976688763521,16853.762769746347,12461.932682686607,7126.177150602879,11930.255592208858,5168.890076369809,4074.757697272103,5076.006543076989,13942.86721250538,5533.882425019789,6606.826896668803,22043.396484863624,12671.308398545843,13976.916364564522,4942.109324856714,7340.972128434784,35494.566553484,6071.777635508225,15133.36888218914,20708.887938445445,11325.437404406444,1907.7715052269648,22525.938405992223,1472.837818199658,2131.4009348434074,4147.118586313453,4857.109190523953,13633.11195183431,29757.180692593447,16769.714344508175,8823.31584845712,14256.688747350358,16065.322347341447,4254.818010593091,5940.100283766898,12330.202507578964,19431.25208622877,3959.668934147384,6144.498075198083,22183.03655580427,8443.451301584768,6795.020615856435,12857.61781008345,8261.875645312157,4094.707781462848,8806.511344332728,14545.341015566128,5567.974705643082,6647.990608593913,24599.016033248798,10890.177225568856,14066.270471683089,4759.63704553162,11537.826915404756,46442.54311382867,11986.484576493742,23100.62655644891,39029.33296593104,15878.363943902415,1973.079707947304,21832.258340289434,1576.5811035249865,1468.2306505009044,3942.317840672168,3795.5203247426966,12329.553823554805,15433.824985067296,16817.162470387542,9089.21060970742,13648.106882121054,16841.69527986407,4366.535726434377,3021.302719309192,7781.459882274827,15073.999054308904,3376.769197218364,5221.276740134499,17196.795936611612,8415.798347281021,6709.301518945385,12496.472711868608,5172.054598220308,4540.322646871795,6479.225356671508,14420.741431621023,5746.582746197277,6568.973603606869,22292.179735680023,11415.282860718904,14733.992912623848,4965.298480744729,7450.914751041772,36057.89679705424,6123.286214475032,15097.926640400692,21192.56053898482,11521.684818014335,2865.8691667355547,26835.255142766506,3143.3911959151865,2207.0483155972647,6182.970378412035,4775.736923469835,13547.68820586747,29249.208219922635,23586.03693686058,13565.697338874688,28875.013126080463,26971.75487509836,5784.7963099697845,5788.454296557414,7613.000552077624,19530.09153448461,4058.1289185217775,6344.894853920903,17054.49242766883,12723.375952411512,14184.460371582005,17653.666880428496,4886.230873575265,2924.212586128096,7329.314954882509,27705.27558563994,11264.017429519,10073.189503894922,24409.35353942064,24086.58630647194,18082.329082717173,9196.966570278606,11906.695683779471,36427.33198210649,6348.675068081484,23306.122103609447,20615.75337518071,16142.300972616193,1574.8507371434232,23647.46169949461,1600.4772130242193,1290.424295295649,3919.146689761497,3978.610672313194,12539.393822332591,15674.410773564174,17645.10543346759,8895.321589332256,13630.606766692666,16993.826128242872,4484.016007965089,3016.371175596023,7965.690067854616,14876.159538519752,3496.2084544179693,5699.4706829694815,15404.502393822237,8600.881906260733,6931.836854158574,13193.04957554469,5670.073495287993,4348.933295718235,6398.88147373211,14688.309907291372,5637.202570211177,6854.7646942866,23162.09104403835,10369.458345871904,16017.1286485207,4169.513356946231,8243.335827426565,35450.009871990354,5952.164013886486,15367.125754623228,20463.51614797661,11650.878873092726,1783.4591103408775,23132.088153497843,1559.5795033241418,2096.9858987893404,3950.557289595052,5131.643450596771,14191.076254529991,29285.32793797813,16726.634009165664,9336.352208882488,14107.843068905422,18277.876283597805,4524.321807687947,5852.166164569657,11931.288025207736,19577.5603324442,3898.14453136541,5853.99122965956,23256.76283135992,8934.513323228748,6438.002192636754,13417.507289438478,8239.00336438561,4030.948791314873,7979.145981684005,14449.304125226485,5716.552054943886,6674.985621978196,27187.64006508549,11990.232388529448,13991.010149539188,3986.2516998531232,10792.568347683504,47180.673754286894,13261.627387131988,23930.50824670175,40007.52602490448,16095.446377543296,1787.1647509975585,27772.170815040827,2849.0617008449176,1393.8579332714726,3910.392706996132,3867.692337960416,12329.533056489294,15219.982244150317,23331.655500155128,14876.253838915136,28492.529316335316,27573.25297502684,5852.266972527582,2877.4462534300987,8348.628430579953,14949.056596010714,3346.401641241979,6372.996669890606,17969.48460619546,12661.640233525475,6952.3385738663455,13860.36975765514,4685.6963890499255,4480.656265733803,6656.062393606771,15337.34745959361,5583.071955298553,6789.146948529078,23118.13240786968,11475.074243898323,14291.283698735284,4199.916405930551,7859.158217398258,35277.975853543954,6773.42013448521,15845.374864557867,21619.88405538776,12315.878874095532,1752.6896553360075,24091.361166696428,1598.0952616957177,2291.9312876448184,3846.319011416132,5048.266190056153,13850.98125383533,29293.138651969264,18497.619286739224,9029.111995052115,14133.960658444916,17063.82707023878,4452.440128635428,5962.386956522573,8764.216858985912,19625.86503208064,3994.4323131494634,5743.086177397595,17168.53575113181,8252.899205645974,7082.539796781536,13916.943393641926,5595.510254052465,4658.066118215388,7075.90075586469,14548.817565110112,5539.550416815091,6640.926188167127,23828.637116994207,12874.65160161684,14970.690612999628,4009.0547643898526,11381.087888857284,35221.011619919605,6887.853678869382,24230.22776530341,21450.24118143365,16753.462772687373,1734.4781463289412,23955.221627239305,1386.285098430587,1359.2886122940536,3980.263034925405,3720.725971064621,12388.726509378725,15710.22309708582,19081.120842553737,10064.395012784216,14747.484692941413,18503.34051508304,4547.953551033336,3048.3626820651834,8206.949840266358,14705.42079901009,3459.0797891615603,5049.653907705087,18174.05744470332,8970.769197232567,7241.915002589284,13375.181495405765,5555.013566594847,3251.405741325531,7965.91161004644,15244.316506684878,5420.460188175511,6662.750877054083,24021.187831867504,12426.346340035709,14098.39898169684,4470.455731775875,7686.605762477308,35447.23160559357,6822.534853984067,15194.213462659223,21537.4462187141,12413.381588539416,2804.497743712376,28331.44878677667,3006.379518780472,2050.6681481301653,6143.617024767284,5014.595038018649,13809.845079366403,29653.876824359737,24557.48957018733,14055.013336399035,28471.244150689367,27694.39169015296,5724.12752511838,5666.547390924928,12758.029402357824,19325.1746490927,3938.0606197386624,6376.394559393704,23754.49877892472,12847.877950456548,14373.142924247855,16559.868554776334,8201.46978893119,4399.926068870609,7589.0399138851235,29000.25761902175,11315.970285038951,9986.425980475504,27226.40106692777,24294.89545686624,17587.28209945857,10234.101367255873,12014.654917637396,47495.24234188975,13703.352469425326,24481.54414110406,41902.60535676882,16576.73580218073,1956.6415390014288,24035.18738013804,1456.7547112278726,1444.709257100111,3922.4455601719073,3510.0950727069226,12699.58945832457,15062.549243734033,18775.362207500577,9330.79621553356,13948.817088689491,17423.8334886093,4519.408353489316,2983.2106414445448,8983.75390606768,15130.24393495306,3622.6527005022544,5720.861686623383,19419.00710164973,7258.829797367745,7192.002625318407,13335.625711802091,5208.252668087937,3499.106178227963,6329.365508010338,15009.410825645738,5657.7261977204535,6783.21264286462,24283.24362609556,12378.41191541323,14282.520500709812,4455.304328289208,7862.405287227442,36344.13206561237,6630.129416099761,15560.496793565062,21707.154415871977,12471.027957443242,1909.7524117564103,24036.73982198596,1484.3831963001755,2111.388765146704,3851.048337603855,4961.311586999003,14170.043029719523,29457.214462110245,19775.296254182365,9839.567483015604,13836.62597441224,17666.21923021529,4324.720281566484,5738.064482975048,8387.842989332767,19886.56910691389,4099.7622481922745,5914.974920962312,18971.40645326021,8558.661548321028,6848.470693387799,14497.564071387313,5381.613324848722,4370.243645157557,7586.637274140685,14811.93434307303,5537.722442641373,6661.633823336378,24877.862272697424,12621.93946995661,15422.062839697572,5770.258747626051,12295.531111365117,36010.69623714352,6550.954757058461,24611.97266732092,22522.100636646548,16740.771243280386,1693.2514431552588,28073.970613593046,3040.5975531014683,1254.9245637597571,3966.886413464203,3844.951340696901,12317.222877058128,15486.534301578306,25066.360884544763,14738.03362190251,28635.561588523466,29760.870508846438,5944.02492316646,2988.858401128361,9165.024532624651,15173.374042525202,3346.1697070154296,6844.778138363937,19922.26527130318,13218.6377889645,7346.971204963355,14752.6504582946,5079.870680210298,3996.405783738109,6508.955115648637,15601.840614486202,5589.221426923209,6822.056868041112,25940.982471557087,11624.759133438898,15277.712388777516,4573.168490673934,8474.80187288411,36515.19256800469,6435.988799914078,15948.492042167542,21937.86660406161,12124.133264029992,1748.2119588883163,25441.231577104096,1383.0902440667228,2160.6908679858075,3989.1953046373847,4964.481657780313,13884.827635105878,29504.53125991709,19450.44914712252,10007.687977097854,14871.227699955743,18346.775322408637,4478.147218664788,5804.422057162605,12713.24593401701,19603.38782561096,4118.358762977636,6329.800161784831,25892.37142193349,9153.198636200354,7048.512735678809,12645.713219229276,8619.70623601049,4325.246691932017,8412.992618907088,16256.132121986098,5676.9024252824665,6805.238224983867,27439.48738970853,12565.083184924968,15091.079577887684,5793.379352571675,12142.802982162117,47066.57411651356,13290.82279105442,25303.103276718077,43246.053656390526,16597.20386823274,1842.8436370588213,25853.80309810552,1613.9669406200364,1177.8056662743184,3905.665529177412,3741.6012812193785,12210.676826461304,15963.559148763765,18976.85549843816,10005.46764554073,14283.387090606144,19467.437910112527,4445.939077999127,2857.2601663239398,8408.750136226057,14951.72974568694,3304.7561022983514,6265.162896555939,19265.524089495444,8511.237248050473,7372.055698998703,14366.962495849371,5579.318348894509,4606.819585865916,6666.032029796324,15501.516003510833,5666.732048186382,6739.534713963304,26043.00568031556,13418.375637452164,16151.653552655413,4880.994840231761,7513.581299043789,35810.21461949518,7520.097141837624,16440.36523443664,23033.004392401766,12864.53401261602,2757.454985275239,28281.362127977085,3028.991140662583,2047.977879537161,6241.264584622401,5041.247736533085,14425.127626539828,29343.63813108765,26584.00323491446,16013.495996475109,28451.297515953414,27946.87503354158,5937.805589808361,5671.716395029569,9064.896500720224,20227.137299953152,4139.131034633193,7364.604408373775,19147.411323163768,12920.604206735105,14069.698655455082,18256.396868965174,5424.012939711385,5045.448490277955,7265.011699648858,29585.663852646405,11185.7150621697,9970.258666217263,24886.93025632484,25866.23382519757,18137.342220478684,11023.887345135265,12502.267577595338,35764.37737280445,6996.536688708839,25792.775846877445,22459.34290347868,17542.15671519198,1674.1840586185376,25970.63191433437,1508.8101725407655,1237.2567544839023,3948.166491067341,3782.6656594198594,12331.142060356398,15282.226236505065,19672.207876833854,9813.602465715225,14077.546436210288,20040.653969841074,4191.77434262802,2955.888532744987,8449.01054878688,15149.985142736188,3451.0728595646106,5992.829770453513,18404.013048366854,8593.832472486454,7224.055539452458,13787.815114756344,5572.421124498662,3690.082807796861,6309.428063872039,16077.17997174367,5784.312897052911,6819.626981590306,26917.611211681626,13578.40871796524,16640.668680974315,5119.8597190169385,7999.802422285479,36097.76177063473,6118.130335467684,16812.11180740045,23490.2999236476,13261.831352063078,1698.962332207452,26777.338306397945,1659.430465372893,2309.789633118057,4044.167203022214,5010.859197230207,14027.254874292856,29839.693754052954,19034.842128735552,9750.896759787414,14272.623377688236,19723.15151813579,4437.689095096027,5740.359434010462,14042.894293223078,19927.59501624991,4113.120466890219,6707.706390000384,26599.5863913177,8159.385282897433,7191.073450173457,14171.580659638308,8387.362758590367,3842.4661770593793,7203.4464262622,15317.132021142186,5552.516767056868,6593.755294702283,27298.753048352763,12992.670692522392,16888.556754201032,5534.106336035006,12413.913948715985,47649.24368385896,13981.874684767805,26460.313361934648,44090.93730642347,18491.384515896192,1631.7352851454546,27914.482238254463,3129.3429115567574,1453.9488566418408,3973.0463713485215,3569.811912268473,12942.04601942744,16651.68333589896,26643.62913674069,15744.99343540202,28773.488291484427,30602.02327336981,5877.035395251076,2802.941962695864,9327.36412437478,15237.177922754174,3590.913561655143,7307.351892814236,19676.23138384774,14051.800673817848,7023.233255675699,13255.98027755798,5317.898570698727,5061.427673164486,7058.107280612951,16185.882564235266,5495.563068649216,6869.394046417322,25698.03152510237,12112.895467004404,16259.810250120474,3588.907510646131,8052.960655897898,36773.48335192184,6743.133564844838,16793.913779236187,23548.057505283105,13971.09776279274,1769.1156201889432,25406.121151886757,1382.3215791270154,2295.592019654645,3858.420843277913,4984.018134847972,14339.193941861093,30685.109126848023,19888.07910818667,10352.539133024737,14859.656085859668,18599.248251619065,4363.021249233271,5841.770234271811,9196.739195691713,19675.422894309435,4132.15815770181,6187.182824887071,20317.673969730076,8242.881660594863,6651.989869872249,13202.506163985008,5325.997403026966,3890.431561690496,7604.086484288936,16741.973514149453,5618.057332376511,6560.891994793799,25797.686307740136,13305.23019493502,17040.645750397267,6782.436772183197,12079.35126935789,37035.58485728669,6575.768885760515,26422.45747475663,23315.91264168986,17962.22341231321,1663.8514026811415,27348.7879808542,1508.2982073550115,1357.603125731541,3845.390151564727,3848.14686875664,12641.371134623962,16402.164010156055,20710.99111209761,10722.158199484482,14037.48462136326,19194.215156340106,4480.799072655427,2868.866391765894,8863.713256651601,14795.132289776177,3606.057043346577,6085.417803521604,20368.636251079337,8713.8018856581,7308.331344165117,13182.127342221334,5632.187389925326,3989.29569191744,7242.832388998226,16296.276035300756,5466.035156611207,6720.059451594941,26827.63338252472,14166.59864594444,16732.018054786724,5141.009400481768,8205.373912532721,36278.18412489772,7262.943064796705,16490.267235689626,23964.81132034345,14106.82068755152,2919.917902099731,31584.710923359595,2975.087209898556,2066.3971454103944,6142.205092405549,4883.469267339575,14410.402931657864,30479.778224651847,25410.866611303787,16365.18299561526,28884.461392841346,30584.73681320788,5741.54816255872,5880.244249685301,14713.261122910584,20272.21680173861,4025.6237386669536,7793.790627034418,27397.25668196988,12326.730101517289,14373.747832530162,19855.47470163272,8249.452684264308,4790.243887271214,7808.411336641603,30625.01188120083,11441.86035702132,9973.708347050697,29210.385940566808,25788.006994643223,20994.92717954154,11515.821993931357,12689.680011374852,47977.39240324055,14349.375352624878,26354.907973436893,44676.49227341191,18518.57621866342,1830.186856604898,27186.199234112264,1529.8527406693202,1331.182772477221,3660.825863908336,3768.619533682044,12615.376488793823,15818.290399683248,20169.79092010613,10840.889006101272,14415.354430822015,19241.41144418056,4446.426207025295,2941.513191098767,9645.437689348728,15391.477325515943,3179.9216864178097,6222.343397977154,21275.629380828632,8401.172717195888,7087.417212556313,15339.982854052658,5065.149204126512,4093.684930675861,7430.243097139228,16512.15407975863,5600.930046088772,6608.078222473636,27039.76444919862,13465.370560330392,16871.072978305514,5558.949537468691,7610.8350998859905,36916.3207403836,7094.51185548929,16947.52923092383,24171.344661765237,14645.33235853824,1864.015448994675,26750.73264590846,1614.2466016033782,2233.27171658849,4124.564069160181,5040.589686396752,14404.335135548165,29715.48294609513,20646.47367274247,11235.702171080626,14500.587760858416,20920.196730424268,4375.491327392633,5876.495773990686,9099.620567628526,20058.695447422026,4033.8040796675,6939.186634458634,20463.066935817507,7985.842092717153,6662.982771550793,15048.106821186288,5528.406901177264,5508.142665179394,7556.92472559188,16656.668983942436,5738.871786480921,6773.304714661997,26779.619887475117,13529.598369853971,17016.063073184418,5562.754801862826,12167.137301642324,37058.71377293978,7652.428068045356,26316.833236425708,23842.874745329023,18560.879235768887,1800.566322917607,30700.50194877765,2914.493139454092,1416.1825782267051,4061.0115856870975,3895.966317130316,12617.436472076295,15674.443227844762,26939.31371139817,16391.156178043966,29468.76832278752,31743.60028323732,5764.163833788016,2908.114176649639,9741.883533509825,15128.910230026451,3234.540022938458,7712.890994330742,20841.88873073201,13448.967127613878,7275.00343819347,15481.346664003046,5138.184832195526,4132.725361170665,6997.403822440248,17080.896323480858,5761.930566640187,6464.897913825012,28072.92245952536,13358.040776056288,15436.228619201624,6349.631127415503,8580.051985156108,36415.24705252086,7399.326738760745,17112.07327787527,25089.642728448376,14912.324818153624,1625.1302745994378,28642.48493719797,1528.0938307205854,2223.2943325418155,3943.7883425657046,4775.947876089106,13573.794000364484,31032.6907342948,19332.33820634423,11257.509587610515,14435.694617886877,20469.867329269586,4319.763362093853,5905.267596981072,13293.79398362994,20401.645324944373,3997.00508273045,6889.033261589137,26442.948736365528,9068.301445144998,7521.143469630533,16040.65573990609,8287.558231229006,5020.099145378594,8206.431186554111,17006.64464094575,5573.93182182954,6512.258220015708,30927.636535521586,12053.52165716286,16981.16906257972,6566.771271758035,12560.379519333415,48318.59041217718,15211.711292781958,26927.20108864221,46916.55000508947,19331.238146318592,1908.316218589178,26968.74965006649,1551.8987089186194,1419.3922486472256,3984.4151870636897,3784.670313615823,12798.923819208132,15336.442176314806,20570.28331822272,11090.134840888351,14239.984912461316,20484.731160638275,4361.137752027762,2973.7201494143715,9199.62748918115,15257.567782125876,3464.243922656717,6969.486881690481,21504.900164194954,9361.724853257092,6762.2318398857005,15298.591689413164,5121.403862933837,3192.914635669624,6108.426185421288,16972.49791963027,5631.908897229232,6747.663513664966,27979.32935555371,16233.461251159626,17142.288456219347,4955.589824887347,7571.444008880998,37145.13219950807,7395.279145544377,17653.02721668267,25058.34187371354,13898.941355735184,2696.631510613545,30099.457482549784,2967.692535287992,2138.596092179549,6172.923640596824,4962.703023270414,14349.20732316808,30577.09383419532,27396.312108660102,17214.910739832798,29273.636094371403,32262.768634231543,5834.768209754756,5789.931317155676,9550.39256483207,20099.46040795094,3914.2857649326193,8096.53874235178,21300.69175294336,14108.574314028472,14789.392482287009,19368.53387774016,5685.13995026624,2857.1105646373767,7168.123071501749,32183.67660392517,11470.800681896037,9913.631711008373,27616.253710143566,27772.571904519245,20684.54653667873,9246.415954809125,11389.569588863822,36446.736634771696,7236.495929707749,27980.9004445162,24945.85273512486,18549.99845257298,1859.0176360973744,28494.601805554197,1664.273350157222,1467.7424799740488,4002.907022860813,3573.8493775127376,13059.036604582752,16069.321660010331,20284.728391406803,10927.205789802603,14576.948957679342,21539.96936221821,4571.895368574183,2826.137679198508,9276.00628916538,15506.789709270177,3374.556137896905,6179.60188992735,22287.36822769633,8341.928792010303,7419.640763697481,15865.15331289622,5266.597425553282,3931.986120923605,7023.121497702776,17023.60805595333,5747.999157216956,6685.505491200421,25773.7677805284,13643.686577032207,15448.53349554768,6306.637820629765,7918.396747112688,37153.908584457306,8078.752894810524,17957.89707353337,25384.704766593564,13976.378943291777,1690.04269933131,28321.90447774435,1637.1115329256334,1967.311756019232,3945.147534309297,4904.497988798252,14311.003400231508,29778.76127676477,21637.2850791456,11615.839943529743,14433.378989565266,21210.4416500225,4415.292385619746,5837.940948939683,15051.063881279406,20183.829879668072,4135.288881158519,6758.953496380807,28196.177241230493,8125.606108118407,6942.681584236752,14209.06151576402,8380.022608393732,3653.356127644709,7893.700519861101,17224.289384177926,5564.650610720808,6669.337281246724,32487.597545408604,14048.620186709284,15792.980418369556,5954.553348771563,11581.769502116778,49482.19216319537,15754.117999332222,28086.956138543235,47771.75145017048,19074.48171195664,1764.4108658361213,31283.410335928376,2871.58481540441,1626.146418267026,4146.358542509978,3852.495024283313,12704.250992726387,15691.319093595635,28905.943302668053,17503.760969677325,30046.136228185347,32631.54939221593,5839.863596574254,2891.1602648123567,9832.764754992551,15252.887634725688,3450.3487052221262,6966.888534467976,20842.783128489755,13529.468629433348,6956.824106842914,15148.1116917363,5907.800979432429,3966.502615345701,6714.298057768786,17405.482106304204,5557.435832312405,6507.830798136934,28924.115847854133,14008.869167866416,16392.11563056666,4198.329918120777,7738.712590064783,36708.50380886498,8246.918310936679,18032.301432923687,25712.031782438087,14505.931728453204,1909.60870926052,30742.096588682965,1410.9663922806567,2178.0302258150227,3991.8808618379135,4975.704340106513,13713.033563976407,29719.31251338674,21509.664426236057,11656.88400776972,15420.83413741328,21594.62806791641,4389.789881666712,5825.644448852564,9049.567476333816,20514.516926159704,3994.618153580291,7004.704504029842,20720.983720941284,9606.847625943805,7203.130938927373,15273.04574618639,5277.045550902491,4831.305151656104,7749.026488283306,17750.96899643088,5777.944359791343,6659.144739908788,28460.382072587698,15339.737756208742,18500.727290877094,5987.187709507946,12343.254249520744,36790.26008475324,7244.5577687632995,28531.65845272581,25371.5336749189,19299.607817562737,1711.7803166003891,29437.688482430705,1467.849686948097,1447.3225265864924,3816.625689940534,3764.424660444018,12856.376216751916,17202.640572014443,21228.09470663086,10782.979026443016,15790.665115250838,21960.736110395683,4457.764672914424,2945.187699158452,10275.7130517759,15742.35425220235,3563.3382409876103,6497.630524195468,20864.411716548948,9317.294706867528,6654.95713304397,18315.7234104063,5723.284484000242,4918.4992955014295,7859.343601049695,17333.22609678733,5594.394148087647,6652.131388852213,28946.424147850623,13676.570838981545,18896.61019512136,5705.281683880641,8216.313393648166,37256.79684691871,8486.043319488643,17571.174591984578,25667.578786350878,15043.303525293646],\"yaxis\":\"y\",\"type\":\"scattergl\"}],                        {\"template\":{\"data\":{\"bar\":[{\"error_x\":{\"color\":\"#2a3f5f\"},\"error_y\":{\"color\":\"#2a3f5f\"},\"marker\":{\"line\":{\"color\":\"#E5ECF6\",\"width\":0.5},\"pattern\":{\"fillmode\":\"overlay\",\"size\":10,\"solidity\":0.2}},\"type\":\"bar\"}],\"barpolar\":[{\"marker\":{\"line\":{\"color\":\"#E5ECF6\",\"width\":0.5},\"pattern\":{\"fillmode\":\"overlay\",\"size\":10,\"solidity\":0.2}},\"type\":\"barpolar\"}],\"carpet\":[{\"aaxis\":{\"endlinecolor\":\"#2a3f5f\",\"gridcolor\":\"white\",\"linecolor\":\"white\",\"minorgridcolor\":\"white\",\"startlinecolor\":\"#2a3f5f\"},\"baxis\":{\"endlinecolor\":\"#2a3f5f\",\"gridcolor\":\"white\",\"linecolor\":\"white\",\"minorgridcolor\":\"white\",\"startlinecolor\":\"#2a3f5f\"},\"type\":\"carpet\"}],\"choropleth\":[{\"colorbar\":{\"outlinewidth\":0,\"ticks\":\"\"},\"type\":\"choropleth\"}],\"contour\":[{\"colorbar\":{\"outlinewidth\":0,\"ticks\":\"\"},\"colorscale\":[[0.0,\"#0d0887\"],[0.1111111111111111,\"#46039f\"],[0.2222222222222222,\"#7201a8\"],[0.3333333333333333,\"#9c179e\"],[0.4444444444444444,\"#bd3786\"],[0.5555555555555556,\"#d8576b\"],[0.6666666666666666,\"#ed7953\"],[0.7777777777777778,\"#fb9f3a\"],[0.8888888888888888,\"#fdca26\"],[1.0,\"#f0f921\"]],\"type\":\"contour\"}],\"contourcarpet\":[{\"colorbar\":{\"outlinewidth\":0,\"ticks\":\"\"},\"type\":\"contourcarpet\"}],\"heatmap\":[{\"colorbar\":{\"outlinewidth\":0,\"ticks\":\"\"},\"colorscale\":[[0.0,\"#0d0887\"],[0.1111111111111111,\"#46039f\"],[0.2222222222222222,\"#7201a8\"],[0.3333333333333333,\"#9c179e\"],[0.4444444444444444,\"#bd3786\"],[0.5555555555555556,\"#d8576b\"],[0.6666666666666666,\"#ed7953\"],[0.7777777777777778,\"#fb9f3a\"],[0.8888888888888888,\"#fdca26\"],[1.0,\"#f0f921\"]],\"type\":\"heatmap\"}],\"heatmapgl\":[{\"colorbar\":{\"outlinewidth\":0,\"ticks\":\"\"},\"colorscale\":[[0.0,\"#0d0887\"],[0.1111111111111111,\"#46039f\"],[0.2222222222222222,\"#7201a8\"],[0.3333333333333333,\"#9c179e\"],[0.4444444444444444,\"#bd3786\"],[0.5555555555555556,\"#d8576b\"],[0.6666666666666666,\"#ed7953\"],[0.7777777777777778,\"#fb9f3a\"],[0.8888888888888888,\"#fdca26\"],[1.0,\"#f0f921\"]],\"type\":\"heatmapgl\"}],\"histogram\":[{\"marker\":{\"pattern\":{\"fillmode\":\"overlay\",\"size\":10,\"solidity\":0.2}},\"type\":\"histogram\"}],\"histogram2d\":[{\"colorbar\":{\"outlinewidth\":0,\"ticks\":\"\"},\"colorscale\":[[0.0,\"#0d0887\"],[0.1111111111111111,\"#46039f\"],[0.2222222222222222,\"#7201a8\"],[0.3333333333333333,\"#9c179e\"],[0.4444444444444444,\"#bd3786\"],[0.5555555555555556,\"#d8576b\"],[0.6666666666666666,\"#ed7953\"],[0.7777777777777778,\"#fb9f3a\"],[0.8888888888888888,\"#fdca26\"],[1.0,\"#f0f921\"]],\"type\":\"histogram2d\"}],\"histogram2dcontour\":[{\"colorbar\":{\"outlinewidth\":0,\"ticks\":\"\"},\"colorscale\":[[0.0,\"#0d0887\"],[0.1111111111111111,\"#46039f\"],[0.2222222222222222,\"#7201a8\"],[0.3333333333333333,\"#9c179e\"],[0.4444444444444444,\"#bd3786\"],[0.5555555555555556,\"#d8576b\"],[0.6666666666666666,\"#ed7953\"],[0.7777777777777778,\"#fb9f3a\"],[0.8888888888888888,\"#fdca26\"],[1.0,\"#f0f921\"]],\"type\":\"histogram2dcontour\"}],\"mesh3d\":[{\"colorbar\":{\"outlinewidth\":0,\"ticks\":\"\"},\"type\":\"mesh3d\"}],\"parcoords\":[{\"line\":{\"colorbar\":{\"outlinewidth\":0,\"ticks\":\"\"}},\"type\":\"parcoords\"}],\"pie\":[{\"automargin\":true,\"type\":\"pie\"}],\"scatter\":[{\"marker\":{\"colorbar\":{\"outlinewidth\":0,\"ticks\":\"\"}},\"type\":\"scatter\"}],\"scatter3d\":[{\"line\":{\"colorbar\":{\"outlinewidth\":0,\"ticks\":\"\"}},\"marker\":{\"colorbar\":{\"outlinewidth\":0,\"ticks\":\"\"}},\"type\":\"scatter3d\"}],\"scattercarpet\":[{\"marker\":{\"colorbar\":{\"outlinewidth\":0,\"ticks\":\"\"}},\"type\":\"scattercarpet\"}],\"scattergeo\":[{\"marker\":{\"colorbar\":{\"outlinewidth\":0,\"ticks\":\"\"}},\"type\":\"scattergeo\"}],\"scattergl\":[{\"marker\":{\"colorbar\":{\"outlinewidth\":0,\"ticks\":\"\"}},\"type\":\"scattergl\"}],\"scattermapbox\":[{\"marker\":{\"colorbar\":{\"outlinewidth\":0,\"ticks\":\"\"}},\"type\":\"scattermapbox\"}],\"scatterpolar\":[{\"marker\":{\"colorbar\":{\"outlinewidth\":0,\"ticks\":\"\"}},\"type\":\"scatterpolar\"}],\"scatterpolargl\":[{\"marker\":{\"colorbar\":{\"outlinewidth\":0,\"ticks\":\"\"}},\"type\":\"scatterpolargl\"}],\"scatterternary\":[{\"marker\":{\"colorbar\":{\"outlinewidth\":0,\"ticks\":\"\"}},\"type\":\"scatterternary\"}],\"surface\":[{\"colorbar\":{\"outlinewidth\":0,\"ticks\":\"\"},\"colorscale\":[[0.0,\"#0d0887\"],[0.1111111111111111,\"#46039f\"],[0.2222222222222222,\"#7201a8\"],[0.3333333333333333,\"#9c179e\"],[0.4444444444444444,\"#bd3786\"],[0.5555555555555556,\"#d8576b\"],[0.6666666666666666,\"#ed7953\"],[0.7777777777777778,\"#fb9f3a\"],[0.8888888888888888,\"#fdca26\"],[1.0,\"#f0f921\"]],\"type\":\"surface\"}],\"table\":[{\"cells\":{\"fill\":{\"color\":\"#EBF0F8\"},\"line\":{\"color\":\"white\"}},\"header\":{\"fill\":{\"color\":\"#C8D4E3\"},\"line\":{\"color\":\"white\"}},\"type\":\"table\"}]},\"layout\":{\"annotationdefaults\":{\"arrowcolor\":\"#2a3f5f\",\"arrowhead\":0,\"arrowwidth\":1},\"autotypenumbers\":\"strict\",\"coloraxis\":{\"colorbar\":{\"outlinewidth\":0,\"ticks\":\"\"}},\"colorscale\":{\"diverging\":[[0,\"#8e0152\"],[0.1,\"#c51b7d\"],[0.2,\"#de77ae\"],[0.3,\"#f1b6da\"],[0.4,\"#fde0ef\"],[0.5,\"#f7f7f7\"],[0.6,\"#e6f5d0\"],[0.7,\"#b8e186\"],[0.8,\"#7fbc41\"],[0.9,\"#4d9221\"],[1,\"#276419\"]],\"sequential\":[[0.0,\"#0d0887\"],[0.1111111111111111,\"#46039f\"],[0.2222222222222222,\"#7201a8\"],[0.3333333333333333,\"#9c179e\"],[0.4444444444444444,\"#bd3786\"],[0.5555555555555556,\"#d8576b\"],[0.6666666666666666,\"#ed7953\"],[0.7777777777777778,\"#fb9f3a\"],[0.8888888888888888,\"#fdca26\"],[1.0,\"#f0f921\"]],\"sequentialminus\":[[0.0,\"#0d0887\"],[0.1111111111111111,\"#46039f\"],[0.2222222222222222,\"#7201a8\"],[0.3333333333333333,\"#9c179e\"],[0.4444444444444444,\"#bd3786\"],[0.5555555555555556,\"#d8576b\"],[0.6666666666666666,\"#ed7953\"],[0.7777777777777778,\"#fb9f3a\"],[0.8888888888888888,\"#fdca26\"],[1.0,\"#f0f921\"]]},\"colorway\":[\"#636efa\",\"#EF553B\",\"#00cc96\",\"#ab63fa\",\"#FFA15A\",\"#19d3f3\",\"#FF6692\",\"#B6E880\",\"#FF97FF\",\"#FECB52\"],\"font\":{\"color\":\"#2a3f5f\"},\"geo\":{\"bgcolor\":\"white\",\"lakecolor\":\"white\",\"landcolor\":\"#E5ECF6\",\"showlakes\":true,\"showland\":true,\"subunitcolor\":\"white\"},\"hoverlabel\":{\"align\":\"left\"},\"hovermode\":\"closest\",\"mapbox\":{\"style\":\"light\"},\"paper_bgcolor\":\"white\",\"plot_bgcolor\":\"#E5ECF6\",\"polar\":{\"angularaxis\":{\"gridcolor\":\"white\",\"linecolor\":\"white\",\"ticks\":\"\"},\"bgcolor\":\"#E5ECF6\",\"radialaxis\":{\"gridcolor\":\"white\",\"linecolor\":\"white\",\"ticks\":\"\"}},\"scene\":{\"xaxis\":{\"backgroundcolor\":\"#E5ECF6\",\"gridcolor\":\"white\",\"gridwidth\":2,\"linecolor\":\"white\",\"showbackground\":true,\"ticks\":\"\",\"zerolinecolor\":\"white\"},\"yaxis\":{\"backgroundcolor\":\"#E5ECF6\",\"gridcolor\":\"white\",\"gridwidth\":2,\"linecolor\":\"white\",\"showbackground\":true,\"ticks\":\"\",\"zerolinecolor\":\"white\"},\"zaxis\":{\"backgroundcolor\":\"#E5ECF6\",\"gridcolor\":\"white\",\"gridwidth\":2,\"linecolor\":\"white\",\"showbackground\":true,\"ticks\":\"\",\"zerolinecolor\":\"white\"}},\"shapedefaults\":{\"line\":{\"color\":\"#2a3f5f\"}},\"ternary\":{\"aaxis\":{\"gridcolor\":\"white\",\"linecolor\":\"white\",\"ticks\":\"\"},\"baxis\":{\"gridcolor\":\"white\",\"linecolor\":\"white\",\"ticks\":\"\"},\"bgcolor\":\"#E5ECF6\",\"caxis\":{\"gridcolor\":\"white\",\"linecolor\":\"white\",\"ticks\":\"\"}},\"title\":{\"x\":0.05},\"xaxis\":{\"automargin\":true,\"gridcolor\":\"white\",\"linecolor\":\"white\",\"ticks\":\"\",\"title\":{\"standoff\":15},\"zerolinecolor\":\"white\",\"zerolinewidth\":2},\"yaxis\":{\"automargin\":true,\"gridcolor\":\"white\",\"linecolor\":\"white\",\"ticks\":\"\",\"title\":{\"standoff\":15},\"zerolinecolor\":\"white\",\"zerolinewidth\":2}}},\"xaxis\":{\"anchor\":\"y\",\"domain\":[0.0,1.0],\"title\":{\"text\":\"month\"}},\"yaxis\":{\"anchor\":\"x\",\"domain\":[0.0,1.0],\"title\":{\"text\":\"kg\"}},\"legend\":{\"title\":{\"text\":\"truffle_type\"},\"tracegroupgap\":0},\"margin\":{\"t\":60}},                        {\"responsive\": true}                    ).then(function(){\n                            \nvar gd = document.getElementById('73a5c92e-0c1a-4c3c-8ea4-60aa35c55eac');\nvar x = new MutationObserver(function (mutations, observer) {{\n        var display = window.getComputedStyle(gd).display;\n        if (!display || display === 'none') {{\n            console.log([gd, 'removed!']);\n            Plotly.purge(gd);\n            observer.disconnect();\n        }}\n}});\n\n// Listen for the removal of the full notebook cells\nvar notebookContainer = gd.closest('#notebook-container');\nif (notebookContainer) {{\n    x.observe(notebookContainer, {childList: true});\n}}\n\n// Listen for the clearing of the current output cell\nvar outputEl = gd.closest('.output');\nif (outputEl) {{\n    x.observe(outputEl, {childList: true});\n}}\n\n                        })                };                            </script>        </div>\n</body>\n</html>"
        },
        "metadata": {},
        "output_type": "display_data"
       }
      ]
     }
    },
    "cd755d8e299246859de92634b7de099a": {
     "model_module": "@jupyter-widgets/base",
     "model_module_version": "1.2.0",
     "model_name": "LayoutModel",
     "state": {
      "_model_module": "@jupyter-widgets/base",
      "_model_module_version": "1.2.0",
      "_model_name": "LayoutModel",
      "_view_count": null,
      "_view_module": "@jupyter-widgets/base",
      "_view_module_version": "1.2.0",
      "_view_name": "LayoutView",
      "align_content": null,
      "align_items": null,
      "align_self": null,
      "border": null,
      "bottom": null,
      "display": null,
      "flex": null,
      "flex_flow": null,
      "grid_area": null,
      "grid_auto_columns": null,
      "grid_auto_flow": null,
      "grid_auto_rows": null,
      "grid_column": null,
      "grid_gap": null,
      "grid_row": null,
      "grid_template_areas": null,
      "grid_template_columns": null,
      "grid_template_rows": null,
      "height": null,
      "justify_content": null,
      "justify_items": null,
      "left": null,
      "margin": null,
      "max_height": null,
      "max_width": null,
      "min_height": null,
      "min_width": null,
      "object_fit": null,
      "object_position": null,
      "order": null,
      "overflow": null,
      "overflow_x": null,
      "overflow_y": null,
      "padding": null,
      "right": null,
      "top": null,
      "visibility": null,
      "width": null
     }
    },
    "d8242022b6524c798c88bba5cb3a7558": {
     "model_module": "@jupyter-widgets/base",
     "model_module_version": "1.2.0",
     "model_name": "LayoutModel",
     "state": {
      "_model_module": "@jupyter-widgets/base",
      "_model_module_version": "1.2.0",
      "_model_name": "LayoutModel",
      "_view_count": null,
      "_view_module": "@jupyter-widgets/base",
      "_view_module_version": "1.2.0",
      "_view_name": "LayoutView",
      "align_content": null,
      "align_items": null,
      "align_self": null,
      "border": null,
      "bottom": null,
      "display": null,
      "flex": null,
      "flex_flow": null,
      "grid_area": null,
      "grid_auto_columns": null,
      "grid_auto_flow": null,
      "grid_auto_rows": null,
      "grid_column": null,
      "grid_gap": null,
      "grid_row": null,
      "grid_template_areas": null,
      "grid_template_columns": null,
      "grid_template_rows": null,
      "height": null,
      "justify_content": null,
      "justify_items": null,
      "left": null,
      "margin": null,
      "max_height": null,
      "max_width": null,
      "min_height": null,
      "min_width": null,
      "object_fit": null,
      "object_position": null,
      "order": null,
      "overflow": null,
      "overflow_x": null,
      "overflow_y": null,
      "padding": null,
      "right": null,
      "top": null,
      "visibility": null,
      "width": null
     }
    },
    "ef676b52851b46f1b64c1f5cab3fbd8d": {
     "model_module": "@jupyter-widgets/base",
     "model_module_version": "1.2.0",
     "model_name": "LayoutModel",
     "state": {
      "_model_module": "@jupyter-widgets/base",
      "_model_module_version": "1.2.0",
      "_model_name": "LayoutModel",
      "_view_count": null,
      "_view_module": "@jupyter-widgets/base",
      "_view_module_version": "1.2.0",
      "_view_name": "LayoutView",
      "align_content": null,
      "align_items": null,
      "align_self": null,
      "border": null,
      "bottom": null,
      "display": null,
      "flex": null,
      "flex_flow": null,
      "grid_area": null,
      "grid_auto_columns": null,
      "grid_auto_flow": null,
      "grid_auto_rows": null,
      "grid_column": null,
      "grid_gap": null,
      "grid_row": null,
      "grid_template_areas": null,
      "grid_template_columns": null,
      "grid_template_rows": null,
      "height": null,
      "justify_content": null,
      "justify_items": null,
      "left": null,
      "margin": null,
      "max_height": null,
      "max_width": null,
      "min_height": null,
      "min_width": null,
      "object_fit": null,
      "object_position": null,
      "order": null,
      "overflow": null,
      "overflow_x": null,
      "overflow_y": null,
      "padding": null,
      "right": null,
      "top": null,
      "visibility": null,
      "width": null
     }
    }
   }
  }
 },
 "nbformat": 4,
 "nbformat_minor": 4
}
