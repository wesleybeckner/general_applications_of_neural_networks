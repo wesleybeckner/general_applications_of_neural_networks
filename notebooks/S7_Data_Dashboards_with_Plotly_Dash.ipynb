{
  "nbformat": 4,
  "nbformat_minor": 0,
  "metadata": {
    "colab": {
      "name": "S7_Data_Dashboards_with_Plotly_Dash.ipynb",
      "provenance": [],
      "collapsed_sections": [],
      "toc_visible": true
    },
    "kernelspec": {
      "display_name": "Python (tunnel)",
      "language": "python",
      "name": "python3"
    },
    "language_info": {
      "codemirror_mode": {
        "name": "ipython",
        "version": 3
      },
      "file_extension": ".py",
      "mimetype": "text/x-python",
      "name": "python",
      "nbconvert_exporter": "python",
      "pygments_lexer": "ipython3",
      "version": "3.7.7"
    }
  },
  "cells": [
    {
      "cell_type": "markdown",
      "metadata": {
        "id": "vhe1yX4AMckE"
      },
      "source": [
        "# General Applications of Neural Networks <br> Session 7: Data Dashboards with Plotly Dash\n",
        "\n",
        "**Instructor**: Wesley Beckner\n",
        "\n",
        "**Contact**: wesleybeckner@gmail.com\n",
        "\n",
        "---\n",
        "\n",
        "<br>\n",
        "\n",
        "In this session we will turn our attention back to visualization! Specifically, we will use Plotly and Dash to put our visualizations into an interactive web format.\n",
        "\n",
        "<p align=center>\n",
        "<img src=\"https://images.prismic.io/plotly-marketing-website/db073c29-5cee-4f13-9adf-46dd136f45f4_ezgif.com-video-to-gif+%2811%29.gif?auto=compress,format\" width=600></img>\n",
        "</p>\n",
        "<br>\n",
        "\n",
        "---"
      ]
    },
    {
      "cell_type": "markdown",
      "metadata": {
        "id": "mNtJitcRW51Y"
      },
      "source": [
        "<a name='x.0'></a>\n",
        "\n",
        "## 7.0 Preparing Environment and Importing Data\n",
        "\n",
        "[back to top](#top)"
      ]
    },
    {
      "cell_type": "markdown",
      "metadata": {
        "id": "chdcBoBL8SNm"
      },
      "source": [
        "<a name='x.0.1'></a>\n",
        "\n",
        "### 7.0.1 Import Packages\n",
        "\n",
        "[back to top](#top)"
      ]
    },
    {
      "cell_type": "code",
      "metadata": {
        "colab": {
          "base_uri": "https://localhost:8080/"
        },
        "id": "9GwbnqIY23Uv",
        "outputId": "957a6afa-b4f6-4249-c281-473f55f5c983"
      },
      "source": [
        "!pip install jupyter-dash\n",
        "\n",
        "!pip install dash_daq"
      ],
      "execution_count": null,
      "outputs": [
        {
          "output_type": "stream",
          "text": [
            "Collecting jupyter-dash\n",
            "  Downloading https://files.pythonhosted.org/packages/46/21/d3893ad0b7a7061115938d6c38f5862522d45c4199fb7e8fde0765781e13/jupyter_dash-0.4.0-py3-none-any.whl\n",
            "Requirement already satisfied: ipython in /usr/local/lib/python3.7/dist-packages (from jupyter-dash) (5.5.0)\n",
            "Requirement already satisfied: requests in /usr/local/lib/python3.7/dist-packages (from jupyter-dash) (2.23.0)\n",
            "Requirement already satisfied: flask in /usr/local/lib/python3.7/dist-packages (from jupyter-dash) (1.1.4)\n",
            "Collecting dash\n",
            "\u001b[?25l  Downloading https://files.pythonhosted.org/packages/d4/50/e7c2830168db186f84b7de2988543e974433a6cdb0a0b23d51c781e2b2ab/dash-1.20.0.tar.gz (77kB)\n",
            "\u001b[K     |████████████████████████████████| 81kB 3.6MB/s \n",
            "\u001b[?25hRequirement already satisfied: retrying in /usr/local/lib/python3.7/dist-packages (from jupyter-dash) (1.3.3)\n",
            "Requirement already satisfied: ipykernel in /usr/local/lib/python3.7/dist-packages (from jupyter-dash) (4.10.1)\n",
            "Collecting ansi2html\n",
            "  Downloading https://files.pythonhosted.org/packages/c6/85/3a46be84afbb16b392a138cd396117f438c7b2e91d8dc327621d1ae1b5dc/ansi2html-1.6.0-py3-none-any.whl\n",
            "Requirement already satisfied: setuptools>=18.5 in /usr/local/lib/python3.7/dist-packages (from ipython->jupyter-dash) (57.0.0)\n",
            "Requirement already satisfied: simplegeneric>0.8 in /usr/local/lib/python3.7/dist-packages (from ipython->jupyter-dash) (0.8.1)\n",
            "Requirement already satisfied: pygments in /usr/local/lib/python3.7/dist-packages (from ipython->jupyter-dash) (2.6.1)\n",
            "Requirement already satisfied: decorator in /usr/local/lib/python3.7/dist-packages (from ipython->jupyter-dash) (4.4.2)\n",
            "Requirement already satisfied: pickleshare in /usr/local/lib/python3.7/dist-packages (from ipython->jupyter-dash) (0.7.5)\n",
            "Requirement already satisfied: pexpect; sys_platform != \"win32\" in /usr/local/lib/python3.7/dist-packages (from ipython->jupyter-dash) (4.8.0)\n",
            "Requirement already satisfied: prompt-toolkit<2.0.0,>=1.0.4 in /usr/local/lib/python3.7/dist-packages (from ipython->jupyter-dash) (1.0.18)\n",
            "Requirement already satisfied: traitlets>=4.2 in /usr/local/lib/python3.7/dist-packages (from ipython->jupyter-dash) (5.0.5)\n",
            "Requirement already satisfied: idna<3,>=2.5 in /usr/local/lib/python3.7/dist-packages (from requests->jupyter-dash) (2.10)\n",
            "Requirement already satisfied: certifi>=2017.4.17 in /usr/local/lib/python3.7/dist-packages (from requests->jupyter-dash) (2020.12.5)\n",
            "Requirement already satisfied: chardet<4,>=3.0.2 in /usr/local/lib/python3.7/dist-packages (from requests->jupyter-dash) (3.0.4)\n",
            "Requirement already satisfied: urllib3!=1.25.0,!=1.25.1,<1.26,>=1.21.1 in /usr/local/lib/python3.7/dist-packages (from requests->jupyter-dash) (1.24.3)\n",
            "Requirement already satisfied: Jinja2<3.0,>=2.10.1 in /usr/local/lib/python3.7/dist-packages (from flask->jupyter-dash) (2.11.3)\n",
            "Requirement already satisfied: itsdangerous<2.0,>=0.24 in /usr/local/lib/python3.7/dist-packages (from flask->jupyter-dash) (1.1.0)\n",
            "Requirement already satisfied: click<8.0,>=5.1 in /usr/local/lib/python3.7/dist-packages (from flask->jupyter-dash) (7.1.2)\n",
            "Requirement already satisfied: Werkzeug<2.0,>=0.15 in /usr/local/lib/python3.7/dist-packages (from flask->jupyter-dash) (1.0.1)\n",
            "Collecting flask-compress\n",
            "  Downloading https://files.pythonhosted.org/packages/c6/d5/69b13600230d24310b98a52da561113fc01a5c17acf77152761eef3e50f1/Flask_Compress-1.9.0-py3-none-any.whl\n",
            "Requirement already satisfied: plotly in /usr/local/lib/python3.7/dist-packages (from dash->jupyter-dash) (4.4.1)\n",
            "Collecting dash_renderer==1.9.1\n",
            "\u001b[?25l  Downloading https://files.pythonhosted.org/packages/5f/d3/d661a68b4ce71498d5c0c79617bce3d5fc884d4448c698f77c2247cd1b46/dash_renderer-1.9.1.tar.gz (1.0MB)\n",
            "\u001b[K     |████████████████████████████████| 1.0MB 7.4MB/s \n",
            "\u001b[?25hCollecting dash-core-components==1.16.0\n",
            "\u001b[?25l  Downloading https://files.pythonhosted.org/packages/f4/79/434e14d77dbf82b27f98df077936a424de254059d47152b0445b7116e97e/dash_core_components-1.16.0.tar.gz (3.5MB)\n",
            "\u001b[K     |████████████████████████████████| 3.5MB 13.2MB/s \n",
            "\u001b[?25hCollecting dash-html-components==1.1.3\n",
            "\u001b[?25l  Downloading https://files.pythonhosted.org/packages/8f/ca/7eeca4cae4e15cc6f7d0bc41a46368dd3fcdddc72aaa5bac61a8b92d541c/dash_html_components-1.1.3.tar.gz (82kB)\n",
            "\u001b[K     |████████████████████████████████| 92kB 9.1MB/s \n",
            "\u001b[?25hCollecting dash-table==4.11.3\n",
            "\u001b[?25l  Downloading https://files.pythonhosted.org/packages/97/f7/f4969a926f20a55d3e5970d01b85ff9ad510dba32de189e72dd8f4992740/dash_table-4.11.3.tar.gz (1.8MB)\n",
            "\u001b[K     |████████████████████████████████| 1.8MB 38.1MB/s \n",
            "\u001b[?25hRequirement already satisfied: future in /usr/local/lib/python3.7/dist-packages (from dash->jupyter-dash) (0.16.0)\n",
            "Requirement already satisfied: six>=1.7.0 in /usr/local/lib/python3.7/dist-packages (from retrying->jupyter-dash) (1.15.0)\n",
            "Requirement already satisfied: jupyter-client in /usr/local/lib/python3.7/dist-packages (from ipykernel->jupyter-dash) (5.3.5)\n",
            "Requirement already satisfied: tornado>=4.0 in /usr/local/lib/python3.7/dist-packages (from ipykernel->jupyter-dash) (5.1.1)\n",
            "Requirement already satisfied: ptyprocess>=0.5 in /usr/local/lib/python3.7/dist-packages (from pexpect; sys_platform != \"win32\"->ipython->jupyter-dash) (0.7.0)\n",
            "Requirement already satisfied: wcwidth in /usr/local/lib/python3.7/dist-packages (from prompt-toolkit<2.0.0,>=1.0.4->ipython->jupyter-dash) (0.2.5)\n",
            "Requirement already satisfied: ipython-genutils in /usr/local/lib/python3.7/dist-packages (from traitlets>=4.2->ipython->jupyter-dash) (0.2.0)\n",
            "Requirement already satisfied: MarkupSafe>=0.23 in /usr/local/lib/python3.7/dist-packages (from Jinja2<3.0,>=2.10.1->flask->jupyter-dash) (2.0.1)\n",
            "Collecting brotli\n",
            "\u001b[?25l  Downloading https://files.pythonhosted.org/packages/15/ea/5bd575511b37bbd1c794606a0a621e6feff8e96b7dd007a86a5d218b2d94/Brotli-1.0.9-cp37-cp37m-manylinux1_x86_64.whl (357kB)\n",
            "\u001b[K     |████████████████████████████████| 358kB 34.7MB/s \n",
            "\u001b[?25hRequirement already satisfied: pyzmq>=13 in /usr/local/lib/python3.7/dist-packages (from jupyter-client->ipykernel->jupyter-dash) (22.0.3)\n",
            "Requirement already satisfied: jupyter-core>=4.6.0 in /usr/local/lib/python3.7/dist-packages (from jupyter-client->ipykernel->jupyter-dash) (4.7.1)\n",
            "Requirement already satisfied: python-dateutil>=2.1 in /usr/local/lib/python3.7/dist-packages (from jupyter-client->ipykernel->jupyter-dash) (2.8.1)\n",
            "Building wheels for collected packages: dash, dash-renderer, dash-core-components, dash-html-components, dash-table\n",
            "  Building wheel for dash (setup.py) ... \u001b[?25l\u001b[?25hdone\n",
            "  Created wheel for dash: filename=dash-1.20.0-cp37-none-any.whl size=85845 sha256=5e3c6abd8291a29081382e3dafb1d448842f0c0f24319c4550a9ab77cf398869\n",
            "  Stored in directory: /root/.cache/pip/wheels/e6/33/41/ce361d0d1da277d2350f815b10f2ab1e331592d93ef2b07e29\n",
            "  Building wheel for dash-renderer (setup.py) ... \u001b[?25l\u001b[?25hdone\n",
            "  Created wheel for dash-renderer: filename=dash_renderer-1.9.1-cp37-none-any.whl size=1014873 sha256=e8718c0db14919960665fa1499401a53694d379c2a4473dcc71a272029c0229f\n",
            "  Stored in directory: /root/.cache/pip/wheels/03/a9/c5/dd5815c601b0ede164c223ffd7bafebde716ca57de06ef8aec\n",
            "  Building wheel for dash-core-components (setup.py) ... \u001b[?25l\u001b[?25hdone\n",
            "  Created wheel for dash-core-components: filename=dash_core_components-1.16.0-cp37-none-any.whl size=3540992 sha256=d75a4ff62365b12450afcd2457d72eb2675bc2c5633af639000a4f8f1a1fa764\n",
            "  Stored in directory: /root/.cache/pip/wheels/86/1e/8c/e87ebba30b73c20dcd641224274febc983af88ed0fd7712a07\n",
            "  Building wheel for dash-html-components (setup.py) ... \u001b[?25l\u001b[?25hdone\n",
            "  Created wheel for dash-html-components: filename=dash_html_components-1.1.3-cp37-none-any.whl size=319488 sha256=8b940827400852cd5b9b16d3bd1e13d3d1e20f67218487d842c80a2b379d7071\n",
            "  Stored in directory: /root/.cache/pip/wheels/07/f9/6c/f9b73a6ae1b7f347a92dc240293cebc267b370ba2a80added2\n",
            "  Building wheel for dash-table (setup.py) ... \u001b[?25l\u001b[?25hdone\n",
            "  Created wheel for dash-table: filename=dash_table-4.11.3-cp37-none-any.whl size=1827623 sha256=1e5ce38d3d20c56f9a7f327e7cbdeea746976e593690fc71f1f5ec6575496021\n",
            "  Stored in directory: /root/.cache/pip/wheels/51/9b/89/374be1bc250e28a15edbd657cf364f163e392ba5257bfd0e87\n",
            "Successfully built dash dash-renderer dash-core-components dash-html-components dash-table\n",
            "Installing collected packages: brotli, flask-compress, dash-renderer, dash-core-components, dash-html-components, dash-table, dash, ansi2html, jupyter-dash\n",
            "Successfully installed ansi2html-1.6.0 brotli-1.0.9 dash-1.20.0 dash-core-components-1.16.0 dash-html-components-1.1.3 dash-renderer-1.9.1 dash-table-4.11.3 flask-compress-1.9.0 jupyter-dash-0.4.0\n",
            "Collecting dash_daq\n",
            "\u001b[?25l  Downloading https://files.pythonhosted.org/packages/16/c1/9c6adfc3646990965a5b2ca073f579cc9c09d15553fcfcd83aefd1255494/dash_daq-0.5.0.tar.gz (642kB)\n",
            "\u001b[K     |████████████████████████████████| 645kB 4.2MB/s \n",
            "\u001b[?25hRequirement already satisfied: dash>=1.6.1 in /usr/local/lib/python3.7/dist-packages (from dash_daq) (1.20.0)\n",
            "Requirement already satisfied: Flask>=1.0.4 in /usr/local/lib/python3.7/dist-packages (from dash>=1.6.1->dash_daq) (1.1.4)\n",
            "Requirement already satisfied: dash-html-components==1.1.3 in /usr/local/lib/python3.7/dist-packages (from dash>=1.6.1->dash_daq) (1.1.3)\n",
            "Requirement already satisfied: dash-table==4.11.3 in /usr/local/lib/python3.7/dist-packages (from dash>=1.6.1->dash_daq) (4.11.3)\n",
            "Requirement already satisfied: flask-compress in /usr/local/lib/python3.7/dist-packages (from dash>=1.6.1->dash_daq) (1.9.0)\n",
            "Requirement already satisfied: future in /usr/local/lib/python3.7/dist-packages (from dash>=1.6.1->dash_daq) (0.16.0)\n",
            "Requirement already satisfied: plotly in /usr/local/lib/python3.7/dist-packages (from dash>=1.6.1->dash_daq) (4.4.1)\n",
            "Requirement already satisfied: dash-core-components==1.16.0 in /usr/local/lib/python3.7/dist-packages (from dash>=1.6.1->dash_daq) (1.16.0)\n",
            "Requirement already satisfied: dash-renderer==1.9.1 in /usr/local/lib/python3.7/dist-packages (from dash>=1.6.1->dash_daq) (1.9.1)\n",
            "Requirement already satisfied: itsdangerous<2.0,>=0.24 in /usr/local/lib/python3.7/dist-packages (from Flask>=1.0.4->dash>=1.6.1->dash_daq) (1.1.0)\n",
            "Requirement already satisfied: Werkzeug<2.0,>=0.15 in /usr/local/lib/python3.7/dist-packages (from Flask>=1.0.4->dash>=1.6.1->dash_daq) (1.0.1)\n",
            "Requirement already satisfied: Jinja2<3.0,>=2.10.1 in /usr/local/lib/python3.7/dist-packages (from Flask>=1.0.4->dash>=1.6.1->dash_daq) (2.11.3)\n",
            "Requirement already satisfied: click<8.0,>=5.1 in /usr/local/lib/python3.7/dist-packages (from Flask>=1.0.4->dash>=1.6.1->dash_daq) (7.1.2)\n",
            "Requirement already satisfied: brotli in /usr/local/lib/python3.7/dist-packages (from flask-compress->dash>=1.6.1->dash_daq) (1.0.9)\n",
            "Requirement already satisfied: retrying>=1.3.3 in /usr/local/lib/python3.7/dist-packages (from plotly->dash>=1.6.1->dash_daq) (1.3.3)\n",
            "Requirement already satisfied: six in /usr/local/lib/python3.7/dist-packages (from plotly->dash>=1.6.1->dash_daq) (1.15.0)\n",
            "Requirement already satisfied: MarkupSafe>=0.23 in /usr/local/lib/python3.7/dist-packages (from Jinja2<3.0,>=2.10.1->Flask>=1.0.4->dash>=1.6.1->dash_daq) (2.0.1)\n",
            "Building wheels for collected packages: dash-daq\n",
            "  Building wheel for dash-daq (setup.py) ... \u001b[?25l\u001b[?25hdone\n",
            "  Created wheel for dash-daq: filename=dash_daq-0.5.0-cp37-none-any.whl size=669715 sha256=adea8b7fc20afaee7842ce0128ed6b5cffa018c96303aa7898e371cb19626499\n",
            "  Stored in directory: /root/.cache/pip/wheels/1c/9c/f7/84731716eaa9fc952cdbdd1f87df3ca9b8805c317c609efcd6\n",
            "Successfully built dash-daq\n",
            "Installing collected packages: dash-daq\n",
            "Successfully installed dash-daq-0.5.0\n"
          ],
          "name": "stdout"
        }
      ]
    },
    {
      "cell_type": "code",
      "metadata": {
        "id": "AcEC0dmupko3"
      },
      "source": [
        "import pandas as pd\n",
        "import numpy as np\n",
        "import plotly.express as px\n",
        "from jupyter_dash import JupyterDash\n",
        "import dash_core_components as dcc\n",
        "import dash_html_components as html\n",
        "import dash_daq as daq\n",
        "\n",
        "from dash.dependencies import Input, Output\n",
        "import plotly.graph_objects as go\n",
        "import plotly.express as px\n",
        "from itertools import cycle"
      ],
      "execution_count": null,
      "outputs": []
    },
    {
      "cell_type": "markdown",
      "metadata": {
        "id": "R7vDY-8U8SWd"
      },
      "source": [
        "<a name='x.0.2'></a>\n",
        "\n",
        "### 7.0.2 Load Dataset\n",
        "\n",
        "[back to top](#top)"
      ]
    },
    {
      "cell_type": "code",
      "metadata": {
        "colab": {
          "base_uri": "https://localhost:8080/",
          "height": 204
        },
        "id": "JBdyohv9pl10",
        "outputId": "b2fae881-5f5e-40f5-c8ec-8e6076c26c0c"
      },
      "source": [
        "margin = pd.read_csv(\"https://raw.githubusercontent.com/wesleybeckner/ds_for_engineers/main/data/truffle_margin/truffle_margin_customer.csv\")\n",
        "margin.head()"
      ],
      "execution_count": null,
      "outputs": [
        {
          "output_type": "execute_result",
          "data": {
            "text/html": [
              "<div>\n",
              "<style scoped>\n",
              "    .dataframe tbody tr th:only-of-type {\n",
              "        vertical-align: middle;\n",
              "    }\n",
              "\n",
              "    .dataframe tbody tr th {\n",
              "        vertical-align: top;\n",
              "    }\n",
              "\n",
              "    .dataframe thead th {\n",
              "        text-align: right;\n",
              "    }\n",
              "</style>\n",
              "<table border=\"1\" class=\"dataframe\">\n",
              "  <thead>\n",
              "    <tr style=\"text-align: right;\">\n",
              "      <th></th>\n",
              "      <th>Base Cake</th>\n",
              "      <th>Truffle Type</th>\n",
              "      <th>Primary Flavor</th>\n",
              "      <th>Secondary Flavor</th>\n",
              "      <th>Color Group</th>\n",
              "      <th>Customer</th>\n",
              "      <th>Date</th>\n",
              "      <th>KG</th>\n",
              "      <th>EBITDA/KG</th>\n",
              "    </tr>\n",
              "  </thead>\n",
              "  <tbody>\n",
              "    <tr>\n",
              "      <th>0</th>\n",
              "      <td>Butter</td>\n",
              "      <td>Candy Outer</td>\n",
              "      <td>Butter Pecan</td>\n",
              "      <td>Toffee</td>\n",
              "      <td>Taupe</td>\n",
              "      <td>Slugworth</td>\n",
              "      <td>1/2020</td>\n",
              "      <td>53770.342593</td>\n",
              "      <td>0.500424</td>\n",
              "    </tr>\n",
              "    <tr>\n",
              "      <th>1</th>\n",
              "      <td>Butter</td>\n",
              "      <td>Candy Outer</td>\n",
              "      <td>Ginger Lime</td>\n",
              "      <td>Banana</td>\n",
              "      <td>Amethyst</td>\n",
              "      <td>Slugworth</td>\n",
              "      <td>1/2020</td>\n",
              "      <td>466477.578125</td>\n",
              "      <td>0.220395</td>\n",
              "    </tr>\n",
              "    <tr>\n",
              "      <th>2</th>\n",
              "      <td>Butter</td>\n",
              "      <td>Candy Outer</td>\n",
              "      <td>Ginger Lime</td>\n",
              "      <td>Banana</td>\n",
              "      <td>Burgundy</td>\n",
              "      <td>Perk-a-Cola</td>\n",
              "      <td>1/2020</td>\n",
              "      <td>80801.728070</td>\n",
              "      <td>0.171014</td>\n",
              "    </tr>\n",
              "    <tr>\n",
              "      <th>3</th>\n",
              "      <td>Butter</td>\n",
              "      <td>Candy Outer</td>\n",
              "      <td>Ginger Lime</td>\n",
              "      <td>Banana</td>\n",
              "      <td>White</td>\n",
              "      <td>Fickelgruber</td>\n",
              "      <td>1/2020</td>\n",
              "      <td>18046.111111</td>\n",
              "      <td>0.233025</td>\n",
              "    </tr>\n",
              "    <tr>\n",
              "      <th>4</th>\n",
              "      <td>Butter</td>\n",
              "      <td>Candy Outer</td>\n",
              "      <td>Ginger Lime</td>\n",
              "      <td>Rum</td>\n",
              "      <td>Amethyst</td>\n",
              "      <td>Fickelgruber</td>\n",
              "      <td>1/2020</td>\n",
              "      <td>19147.454268</td>\n",
              "      <td>0.480689</td>\n",
              "    </tr>\n",
              "  </tbody>\n",
              "</table>\n",
              "</div>"
            ],
            "text/plain": [
              "  Base Cake Truffle Type Primary Flavor  ...    Date             KG EBITDA/KG\n",
              "0    Butter  Candy Outer   Butter Pecan  ...  1/2020   53770.342593  0.500424\n",
              "1    Butter  Candy Outer    Ginger Lime  ...  1/2020  466477.578125  0.220395\n",
              "2    Butter  Candy Outer    Ginger Lime  ...  1/2020   80801.728070  0.171014\n",
              "3    Butter  Candy Outer    Ginger Lime  ...  1/2020   18046.111111  0.233025\n",
              "4    Butter  Candy Outer    Ginger Lime  ...  1/2020   19147.454268  0.480689\n",
              "\n",
              "[5 rows x 9 columns]"
            ]
          },
          "metadata": {
            "tags": []
          },
          "execution_count": 3
        }
      ]
    },
    {
      "cell_type": "markdown",
      "metadata": {
        "id": "062Czp9-rBOi"
      },
      "source": [
        "<a name='x.1'></a>\n",
        "\n",
        "## 7.1 Layout\n",
        "\n",
        "[back to top](#top)"
      ]
    },
    {
      "cell_type": "markdown",
      "metadata": {
        "id": "lPKG1QnNIq_l"
      },
      "source": [
        "<a name='x.1.1'></a>\n",
        "\n",
        "### 7.1.1 app.layout\n",
        "\n",
        "[back to top](#top)\n",
        "\n",
        "The simplest dash app needs a layout to be set. This will store all the juicy bits that orient our plot objects (think kind of like what the fig was in fig, ax with pyplot!)\n",
        "\n",
        "We start by importing our core library and components libraries (more on this in a moment)"
      ]
    },
    {
      "cell_type": "code",
      "metadata": {
        "id": "1XaYCnwZ905Y"
      },
      "source": [
        "from jupyter_dash import JupyterDash\n",
        "import dash_core_components as dcc\n",
        "import dash_html_components as html"
      ],
      "execution_count": null,
      "outputs": []
    },
    {
      "cell_type": "code",
      "metadata": {
        "colab": {
          "base_uri": "https://localhost:8080/",
          "height": 671
        },
        "id": "76iC1ExwpM7O",
        "outputId": "b6eb91cd-f598-4c6f-c2c3-15ccfaead3c9"
      },
      "source": [
        "app = JupyterDash() # when using ahem, real dash, this will be\n",
        "# app = Dash()\n",
        "\n",
        "app.layout = html.Div([\"Hello World!\"])\n",
        "                  \n",
        "app.run_server(mode='inline')"
      ],
      "execution_count": null,
      "outputs": [
        {
          "output_type": "display_data",
          "data": {
            "application/javascript": [
              "(async (port, path, width, height, cache, element) => {\n",
              "    if (!google.colab.kernel.accessAllowed && !cache) {\n",
              "      return;\n",
              "    }\n",
              "    element.appendChild(document.createTextNode(''));\n",
              "    const url = await google.colab.kernel.proxyPort(port, {cache});\n",
              "    const iframe = document.createElement('iframe');\n",
              "    iframe.src = new URL(path, url).toString();\n",
              "    iframe.height = height;\n",
              "    iframe.width = width;\n",
              "    iframe.style.border = 0;\n",
              "    element.appendChild(iframe);\n",
              "  })(8050, \"/\", \"100%\", 650, false, window.element)"
            ],
            "text/plain": [
              "<IPython.core.display.Javascript object>"
            ]
          },
          "metadata": {
            "tags": []
          }
        }
      ]
    },
    {
      "cell_type": "markdown",
      "metadata": {
        "id": "3TSup19L5dmO"
      },
      "source": [
        "let's talk a little bit now about where that html.Div came from"
      ]
    },
    {
      "cell_type": "markdown",
      "metadata": {
        "id": "p6-UHfSQ3oVc"
      },
      "source": [
        "<a name='x.1.2'></a>\n",
        "\n",
        "### 7.1.2 components\n",
        "\n",
        "[back to top](#top)\n",
        "\n",
        "html is just one of two component libraries we use with Dash, `dash_html_components` (html) and `dash_core_components` (dcc). With the components libraries you can build the look and feel of your app - you can also create your own custom components using Javascript and React Js."
      ]
    },
    {
      "cell_type": "markdown",
      "metadata": {
        "id": "Klv5tN7M8i_i"
      },
      "source": [
        "<a name='x.1.2.1'></a>\n",
        "\n",
        "#### 7.1.2.1 dash_html_components (html)\n",
        "\n",
        "[back to top](#top)\n",
        "\n",
        "`dash_html_components` contains all the html components of dash, just like the html components you'd recognize in an html frame work (H1, H2, Div, P, etc.)"
      ]
    },
    {
      "cell_type": "markdown",
      "metadata": {
        "id": "TMBBhxoK8kCS"
      },
      "source": [
        "<a name='x.1.2.2'></a>\n",
        "\n",
        "#### 7.1.2.2 dash_core_components (dcc)\n",
        "\n",
        "[back to top](#top)\n",
        "\n",
        "In order to create a graph in our dash layout, we use the Graph class from `dash_core_components`. Graph renders visualizations from plotly (because of this, we can prototype our visualization in plotly before incorporating them into a dashboard! We need to supply both a `data` and a `layout` to Graph. \n",
        "\n",
        "We can change stylings like the background and text colors with Dash. Visit the documentation for the components to get the full list of styling options. the style property is a little different than that of pure HTML. The style dictionary is camelCased (e.g. `textAlign` vs `text-align`) \n",
        "\n",
        "In the following we dictate the children of each component explicitly. This can be thought of as the content of the component:\n"
      ]
    },
    {
      "cell_type": "code",
      "metadata": {
        "colab": {
          "base_uri": "https://localhost:8080/",
          "height": 671
        },
        "id": "ccnWgWEor8lm",
        "outputId": "d0401090-13cb-42e8-a5f0-7560848ae206"
      },
      "source": [
        "app = JupyterDash() \n",
        "\n",
        "app.layout = html.Div(style={'backgroundColor': '#111111'}, \n",
        "                      children=\n",
        "                html.H1(style={'color': '#ffffff'}, children=[\"Hello World!\"]),\n",
        "                      )\n",
        "                  \n",
        "app.run_server(mode='inline')"
      ],
      "execution_count": null,
      "outputs": [
        {
          "output_type": "display_data",
          "data": {
            "application/javascript": [
              "(async (port, path, width, height, cache, element) => {\n",
              "    if (!google.colab.kernel.accessAllowed && !cache) {\n",
              "      return;\n",
              "    }\n",
              "    element.appendChild(document.createTextNode(''));\n",
              "    const url = await google.colab.kernel.proxyPort(port, {cache});\n",
              "    const iframe = document.createElement('iframe');\n",
              "    iframe.src = new URL(path, url).toString();\n",
              "    iframe.height = height;\n",
              "    iframe.width = width;\n",
              "    iframe.style.border = 0;\n",
              "    element.appendChild(iframe);\n",
              "  })(8050, \"/\", \"100%\", 650, false, window.element)"
            ],
            "text/plain": [
              "<IPython.core.display.Javascript object>"
            ]
          },
          "metadata": {
            "tags": []
          }
        }
      ]
    },
    {
      "cell_type": "markdown",
      "metadata": {
        "id": "DkXuaG_3wpsZ"
      },
      "source": [
        "But we can also declare the children implicitly:"
      ]
    },
    {
      "cell_type": "code",
      "metadata": {
        "colab": {
          "base_uri": "https://localhost:8080/",
          "height": 671
        },
        "id": "gObytgKXtRU6",
        "outputId": "3a1a70de-665a-4e74-b196-1607497c1cef"
      },
      "source": [
        "# can also be written this way\n",
        "app = JupyterDash() \n",
        "\n",
        "app.layout =  html.Div(\n",
        "                html.H1([\"Hello World!\"],\n",
        "                style={'color': '#ffffff'}),\n",
        "              style={'backgroundColor': '#111111'})\n",
        "                  \n",
        "app.run_server(mode='inline')"
      ],
      "execution_count": null,
      "outputs": [
        {
          "output_type": "display_data",
          "data": {
            "application/javascript": [
              "(async (port, path, width, height, cache, element) => {\n",
              "    if (!google.colab.kernel.accessAllowed && !cache) {\n",
              "      return;\n",
              "    }\n",
              "    element.appendChild(document.createTextNode(''));\n",
              "    const url = await google.colab.kernel.proxyPort(port, {cache});\n",
              "    const iframe = document.createElement('iframe');\n",
              "    iframe.src = new URL(path, url).toString();\n",
              "    iframe.height = height;\n",
              "    iframe.width = width;\n",
              "    iframe.style.border = 0;\n",
              "    element.appendChild(iframe);\n",
              "  })(8050, \"/\", \"100%\", 650, false, window.element)"
            ],
            "text/plain": [
              "<IPython.core.display.Javascript object>"
            ]
          },
          "metadata": {
            "tags": []
          }
        }
      ]
    },
    {
      "cell_type": "markdown",
      "metadata": {
        "id": "P4SDdCEUwsvx"
      },
      "source": [
        "If we have multiple children in a component, like the outer `Div()` wrapper here: we just have to remember to put them in a list:"
      ]
    },
    {
      "cell_type": "code",
      "metadata": {
        "colab": {
          "base_uri": "https://localhost:8080/",
          "height": 51
        },
        "id": "acUZ6AzEtfXm",
        "outputId": "b62daef4-d131-4541-ab8e-8e817993e0f4"
      },
      "source": [
        "app = JupyterDash() \n",
        "\n",
        "colors = {'background': '#111111',\n",
        "          'text': '#ffffff'}\n",
        "\n",
        "app.layout =  html.Div([\n",
        "                html.H1([\"Hello World!\"\n",
        "                  ],\n",
        "                  style={'color': colors['text']}\n",
        "                  ),\n",
        "                dcc.Graph(\n",
        "                  id='Graph1',\n",
        "                  figure={\n",
        "                      'data': [\n",
        "                          {'x': [1, 2, 3], 'y': [4, 1, 2], 'type': 'bar', 'name': 'SF'},\n",
        "                          {'x': [1, 2, 3], 'y': [2, 4, 5], 'type': 'bar', 'name': u'Montréal'},\n",
        "                              ],\n",
        "                      'layout': {\n",
        "                          'plot_bgcolor': colors['background'],\n",
        "                          'paper_bgcolor': colors['background'],\n",
        "                          'font': {\n",
        "                              'color': colors['text']\n",
        "                              }\n",
        "                          }\n",
        "                      }\n",
        "                  ),\n",
        "                ],\n",
        "                style={'backgroundColor': colors['background']}\n",
        "                )\n",
        "                  \n",
        "app.run_server(mode='external')"
      ],
      "execution_count": null,
      "outputs": [
        {
          "output_type": "stream",
          "text": [
            "Dash app running on:\n"
          ],
          "name": "stdout"
        },
        {
          "output_type": "display_data",
          "data": {
            "application/javascript": [
              "(async (port, path, text, element) => {\n",
              "    if (!google.colab.kernel.accessAllowed) {\n",
              "      return;\n",
              "    }\n",
              "    element.appendChild(document.createTextNode(''));\n",
              "    const url = await google.colab.kernel.proxyPort(port);\n",
              "    const anchor = document.createElement('a');\n",
              "    anchor.href = new URL(path, url).toString();\n",
              "    anchor.target = '_blank';\n",
              "    anchor.setAttribute('data-href', url + path);\n",
              "    anchor.textContent = text;\n",
              "    element.appendChild(anchor);\n",
              "  })(8050, \"/\", \"http://127.0.0.1:8050/\", window.element)"
            ],
            "text/plain": [
              "<IPython.core.display.Javascript object>"
            ]
          },
          "metadata": {
            "tags": []
          }
        }
      ]
    },
    {
      "cell_type": "markdown",
      "metadata": {
        "id": "EGyzTSlQw9M4"
      },
      "source": [
        "We could've declared that graph object with plotly express. This can often be easier while still getting the figure we desire.\n",
        "\n",
        "> the df we've created  here is an example of [tidy data](https://cran.r-project.org/web/packages/tidyr/vignettes/tidy-data.html)"
      ]
    },
    {
      "cell_type": "code",
      "metadata": {
        "id": "HLZq45pDyIlI"
      },
      "source": [
        "df = pd.DataFrame({\n",
        "    \"Fruit\": [\"Apples\", \"Oranges\", \"Bananas\", \"Apples\", \"Oranges\", \"Bananas\"],\n",
        "    \"Amount\": [4, 1, 2, 2, 4, 5],\n",
        "    \"City\": [\"SF\", \"SF\", \"SF\", \"Montreal\", \"Montreal\", \"Montreal\"]\n",
        "})\n",
        "\n",
        "fig = px.bar(df, x=\"Fruit\", y=\"Amount\", color=\"City\", barmode=\"group\")"
      ],
      "execution_count": null,
      "outputs": []
    },
    {
      "cell_type": "markdown",
      "metadata": {
        "id": "zDmXvcrEy_gC"
      },
      "source": [
        "After creating the figure in plotly express, we can just include it in the layout:"
      ]
    },
    {
      "cell_type": "code",
      "metadata": {
        "colab": {
          "base_uri": "https://localhost:8080/",
          "height": 671
        },
        "id": "U0vsixumxNQp",
        "outputId": "096deb8a-2400-4447-c788-37447f0df76d"
      },
      "source": [
        "app = JupyterDash() \n",
        "\n",
        "colors = {'background': '#ffffff',\n",
        "          'text': '#111111'}\n",
        "\n",
        "app.layout =  html.Div([\n",
        "                html.H1([\"Hello World!\"\n",
        "                  ],\n",
        "                  style={'color': colors['text']}\n",
        "                  ),\n",
        "                dcc.Graph(\n",
        "                  id='Graph1',\n",
        "                  figure=fig,\n",
        "                  ),\n",
        "                ],\n",
        "                style={'backgroundColor': colors['background']}\n",
        "                )\n",
        "                  \n",
        "app.run_server(mode='inline')"
      ],
      "execution_count": null,
      "outputs": [
        {
          "output_type": "display_data",
          "data": {
            "application/javascript": [
              "(async (port, path, width, height, cache, element) => {\n",
              "    if (!google.colab.kernel.accessAllowed && !cache) {\n",
              "      return;\n",
              "    }\n",
              "    element.appendChild(document.createTextNode(''));\n",
              "    const url = await google.colab.kernel.proxyPort(port, {cache});\n",
              "    const iframe = document.createElement('iframe');\n",
              "    iframe.src = new URL(path, url).toString();\n",
              "    iframe.height = height;\n",
              "    iframe.width = width;\n",
              "    iframe.style.border = 0;\n",
              "    element.appendChild(iframe);\n",
              "  })(8050, \"/\", \"100%\", 650, false, window.element)"
            ],
            "text/plain": [
              "<IPython.core.display.Javascript object>"
            ]
          },
          "metadata": {
            "tags": []
          }
        }
      ]
    },
    {
      "cell_type": "markdown",
      "metadata": {
        "id": "QRtXvc7Mz4Mc"
      },
      "source": [
        "Last note on children: The children property is special. By convention, it's always the first attribute which is why we could ommit it: `html.H1(children='Hello World!')` is the same as `html.H1('Hello World!')`. Also, it can contain a string, a number, a single component, or a list of components."
      ]
    },
    {
      "cell_type": "markdown",
      "metadata": {
        "id": "1Bl8Wn8Xxgds"
      },
      "source": [
        "<a name='x.1.2.3'></a>\n",
        "\n",
        "#### 🏋️ Exercise 1: Create your first Dashboard!!!\n",
        "\n",
        "[back to top](#top)\n",
        "\n",
        "Visit the documentation for [plotly scatter plots](https://plotly.com/python/line-and-scatter/). Create a scatter plot using `plotly.express` and embed it in a dashboard.\n",
        "\n",
        "```\n",
        "app = JupyterDash() \n",
        "\n",
        "colors = {'background': '#ffffff',\n",
        "          'text': '#111111'}\n",
        "\n",
        "app.layout =  html.Div([\n",
        "                html.H1([\"Hello World!\" # YOUR TITLE HERE\n",
        "                  ],\n",
        "                  style={'color': colors['text']}\n",
        "                  ),\n",
        "                dcc.Graph(\n",
        "                  id='Graph1',\n",
        "                  figure=fig, # YOUR FIGURE HERE\n",
        "                  ),\n",
        "                ],\n",
        "                style={'backgroundColor': colors['background']}\n",
        "                )\n",
        "                  \n",
        "app.run_server(mode='inline')\n",
        "```\n",
        "\n",
        "And you can use the following `X` and `y` data:"
      ]
    },
    {
      "cell_type": "code",
      "metadata": {
        "id": "B6gbLy8Eyc1A"
      },
      "source": [
        "from sklearn.datasets import make_blobs\n",
        "X, y = make_blobs(random_state=42, centers=4, cluster_std=2.5)\n",
        "\n",
        "# X has 2 dims (for axis 1 and axis 2)\n",
        "# y is a binary that can be used to color the scatter points"
      ],
      "execution_count": null,
      "outputs": []
    },
    {
      "cell_type": "markdown",
      "metadata": {
        "id": "pW6TZs4Wcorn"
      },
      "source": [
        "And here I've created a shell for you to work with"
      ]
    },
    {
      "cell_type": "code",
      "metadata": {
        "colab": {
          "base_uri": "https://localhost:8080/",
          "height": 517
        },
        "id": "XczoL9xW3E3N",
        "outputId": "db30588f-d122-4784-a32b-7ffb372db913"
      },
      "source": [
        "# the scatter plot\n",
        "fig = px.scatter(\n",
        "    ### YOUR CODE HERE ###\n",
        "    \n",
        "      )\n",
        "# updating fig attributes\n",
        "fig.update_layout(\n",
        "  autosize=False,\n",
        "  width=800,\n",
        "  height=500,\n",
        "  title='A Smattering of Points'\n",
        "  )"
      ],
      "execution_count": null,
      "outputs": [
        {
          "output_type": "display_data",
          "data": {
            "text/html": [
              "<html>\n",
              "<head><meta charset=\"utf-8\" /></head>\n",
              "<body>\n",
              "    <div>\n",
              "            <script src=\"https://cdnjs.cloudflare.com/ajax/libs/mathjax/2.7.5/MathJax.js?config=TeX-AMS-MML_SVG\"></script><script type=\"text/javascript\">if (window.MathJax) {MathJax.Hub.Config({SVG: {font: \"STIX-Web\"}});}</script>\n",
              "                <script type=\"text/javascript\">window.PlotlyConfig = {MathJaxConfig: 'local'};</script>\n",
              "        <script src=\"https://cdn.plot.ly/plotly-latest.min.js\"></script>    \n",
              "            <div id=\"4d47c8be-de49-4a53-95c8-386f9c6b2a9a\" class=\"plotly-graph-div\" style=\"height:500px; width:800px;\"></div>\n",
              "            <script type=\"text/javascript\">\n",
              "                \n",
              "                    window.PLOTLYENV=window.PLOTLYENV || {};\n",
              "                    \n",
              "                if (document.getElementById(\"4d47c8be-de49-4a53-95c8-386f9c6b2a9a\")) {\n",
              "                    Plotly.newPlot(\n",
              "                        '4d47c8be-de49-4a53-95c8-386f9c6b2a9a',\n",
              "                        [],\n",
              "                        {\"autosize\": false, \"height\": 500, \"legend\": {\"tracegroupgap\": 0}, \"margin\": {\"t\": 60}, \"template\": {\"data\": {\"bar\": [{\"error_x\": {\"color\": \"#2a3f5f\"}, \"error_y\": {\"color\": \"#2a3f5f\"}, \"marker\": {\"line\": {\"color\": \"#E5ECF6\", \"width\": 0.5}}, \"type\": \"bar\"}], \"barpolar\": [{\"marker\": {\"line\": {\"color\": \"#E5ECF6\", \"width\": 0.5}}, \"type\": \"barpolar\"}], \"carpet\": [{\"aaxis\": {\"endlinecolor\": \"#2a3f5f\", \"gridcolor\": \"white\", \"linecolor\": \"white\", \"minorgridcolor\": \"white\", \"startlinecolor\": \"#2a3f5f\"}, \"baxis\": {\"endlinecolor\": \"#2a3f5f\", \"gridcolor\": \"white\", \"linecolor\": \"white\", \"minorgridcolor\": \"white\", \"startlinecolor\": \"#2a3f5f\"}, \"type\": \"carpet\"}], \"choropleth\": [{\"colorbar\": {\"outlinewidth\": 0, \"ticks\": \"\"}, \"type\": \"choropleth\"}], \"contour\": [{\"colorbar\": {\"outlinewidth\": 0, \"ticks\": \"\"}, \"colorscale\": [[0.0, \"#0d0887\"], [0.1111111111111111, \"#46039f\"], [0.2222222222222222, \"#7201a8\"], [0.3333333333333333, \"#9c179e\"], [0.4444444444444444, \"#bd3786\"], [0.5555555555555556, \"#d8576b\"], [0.6666666666666666, \"#ed7953\"], [0.7777777777777778, \"#fb9f3a\"], [0.8888888888888888, \"#fdca26\"], [1.0, \"#f0f921\"]], \"type\": \"contour\"}], \"contourcarpet\": [{\"colorbar\": {\"outlinewidth\": 0, \"ticks\": \"\"}, \"type\": \"contourcarpet\"}], \"heatmap\": [{\"colorbar\": {\"outlinewidth\": 0, \"ticks\": \"\"}, \"colorscale\": [[0.0, \"#0d0887\"], [0.1111111111111111, \"#46039f\"], [0.2222222222222222, \"#7201a8\"], [0.3333333333333333, \"#9c179e\"], [0.4444444444444444, \"#bd3786\"], [0.5555555555555556, \"#d8576b\"], [0.6666666666666666, \"#ed7953\"], [0.7777777777777778, \"#fb9f3a\"], [0.8888888888888888, \"#fdca26\"], [1.0, \"#f0f921\"]], \"type\": \"heatmap\"}], \"heatmapgl\": [{\"colorbar\": {\"outlinewidth\": 0, \"ticks\": \"\"}, \"colorscale\": [[0.0, \"#0d0887\"], [0.1111111111111111, \"#46039f\"], [0.2222222222222222, \"#7201a8\"], [0.3333333333333333, \"#9c179e\"], [0.4444444444444444, \"#bd3786\"], [0.5555555555555556, \"#d8576b\"], [0.6666666666666666, \"#ed7953\"], [0.7777777777777778, \"#fb9f3a\"], [0.8888888888888888, \"#fdca26\"], [1.0, \"#f0f921\"]], \"type\": \"heatmapgl\"}], \"histogram\": [{\"marker\": {\"colorbar\": {\"outlinewidth\": 0, \"ticks\": \"\"}}, \"type\": \"histogram\"}], \"histogram2d\": [{\"colorbar\": {\"outlinewidth\": 0, \"ticks\": \"\"}, \"colorscale\": [[0.0, \"#0d0887\"], [0.1111111111111111, \"#46039f\"], [0.2222222222222222, \"#7201a8\"], [0.3333333333333333, \"#9c179e\"], [0.4444444444444444, \"#bd3786\"], [0.5555555555555556, \"#d8576b\"], [0.6666666666666666, \"#ed7953\"], [0.7777777777777778, \"#fb9f3a\"], [0.8888888888888888, \"#fdca26\"], [1.0, \"#f0f921\"]], \"type\": \"histogram2d\"}], \"histogram2dcontour\": [{\"colorbar\": {\"outlinewidth\": 0, \"ticks\": \"\"}, \"colorscale\": [[0.0, \"#0d0887\"], [0.1111111111111111, \"#46039f\"], [0.2222222222222222, \"#7201a8\"], [0.3333333333333333, \"#9c179e\"], [0.4444444444444444, \"#bd3786\"], [0.5555555555555556, \"#d8576b\"], [0.6666666666666666, \"#ed7953\"], [0.7777777777777778, \"#fb9f3a\"], [0.8888888888888888, \"#fdca26\"], [1.0, \"#f0f921\"]], \"type\": \"histogram2dcontour\"}], \"mesh3d\": [{\"colorbar\": {\"outlinewidth\": 0, \"ticks\": \"\"}, \"type\": \"mesh3d\"}], \"parcoords\": [{\"line\": {\"colorbar\": {\"outlinewidth\": 0, \"ticks\": \"\"}}, \"type\": \"parcoords\"}], \"pie\": [{\"automargin\": true, \"type\": \"pie\"}], \"scatter\": [{\"marker\": {\"colorbar\": {\"outlinewidth\": 0, \"ticks\": \"\"}}, \"type\": \"scatter\"}], \"scatter3d\": [{\"line\": {\"colorbar\": {\"outlinewidth\": 0, \"ticks\": \"\"}}, \"marker\": {\"colorbar\": {\"outlinewidth\": 0, \"ticks\": \"\"}}, \"type\": \"scatter3d\"}], \"scattercarpet\": [{\"marker\": {\"colorbar\": {\"outlinewidth\": 0, \"ticks\": \"\"}}, \"type\": \"scattercarpet\"}], \"scattergeo\": [{\"marker\": {\"colorbar\": {\"outlinewidth\": 0, \"ticks\": \"\"}}, \"type\": \"scattergeo\"}], \"scattergl\": [{\"marker\": {\"colorbar\": {\"outlinewidth\": 0, \"ticks\": \"\"}}, \"type\": \"scattergl\"}], \"scattermapbox\": [{\"marker\": {\"colorbar\": {\"outlinewidth\": 0, \"ticks\": \"\"}}, \"type\": \"scattermapbox\"}], \"scatterpolar\": [{\"marker\": {\"colorbar\": {\"outlinewidth\": 0, \"ticks\": \"\"}}, \"type\": \"scatterpolar\"}], \"scatterpolargl\": [{\"marker\": {\"colorbar\": {\"outlinewidth\": 0, \"ticks\": \"\"}}, \"type\": \"scatterpolargl\"}], \"scatterternary\": [{\"marker\": {\"colorbar\": {\"outlinewidth\": 0, \"ticks\": \"\"}}, \"type\": \"scatterternary\"}], \"surface\": [{\"colorbar\": {\"outlinewidth\": 0, \"ticks\": \"\"}, \"colorscale\": [[0.0, \"#0d0887\"], [0.1111111111111111, \"#46039f\"], [0.2222222222222222, \"#7201a8\"], [0.3333333333333333, \"#9c179e\"], [0.4444444444444444, \"#bd3786\"], [0.5555555555555556, \"#d8576b\"], [0.6666666666666666, \"#ed7953\"], [0.7777777777777778, \"#fb9f3a\"], [0.8888888888888888, \"#fdca26\"], [1.0, \"#f0f921\"]], \"type\": \"surface\"}], \"table\": [{\"cells\": {\"fill\": {\"color\": \"#EBF0F8\"}, \"line\": {\"color\": \"white\"}}, \"header\": {\"fill\": {\"color\": \"#C8D4E3\"}, \"line\": {\"color\": \"white\"}}, \"type\": \"table\"}]}, \"layout\": {\"annotationdefaults\": {\"arrowcolor\": \"#2a3f5f\", \"arrowhead\": 0, \"arrowwidth\": 1}, \"coloraxis\": {\"colorbar\": {\"outlinewidth\": 0, \"ticks\": \"\"}}, \"colorscale\": {\"diverging\": [[0, \"#8e0152\"], [0.1, \"#c51b7d\"], [0.2, \"#de77ae\"], [0.3, \"#f1b6da\"], [0.4, \"#fde0ef\"], [0.5, \"#f7f7f7\"], [0.6, \"#e6f5d0\"], [0.7, \"#b8e186\"], [0.8, \"#7fbc41\"], [0.9, \"#4d9221\"], [1, \"#276419\"]], \"sequential\": [[0.0, \"#0d0887\"], [0.1111111111111111, \"#46039f\"], [0.2222222222222222, \"#7201a8\"], [0.3333333333333333, \"#9c179e\"], [0.4444444444444444, \"#bd3786\"], [0.5555555555555556, \"#d8576b\"], [0.6666666666666666, \"#ed7953\"], [0.7777777777777778, \"#fb9f3a\"], [0.8888888888888888, \"#fdca26\"], [1.0, \"#f0f921\"]], \"sequentialminus\": [[0.0, \"#0d0887\"], [0.1111111111111111, \"#46039f\"], [0.2222222222222222, \"#7201a8\"], [0.3333333333333333, \"#9c179e\"], [0.4444444444444444, \"#bd3786\"], [0.5555555555555556, \"#d8576b\"], [0.6666666666666666, \"#ed7953\"], [0.7777777777777778, \"#fb9f3a\"], [0.8888888888888888, \"#fdca26\"], [1.0, \"#f0f921\"]]}, \"colorway\": [\"#636efa\", \"#EF553B\", \"#00cc96\", \"#ab63fa\", \"#FFA15A\", \"#19d3f3\", \"#FF6692\", \"#B6E880\", \"#FF97FF\", \"#FECB52\"], \"font\": {\"color\": \"#2a3f5f\"}, \"geo\": {\"bgcolor\": \"white\", \"lakecolor\": \"white\", \"landcolor\": \"#E5ECF6\", \"showlakes\": true, \"showland\": true, \"subunitcolor\": \"white\"}, \"hoverlabel\": {\"align\": \"left\"}, \"hovermode\": \"closest\", \"mapbox\": {\"style\": \"light\"}, \"paper_bgcolor\": \"white\", \"plot_bgcolor\": \"#E5ECF6\", \"polar\": {\"angularaxis\": {\"gridcolor\": \"white\", \"linecolor\": \"white\", \"ticks\": \"\"}, \"bgcolor\": \"#E5ECF6\", \"radialaxis\": {\"gridcolor\": \"white\", \"linecolor\": \"white\", \"ticks\": \"\"}}, \"scene\": {\"xaxis\": {\"backgroundcolor\": \"#E5ECF6\", \"gridcolor\": \"white\", \"gridwidth\": 2, \"linecolor\": \"white\", \"showbackground\": true, \"ticks\": \"\", \"zerolinecolor\": \"white\"}, \"yaxis\": {\"backgroundcolor\": \"#E5ECF6\", \"gridcolor\": \"white\", \"gridwidth\": 2, \"linecolor\": \"white\", \"showbackground\": true, \"ticks\": \"\", \"zerolinecolor\": \"white\"}, \"zaxis\": {\"backgroundcolor\": \"#E5ECF6\", \"gridcolor\": \"white\", \"gridwidth\": 2, \"linecolor\": \"white\", \"showbackground\": true, \"ticks\": \"\", \"zerolinecolor\": \"white\"}}, \"shapedefaults\": {\"line\": {\"color\": \"#2a3f5f\"}}, \"ternary\": {\"aaxis\": {\"gridcolor\": \"white\", \"linecolor\": \"white\", \"ticks\": \"\"}, \"baxis\": {\"gridcolor\": \"white\", \"linecolor\": \"white\", \"ticks\": \"\"}, \"bgcolor\": \"#E5ECF6\", \"caxis\": {\"gridcolor\": \"white\", \"linecolor\": \"white\", \"ticks\": \"\"}}, \"title\": {\"x\": 0.05}, \"xaxis\": {\"automargin\": true, \"gridcolor\": \"white\", \"linecolor\": \"white\", \"ticks\": \"\", \"title\": {\"standoff\": 15}, \"zerolinecolor\": \"white\", \"zerolinewidth\": 2}, \"yaxis\": {\"automargin\": true, \"gridcolor\": \"white\", \"linecolor\": \"white\", \"ticks\": \"\", \"title\": {\"standoff\": 15}, \"zerolinecolor\": \"white\", \"zerolinewidth\": 2}}}, \"title\": {\"text\": \"A Smattering of Points\"}, \"width\": 800, \"xaxis\": {\"anchor\": \"y\", \"domain\": [0.0, 1.0]}, \"yaxis\": {\"anchor\": \"x\", \"domain\": [0.0, 1.0]}},\n",
              "                        {\"responsive\": true}\n",
              "                    ).then(function(){\n",
              "                            \n",
              "var gd = document.getElementById('4d47c8be-de49-4a53-95c8-386f9c6b2a9a');\n",
              "var x = new MutationObserver(function (mutations, observer) {{\n",
              "        var display = window.getComputedStyle(gd).display;\n",
              "        if (!display || display === 'none') {{\n",
              "            console.log([gd, 'removed!']);\n",
              "            Plotly.purge(gd);\n",
              "            observer.disconnect();\n",
              "        }}\n",
              "}});\n",
              "\n",
              "// Listen for the removal of the full notebook cells\n",
              "var notebookContainer = gd.closest('#notebook-container');\n",
              "if (notebookContainer) {{\n",
              "    x.observe(notebookContainer, {childList: true});\n",
              "}}\n",
              "\n",
              "// Listen for the clearing of the current output cell\n",
              "var outputEl = gd.closest('.output');\n",
              "if (outputEl) {{\n",
              "    x.observe(outputEl, {childList: true});\n",
              "}}\n",
              "\n",
              "                        })\n",
              "                };\n",
              "                \n",
              "            </script>\n",
              "        </div>\n",
              "</body>\n",
              "</html>"
            ]
          },
          "metadata": {
            "tags": []
          }
        }
      ]
    },
    {
      "cell_type": "code",
      "metadata": {
        "colab": {
          "base_uri": "https://localhost:8080/",
          "height": 671
        },
        "id": "NcUgHi833flt",
        "outputId": "d8bfecb0-e59e-4a8c-a2ef-071659811764"
      },
      "source": [
        "app = JupyterDash() \n",
        " \n",
        "colors = {'background': '#ffffff',\n",
        "          'text': '#111111'}\n",
        " \n",
        "app.layout =  html.Div([\n",
        "                html.H1([\"LOOK AT ALL THOSE CHICKENS!\" # YOUR TITLE HERE\n",
        "                  ],\n",
        "                  style={'color': colors['text']}\n",
        "                  ),\n",
        "                dcc.Graph(\n",
        "                  id='Graph1',\n",
        "                  figure=fig, # YOUR FIGURE HERE\n",
        "                  ),\n",
        "                ],\n",
        "                style={'backgroundColor': colors['background']}\n",
        "                )\n",
        " \n",
        "app.run_server(mode='inline')"
      ],
      "execution_count": null,
      "outputs": [
        {
          "output_type": "display_data",
          "data": {
            "application/javascript": [
              "(async (port, path, width, height, cache, element) => {\n",
              "    if (!google.colab.kernel.accessAllowed && !cache) {\n",
              "      return;\n",
              "    }\n",
              "    element.appendChild(document.createTextNode(''));\n",
              "    const url = await google.colab.kernel.proxyPort(port, {cache});\n",
              "    const iframe = document.createElement('iframe');\n",
              "    iframe.src = new URL(path, url).toString();\n",
              "    iframe.height = height;\n",
              "    iframe.width = width;\n",
              "    iframe.style.border = 0;\n",
              "    element.appendChild(iframe);\n",
              "  })(8050, \"/\", \"100%\", 650, false, window.element)"
            ],
            "text/plain": [
              "<IPython.core.display.Javascript object>"
            ]
          },
          "metadata": {
            "tags": []
          }
        }
      ]
    },
    {
      "cell_type": "markdown",
      "metadata": {
        "id": "t1nrFYSa2x1h"
      },
      "source": [
        "<a name='x.1.3'></a>\n",
        "\n",
        "### 7.1.3 Style Sheets\n",
        "\n",
        "[back to top](#top)\n",
        "\n",
        "You can leverage pre-existing style sheets to stylize your components and layout. We'll do that in the next example with reusable components."
      ]
    },
    {
      "cell_type": "markdown",
      "metadata": {
        "id": "Rlvx0ddP3mx0"
      },
      "source": [
        "<a name='x.1.4'></a>\n",
        "\n",
        "### 7.1.4 Reusable Components\n",
        "\n",
        "[back to top](#top)\n",
        "\n",
        "We can create reusable components for ourselves without switching contexts or languages. For example, defining a single figure that is reused throughout the app with different parameters. Or a table:"
      ]
    },
    {
      "cell_type": "code",
      "metadata": {
        "colab": {
          "base_uri": "https://localhost:8080/",
          "height": 671
        },
        "id": "bMBRmtZi2oV6",
        "outputId": "dc9ac26d-6af3-45d1-eaa3-e0eb891f3b65"
      },
      "source": [
        "def generate_table(dataframe, max_rows=10):\n",
        "    return html.Table([\n",
        "        html.Thead(\n",
        "            html.Tr([html.Th(col) for col in dataframe.columns])\n",
        "        ),\n",
        "        html.Tbody([\n",
        "            html.Tr([\n",
        "                html.Td(dataframe.iloc[i][col]) for col in dataframe.columns\n",
        "            ]) for i in range(min(len(dataframe), max_rows))\n",
        "        ])\n",
        "    ])\n",
        "\n",
        "external_stylesheets = ['https://codepen.io/chriddyp/pen/bWLwgP.css']\n",
        "\n",
        "app = JupyterDash(external_stylesheets=external_stylesheets)\n",
        "\n",
        "app.layout = html.Div(children=[\n",
        "    html.H4(children='Our Fruit Data'),\n",
        "    generate_table(df)\n",
        "])\n",
        "\n",
        "app.run_server(mode='inline')"
      ],
      "execution_count": null,
      "outputs": [
        {
          "output_type": "display_data",
          "data": {
            "application/javascript": [
              "(async (port, path, width, height, cache, element) => {\n",
              "    if (!google.colab.kernel.accessAllowed && !cache) {\n",
              "      return;\n",
              "    }\n",
              "    element.appendChild(document.createTextNode(''));\n",
              "    const url = await google.colab.kernel.proxyPort(port, {cache});\n",
              "    const iframe = document.createElement('iframe');\n",
              "    iframe.src = new URL(path, url).toString();\n",
              "    iframe.height = height;\n",
              "    iframe.width = width;\n",
              "    iframe.style.border = 0;\n",
              "    element.appendChild(iframe);\n",
              "  })(8050, \"/\", \"100%\", 650, false, window.element)"
            ],
            "text/plain": [
              "<IPython.core.display.Javascript object>"
            ]
          },
          "metadata": {
            "tags": []
          }
        }
      ]
    },
    {
      "cell_type": "markdown",
      "metadata": {
        "id": "7G4dK0HfdB47"
      },
      "source": [
        "As a side note, it is also easy to just include `dash_table` from dash to create a ready-to-go table:"
      ]
    },
    {
      "cell_type": "code",
      "metadata": {
        "colab": {
          "base_uri": "https://localhost:8080/",
          "height": 671
        },
        "id": "vwla3RkK2D14",
        "outputId": "7402489f-051d-4137-e8a8-2a26a98486a4"
      },
      "source": [
        "import dash_table\n",
        "\n",
        "app = JupyterDash(external_stylesheets=external_stylesheets)\n",
        "\n",
        "app.layout = html.Div(children=[\n",
        "    html.H4(children='Our Fruit Data'),\n",
        "    dash_table.DataTable(\n",
        "                        id='table',\n",
        "                        columns=[{\"name\": i, \"id\": i} for i in df.columns],\n",
        "                        data=df.to_dict('records'),\n",
        "                        page_size=20,\n",
        "                        style_table={'maxWidth': '100%',\n",
        "                                     'overflowX': 'auto'}\n",
        "                        )\n",
        "])\n",
        "\n",
        "app.run_server(mode='inline')"
      ],
      "execution_count": null,
      "outputs": [
        {
          "output_type": "display_data",
          "data": {
            "application/javascript": [
              "(async (port, path, width, height, cache, element) => {\n",
              "    if (!google.colab.kernel.accessAllowed && !cache) {\n",
              "      return;\n",
              "    }\n",
              "    element.appendChild(document.createTextNode(''));\n",
              "    const url = await google.colab.kernel.proxyPort(port, {cache});\n",
              "    const iframe = document.createElement('iframe');\n",
              "    iframe.src = new URL(path, url).toString();\n",
              "    iframe.height = height;\n",
              "    iframe.width = width;\n",
              "    iframe.style.border = 0;\n",
              "    element.appendChild(iframe);\n",
              "  })(8050, \"/\", \"100%\", 650, false, window.element)"
            ],
            "text/plain": [
              "<IPython.core.display.Javascript object>"
            ]
          },
          "metadata": {
            "tags": []
          }
        }
      ]
    },
    {
      "cell_type": "markdown",
      "metadata": {
        "id": "I58fEtF6yOix"
      },
      "source": [
        "<a name='x.1.5'></a>\n",
        "\n",
        "### 7.1.5 Markdown\n",
        "\n",
        "[back to top](#top)\n",
        "\n",
        "You can also use markdown with dash. "
      ]
    },
    {
      "cell_type": "code",
      "metadata": {
        "colab": {
          "base_uri": "https://localhost:8080/",
          "height": 671
        },
        "id": "58F1VbKTAynH",
        "outputId": "2d408d1b-ba51-48da-8d0b-1c6762d9d703"
      },
      "source": [
        "app = JupyterDash(external_stylesheets=external_stylesheets)\n",
        "\n",
        "markdown_text = '''\n",
        "### Dash and Markdown\n",
        "\n",
        "Dash apps can be written in Markdown.\n",
        "Dash uses the [CommonMark](http://commonmark.org/)\n",
        "specification of Markdown.\n",
        "Check out their [60 Second Markdown Tutorial](http://commonmark.org/help/)\n",
        "if this is your first introduction to Markdown!\n",
        "'''\n",
        "\n",
        "app.layout = html.Div([\n",
        "    dcc.Markdown(children=markdown_text)\n",
        "])\n",
        "\n",
        "app.run_server('inline')"
      ],
      "execution_count": null,
      "outputs": [
        {
          "output_type": "display_data",
          "data": {
            "application/javascript": [
              "(async (port, path, width, height, cache, element) => {\n",
              "    if (!google.colab.kernel.accessAllowed && !cache) {\n",
              "      return;\n",
              "    }\n",
              "    element.appendChild(document.createTextNode(''));\n",
              "    const url = await google.colab.kernel.proxyPort(port, {cache});\n",
              "    const iframe = document.createElement('iframe');\n",
              "    iframe.src = new URL(path, url).toString();\n",
              "    iframe.height = height;\n",
              "    iframe.width = width;\n",
              "    iframe.style.border = 0;\n",
              "    element.appendChild(iframe);\n",
              "  })(8050, \"/\", \"100%\", 650, false, window.element)"
            ],
            "text/plain": [
              "<IPython.core.display.Javascript object>"
            ]
          },
          "metadata": {
            "tags": []
          }
        }
      ]
    },
    {
      "cell_type": "markdown",
      "metadata": {
        "id": "pgH7CJ8t1yB7"
      },
      "source": [
        "<a name='x.1.5.1'></a>\n",
        "\n",
        "#### 🏋️ Exercise 2: Play with Markdown\n",
        "\n",
        "[back to top](#top)\n",
        "\n",
        "In the following cell play with markdown. Include 2 different headers, a paragraph, a displayed image, a bulleted list and a numbered list. If you have extra time include a table.\n"
      ]
    },
    {
      "cell_type": "code",
      "metadata": {
        "colab": {
          "base_uri": "https://localhost:8080/",
          "height": 671
        },
        "id": "DKZL3XCRZ5c-",
        "outputId": "52705f2d-06c9-4459-cf62-3d2385340ad4"
      },
      "source": [
        "# Code cell for exercise 5.1.5.1\n",
        "\n",
        "app = JupyterDash(external_stylesheets=external_stylesheets)\n",
        "\n",
        "\n",
        "### YOUR CODE DOWN BELOW ###\n",
        "markdown_text = '''\n",
        "\n",
        "'''\n",
        "\n",
        "app.layout = html.Div([\n",
        "    dcc.Markdown(children=markdown_text)\n",
        "])\n",
        "\n",
        "app.run_server('inline')"
      ],
      "execution_count": null,
      "outputs": [
        {
          "output_type": "display_data",
          "data": {
            "application/javascript": [
              "(async (port, path, width, height, cache, element) => {\n",
              "    if (!google.colab.kernel.accessAllowed && !cache) {\n",
              "      return;\n",
              "    }\n",
              "    element.appendChild(document.createTextNode(''));\n",
              "    const url = await google.colab.kernel.proxyPort(port, {cache});\n",
              "    const iframe = document.createElement('iframe');\n",
              "    iframe.src = new URL(path, url).toString();\n",
              "    iframe.height = height;\n",
              "    iframe.width = width;\n",
              "    iframe.style.border = 0;\n",
              "    element.appendChild(iframe);\n",
              "  })(8050, \"/\", \"100%\", 650, false, window.element)"
            ],
            "text/plain": [
              "<IPython.core.display.Javascript object>"
            ]
          },
          "metadata": {
            "tags": []
          }
        }
      ]
    },
    {
      "cell_type": "markdown",
      "metadata": {
        "id": "-l-u-FChyPdF"
      },
      "source": [
        "<a name='x.1.6'></a>\n",
        "\n",
        "### 7.1.6 More on dash_core_components\n",
        "\n",
        "[back to top](#top)\n",
        "\n",
        "`dash_core_complonents` contains all your dashboard goodies: dropdown menus, sliders, range bars, radio buttons, etc. "
      ]
    },
    {
      "cell_type": "code",
      "metadata": {
        "colab": {
          "base_uri": "https://localhost:8080/",
          "height": 671
        },
        "id": "boTDq9b5BIvc",
        "outputId": "49496392-22b3-4858-d393-bbad13aed764"
      },
      "source": [
        "external_stylesheets = ['https://codepen.io/chriddyp/pen/bWLwgP.css']\n",
        "\n",
        "app = JupyterDash(__name__, external_stylesheets=external_stylesheets)\n",
        "\n",
        "app.layout = html.Div([\n",
        "    html.Label('Dropdown'),\n",
        "    dcc.Dropdown(\n",
        "        options=[\n",
        "            {'label': 'New York City', 'value': 'NYC'},\n",
        "            {'label': u'Montréal', 'value': 'MTL'},\n",
        "            {'label': 'San Francisco', 'value': 'SF'}\n",
        "        ],\n",
        "        value='MTL'\n",
        "    ),\n",
        "\n",
        "    html.Label('Multi-Select Dropdown'),\n",
        "    dcc.Dropdown(\n",
        "        options=[\n",
        "            {'label': 'New York City', 'value': 'NYC'},\n",
        "            {'label': u'Montréal', 'value': 'MTL'},\n",
        "            {'label': 'San Francisco', 'value': 'SF'}\n",
        "        ],\n",
        "        value=['MTL', 'SF'],\n",
        "        multi=True\n",
        "    ),\n",
        "\n",
        "    html.Label('Radio Items'),\n",
        "    dcc.RadioItems(\n",
        "        options=[\n",
        "            {'label': 'New York City', 'value': 'NYC'},\n",
        "            {'label': u'Montréal', 'value': 'MTL'},\n",
        "            {'label': 'San Francisco', 'value': 'SF'}\n",
        "        ],\n",
        "        value='MTL'\n",
        "    ),\n",
        "\n",
        "    html.Label('Checkboxes'),\n",
        "    dcc.Checklist(\n",
        "        options=[\n",
        "            {'label': 'New York City', 'value': 'NYC'},\n",
        "            {'label': u'Montréal', 'value': 'MTL'},\n",
        "            {'label': 'San Francisco', 'value': 'SF'}\n",
        "        ],\n",
        "        value=['MTL', 'SF']\n",
        "    ),\n",
        "\n",
        "    html.Label('Text Input'),\n",
        "    dcc.Input(value='MTL', type='text'),\n",
        "\n",
        "    html.Label('Slider'),\n",
        "    dcc.Slider(\n",
        "        min=0,\n",
        "        max=9,\n",
        "        marks={i: 'Label {}'.format(i) if i == 1 else str(i) for i in range(1, 6)},\n",
        "        value=5,\n",
        "    ),\n",
        "], style={'columnCount': 2})\n",
        "\n",
        "app.run_server('inline')"
      ],
      "execution_count": null,
      "outputs": [
        {
          "output_type": "display_data",
          "data": {
            "application/javascript": [
              "(async (port, path, width, height, cache, element) => {\n",
              "    if (!google.colab.kernel.accessAllowed && !cache) {\n",
              "      return;\n",
              "    }\n",
              "    element.appendChild(document.createTextNode(''));\n",
              "    const url = await google.colab.kernel.proxyPort(port, {cache});\n",
              "    const iframe = document.createElement('iframe');\n",
              "    iframe.src = new URL(path, url).toString();\n",
              "    iframe.height = height;\n",
              "    iframe.width = width;\n",
              "    iframe.style.border = 0;\n",
              "    element.appendChild(iframe);\n",
              "  })(8050, \"/\", \"100%\", 650, false, window.element)"
            ],
            "text/plain": [
              "<IPython.core.display.Javascript object>"
            ]
          },
          "metadata": {
            "tags": []
          }
        }
      ]
    },
    {
      "cell_type": "markdown",
      "metadata": {
        "id": "wlj85iTSIwji"
      },
      "source": [
        "<a name='x.2'></a>\n",
        "\n",
        "## 7.2 Basic Callbacks\n",
        "\n",
        "[back to top](#top)\n",
        "\n",
        "Now we'll talk about how to make our Dash apps interactive (hey, that's what all the dcc components are for anyways!). To do this, we'll write _callback_ functions, that are executed whenever a component on the app is updated. We do this with the `@app` decorator."
      ]
    },
    {
      "cell_type": "markdown",
      "metadata": {
        "id": "4txgFqPUI4Qv"
      },
      "source": [
        "<a name='x.2.1'></a>\n",
        "\n",
        "### 7.2.1 Simple Interactive Dash App\n",
        "\n",
        "[back to top](#top)\n",
        "\n",
        "To make our apps interactive we'll import two new functions `Input` and `Output` from `dash.dependencies`"
      ]
    },
    {
      "cell_type": "code",
      "metadata": {
        "id": "UVfTkyQ5NeQR"
      },
      "source": [
        "from dash.dependencies import Input, Output"
      ],
      "execution_count": null,
      "outputs": []
    },
    {
      "cell_type": "code",
      "metadata": {
        "colab": {
          "base_uri": "https://localhost:8080/",
          "height": 671
        },
        "id": "qdfZLdCkNefj",
        "outputId": "10baef73-d6bd-495a-e8b6-f5b8a7c7af5a"
      },
      "source": [
        "app = JupyterDash()\n",
        "\n",
        "app.layout = html.Div([\n",
        "    dcc.Input(id='my-id', value='Dash App', type='text'),\n",
        "    html.Div(id='my-div')\n",
        "])\n",
        "\n",
        "\n",
        "@app.callback(\n",
        "    Output(component_id='my-div', component_property='children'),\n",
        "    [Input(component_id='my-id', component_property='value'),]\n",
        ")\n",
        "def update_output_div(input_value):\n",
        "    return 'You\\'ve entered \"{}\"'.format(input_value)\n",
        "\n",
        "app.run_server('inline')"
      ],
      "execution_count": null,
      "outputs": [
        {
          "output_type": "display_data",
          "data": {
            "application/javascript": [
              "(async (port, path, width, height, cache, element) => {\n",
              "    if (!google.colab.kernel.accessAllowed && !cache) {\n",
              "      return;\n",
              "    }\n",
              "    element.appendChild(document.createTextNode(''));\n",
              "    const url = await google.colab.kernel.proxyPort(port, {cache});\n",
              "    const iframe = document.createElement('iframe');\n",
              "    iframe.src = new URL(path, url).toString();\n",
              "    iframe.height = height;\n",
              "    iframe.width = width;\n",
              "    iframe.style.border = 0;\n",
              "    element.appendChild(iframe);\n",
              "  })(8050, \"/\", \"100%\", 650, false, window.element)"
            ],
            "text/plain": [
              "<IPython.core.display.Javascript object>"
            ]
          },
          "metadata": {
            "tags": []
          }
        }
      ]
    },
    {
      "cell_type": "markdown",
      "metadata": {
        "id": "zCg12l_M4AoZ"
      },
      "source": [
        "<a name='x.2.2'></a>\n",
        "\n",
        "### 7.2.2 Multiple Inputs\n",
        "\n",
        "[back to top](#top)\n",
        "\n",
        "You can have multiple inputs to a callback:\n",
        "\n",
        "```\n",
        "@app.callback(\n",
        "    Output('indicator-graphic', 'figure'),\n",
        "    [Input('xaxis-column', 'value'),\n",
        "    Input('yaxis-column', 'value'),\n",
        "    Input('xaxis-type', 'value'),\n",
        "    Input('yaxis-type', 'value'),\n",
        "    Input('year--slider', 'value')]\n",
        ")\n",
        "```"
      ]
    },
    {
      "cell_type": "markdown",
      "metadata": {
        "id": "_R9cOWKS4Ayo"
      },
      "source": [
        "<a name='x.2.3'></a>\n",
        "\n",
        "### 7.2.3 Multiple Outputs\n",
        "\n",
        "[back to top](#top)\n",
        "\n",
        "As well as multiple outputs:\n",
        "\n",
        "```\n",
        "@app.callback(\n",
        "    [Output('square', 'children'),\n",
        "    Output('cube', 'children'),\n",
        "    Output('twos', 'children'),\n",
        "    Output('threes', 'children'),\n",
        "    Output('x^x', 'children'),],\n",
        "    Input('num-multi', 'value'))\n",
        "```"
      ]
    },
    {
      "cell_type": "markdown",
      "metadata": {
        "id": "wP1m5o_Hdf6z"
      },
      "source": [
        "Let's put the multiple inputs thing together:"
      ]
    },
    {
      "cell_type": "code",
      "metadata": {
        "colab": {
          "base_uri": "https://localhost:8080/",
          "height": 671
        },
        "id": "D_X2dm8r0s_r",
        "outputId": "fff8cf11-b383-4b14-cf40-b14d2417e79c"
      },
      "source": [
        "app = JupyterDash()\n",
        "\n",
        "app.layout = html.Div([\n",
        "    dcc.Input(id='my-id', value='Green', type='text'),\n",
        "    html.Div(id='my-div'),\n",
        "\n",
        "    ### HERES MY NEW COMPONENT\n",
        "    dcc.Dropdown(id='drop-id',\n",
        "        options=[\n",
        "            {'label': 'Dipsy', 'value': 'Dipsy'},\n",
        "            {'label': 'Po', 'value': 'Po'},\n",
        "            {'label': 'LaLa', 'value': 'LaLa'}\n",
        "        ],\n",
        "        value='Dipsy',\n",
        "        style={'width': '300px'}\n",
        "    ),\n",
        "])\n",
        "\n",
        "\n",
        "@app.callback(\n",
        "    Output(component_id='my-div', component_property='children'),\n",
        "    [Input(component_id='my-id', component_property='value'),\n",
        "     Input(component_id='drop-id', component_property='value'),] # HERS MY NEW INPUT\n",
        ")\n",
        "def update_output_div(input_value, value2): # MY NEW VAR\n",
        "    return \"{} is {}\".format(value2, input_value)\n",
        "\n",
        "app.run_server('inline')"
      ],
      "execution_count": null,
      "outputs": [
        {
          "output_type": "display_data",
          "data": {
            "application/javascript": [
              "(async (port, path, width, height, cache, element) => {\n",
              "    if (!google.colab.kernel.accessAllowed && !cache) {\n",
              "      return;\n",
              "    }\n",
              "    element.appendChild(document.createTextNode(''));\n",
              "    const url = await google.colab.kernel.proxyPort(port, {cache});\n",
              "    const iframe = document.createElement('iframe');\n",
              "    iframe.src = new URL(path, url).toString();\n",
              "    iframe.height = height;\n",
              "    iframe.width = width;\n",
              "    iframe.style.border = 0;\n",
              "    element.appendChild(iframe);\n",
              "  })(8050, \"/\", \"100%\", 650, false, window.element)"
            ],
            "text/plain": [
              "<IPython.core.display.Javascript object>"
            ]
          },
          "metadata": {
            "tags": []
          }
        }
      ]
    },
    {
      "cell_type": "markdown",
      "metadata": {
        "id": "Fuy87uHB2B6S"
      },
      "source": [
        "<a name='x.2.4'></a>\n",
        "\n",
        "### 🏋️ Exercise 3: Changing Graph Elements with Callbacks and Dash Core Components\n",
        "\n",
        "[back to top](#top)\n",
        "\n",
        "Take the plot you made in exercise 5.1.2.3 and this time use one of the dcc components to toggle on/off the different classes of data on the plot!\n",
        "\n",
        "You will need:\n",
        "\n",
        "* a new component on your layout that allows the user to select the classes of data to display. I did this with a checklist, but you can choose something else if you want! Note that by setting `value=[0,1,2,3]` all the values are selected on load:\n",
        "```\n",
        "html.Label('Checkboxes'),\n",
        "dcc.Checklist(id='check-1', # A NEW CHECKLIST TO SELECT CLASSES\n",
        "    options=[\n",
        "        {'label': 'Green', 'value': 0},\n",
        "        {'label': 'Purple', 'value': 1},\n",
        "        {'label': 'Red', 'value': 2},\n",
        "        {'label': 'Blue', 'value': 3}\n",
        "    ],\n",
        "    value=[0, 1, 2, 3]\n",
        "    ),\n",
        "```\n",
        "\n",
        "* a function `my_fig` that properly selects the data before plotting. You can use this code to help you get started (I like to think in dataframes and that's also what we've used most frequently in these classes, but it could also be done with lower level objects like numpy arrays:\n",
        "```\n",
        "values = [0, 1, 2, 3] # a list that represents the selected classes\n",
        "df = pd.DataFrame(np.concatenate((X,(np.array(y).reshape(-1,1))), axis=1))\n",
        "  df = df.loc[df[2].isin(values)] # column 2 is the y values\n",
        "  Xfilt = df[[0,1]].values # set the new X\n",
        "  yfilt = df[2].values # set the new y\n",
        "```\n",
        "* a callback that sends the metadata for what classes have been selected by the user\n",
        "```\n",
        "@app.callback(\n",
        "    Output(component_id='<YOUR FIG ID>', component_property='figure'),\n",
        "    [Input(component_id='<YOUR COMPONENT ID>', component_property='value')]\n",
        ")\n",
        "def update_output_div(groups): \n",
        "    return my_fig(groups)\n",
        "```\n",
        "\n"
      ]
    },
    {
      "cell_type": "code",
      "metadata": {
        "colab": {
          "base_uri": "https://localhost:8080/",
          "height": 671
        },
        "id": "h0cui9OW36-g",
        "outputId": "76d15185-2157-48ca-9526-fa356f7f9851"
      },
      "source": [
        "colors = {'background': '#ffffff',\n",
        "          'text': '#111111'}\n",
        "\n",
        "external_stylesheets = ['https://codepen.io/chriddyp/pen/bWLwgP.css']\n",
        "\n",
        "\n",
        "def my_fig(values=[0,1,2,3]): # input parameter for the 4 different groups of data\n",
        "  \n",
        "  ### YOUR CODE THAT PARSES AND SELECTS THE RIGHT DATA ###\n",
        "\n",
        "  fig = px.scatter(x=X[:,0], y=X[:,1], color=y.astype(str))\n",
        "  \n",
        "  fig.update_layout(\n",
        "    autosize=False,\n",
        "    width=800,\n",
        "    height=500,\n",
        "    )\n",
        "  return fig\n",
        "\n",
        "### BEGIN APP ###\n",
        "app = JupyterDash(__name__, external_stylesheets=external_stylesheets)\n",
        " \n",
        "app.layout =  html.Div([\n",
        "                html.H1([\"LOOK AT ALL THOSE CHICKENS!\" # YOUR TITLE HERE\n",
        "                    ],\n",
        "                    style={'color': colors['text']}\n",
        "                    ),\n",
        "                    ### YOUR COMPONENT THAT ALLOWS THE USER TO SELECT DATA CLASSES\n",
        "\n",
        "                dcc.Graph(\n",
        "                    id='fig-1',\n",
        "                    figure=my_fig(), # YOUR FIGURE HERE\n",
        "                    ),\n",
        "                html.P(id='test'), # A DUMMY ELEMENT TO VIEW TEST DATA\n",
        "                ],\n",
        "                style={'backgroundColor': colors['background']}\n",
        "                )\n",
        "\n",
        "### YOUR CALLBACK TO CHANGE YOUR FIGURE HERE\n",
        "\n",
        "\n",
        "### A DUMMY CALLBACK TO HELP YOU TEST OUT SELECTIONS FROM check-1\n",
        "### UNCOMMENT THIS AFTER YOUVE CREATED A COMPONENT WITH THE ID check-1\n",
        "### THEN YOU CAN SEE WHAT DATA IS BEING SENT AROUND BY SENDING IT TO\n",
        "### THE CHILDREN OF TEST\n",
        "\n",
        "# @app.callback(\n",
        "#     Output(component_id='test', component_property='children'),\n",
        "#     [Input(component_id='check-1', component_property='value')]\n",
        "# )\n",
        "# def update_output_div(groups): \n",
        "#     return groups\n",
        " \n",
        "app.run_server(mode='inline')"
      ],
      "execution_count": null,
      "outputs": [
        {
          "output_type": "display_data",
          "data": {
            "application/javascript": [
              "(async (port, path, width, height, cache, element) => {\n",
              "    if (!google.colab.kernel.accessAllowed && !cache) {\n",
              "      return;\n",
              "    }\n",
              "    element.appendChild(document.createTextNode(''));\n",
              "    const url = await google.colab.kernel.proxyPort(port, {cache});\n",
              "    const iframe = document.createElement('iframe');\n",
              "    iframe.src = new URL(path, url).toString();\n",
              "    iframe.height = height;\n",
              "    iframe.width = width;\n",
              "    iframe.style.border = 0;\n",
              "    element.appendChild(iframe);\n",
              "  })(8050, \"/\", \"100%\", 650, false, window.element)"
            ],
            "text/plain": [
              "<IPython.core.display.Javascript object>"
            ]
          },
          "metadata": {
            "tags": []
          }
        }
      ]
    },
    {
      "cell_type": "markdown",
      "metadata": {
        "id": "9OntsAfJ4A8g"
      },
      "source": [
        "<a name='x.2.5'></a>\n",
        "\n",
        "### 🍒 Enrichment: Chained Callbacks\n",
        "\n",
        "[back to top](#top)\n",
        "\n",
        "Chained callbacks are worth a nod. We won't go into detail here, but the basic idea and thing to note is that, if you have an interactive element on your page that is dependent on some other interactive element (for instance a radio button series of cities that is dependent on a dropdown menu of states) you can make one callback dependent on another simply by making the input of the dependent element the output of the independent element. Like so:\n",
        "\n",
        "```\n",
        "\n",
        "# this callback will fire \n",
        "\n",
        "@app.callback(\n",
        "    Output('cities-radio', 'options'), # <--- cities-radio is an output\n",
        "    Input('states-radio', 'value'))\n",
        "def set_cities_options(selected_state):\n",
        "    return [{'label': i, 'value': i} for i in all_options[selected_state]]\n",
        "\n",
        "\n",
        "# and then this callback will fire\n",
        "\n",
        "@app.callback(\n",
        "    Output('cities-radio', 'value'),\n",
        "    Input('cities-radio', 'options')) # <--- cities-radio is an input\n",
        "def set_cities_value(available_options):\n",
        "    return available_options[0]['value']\n",
        "\n",
        "```"
      ]
    },
    {
      "cell_type": "markdown",
      "metadata": {
        "id": "2p4qhOHy4BCP"
      },
      "source": [
        "<a name='x.3'></a>\n",
        "\n",
        "## 7.3 Interactive Graphing and Crossfiltering\n",
        "\n",
        "[back to top](#top)\n",
        "\n",
        "There are four different types of data generated when the user interacts with the plot using their mouse: hover, click, select, and zoom data."
      ]
    },
    {
      "cell_type": "code",
      "metadata": {
        "id": "TTLkitjySWZj"
      },
      "source": [
        "import json\n",
        "\n",
        "import dash\n",
        "import dash_core_components as dcc\n",
        "import dash_html_components as html\n",
        "from dash.dependencies import Input, Output\n",
        "import plotly.express as px\n",
        "import pandas as pd\n",
        "\n",
        "external_stylesheets = ['https://codepen.io/chriddyp/pen/bWLwgP.css']\n",
        "\n",
        "app = JupyterDash(__name__, external_stylesheets=external_stylesheets)\n",
        "\n",
        "styles = {\n",
        "    'pre': {\n",
        "        'border': 'thin lightgrey solid',\n",
        "        'overflowX': 'scroll'\n",
        "    }\n",
        "}\n",
        "\n",
        "df = pd.DataFrame({\n",
        "    \"x\": [1,2,1,2],\n",
        "    \"y\": [1,2,3,4],\n",
        "    \"customdata\": [1,2,3,4],\n",
        "    \"fruit\": [\"apple\", \"apple\", \"orange\", \"orange\"]\n",
        "})\n",
        "\n",
        "fig = px.scatter(df, x=\"x\", y=\"y\", color=\"fruit\", custom_data=[\"customdata\"])\n",
        "\n",
        "fig.update_layout(clickmode='event+select')\n",
        "\n",
        "fig.update_traces(marker_size=20)\n",
        "\n",
        "app.layout = html.Div([\n",
        "    dcc.Graph(\n",
        "        id='basic-interactions',\n",
        "        figure=fig\n",
        "    ),\n",
        "\n",
        "    html.Div(className='row', children=[\n",
        "        html.Div([\n",
        "            dcc.Markdown(\"\"\"\n",
        "                **Hover Data**\n",
        "\n",
        "                Mouse over values in the graph.\n",
        "            \"\"\"),\n",
        "            html.Pre(id='hover-data', style=styles['pre'])\n",
        "        ], className='three columns'),\n",
        "\n",
        "        html.Div([\n",
        "            dcc.Markdown(\"\"\"\n",
        "                **Click Data**\n",
        "\n",
        "                Click on points in the graph.\n",
        "            \"\"\"),\n",
        "            html.Pre(id='click-data', style=styles['pre']),\n",
        "        ], className='three columns'),\n",
        "\n",
        "        html.Div([\n",
        "            dcc.Markdown(\"\"\"\n",
        "                **Selection Data**\n",
        "\n",
        "                Choose the lasso or rectangle tool in the graph's menu\n",
        "                bar and then select points in the graph.\n",
        "\n",
        "                Note that if `layout.clickmode = 'event+select'`, selection data also\n",
        "                accumulates (or un-accumulates) selected data if you hold down the shift\n",
        "                button while clicking.\n",
        "            \"\"\"),\n",
        "            html.Pre(id='selected-data', style=styles['pre']),\n",
        "        ], className='three columns'),\n",
        "\n",
        "        html.Div([\n",
        "            dcc.Markdown(\"\"\"\n",
        "                **Zoom and Relayout Data**\n",
        "\n",
        "                Click and drag on the graph to zoom or click on the zoom\n",
        "                buttons in the graph's menu bar.\n",
        "                Clicking on legend items will also fire\n",
        "                this event.\n",
        "            \"\"\"),\n",
        "            html.Pre(id='relayout-data', style=styles['pre']),\n",
        "        ], className='three columns')\n",
        "    ])\n",
        "])\n",
        "\n",
        "\n",
        "@app.callback(\n",
        "    Output('hover-data', 'children'),\n",
        "    Input('basic-interactions', 'hoverData'))\n",
        "def display_hover_data(hoverData):\n",
        "    return json.dumps(hoverData, indent=2)\n",
        "\n",
        "\n",
        "@app.callback(\n",
        "    Output('click-data', 'children'),\n",
        "    Input('basic-interactions', 'clickData'))\n",
        "def display_click_data(clickData):\n",
        "    return json.dumps(clickData, indent=2)\n",
        "\n",
        "\n",
        "@app.callback(\n",
        "    Output('selected-data', 'children'),\n",
        "    Input('basic-interactions', 'selectedData'))\n",
        "def display_selected_data(selectedData):\n",
        "    return json.dumps(selectedData, indent=2)\n",
        "\n",
        "\n",
        "@app.callback(\n",
        "    Output('relayout-data', 'children'),\n",
        "    Input('basic-interactions', 'relayoutData'))\n",
        "def display_relayout_data(relayoutData):\n",
        "    return json.dumps(relayoutData, indent=2)\n",
        "\n",
        "app.run_server('inline')"
      ],
      "execution_count": null,
      "outputs": []
    },
    {
      "cell_type": "markdown",
      "metadata": {
        "id": "VgxMC5P_-A7R"
      },
      "source": [
        "<a name='x.3.1'></a>\n",
        "\n",
        "### 🏋️ Exercise 4: Interactive Filtering to Display Aggregate Stats\n",
        "\n",
        "[back to top](#top)\n",
        "\n",
        "Use Selection Data in your plot from exercise 5.2.4 to display the $\\bar y$ and $\\bar x$ value of the selected data somewhere in your layout.\n",
        "\n",
        "Here's some starter code for handling selectedData:\n",
        "\n",
        "```\n",
        "@app.callback(\n",
        "    Output('<SOME DIV ID>', 'children'),\n",
        "    Input('<YOUR FIGURE>', 'selectedData'))\n",
        "def display_selected_data(selectedData):\n",
        "    if selectedData: # if to avoid error mssg when None\n",
        "      sel = pd.DataFrame(selectedData[\"points\"])\n",
        "      ### YOUR CODE ###\n",
        "\n",
        "      <RETURN> <SOMETHING>\n",
        "```\n",
        "> Hint: to figure out what the object `sel` contains, send `sel.to_json` to the children of `test`, the html.P at the bottom of the layout. You can then copy and paste that into a cell in the notebook to parse by hand (after converting it back into a dataframe) so that you get the formula right"
      ]
    },
    {
      "cell_type": "code",
      "metadata": {
        "colab": {
          "base_uri": "https://localhost:8080/",
          "height": 51
        },
        "id": "cMMCn4No-jQH",
        "outputId": "961180d0-ddbd-4ce5-89ee-ae7fd4c2d8d9"
      },
      "source": [
        "colors = {'background': '#ffffff',\n",
        "          'text': '#111111'}\n",
        "\n",
        "external_stylesheets = ['https://codepen.io/chriddyp/pen/bWLwgP.css']\n",
        "\n",
        "\n",
        "### YOUR FUNCTION FROM my_fig FROM 5.2.4 ###\n",
        "def my_fig():\n",
        "  \n",
        "  fig = px.scatter(x=X[:,0], y=X[:,1], color=y.astype(str))\n",
        "  \n",
        "  fig.update_layout(\n",
        "    autosize=False,\n",
        "    width=800,\n",
        "    height=500,\n",
        "    \n",
        "    )\n",
        "  return fig\n",
        "\n",
        "app = JupyterDash(__name__, external_stylesheets=external_stylesheets)\n",
        " \n",
        "app.layout =  html.Div([\n",
        "                html.H1([\"LOOK AT ALL THOSE CHICKENS!\" # YOUR TITLE HERE\n",
        "                    ],\n",
        "                    style={'color': colors['text']}\n",
        "                    ),\n",
        "                    \n",
        "\n",
        "                    ### YOUR SELECTION DIV FROM 5.2.4 (dcc.checklist)\n",
        "                \n",
        "                dcc.Graph(\n",
        "                    id='fig-1',\n",
        "                    figure=my_fig(), # YOUR FIGURE HERE\n",
        "                    ),\n",
        "                html.P(id='test'),\n",
        "                ],\n",
        "                style={'backgroundColor': colors['background']}\n",
        "                )\n",
        "\n",
        "### YOUR CALLBACK FROM 5.2.4 FOR UPDATING THE FIG ###\n",
        "\n",
        "@app.callback(\n",
        "    Output('test', 'children'),\n",
        "    Input('fig-1', 'selectedData'))\n",
        "def display_selected_data(selectedData):\n",
        "    if selectedData:\n",
        "      sel = pd.DataFrame(selectedData[\"points\"])\n",
        "      return sel.to_json()\n",
        " \n",
        "app.run_server(mode='external')"
      ],
      "execution_count": null,
      "outputs": [
        {
          "output_type": "stream",
          "text": [
            "Dash app running on:\n"
          ],
          "name": "stdout"
        },
        {
          "output_type": "display_data",
          "data": {
            "application/javascript": [
              "(async (port, path, text, element) => {\n",
              "    if (!google.colab.kernel.accessAllowed) {\n",
              "      return;\n",
              "    }\n",
              "    element.appendChild(document.createTextNode(''));\n",
              "    const url = await google.colab.kernel.proxyPort(port);\n",
              "    const anchor = document.createElement('a');\n",
              "    anchor.href = new URL(path, url).toString();\n",
              "    anchor.target = '_blank';\n",
              "    anchor.setAttribute('data-href', url + path);\n",
              "    anchor.textContent = text;\n",
              "    element.appendChild(anchor);\n",
              "  })(8050, \"/\", \"http://127.0.0.1:8050/\", window.element)"
            ],
            "text/plain": [
              "<IPython.core.display.Javascript object>"
            ]
          },
          "metadata": {
            "tags": []
          }
        }
      ]
    },
    {
      "cell_type": "markdown",
      "metadata": {
        "id": "8gbxoZx4zh8e"
      },
      "source": [
        "<a name='x.4'></a>\n",
        "\n",
        "### 🍒 Enrichment: Deploy to Heroku\n",
        "\n",
        "[back to top](#top)\n",
        "\n",
        "[steps for deploying an app to heroku!](https://www.datacamp.com/community/tutorials/learn-build-dash-python)"
      ]
    }
  ]
}