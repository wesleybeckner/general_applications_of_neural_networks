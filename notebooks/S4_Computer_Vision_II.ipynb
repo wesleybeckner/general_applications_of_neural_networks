{
  "nbformat": 4,
  "nbformat_minor": 0,
  "metadata": {
    "colab": {
      "name": "Tech Fun C4 S2 Computer Vision Part 2 (Defect Detection Case Study).ipynb",
      "provenance": [],
      "collapsed_sections": [],
      "toc_visible": true,
      "authorship_tag": "ABX9TyNaVdQrEvAp3lDnqgfTHotq",
      "include_colab_link": true
    },
    "kernelspec": {
      "name": "python3",
      "display_name": "Python 3"
    },
    "language_info": {
      "name": "python"
    },
    "accelerator": "GPU"
  },
  "cells": [
    {
      "cell_type": "markdown",
      "metadata": {
        "id": "view-in-github",
        "colab_type": "text"
      },
      "source": [
        "<a href=\"https://colab.research.google.com/github/wesleybeckner/technology_fundamentals/blob/main/C4%20Machine%20Learning%20II/Tech_Fun_C4_S2_Computer_Vision_Part_2_(Defect_Detection_Case_Study).ipynb\" target=\"_parent\"><img src=\"https://colab.research.google.com/assets/colab-badge.svg\" alt=\"Open In Colab\"/></a>"
      ]
    },
    {
      "cell_type": "markdown",
      "metadata": {
        "id": "vhe1yX4AMckE"
      },
      "source": [
        "# Technology Fundamentals Course 4, Session 2: Computer Vision Part 2 (Defect Detection Case Study)\n",
        "\n",
        "**Instructor**: Wesley Beckner\n",
        "\n",
        "**Contact**: wesleybeckner@gmail.com\n",
        "\n",
        "**Teaching Assitants**: Varsha Bang, Harsha Vardhan\n",
        "\n",
        "**Contact**: vbang@uw.edu, harshav@uw.edu\n",
        "<br>\n",
        "\n",
        "---\n",
        "\n",
        "<br>\n",
        "\n",
        "In this session we will continue with our exploration of CNNs. In the previous session we discussed three flagship layers for the CNN: convolution ReLU and maximum pooling. Here we'll discuss the sliding window, how to build your custom CNN, and data augmentation for images.\n",
        "\n",
        "<br>\n",
        "\n",
        "_images in this notebook borrowed from [Ryan Holbrook](https://mathformachines.com/)_\n",
        "\n",
        "---\n",
        "\n",
        "<br>\n",
        "\n",
        "<a name='top'></a>\n",
        "\n",
        "# Contents\n",
        "\n",
        "* 4.0 [Preparing Environment and Importing Data](#x.0)\n",
        "  * 4.0.1 [Enabling and Testing the GPU](#x.0.1)\n",
        "  * 4.0.2 [Observe TensorFlow on GPU vs CPU](#x.0.2)\n",
        "  * 4.0.3 [Import Packages](#x.0.3)\n",
        "  * 4.0.4 [Load Dataset](#x.0.4)\n",
        "    * 4.0.4.1 [Loading Data with ImageDataGenerator](#x.0.4.1)\n",
        "    * 4.0.4.2 [Loading Data with image_dataset_from_directory](#x.0.4.2)\n",
        "* 4.1 [Sliding Window](#x.1)\n",
        "  * 4.1.1 [Stride](#x.1.1)\n",
        "  * 4.1.2 [Padding](#x.1.2)\n",
        "  * 4.1.3 [Exercise: Exploring Sliding Windows](#x.1.3)\n",
        "* 4.2 [Custom CNN](#x.2)\n",
        "  * 4.2.1 [Evaluate Model](#x.2.1)\n",
        "* 4.3 [Data Augmentation](#x.3)\n",
        "  * 4.3.1 [Evaluate Model](#x.3.1)\n",
        "  * 4.3.2 [Exercise: Image Preprocessing Layers](#x.3.2)\n",
        "* 4.4 [Transfer Learning](#x.4)\n",
        "  \n",
        "\n",
        "<br>\n",
        "\n",
        "---"
      ]
    },
    {
      "cell_type": "markdown",
      "metadata": {
        "id": "mNtJitcRW51Y"
      },
      "source": [
        "<a name='x.0'></a>\n",
        "\n",
        "## 4.0 Preparing Environment and Importing Data\n",
        "\n",
        "[back to top](#top)"
      ]
    },
    {
      "cell_type": "markdown",
      "metadata": {
        "id": "Mv2n4nFG5T9P"
      },
      "source": [
        "<a name='x.0.1'></a>\n",
        "\n",
        "### 4.0.1 Enabling and testing the GPU\n",
        "\n",
        "[back to top](#top)\n",
        "\n",
        "First, you'll need to enable GPUs for the notebook:\n",
        "\n",
        "- Navigate to Edit→Notebook Settings\n",
        "- select GPU from the Hardware Accelerator drop-down\n",
        "\n",
        "Next, we'll confirm that we can connect to the GPU with tensorflow:"
      ]
    },
    {
      "cell_type": "code",
      "metadata": {
        "colab": {
          "base_uri": "https://localhost:8080/"
        },
        "id": "XkmOVrmo5HRN",
        "outputId": "326bae1b-de7c-48b7-c1cb-5a8dc7c618c4"
      },
      "source": [
        "%tensorflow_version 2.x\n",
        "import tensorflow as tf\n",
        "device_name = tf.test.gpu_device_name()\n",
        "if device_name != '/device:GPU:0':\n",
        "  raise SystemError('GPU device not found')\n",
        "print('Found GPU at: {}'.format(device_name))"
      ],
      "execution_count": 1,
      "outputs": [
        {
          "output_type": "stream",
          "text": [
            "Found GPU at: /device:GPU:0\n"
          ],
          "name": "stdout"
        }
      ]
    },
    {
      "cell_type": "markdown",
      "metadata": {
        "id": "BcFxj2krIp3g"
      },
      "source": [
        "<a name='x.0.2'></a>\n",
        "\n",
        "### 4.0.2 Observe TensorFlow speedup on GPU relative to CPU\n",
        "\n",
        "[back to top](#top)\n",
        "\n",
        "This example constructs a typical convolutional neural network layer over a\n",
        "random image and manually places the resulting ops on either the CPU or the GPU\n",
        "to compare execution speed."
      ]
    },
    {
      "cell_type": "code",
      "metadata": {
        "colab": {
          "base_uri": "https://localhost:8080/"
        },
        "id": "8CPQbxbZIrdx",
        "outputId": "189d5b4a-e652-4892-a40e-4bbe0ddbebd4"
      },
      "source": [
        "%tensorflow_version 2.x\n",
        "import tensorflow as tf\n",
        "import timeit\n",
        "\n",
        "device_name = tf.test.gpu_device_name()\n",
        "if device_name != '/device:GPU:0':\n",
        "  print(\n",
        "      '\\n\\nThis error most likely means that this notebook is not '\n",
        "      'configured to use a GPU.  Change this in Notebook Settings via the '\n",
        "      'command palette (cmd/ctrl-shift-P) or the Edit menu.\\n\\n')\n",
        "  raise SystemError('GPU device not found')\n",
        "\n",
        "def cpu():\n",
        "  with tf.device('/cpu:0'):\n",
        "    random_image_cpu = tf.random.normal((100, 100, 100, 3))\n",
        "    net_cpu = tf.keras.layers.Conv2D(32, 7)(random_image_cpu)\n",
        "    return tf.math.reduce_sum(net_cpu)\n",
        "\n",
        "def gpu():\n",
        "  with tf.device('/device:GPU:0'):\n",
        "    random_image_gpu = tf.random.normal((100, 100, 100, 3))\n",
        "    net_gpu = tf.keras.layers.Conv2D(32, 7)(random_image_gpu)\n",
        "    return tf.math.reduce_sum(net_gpu)\n",
        "  \n",
        "# We run each op once to warm up; see: https://stackoverflow.com/a/45067900\n",
        "cpu()\n",
        "gpu()\n",
        "\n",
        "# Run the op several times.\n",
        "print('Time (s) to convolve 32x7x7x3 filter over random 100x100x100x3 images '\n",
        "      '(batch x height x width x channel). Sum of ten runs.')\n",
        "print('CPU (s):')\n",
        "cpu_time = timeit.timeit('cpu()', number=10, setup=\"from __main__ import cpu\")\n",
        "print(cpu_time)\n",
        "print('GPU (s):')\n",
        "gpu_time = timeit.timeit('gpu()', number=10, setup=\"from __main__ import gpu\")\n",
        "print(gpu_time)\n",
        "print('GPU speedup over CPU: {}x'.format(int(cpu_time/gpu_time)))"
      ],
      "execution_count": 2,
      "outputs": [
        {
          "output_type": "stream",
          "text": [
            "Time (s) to convolve 32x7x7x3 filter over random 100x100x100x3 images (batch x height x width x channel). Sum of ten runs.\n",
            "CPU (s):\n",
            "2.8009356639999936\n",
            "GPU (s):\n",
            "0.03463296600000376\n",
            "GPU speedup over CPU: 80x\n"
          ],
          "name": "stdout"
        }
      ]
    },
    {
      "cell_type": "markdown",
      "metadata": {
        "id": "chdcBoBL8SNm"
      },
      "source": [
        "<a name='x.0.3'></a>\n",
        "\n",
        "### 4.0.3 Import Packages\n",
        "\n",
        "[back to top](#top)"
      ]
    },
    {
      "cell_type": "code",
      "metadata": {
        "id": "AvkPKLbOmtox"
      },
      "source": [
        "import os\n",
        "import pandas as pd\n",
        "import numpy as np\n",
        "import seaborn as sns\n",
        "import matplotlib.pyplot as plt\n",
        "\n",
        "import tensorflow as tf\n",
        "from tensorflow.keras.preprocessing import image_dataset_from_directory"
      ],
      "execution_count": 3,
      "outputs": []
    },
    {
      "cell_type": "code",
      "metadata": {
        "id": "ul4Pmn1hzCQX"
      },
      "source": [
        "#importing required libraries\n",
        "from tensorflow.keras.preprocessing.image import ImageDataGenerator, load_img, img_to_array\n",
        "from tensorflow.keras.models import Sequential\n",
        "from tensorflow.keras.layers import Activation, Dropout, Flatten, Dense, Conv2D, MaxPooling2D, InputLayer\n",
        "from tensorflow.keras.callbacks import EarlyStopping\n",
        "from sklearn.metrics import classification_report,confusion_matrix"
      ],
      "execution_count": 4,
      "outputs": []
    },
    {
      "cell_type": "markdown",
      "metadata": {
        "id": "R7vDY-8U8SWd"
      },
      "source": [
        "<a name='x.0.4'></a>\n",
        "\n",
        "### 4.0.4 Load Dataset\n",
        "\n",
        "[back to top](#top)\n",
        "\n",
        "We will actually take a beat here today. When we started building our ML frameworks, we simply wanted our data in a numpy array to feed it into our pipeline. At some point, especially when working with images, the data becomes too large to fit into memory. For this reason we need an alternative way to import our data. With the merger of keras/tf two popular frameworks became available, `ImageDataGenerator` and `image_dataset_from_directory` both under `tf.keras.preprocessing.image`. `image_dataset_from_directory` can sometimes be faster (tf origin) but `ImageDataGenerator` is a lot simpler to use and has on-the-fly data augmentation capability (keras).\n",
        "\n",
        "For a full comparison of methods visit [this link](https://towardsdatascience.com/what-is-the-best-input-pipeline-to-train-image-classification-models-with-tf-keras-eb3fe26d3cc5)"
      ]
    },
    {
      "cell_type": "code",
      "metadata": {
        "colab": {
          "base_uri": "https://localhost:8080/"
        },
        "id": "ezGii7Nu1mju",
        "outputId": "9b89d0f0-f89d-440b-802c-d0cbe308e17c"
      },
      "source": [
        "# Sync your google drive folder\n",
        "from google.colab import drive\n",
        "drive.mount(\"/content/drive\")"
      ],
      "execution_count": 5,
      "outputs": [
        {
          "output_type": "stream",
          "text": [
            "Mounted at /content/drive\n"
          ],
          "name": "stdout"
        }
      ]
    },
    {
      "cell_type": "markdown",
      "metadata": {
        "id": "VwXKg0PAF107"
      },
      "source": [
        "<a name='x.0.4.1'></a>\n",
        "\n",
        "#### 4.0.4.1 Loading Data with `ImageDataGenerator`\n",
        "\n",
        "[back to top](#top)"
      ]
    },
    {
      "cell_type": "code",
      "metadata": {
        "colab": {
          "base_uri": "https://localhost:8080/"
        },
        "id": "gPpg_K-4y85X",
        "outputId": "6d12bd6e-5dc8-466e-dab2-59a7aed00e7a"
      },
      "source": [
        "# full dataset can be attained from kaggle if you are interested\n",
        "# https://www.kaggle.com/ravirajsinh45/real-life-industrial-dataset-of-casting-product?select=casting_data\n",
        "\n",
        "path_to_casting_data = '/content/drive/MyDrive/courses/tech_fundamentals/TECH_FUNDAMENTALS/data/casting_data_class_practice'\n",
        "\n",
        "image_shape = (300,300,1)\n",
        "batch_size = 32\n",
        "\n",
        "technocast_train_path = path_to_casting_data + '/train/'\n",
        "technocast_test_path = path_to_casting_data + '/test/'\n",
        "\n",
        "image_gen = ImageDataGenerator(rescale=1/255) # normalize pixels to 0-1\n",
        "\n",
        "#we're using keras inbuilt function to ImageDataGenerator so we \n",
        "# dont need to label all images into 0 and 1 \n",
        "print(\"loading training set...\")\n",
        "\n",
        "train_set = image_gen.flow_from_directory(technocast_train_path,\n",
        "                                          target_size=image_shape[:2],\n",
        "                                          color_mode=\"grayscale\",\n",
        "                                          batch_size=batch_size,\n",
        "                                          class_mode='binary',\n",
        "                                          shuffle=True)\n",
        "\n",
        "print(\"loading testing set...\")\n",
        "test_set = image_gen.flow_from_directory(technocast_test_path,\n",
        "                                          target_size=image_shape[:2],\n",
        "                                          color_mode=\"grayscale\",\n",
        "                                          batch_size=batch_size,\n",
        "                                          class_mode='binary',\n",
        "                                         shuffle=False)"
      ],
      "execution_count": 7,
      "outputs": [
        {
          "output_type": "stream",
          "text": [
            "loading training set...\n",
            "Found 840 images belonging to 2 classes.\n",
            "loading testing set...\n",
            "Found 715 images belonging to 2 classes.\n"
          ],
          "name": "stdout"
        }
      ]
    },
    {
      "cell_type": "markdown",
      "metadata": {
        "id": "UCV0n9QrF8o1"
      },
      "source": [
        "<a name='x.0.4.2'></a>\n",
        "\n",
        "#### 4.0.4.2 loading data with `image_dataset_from_directory`\n",
        "\n",
        "[back to top](#top)\n",
        "\n",
        "This method should be approx 2x faster than `ImageDataGenerator`"
      ]
    },
    {
      "cell_type": "code",
      "metadata": {
        "colab": {
          "base_uri": "https://localhost:8080/"
        },
        "id": "_y5-Zr0hfLHx",
        "outputId": "254ec1c6-4c2c-4a1a-ebb7-8607735f8695"
      },
      "source": [
        "from tensorflow.keras.preprocessing import image_dataset_from_directory\n",
        "from tensorflow.data.experimental import AUTOTUNE\n",
        "\n",
        "path_to_casting_data = '/content/drive/MyDrive/courses/tech_fundamentals/TECH_FUNDAMENTALS/data/casting_data_class_practice'\n",
        "\n",
        "technocast_train_path = path_to_casting_data + '/train/'\n",
        "technocast_test_path = path_to_casting_data + '/test/'\n",
        "\n",
        "# Load training and validation sets\n",
        "\n",
        "image_shape = (300,300,1)\n",
        "batch_size = 32\n",
        "\n",
        "ds_train_ = image_dataset_from_directory(\n",
        "    technocast_train_path,\n",
        "    labels='inferred',\n",
        "    label_mode='binary',\n",
        "    color_mode=\"grayscale\",\n",
        "    image_size=image_shape[:2],\n",
        "    batch_size=batch_size,\n",
        "    shuffle=True,\n",
        ")\n",
        "ds_valid_ = image_dataset_from_directory(\n",
        "    technocast_test_path,\n",
        "    labels='inferred',\n",
        "    label_mode='binary',\n",
        "    color_mode=\"grayscale\",\n",
        "    image_size=image_shape[:2],\n",
        "    batch_size=batch_size,\n",
        "    shuffle=False,\n",
        ")\n",
        "\n",
        "train_set = ds_train_.prefetch(buffer_size=AUTOTUNE)\n",
        "test_set = ds_valid_.prefetch(buffer_size=AUTOTUNE)"
      ],
      "execution_count": 10,
      "outputs": [
        {
          "output_type": "stream",
          "text": [
            "Found 840 files belonging to 2 classes.\n",
            "Found 715 files belonging to 2 classes.\n"
          ],
          "name": "stdout"
        }
      ]
    },
    {
      "cell_type": "code",
      "metadata": {
        "colab": {
          "base_uri": "https://localhost:8080/",
          "height": 357
        },
        "id": "_I7kDyYwzeBC",
        "outputId": "d7079bd6-b841-4ce4-97a2-f34d597a7f54"
      },
      "source": [
        "# view some images\n",
        "def_path = '/def_front/cast_def_0_1001.jpeg'\n",
        "ok_path = '/ok_front/cast_ok_0_1.jpeg'\n",
        "image_path = technocast_train_path + ok_path\n",
        "image = tf.io.read_file(image_path)\n",
        "image = tf.io.decode_jpeg(image)\n",
        "\n",
        "plt.figure(figsize=(6, 6))\n",
        "plt.imshow(tf.squeeze(image), cmap='gray')\n",
        "plt.axis('off')\n",
        "plt.show();"
      ],
      "execution_count": 13,
      "outputs": [
        {
          "output_type": "display_data",
          "data": {
            "image/png": "[encoded data removed]",
            "text/plain": [
              "<Figure size 432x432 with 1 Axes>"
            ]
          },
          "metadata": {
            "tags": [],
            "needs_background": "light"
          }
        }
      ]
    },
    {
      "cell_type": "markdown",
      "metadata": {
        "id": "yYnHuIONgksu"
      },
      "source": [
        "<a name='x.1'></a>\n",
        "\n",
        "## 4.1 Sliding Window\n",
        "\n",
        "[back to top](#top)\n",
        "\n",
        "The kernels we just reviewed, need to be swept or _slid_ along the preceding layer. We call this a **_sliding window_**, the window being the kernel. \n",
        "\n",
        "<p align=center>\n",
        "<img src=\"https://i.imgur.com/LueNK6b.gif\" width=400></img>\n",
        "\n",
        "What do you notice about the gif? One perhaps obvious observation is that you can't scoot all the way up to the border of the input layer, this is because the kernel defines operations _around_ the centered pixel and so you bang up against the margin of the input array. We can change the behavior at the boundary with a **_padding_** hyperparameter. A second observation, is that the distance we move the kernel along in each step could be variable, we call this the **_stride_**. We will explore the affects of each of these.\n",
        "\n"
      ]
    },
    {
      "cell_type": "code",
      "metadata": {
        "id": "eYolTMVMlnsQ"
      },
      "source": [
        "from tensorflow import keras\n",
        "from tensorflow.keras import layers\n",
        "\n",
        "model = keras.Sequential([\n",
        "    layers.Conv2D(filters=64,\n",
        "                  kernel_size=3,\n",
        "                  strides=1,\n",
        "                  padding='same',\n",
        "                  activation='relu'),\n",
        "    layers.MaxPool2D(pool_size=2,\n",
        "                     strides=1,\n",
        "                     padding='same')\n",
        "    # More layers follow\n",
        "])"
      ],
      "execution_count": 14,
      "outputs": []
    },
    {
      "cell_type": "markdown",
      "metadata": {
        "id": "AKKfIv-lhDd5"
      },
      "source": [
        "<a name='x.1.1'></a>\n",
        "\n",
        "### 4.1.1 Stride\n",
        "\n",
        "[back to top](#top)\n",
        "\n",
        "Stride defines the the step size we take with each kernel as it passes along the input array. The stride needs to be defined in both the horizontal and vertical dimensions. This animation shows a 2x2 stride\n",
        "\n",
        "\n",
        "<p align=center>\n",
        "<img src=\"https://i.imgur.com/Tlptsvt.gif\" width=400></img>\n",
        "\n",
        "The stride will often be 1 for CNNs, where we don't want to lose any important information. Maximum pooling layers will often have strides greater than 1, to better summarize/accentuate the relevant features/activations.\n",
        "\n",
        "If the stride is the same in both the horizontal and vertical directions, it can be set with a single number like `strides=2` within keras.\n",
        "\n"
      ]
    },
    {
      "cell_type": "markdown",
      "metadata": {
        "id": "7alp2F6yhHuF"
      },
      "source": [
        "### 4.1.2 Padding\n",
        "\n",
        "[back to top](#top)\n",
        "\n",
        "Padding attempts to resolve our issue at the border: our kernel requires information surrounding the centered pixel, and at the border of the input array we don't have that information. What to do?\n",
        "\n",
        "We have a couple popular options within the keras framework. We can set `padding='valid'` and only slide the kernel to the edge of the input array. This has the drawback of feature maps shrinking in size as we pass through the NN. Another option is to set `padding='same'` what this will do is pad the input array with 0's, just enough of them to allow the feature map to be the same size as the input array. This is shown in the gif below:\n",
        "\n",
        "\n",
        "<p align=center>\n",
        "<img src=\"https://i.imgur.com/RvGM2xb.gif\" width=400></img>\n",
        "\n",
        "The downside of setting the padding to same will be that features at the edges of the image will be diluted. "
      ]
    },
    {
      "cell_type": "markdown",
      "metadata": {
        "id": "NrdxWYLShOHt"
      },
      "source": [
        "<a name='x.1.3'></a>\n",
        "\n",
        "### 4.1.3 Exercise: Exploring Sliding Windows\n",
        "\n",
        "[back to top](#top)"
      ]
    },
    {
      "cell_type": "code",
      "metadata": {
        "id": "XvS9ayAtrKop"
      },
      "source": [
        "from skimage import draw, transform\n",
        "from itertools import product\n",
        "# helper functions borrowed from Ryan Holbrook\n",
        "# https://mathformachines.com/\n",
        "\n",
        "def circle(size, val=None, r_shrink=0):\n",
        "    circle = np.zeros([size[0]+1, size[1]+1])\n",
        "    rr, cc = draw.circle_perimeter(\n",
        "        size[0]//2, size[1]//2,\n",
        "        radius=size[0]//2 - r_shrink,\n",
        "        shape=[size[0]+1, size[1]+1],\n",
        "    )\n",
        "    if val is None:\n",
        "        circle[rr, cc] = np.random.uniform(size=circle.shape)[rr, cc]\n",
        "    else:\n",
        "        circle[rr, cc] = val\n",
        "    circle = transform.resize(circle, size, order=0)\n",
        "    return circle\n",
        "\n",
        "def show_kernel(kernel, label=True, digits=None, text_size=28):\n",
        "    # Format kernel\n",
        "    kernel = np.array(kernel)\n",
        "    if digits is not None:\n",
        "        kernel = kernel.round(digits)\n",
        "\n",
        "    # Plot kernel\n",
        "    cmap = plt.get_cmap('Blues_r')\n",
        "    plt.imshow(kernel, cmap=cmap)\n",
        "    rows, cols = kernel.shape\n",
        "    thresh = (kernel.max()+kernel.min())/2\n",
        "    # Optionally, add value labels\n",
        "    if label:\n",
        "        for i, j in product(range(rows), range(cols)):\n",
        "            val = kernel[i, j]\n",
        "            color = cmap(0) if val > thresh else cmap(255)\n",
        "            plt.text(j, i, val, \n",
        "                     color=color, size=text_size,\n",
        "                     horizontalalignment='center', verticalalignment='center')\n",
        "    plt.xticks([])\n",
        "    plt.yticks([])\n",
        "\n",
        "def show_extraction(image,\n",
        "                    kernel,\n",
        "                    conv_stride=1,\n",
        "                    conv_padding='valid',\n",
        "                    activation='relu',\n",
        "                    pool_size=2,\n",
        "                    pool_stride=2,\n",
        "                    pool_padding='same',\n",
        "                    figsize=(10, 10),\n",
        "                    subplot_shape=(2, 2),\n",
        "                    ops=['Input', 'Filter', 'Detect', 'Condense'],\n",
        "                    gamma=1.0):\n",
        "    # Create Layers\n",
        "    model = tf.keras.Sequential([\n",
        "                    tf.keras.layers.Conv2D(\n",
        "                        filters=1,\n",
        "                        kernel_size=kernel.shape,\n",
        "                        strides=conv_stride,\n",
        "                        padding=conv_padding,\n",
        "                        use_bias=False,\n",
        "                        input_shape=image.shape,\n",
        "                    ),\n",
        "                    tf.keras.layers.Activation(activation),\n",
        "                    tf.keras.layers.MaxPool2D(\n",
        "                        pool_size=pool_size,\n",
        "                        strides=pool_stride,\n",
        "                        padding=pool_padding,\n",
        "                    ),\n",
        "                   ])\n",
        "\n",
        "    layer_filter, layer_detect, layer_condense = model.layers\n",
        "    kernel = tf.reshape(kernel, [*kernel.shape, 1, 1])\n",
        "    layer_filter.set_weights([kernel])\n",
        "\n",
        "    # Format for TF\n",
        "    image = tf.expand_dims(image, axis=0)\n",
        "    image = tf.image.convert_image_dtype(image, dtype=tf.float32) \n",
        "    \n",
        "    # Extract Feature\n",
        "    image_filter = layer_filter(image)\n",
        "    image_detect = layer_detect(image_filter)\n",
        "    image_condense = layer_condense(image_detect)\n",
        "    \n",
        "    images = {}\n",
        "    if 'Input' in ops:\n",
        "        images.update({'Input': (image, 1.0)})\n",
        "    if 'Filter' in ops:\n",
        "        images.update({'Filter': (image_filter, 1.0)})\n",
        "    if 'Detect' in ops:\n",
        "        images.update({'Detect': (image_detect, gamma)})\n",
        "    if 'Condense' in ops:\n",
        "        images.update({'Condense': (image_condense, gamma)})\n",
        "    \n",
        "    # Plot\n",
        "    plt.figure(figsize=figsize)\n",
        "    for i, title in enumerate(ops):\n",
        "        image, gamma = images[title]\n",
        "        plt.subplot(*subplot_shape, i+1)\n",
        "        plt.imshow(tf.image.adjust_gamma(tf.squeeze(image), gamma))\n",
        "        plt.axis('off')\n",
        "        plt.title(title)"
      ],
      "execution_count": 15,
      "outputs": []
    },
    {
      "cell_type": "markdown",
      "metadata": {
        "id": "35AqZwjhr8Fc"
      },
      "source": [
        "Create an image and kernel:"
      ]
    },
    {
      "cell_type": "code",
      "metadata": {
        "colab": {
          "base_uri": "https://localhost:8080/",
          "height": 297
        },
        "id": "fu9k-3_h2la8",
        "outputId": "0b61c712-f348-4491-c3d6-f939eeb4bce5"
      },
      "source": [
        "import tensorflow as tf\n",
        "import matplotlib.pyplot as plt\n",
        "\n",
        "plt.rc('figure', autolayout=True)\n",
        "plt.rc('axes', labelweight='bold', labelsize='large',\n",
        "       titleweight='bold', titlesize=18, titlepad=10)\n",
        "plt.rc('image', cmap='magma')\n",
        "\n",
        "image = circle([64, 64], val=1.0, r_shrink=3)\n",
        "image = tf.reshape(image, [*image.shape, 1])\n",
        "# Bottom sobel\n",
        "kernel = tf.constant(\n",
        "    [[-1, -2, -1],\n",
        "     [0, 0, 0],\n",
        "     [1, 2, 1]],\n",
        ")\n",
        "\n",
        "show_kernel(kernel)"
      ],
      "execution_count": 16,
      "outputs": [
        {
          "output_type": "display_data",
          "data": {
            "image/png": "[encoded data removed]",
            "text/plain": [
              "<Figure size 432x288 with 1 Axes>"
            ]
          },
          "metadata": {
            "tags": []
          }
        }
      ]
    },
    {
      "cell_type": "markdown",
      "metadata": {
        "id": "cja4Tp71sKjI"
      },
      "source": [
        "What do we think this kernel is meant to detect for?\n",
        "\n",
        "We will apply our kernel with a 1x1 stride and our max pooling with a 2x2 stride and pool size of 2."
      ]
    },
    {
      "cell_type": "code",
      "metadata": {
        "colab": {
          "base_uri": "https://localhost:8080/",
          "height": 293
        },
        "id": "kKrNWeYSsV2W",
        "outputId": "29040533-1bd9-4057-f722-6868493fda2e"
      },
      "source": [
        "show_extraction(\n",
        "    image, kernel,\n",
        "\n",
        "    # Window parameters\n",
        "    conv_stride=1,\n",
        "    pool_size=2,\n",
        "    pool_stride=2,\n",
        "\n",
        "    subplot_shape=(1, 4),\n",
        "    figsize=(14, 6),\n",
        ")"
      ],
      "execution_count": 17,
      "outputs": [
        {
          "output_type": "display_data",
          "data": {
            "image/png": "[encoded data removed]",
            "text/plain": [
              "<Figure size 1008x432 with 4 Axes>"
            ]
          },
          "metadata": {
            "tags": [],
            "needs_background": "light"
          }
        }
      ]
    },
    {
      "cell_type": "markdown",
      "metadata": {
        "id": "zlEbO_Sh0N9c"
      },
      "source": [
        "Works ok! what about a higher conv stride?"
      ]
    },
    {
      "cell_type": "code",
      "metadata": {
        "colab": {
          "base_uri": "https://localhost:8080/",
          "height": 293
        },
        "id": "UUenv0SR0LSn",
        "outputId": "5b71084c-7736-4ca1-9dc1-da888aa69534"
      },
      "source": [
        "show_extraction(\n",
        "    image, kernel,\n",
        "\n",
        "    # Window parameters\n",
        "    conv_stride=3,\n",
        "    pool_size=2,\n",
        "    pool_stride=2,\n",
        "\n",
        "    subplot_shape=(1, 4),\n",
        "    figsize=(14, 6),\n",
        ")"
      ],
      "execution_count": 18,
      "outputs": [
        {
          "output_type": "display_data",
          "data": {
            "image/png": "[encoded data removed]",
            "text/plain": [
              "<Figure size 1008x432 with 4 Axes>"
            ]
          },
          "metadata": {
            "tags": [],
            "needs_background": "light"
          }
        }
      ]
    },
    {
      "cell_type": "markdown",
      "metadata": {
        "id": "XzZ0iWn-0Xw2"
      },
      "source": [
        "Looks like we lost a bit of information!\n",
        "\n",
        "Sometimes published models will use a larger kernel and stride in the initial layer to produce large-scale features early on in the network without losing too much information (ResNet50 uses 7x7 kernels with a stride of 2). For now, without having much experience it's safe to set conv strides to 1.\n",
        "\n",
        "Take a moment here with the given kernel and explore different settings for applying both the kernel and the max_pool\n",
        "\n",
        "```\n",
        "conv_stride=YOUR_VALUE, # condenses pixels\n",
        "pool_size=YOUR_VALUE,\n",
        "pool_stride=YOUR_VALUE, # condenses pixels\n",
        "```\n",
        "\n",
        "Given a total condensation of 8 (I'm taking condensation to mean `conv_stride` x `pool_stride`). what do you think is the best combination of values for `conv_stride, pool_size, and pool_stride`?"
      ]
    },
    {
      "cell_type": "markdown",
      "metadata": {
        "id": "FKQh19GnM8Iq"
      },
      "source": [
        "<a name='x.2'></a>\n",
        "\n",
        "## 4.2 Custom CNN\n",
        "\n",
        "[back to top](#top)\n",
        "\n",
        "As we move through the network, small-scale features (lines, edges, etc.) turn to large-scale features (shapes, eyes, ears, etc). We call these blocks of convolution, ReLU, and max pool **_convolutional blocks_** and they are the low level modular framework we work with. By this means, the CNN is able to design it's own features, ones suited for the classification or regression task at hand. \n",
        "\n",
        "We will design a custom CNN for the Casting Defect Detection Dataset."
      ]
    },
    {
      "cell_type": "markdown",
      "metadata": {
        "id": "ErPvdRfJFTs4"
      },
      "source": [
        "In the following I'm going to double the filter size after the first block. This is a common pattern as the max pooling layers forces us in the opposite direction."
      ]
    },
    {
      "cell_type": "code",
      "metadata": {
        "id": "FJqyUO21M7ZS"
      },
      "source": [
        "#Creating model\n",
        "\n",
        "model = Sequential()\n",
        "\n",
        "model.add(InputLayer(input_shape=(image_shape)))\n",
        "\n",
        "model.add(Conv2D(filters=8, kernel_size=(3,3), activation='relu',))\n",
        "model.add(MaxPooling2D(pool_size=(2, 2)))\n",
        "\n",
        "model.add(Conv2D(filters=16, kernel_size=(3,3), activation='relu',))\n",
        "model.add(MaxPooling2D(pool_size=(2, 2)))\n",
        "\n",
        "model.add(Conv2D(filters=16, kernel_size=(3,3), activation='relu',))\n",
        "model.add(MaxPooling2D(pool_size=(2, 2)))\n",
        "\n",
        "model.add(Flatten())\n",
        "\n",
        "model.add(Dense(224))\n",
        "model.add(Activation('relu'))\n",
        "\n",
        "# Last layer\n",
        "model.add(Dense(1))\n",
        "model.add(Activation('sigmoid'))\n",
        "\n",
        "model.compile(loss='binary_crossentropy',\n",
        "              optimizer='adam',\n",
        "              metrics=['binary_accuracy'])\n",
        "\n",
        "early_stop = EarlyStopping(monitor='val_loss',\n",
        "                           patience=5,\n",
        "                           restore_best_weights=True,)"
      ],
      "execution_count": 19,
      "outputs": []
    },
    {
      "cell_type": "code",
      "metadata": {
        "colab": {
          "base_uri": "https://localhost:8080/"
        },
        "id": "mLQYWTNuNSm2",
        "outputId": "9c76882a-c6ca-4e75-de80-0d9829e287d5"
      },
      "source": [
        "# with CPU + ImageDataGenerator runs for about 40 minutes (5 epochs)\n",
        "# with GPU + image_dataset_from_directory runs for about 4 minutes (16 epochs)\n",
        "with tf.device('/device:GPU:0'):\n",
        "  results = model.fit(train_set,\n",
        "                      epochs=20,\n",
        "                      validation_data=test_set,\n",
        "                      callbacks=[early_stop])"
      ],
      "execution_count": 20,
      "outputs": [
        {
          "output_type": "stream",
          "text": [
            "Epoch 1/20\n",
            "27/27 [==============================] - 224s 7s/step - loss: 68.2100 - binary_accuracy: 0.5714 - val_loss: 0.8023 - val_binary_accuracy: 0.5343\n",
            "Epoch 2/20\n",
            "27/27 [==============================] - 3s 86ms/step - loss: 0.5720 - binary_accuracy: 0.7048 - val_loss: 0.5140 - val_binary_accuracy: 0.7399\n",
            "Epoch 3/20\n",
            "27/27 [==============================] - 3s 82ms/step - loss: 0.4475 - binary_accuracy: 0.7881 - val_loss: 0.4868 - val_binary_accuracy: 0.7524\n",
            "Epoch 4/20\n",
            "27/27 [==============================] - 3s 84ms/step - loss: 0.4018 - binary_accuracy: 0.8202 - val_loss: 0.5074 - val_binary_accuracy: 0.7469\n",
            "Epoch 5/20\n",
            "27/27 [==============================] - 3s 87ms/step - loss: 0.3237 - binary_accuracy: 0.8631 - val_loss: 0.4168 - val_binary_accuracy: 0.8112\n",
            "Epoch 6/20\n",
            "27/27 [==============================] - 3s 82ms/step - loss: 0.1998 - binary_accuracy: 0.9333 - val_loss: 0.3857 - val_binary_accuracy: 0.8322\n",
            "Epoch 7/20\n",
            "27/27 [==============================] - 3s 83ms/step - loss: 0.1086 - binary_accuracy: 0.9738 - val_loss: 0.2786 - val_binary_accuracy: 0.8853\n",
            "Epoch 8/20\n",
            "27/27 [==============================] - 3s 83ms/step - loss: 0.0560 - binary_accuracy: 0.9929 - val_loss: 0.3389 - val_binary_accuracy: 0.8615\n",
            "Epoch 9/20\n",
            "27/27 [==============================] - 3s 85ms/step - loss: 0.0345 - binary_accuracy: 0.9952 - val_loss: 0.2035 - val_binary_accuracy: 0.9175\n",
            "Epoch 10/20\n",
            "27/27 [==============================] - 3s 85ms/step - loss: 0.0772 - binary_accuracy: 0.9762 - val_loss: 0.2724 - val_binary_accuracy: 0.8979\n",
            "Epoch 11/20\n",
            "27/27 [==============================] - 3s 87ms/step - loss: 0.0336 - binary_accuracy: 0.9976 - val_loss: 0.4880 - val_binary_accuracy: 0.8420\n",
            "Epoch 12/20\n",
            "27/27 [==============================] - 3s 84ms/step - loss: 0.0387 - binary_accuracy: 0.9881 - val_loss: 0.2376 - val_binary_accuracy: 0.9105\n",
            "Epoch 13/20\n",
            "27/27 [==============================] - 3s 86ms/step - loss: 0.0172 - binary_accuracy: 0.9988 - val_loss: 0.2523 - val_binary_accuracy: 0.9133\n",
            "Epoch 14/20\n",
            "27/27 [==============================] - 3s 88ms/step - loss: 0.0045 - binary_accuracy: 1.0000 - val_loss: 0.3099 - val_binary_accuracy: 0.9021\n"
          ],
          "name": "stdout"
        }
      ]
    },
    {
      "cell_type": "code",
      "metadata": {
        "id": "PJtAJNZDmQrJ"
      },
      "source": [
        "# model.save('inspection_of_casting_products.h5')"
      ],
      "execution_count": null,
      "outputs": []
    },
    {
      "cell_type": "markdown",
      "metadata": {
        "id": "4fSBo4FzlfNX"
      },
      "source": [
        "<a name='x.2.1'></a>\n",
        "\n",
        "### 4.2.1 Evaluate Model\n",
        "\n",
        "[back to top](#top)"
      ]
    },
    {
      "cell_type": "code",
      "metadata": {
        "id": "7Iswt4YgF1pm"
      },
      "source": [
        "# model.load_weights('inspection_of_casting_products.h5')"
      ],
      "execution_count": null,
      "outputs": []
    },
    {
      "cell_type": "code",
      "metadata": {
        "id": "SfcufkGXi2eh"
      },
      "source": [
        "losses = pd.DataFrame(results.history)\n",
        "# losses.to_csv('history_simple_model.csv', index=False)"
      ],
      "execution_count": 21,
      "outputs": []
    },
    {
      "cell_type": "code",
      "metadata": {
        "colab": {
          "base_uri": "https://localhost:8080/",
          "height": 387
        },
        "id": "9eqLn69jlyaD",
        "outputId": "7b56e8ef-ad89-491a-d552-ff189b3bb187"
      },
      "source": [
        "fig, ax = plt.subplots(1, 2, figsize=(10,5))\n",
        "losses[['loss','val_loss']].plot(ax=ax[0])\n",
        "losses[['binary_accuracy','val_binary_accuracy']].plot(ax=ax[1])"
      ],
      "execution_count": 22,
      "outputs": [
        {
          "output_type": "execute_result",
          "data": {
            "text/plain": [
              "<matplotlib.axes._subplots.AxesSubplot at 0x7f20b425fa50>"
            ]
          },
          "metadata": {
            "tags": []
          },
          "execution_count": 22
        },
        {
          "output_type": "display_data",
          "data": {
            "image/png": "[encoded data removed]",
            "text/plain": [
              "<Figure size 720x360 with 2 Axes>"
            ]
          },
          "metadata": {
            "tags": [],
            "needs_background": "light"
          }
        }
      ]
    },
    {
      "cell_type": "code",
      "metadata": {
        "colab": {
          "base_uri": "https://localhost:8080/"
        },
        "id": "z6CfWM7Gl-Ig",
        "outputId": "51bed990-6046-45de-d9da-75f0ec456d58"
      },
      "source": [
        "# predict test set\n",
        "pred_probability = model.predict(test_set)\n",
        "\n",
        "# convert to bool\n",
        "predictions = pred_probability > 0.5\n",
        "\n",
        "# precision / recall / f1-score \n",
        "\n",
        "# test_set.classes to get images from ImageDataGenerator\n",
        "\n",
        "# for image_dataset_from_directory we have to do a little gymnastics \n",
        "# to get the labels\n",
        "labels = np.array([])\n",
        "for x, y in ds_valid_:\n",
        "  labels = np.concatenate([labels, tf.squeeze(y.numpy()).numpy()])\n",
        "\n",
        "print(classification_report(labels,predictions))"
      ],
      "execution_count": 23,
      "outputs": [
        {
          "output_type": "stream",
          "text": [
            "              precision    recall  f1-score   support\n",
            "\n",
            "         0.0       0.97      0.90      0.93       453\n",
            "         1.0       0.84      0.95      0.89       262\n",
            "\n",
            "    accuracy                           0.92       715\n",
            "   macro avg       0.91      0.93      0.91       715\n",
            "weighted avg       0.92      0.92      0.92       715\n",
            "\n"
          ],
          "name": "stdout"
        }
      ]
    },
    {
      "cell_type": "code",
      "metadata": {
        "colab": {
          "base_uri": "https://localhost:8080/",
          "height": 459
        },
        "id": "3ffQTpRcmLdx",
        "outputId": "0d7d7a08-c1d4-4e99-c569-0e5d4f1e67f1"
      },
      "source": [
        "plt.figure(figsize=(10,6))\n",
        "sns.heatmap(confusion_matrix(labels,predictions),annot=True)"
      ],
      "execution_count": 24,
      "outputs": [
        {
          "output_type": "execute_result",
          "data": {
            "text/plain": [
              "<matplotlib.axes._subplots.AxesSubplot at 0x7f20bc8bd150>"
            ]
          },
          "metadata": {
            "tags": []
          },
          "execution_count": 24
        },
        {
          "output_type": "display_data",
          "data": {
            "image/png": "[encoded data removed]",
            "text/plain": [
              "<Figure size 720x432 with 2 Axes>"
            ]
          },
          "metadata": {
            "tags": [],
            "needs_background": "light"
          }
        }
      ]
    },
    {
      "cell_type": "markdown",
      "metadata": {
        "id": "GTTWyFrXDvoN"
      },
      "source": [
        "<a name='x.3'></a>\n",
        "\n",
        "## 4.3 Data Augmentation\n",
        "\n",
        "[back to top](#top)\n",
        "\n",
        "Alright, alright, alright. We've done pretty good making our CNN model. But let's see if we can make it even better. There's a last trick we'll cover here in regard to image classifiers. We're going to perturb the input images in such a way as to create a pseudo-larger dataset.\n",
        "\n",
        "With any machine learning model, the more relevant training data we give the model, the better. The key here is _relevant_ training data. We can easily do this with images so long as we do not change the class of the image. For example, in the small plot below, we are changing contrast, hue, rotation, and doing other things to the image of a car; and this is okay because it does not change the classification from a car to, say, a truck.\n",
        "\n",
        "<p align=center>\n",
        "<img src=\"https://i.imgur.com/UaOm0ms.png\" width=400></img>\n",
        "\n",
        "Typically when we do data augmentation for images, we do them _online_, i.e. during training. Recall that we train in batches (or minibatches) with CNNs. An example of a minibatch then, might be the small multiples plot below.\n",
        "\n",
        "<p align=center>\n",
        "<img src=\"https://i.imgur.com/MFviYoE.png\" width=400></img>\n",
        "\n",
        "by varying the images in this way, the model always sees slightly new data, and becomes a more robust model. Remember that the caveat is that we can't muddle the relevant classification of the image. Sometimes the best way to see if data augmentation will be helpful is to just try it and see!"
      ]
    },
    {
      "cell_type": "code",
      "metadata": {
        "id": "1o9ATkGp3-OR"
      },
      "source": [
        "from tensorflow.keras.layers.experimental import preprocessing\n",
        "\n",
        "#Creating model\n",
        "\n",
        "model = Sequential()\n",
        "\n",
        "model.add(preprocessing.RandomFlip('horizontal')), # flip left-to-right\n",
        "model.add(preprocessing.RandomFlip('vertical')), # flip upside-down\n",
        "model.add(preprocessing.RandomContrast(0.5)), # contrast change by up to 50%\n",
        "\n",
        "model.add(Conv2D(filters=8, kernel_size=(3,3),input_shape=image_shape, activation='relu',))\n",
        "model.add(MaxPooling2D(pool_size=(2, 2)))\n",
        "\n",
        "model.add(Conv2D(filters=16, kernel_size=(3,3), activation='relu',))\n",
        "model.add(MaxPooling2D(pool_size=(2, 2)))\n",
        "\n",
        "model.add(Conv2D(filters=16, kernel_size=(3,3), activation='relu',))\n",
        "model.add(MaxPooling2D(pool_size=(2, 2)))\n",
        "\n",
        "model.add(Flatten())\n",
        "\n",
        "model.add(Dense(224))\n",
        "model.add(Activation('relu'))\n",
        "\n",
        "# Last layer\n",
        "model.add(Dense(1))\n",
        "model.add(Activation('sigmoid'))\n",
        "\n",
        "model.compile(loss='binary_crossentropy',\n",
        "              optimizer='adam',\n",
        "              metrics=['binary_accuracy'])\n",
        "\n",
        "early_stop = EarlyStopping(monitor='val_loss',\n",
        "                           patience=5,\n",
        "                           restore_best_weights=True,)"
      ],
      "execution_count": 25,
      "outputs": []
    },
    {
      "cell_type": "code",
      "metadata": {
        "colab": {
          "base_uri": "https://localhost:8080/"
        },
        "id": "lRZOVdQoHP0z",
        "outputId": "191d009e-3839-4ad5-9146-75e7d902469f"
      },
      "source": [
        "results = model.fit(train_set,\n",
        "                    epochs=30,\n",
        "                    validation_data=test_set,\n",
        "                    callbacks=[early_stop])"
      ],
      "execution_count": 26,
      "outputs": [
        {
          "output_type": "stream",
          "text": [
            "Epoch 1/30\n",
            "27/27 [==============================] - 3s 89ms/step - loss: 63.6867 - binary_accuracy: 0.5500 - val_loss: 1.4445 - val_binary_accuracy: 0.5888\n",
            "Epoch 2/30\n",
            "27/27 [==============================] - 3s 87ms/step - loss: 1.5593 - binary_accuracy: 0.6036 - val_loss: 1.2496 - val_binary_accuracy: 0.6573\n",
            "Epoch 3/30\n",
            "27/27 [==============================] - 3s 86ms/step - loss: 1.0772 - binary_accuracy: 0.6869 - val_loss: 0.4536 - val_binary_accuracy: 0.8014\n",
            "Epoch 4/30\n",
            "27/27 [==============================] - 3s 85ms/step - loss: 0.8275 - binary_accuracy: 0.7095 - val_loss: 0.3635 - val_binary_accuracy: 0.8336\n",
            "Epoch 5/30\n",
            "27/27 [==============================] - 3s 86ms/step - loss: 0.5000 - binary_accuracy: 0.7821 - val_loss: 0.3140 - val_binary_accuracy: 0.8643\n",
            "Epoch 6/30\n",
            "27/27 [==============================] - 3s 86ms/step - loss: 0.4402 - binary_accuracy: 0.8214 - val_loss: 0.2672 - val_binary_accuracy: 0.8783\n",
            "Epoch 7/30\n",
            "27/27 [==============================] - 3s 85ms/step - loss: 0.3306 - binary_accuracy: 0.8524 - val_loss: 0.9402 - val_binary_accuracy: 0.6825\n",
            "Epoch 8/30\n",
            "27/27 [==============================] - 3s 86ms/step - loss: 1.1711 - binary_accuracy: 0.7143 - val_loss: 0.4291 - val_binary_accuracy: 0.8252\n",
            "Epoch 9/30\n",
            "27/27 [==============================] - 3s 86ms/step - loss: 0.3464 - binary_accuracy: 0.8583 - val_loss: 0.5895 - val_binary_accuracy: 0.7832\n",
            "Epoch 10/30\n",
            "27/27 [==============================] - 3s 85ms/step - loss: 0.3010 - binary_accuracy: 0.8738 - val_loss: 0.4319 - val_binary_accuracy: 0.8196\n",
            "Epoch 11/30\n",
            "27/27 [==============================] - 3s 89ms/step - loss: 0.2554 - binary_accuracy: 0.8893 - val_loss: 0.2068 - val_binary_accuracy: 0.9091\n",
            "Epoch 12/30\n",
            "27/27 [==============================] - 3s 86ms/step - loss: 0.1639 - binary_accuracy: 0.9512 - val_loss: 0.1869 - val_binary_accuracy: 0.9189\n",
            "Epoch 13/30\n",
            "27/27 [==============================] - 3s 89ms/step - loss: 0.1728 - binary_accuracy: 0.9298 - val_loss: 0.1441 - val_binary_accuracy: 0.9441\n",
            "Epoch 14/30\n",
            "27/27 [==============================] - 3s 85ms/step - loss: 0.1314 - binary_accuracy: 0.9536 - val_loss: 0.1434 - val_binary_accuracy: 0.9455\n",
            "Epoch 15/30\n",
            "27/27 [==============================] - 3s 85ms/step - loss: 0.1620 - binary_accuracy: 0.9512 - val_loss: 0.2196 - val_binary_accuracy: 0.9091\n",
            "Epoch 16/30\n",
            "27/27 [==============================] - 3s 87ms/step - loss: 0.1345 - binary_accuracy: 0.9512 - val_loss: 0.1243 - val_binary_accuracy: 0.9538\n",
            "Epoch 17/30\n",
            "27/27 [==============================] - 3s 86ms/step - loss: 0.3751 - binary_accuracy: 0.8500 - val_loss: 0.6976 - val_binary_accuracy: 0.7580\n",
            "Epoch 18/30\n",
            "27/27 [==============================] - 3s 86ms/step - loss: 0.2022 - binary_accuracy: 0.9214 - val_loss: 0.1656 - val_binary_accuracy: 0.9231\n",
            "Epoch 19/30\n",
            "27/27 [==============================] - 3s 84ms/step - loss: 0.1082 - binary_accuracy: 0.9571 - val_loss: 0.1395 - val_binary_accuracy: 0.9371\n",
            "Epoch 20/30\n",
            "27/27 [==============================] - 3s 84ms/step - loss: 0.0978 - binary_accuracy: 0.9643 - val_loss: 0.1182 - val_binary_accuracy: 0.9441\n",
            "Epoch 21/30\n",
            "27/27 [==============================] - 3s 88ms/step - loss: 0.1174 - binary_accuracy: 0.9583 - val_loss: 0.1207 - val_binary_accuracy: 0.9469\n",
            "Epoch 22/30\n",
            "27/27 [==============================] - 3s 87ms/step - loss: 0.0898 - binary_accuracy: 0.9774 - val_loss: 0.1390 - val_binary_accuracy: 0.9413\n",
            "Epoch 23/30\n",
            "27/27 [==============================] - 3s 89ms/step - loss: 0.1028 - binary_accuracy: 0.9607 - val_loss: 0.1150 - val_binary_accuracy: 0.9552\n",
            "Epoch 24/30\n",
            "27/27 [==============================] - 3s 86ms/step - loss: 0.1146 - binary_accuracy: 0.9583 - val_loss: 0.1078 - val_binary_accuracy: 0.9650\n",
            "Epoch 25/30\n",
            "27/27 [==============================] - 3s 89ms/step - loss: 0.1007 - binary_accuracy: 0.9643 - val_loss: 0.0802 - val_binary_accuracy: 0.9692\n",
            "Epoch 26/30\n",
            "27/27 [==============================] - 3s 88ms/step - loss: 0.0882 - binary_accuracy: 0.9750 - val_loss: 0.0755 - val_binary_accuracy: 0.9692\n",
            "Epoch 27/30\n",
            "27/27 [==============================] - 3s 89ms/step - loss: 0.0884 - binary_accuracy: 0.9750 - val_loss: 0.1813 - val_binary_accuracy: 0.9385\n",
            "Epoch 28/30\n",
            "27/27 [==============================] - 3s 85ms/step - loss: 0.0908 - binary_accuracy: 0.9631 - val_loss: 0.1431 - val_binary_accuracy: 0.9385\n",
            "Epoch 29/30\n",
            "27/27 [==============================] - 3s 87ms/step - loss: 0.0576 - binary_accuracy: 0.9833 - val_loss: 0.0920 - val_binary_accuracy: 0.9664\n",
            "Epoch 30/30\n",
            "27/27 [==============================] - 3s 87ms/step - loss: 0.1199 - binary_accuracy: 0.9500 - val_loss: 0.3270 - val_binary_accuracy: 0.8769\n"
          ],
          "name": "stdout"
        }
      ]
    },
    {
      "cell_type": "markdown",
      "metadata": {
        "id": "5pfVDQlYjaWQ"
      },
      "source": [
        "<a name='x.3.1'></a>\n",
        "\n",
        "### 4.3.1 Evaluate Model\n",
        "\n",
        "[back to top](#top)"
      ]
    },
    {
      "cell_type": "code",
      "metadata": {
        "id": "z5OJ0N1zJ6Df"
      },
      "source": [
        "losses = pd.DataFrame(results.history)\n",
        "# losses.to_csv('history_augment_model.csv', index=False)"
      ],
      "execution_count": 27,
      "outputs": []
    },
    {
      "cell_type": "code",
      "metadata": {
        "id": "9eQ48mBdN0LB",
        "colab": {
          "base_uri": "https://localhost:8080/",
          "height": 387
        },
        "outputId": "3d0cad5b-a41f-4a71-bb44-59f2353e04a3"
      },
      "source": [
        "fig, ax = plt.subplots(1, 2, figsize=(10,5))\n",
        "losses[['loss','val_loss']].plot(ax=ax[0])\n",
        "losses[['binary_accuracy','val_binary_accuracy']].plot(ax=ax[1])"
      ],
      "execution_count": 28,
      "outputs": [
        {
          "output_type": "execute_result",
          "data": {
            "text/plain": [
              "<matplotlib.axes._subplots.AxesSubplot at 0x7f20bbbc59d0>"
            ]
          },
          "metadata": {
            "tags": []
          },
          "execution_count": 28
        },
        {
          "output_type": "display_data",
          "data": {
            "image/png": "[encoded data removed]",
            "text/plain": [
              "<Figure size 720x360 with 2 Axes>"
            ]
          },
          "metadata": {
            "tags": [],
            "needs_background": "light"
          }
        }
      ]
    },
    {
      "cell_type": "code",
      "metadata": {
        "id": "8WMFYSANT9NU",
        "colab": {
          "base_uri": "https://localhost:8080/"
        },
        "outputId": "22136d47-43fb-40dc-e60b-4ce8e96630c4"
      },
      "source": [
        "# predict test set\n",
        "pred_probability = model.predict(test_set)\n",
        "\n",
        "# convert to bool\n",
        "predictions = pred_probability > 0.5\n",
        "\n",
        "# precision / recall / f1-score \n",
        "\n",
        "# test_set.classes to get images from ImageDataGenerator\n",
        "\n",
        "# for image_dataset_from_directory we have to do a little gymnastics \n",
        "# to get the labels\n",
        "labels = np.array([])\n",
        "for x, y in ds_valid_:\n",
        "  labels = np.concatenate([labels, tf.squeeze(y.numpy()).numpy()])\n",
        "\n",
        "print(classification_report(labels,predictions))"
      ],
      "execution_count": 29,
      "outputs": [
        {
          "output_type": "stream",
          "text": [
            "              precision    recall  f1-score   support\n",
            "\n",
            "         0.0       1.00      0.81      0.89       453\n",
            "         1.0       0.75      1.00      0.86       262\n",
            "\n",
            "    accuracy                           0.88       715\n",
            "   macro avg       0.87      0.90      0.87       715\n",
            "weighted avg       0.91      0.88      0.88       715\n",
            "\n"
          ],
          "name": "stdout"
        }
      ]
    },
    {
      "cell_type": "code",
      "metadata": {
        "id": "ehKG9eMTT_3D",
        "colab": {
          "base_uri": "https://localhost:8080/",
          "height": 459
        },
        "outputId": "53974a67-0e39-4c10-b6a3-1899de741458"
      },
      "source": [
        "plt.figure(figsize=(10,6))\n",
        "sns.heatmap(confusion_matrix(labels,predictions),annot=True)"
      ],
      "execution_count": 30,
      "outputs": [
        {
          "output_type": "execute_result",
          "data": {
            "text/plain": [
              "<matplotlib.axes._subplots.AxesSubplot at 0x7f20bda35890>"
            ]
          },
          "metadata": {
            "tags": []
          },
          "execution_count": 30
        },
        {
          "output_type": "display_data",
          "data": {
            "image/png": "[encoded data removed]",
            "text/plain": [
              "<Figure size 720x432 with 2 Axes>"
            ]
          },
          "metadata": {
            "tags": [],
            "needs_background": "light"
          }
        }
      ]
    },
    {
      "cell_type": "markdown",
      "metadata": {
        "id": "YBElwTahjiOH"
      },
      "source": [
        "<a name='x.3.2'></a>\n",
        "\n",
        "### 4.3.2 Exercise: Image Preprocessing Layers\n",
        "\n",
        "[back to top](#top)\n",
        "\n",
        "These layers apply random augmentation transforms to a batch of images. They are only active during training. You can visit the documentation [here](https://keras.io/api/layers/preprocessing_layers/image_preprocessing/)\n",
        "\n",
        "* `RandomCrop` layer\n",
        "* `RandomFlip` layer\n",
        "* `RandomTranslation` layer\n",
        "* `RandomRotation` layer\n",
        "* `RandomZoom` layer\n",
        "* `RandomHeight` layer\n",
        "* `RandomWidth` layer\n",
        "\n",
        "Use any combination of random augmentation transforms and retrain your model. Can you get a higher val performance? you may need to increase your epochs."
      ]
    },
    {
      "cell_type": "code",
      "metadata": {
        "id": "EUrtB6o_kFtI"
      },
      "source": [
        "# code cell for exercise 4.3.2"
      ],
      "execution_count": null,
      "outputs": []
    },
    {
      "cell_type": "markdown",
      "metadata": {
        "id": "GGijUvR_efGS"
      },
      "source": [
        "<a name='x.4'></a>\n",
        "\n",
        "## 4.4 Transfer Learning\n",
        "\n",
        "[back to top](#top)\n",
        "\n",
        "Transfer learning with [EfficientNet](https://keras.io/examples/vision/image_classification_efficientnet_fine_tuning/)"
      ]
    },
    {
      "cell_type": "code",
      "metadata": {
        "colab": {
          "base_uri": "https://localhost:8080/"
        },
        "id": "eqW1urIkXXZX",
        "outputId": "1316a4ec-6c0d-417b-95c3-1dd2cbcdb842"
      },
      "source": [
        "from tensorflow.keras.preprocessing import image_dataset_from_directory\n",
        "from tensorflow.data.experimental import AUTOTUNE\n",
        "\n",
        "path_to_casting_data = '/content/drive/MyDrive/courses/TECH_FUNDAMENTALS/data/casting_data_class_practice'\n",
        "\n",
        "technocast_train_path = path_to_casting_data + '/train/'\n",
        "technocast_test_path = path_to_casting_data + '/test/'\n",
        "\n",
        "# Load training and validation sets\n",
        "\n",
        "image_shape = (300,300,3)\n",
        "batch_size = 32\n",
        "\n",
        "ds_train_ = image_dataset_from_directory(\n",
        "    technocast_train_path,\n",
        "    labels='inferred',\n",
        "    label_mode='binary',\n",
        "    color_mode=\"grayscale\",\n",
        "    image_size=image_shape[:2],\n",
        "    batch_size=batch_size,\n",
        "    shuffle=True,\n",
        ")\n",
        "\n",
        "ds_valid_ = image_dataset_from_directory(\n",
        "    technocast_test_path,\n",
        "    labels='inferred',\n",
        "    label_mode='binary',\n",
        "    color_mode=\"grayscale\",\n",
        "    image_size=image_shape[:2],\n",
        "    batch_size=batch_size,\n",
        "    shuffle=False,\n",
        ")\n",
        "\n",
        "train_set = ds_train_.prefetch(buffer_size=AUTOTUNE)\n",
        "test_set = ds_valid_.prefetch(buffer_size=AUTOTUNE)"
      ],
      "execution_count": null,
      "outputs": [
        {
          "output_type": "stream",
          "text": [
            "Found 840 files belonging to 2 classes.\n",
            "Found 715 files belonging to 2 classes.\n"
          ],
          "name": "stdout"
        }
      ]
    },
    {
      "cell_type": "code",
      "metadata": {
        "id": "6uGF248rei0V"
      },
      "source": [
        "def build_model(image_shape):\n",
        "    input = tf.keras.layers.Input(shape=(image_shape))\n",
        "\n",
        "    # include_top = False will take of the last dense layer used for classification\n",
        "    model = tf.keras.applications.EfficientNetB3(include_top=False, \n",
        "                                                 input_tensor=input, \n",
        "                                                 weights=\"imagenet\")\n",
        "\n",
        "    # Freeze the pretrained weights\n",
        "    model.trainable = False\n",
        "\n",
        "    # now we have to rebuild the top\n",
        "    x = tf.keras.layers.GlobalAveragePooling2D(name=\"avg_pool\")(model.output)\n",
        "    x = tf.keras.layers.BatchNormalization()(x)\n",
        "\n",
        "    top_dropout_rate = 0.2\n",
        "    x = tf.keras.layers.Dropout(top_dropout_rate, name=\"top_dropout\")(x)\n",
        "\n",
        "    # use num-nodes = 1 for binary, class # for multiclass\n",
        "    output = tf.keras.layers.Dense(1, activation=\"softmax\", name=\"pred\")(x)\n",
        "\n",
        "    # Compile\n",
        "    model = tf.keras.Model(input, output, name=\"EfficientNet\")\n",
        "    model.compile(optimizer='adam', \n",
        "                  loss=\"binary_crossentropy\", \n",
        "                  metrics=[\"binary_accuracy\"])\n",
        "    return model"
      ],
      "execution_count": null,
      "outputs": []
    },
    {
      "cell_type": "code",
      "metadata": {
        "id": "0-BEjK-BerOy"
      },
      "source": [
        "model = build_model(image_shape)"
      ],
      "execution_count": null,
      "outputs": []
    },
    {
      "cell_type": "code",
      "metadata": {
        "id": "YGxyeT1MetnD",
        "colab": {
          "base_uri": "https://localhost:8080/"
        },
        "outputId": "10ee5dbc-6800-4344-c314-1ea263d74985"
      },
      "source": [
        "with tf.device('/device:GPU:0'):\n",
        "  results = model.fit(train_set,\n",
        "                      epochs=20,\n",
        "                      validation_data=test_set,\n",
        "                      callbacks=[early_stop])"
      ],
      "execution_count": null,
      "outputs": [
        {
          "output_type": "stream",
          "text": [
            "Epoch 1/20\n",
            "WARNING:tensorflow:Model was constructed with shape (None, 300, 300, 3) for input KerasTensor(type_spec=TensorSpec(shape=(None, 300, 300, 3), dtype=tf.float32, name='input_12'), name='input_12', description=\"created by layer 'input_12'\"), but it was called on an input with incompatible shape (None, 300, 300, 1).\n",
            "WARNING:tensorflow:Model was constructed with shape (None, 300, 300, 3) for input KerasTensor(type_spec=TensorSpec(shape=(None, 300, 300, 3), dtype=tf.float32, name='input_12'), name='input_12', description=\"created by layer 'input_12'\"), but it was called on an input with incompatible shape (None, 300, 300, 1).\n",
            "27/27 [==============================] - ETA: 0s - loss: 0.4457 - binary_accuracy: 0.4905WARNING:tensorflow:Model was constructed with shape (None, 300, 300, 3) for input KerasTensor(type_spec=TensorSpec(shape=(None, 300, 300, 3), dtype=tf.float32, name='input_12'), name='input_12', description=\"created by layer 'input_12'\"), but it was called on an input with incompatible shape (None, 300, 300, 1).\n",
            "27/27 [==============================] - 20s 442ms/step - loss: 0.4457 - binary_accuracy: 0.4905 - val_loss: 0.4851 - val_binary_accuracy: 0.3664\n",
            "Epoch 2/20\n",
            "27/27 [==============================] - 11s 381ms/step - loss: 0.1878 - binary_accuracy: 0.4905 - val_loss: 0.3930 - val_binary_accuracy: 0.3664\n",
            "Epoch 3/20\n",
            "27/27 [==============================] - 11s 384ms/step - loss: 0.1816 - binary_accuracy: 0.4905 - val_loss: 0.3407 - val_binary_accuracy: 0.3664\n",
            "Epoch 4/20\n",
            "27/27 [==============================] - 11s 378ms/step - loss: 0.1394 - binary_accuracy: 0.4905 - val_loss: 0.2971 - val_binary_accuracy: 0.3664\n",
            "Epoch 5/20\n",
            "27/27 [==============================] - 11s 380ms/step - loss: 0.0982 - binary_accuracy: 0.4905 - val_loss: 0.2490 - val_binary_accuracy: 0.3664\n",
            "Epoch 6/20\n",
            "27/27 [==============================] - 11s 376ms/step - loss: 0.1032 - binary_accuracy: 0.4905 - val_loss: 0.2130 - val_binary_accuracy: 0.3664\n",
            "Epoch 7/20\n",
            "27/27 [==============================] - 11s 380ms/step - loss: 0.0801 - binary_accuracy: 0.4905 - val_loss: 0.1846 - val_binary_accuracy: 0.3664\n",
            "Epoch 8/20\n",
            "27/27 [==============================] - 11s 383ms/step - loss: 0.0806 - binary_accuracy: 0.4905 - val_loss: 0.1509 - val_binary_accuracy: 0.3664\n",
            "Epoch 9/20\n",
            "27/27 [==============================] - 11s 379ms/step - loss: 0.0736 - binary_accuracy: 0.4905 - val_loss: 0.1263 - val_binary_accuracy: 0.3664\n",
            "Epoch 10/20\n",
            "27/27 [==============================] - 11s 379ms/step - loss: 0.0916 - binary_accuracy: 0.4905 - val_loss: 0.1008 - val_binary_accuracy: 0.3664\n",
            "Epoch 11/20\n",
            "27/27 [==============================] - 11s 381ms/step - loss: 0.0618 - binary_accuracy: 0.4905 - val_loss: 0.0886 - val_binary_accuracy: 0.3664\n",
            "Epoch 12/20\n",
            "27/27 [==============================] - 11s 380ms/step - loss: 0.0843 - binary_accuracy: 0.4905 - val_loss: 0.0728 - val_binary_accuracy: 0.3664\n",
            "Epoch 13/20\n",
            "27/27 [==============================] - 11s 383ms/step - loss: 0.0741 - binary_accuracy: 0.4905 - val_loss: 0.0593 - val_binary_accuracy: 0.3664\n",
            "Epoch 14/20\n",
            "27/27 [==============================] - 11s 381ms/step - loss: 0.0637 - binary_accuracy: 0.4905 - val_loss: 0.0535 - val_binary_accuracy: 0.3664\n",
            "Epoch 15/20\n",
            "27/27 [==============================] - 11s 380ms/step - loss: 0.0657 - binary_accuracy: 0.4905 - val_loss: 0.0491 - val_binary_accuracy: 0.3664\n",
            "Epoch 16/20\n",
            "27/27 [==============================] - 11s 375ms/step - loss: 0.0653 - binary_accuracy: 0.4905 - val_loss: 0.0424 - val_binary_accuracy: 0.3664\n",
            "Epoch 17/20\n",
            "27/27 [==============================] - 11s 378ms/step - loss: 0.0451 - binary_accuracy: 0.4905 - val_loss: 0.0394 - val_binary_accuracy: 0.3664\n",
            "Epoch 18/20\n",
            "27/27 [==============================] - 11s 382ms/step - loss: 0.0667 - binary_accuracy: 0.4905 - val_loss: 0.0345 - val_binary_accuracy: 0.3664\n",
            "Epoch 19/20\n",
            "27/27 [==============================] - 11s 382ms/step - loss: 0.0541 - binary_accuracy: 0.4905 - val_loss: 0.0351 - val_binary_accuracy: 0.3664\n",
            "Epoch 20/20\n",
            "27/27 [==============================] - 11s 381ms/step - loss: 0.0353 - binary_accuracy: 0.4905 - val_loss: 0.0365 - val_binary_accuracy: 0.3664\n"
          ],
          "name": "stdout"
        }
      ]
    }
  ]
}