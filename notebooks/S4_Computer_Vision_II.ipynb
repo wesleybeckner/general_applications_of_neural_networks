{
  "nbformat": 4,
  "nbformat_minor": 0,
  "metadata": {
    "colab": {
      "name": "S4_Computer_Vision_II.ipynb",
      "provenance": [],
      "collapsed_sections": [],
      "toc_visible": true,
      "include_colab_link": true
    },
    "kernelspec": {
      "name": "python3",
      "display_name": "Python 3"
    },
    "language_info": {
      "name": "python"
    },
    "accelerator": "GPU"
  },
  "cells": [
    {
      "cell_type": "markdown",
      "metadata": {
        "id": "view-in-github",
        "colab_type": "text"
      },
      "source": [
        "<a href=\"https://colab.research.google.com/github/wesleybeckner/general_applications_of_neural_networks/blob/main/notebooks/S4_Computer_Vision_II.ipynb\" target=\"_parent\"><img src=\"https://colab.research.google.com/assets/colab-badge.svg\" alt=\"Open In Colab\"/></a>"
      ]
    },
    {
      "cell_type": "markdown",
      "metadata": {
        "id": "vhe1yX4AMckE"
      },
      "source": [
        "# General Applications of Neural Networks <br> Session 4: Computer Vision Part 2 (Defect Detection Case Study)\n",
        "\n",
        "**Instructor**: Wesley Beckner\n",
        "\n",
        "**Contact**: wesleybeckner@gmail.com\n",
        "\n",
        "---\n",
        "\n",
        "<br>\n",
        "\n",
        "In this session we will continue with our exploration of CNNs. In the previous session we discussed three flagship layers for the CNN: convolution ReLU and maximum pooling. Here we'll discuss the sliding window, how to build your custom CNN, and data augmentation for images.\n",
        "\n",
        "<br>\n",
        "\n",
        "_images in this notebook borrowed from [Ryan Holbrook](https://mathformachines.com/)_\n",
        "\n",
        "For more information on the dataset we are using today watch this [video](https://www.youtube.com/watch?v=4sDfwS48p0A)\n",
        "\n",
        "\n",
        "---\n",
        "\n",
        "<br>\n",
        "\n",
        "<a name='top'></a>"
      ]
    },
    {
      "cell_type": "markdown",
      "metadata": {
        "id": "mNtJitcRW51Y"
      },
      "source": [
        "<a name='x.0'></a>\n",
        "\n",
        "## 4.0 Preparing Environment and Importing Data\n",
        "\n",
        "[back to top](#top)"
      ]
    },
    {
      "cell_type": "markdown",
      "metadata": {
        "id": "Mv2n4nFG5T9P"
      },
      "source": [
        "<a name='x.0.1'></a>\n",
        "\n",
        "### 4.0.1 Enabling and testing the GPU\n",
        "\n",
        "[back to top](#top)\n",
        "\n",
        "First, you'll need to enable GPUs for the notebook:\n",
        "\n",
        "- Navigate to Edit→Notebook Settings\n",
        "- select GPU from the Hardware Accelerator drop-down\n",
        "\n",
        "Next, we'll confirm that we can connect to the GPU with tensorflow:"
      ]
    },
    {
      "cell_type": "code",
      "metadata": {
        "colab": {
          "base_uri": "https://localhost:8080/"
        },
        "id": "XkmOVrmo5HRN",
        "outputId": "6136ea0b-3269-486b-a06c-5325d5d1844f"
      },
      "source": [
        "%tensorflow_version 2.x\n",
        "import tensorflow as tf\n",
        "device_name = tf.test.gpu_device_name()\n",
        "if device_name != '/device:GPU:0':\n",
        "  raise SystemError('GPU device not found')\n",
        "print('Found GPU at: {}'.format(device_name))"
      ],
      "execution_count": 1,
      "outputs": [
        {
          "output_type": "stream",
          "name": "stdout",
          "text": [
            "Found GPU at: /device:GPU:0\n"
          ]
        }
      ]
    },
    {
      "cell_type": "markdown",
      "metadata": {
        "id": "BcFxj2krIp3g"
      },
      "source": [
        "<a name='x.0.2'></a>\n",
        "\n",
        "### 4.0.2 Observe TensorFlow speedup on GPU relative to CPU\n",
        "\n",
        "[back to top](#top)\n",
        "\n",
        "This example constructs a typical convolutional neural network layer over a\n",
        "random image and manually places the resulting ops on either the CPU or the GPU\n",
        "to compare execution speed."
      ]
    },
    {
      "cell_type": "code",
      "source": [
        "%tensorflow_version 2.x\n",
        "import tensorflow as tf\n",
        "import timeit\n",
        "\n",
        "device_name = tf.test.gpu_device_name()\n",
        "if device_name != '/device:GPU:0':\n",
        "  print(\n",
        "      '\\n\\nThis error most likely means that this notebook is not '\n",
        "      'configured to use a GPU.  Change this in Notebook Settings via the '\n",
        "      'command palette (cmd/ctrl-shift-P) or the Edit menu.\\n\\n')\n",
        "  raise SystemError('GPU device not found')\n",
        "\n",
        "def cpu():\n",
        "  with tf.device('/cpu:0'):\n",
        "    random_image_cpu = tf.random.normal((100, 100, 100, 3))\n",
        "    net_cpu = tf.keras.layers.Conv2D(32, 7)(random_image_cpu)\n",
        "    return tf.math.reduce_sum(net_cpu)\n",
        "\n",
        "def gpu():\n",
        "  with tf.device('/device:GPU:0'):\n",
        "    random_image_gpu = tf.random.normal((100, 100, 100, 3))\n",
        "    net_gpu = tf.keras.layers.Conv2D(32, 7)(random_image_gpu)\n",
        "    return tf.math.reduce_sum(net_gpu)\n",
        "  \n",
        "# We run each op once to warm up; see: https://stackoverflow.com/a/45067900\n",
        "cpu()\n",
        "gpu()\n",
        "\n",
        "# Run the op several times.\n",
        "print('Time (s) to convolve 32x7x7x3 filter over random 100x100x100x3 images '\n",
        "      '(batch x height x width x channel). Sum of ten runs.')\n",
        "print('CPU (s):')\n",
        "cpu_time = timeit.timeit('cpu()', number=10, setup=\"from __main__ import cpu\")\n",
        "print(cpu_time)\n",
        "print('GPU (s):')\n",
        "gpu_time = timeit.timeit('gpu()', number=10, setup=\"from __main__ import gpu\")\n",
        "print(gpu_time)\n",
        "print('GPU speedup over CPU: {}x'.format(int(cpu_time/gpu_time)))"
      ],
      "metadata": {
        "colab": {
          "base_uri": "https://localhost:8080/"
        },
        "id": "0oUEiO4hoPds",
        "outputId": "de822b86-15a7-4892-832a-a8332f9ea1de"
      },
      "execution_count": 2,
      "outputs": [
        {
          "output_type": "stream",
          "name": "stdout",
          "text": [
            "Time (s) to convolve 32x7x7x3 filter over random 100x100x100x3 images (batch x height x width x channel). Sum of ten runs.\n",
            "CPU (s):\n",
            "3.7607866190000436\n",
            "GPU (s):\n",
            "0.04739101299998083\n",
            "GPU speedup over CPU: 79x\n"
          ]
        }
      ]
    },
    {
      "cell_type": "markdown",
      "metadata": {
        "id": "chdcBoBL8SNm"
      },
      "source": [
        "<a name='x.0.3'></a>\n",
        "\n",
        "### 4.0.3 Import Packages\n",
        "\n",
        "[back to top](#top)"
      ]
    },
    {
      "cell_type": "code",
      "source": [
        "# clear memory from cpu/gpu task (skimage load method is ram intensive)\n",
        "import gc\n",
        "gc.collect()"
      ],
      "metadata": {
        "colab": {
          "base_uri": "https://localhost:8080/"
        },
        "id": "RpDLvkC-LscQ",
        "outputId": "27758df3-c4cf-4a43-d805-d7c826053c97"
      },
      "execution_count": 3,
      "outputs": [
        {
          "output_type": "execute_result",
          "data": {
            "text/plain": [
              "61"
            ]
          },
          "metadata": {},
          "execution_count": 3
        }
      ]
    },
    {
      "cell_type": "code",
      "metadata": {
        "id": "AvkPKLbOmtox"
      },
      "source": [
        "import os\n",
        "import pandas as pd\n",
        "import numpy as np\n",
        "import seaborn as sns\n",
        "import matplotlib.pyplot as plt\n",
        "from skimage import io, feature, filters, exposure, color\n",
        "from skimage.transform import rescale, resize\n",
        "from sklearn.metrics import classification_report,confusion_matrix\n",
        "\n",
        "#importing required tf libraries\n",
        "import tensorflow as tf\n",
        "from tensorflow.keras import layers\n",
        "from tensorflow.keras.layers import Activation, Dropout, Flatten, Dense, Conv2D, MaxPooling2D, InputLayer\n",
        "from tensorflow.data.experimental import AUTOTUNE\n",
        "from tensorflow.keras.layers.experimental import preprocessing\n",
        "from tensorflow.keras.preprocessing import image_dataset_from_directory\n",
        "from tensorflow.keras.preprocessing.image import ImageDataGenerator, load_img, img_to_array\n",
        "from tensorflow.keras.models import Sequential\n",
        "from tensorflow.keras.callbacks import EarlyStopping"
      ],
      "execution_count": 4,
      "outputs": []
    },
    {
      "cell_type": "code",
      "metadata": {
        "colab": {
          "base_uri": "https://localhost:8080/"
        },
        "id": "ezGii7Nu1mju",
        "outputId": "bef299f8-f2cc-42ed-e297-44c0de1ee9c8"
      },
      "source": [
        "# Sync your google drive folder\n",
        "from google.colab import drive\n",
        "drive.mount(\"/content/drive\")"
      ],
      "execution_count": 5,
      "outputs": [
        {
          "output_type": "stream",
          "name": "stdout",
          "text": [
            "Mounted at /content/drive\n"
          ]
        }
      ]
    },
    {
      "cell_type": "markdown",
      "metadata": {
        "id": "R7vDY-8U8SWd"
      },
      "source": [
        "<a name='x.0.4'></a>\n",
        "\n",
        "### 4.0.4 Load Dataset\n",
        "\n",
        "[back to top](#top)\n",
        "\n",
        "We will actually take a beat here today. When we started building our ML frameworks, we simply wanted our data in a numpy array to feed it into our pipeline. At some point, especially when working with images, the data becomes too large to fit into memory. For this reason we need an alternative way to import our data. With the merger of keras/tf two popular frameworks became available, `ImageDataGenerator` and `image_dataset_from_directory` both under `tf.keras.preprocessing.image`. `image_dataset_from_directory` can sometimes be faster (tf origin) but `ImageDataGenerator` is a lot simpler to use and has on-the-fly data augmentation capability (keras).\n",
        "\n",
        "For a full comparison of methods visit [this link](https://towardsdatascience.com/what-is-the-best-input-pipeline-to-train-image-classification-models-with-tf-keras-eb3fe26d3cc5)"
      ]
    },
    {
      "cell_type": "markdown",
      "source": [
        "#### 4.0.4.0 Define Global Parameters\n",
        "\n",
        "[back to top](#top)"
      ],
      "metadata": {
        "id": "0m44ClC1X1YY"
      }
    },
    {
      "cell_type": "code",
      "source": [
        "# full dataset can be attained from kaggle if you are interested\n",
        "# https://www.kaggle.com/ravirajsinh45/real-life-industrial-dataset-of-casting-product?select=casting_data\n",
        "\n",
        "# set global parameters for all import dataset methods\n",
        "image_shape = (300,300,3) # the images actually are 300,300,3\n",
        "batch_size = 32\n",
        "validation_split = 0.1\n",
        "seed_value = 42\n",
        "\n",
        "path_to_casting_data = '/content/drive/MyDrive/courses/tech_fundamentals/TECH_FUNDAMENTALS/data/casting_data_class_practice'\n",
        "technocast_train_path = path_to_casting_data + '/train/'\n",
        "technocast_test_path = path_to_casting_data + '/test/'\n",
        "\n",
        "from numpy.random import seed\n",
        "seed(seed_value)\n",
        "tf.random.set_seed(seed_value)"
      ],
      "metadata": {
        "id": "TxIdmsAgSUWc"
      },
      "execution_count": 6,
      "outputs": []
    },
    {
      "cell_type": "markdown",
      "source": [
        "#### 4.0.4.1 Loading data with skimage\n",
        "\n",
        "[back to top](#top)"
      ],
      "metadata": {
        "id": "7n1TkYeCCB5r"
      }
    },
    {
      "cell_type": "code",
      "source": [
        "class MyImageLoader: \n",
        "    def __init__(self):\n",
        "        self.classifer = None\n",
        "        self.folder = path_to_casting_data\n",
        "\n",
        "    def imread_convert(self, f):\n",
        "        return io.imread(f).astype(np.uint8)\n",
        "\n",
        "    def load_data_from_folder(self, dir):\n",
        "        # read all images into an image \n",
        "        if type(dir) != list:\n",
        "          ic = io.ImageCollection(self.folder + dir + \"*.bmp\",\n",
        "                                  load_func=self.imread_convert)\n",
        "        else:\n",
        "          dir1 = dir[0]\n",
        "          dir2 = dir[1]\n",
        "          ic = io.ImageCollection(self.folder + dir1 + \"*.jpeg:\" + self.folder + dir2 + \"*.jpeg\",\n",
        "                                load_func=self.imread_convert)\n",
        "        \n",
        "        #create one large array of image data\n",
        "        data = io.concatenate_images(ic)\n",
        "\n",
        "        #resize to target shape\n",
        "        # data = resize(data, (data.shape[0], *image_shape[:2])) #uncomment if you need to resize images\n",
        "        \n",
        "        #extract labels from image names\n",
        "        labels = np.array(ic.files)\n",
        "        for i, f in enumerate(labels):\n",
        "            labels[i] = '_'.join(f.split('/')[-1].split('_')[:2])\n",
        "            # print(f, labels[i])\n",
        "        return(data,labels)\n",
        "\n",
        "# Create an object of the class `MyImageLoader`\n",
        "img_clf = MyImageLoader()\n",
        "\n",
        "# load images\n",
        "(train_val_raw, train_val_labels) = img_clf.load_data_from_folder(['/train/ok_front/', '/train/def_front/'])\n",
        "(test_raw, test_labels) = img_clf.load_data_from_folder(['/test/ok_front/', '/test/def_front/'])\n",
        "\n",
        "classes = list(np.unique(train_val_labels))\n",
        "print(f\"Classes: {classes}\")\n",
        "print(\"train and validation labels: {}\".format(len(train_val_labels)))\n",
        "print(\"test labels: {}\".format(len(test_labels)))\n",
        "\n",
        "# convert labels to numeric\n",
        "for i in range(len(classes)):\n",
        "    train_val_labels[train_val_labels == classes[i]] = i\n",
        "    test_labels[test_labels == classes[i]] = i\n",
        "\n",
        "train_val_labels = train_val_labels.astype(float)\n",
        "test_labels = test_labels.astype(float)\n",
        "\n",
        "# create train/val/test and shuffle\n",
        "train_val_dataset = tf.data.Dataset.from_tensor_slices((train_val_raw, train_val_labels)) \n",
        "# shuffling the `train+val` dataset before separating them\n",
        "train_val_dataset = train_val_dataset.shuffle(buffer_size=len(train_val_dataset), seed=seed_value)\n",
        "\n",
        "# use validation_split\n",
        "val_len = int(validation_split * len(train_val_raw))\n",
        "val_dataset = train_val_dataset.take(val_len)\n",
        "train_dataset = train_val_dataset.skip(val_len)\n",
        "\n",
        "test_dataset = tf.data.Dataset.from_tensor_slices((test_raw, test_labels)) \n",
        "# test_dataset = test_dataset.shuffle(buffer_size=len(test_dataset), seed=seed_value)        \n",
        "\n",
        "print(f\"Train size: {len(train_dataset)}\\nVal size: {len(val_dataset)}\\nTest size: {len(test_dataset)}\")\n",
        "\n",
        "# batch the data\n",
        "train_dataset_batched = train_dataset.batch(batch_size)\n",
        "val_dataset_batched = val_dataset.batch(batch_size)\n",
        "test_dataset_batched = test_dataset.batch(batch_size)\n",
        "\n",
        "print(f\"Train batches: {len(train_dataset_batched)}\\nVal batches: {len(val_dataset_batched)}\\nTest batches: {len(test_dataset_batched)}\")"
      ],
      "metadata": {
        "id": "cjt_SpvFCHMZ",
        "colab": {
          "base_uri": "https://localhost:8080/"
        },
        "outputId": "b215a825-593e-4877-ef30-5abd8ef0fd5d"
      },
      "execution_count": 7,
      "outputs": [
        {
          "output_type": "stream",
          "name": "stdout",
          "text": [
            "Classes: ['cast_def', 'cast_ok']\n",
            "train and validation labels: 840\n",
            "test labels: 678\n",
            "Train size: 756\n",
            "Val size: 84\n",
            "Test size: 678\n",
            "Train batches: 24\n",
            "Val batches: 3\n",
            "Test batches: 22\n"
          ]
        }
      ]
    },
    {
      "cell_type": "markdown",
      "metadata": {
        "id": "VwXKg0PAF107"
      },
      "source": [
        "<a name='x.0.4.1'></a>\n",
        "\n",
        "#### 4.0.4.2 Loading Data with `ImageDataGenerator`\n",
        "\n",
        "[back to top](#top)"
      ]
    },
    {
      "cell_type": "code",
      "metadata": {
        "colab": {
          "base_uri": "https://localhost:8080/"
        },
        "id": "gPpg_K-4y85X",
        "outputId": "55d4a1fa-b1ec-4b83-c5c7-f784e1e8b641"
      },
      "source": [
        "image_gen = ImageDataGenerator(rescale=1/255,\n",
        "                               validation_split=validation_split) # normalize pixels to 0-1\n",
        "\n",
        "#we're using keras inbuilt function to ImageDataGenerator so we \n",
        "# dont need to label all images into 0 and 1 \n",
        "print(\"loading training set...\")\n",
        "train_set_keras = image_gen.flow_from_directory(technocast_train_path,\n",
        "                                          target_size=image_shape[:2],\n",
        "                                          color_mode=\"rgb\",\n",
        "                                          batch_size=batch_size,\n",
        "                                          class_mode=\"sparse\",\n",
        "                                          subset=\"training\",\n",
        "                                          shuffle=True,\n",
        "                                          seed=seed_value)\n",
        "print(\"loading validation set...\")\n",
        "val_set_keras = image_gen.flow_from_directory(technocast_train_path,\n",
        "                                          target_size=image_shape[:2],\n",
        "                                          color_mode=\"rgb\",\n",
        "                                          batch_size=batch_size,\n",
        "                                          class_mode=\"sparse\",\n",
        "                                          subset=\"validation\",\n",
        "                                          shuffle=True,\n",
        "                                          seed=seed_value)\n",
        "print(\"loading testing set...\")\n",
        "test_set_keras = image_gen.flow_from_directory(technocast_test_path,\n",
        "                                          target_size=image_shape[:2],\n",
        "                                          color_mode=\"rgb\",\n",
        "                                          batch_size=batch_size,\n",
        "                                          class_mode=\"sparse\",\n",
        "                                          shuffle=False)"
      ],
      "execution_count": 8,
      "outputs": [
        {
          "output_type": "stream",
          "name": "stdout",
          "text": [
            "loading training set...\n",
            "Found 757 images belonging to 2 classes.\n",
            "loading validation set...\n",
            "Found 83 images belonging to 2 classes.\n",
            "loading testing set...\n",
            "Found 678 images belonging to 2 classes.\n"
          ]
        }
      ]
    },
    {
      "cell_type": "markdown",
      "metadata": {
        "id": "UCV0n9QrF8o1"
      },
      "source": [
        "<a name='x.0.4.2'></a>\n",
        "\n",
        "#### 4.0.4.3 loading data with `image_dataset_from_directory`\n",
        "\n",
        "[back to top](#top)\n",
        "\n",
        "This method should be approx 2x faster than `ImageDataGenerator`"
      ]
    },
    {
      "cell_type": "code",
      "metadata": {
        "colab": {
          "base_uri": "https://localhost:8080/"
        },
        "id": "_y5-Zr0hfLHx",
        "outputId": "ab719d69-2f95-4a0e-c770-3b25e56de14f"
      },
      "source": [
        "# Load training and validation sets\n",
        "print(\"loading training set...\")\n",
        "ds_train_ = image_dataset_from_directory(\n",
        "    technocast_train_path,\n",
        "    labels=\"inferred\",\n",
        "    label_mode=\"int\",\n",
        "    color_mode=\"rgb\",\n",
        "    image_size=image_shape[:2],\n",
        "    batch_size=batch_size,\n",
        "    validation_split=validation_split,\n",
        "    subset=\"training\",\n",
        "    shuffle=True,\n",
        "    seed=seed_value,\n",
        ")\n",
        "print(\"loading validation set...\")\n",
        "ds_val_ = image_dataset_from_directory(\n",
        "    technocast_train_path,\n",
        "    labels=\"inferred\",\n",
        "    label_mode=\"int\",\n",
        "    color_mode=\"rgb\",\n",
        "    image_size=image_shape[:2],\n",
        "    batch_size=batch_size,\n",
        "    validation_split=validation_split,\n",
        "    subset=\"validation\",\n",
        "    shuffle=True,\n",
        "    seed=seed_value,\n",
        ")\n",
        "print(\"loading testing set...\")\n",
        "ds_test_ = image_dataset_from_directory(\n",
        "    technocast_test_path,\n",
        "    labels=\"inferred\",\n",
        "    label_mode=\"int\",\n",
        "    color_mode=\"rgb\",\n",
        "    image_size=image_shape[:2],\n",
        "    batch_size=batch_size,\n",
        "    shuffle=False,\n",
        ")\n",
        "\n",
        "train_set_tf = ds_train_.prefetch(buffer_size=AUTOTUNE)\n",
        "val_set_tf = ds_val_.prefetch(buffer_size=AUTOTUNE)\n",
        "test_set_tf = ds_test_.prefetch(buffer_size=AUTOTUNE)"
      ],
      "execution_count": 9,
      "outputs": [
        {
          "output_type": "stream",
          "name": "stdout",
          "text": [
            "loading training set...\n",
            "Found 840 files belonging to 2 classes.\n",
            "Using 756 files for training.\n",
            "loading validation set...\n",
            "Found 840 files belonging to 2 classes.\n",
            "Using 84 files for validation.\n",
            "loading testing set...\n",
            "Found 678 files belonging to 2 classes.\n"
          ]
        }
      ]
    },
    {
      "cell_type": "markdown",
      "source": [
        "#### 4.0.4.4 View Images\n",
        "\n",
        "[back to top](#top)"
      ],
      "metadata": {
        "id": "rzi9ROWyUPBJ"
      }
    },
    {
      "cell_type": "code",
      "metadata": {
        "id": "_I7kDyYwzeBC",
        "colab": {
          "base_uri": "https://localhost:8080/",
          "height": 357
        },
        "outputId": "33c25205-bfe5-4737-cb72-ec6a53c5ba4b"
      },
      "source": [
        "# view some images\n",
        "def_path = '/def_front/cast_def_0_1001.jpeg'\n",
        "ok_path = '/ok_front/cast_ok_0_1.jpeg'\n",
        "image_path = technocast_train_path + ok_path\n",
        "image = tf.io.read_file(image_path)\n",
        "image = tf.io.decode_jpeg(image)\n",
        "image = resize(image, (256, 256),\n",
        "                anti_aliasing=True)\n",
        "\n",
        "plt.figure(figsize=(6, 6))\n",
        "plt.imshow(tf.squeeze(image), cmap='gray')\n",
        "plt.axis('off')\n",
        "plt.show();"
      ],
      "execution_count": 10,
      "outputs": [
        {
          "output_type": "display_data",
          "data": {
            "image/png": "[encoded data removed]",
            "text/plain": [
              "<Figure size 432x432 with 1 Axes>"
            ]
          },
          "metadata": {
            "needs_background": "light"
          }
        }
      ]
    },
    {
      "cell_type": "markdown",
      "metadata": {
        "id": "yYnHuIONgksu"
      },
      "source": [
        "<a name='x.1'></a>\n",
        "\n",
        "## 4.1 Understanding the Sliding Window\n",
        "\n",
        "[back to top](#top)\n",
        "\n",
        "The kernels we just reviewed, need to be swept or _slid_ along the preceding layer. We call this a **_sliding window_**, the window being the kernel. \n",
        "\n",
        "<p align=center>\n",
        "<img src=\"https://raw.githubusercontent.com/wesleybeckner/general_applications_of_neural_networks/main/assets/LueNK6b.gif\" width=400></img>\n",
        "</p>\n",
        "\n",
        "What do you notice about the gif? One perhaps obvious observation is that you can't scoot all the way up to the border of the input layer, this is because the kernel defines operations _around_ the centered pixel and so you bang up against the margin of the input array. We can change the behavior at the boundary with a **_padding_** hyperparameter. A second observation, is that the distance we move the kernel along in each step could be variable, we call this the **_stride_**. We will explore the affects of each of these.\n",
        "\n"
      ]
    },
    {
      "cell_type": "code",
      "metadata": {
        "id": "eYolTMVMlnsQ"
      },
      "source": [
        "from tensorflow import keras\n",
        "from tensorflow.keras import layers\n",
        "\n",
        "model = keras.Sequential([\n",
        "    layers.Conv2D(filters=64,\n",
        "                  kernel_size=3,\n",
        "                  strides=1,\n",
        "                  padding='same',\n",
        "                  activation='relu'),\n",
        "    layers.MaxPool2D(pool_size=2,\n",
        "                     strides=1,\n",
        "                     padding='same')\n",
        "    # More layers follow\n",
        "])"
      ],
      "execution_count": 11,
      "outputs": []
    },
    {
      "cell_type": "markdown",
      "metadata": {
        "id": "AKKfIv-lhDd5"
      },
      "source": [
        "<a name='x.1.1'></a>\n",
        "\n",
        "### 4.1.1 Stride\n",
        "\n",
        "[back to top](#top)\n",
        "\n",
        "Stride defines the the step size we take with each kernel as it passes along the input array. The stride needs to be defined in both the horizontal and vertical dimensions. This animation shows a 2x2 stride\n",
        "\n",
        "\n",
        "<p align=center>\n",
        "<img src=\"https://raw.githubusercontent.com/wesleybeckner/general_applications_of_neural_networks/main/assets/Tlptsvt.gif\" width=400></img>\n",
        "</p>\n",
        "\n",
        "The stride will often be 1 for CNNs, where we don't want to lose any important information. Maximum pooling layers will often have strides greater than 1, to better summarize/accentuate the relevant features/activations.\n",
        "\n",
        "If the stride is the same in both the horizontal and vertical directions, it can be set with a single number like `strides=2` within keras.\n",
        "\n"
      ]
    },
    {
      "cell_type": "markdown",
      "metadata": {
        "id": "7alp2F6yhHuF"
      },
      "source": [
        "### 4.1.2 Padding\n",
        "\n",
        "[back to top](#top)\n",
        "\n",
        "Padding attempts to resolve our issue at the border: our kernel requires information surrounding the centered pixel, and at the border of the input array we don't have that information. What to do?\n",
        "\n",
        "We have a couple popular options within the keras framework. We can set `padding='valid'` and only slide the kernel to the edge of the input array. This has the drawback of feature maps shrinking in size as we pass through the NN. Another option is to set `padding='same'` what this will do is pad the input array with 0's, just enough of them to allow the feature map to be the same size as the input array. This is shown in the gif below:\n",
        "\n",
        "\n",
        "<p align=center>\n",
        "<img src=\"https://raw.githubusercontent.com/wesleybeckner/general_applications_of_neural_networks/main/assets/RvGM2xb.gif\" width=400></img>\n",
        "</p>\n",
        "\n",
        "The downside of setting the padding to same will be that features at the edges of the image will be diluted. "
      ]
    },
    {
      "cell_type": "markdown",
      "metadata": {
        "id": "NrdxWYLShOHt"
      },
      "source": [
        "<a name='x.1.3'></a>\n",
        "\n",
        "### 🏋️ Exercise 1: Exploring Sliding Windows\n",
        "\n",
        "[back to top](#top)"
      ]
    },
    {
      "cell_type": "code",
      "metadata": {
        "id": "XvS9ayAtrKop"
      },
      "source": [
        "from skimage import draw, transform\n",
        "from itertools import product\n",
        "# helper functions borrowed from Ryan Holbrook\n",
        "# https://mathformachines.com/\n",
        "\n",
        "def circle(size, val=None, r_shrink=0):\n",
        "    circle = np.zeros([size[0]+1, size[1]+1])\n",
        "    rr, cc = draw.circle_perimeter(\n",
        "        size[0]//2, size[1]//2,\n",
        "        radius=size[0]//2 - r_shrink,\n",
        "        shape=[size[0]+1, size[1]+1],\n",
        "    )\n",
        "    if val is None:\n",
        "        circle[rr, cc] = np.random.uniform(size=circle.shape)[rr, cc]\n",
        "    else:\n",
        "        circle[rr, cc] = val\n",
        "    circle = transform.resize(circle, size, order=0)\n",
        "    return circle\n",
        "\n",
        "def show_kernel(kernel, label=True, digits=None, text_size=28):\n",
        "    # Format kernel\n",
        "    kernel = np.array(kernel)\n",
        "    if digits is not None:\n",
        "        kernel = kernel.round(digits)\n",
        "\n",
        "    # Plot kernel\n",
        "    cmap = plt.get_cmap('Blues_r')\n",
        "    plt.imshow(kernel, cmap=cmap)\n",
        "    rows, cols = kernel.shape\n",
        "    thresh = (kernel.max()+kernel.min())/2\n",
        "    # Optionally, add value labels\n",
        "    if label:\n",
        "        for i, j in product(range(rows), range(cols)):\n",
        "            val = kernel[i, j]\n",
        "            color = cmap(0) if val > thresh else cmap(255)\n",
        "            plt.text(j, i, val, \n",
        "                     color=color, size=text_size,\n",
        "                     horizontalalignment='center', verticalalignment='center')\n",
        "    plt.xticks([])\n",
        "    plt.yticks([])\n",
        "\n",
        "def show_extraction(image,\n",
        "                    kernel,\n",
        "                    conv_stride=1,\n",
        "                    conv_padding='valid',\n",
        "                    activation='relu',\n",
        "                    pool_size=2,\n",
        "                    pool_stride=2,\n",
        "                    pool_padding='same',\n",
        "                    figsize=(10, 10),\n",
        "                    subplot_shape=(2, 2),\n",
        "                    ops=['Input', 'Filter', 'Detect', 'Condense'],\n",
        "                    gamma=1.0):\n",
        "    # Create Layers\n",
        "    model = tf.keras.Sequential([\n",
        "                    tf.keras.layers.Conv2D(\n",
        "                        filters=1,\n",
        "                        kernel_size=kernel.shape,\n",
        "                        strides=conv_stride,\n",
        "                        padding=conv_padding,\n",
        "                        use_bias=False,\n",
        "                        input_shape=image.shape,\n",
        "                    ),\n",
        "                    tf.keras.layers.Activation(activation),\n",
        "                    tf.keras.layers.MaxPool2D(\n",
        "                        pool_size=pool_size,\n",
        "                        strides=pool_stride,\n",
        "                        padding=pool_padding,\n",
        "                    ),\n",
        "                   ])\n",
        "\n",
        "    layer_filter, layer_detect, layer_condense = model.layers\n",
        "    kernel = tf.reshape(kernel, [*kernel.shape, 1, 1])\n",
        "    layer_filter.set_weights([kernel])\n",
        "\n",
        "    # Format for TF\n",
        "    image = tf.expand_dims(image, axis=0)\n",
        "    image = tf.image.convert_image_dtype(image, dtype=tf.float32) \n",
        "    \n",
        "    # Extract Feature\n",
        "    image_filter = layer_filter(image)\n",
        "    image_detect = layer_detect(image_filter)\n",
        "    image_condense = layer_condense(image_detect)\n",
        "    \n",
        "    images = {}\n",
        "    if 'Input' in ops:\n",
        "        images.update({'Input': (image, 1.0)})\n",
        "    if 'Filter' in ops:\n",
        "        images.update({'Filter': (image_filter, 1.0)})\n",
        "    if 'Detect' in ops:\n",
        "        images.update({'Detect': (image_detect, gamma)})\n",
        "    if 'Condense' in ops:\n",
        "        images.update({'Condense': (image_condense, gamma)})\n",
        "    \n",
        "    # Plot\n",
        "    plt.figure(figsize=figsize)\n",
        "    for i, title in enumerate(ops):\n",
        "        image, gamma = images[title]\n",
        "        plt.subplot(*subplot_shape, i+1)\n",
        "        plt.imshow(tf.image.adjust_gamma(tf.squeeze(image), gamma))\n",
        "        plt.axis('off')\n",
        "        plt.title(title)"
      ],
      "execution_count": 12,
      "outputs": []
    },
    {
      "cell_type": "markdown",
      "metadata": {
        "id": "35AqZwjhr8Fc"
      },
      "source": [
        "Create an image and kernel:"
      ]
    },
    {
      "cell_type": "code",
      "metadata": {
        "colab": {
          "base_uri": "https://localhost:8080/",
          "height": 297
        },
        "id": "fu9k-3_h2la8",
        "outputId": "8595147a-4953-4e77-a03f-09bd69c64f5d"
      },
      "source": [
        "import tensorflow as tf\n",
        "import matplotlib.pyplot as plt\n",
        "\n",
        "plt.rc('figure', autolayout=True)\n",
        "plt.rc('axes', labelweight='bold', labelsize='large',\n",
        "       titleweight='bold', titlesize=18, titlepad=10)\n",
        "plt.rc('image', cmap='magma')\n",
        "\n",
        "image = circle([64, 64], val=1.0, r_shrink=3)\n",
        "image = tf.reshape(image, [*image.shape, 1])\n",
        "# Bottom sobel\n",
        "kernel = tf.constant(\n",
        "    [[-1, -2, -1],\n",
        "     [0, 0, 0],\n",
        "     [1, 2, 1]],\n",
        ")\n",
        "\n",
        "show_kernel(kernel)"
      ],
      "execution_count": 13,
      "outputs": [
        {
          "output_type": "display_data",
          "data": {
            "image/png": "[encoded data removed]",
            "text/plain": [
              "<Figure size 432x288 with 1 Axes>"
            ]
          },
          "metadata": {}
        }
      ]
    },
    {
      "cell_type": "markdown",
      "metadata": {
        "id": "cja4Tp71sKjI"
      },
      "source": [
        "What do we think this kernel is meant to detect for?\n",
        "\n",
        "We will apply our kernel with a 1x1 stride and our max pooling with a 2x2 stride and pool size of 2."
      ]
    },
    {
      "cell_type": "code",
      "metadata": {
        "colab": {
          "base_uri": "https://localhost:8080/",
          "height": 293
        },
        "id": "kKrNWeYSsV2W",
        "outputId": "07251e1e-85ea-4b1d-9cdd-49016a093c53"
      },
      "source": [
        "show_extraction(\n",
        "    image, kernel,\n",
        "\n",
        "    # Window parameters\n",
        "    conv_stride=1,\n",
        "    pool_size=2,\n",
        "    pool_stride=2,\n",
        "\n",
        "    subplot_shape=(1, 4),\n",
        "    figsize=(14, 6),\n",
        ")"
      ],
      "execution_count": 14,
      "outputs": [
        {
          "output_type": "display_data",
          "data": {
            "image/png": "[encoded data removed]",
            "text/plain": [
              "<Figure size 1008x432 with 4 Axes>"
            ]
          },
          "metadata": {
            "needs_background": "light"
          }
        }
      ]
    },
    {
      "cell_type": "markdown",
      "metadata": {
        "id": "zlEbO_Sh0N9c"
      },
      "source": [
        "Works ok! what about a higher conv stride?"
      ]
    },
    {
      "cell_type": "code",
      "metadata": {
        "colab": {
          "base_uri": "https://localhost:8080/",
          "height": 293
        },
        "id": "UUenv0SR0LSn",
        "outputId": "d3e1f651-e36b-4f8f-a6e3-da5f790d979f"
      },
      "source": [
        "show_extraction(\n",
        "    image, kernel,\n",
        "\n",
        "    # Window parameters\n",
        "    conv_stride=3,\n",
        "    pool_size=2,\n",
        "    pool_stride=2,\n",
        "\n",
        "    subplot_shape=(1, 4),\n",
        "    figsize=(14, 6),\n",
        ")"
      ],
      "execution_count": 15,
      "outputs": [
        {
          "output_type": "display_data",
          "data": {
            "image/png": "[encoded data removed]",
            "text/plain": [
              "<Figure size 1008x432 with 4 Axes>"
            ]
          },
          "metadata": {
            "needs_background": "light"
          }
        }
      ]
    },
    {
      "cell_type": "markdown",
      "metadata": {
        "id": "XzZ0iWn-0Xw2"
      },
      "source": [
        "Looks like we lost a bit of information!\n",
        "\n",
        "Sometimes published models will use a larger kernel and stride in the initial layer to produce large-scale features early on in the network without losing too much information (ResNet50 uses 7x7 kernels with a stride of 2). For now, without having much experience it's safe to set conv strides to 1.\n",
        "\n",
        "Take a moment here with the given kernel and explore different settings for applying both the kernel and the max_pool\n",
        "\n",
        "```\n",
        "conv_stride=YOUR_VALUE, # condenses pixels\n",
        "pool_size=YOUR_VALUE,\n",
        "pool_stride=YOUR_VALUE, # condenses pixels\n",
        "```\n",
        "\n",
        "Given a total condensation of 8 (I'm taking condensation to mean `conv_stride` x `pool_stride`). what do you think is the best combination of values for `conv_stride, pool_size, and pool_stride`?"
      ]
    },
    {
      "cell_type": "markdown",
      "metadata": {
        "id": "FKQh19GnM8Iq"
      },
      "source": [
        "<a name='x.2'></a>\n",
        "\n",
        "## 4.2 Building a Custom CNN\n",
        "\n",
        "[back to top](#top)\n",
        "\n",
        "As we move through the network, small-scale features (lines, edges, etc.) turn to large-scale features (shapes, eyes, ears, etc). We call these blocks of convolution, ReLU, and max pool **_convolutional blocks_** and they are the low level modular framework we work with. By this means, the CNN is able to design it's own features, ones suited for the classification or regression task at hand. \n",
        "\n",
        "We will design a custom CNN for the Casting Defect Detection Dataset."
      ]
    },
    {
      "cell_type": "markdown",
      "metadata": {
        "id": "ErPvdRfJFTs4"
      },
      "source": [
        "### 4.2.1 Define Architecture\n",
        "\n",
        "[back to top](#top)\n",
        "\n",
        "In the following I'm going to double the filter size after the first block. This is a common pattern as the max pooling layers forces us in the opposite direction."
      ]
    },
    {
      "cell_type": "code",
      "metadata": {
        "id": "FJqyUO21M7ZS"
      },
      "source": [
        "def build_model():\n",
        "  # Creating model\n",
        "  model = Sequential()\n",
        "\n",
        "  model.add(InputLayer(input_shape=(image_shape)))\n",
        "\n",
        "  model.add(Conv2D(filters=8, kernel_size=(3,3), activation='relu',))\n",
        "  model.add(MaxPooling2D(pool_size=(2, 2)))\n",
        "\n",
        "  model.add(Conv2D(filters=16, kernel_size=(3,3), activation='relu',))\n",
        "  model.add(MaxPooling2D(pool_size=(2, 2)))\n",
        "\n",
        "  model.add(Conv2D(filters=16, kernel_size=(3,3), activation='relu',))\n",
        "  model.add(MaxPooling2D(pool_size=(2, 2)))\n",
        "\n",
        "  model.add(Flatten())\n",
        "\n",
        "  model.add(Dense(224))\n",
        "  model.add(Activation('relu'))\n",
        "\n",
        "  # Last layer\n",
        "  model.add(Dense(2))\n",
        "\n",
        "  base_learning_rate = 0.001\n",
        "  model.compile(loss=tf.keras.losses.SparseCategoricalCrossentropy(from_logits=True),\n",
        "                optimizer=tf.keras.optimizers.Adam(learning_rate=base_learning_rate),\n",
        "                metrics=['accuracy'])\n",
        "\n",
        "  print(model.summary())\n",
        "  return model\n",
        "\n",
        "early_stop = EarlyStopping(monitor='val_loss',\n",
        "                            patience=5,\n",
        "                            restore_best_weights=True,)"
      ],
      "execution_count": 16,
      "outputs": []
    },
    {
      "cell_type": "markdown",
      "metadata": {
        "id": "4fSBo4FzlfNX"
      },
      "source": [
        "<a name='x.2.1'></a>\n",
        "\n",
        "### 4.2.1 Train and Evaluate Model\n",
        "\n",
        "[back to top](#top)\n",
        "\n",
        "To save/load weights and training history:\n",
        "```\n",
        "# model.save('inspection_of_casting_products.h5')\n",
        "# model.load_weights('inspection_of_casting_products.h5')\n",
        "# losses.to_csv('history_simple_model.csv', index=False)\n",
        "```"
      ]
    },
    {
      "cell_type": "markdown",
      "source": [
        "#### 4.2.1.1 Skimage\n",
        "\n",
        "[back to top](#top)"
      ],
      "metadata": {
        "id": "ivTRVLt5mqZ2"
      }
    },
    {
      "cell_type": "code",
      "source": [
        "%%time\n",
        "model = build_model()\n",
        "with tf.device('/device:GPU:0'):\n",
        "  results = model.fit(train_dataset_batched,\n",
        "                      epochs=30,\n",
        "                      validation_data=val_dataset_batched,\n",
        "                      callbacks=[early_stop]\n",
        "                      )"
      ],
      "metadata": {
        "colab": {
          "base_uri": "https://localhost:8080/"
        },
        "id": "gbelBvmApiVd",
        "outputId": "019729e9-f057-487f-e9f7-0db173a6562a"
      },
      "execution_count": 17,
      "outputs": [
        {
          "output_type": "stream",
          "name": "stdout",
          "text": [
            "Model: \"sequential_3\"\n",
            "_________________________________________________________________\n",
            " Layer (type)                Output Shape              Param #   \n",
            "=================================================================\n",
            " conv2d_25 (Conv2D)          (None, 298, 298, 8)       224       \n",
            "                                                                 \n",
            " max_pooling2d_3 (MaxPooling  (None, 149, 149, 8)      0         \n",
            " 2D)                                                             \n",
            "                                                                 \n",
            " conv2d_26 (Conv2D)          (None, 147, 147, 16)      1168      \n",
            "                                                                 \n",
            " max_pooling2d_4 (MaxPooling  (None, 73, 73, 16)       0         \n",
            " 2D)                                                             \n",
            "                                                                 \n",
            " conv2d_27 (Conv2D)          (None, 71, 71, 16)        2320      \n",
            "                                                                 \n",
            " max_pooling2d_5 (MaxPooling  (None, 35, 35, 16)       0         \n",
            " 2D)                                                             \n",
            "                                                                 \n",
            " flatten (Flatten)           (None, 19600)             0         \n",
            "                                                                 \n",
            " dense (Dense)               (None, 224)               4390624   \n",
            "                                                                 \n",
            " activation_2 (Activation)   (None, 224)               0         \n",
            "                                                                 \n",
            " dense_1 (Dense)             (None, 2)                 450       \n",
            "                                                                 \n",
            "=================================================================\n",
            "Total params: 4,394,786\n",
            "Trainable params: 4,394,786\n",
            "Non-trainable params: 0\n",
            "_________________________________________________________________\n",
            "None\n",
            "Epoch 1/30\n",
            "24/24 [==============================] - 4s 95ms/step - loss: 83.8552 - accuracy: 0.5423 - val_loss: 1.2317 - val_accuracy: 0.6548\n",
            "Epoch 2/30\n",
            "24/24 [==============================] - 2s 72ms/step - loss: 0.6356 - accuracy: 0.7011 - val_loss: 0.3245 - val_accuracy: 0.8571\n",
            "Epoch 3/30\n",
            "24/24 [==============================] - 2s 71ms/step - loss: 0.3996 - accuracy: 0.7976 - val_loss: 0.3156 - val_accuracy: 0.8452\n",
            "Epoch 4/30\n",
            "24/24 [==============================] - 2s 72ms/step - loss: 0.2368 - accuracy: 0.8995 - val_loss: 0.1321 - val_accuracy: 0.9643\n",
            "Epoch 5/30\n",
            "24/24 [==============================] - 2s 72ms/step - loss: 0.1764 - accuracy: 0.9325 - val_loss: 0.1329 - val_accuracy: 0.9524\n",
            "Epoch 6/30\n",
            "24/24 [==============================] - 2s 71ms/step - loss: 0.1729 - accuracy: 0.9352 - val_loss: 0.1492 - val_accuracy: 0.9524\n",
            "Epoch 7/30\n",
            "24/24 [==============================] - 2s 72ms/step - loss: 0.0984 - accuracy: 0.9616 - val_loss: 0.0482 - val_accuracy: 0.9881\n",
            "Epoch 8/30\n",
            "24/24 [==============================] - 2s 71ms/step - loss: 0.0494 - accuracy: 0.9868 - val_loss: 0.0247 - val_accuracy: 1.0000\n",
            "Epoch 9/30\n",
            "24/24 [==============================] - 2s 71ms/step - loss: 0.0632 - accuracy: 0.9828 - val_loss: 0.0292 - val_accuracy: 1.0000\n",
            "Epoch 10/30\n",
            "24/24 [==============================] - 2s 71ms/step - loss: 0.0411 - accuracy: 0.9868 - val_loss: 0.0139 - val_accuracy: 1.0000\n",
            "Epoch 11/30\n",
            "24/24 [==============================] - 2s 71ms/step - loss: 0.0183 - accuracy: 0.9974 - val_loss: 0.0096 - val_accuracy: 1.0000\n",
            "Epoch 12/30\n",
            "24/24 [==============================] - 2s 72ms/step - loss: 0.0077 - accuracy: 1.0000 - val_loss: 0.0048 - val_accuracy: 1.0000\n",
            "Epoch 13/30\n",
            "24/24 [==============================] - 2s 71ms/step - loss: 0.0083 - accuracy: 0.9987 - val_loss: 0.0050 - val_accuracy: 1.0000\n",
            "Epoch 14/30\n",
            "24/24 [==============================] - 2s 72ms/step - loss: 0.0047 - accuracy: 1.0000 - val_loss: 0.0054 - val_accuracy: 1.0000\n",
            "Epoch 15/30\n",
            "24/24 [==============================] - 2s 73ms/step - loss: 0.0048 - accuracy: 0.9987 - val_loss: 0.0033 - val_accuracy: 1.0000\n",
            "Epoch 16/30\n",
            "24/24 [==============================] - 2s 72ms/step - loss: 0.0692 - accuracy: 0.9841 - val_loss: 0.1683 - val_accuracy: 0.9286\n",
            "Epoch 17/30\n",
            "24/24 [==============================] - 2s 71ms/step - loss: 0.2085 - accuracy: 0.9378 - val_loss: 0.1657 - val_accuracy: 0.9405\n",
            "Epoch 18/30\n",
            "24/24 [==============================] - 2s 71ms/step - loss: 0.1278 - accuracy: 0.9537 - val_loss: 0.0475 - val_accuracy: 0.9762\n",
            "Epoch 19/30\n",
            "24/24 [==============================] - 2s 73ms/step - loss: 0.1368 - accuracy: 0.9471 - val_loss: 0.0586 - val_accuracy: 0.9762\n",
            "Epoch 20/30\n",
            "24/24 [==============================] - 2s 72ms/step - loss: 0.0445 - accuracy: 0.9854 - val_loss: 0.0144 - val_accuracy: 1.0000\n",
            "CPU times: user 34.5 s, sys: 1.8 s, total: 36.3 s\n",
            "Wall time: 47.6 s\n"
          ]
        }
      ]
    },
    {
      "cell_type": "code",
      "source": [
        "losses = pd.DataFrame(results.history)\n",
        "fig, ax = plt.subplots(1, 2, figsize=(10,5))\n",
        "losses[['loss','val_loss']].plot(ax=ax[0])\n",
        "losses[['accuracy','val_accuracy']].plot(ax=ax[1])"
      ],
      "metadata": {
        "colab": {
          "base_uri": "https://localhost:8080/",
          "height": 387
        },
        "id": "M8o5vAd_pj1Y",
        "outputId": "679568f6-f57b-4add-8b88-7e306862d59e"
      },
      "execution_count": 18,
      "outputs": [
        {
          "output_type": "execute_result",
          "data": {
            "text/plain": [
              "<matplotlib.axes._subplots.AxesSubplot at 0x7ff3801d4ad0>"
            ]
          },
          "metadata": {},
          "execution_count": 18
        },
        {
          "output_type": "display_data",
          "data": {
            "image/png": "[encoded data removed]",
            "text/plain": [
              "<Figure size 720x360 with 2 Axes>"
            ]
          },
          "metadata": {
            "needs_background": "light"
          }
        }
      ]
    },
    {
      "cell_type": "markdown",
      "source": [
        "##### 4.2.1.1.1 Evaluate\n",
        "\n",
        "[back to top](#top)"
      ],
      "metadata": {
        "id": "ncUjSrW9h2Af"
      }
    },
    {
      "cell_type": "code",
      "source": [
        "pred = []\n",
        "label = []\n",
        "for batch in range(len(test_dataset_batched)):\n",
        "  image_batch, label_batch = train_dataset_batched.as_numpy_iterator().next()\n",
        "  predictions = model.predict_on_batch(image_batch).argmax(axis=1)\n",
        "  # print(f\"Labels     : {label_batch}\\nPredictions: {predictions.astype(float)}\")\n",
        "  pred.append(predictions)\n",
        "  label.append(label_batch)\n",
        "predictions = np.array(pred).flatten()\n",
        "labels = np.array(label).flatten()\n",
        "print(classification_report(labels,predictions))\n",
        "\n",
        "plt.figure(figsize=(10,6))\n",
        "sns.heatmap(confusion_matrix(labels,predictions), annot=True)"
      ],
      "metadata": {
        "colab": {
          "base_uri": "https://localhost:8080/",
          "height": 618
        },
        "id": "lpNSrw3THaHP",
        "outputId": "a4fc32a7-8234-425e-93d9-bc9f7be17efa"
      },
      "execution_count": 19,
      "outputs": [
        {
          "output_type": "stream",
          "name": "stdout",
          "text": [
            "              precision    recall  f1-score   support\n",
            "\n",
            "         0.0       1.00      1.00      1.00       331\n",
            "         1.0       1.00      1.00      1.00       373\n",
            "\n",
            "    accuracy                           1.00       704\n",
            "   macro avg       1.00      1.00      1.00       704\n",
            "weighted avg       1.00      1.00      1.00       704\n",
            "\n"
          ]
        },
        {
          "output_type": "execute_result",
          "data": {
            "text/plain": [
              "<matplotlib.axes._subplots.AxesSubplot at 0x7ff3800f0350>"
            ]
          },
          "metadata": {},
          "execution_count": 19
        },
        {
          "output_type": "display_data",
          "data": {
            "image/png": "[encoded data removed]",
            "text/plain": [
              "<Figure size 720x432 with 2 Axes>"
            ]
          },
          "metadata": {
            "needs_background": "light"
          }
        }
      ]
    },
    {
      "cell_type": "markdown",
      "source": [
        "#### 4.2.1.2 TF - image_dataset_from_directory\n",
        "\n",
        "[back to top](#top)"
      ],
      "metadata": {
        "id": "d2Io4f1ncFCQ"
      }
    },
    {
      "cell_type": "code",
      "source": [
        "%%time\n",
        "model = build_model()\n",
        "with tf.device('/device:GPU:0'):\n",
        "  results = model.fit(train_set_tf,\n",
        "                      epochs=30,\n",
        "                      validation_data=val_set_tf,\n",
        "                      callbacks=[early_stop]\n",
        "                      )"
      ],
      "metadata": {
        "colab": {
          "base_uri": "https://localhost:8080/"
        },
        "id": "fCkEO464o4zY",
        "outputId": "77d6f765-efaa-4fe8-c21f-06366d12a0b7"
      },
      "execution_count": 20,
      "outputs": [
        {
          "output_type": "stream",
          "name": "stdout",
          "text": [
            "Model: \"sequential_4\"\n",
            "_________________________________________________________________\n",
            " Layer (type)                Output Shape              Param #   \n",
            "=================================================================\n",
            " conv2d_28 (Conv2D)          (None, 298, 298, 8)       224       \n",
            "                                                                 \n",
            " max_pooling2d_6 (MaxPooling  (None, 149, 149, 8)      0         \n",
            " 2D)                                                             \n",
            "                                                                 \n",
            " conv2d_29 (Conv2D)          (None, 147, 147, 16)      1168      \n",
            "                                                                 \n",
            " max_pooling2d_7 (MaxPooling  (None, 73, 73, 16)       0         \n",
            " 2D)                                                             \n",
            "                                                                 \n",
            " conv2d_30 (Conv2D)          (None, 71, 71, 16)        2320      \n",
            "                                                                 \n",
            " max_pooling2d_8 (MaxPooling  (None, 35, 35, 16)       0         \n",
            " 2D)                                                             \n",
            "                                                                 \n",
            " flatten_1 (Flatten)         (None, 19600)             0         \n",
            "                                                                 \n",
            " dense_2 (Dense)             (None, 224)               4390624   \n",
            "                                                                 \n",
            " activation_3 (Activation)   (None, 224)               0         \n",
            "                                                                 \n",
            " dense_3 (Dense)             (None, 2)                 450       \n",
            "                                                                 \n",
            "=================================================================\n",
            "Total params: 4,394,786\n",
            "Trainable params: 4,394,786\n",
            "Non-trainable params: 0\n",
            "_________________________________________________________________\n",
            "None\n",
            "Epoch 1/30\n",
            "24/24 [==============================] - 4s 110ms/step - loss: 134.4262 - accuracy: 0.4907 - val_loss: 1.5430 - val_accuracy: 0.4643\n",
            "Epoch 2/30\n",
            "24/24 [==============================] - 3s 104ms/step - loss: 0.8062 - accuracy: 0.6323 - val_loss: 0.5887 - val_accuracy: 0.7262\n",
            "Epoch 3/30\n",
            "24/24 [==============================] - 3s 104ms/step - loss: 0.5298 - accuracy: 0.7526 - val_loss: 0.4983 - val_accuracy: 0.7857\n",
            "Epoch 4/30\n",
            "24/24 [==============================] - 3s 102ms/step - loss: 0.3654 - accuracy: 0.8452 - val_loss: 0.4701 - val_accuracy: 0.7738\n",
            "Epoch 5/30\n",
            "24/24 [==============================] - 3s 102ms/step - loss: 0.3978 - accuracy: 0.8082 - val_loss: 0.4899 - val_accuracy: 0.7738\n",
            "Epoch 6/30\n",
            "24/24 [==============================] - 3s 102ms/step - loss: 0.2814 - accuracy: 0.8796 - val_loss: 0.6540 - val_accuracy: 0.7262\n",
            "Epoch 7/30\n",
            "24/24 [==============================] - 3s 105ms/step - loss: 0.8786 - accuracy: 0.7817 - val_loss: 0.8129 - val_accuracy: 0.6429\n",
            "Epoch 8/30\n",
            "24/24 [==============================] - 3s 103ms/step - loss: 0.3586 - accuracy: 0.8320 - val_loss: 0.5316 - val_accuracy: 0.8333\n",
            "Epoch 9/30\n",
            "24/24 [==============================] - 3s 104ms/step - loss: 0.2162 - accuracy: 0.9180 - val_loss: 0.5447 - val_accuracy: 0.8095\n",
            "CPU times: user 26 s, sys: 2.77 s, total: 28.8 s\n",
            "Wall time: 39.1 s\n"
          ]
        }
      ]
    },
    {
      "cell_type": "code",
      "source": [
        "losses = pd.DataFrame(results.history)\n",
        "fig, ax = plt.subplots(1, 2, figsize=(10,5))\n",
        "losses[['loss','val_loss']].plot(ax=ax[0])\n",
        "losses[['accuracy','val_accuracy']].plot(ax=ax[1])"
      ],
      "metadata": {
        "colab": {
          "base_uri": "https://localhost:8080/",
          "height": 387
        },
        "id": "-90Cais0o6aw",
        "outputId": "8dc0fcde-1c58-4efd-a792-cf315654973e"
      },
      "execution_count": 21,
      "outputs": [
        {
          "output_type": "execute_result",
          "data": {
            "text/plain": [
              "<matplotlib.axes._subplots.AxesSubplot at 0x7ff389cf4050>"
            ]
          },
          "metadata": {},
          "execution_count": 21
        },
        {
          "output_type": "display_data",
          "data": {
            "image/png": "[encoded data removed]",
            "text/plain": [
              "<Figure size 720x360 with 2 Axes>"
            ]
          },
          "metadata": {
            "needs_background": "light"
          }
        }
      ]
    },
    {
      "cell_type": "markdown",
      "source": [
        "##### 4.2.1.2.1 Evaluate\n",
        "\n",
        "[back to top](#top)"
      ],
      "metadata": {
        "id": "6ppnGSjVhzSi"
      }
    },
    {
      "cell_type": "code",
      "source": [
        "predictions = model.predict(test_set_tf).argmax(axis=1)\n",
        "labels = np.array([])\n",
        "for x, y in ds_test_:\n",
        "  labels = np.concatenate([labels, tf.squeeze(y.numpy()).numpy()])\n",
        "print(classification_report(labels,predictions))\n",
        "plt.figure(figsize=(10,6))\n",
        "sns.heatmap(confusion_matrix(labels,predictions), annot=True)"
      ],
      "metadata": {
        "colab": {
          "base_uri": "https://localhost:8080/",
          "height": 618
        },
        "id": "ExDYD6IkcNmL",
        "outputId": "5f0f402b-9a0a-40f4-c871-77de15c24238"
      },
      "execution_count": 22,
      "outputs": [
        {
          "output_type": "stream",
          "name": "stdout",
          "text": [
            "              precision    recall  f1-score   support\n",
            "\n",
            "         0.0       0.95      0.69      0.80       416\n",
            "         1.0       0.66      0.94      0.78       262\n",
            "\n",
            "    accuracy                           0.79       678\n",
            "   macro avg       0.80      0.82      0.79       678\n",
            "weighted avg       0.84      0.79      0.79       678\n",
            "\n"
          ]
        },
        {
          "output_type": "execute_result",
          "data": {
            "text/plain": [
              "<matplotlib.axes._subplots.AxesSubplot at 0x7ff381bb5710>"
            ]
          },
          "metadata": {},
          "execution_count": 22
        },
        {
          "output_type": "display_data",
          "data": {
            "image/png": "[encoded data removed]",
            "text/plain": [
              "<Figure size 720x432 with 2 Axes>"
            ]
          },
          "metadata": {
            "needs_background": "light"
          }
        }
      ]
    },
    {
      "cell_type": "markdown",
      "source": [
        "#### 4.2.1.3 Keras - ImageDataGenerator\n",
        "\n",
        "[back to top](#top)"
      ],
      "metadata": {
        "id": "erIeE6qGbcwu"
      }
    },
    {
      "cell_type": "code",
      "metadata": {
        "colab": {
          "base_uri": "https://localhost:8080/"
        },
        "id": "mLQYWTNuNSm2",
        "outputId": "ef164611-478e-4211-a2e5-522a0f85813d"
      },
      "source": [
        "%%time\n",
        "model = build_model()\n",
        "with tf.device('/device:GPU:0'):\n",
        "  results = model.fit(train_set_keras,\n",
        "                      epochs=30,\n",
        "                      validation_data=val_set_keras,\n",
        "                      callbacks=[early_stop]\n",
        "                      )"
      ],
      "execution_count": 23,
      "outputs": [
        {
          "output_type": "stream",
          "name": "stdout",
          "text": [
            "Model: \"sequential_5\"\n",
            "_________________________________________________________________\n",
            " Layer (type)                Output Shape              Param #   \n",
            "=================================================================\n",
            " conv2d_31 (Conv2D)          (None, 298, 298, 8)       224       \n",
            "                                                                 \n",
            " max_pooling2d_9 (MaxPooling  (None, 149, 149, 8)      0         \n",
            " 2D)                                                             \n",
            "                                                                 \n",
            " conv2d_32 (Conv2D)          (None, 147, 147, 16)      1168      \n",
            "                                                                 \n",
            " max_pooling2d_10 (MaxPoolin  (None, 73, 73, 16)       0         \n",
            " g2D)                                                            \n",
            "                                                                 \n",
            " conv2d_33 (Conv2D)          (None, 71, 71, 16)        2320      \n",
            "                                                                 \n",
            " max_pooling2d_11 (MaxPoolin  (None, 35, 35, 16)       0         \n",
            " g2D)                                                            \n",
            "                                                                 \n",
            " flatten_2 (Flatten)         (None, 19600)             0         \n",
            "                                                                 \n",
            " dense_4 (Dense)             (None, 224)               4390624   \n",
            "                                                                 \n",
            " activation_4 (Activation)   (None, 224)               0         \n",
            "                                                                 \n",
            " dense_5 (Dense)             (None, 2)                 450       \n",
            "                                                                 \n",
            "=================================================================\n",
            "Total params: 4,394,786\n",
            "Trainable params: 4,394,786\n",
            "Non-trainable params: 0\n",
            "_________________________________________________________________\n",
            "None\n",
            "Epoch 1/30\n",
            "24/24 [==============================] - 6s 218ms/step - loss: 0.7728 - accuracy: 0.5667 - val_loss: 0.6439 - val_accuracy: 0.6747\n",
            "Epoch 2/30\n",
            "24/24 [==============================] - 4s 183ms/step - loss: 0.5682 - accuracy: 0.7133 - val_loss: 0.5502 - val_accuracy: 0.7349\n",
            "Epoch 3/30\n",
            "24/24 [==============================] - 4s 183ms/step - loss: 0.4538 - accuracy: 0.7860 - val_loss: 0.5121 - val_accuracy: 0.7470\n",
            "Epoch 4/30\n",
            "24/24 [==============================] - 4s 186ms/step - loss: 0.3994 - accuracy: 0.8177 - val_loss: 0.5352 - val_accuracy: 0.7108\n",
            "Epoch 5/30\n",
            "24/24 [==============================] - 4s 184ms/step - loss: 0.3441 - accuracy: 0.8507 - val_loss: 0.4172 - val_accuracy: 0.7952\n",
            "Epoch 6/30\n",
            "24/24 [==============================] - 4s 182ms/step - loss: 0.2397 - accuracy: 0.9075 - val_loss: 0.3036 - val_accuracy: 0.8675\n",
            "Epoch 7/30\n",
            "24/24 [==============================] - 4s 184ms/step - loss: 0.1906 - accuracy: 0.9366 - val_loss: 0.2806 - val_accuracy: 0.9157\n",
            "Epoch 8/30\n",
            "24/24 [==============================] - 4s 185ms/step - loss: 0.1218 - accuracy: 0.9789 - val_loss: 0.2270 - val_accuracy: 0.9277\n",
            "Epoch 9/30\n",
            "24/24 [==============================] - 5s 187ms/step - loss: 0.1146 - accuracy: 0.9683 - val_loss: 0.6334 - val_accuracy: 0.7590\n",
            "Epoch 10/30\n",
            "24/24 [==============================] - 4s 185ms/step - loss: 0.1193 - accuracy: 0.9696 - val_loss: 0.2541 - val_accuracy: 0.9157\n",
            "Epoch 11/30\n",
            "24/24 [==============================] - 5s 187ms/step - loss: 0.1129 - accuracy: 0.9538 - val_loss: 0.3443 - val_accuracy: 0.8675\n",
            "Epoch 12/30\n",
            "24/24 [==============================] - 5s 189ms/step - loss: 0.1410 - accuracy: 0.9445 - val_loss: 0.2417 - val_accuracy: 0.9036\n",
            "Epoch 13/30\n",
            "24/24 [==============================] - 4s 186ms/step - loss: 0.0431 - accuracy: 0.9921 - val_loss: 0.2299 - val_accuracy: 0.9277\n",
            "CPU times: user 53.5 s, sys: 4.18 s, total: 57.7 s\n",
            "Wall time: 1min\n"
          ]
        }
      ]
    },
    {
      "cell_type": "code",
      "metadata": {
        "colab": {
          "base_uri": "https://localhost:8080/",
          "height": 387
        },
        "id": "9eqLn69jlyaD",
        "outputId": "8e8cf057-3a01-4ef9-bede-513560b1ab94"
      },
      "source": [
        "losses = pd.DataFrame(results.history)\n",
        "fig, ax = plt.subplots(1, 2, figsize=(10,5))\n",
        "losses[['loss','val_loss']].plot(ax=ax[0])\n",
        "losses[['accuracy','val_accuracy']].plot(ax=ax[1])"
      ],
      "execution_count": 24,
      "outputs": [
        {
          "output_type": "execute_result",
          "data": {
            "text/plain": [
              "<matplotlib.axes._subplots.AxesSubplot at 0x7ff37fdbe790>"
            ]
          },
          "metadata": {},
          "execution_count": 24
        },
        {
          "output_type": "display_data",
          "data": {
            "image/png": "[encoded data removed]",
            "text/plain": [
              "<Figure size 720x360 with 2 Axes>"
            ]
          },
          "metadata": {
            "needs_background": "light"
          }
        }
      ]
    },
    {
      "cell_type": "markdown",
      "source": [
        "##### 4.2.1.3.1 Evaluate\n",
        "\n",
        "[back to top](#top)"
      ],
      "metadata": {
        "id": "tifnsOhzhqzA"
      }
    },
    {
      "cell_type": "code",
      "source": [
        "predictions = model.predict(test_set_keras).argmax(axis=1)\n",
        "labels = test_set_keras.classes\n",
        "print(classification_report(labels,predictions))\n",
        "plt.figure(figsize=(10,6))\n",
        "sns.heatmap(confusion_matrix(labels,predictions), annot=True)"
      ],
      "metadata": {
        "colab": {
          "base_uri": "https://localhost:8080/",
          "height": 618
        },
        "id": "UqIfo2qgawsu",
        "outputId": "7ee05cab-6b03-4607-c563-a61e6f60697a"
      },
      "execution_count": 25,
      "outputs": [
        {
          "output_type": "stream",
          "name": "stdout",
          "text": [
            "              precision    recall  f1-score   support\n",
            "\n",
            "           0       0.99      0.88      0.93       416\n",
            "           1       0.83      0.98      0.90       262\n",
            "\n",
            "    accuracy                           0.92       678\n",
            "   macro avg       0.91      0.93      0.92       678\n",
            "weighted avg       0.93      0.92      0.92       678\n",
            "\n"
          ]
        },
        {
          "output_type": "execute_result",
          "data": {
            "text/plain": [
              "<matplotlib.axes._subplots.AxesSubplot at 0x7ff37fef4d10>"
            ]
          },
          "metadata": {},
          "execution_count": 25
        },
        {
          "output_type": "display_data",
          "data": {
            "image/png": "[encoded data removed]",
            "text/plain": [
              "<Figure size 720x432 with 2 Axes>"
            ]
          },
          "metadata": {
            "needs_background": "light"
          }
        }
      ]
    },
    {
      "cell_type": "markdown",
      "source": [
        "### 🏋️ Exercise 2: Binary Output\n",
        "\n",
        "In the above, we used a type of loss function called *sparse categorical crossentropy*\n",
        "\n",
        "This loss is useful when we have many target classes set as different integers, i.e.\n",
        "\n",
        "```\n",
        "good = 1\n",
        "bad = 2\n",
        "ugly = 3\n",
        "```\n",
        "\n",
        "another type of loss function is *categorical crossentropy* this is for when the target classes are one-hot encoded, i.e.\n",
        "\n",
        "```\n",
        "good = [1,0,0]\n",
        "bad = [0,1,0]\n",
        "ugly = [0,0,1]\n",
        "```\n",
        "\n",
        "1. Choose one of the datatset import methods from above\n",
        "2. Specify the labels as binary during the loading process\n",
        "3. Redefine the model using \n",
        "  * a single dense node as the final layer with\n",
        "  * a sigmoidal activation function\n",
        "4. Compile with the new loss set to 'binary_crossentropy',\n",
        "5. Train the model\n",
        "6. Evaluate the F1/Precision/Recall metrics and display the confusion matrix. \n",
        "  * *note: our prior method of obtaining the classification using `argmax` will not work, as the output is now a probability score ranging 0-1*"
      ],
      "metadata": {
        "id": "4APst7gsvI2o"
      }
    },
    {
      "cell_type": "code",
      "source": [
        "# Code cell for exercise 2"
      ],
      "metadata": {
        "id": "IQExKnkRwShn"
      },
      "execution_count": 26,
      "outputs": []
    },
    {
      "cell_type": "markdown",
      "metadata": {
        "id": "GTTWyFrXDvoN"
      },
      "source": [
        "<a name='x.3'></a>\n",
        "\n",
        "## 4.3 Data Augmentation\n",
        "\n",
        "[back to top](#top)\n",
        "\n",
        "Alright, alright, alright. We've done pretty good making our CNN model. But let's see if we can make it even better. There's a last trick we'll cover here in regard to image classifiers. We're going to perturb the input images in such a way as to create a pseudo-larger dataset.\n",
        "\n",
        "With any machine learning model, the more relevant training data we give the model, the better. The key here is _relevant_ training data. We can easily do this with images so long as we do not change the class of the image. For example, in the small plot below, we are changing contrast, hue, rotation, and doing other things to the image of a car; and this is okay because it does not change the classification from a car to, say, a truck.\n",
        "\n",
        "<p align=center>\n",
        "<img src=\"https://raw.githubusercontent.com/wesleybeckner/general_applications_of_neural_networks/main/assets/UaOm0ms.png\" width=400></img>\n",
        "</p>\n",
        "\n",
        "Typically when we do data augmentation for images, we do them _online_, i.e. during training. Recall that we train in batches (or minibatches) with CNNs. An example of a minibatch then, might be the small multiples plot below.\n",
        "\n",
        "<p align=center>\n",
        "<img src=\"https://raw.githubusercontent.com/wesleybeckner/general_applications_of_neural_networks/main/assets/MFviYoE.png\" width=400></img>\n",
        "</p>\n",
        "\n",
        "by varying the images in this way, the model always sees slightly new data, and becomes a more robust model. Remember that the caveat is that we can't muddle the relevant classification of the image. Sometimes the best way to see if data augmentation will be helpful is to just try it and see!"
      ]
    },
    {
      "cell_type": "markdown",
      "source": [
        "### 4.3.1 Define Architecture\n",
        "\n",
        "[back to top](#top)"
      ],
      "metadata": {
        "id": "-vxUj_-3jzU8"
      }
    },
    {
      "cell_type": "code",
      "metadata": {
        "id": "1o9ATkGp3-OR",
        "colab": {
          "base_uri": "https://localhost:8080/"
        },
        "outputId": "c4565697-c267-430f-8dd1-1ef1c69d6bc1"
      },
      "source": [
        "#Creating model\n",
        "model = Sequential()\n",
        "\n",
        "model.add(InputLayer(input_shape=(image_shape)))\n",
        "\n",
        "model.add(preprocessing.RandomFlip('horizontal', seed=seed_value)), # flip left-to-right\n",
        "model.add(preprocessing.RandomFlip('vertical', seed=seed_value)), # flip upside-down\n",
        "model.add(preprocessing.RandomContrast(0.1, seed=seed_value)), # contrast change by up to 50%\n",
        "model.add(preprocessing.RandomRotation(factor=1, fill_mode='constant', seed=seed_value))\n",
        "\n",
        "model.add(Conv2D(filters=8, kernel_size=(3,3),input_shape=image_shape, activation='relu',))\n",
        "model.add(MaxPooling2D(pool_size=(2, 2)))\n",
        "\n",
        "model.add(Conv2D(filters=16, kernel_size=(3,3), activation='relu',))\n",
        "model.add(MaxPooling2D(pool_size=(2, 2)))\n",
        "\n",
        "model.add(Conv2D(filters=16, kernel_size=(3,3), activation='relu',))\n",
        "model.add(MaxPooling2D(pool_size=(2, 2)))\n",
        "\n",
        "model.add(Flatten())\n",
        "\n",
        "model.add(Dense(224))\n",
        "model.add(Activation('relu'))\n",
        "\n",
        "# Last layer\n",
        "model.add(Dense(2))\n",
        "\n",
        "early_stop = EarlyStopping(monitor='val_loss',\n",
        "                           patience=5,\n",
        "                           restore_best_weights=True,)\n",
        "\n",
        "base_learning_rate = 0.001\n",
        "model.compile(loss=tf.keras.losses.SparseCategoricalCrossentropy(from_logits=True),\n",
        "              optimizer=tf.keras.optimizers.Adam(learning_rate=base_learning_rate),\n",
        "              metrics=['accuracy'])\n",
        "\n",
        "model.summary()"
      ],
      "execution_count": 27,
      "outputs": [
        {
          "output_type": "stream",
          "name": "stdout",
          "text": [
            "Model: \"sequential_6\"\n",
            "_________________________________________________________________\n",
            " Layer (type)                Output Shape              Param #   \n",
            "=================================================================\n",
            " random_flip (RandomFlip)    (None, 300, 300, 3)       0         \n",
            "                                                                 \n",
            " random_flip_1 (RandomFlip)  (None, 300, 300, 3)       0         \n",
            "                                                                 \n",
            " random_contrast (RandomCont  (None, 300, 300, 3)      0         \n",
            " rast)                                                           \n",
            "                                                                 \n",
            " random_rotation (RandomRota  (None, 300, 300, 3)      0         \n",
            " tion)                                                           \n",
            "                                                                 \n",
            " conv2d_34 (Conv2D)          (None, 298, 298, 8)       224       \n",
            "                                                                 \n",
            " max_pooling2d_12 (MaxPoolin  (None, 149, 149, 8)      0         \n",
            " g2D)                                                            \n",
            "                                                                 \n",
            " conv2d_35 (Conv2D)          (None, 147, 147, 16)      1168      \n",
            "                                                                 \n",
            " max_pooling2d_13 (MaxPoolin  (None, 73, 73, 16)       0         \n",
            " g2D)                                                            \n",
            "                                                                 \n",
            " conv2d_36 (Conv2D)          (None, 71, 71, 16)        2320      \n",
            "                                                                 \n",
            " max_pooling2d_14 (MaxPoolin  (None, 35, 35, 16)       0         \n",
            " g2D)                                                            \n",
            "                                                                 \n",
            " flatten_3 (Flatten)         (None, 19600)             0         \n",
            "                                                                 \n",
            " dense_6 (Dense)             (None, 224)               4390624   \n",
            "                                                                 \n",
            " activation_5 (Activation)   (None, 224)               0         \n",
            "                                                                 \n",
            " dense_7 (Dense)             (None, 2)                 450       \n",
            "                                                                 \n",
            "=================================================================\n",
            "Total params: 4,394,786\n",
            "Trainable params: 4,394,786\n",
            "Non-trainable params: 0\n",
            "_________________________________________________________________\n"
          ]
        }
      ]
    },
    {
      "cell_type": "code",
      "metadata": {
        "id": "lRZOVdQoHP0z",
        "colab": {
          "base_uri": "https://localhost:8080/"
        },
        "outputId": "3c7d2b19-8b87-4a5a-94e8-c9410bf2aadf"
      },
      "source": [
        "%%time\n",
        "results = model.fit(train_set_tf,\n",
        "                    epochs=30,\n",
        "                    validation_data=val_set_tf,\n",
        "                    callbacks=[early_stop])"
      ],
      "execution_count": 28,
      "outputs": [
        {
          "output_type": "stream",
          "name": "stdout",
          "text": [
            "Epoch 1/30\n",
            "24/24 [==============================] - 4s 116ms/step - loss: 119.8577 - accuracy: 0.4960 - val_loss: 4.5860 - val_accuracy: 0.5952\n",
            "Epoch 2/30\n",
            "24/24 [==============================] - 3s 108ms/step - loss: 1.8653 - accuracy: 0.6561 - val_loss: 0.9853 - val_accuracy: 0.6310\n",
            "Epoch 3/30\n",
            "24/24 [==============================] - 3s 110ms/step - loss: 0.7695 - accuracy: 0.7143 - val_loss: 0.7379 - val_accuracy: 0.6548\n",
            "Epoch 4/30\n",
            "24/24 [==============================] - 3s 110ms/step - loss: 0.7312 - accuracy: 0.7196 - val_loss: 0.4667 - val_accuracy: 0.7500\n",
            "Epoch 5/30\n",
            "24/24 [==============================] - 3s 109ms/step - loss: 0.5811 - accuracy: 0.7513 - val_loss: 0.5543 - val_accuracy: 0.7262\n",
            "Epoch 6/30\n",
            "24/24 [==============================] - 3s 110ms/step - loss: 0.5251 - accuracy: 0.7619 - val_loss: 0.4778 - val_accuracy: 0.7976\n",
            "Epoch 7/30\n",
            "24/24 [==============================] - 3s 113ms/step - loss: 0.4472 - accuracy: 0.7950 - val_loss: 0.4601 - val_accuracy: 0.8214\n",
            "Epoch 8/30\n",
            "24/24 [==============================] - 3s 112ms/step - loss: 0.5250 - accuracy: 0.7765 - val_loss: 0.4135 - val_accuracy: 0.7976\n",
            "Epoch 9/30\n",
            "24/24 [==============================] - 3s 110ms/step - loss: 0.3857 - accuracy: 0.8241 - val_loss: 0.3998 - val_accuracy: 0.8333\n",
            "Epoch 10/30\n",
            "24/24 [==============================] - 3s 114ms/step - loss: 0.3940 - accuracy: 0.8241 - val_loss: 0.4778 - val_accuracy: 0.7976\n",
            "Epoch 11/30\n",
            "24/24 [==============================] - 3s 111ms/step - loss: 0.3229 - accuracy: 0.8505 - val_loss: 0.3675 - val_accuracy: 0.8095\n",
            "Epoch 12/30\n",
            "24/24 [==============================] - 3s 110ms/step - loss: 0.4138 - accuracy: 0.8280 - val_loss: 0.4310 - val_accuracy: 0.8214\n",
            "Epoch 13/30\n",
            "24/24 [==============================] - 3s 113ms/step - loss: 0.4179 - accuracy: 0.8280 - val_loss: 0.3730 - val_accuracy: 0.8690\n",
            "Epoch 14/30\n",
            "24/24 [==============================] - 3s 111ms/step - loss: 0.3174 - accuracy: 0.8704 - val_loss: 0.4226 - val_accuracy: 0.7976\n",
            "Epoch 15/30\n",
            "24/24 [==============================] - 3s 111ms/step - loss: 0.3104 - accuracy: 0.8704 - val_loss: 0.3007 - val_accuracy: 0.8929\n",
            "Epoch 16/30\n",
            "24/24 [==============================] - 3s 110ms/step - loss: 0.2717 - accuracy: 0.8915 - val_loss: 0.3191 - val_accuracy: 0.8929\n",
            "Epoch 17/30\n",
            "24/24 [==============================] - 3s 109ms/step - loss: 0.2499 - accuracy: 0.9008 - val_loss: 0.4745 - val_accuracy: 0.7857\n",
            "Epoch 18/30\n",
            "24/24 [==============================] - 3s 106ms/step - loss: 0.2226 - accuracy: 0.9008 - val_loss: 0.2697 - val_accuracy: 0.8929\n",
            "Epoch 19/30\n",
            "24/24 [==============================] - 3s 110ms/step - loss: 0.2619 - accuracy: 0.8876 - val_loss: 0.1840 - val_accuracy: 0.9167\n",
            "Epoch 20/30\n",
            "24/24 [==============================] - 3s 111ms/step - loss: 0.1931 - accuracy: 0.9061 - val_loss: 0.1650 - val_accuracy: 0.9048\n",
            "Epoch 21/30\n",
            "24/24 [==============================] - 3s 108ms/step - loss: 0.1871 - accuracy: 0.9259 - val_loss: 0.2051 - val_accuracy: 0.8929\n",
            "Epoch 22/30\n",
            "24/24 [==============================] - 3s 110ms/step - loss: 0.2252 - accuracy: 0.9153 - val_loss: 0.1596 - val_accuracy: 0.9167\n",
            "Epoch 23/30\n",
            "24/24 [==============================] - 3s 111ms/step - loss: 0.1519 - accuracy: 0.9431 - val_loss: 0.1245 - val_accuracy: 0.9643\n",
            "Epoch 24/30\n",
            "24/24 [==============================] - 3s 109ms/step - loss: 0.1538 - accuracy: 0.9405 - val_loss: 0.1161 - val_accuracy: 0.9524\n",
            "Epoch 25/30\n",
            "24/24 [==============================] - 3s 109ms/step - loss: 0.2514 - accuracy: 0.9127 - val_loss: 0.1773 - val_accuracy: 0.9167\n",
            "Epoch 26/30\n",
            "24/24 [==============================] - 3s 106ms/step - loss: 0.1651 - accuracy: 0.9339 - val_loss: 0.1341 - val_accuracy: 0.9643\n",
            "Epoch 27/30\n",
            "24/24 [==============================] - 3s 111ms/step - loss: 0.1599 - accuracy: 0.9418 - val_loss: 0.1689 - val_accuracy: 0.9167\n",
            "Epoch 28/30\n",
            "24/24 [==============================] - 3s 109ms/step - loss: 0.1578 - accuracy: 0.9471 - val_loss: 0.1424 - val_accuracy: 0.9286\n",
            "Epoch 29/30\n",
            "24/24 [==============================] - 3s 110ms/step - loss: 0.1286 - accuracy: 0.9524 - val_loss: 0.1622 - val_accuracy: 0.9286\n",
            "CPU times: user 1min 25s, sys: 9.96 s, total: 1min 35s\n",
            "Wall time: 2min 4s\n"
          ]
        }
      ]
    },
    {
      "cell_type": "markdown",
      "metadata": {
        "id": "5pfVDQlYjaWQ"
      },
      "source": [
        "<a name='x.3.1'></a>\n",
        "\n",
        "### 4.3.2 Evaluate Model\n",
        "\n",
        "[back to top](#top)"
      ]
    },
    {
      "cell_type": "code",
      "metadata": {
        "id": "9eQ48mBdN0LB",
        "colab": {
          "base_uri": "https://localhost:8080/",
          "height": 618
        },
        "outputId": "aff7de60-c516-4e18-dd8a-d4bb4aeeeede"
      },
      "source": [
        "predictions = model.predict(test_set_tf).argmax(axis=1)\n",
        "labels = np.array([])\n",
        "for x, y in ds_test_:\n",
        "  labels = np.concatenate([labels, tf.squeeze(y.numpy()).numpy()])\n",
        "print(classification_report(labels,predictions))\n",
        "plt.figure(figsize=(10,6))\n",
        "sns.heatmap(confusion_matrix(labels,predictions), annot=True)"
      ],
      "execution_count": 29,
      "outputs": [
        {
          "output_type": "stream",
          "name": "stdout",
          "text": [
            "              precision    recall  f1-score   support\n",
            "\n",
            "         0.0       0.96      0.95      0.96       416\n",
            "         1.0       0.93      0.94      0.94       262\n",
            "\n",
            "    accuracy                           0.95       678\n",
            "   macro avg       0.95      0.95      0.95       678\n",
            "weighted avg       0.95      0.95      0.95       678\n",
            "\n"
          ]
        },
        {
          "output_type": "execute_result",
          "data": {
            "text/plain": [
              "<matplotlib.axes._subplots.AxesSubplot at 0x7ff389e48f90>"
            ]
          },
          "metadata": {},
          "execution_count": 29
        },
        {
          "output_type": "display_data",
          "data": {
            "image/png": "[encoded data removed]",
            "text/plain": [
              "<Figure size 720x432 with 2 Axes>"
            ]
          },
          "metadata": {
            "needs_background": "light"
          }
        }
      ]
    },
    {
      "cell_type": "markdown",
      "metadata": {
        "id": "YBElwTahjiOH"
      },
      "source": [
        "<a name='x.3.2'></a>\n",
        "\n",
        "### 🏋️ Exercise 3: Image Preprocessing Layers\n",
        "\n",
        "[back to top](#top)\n",
        "\n",
        "These layers apply random augmentation transforms to a batch of images. They are only active during training. You can visit the documentation [here](https://keras.io/api/layers/preprocessing_layers/image_preprocessing/)\n",
        "\n",
        "* `RandomCrop` layer\n",
        "* `RandomFlip` layer\n",
        "* `RandomTranslation` layer\n",
        "* `RandomRotation` layer\n",
        "* `RandomZoom` layer\n",
        "* `RandomHeight` layer\n",
        "* `RandomWidth` layer\n",
        "\n",
        "Use any combination of random augmentation transforms and retrain your model. Can you get a higher val performance? you may need to increase your epochs."
      ]
    },
    {
      "cell_type": "code",
      "metadata": {
        "id": "EUrtB6o_kFtI"
      },
      "source": [
        "# Code cell for exercise 3"
      ],
      "execution_count": 30,
      "outputs": []
    },
    {
      "cell_type": "markdown",
      "metadata": {
        "id": "GGijUvR_efGS"
      },
      "source": [
        "<a name='x.4'></a>\n",
        "\n",
        "## 4.4 Transfer Learning\n",
        "\n",
        "[back to top](#top)\n",
        "\n",
        "MobileNetV2 - A general purpose, deployable computer vision neural network designed by Google that works efficiently for classification, detection and segmentation.  \n",
        "\n",
        "![](https://miro.medium.com/max/1016/1*5iA55983nBMlQn9f6ICxKg.png)"
      ]
    },
    {
      "cell_type": "markdown",
      "source": [
        "### 4.4.1 Define Architecture\n",
        "\n",
        "[back to top](#top)"
      ],
      "metadata": {
        "id": "71LfkwtShWn_"
      }
    },
    {
      "cell_type": "code",
      "source": [
        "### COMPONENTS (IN ORDER)\n",
        "resize = layers.experimental.preprocessing.Resizing(224,224)\n",
        "preprocess_input_fn = tf.keras.applications.mobilenet_v2.preprocess_input \n",
        "base_model = tf.keras.applications.MobileNetV2(input_shape=(224,224,3),\n",
        "                                               include_top=False,\n",
        "                                               weights='imagenet')\n",
        "base_model.trainable=False\n",
        "global_average_layer = tf.keras.layers.GlobalAveragePooling2D()\n",
        "prediction_layer = tf.keras.layers.Dense(len(classes))"
      ],
      "metadata": {
        "id": "NKY2XanzrFcm",
        "colab": {
          "base_uri": "https://localhost:8080/"
        },
        "outputId": "2aa6e8ca-d13d-4816-d598-685d8081fa06"
      },
      "execution_count": 31,
      "outputs": [
        {
          "output_type": "stream",
          "name": "stdout",
          "text": [
            "Downloading data from https://storage.googleapis.com/tensorflow/keras-applications/mobilenet_v2/mobilenet_v2_weights_tf_dim_ordering_tf_kernels_1.0_224_no_top.h5\n",
            "9412608/9406464 [==============================] - 0s 0us/step\n",
            "9420800/9406464 [==============================] - 0s 0us/step\n"
          ]
        }
      ]
    },
    {
      "cell_type": "code",
      "source": [
        "### MODEL\n",
        "inputs = tf.keras.Input(shape=image_shape)\n",
        "x = resize(inputs)\n",
        "x = preprocess_input_fn(x)\n",
        "x = base_model(x, training=False)\n",
        "x = global_average_layer(x)\n",
        "x = tf.keras.layers.Dropout(0.2)(x)\n",
        "outputs = prediction_layer(x)\n",
        "\n",
        "model = tf.keras.Model(inputs, outputs)"
      ],
      "metadata": {
        "id": "ZAap4KBfudfc"
      },
      "execution_count": 32,
      "outputs": []
    },
    {
      "cell_type": "code",
      "source": [
        "base_learning_rate = 0.0001\n",
        "model.compile(optimizer=tf.keras.optimizers.Adam(lr=base_learning_rate),\n",
        "              loss=tf.keras.losses.SparseCategoricalCrossentropy(from_logits=True),\n",
        "              metrics=['accuracy'])\n",
        "\n",
        "early_stop = EarlyStopping(monitor='val_loss',\n",
        "                           patience=5,\n",
        "                           restore_best_weights=True,)\n",
        "model.summary()"
      ],
      "metadata": {
        "colab": {
          "base_uri": "https://localhost:8080/"
        },
        "id": "CtWevtEir3mS",
        "outputId": "6b027a9b-bbe5-4ab0-f3e0-a020f3cbbfea"
      },
      "execution_count": 33,
      "outputs": [
        {
          "output_type": "stream",
          "name": "stdout",
          "text": [
            "Model: \"model\"\n",
            "_________________________________________________________________\n",
            " Layer (type)                Output Shape              Param #   \n",
            "=================================================================\n",
            " input_6 (InputLayer)        [(None, 300, 300, 3)]     0         \n",
            "                                                                 \n",
            " resizing (Resizing)         (None, 224, 224, 3)       0         \n",
            "                                                                 \n",
            " tf.math.truediv (TFOpLambda  (None, 224, 224, 3)      0         \n",
            " )                                                               \n",
            "                                                                 \n",
            " tf.math.subtract (TFOpLambd  (None, 224, 224, 3)      0         \n",
            " a)                                                              \n",
            "                                                                 \n",
            " mobilenetv2_1.00_224 (Funct  (None, 7, 7, 1280)       2257984   \n",
            " ional)                                                          \n",
            "                                                                 \n",
            " global_average_pooling2d (G  (None, 1280)             0         \n",
            " lobalAveragePooling2D)                                          \n",
            "                                                                 \n",
            " dropout (Dropout)           (None, 1280)              0         \n",
            "                                                                 \n",
            " dense_8 (Dense)             (None, 2)                 2562      \n",
            "                                                                 \n",
            "=================================================================\n",
            "Total params: 2,260,546\n",
            "Trainable params: 2,562\n",
            "Non-trainable params: 2,257,984\n",
            "_________________________________________________________________\n"
          ]
        },
        {
          "output_type": "stream",
          "name": "stderr",
          "text": [
            "/usr/local/lib/python3.7/dist-packages/keras/optimizer_v2/adam.py:105: UserWarning: The `lr` argument is deprecated, use `learning_rate` instead.\n",
            "  super(Adam, self).__init__(name, **kwargs)\n"
          ]
        }
      ]
    },
    {
      "cell_type": "markdown",
      "source": [
        "### 4.4.2 Train Head\n",
        "\n",
        "[back to top](#top)"
      ],
      "metadata": {
        "id": "vivzVi-RhcjG"
      }
    },
    {
      "cell_type": "code",
      "source": [
        "%%time\n",
        "with tf.device('/device:GPU:0'):\n",
        "  results = model.fit(train_set_tf,\n",
        "                      epochs=50,\n",
        "                      validation_data=val_set_tf,\n",
        "                      callbacks=[early_stop]\n",
        "                      )"
      ],
      "metadata": {
        "colab": {
          "base_uri": "https://localhost:8080/"
        },
        "id": "hR2o4Aa1saQD",
        "outputId": "1fc0a8c7-2131-4946-b4bc-1d7bb393b5c8"
      },
      "execution_count": 34,
      "outputs": [
        {
          "output_type": "stream",
          "name": "stdout",
          "text": [
            "Epoch 1/50\n",
            "24/24 [==============================] - 9s 181ms/step - loss: 0.9359 - accuracy: 0.3955 - val_loss: 0.7577 - val_accuracy: 0.4881\n",
            "Epoch 2/50\n",
            "24/24 [==============================] - 4s 121ms/step - loss: 0.8204 - accuracy: 0.4802 - val_loss: 0.6900 - val_accuracy: 0.5238\n",
            "Epoch 3/50\n",
            "24/24 [==============================] - 4s 120ms/step - loss: 0.7541 - accuracy: 0.5423 - val_loss: 0.6381 - val_accuracy: 0.6071\n",
            "Epoch 4/50\n",
            "24/24 [==============================] - 4s 118ms/step - loss: 0.7042 - accuracy: 0.5913 - val_loss: 0.5892 - val_accuracy: 0.7143\n",
            "Epoch 5/50\n",
            "24/24 [==============================] - 4s 123ms/step - loss: 0.6486 - accuracy: 0.6389 - val_loss: 0.5492 - val_accuracy: 0.8214\n",
            "Epoch 6/50\n",
            "24/24 [==============================] - 4s 121ms/step - loss: 0.6115 - accuracy: 0.6614 - val_loss: 0.5149 - val_accuracy: 0.8452\n",
            "Epoch 7/50\n",
            "24/24 [==============================] - 4s 123ms/step - loss: 0.5769 - accuracy: 0.6905 - val_loss: 0.4887 - val_accuracy: 0.8929\n",
            "Epoch 8/50\n",
            "24/24 [==============================] - 3s 119ms/step - loss: 0.5645 - accuracy: 0.6997 - val_loss: 0.4639 - val_accuracy: 0.8929\n",
            "Epoch 9/50\n",
            "24/24 [==============================] - 3s 119ms/step - loss: 0.5212 - accuracy: 0.7500 - val_loss: 0.4404 - val_accuracy: 0.9048\n",
            "Epoch 10/50\n",
            "24/24 [==============================] - 4s 120ms/step - loss: 0.4703 - accuracy: 0.7844 - val_loss: 0.4205 - val_accuracy: 0.9048\n",
            "Epoch 11/50\n",
            "24/24 [==============================] - 4s 121ms/step - loss: 0.4738 - accuracy: 0.7857 - val_loss: 0.4020 - val_accuracy: 0.9167\n",
            "Epoch 12/50\n",
            "24/24 [==============================] - 3s 119ms/step - loss: 0.4544 - accuracy: 0.8069 - val_loss: 0.3888 - val_accuracy: 0.9048\n",
            "Epoch 13/50\n",
            "24/24 [==============================] - 4s 122ms/step - loss: 0.4313 - accuracy: 0.8148 - val_loss: 0.3707 - val_accuracy: 0.9405\n",
            "Epoch 14/50\n",
            "24/24 [==============================] - 4s 121ms/step - loss: 0.4249 - accuracy: 0.8161 - val_loss: 0.3597 - val_accuracy: 0.9405\n",
            "Epoch 15/50\n",
            "24/24 [==============================] - 4s 122ms/step - loss: 0.4151 - accuracy: 0.8320 - val_loss: 0.3483 - val_accuracy: 0.9405\n",
            "Epoch 16/50\n",
            "24/24 [==============================] - 4s 121ms/step - loss: 0.4108 - accuracy: 0.8214 - val_loss: 0.3373 - val_accuracy: 0.9405\n",
            "Epoch 17/50\n",
            "24/24 [==============================] - 4s 122ms/step - loss: 0.3905 - accuracy: 0.8373 - val_loss: 0.3260 - val_accuracy: 0.9524\n",
            "Epoch 18/50\n",
            "24/24 [==============================] - 4s 124ms/step - loss: 0.3772 - accuracy: 0.8439 - val_loss: 0.3169 - val_accuracy: 0.9524\n",
            "Epoch 19/50\n",
            "24/24 [==============================] - 4s 121ms/step - loss: 0.3610 - accuracy: 0.8651 - val_loss: 0.3086 - val_accuracy: 0.9524\n",
            "Epoch 20/50\n",
            "24/24 [==============================] - 4s 121ms/step - loss: 0.3484 - accuracy: 0.8611 - val_loss: 0.3014 - val_accuracy: 0.9524\n",
            "Epoch 21/50\n",
            "24/24 [==============================] - 4s 121ms/step - loss: 0.3475 - accuracy: 0.8571 - val_loss: 0.2932 - val_accuracy: 0.9524\n",
            "Epoch 22/50\n",
            "24/24 [==============================] - 4s 123ms/step - loss: 0.3524 - accuracy: 0.8413 - val_loss: 0.2856 - val_accuracy: 0.9524\n",
            "Epoch 23/50\n",
            "24/24 [==============================] - 4s 122ms/step - loss: 0.3252 - accuracy: 0.8690 - val_loss: 0.2809 - val_accuracy: 0.9524\n",
            "Epoch 24/50\n",
            "24/24 [==============================] - 4s 121ms/step - loss: 0.3215 - accuracy: 0.8862 - val_loss: 0.2728 - val_accuracy: 0.9524\n",
            "Epoch 25/50\n",
            "24/24 [==============================] - 4s 122ms/step - loss: 0.3094 - accuracy: 0.8915 - val_loss: 0.2671 - val_accuracy: 0.9524\n",
            "Epoch 26/50\n",
            "24/24 [==============================] - 4s 121ms/step - loss: 0.3063 - accuracy: 0.8902 - val_loss: 0.2622 - val_accuracy: 0.9524\n",
            "Epoch 27/50\n",
            "24/24 [==============================] - 4s 124ms/step - loss: 0.3060 - accuracy: 0.8810 - val_loss: 0.2553 - val_accuracy: 0.9524\n",
            "Epoch 28/50\n",
            "24/24 [==============================] - 4s 122ms/step - loss: 0.2958 - accuracy: 0.9008 - val_loss: 0.2532 - val_accuracy: 0.9524\n",
            "Epoch 29/50\n",
            "24/24 [==============================] - 4s 122ms/step - loss: 0.2996 - accuracy: 0.8889 - val_loss: 0.2460 - val_accuracy: 0.9524\n",
            "Epoch 30/50\n",
            "24/24 [==============================] - 4s 121ms/step - loss: 0.2908 - accuracy: 0.8955 - val_loss: 0.2403 - val_accuracy: 0.9524\n",
            "Epoch 31/50\n",
            "24/24 [==============================] - 4s 122ms/step - loss: 0.2956 - accuracy: 0.8981 - val_loss: 0.2371 - val_accuracy: 0.9524\n",
            "Epoch 32/50\n",
            "24/24 [==============================] - 4s 121ms/step - loss: 0.2861 - accuracy: 0.8981 - val_loss: 0.2352 - val_accuracy: 0.9524\n",
            "Epoch 33/50\n",
            "24/24 [==============================] - 4s 122ms/step - loss: 0.2808 - accuracy: 0.9101 - val_loss: 0.2278 - val_accuracy: 0.9643\n",
            "Epoch 34/50\n",
            "24/24 [==============================] - 4s 122ms/step - loss: 0.2705 - accuracy: 0.9114 - val_loss: 0.2237 - val_accuracy: 0.9643\n",
            "Epoch 35/50\n",
            "24/24 [==============================] - 3s 120ms/step - loss: 0.2751 - accuracy: 0.8955 - val_loss: 0.2195 - val_accuracy: 0.9524\n",
            "Epoch 36/50\n",
            "24/24 [==============================] - 4s 120ms/step - loss: 0.2596 - accuracy: 0.9114 - val_loss: 0.2168 - val_accuracy: 0.9643\n",
            "Epoch 37/50\n",
            "24/24 [==============================] - 4s 123ms/step - loss: 0.2610 - accuracy: 0.9114 - val_loss: 0.2140 - val_accuracy: 0.9643\n",
            "Epoch 38/50\n",
            "24/24 [==============================] - 4s 121ms/step - loss: 0.2568 - accuracy: 0.9074 - val_loss: 0.2097 - val_accuracy: 0.9524\n",
            "Epoch 39/50\n",
            "24/24 [==============================] - 4s 121ms/step - loss: 0.2489 - accuracy: 0.9114 - val_loss: 0.2080 - val_accuracy: 0.9643\n",
            "Epoch 40/50\n",
            "24/24 [==============================] - 4s 121ms/step - loss: 0.2451 - accuracy: 0.9193 - val_loss: 0.2040 - val_accuracy: 0.9643\n",
            "Epoch 41/50\n",
            "24/24 [==============================] - 4s 121ms/step - loss: 0.2434 - accuracy: 0.9153 - val_loss: 0.2011 - val_accuracy: 0.9643\n",
            "Epoch 42/50\n",
            "24/24 [==============================] - 4s 121ms/step - loss: 0.2393 - accuracy: 0.9206 - val_loss: 0.1984 - val_accuracy: 0.9643\n",
            "Epoch 43/50\n",
            "24/24 [==============================] - 3s 120ms/step - loss: 0.2363 - accuracy: 0.9193 - val_loss: 0.1948 - val_accuracy: 0.9643\n",
            "Epoch 44/50\n",
            "24/24 [==============================] - 4s 120ms/step - loss: 0.2455 - accuracy: 0.9167 - val_loss: 0.1926 - val_accuracy: 0.9643\n",
            "Epoch 45/50\n",
            "24/24 [==============================] - 4s 121ms/step - loss: 0.2252 - accuracy: 0.9206 - val_loss: 0.1899 - val_accuracy: 0.9643\n",
            "Epoch 46/50\n",
            "24/24 [==============================] - 4s 122ms/step - loss: 0.2296 - accuracy: 0.9312 - val_loss: 0.1869 - val_accuracy: 0.9643\n",
            "Epoch 47/50\n",
            "24/24 [==============================] - 4s 123ms/step - loss: 0.2369 - accuracy: 0.9140 - val_loss: 0.1844 - val_accuracy: 0.9643\n",
            "Epoch 48/50\n",
            "24/24 [==============================] - 4s 121ms/step - loss: 0.2199 - accuracy: 0.9259 - val_loss: 0.1822 - val_accuracy: 0.9643\n",
            "Epoch 49/50\n",
            "24/24 [==============================] - 4s 120ms/step - loss: 0.2202 - accuracy: 0.9246 - val_loss: 0.1800 - val_accuracy: 0.9643\n",
            "Epoch 50/50\n",
            "24/24 [==============================] - 3s 117ms/step - loss: 0.2098 - accuracy: 0.9325 - val_loss: 0.1803 - val_accuracy: 0.9643\n",
            "CPU times: user 2min 18s, sys: 17 s, total: 2min 35s\n",
            "Wall time: 3min 41s\n"
          ]
        }
      ]
    },
    {
      "cell_type": "markdown",
      "source": [
        "### 4.4.3 Evaluate Model\n",
        "\n",
        "[back to top](#top)"
      ],
      "metadata": {
        "id": "z7MXlVkuhmWv"
      }
    },
    {
      "cell_type": "code",
      "source": [
        "predictions = model.predict(test_set_tf).argmax(axis=1)\n",
        "labels = np.array([])\n",
        "for x, y in ds_test_:\n",
        "  labels = np.concatenate([labels, tf.squeeze(y.numpy()).numpy()])\n",
        "print(classification_report(labels,predictions))\n",
        "plt.figure(figsize=(10,6))\n",
        "sns.heatmap(confusion_matrix(labels,predictions), annot=True)"
      ],
      "metadata": {
        "colab": {
          "base_uri": "https://localhost:8080/",
          "height": 618
        },
        "id": "4vEm2eq3kIzR",
        "outputId": "fbf93c4c-c1d0-43aa-d34b-64d0fd101d42"
      },
      "execution_count": 35,
      "outputs": [
        {
          "output_type": "stream",
          "name": "stdout",
          "text": [
            "              precision    recall  f1-score   support\n",
            "\n",
            "         0.0       0.98      0.92      0.95       416\n",
            "         1.0       0.88      0.97      0.92       262\n",
            "\n",
            "    accuracy                           0.94       678\n",
            "   macro avg       0.93      0.94      0.93       678\n",
            "weighted avg       0.94      0.94      0.94       678\n",
            "\n"
          ]
        },
        {
          "output_type": "execute_result",
          "data": {
            "text/plain": [
              "<matplotlib.axes._subplots.AxesSubplot at 0x7ff380d62450>"
            ]
          },
          "metadata": {},
          "execution_count": 35
        },
        {
          "output_type": "display_data",
          "data": {
            "image/png": "[encoded data removed]",
            "text/plain": [
              "<Figure size 720x432 with 2 Axes>"
            ]
          },
          "metadata": {
            "needs_background": "light"
          }
        }
      ]
    },
    {
      "cell_type": "markdown",
      "source": [
        "### 🏋️ Exercise 4: Transfer Learn with other Base Models\n",
        "\n",
        "visit [keras](https://www.tensorflow.org/api_docs/python/tf/keras/applications) and read about 2-3 of the available models. Choose one and reimplement our transfer learning procedure from above!"
      ],
      "metadata": {
        "id": "2Ma3yiKq-SrZ"
      }
    },
    {
      "cell_type": "code",
      "source": [
        "# Code cell for exercise 4"
      ],
      "metadata": {
        "id": "e7-kx-ZZ-dJy"
      },
      "execution_count": 36,
      "outputs": []
    },
    {
      "cell_type": "markdown",
      "source": [
        "## 4.5 Summary\n",
        "\n",
        "If you ran this notebook as-is you should've gotten something similar to the following table\n",
        "\n",
        "| Data Handling | Model       | Data Augmentation | Weighted F1 | Training Time (min:sec) |\n",
        "|---------------|-------------|-------------------|-------------|-------------------------|\n",
        "| Keras         | CNN         | No                | 0.92        | 1:00                    |\n",
        "| Tensorflow    | CNN         | No                | 0.79        | 0:39                    |\n",
        "| Scikit-Image  | CNN         | No                | 1.00        | 0:47                    |\n",
        "| Tensorflow    | CNN         | Yes               | 0.95        | 2:04                    |\n",
        "| Tensorflow    | MobileNetV2 | No                | 0.94        | 3:41                    |\n",
        "\n",
        "In conclusion, we can see an appreciable difference in speed when we decide to transfer learn or augment the original dataset. Curiously, Loading our data with scikit-image gives us the best performance in our custom CNN model."
      ],
      "metadata": {
        "id": "2Qv4EFHpfxAu"
      }
    }
  ]
}