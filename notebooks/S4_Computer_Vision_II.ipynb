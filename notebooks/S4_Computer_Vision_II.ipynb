{
  "nbformat": 4,
  "nbformat_minor": 0,
  "metadata": {
    "colab": {
      "name": "S4_Computer_Vision_II.ipynb",
      "provenance": [],
      "collapsed_sections": [],
      "toc_visible": true,
      "include_colab_link": true
    },
    "kernelspec": {
      "name": "python3",
      "display_name": "Python 3"
    },
    "language_info": {
      "name": "python"
    },
    "accelerator": "GPU"
  },
  "cells": [
    {
      "cell_type": "markdown",
      "metadata": {
        "id": "view-in-github",
        "colab_type": "text"
      },
      "source": [
        "<a href=\"https://colab.research.google.com/github/wesleybeckner/general_applications_of_neural_networks/blob/main/notebooks/S4_Computer_Vision_II.ipynb\" target=\"_parent\"><img src=\"https://colab.research.google.com/assets/colab-badge.svg\" alt=\"Open In Colab\"/></a>"
      ]
    },
    {
      "cell_type": "markdown",
      "metadata": {
        "id": "vhe1yX4AMckE"
      },
      "source": [
        "# General Applications of Neural Networks <br> Session 4: Computer Vision Part 2 (Defect Detection Case Study)\n",
        "\n",
        "**Instructor**: Wesley Beckner\n",
        "\n",
        "**Contact**: wesleybeckner@gmail.com\n",
        "\n",
        "---\n",
        "\n",
        "<br>\n",
        "\n",
        "In this session we will continue with our exploration of CNNs. In the previous session we discussed three flagship layers for the CNN: convolution ReLU and maximum pooling. Here we'll discuss the sliding window, how to build your custom CNN, and data augmentation for images.\n",
        "\n",
        "\n",
        "_images in this notebook borrowed from [Ryan Holbrook](https://mathformachines.com/)_\n",
        "\n",
        "For more information on the dataset we are using today watch this [video](https://www.youtube.com/watch?v=4sDfwS48p0A)\n",
        "\n",
        "<br>\n",
        "\n",
        "---\n",
        "\n",
        "<br>\n",
        "\n",
        "<a name='top'></a>"
      ]
    },
    {
      "cell_type": "markdown",
      "metadata": {
        "id": "mNtJitcRW51Y"
      },
      "source": [
        "<a name='x.0'></a>\n",
        "\n",
        "## 4.0 Preparing Environment and Importing Data\n",
        "\n",
        "[back to top](#top)"
      ]
    },
    {
      "cell_type": "markdown",
      "metadata": {
        "id": "Mv2n4nFG5T9P"
      },
      "source": [
        "<a name='x.0.1'></a>\n",
        "\n",
        "### 4.0.1 Enabling and testing the GPU\n",
        "\n",
        "[back to top](#top)\n",
        "\n",
        "First, you'll need to enable GPUs for the notebook:\n",
        "\n",
        "- Navigate to Edit→Notebook Settings\n",
        "- select GPU from the Hardware Accelerator drop-down\n",
        "\n",
        "Next, we'll confirm that we can connect to the GPU with tensorflow:"
      ]
    },
    {
      "cell_type": "code",
      "metadata": {
        "colab": {
          "base_uri": "https://localhost:8080/"
        },
        "id": "XkmOVrmo5HRN",
        "outputId": "17744eb4-0cad-4edd-e7a0-56f819dee216"
      },
      "source": [
        "%tensorflow_version 2.x\n",
        "import tensorflow as tf\n",
        "device_name = tf.test.gpu_device_name()\n",
        "if device_name != '/device:GPU:0':\n",
        "  raise SystemError('GPU device not found')\n",
        "print('Found GPU at: {}'.format(device_name))"
      ],
      "execution_count": 155,
      "outputs": [
        {
          "output_type": "stream",
          "name": "stdout",
          "text": [
            "Found GPU at: /device:GPU:0\n"
          ]
        }
      ]
    },
    {
      "cell_type": "markdown",
      "metadata": {
        "id": "BcFxj2krIp3g"
      },
      "source": [
        "<a name='x.0.2'></a>\n",
        "\n",
        "### 4.0.2 Observe TensorFlow speedup on GPU relative to CPU\n",
        "\n",
        "[back to top](#top)\n",
        "\n",
        "This example constructs a typical convolutional neural network layer over a\n",
        "random image and manually places the resulting ops on either the CPU or the GPU\n",
        "to compare execution speed."
      ]
    },
    {
      "cell_type": "code",
      "source": [
        "%tensorflow_version 2.x\n",
        "import tensorflow as tf\n",
        "import timeit\n",
        "\n",
        "device_name = tf.test.gpu_device_name()\n",
        "if device_name != '/device:GPU:0':\n",
        "  print(\n",
        "      '\\n\\nThis error most likely means that this notebook is not '\n",
        "      'configured to use a GPU.  Change this in Notebook Settings via the '\n",
        "      'command palette (cmd/ctrl-shift-P) or the Edit menu.\\n\\n')\n",
        "  raise SystemError('GPU device not found')\n",
        "\n",
        "def cpu():\n",
        "  with tf.device('/cpu:0'):\n",
        "    random_image_cpu = tf.random.normal((100, 100, 100, 3))\n",
        "    net_cpu = tf.keras.layers.Conv2D(32, 7)(random_image_cpu)\n",
        "    return tf.math.reduce_sum(net_cpu)\n",
        "\n",
        "def gpu():\n",
        "  with tf.device('/device:GPU:0'):\n",
        "    random_image_gpu = tf.random.normal((100, 100, 100, 3))\n",
        "    net_gpu = tf.keras.layers.Conv2D(32, 7)(random_image_gpu)\n",
        "    return tf.math.reduce_sum(net_gpu)\n",
        "  \n",
        "# We run each op once to warm up; see: https://stackoverflow.com/a/45067900\n",
        "cpu()\n",
        "gpu()\n",
        "\n",
        "# Run the op several times.\n",
        "print('Time (s) to convolve 32x7x7x3 filter over random 100x100x100x3 images '\n",
        "      '(batch x height x width x channel). Sum of ten runs.')\n",
        "print('CPU (s):')\n",
        "cpu_time = timeit.timeit('cpu()', number=10, setup=\"from __main__ import cpu\")\n",
        "print(cpu_time)\n",
        "print('GPU (s):')\n",
        "gpu_time = timeit.timeit('gpu()', number=10, setup=\"from __main__ import gpu\")\n",
        "print(gpu_time)\n",
        "print('GPU speedup over CPU: {}x'.format(int(cpu_time/gpu_time)))"
      ],
      "metadata": {
        "colab": {
          "base_uri": "https://localhost:8080/"
        },
        "id": "0oUEiO4hoPds",
        "outputId": "f9df7c15-e6e7-4234-8ff8-0b1bc41e4e5a"
      },
      "execution_count": 156,
      "outputs": [
        {
          "output_type": "stream",
          "name": "stdout",
          "text": [
            "Time (s) to convolve 32x7x7x3 filter over random 100x100x100x3 images (batch x height x width x channel). Sum of ten runs.\n",
            "CPU (s):\n",
            "3.005574539999543\n",
            "GPU (s):\n",
            "0.03898585099977936\n",
            "GPU speedup over CPU: 77x\n"
          ]
        }
      ]
    },
    {
      "cell_type": "markdown",
      "metadata": {
        "id": "chdcBoBL8SNm"
      },
      "source": [
        "<a name='x.0.3'></a>\n",
        "\n",
        "### 4.0.3 Import Packages\n",
        "\n",
        "[back to top](#top)"
      ]
    },
    {
      "cell_type": "code",
      "source": [
        "# clear memory from cpu/gpu task (skimage load method is ram intensive)\n",
        "import gc\n",
        "gc.collect()"
      ],
      "metadata": {
        "colab": {
          "base_uri": "https://localhost:8080/"
        },
        "id": "RpDLvkC-LscQ",
        "outputId": "ece3be2a-0e15-41b0-c7f0-67abe4c28374"
      },
      "execution_count": 157,
      "outputs": [
        {
          "output_type": "execute_result",
          "data": {
            "text/plain": [
              "1984"
            ]
          },
          "metadata": {},
          "execution_count": 157
        }
      ]
    },
    {
      "cell_type": "code",
      "metadata": {
        "id": "AvkPKLbOmtox",
        "colab": {
          "base_uri": "https://localhost:8080/"
        },
        "outputId": "a0254dbb-5258-4018-8603-e0def95387fa"
      },
      "source": [
        "import os\n",
        "import pandas as pd\n",
        "import numpy as np\n",
        "import seaborn as sns\n",
        "import matplotlib.pyplot as plt\n",
        "from skimage import io, feature, filters, exposure, color\n",
        "from skimage.transform import rescale, resize\n",
        "from sklearn.metrics import classification_report,confusion_matrix\n",
        "\n",
        "#importing required tf libraries\n",
        "import tensorflow as tf\n",
        "from tensorflow.keras import layers\n",
        "from tensorflow.keras.layers import Activation, Dropout, Flatten, Dense, Conv2D, MaxPooling2D, InputLayer\n",
        "from tensorflow.data.experimental import AUTOTUNE\n",
        "from tensorflow.keras.layers.experimental import preprocessing\n",
        "from tensorflow.keras.preprocessing import image_dataset_from_directory\n",
        "from tensorflow.keras.preprocessing.image import ImageDataGenerator, load_img, img_to_array\n",
        "from tensorflow.keras.models import Sequential\n",
        "from tensorflow.keras.callbacks import EarlyStopping\n",
        "\n",
        "# Sync your google drive folder\n",
        "from google.colab import drive\n",
        "drive.mount(\"/content/drive\")"
      ],
      "execution_count": 158,
      "outputs": [
        {
          "output_type": "stream",
          "name": "stdout",
          "text": [
            "Drive already mounted at /content/drive; to attempt to forcibly remount, call drive.mount(\"/content/drive\", force_remount=True).\n"
          ]
        }
      ]
    },
    {
      "cell_type": "markdown",
      "metadata": {
        "id": "R7vDY-8U8SWd"
      },
      "source": [
        "<a name='x.0.4'></a>\n",
        "\n",
        "### 4.0.4 Load Dataset\n",
        "\n",
        "[back to top](#top)\n",
        "\n",
        "We will actually take a beat here today. When we started building our ML frameworks, we simply wanted our data in a numpy array to feed it into our pipeline. At some point, especially when working with images, the data becomes too large to fit into memory. For this reason we need an alternative way to import our data. With the merger of keras/tf two popular frameworks became available, `ImageDataGenerator` and `image_dataset_from_directory` both under `tf.keras.preprocessing.image`. `image_dataset_from_directory` can sometimes be faster (tf origin) but `ImageDataGenerator` is a lot simpler to use and has on-the-fly data augmentation capability (keras).\n",
        "\n",
        "For a full comparison of methods visit [this link](https://towardsdatascience.com/what-is-the-best-input-pipeline-to-train-image-classification-models-with-tf-keras-eb3fe26d3cc5)"
      ]
    },
    {
      "cell_type": "markdown",
      "source": [
        "#### 4.0.4.0 Define Global Parameters\n",
        "\n",
        "[back to top](#top)"
      ],
      "metadata": {
        "id": "0m44ClC1X1YY"
      }
    },
    {
      "cell_type": "code",
      "source": [
        "# full dataset can be attained from kaggle if you are interested\n",
        "# https://www.kaggle.com/ravirajsinh45/real-life-industrial-dataset-of-casting-product?select=casting_data\n",
        "\n",
        "# set global parameters for all import dataset methods\n",
        "image_shape = (300,300,3) # the images actually are 300,300,3\n",
        "batch_size = 32\n",
        "validation_split = 0.1\n",
        "seed_value = 42\n",
        "\n",
        "folder = '/content/drive/MyDrive/courses/tech_fundamentals/TECH_FUNDAMENTALS/data/casting_data_class_practice'\n",
        "train_path = folder + '/train/'\n",
        "test_path = folder + '/test/'\n",
        "\n",
        "from numpy.random import seed\n",
        "seed(seed_value)\n",
        "tf.random.set_seed(seed_value)"
      ],
      "metadata": {
        "id": "TxIdmsAgSUWc"
      },
      "execution_count": 159,
      "outputs": []
    },
    {
      "cell_type": "markdown",
      "source": [
        "#### 4.0.4.1 Loading data with from_tensor_slices\n",
        "\n",
        "[back to top](#top)"
      ],
      "metadata": {
        "id": "7n1TkYeCCB5r"
      }
    },
    {
      "cell_type": "code",
      "source": [
        "class MyImageLoader: \n",
        "    def __init__(self):\n",
        "        self.classifer = None\n",
        "        self.folder = folder\n",
        "\n",
        "    def imread_convert(self, f):\n",
        "        return io.imread(f).astype(np.uint8)\n",
        "\n",
        "    def load_data_from_folder(self, dir):\n",
        "        # type(dir) for plane/ticket/truck/etc dataset\n",
        "        # else for impellar dataset\n",
        "        filetype = set([i.split('.')[-1] for i in [x[2] for x in os.walk(folder + dir)][1:][0]])\n",
        "        if len(filetype) != 1:\n",
        "          raise Exception('Multiple filetypes in directory, will cause error')\n",
        "        suffix = filetype.pop()\n",
        "\n",
        "        dirs = [x[0] + f'/*.{suffix}' for x in os.walk(self.folder + dir) if x[0].split('/')[-1] != '']\n",
        "        dirs = ':'.join(dirs)\n",
        "        ic = io.ImageCollection(dirs, load_func=self.imread_convert)\n",
        "\n",
        "        # infer labels from directory structure\n",
        "        label_names = [x[1] for x in os.walk(folder + dir)][0]\n",
        "        img_amounts = [len(y) for y in [x[2] for x in os.walk(folder + dir)][1:]]\n",
        "        labels = [item for sublist in [[i]*j for i,j in zip(label_names, img_amounts)] for item in sublist]\n",
        "        labels = np.array(labels)\n",
        "\n",
        "        #create one large array of image data\n",
        "        data = io.concatenate_images(ic)\n",
        "\n",
        "        #resize to target shape (memory intensive)\n",
        "        # data = resize(data, (data.shape[0], *image_shape[:2])) #uncomment if you need to resize images\n",
        "        return(data,labels)\n",
        "\n",
        "# Create an object of the class `MyImageLoader`\n",
        "img_clf = MyImageLoader()\n",
        "\n",
        "# load images\n",
        "(train_val_raw, train_val_labels) = img_clf.load_data_from_folder('/train/')\n",
        "(test_raw, test_labels) = img_clf.load_data_from_folder('/test/')\n",
        "train_val_raw = train_val_raw.astype(np.float32)\n",
        "test_raw = test_raw.astype(np.float32)\n",
        "classes = list(np.unique(train_val_labels))\n",
        "print(f\"Classes: {classes}\")\n",
        "print(\"train and validation labels: {}\".format(len(train_val_labels)))\n",
        "print(\"test labels: {}\".format(len(test_labels)))\n",
        "\n",
        "# convert labels to numeric\n",
        "for i in range(len(classes)):\n",
        "    train_val_labels[train_val_labels == classes[i]] = i\n",
        "    test_labels[test_labels == classes[i]] = i\n",
        "\n",
        "train_val_labels = train_val_labels.astype(float)\n",
        "test_labels = test_labels.astype(float)\n",
        "\n",
        "# create train/val/test and shuffle\n",
        "train_val_dataset = tf.data.Dataset.from_tensor_slices((train_val_raw, train_val_labels)) \n",
        "test_dataset = tf.data.Dataset.from_tensor_slices((test_raw, test_labels)) \n",
        "\n",
        "train_val_dataset = train_val_dataset.shuffle(buffer_size=len(train_val_dataset), seed=seed_value)\n",
        "test_dataset = test_dataset.shuffle(buffer_size=len(test_dataset), seed=seed_value)     \n",
        "\n",
        "\n",
        "# use validation_split\n",
        "val_len = int(validation_split * len(train_val_raw))\n",
        "val_dataset = train_val_dataset.take(val_len)\n",
        "train_dataset = train_val_dataset.skip(val_len)\n",
        "print(f\"Train size: {len(train_dataset)}\\nVal size: {len(val_dataset)}\\nTest size: {len(test_dataset)}\")\n",
        "\n",
        "# batch the data\n",
        "train_dataset_batched = train_dataset.batch(batch_size)\n",
        "val_dataset_batched = val_dataset.batch(batch_size)\n",
        "test_dataset_batched = test_dataset.batch(batch_size)\n",
        "\n",
        "print(f\"Train batches: {len(train_dataset_batched)}\\nVal batches: {len(val_dataset_batched)}\\nTest batches: {len(test_dataset_batched)}\")"
      ],
      "metadata": {
        "id": "cjt_SpvFCHMZ",
        "colab": {
          "base_uri": "https://localhost:8080/"
        },
        "outputId": "8f9e3c37-65d8-4cbf-c24c-81c91a1b9d0f"
      },
      "execution_count": 160,
      "outputs": [
        {
          "output_type": "stream",
          "name": "stdout",
          "text": [
            "Classes: ['def_front', 'ok_front']\n",
            "train and validation labels: 840\n",
            "test labels: 678\n",
            "Train size: 756\n",
            "Val size: 84\n",
            "Test size: 678\n",
            "Train batches: 24\n",
            "Val batches: 3\n",
            "Test batches: 22\n"
          ]
        }
      ]
    },
    {
      "cell_type": "markdown",
      "metadata": {
        "id": "VwXKg0PAF107"
      },
      "source": [
        "<a name='x.0.4.1'></a>\n",
        "\n",
        "#### 4.0.4.2 Loading Data with `ImageDataGenerator`\n",
        "\n",
        "[back to top](#top)"
      ]
    },
    {
      "cell_type": "code",
      "metadata": {
        "colab": {
          "base_uri": "https://localhost:8080/"
        },
        "id": "gPpg_K-4y85X",
        "outputId": "e71dd6b2-6edb-4531-ba01-33e690f2ede3"
      },
      "source": [
        "image_gen = ImageDataGenerator(rescale=1/255,\n",
        "                               validation_split=validation_split) # normalize pixels to 0-1\n",
        "\n",
        "#we're using keras inbuilt function to ImageDataGenerator so we \n",
        "# dont need to label all images into 0 and 1 \n",
        "print(\"loading training set...\")\n",
        "train_set_keras = image_gen.flow_from_directory(train_path,\n",
        "                                          target_size=image_shape[:2],\n",
        "                                          color_mode=\"rgb\",\n",
        "                                          batch_size=batch_size,\n",
        "                                          class_mode=\"sparse\",\n",
        "                                          subset=\"training\",\n",
        "                                          shuffle=True,\n",
        "                                          seed=seed_value)\n",
        "print(\"loading validation set...\")\n",
        "val_set_keras = image_gen.flow_from_directory(train_path,\n",
        "                                          target_size=image_shape[:2],\n",
        "                                          color_mode=\"rgb\",\n",
        "                                          batch_size=batch_size,\n",
        "                                          class_mode=\"sparse\",\n",
        "                                          subset=\"validation\",\n",
        "                                          shuffle=True,\n",
        "                                          seed=seed_value)\n",
        "print(\"loading testing set...\")\n",
        "test_set_keras = image_gen.flow_from_directory(test_path,\n",
        "                                          target_size=image_shape[:2],\n",
        "                                          color_mode=\"rgb\",\n",
        "                                          batch_size=batch_size,\n",
        "                                          class_mode=\"sparse\",\n",
        "                                          shuffle=False)"
      ],
      "execution_count": 161,
      "outputs": [
        {
          "output_type": "stream",
          "name": "stdout",
          "text": [
            "loading training set...\n",
            "Found 757 images belonging to 2 classes.\n",
            "loading validation set...\n",
            "Found 83 images belonging to 2 classes.\n",
            "loading testing set...\n",
            "Found 678 images belonging to 2 classes.\n"
          ]
        }
      ]
    },
    {
      "cell_type": "markdown",
      "metadata": {
        "id": "UCV0n9QrF8o1"
      },
      "source": [
        "<a name='x.0.4.2'></a>\n",
        "\n",
        "#### 4.0.4.3 loading data with `image_dataset_from_directory`\n",
        "\n",
        "[back to top](#top)\n",
        "\n",
        "This method should be approx 2x faster than `ImageDataGenerator`"
      ]
    },
    {
      "cell_type": "code",
      "metadata": {
        "colab": {
          "base_uri": "https://localhost:8080/"
        },
        "id": "_y5-Zr0hfLHx",
        "outputId": "59ee0799-4d3d-4d28-da28-bd6fc6e8245e"
      },
      "source": [
        "# Load training and validation sets\n",
        "print(\"loading training set...\")\n",
        "ds_train_ = image_dataset_from_directory(\n",
        "    train_path,\n",
        "    labels=\"inferred\",\n",
        "    label_mode=\"int\",\n",
        "    color_mode=\"rgb\",\n",
        "    image_size=image_shape[:2],\n",
        "    batch_size=batch_size,\n",
        "    validation_split=validation_split,\n",
        "    subset=\"training\",\n",
        "    shuffle=True,\n",
        "    seed=seed_value,\n",
        ")\n",
        "print(\"loading validation set...\")\n",
        "ds_val_ = image_dataset_from_directory(\n",
        "    train_path,\n",
        "    labels=\"inferred\",\n",
        "    label_mode=\"int\",\n",
        "    color_mode=\"rgb\",\n",
        "    image_size=image_shape[:2],\n",
        "    batch_size=batch_size,\n",
        "    validation_split=validation_split,\n",
        "    subset=\"validation\",\n",
        "    shuffle=True,\n",
        "    seed=seed_value,\n",
        ")\n",
        "print(\"loading testing set...\")\n",
        "ds_test_ = image_dataset_from_directory(\n",
        "    test_path,\n",
        "    labels=\"inferred\",\n",
        "    label_mode=\"int\",\n",
        "    color_mode=\"rgb\",\n",
        "    image_size=image_shape[:2],\n",
        "    batch_size=batch_size,\n",
        "    shuffle=False,\n",
        ")\n",
        "\n",
        "train_set_tf = ds_train_.prefetch(buffer_size=AUTOTUNE)\n",
        "val_set_tf = ds_val_.prefetch(buffer_size=AUTOTUNE)\n",
        "test_set_tf = ds_test_.prefetch(buffer_size=AUTOTUNE)"
      ],
      "execution_count": 162,
      "outputs": [
        {
          "output_type": "stream",
          "name": "stdout",
          "text": [
            "loading training set...\n",
            "Found 840 files belonging to 2 classes.\n",
            "Using 756 files for training.\n",
            "loading validation set...\n",
            "Found 840 files belonging to 2 classes.\n",
            "Using 84 files for validation.\n",
            "loading testing set...\n",
            "Found 678 files belonging to 2 classes.\n"
          ]
        }
      ]
    },
    {
      "cell_type": "markdown",
      "source": [
        "#### 4.0.4.4 View Images\n",
        "\n",
        "[back to top](#top)"
      ],
      "metadata": {
        "id": "rzi9ROWyUPBJ"
      }
    },
    {
      "cell_type": "code",
      "metadata": {
        "id": "_I7kDyYwzeBC",
        "colab": {
          "base_uri": "https://localhost:8080/",
          "height": 357
        },
        "outputId": "17fba666-eff2-4069-ba42-0e89509061e8"
      },
      "source": [
        "# view some images\n",
        "def_path = '/def_front/cast_def_0_1001.jpeg'\n",
        "ok_path = '/ok_front/cast_ok_0_1.jpeg'\n",
        "image_path = train_path + ok_path\n",
        "image = tf.io.read_file(image_path)\n",
        "image = tf.io.decode_jpeg(image)\n",
        "image = resize(image, (256, 256),\n",
        "                anti_aliasing=True)\n",
        "\n",
        "plt.figure(figsize=(6, 6))\n",
        "plt.imshow(tf.squeeze(image), cmap='gray')\n",
        "plt.axis('off')\n",
        "plt.show();"
      ],
      "execution_count": 163,
      "outputs": [
        {
          "output_type": "display_data",
          "data": {
            "image/png": "[encoded data removed]",
            "text/plain": [
              "<Figure size 432x432 with 1 Axes>"
            ]
          },
          "metadata": {
            "needs_background": "light"
          }
        }
      ]
    },
    {
      "cell_type": "markdown",
      "metadata": {
        "id": "yYnHuIONgksu"
      },
      "source": [
        "<a name='x.1'></a>\n",
        "\n",
        "## 4.1 Understanding the Sliding Window\n",
        "\n",
        "[back to top](#top)\n",
        "\n",
        "The kernels we just reviewed, need to be swept or _slid_ along the preceding layer. We call this a **_sliding window_**, the window being the kernel. \n",
        "\n",
        "<p align=center>\n",
        "<img src=\"https://raw.githubusercontent.com/wesleybeckner/general_applications_of_neural_networks/main/assets/LueNK6b.gif\" width=400></img>\n",
        "</p>\n",
        "\n",
        "What do you notice about the gif? One perhaps obvious observation is that you can't scoot all the way up to the border of the input layer, this is because the kernel defines operations _around_ the centered pixel and so you bang up against the margin of the input array. We can change the behavior at the boundary with a **_padding_** hyperparameter. A second observation, is that the distance we move the kernel along in each step could be variable, we call this the **_stride_**. We will explore the affects of each of these.\n",
        "\n"
      ]
    },
    {
      "cell_type": "code",
      "metadata": {
        "id": "eYolTMVMlnsQ"
      },
      "source": [
        "from tensorflow import keras\n",
        "from tensorflow.keras import layers\n",
        "\n",
        "model = keras.Sequential([\n",
        "    layers.Conv2D(filters=64,\n",
        "                  kernel_size=3,\n",
        "                  strides=1,\n",
        "                  padding='same',\n",
        "                  activation='relu'),\n",
        "    layers.MaxPool2D(pool_size=2,\n",
        "                     strides=1,\n",
        "                     padding='same')\n",
        "    # More layers follow\n",
        "])"
      ],
      "execution_count": 164,
      "outputs": []
    },
    {
      "cell_type": "markdown",
      "metadata": {
        "id": "AKKfIv-lhDd5"
      },
      "source": [
        "<a name='x.1.1'></a>\n",
        "\n",
        "### 4.1.1 Stride\n",
        "\n",
        "[back to top](#top)\n",
        "\n",
        "Stride defines the the step size we take with each kernel as it passes along the input array. The stride needs to be defined in both the horizontal and vertical dimensions. This animation shows a 2x2 stride\n",
        "\n",
        "\n",
        "<p align=center>\n",
        "<img src=\"https://raw.githubusercontent.com/wesleybeckner/general_applications_of_neural_networks/main/assets/Tlptsvt.gif\" width=400></img>\n",
        "</p>\n",
        "\n",
        "The stride will often be 1 for CNNs, where we don't want to lose any important information. Maximum pooling layers will often have strides greater than 1, to better summarize/accentuate the relevant features/activations.\n",
        "\n",
        "If the stride is the same in both the horizontal and vertical directions, it can be set with a single number like `strides=2` within keras.\n",
        "\n"
      ]
    },
    {
      "cell_type": "markdown",
      "metadata": {
        "id": "7alp2F6yhHuF"
      },
      "source": [
        "### 4.1.2 Padding\n",
        "\n",
        "[back to top](#top)\n",
        "\n",
        "Padding attempts to resolve our issue at the border: our kernel requires information surrounding the centered pixel, and at the border of the input array we don't have that information. What to do?\n",
        "\n",
        "We have a couple popular options within the keras framework. We can set `padding='valid'` and only slide the kernel to the edge of the input array. This has the drawback of feature maps shrinking in size as we pass through the NN. Another option is to set `padding='same'` what this will do is pad the input array with 0's, just enough of them to allow the feature map to be the same size as the input array. This is shown in the gif below:\n",
        "\n",
        "\n",
        "<p align=center>\n",
        "<img src=\"https://raw.githubusercontent.com/wesleybeckner/general_applications_of_neural_networks/main/assets/RvGM2xb.gif\" width=400></img>\n",
        "</p>\n",
        "\n",
        "The downside of setting the padding to same will be that features at the edges of the image will be diluted. "
      ]
    },
    {
      "cell_type": "markdown",
      "metadata": {
        "id": "NrdxWYLShOHt"
      },
      "source": [
        "<a name='x.1.3'></a>\n",
        "\n",
        "### 🏋️ Exercise 1: Exploring Sliding Windows\n",
        "\n",
        "[back to top](#top)"
      ]
    },
    {
      "cell_type": "code",
      "metadata": {
        "id": "XvS9ayAtrKop"
      },
      "source": [
        "from skimage import draw, transform\n",
        "from itertools import product\n",
        "# helper functions borrowed from Ryan Holbrook\n",
        "# https://mathformachines.com/\n",
        "\n",
        "def circle(size, val=None, r_shrink=0):\n",
        "    circle = np.zeros([size[0]+1, size[1]+1])\n",
        "    rr, cc = draw.circle_perimeter(\n",
        "        size[0]//2, size[1]//2,\n",
        "        radius=size[0]//2 - r_shrink,\n",
        "        shape=[size[0]+1, size[1]+1],\n",
        "    )\n",
        "    if val is None:\n",
        "        circle[rr, cc] = np.random.uniform(size=circle.shape)[rr, cc]\n",
        "    else:\n",
        "        circle[rr, cc] = val\n",
        "    circle = transform.resize(circle, size, order=0)\n",
        "    return circle\n",
        "\n",
        "def show_kernel(kernel, label=True, digits=None, text_size=28):\n",
        "    # Format kernel\n",
        "    kernel = np.array(kernel)\n",
        "    if digits is not None:\n",
        "        kernel = kernel.round(digits)\n",
        "\n",
        "    # Plot kernel\n",
        "    cmap = plt.get_cmap('Blues_r')\n",
        "    plt.imshow(kernel, cmap=cmap)\n",
        "    rows, cols = kernel.shape\n",
        "    thresh = (kernel.max()+kernel.min())/2\n",
        "    # Optionally, add value labels\n",
        "    if label:\n",
        "        for i, j in product(range(rows), range(cols)):\n",
        "            val = kernel[i, j]\n",
        "            color = cmap(0) if val > thresh else cmap(255)\n",
        "            plt.text(j, i, val, \n",
        "                     color=color, size=text_size,\n",
        "                     horizontalalignment='center', verticalalignment='center')\n",
        "    plt.xticks([])\n",
        "    plt.yticks([])\n",
        "\n",
        "def show_extraction(image,\n",
        "                    kernel,\n",
        "                    conv_stride=1,\n",
        "                    conv_padding='valid',\n",
        "                    activation='relu',\n",
        "                    pool_size=2,\n",
        "                    pool_stride=2,\n",
        "                    pool_padding='same',\n",
        "                    figsize=(10, 10),\n",
        "                    subplot_shape=(2, 2),\n",
        "                    ops=['Input', 'Filter', 'Detect', 'Condense'],\n",
        "                    gamma=1.0):\n",
        "    # Create Layers\n",
        "    model = tf.keras.Sequential([\n",
        "                    tf.keras.layers.Conv2D(\n",
        "                        filters=1,\n",
        "                        kernel_size=kernel.shape,\n",
        "                        strides=conv_stride,\n",
        "                        padding=conv_padding,\n",
        "                        use_bias=False,\n",
        "                        input_shape=image.shape,\n",
        "                    ),\n",
        "                    tf.keras.layers.Activation(activation),\n",
        "                    tf.keras.layers.MaxPool2D(\n",
        "                        pool_size=pool_size,\n",
        "                        strides=pool_stride,\n",
        "                        padding=pool_padding,\n",
        "                    ),\n",
        "                   ])\n",
        "\n",
        "    layer_filter, layer_detect, layer_condense = model.layers\n",
        "    kernel = tf.reshape(kernel, [*kernel.shape, 1, 1])\n",
        "    layer_filter.set_weights([kernel])\n",
        "\n",
        "    # Format for TF\n",
        "    image = tf.expand_dims(image, axis=0)\n",
        "    image = tf.image.convert_image_dtype(image, dtype=tf.float32) \n",
        "    \n",
        "    # Extract Feature\n",
        "    image_filter = layer_filter(image)\n",
        "    image_detect = layer_detect(image_filter)\n",
        "    image_condense = layer_condense(image_detect)\n",
        "    \n",
        "    images = {}\n",
        "    if 'Input' in ops:\n",
        "        images.update({'Input': (image, 1.0)})\n",
        "    if 'Filter' in ops:\n",
        "        images.update({'Filter': (image_filter, 1.0)})\n",
        "    if 'Detect' in ops:\n",
        "        images.update({'Detect': (image_detect, gamma)})\n",
        "    if 'Condense' in ops:\n",
        "        images.update({'Condense': (image_condense, gamma)})\n",
        "    \n",
        "    # Plot\n",
        "    plt.figure(figsize=figsize)\n",
        "    for i, title in enumerate(ops):\n",
        "        image, gamma = images[title]\n",
        "        plt.subplot(*subplot_shape, i+1)\n",
        "        plt.imshow(tf.image.adjust_gamma(tf.squeeze(image), gamma))\n",
        "        plt.axis('off')\n",
        "        plt.title(title)"
      ],
      "execution_count": 165,
      "outputs": []
    },
    {
      "cell_type": "markdown",
      "metadata": {
        "id": "35AqZwjhr8Fc"
      },
      "source": [
        "Create an image and kernel:"
      ]
    },
    {
      "cell_type": "code",
      "metadata": {
        "colab": {
          "base_uri": "https://localhost:8080/",
          "height": 297
        },
        "id": "fu9k-3_h2la8",
        "outputId": "9bbd8b7b-5d76-426e-976d-11a082b3bd2a"
      },
      "source": [
        "import tensorflow as tf\n",
        "import matplotlib.pyplot as plt\n",
        "\n",
        "plt.rc('figure', autolayout=True)\n",
        "plt.rc('axes', labelweight='bold', labelsize='large',\n",
        "       titleweight='bold', titlesize=18, titlepad=10)\n",
        "plt.rc('image', cmap='magma')\n",
        "\n",
        "image = circle([64, 64], val=1.0, r_shrink=3)\n",
        "image = tf.reshape(image, [*image.shape, 1])\n",
        "# Bottom sobel\n",
        "kernel = tf.constant(\n",
        "    [[-1, -2, -1],\n",
        "     [0, 0, 0],\n",
        "     [1, 2, 1]],\n",
        ")\n",
        "\n",
        "show_kernel(kernel)"
      ],
      "execution_count": 166,
      "outputs": [
        {
          "output_type": "display_data",
          "data": {
            "image/png": "[encoded data removed]",
            "text/plain": [
              "<Figure size 432x288 with 1 Axes>"
            ]
          },
          "metadata": {}
        }
      ]
    },
    {
      "cell_type": "markdown",
      "metadata": {
        "id": "cja4Tp71sKjI"
      },
      "source": [
        "What do we think this kernel is meant to detect for?\n",
        "\n",
        "We will apply our kernel with a 1x1 stride and our max pooling with a 2x2 stride and pool size of 2."
      ]
    },
    {
      "cell_type": "code",
      "metadata": {
        "colab": {
          "base_uri": "https://localhost:8080/",
          "height": 293
        },
        "id": "kKrNWeYSsV2W",
        "outputId": "dc0937ea-9307-44ed-dcdf-45896ec97ef7"
      },
      "source": [
        "show_extraction(\n",
        "    image, kernel,\n",
        "\n",
        "    # Window parameters\n",
        "    conv_stride=1,\n",
        "    pool_size=2,\n",
        "    pool_stride=2,\n",
        "\n",
        "    subplot_shape=(1, 4),\n",
        "    figsize=(14, 6),\n",
        ")"
      ],
      "execution_count": 167,
      "outputs": [
        {
          "output_type": "display_data",
          "data": {
            "image/png": "[encoded data removed]",
            "text/plain": [
              "<Figure size 1008x432 with 4 Axes>"
            ]
          },
          "metadata": {
            "needs_background": "light"
          }
        }
      ]
    },
    {
      "cell_type": "markdown",
      "metadata": {
        "id": "zlEbO_Sh0N9c"
      },
      "source": [
        "Works ok! what about a higher conv stride?"
      ]
    },
    {
      "cell_type": "code",
      "metadata": {
        "colab": {
          "base_uri": "https://localhost:8080/",
          "height": 293
        },
        "id": "UUenv0SR0LSn",
        "outputId": "da43ceec-52fa-4240-c8ce-cb2659744573"
      },
      "source": [
        "show_extraction(\n",
        "    image, kernel,\n",
        "\n",
        "    # Window parameters\n",
        "    conv_stride=3,\n",
        "    pool_size=2,\n",
        "    pool_stride=2,\n",
        "\n",
        "    subplot_shape=(1, 4),\n",
        "    figsize=(14, 6),\n",
        ")"
      ],
      "execution_count": 168,
      "outputs": [
        {
          "output_type": "display_data",
          "data": {
            "image/png": "[encoded data removed]",
            "text/plain": [
              "<Figure size 1008x432 with 4 Axes>"
            ]
          },
          "metadata": {
            "needs_background": "light"
          }
        }
      ]
    },
    {
      "cell_type": "markdown",
      "metadata": {
        "id": "XzZ0iWn-0Xw2"
      },
      "source": [
        "Looks like we lost a bit of information!\n",
        "\n",
        "Sometimes published models will use a larger kernel and stride in the initial layer to produce large-scale features early on in the network without losing too much information (ResNet50 uses 7x7 kernels with a stride of 2). For now, without having much experience it's safe to set conv strides to 1.\n",
        "\n",
        "Take a moment here with the given kernel and explore different settings for applying both the kernel and the max_pool\n",
        "\n",
        "```\n",
        "conv_stride=YOUR_VALUE, # condenses pixels\n",
        "pool_size=YOUR_VALUE,\n",
        "pool_stride=YOUR_VALUE, # condenses pixels\n",
        "```\n",
        "\n",
        "Given a total condensation of 8 (I'm taking condensation to mean `conv_stride` x `pool_stride`). what do you think is the best combination of values for `conv_stride, pool_size, and pool_stride`?"
      ]
    },
    {
      "cell_type": "markdown",
      "metadata": {
        "id": "FKQh19GnM8Iq"
      },
      "source": [
        "<a name='x.2'></a>\n",
        "\n",
        "## 4.2 Building a Custom CNN\n",
        "\n",
        "[back to top](#top)\n",
        "\n",
        "As we move through the network, small-scale features (lines, edges, etc.) turn to large-scale features (shapes, eyes, ears, etc). We call these blocks of convolution, ReLU, and max pool **_convolutional blocks_** and they are the low level modular framework we work with. By this means, the CNN is able to design it's own features, ones suited for the classification or regression task at hand. \n",
        "\n",
        "We will design a custom CNN for the Casting Defect Detection Dataset."
      ]
    },
    {
      "cell_type": "markdown",
      "metadata": {
        "id": "ErPvdRfJFTs4"
      },
      "source": [
        "### 4.2.1 Define Architecture\n",
        "\n",
        "[back to top](#top)\n",
        "\n",
        "In the following I'm going to double the filter size after the first block. This is a common pattern as the max pooling layers forces us in the opposite direction."
      ]
    },
    {
      "cell_type": "code",
      "metadata": {
        "id": "FJqyUO21M7ZS"
      },
      "source": [
        "def build_model():\n",
        "  # Creating model\n",
        "  model = Sequential()\n",
        "\n",
        "  model.add(InputLayer(input_shape=(image_shape)))\n",
        "\n",
        "  model.add(Conv2D(filters=8, kernel_size=(3,3), activation='relu',))\n",
        "  model.add(MaxPooling2D(pool_size=(2, 2)))\n",
        "\n",
        "  model.add(Conv2D(filters=16, kernel_size=(3,3), activation='relu',))\n",
        "  model.add(MaxPooling2D(pool_size=(2, 2)))\n",
        "\n",
        "  model.add(Conv2D(filters=16, kernel_size=(3,3), activation='relu',))\n",
        "  model.add(MaxPooling2D(pool_size=(2, 2)))\n",
        "\n",
        "  model.add(Flatten())\n",
        "\n",
        "  model.add(Dense(224))\n",
        "  model.add(Activation('relu'))\n",
        "\n",
        "  # Last layer\n",
        "  model.add(Dense(2))\n",
        "\n",
        "  base_learning_rate = 0.001\n",
        "  model.compile(loss=tf.keras.losses.SparseCategoricalCrossentropy(from_logits=True),\n",
        "                optimizer=tf.keras.optimizers.Adam(learning_rate=base_learning_rate),\n",
        "                metrics=['accuracy'])\n",
        "\n",
        "  print(model.summary())\n",
        "  return model\n",
        "\n",
        "early_stop = EarlyStopping(monitor='val_loss',\n",
        "                            patience=5,\n",
        "                            restore_best_weights=True,)"
      ],
      "execution_count": 169,
      "outputs": []
    },
    {
      "cell_type": "markdown",
      "metadata": {
        "id": "4fSBo4FzlfNX"
      },
      "source": [
        "<a name='x.2.1'></a>\n",
        "\n",
        "### 4.2.1 Train and Evaluate Model\n",
        "\n",
        "[back to top](#top)\n",
        "\n",
        "To save/load weights and training history:\n",
        "```\n",
        "# model.save('inspection_of_casting_products.h5')\n",
        "# model.load_weights('inspection_of_casting_products.h5')\n",
        "# losses.to_csv('history_simple_model.csv', index=False)\n",
        "```"
      ]
    },
    {
      "cell_type": "markdown",
      "source": [
        "#### 4.2.1.1 from_tensor_slices\n",
        "\n",
        "[back to top](#top)"
      ],
      "metadata": {
        "id": "ivTRVLt5mqZ2"
      }
    },
    {
      "cell_type": "code",
      "source": [
        "%%time\n",
        "model = build_model()\n",
        "with tf.device('/device:GPU:0'):\n",
        "  results = model.fit(train_dataset_batched,\n",
        "                      epochs=30,\n",
        "                      validation_data=val_dataset_batched,\n",
        "                      callbacks=[early_stop]\n",
        "                      )"
      ],
      "metadata": {
        "colab": {
          "base_uri": "https://localhost:8080/"
        },
        "id": "gbelBvmApiVd",
        "outputId": "52e1fa1f-882a-4da0-d711-94516b4c579b"
      },
      "execution_count": 170,
      "outputs": [
        {
          "output_type": "stream",
          "name": "stdout",
          "text": [
            "Model: \"sequential_6\"\n",
            "_________________________________________________________________\n",
            " Layer (type)                Output Shape              Param #   \n",
            "=================================================================\n",
            " conv2d_76 (Conv2D)          (None, 298, 298, 8)       224       \n",
            "                                                                 \n",
            " max_pooling2d_10 (MaxPoolin  (None, 149, 149, 8)      0         \n",
            " g2D)                                                            \n",
            "                                                                 \n",
            " conv2d_77 (Conv2D)          (None, 147, 147, 16)      1168      \n",
            "                                                                 \n",
            " max_pooling2d_11 (MaxPoolin  (None, 73, 73, 16)       0         \n",
            " g2D)                                                            \n",
            "                                                                 \n",
            " conv2d_78 (Conv2D)          (None, 71, 71, 16)        2320      \n",
            "                                                                 \n",
            " max_pooling2d_12 (MaxPoolin  (None, 35, 35, 16)       0         \n",
            " g2D)                                                            \n",
            "                                                                 \n",
            " flatten_2 (Flatten)         (None, 19600)             0         \n",
            "                                                                 \n",
            " dense_4 (Dense)             (None, 224)               4390624   \n",
            "                                                                 \n",
            " activation_4 (Activation)   (None, 224)               0         \n",
            "                                                                 \n",
            " dense_5 (Dense)             (None, 2)                 450       \n",
            "                                                                 \n",
            "=================================================================\n",
            "Total params: 4,394,786\n",
            "Trainable params: 4,394,786\n",
            "Non-trainable params: 0\n",
            "_________________________________________________________________\n",
            "None\n",
            "Epoch 1/30\n",
            "24/24 [==============================] - 3s 115ms/step - loss: 132.9765 - accuracy: 0.5291 - val_loss: 0.6248 - val_accuracy: 0.6548\n",
            "Epoch 2/30\n",
            "24/24 [==============================] - 3s 109ms/step - loss: 0.6060 - accuracy: 0.6825 - val_loss: 0.3222 - val_accuracy: 0.8810\n",
            "Epoch 3/30\n",
            "24/24 [==============================] - 3s 108ms/step - loss: 0.4163 - accuracy: 0.8056 - val_loss: 0.3163 - val_accuracy: 0.8452\n",
            "Epoch 4/30\n",
            "24/24 [==============================] - 3s 110ms/step - loss: 0.2827 - accuracy: 0.8942 - val_loss: 0.2194 - val_accuracy: 0.8810\n",
            "Epoch 5/30\n",
            "24/24 [==============================] - 3s 115ms/step - loss: 0.2101 - accuracy: 0.9206 - val_loss: 0.1556 - val_accuracy: 0.9286\n",
            "Epoch 6/30\n",
            "24/24 [==============================] - 3s 109ms/step - loss: 0.1378 - accuracy: 0.9563 - val_loss: 0.0854 - val_accuracy: 0.9881\n",
            "Epoch 7/30\n",
            "24/24 [==============================] - 3s 112ms/step - loss: 0.0996 - accuracy: 0.9749 - val_loss: 0.0737 - val_accuracy: 0.9881\n",
            "Epoch 8/30\n",
            "24/24 [==============================] - 3s 113ms/step - loss: 0.0779 - accuracy: 0.9762 - val_loss: 0.0268 - val_accuracy: 1.0000\n",
            "Epoch 9/30\n",
            "24/24 [==============================] - 3s 111ms/step - loss: 0.0687 - accuracy: 0.9802 - val_loss: 0.0684 - val_accuracy: 0.9762\n",
            "Epoch 10/30\n",
            "24/24 [==============================] - 3s 110ms/step - loss: 0.0456 - accuracy: 0.9881 - val_loss: 0.0276 - val_accuracy: 0.9762\n",
            "Epoch 11/30\n",
            "24/24 [==============================] - 3s 112ms/step - loss: 0.0420 - accuracy: 0.9881 - val_loss: 0.0177 - val_accuracy: 1.0000\n",
            "Epoch 12/30\n",
            "24/24 [==============================] - 3s 110ms/step - loss: 0.0611 - accuracy: 0.9788 - val_loss: 0.0179 - val_accuracy: 1.0000\n",
            "Epoch 13/30\n",
            "24/24 [==============================] - 3s 110ms/step - loss: 0.0161 - accuracy: 0.9987 - val_loss: 0.0047 - val_accuracy: 1.0000\n",
            "Epoch 14/30\n",
            "24/24 [==============================] - 3s 110ms/step - loss: 0.0139 - accuracy: 0.9987 - val_loss: 0.0069 - val_accuracy: 1.0000\n",
            "Epoch 15/30\n",
            "24/24 [==============================] - 3s 109ms/step - loss: 0.0083 - accuracy: 0.9974 - val_loss: 0.0082 - val_accuracy: 1.0000\n",
            "Epoch 16/30\n",
            "24/24 [==============================] - 2s 105ms/step - loss: 0.0069 - accuracy: 1.0000 - val_loss: 0.0165 - val_accuracy: 0.9881\n",
            "Epoch 17/30\n",
            "24/24 [==============================] - 3s 109ms/step - loss: 0.0038 - accuracy: 1.0000 - val_loss: 0.0022 - val_accuracy: 1.0000\n",
            "Epoch 18/30\n",
            "24/24 [==============================] - 2s 106ms/step - loss: 0.0018 - accuracy: 1.0000 - val_loss: 0.0020 - val_accuracy: 1.0000\n",
            "Epoch 19/30\n",
            "24/24 [==============================] - 3s 107ms/step - loss: 0.0013 - accuracy: 1.0000 - val_loss: 0.0013 - val_accuracy: 1.0000\n",
            "Epoch 20/30\n",
            "24/24 [==============================] - 3s 109ms/step - loss: 0.0011 - accuracy: 1.0000 - val_loss: 9.6427e-04 - val_accuracy: 1.0000\n",
            "Epoch 21/30\n",
            "24/24 [==============================] - 3s 109ms/step - loss: 9.7981e-04 - accuracy: 1.0000 - val_loss: 5.6754e-04 - val_accuracy: 1.0000\n",
            "Epoch 22/30\n",
            "24/24 [==============================] - 3s 109ms/step - loss: 8.0048e-04 - accuracy: 1.0000 - val_loss: 7.3450e-04 - val_accuracy: 1.0000\n",
            "Epoch 23/30\n",
            "24/24 [==============================] - 3s 108ms/step - loss: 7.3568e-04 - accuracy: 1.0000 - val_loss: 7.3688e-04 - val_accuracy: 1.0000\n",
            "Epoch 24/30\n",
            "24/24 [==============================] - 3s 109ms/step - loss: 6.8541e-04 - accuracy: 1.0000 - val_loss: 7.2755e-04 - val_accuracy: 1.0000\n",
            "Epoch 25/30\n",
            "24/24 [==============================] - 3s 108ms/step - loss: 5.7163e-04 - accuracy: 1.0000 - val_loss: 5.1711e-04 - val_accuracy: 1.0000\n",
            "Epoch 26/30\n",
            "24/24 [==============================] - 3s 107ms/step - loss: 5.5725e-04 - accuracy: 1.0000 - val_loss: 7.9680e-04 - val_accuracy: 1.0000\n",
            "Epoch 27/30\n",
            "24/24 [==============================] - 3s 111ms/step - loss: 4.6501e-04 - accuracy: 1.0000 - val_loss: 4.5257e-04 - val_accuracy: 1.0000\n",
            "Epoch 28/30\n",
            "24/24 [==============================] - 3s 107ms/step - loss: 4.8340e-04 - accuracy: 1.0000 - val_loss: 5.4358e-04 - val_accuracy: 1.0000\n",
            "Epoch 29/30\n",
            "24/24 [==============================] - 3s 107ms/step - loss: 4.5438e-04 - accuracy: 1.0000 - val_loss: 4.8173e-04 - val_accuracy: 1.0000\n",
            "Epoch 30/30\n",
            "24/24 [==============================] - 3s 106ms/step - loss: 3.7990e-04 - accuracy: 1.0000 - val_loss: 5.9811e-04 - val_accuracy: 1.0000\n",
            "CPU times: user 1min 51s, sys: 3.35 s, total: 1min 54s\n",
            "Wall time: 2min 3s\n"
          ]
        }
      ]
    },
    {
      "cell_type": "code",
      "source": [
        "losses = pd.DataFrame(results.history)\n",
        "fig, ax = plt.subplots(1, 2, figsize=(10,5))\n",
        "losses[['loss','val_loss']].plot(ax=ax[0])\n",
        "losses[['accuracy','val_accuracy']].plot(ax=ax[1])"
      ],
      "metadata": {
        "colab": {
          "base_uri": "https://localhost:8080/",
          "height": 387
        },
        "id": "M8o5vAd_pj1Y",
        "outputId": "6f1ee27c-b3aa-4daf-d2ef-79593fbae937"
      },
      "execution_count": 171,
      "outputs": [
        {
          "output_type": "execute_result",
          "data": {
            "text/plain": [
              "<matplotlib.axes._subplots.AxesSubplot at 0x7f5f78fa81d0>"
            ]
          },
          "metadata": {},
          "execution_count": 171
        },
        {
          "output_type": "display_data",
          "data": {
            "image/png": "[encoded data removed]",
            "text/plain": [
              "<Figure size 720x360 with 2 Axes>"
            ]
          },
          "metadata": {
            "needs_background": "light"
          }
        }
      ]
    },
    {
      "cell_type": "markdown",
      "source": [
        "##### 4.2.1.1.1 Evaluate\n",
        "\n",
        "[back to top](#top)"
      ],
      "metadata": {
        "id": "ncUjSrW9h2Af"
      }
    },
    {
      "cell_type": "code",
      "source": [
        "pred = []\n",
        "label = []\n",
        "for batch in range(len(test_dataset_batched)):\n",
        "  image_batch, label_batch = test_dataset_batched.as_numpy_iterator().next()\n",
        "  predictions = model.predict_on_batch(image_batch).argmax(axis=1)\n",
        "  # print(f\"Labels     : {label_batch}\\nPredictions: {predictions.astype(float)}\")\n",
        "  pred.append(predictions)\n",
        "  label.append(label_batch)\n",
        "predictions = np.array(pred).flatten()\n",
        "labels = np.array(label).flatten()\n",
        "print(classification_report(labels,predictions))\n",
        "\n",
        "plt.figure(figsize=(10,6))\n",
        "sns.heatmap(confusion_matrix(labels,predictions), annot=True)"
      ],
      "metadata": {
        "colab": {
          "base_uri": "https://localhost:8080/",
          "height": 618
        },
        "id": "lpNSrw3THaHP",
        "outputId": "a359aab7-c859-4a59-aa7a-8ff4ef22a812"
      },
      "execution_count": 172,
      "outputs": [
        {
          "output_type": "stream",
          "name": "stdout",
          "text": [
            "              precision    recall  f1-score   support\n",
            "\n",
            "         0.0       0.87      0.73      0.79       439\n",
            "         1.0       0.65      0.83      0.73       265\n",
            "\n",
            "    accuracy                           0.76       704\n",
            "   macro avg       0.76      0.78      0.76       704\n",
            "weighted avg       0.79      0.76      0.77       704\n",
            "\n"
          ]
        },
        {
          "output_type": "execute_result",
          "data": {
            "text/plain": [
              "<matplotlib.axes._subplots.AxesSubplot at 0x7f5f78eeb710>"
            ]
          },
          "metadata": {},
          "execution_count": 172
        },
        {
          "output_type": "display_data",
          "data": {
            "image/png": "[encoded data removed]",
            "text/plain": [
              "<Figure size 720x432 with 2 Axes>"
            ]
          },
          "metadata": {
            "needs_background": "light"
          }
        }
      ]
    },
    {
      "cell_type": "markdown",
      "source": [
        "#### 4.2.1.2 TF - image_dataset_from_directory\n",
        "\n",
        "[back to top](#top)"
      ],
      "metadata": {
        "id": "d2Io4f1ncFCQ"
      }
    },
    {
      "cell_type": "code",
      "source": [
        "%%time\n",
        "model = build_model()\n",
        "with tf.device('/device:GPU:0'):\n",
        "  results = model.fit(train_set_tf,\n",
        "                      epochs=30,\n",
        "                      validation_data=val_set_tf,\n",
        "                      callbacks=[early_stop]\n",
        "                      )"
      ],
      "metadata": {
        "colab": {
          "base_uri": "https://localhost:8080/"
        },
        "id": "fCkEO464o4zY",
        "outputId": "694809fc-a075-4942-f274-bb545c0921e7"
      },
      "execution_count": 173,
      "outputs": [
        {
          "output_type": "stream",
          "name": "stdout",
          "text": [
            "Model: \"sequential_7\"\n",
            "_________________________________________________________________\n",
            " Layer (type)                Output Shape              Param #   \n",
            "=================================================================\n",
            " conv2d_79 (Conv2D)          (None, 298, 298, 8)       224       \n",
            "                                                                 \n",
            " max_pooling2d_13 (MaxPoolin  (None, 149, 149, 8)      0         \n",
            " g2D)                                                            \n",
            "                                                                 \n",
            " conv2d_80 (Conv2D)          (None, 147, 147, 16)      1168      \n",
            "                                                                 \n",
            " max_pooling2d_14 (MaxPoolin  (None, 73, 73, 16)       0         \n",
            " g2D)                                                            \n",
            "                                                                 \n",
            " conv2d_81 (Conv2D)          (None, 71, 71, 16)        2320      \n",
            "                                                                 \n",
            " max_pooling2d_15 (MaxPoolin  (None, 35, 35, 16)       0         \n",
            " g2D)                                                            \n",
            "                                                                 \n",
            " flatten_3 (Flatten)         (None, 19600)             0         \n",
            "                                                                 \n",
            " dense_6 (Dense)             (None, 224)               4390624   \n",
            "                                                                 \n",
            " activation_5 (Activation)   (None, 224)               0         \n",
            "                                                                 \n",
            " dense_7 (Dense)             (None, 2)                 450       \n",
            "                                                                 \n",
            "=================================================================\n",
            "Total params: 4,394,786\n",
            "Trainable params: 4,394,786\n",
            "Non-trainable params: 0\n",
            "_________________________________________________________________\n",
            "None\n",
            "Epoch 1/30\n",
            "24/24 [==============================] - 3s 84ms/step - loss: 134.4261 - accuracy: 0.4907 - val_loss: 1.5429 - val_accuracy: 0.4643\n",
            "Epoch 2/30\n",
            "24/24 [==============================] - 2s 78ms/step - loss: 0.8067 - accuracy: 0.6310 - val_loss: 0.5859 - val_accuracy: 0.7262\n",
            "Epoch 3/30\n",
            "24/24 [==============================] - 2s 83ms/step - loss: 0.5311 - accuracy: 0.7526 - val_loss: 0.5008 - val_accuracy: 0.7976\n",
            "Epoch 4/30\n",
            "24/24 [==============================] - 2s 79ms/step - loss: 0.4654 - accuracy: 0.7804 - val_loss: 0.4791 - val_accuracy: 0.7976\n",
            "Epoch 5/30\n",
            "24/24 [==============================] - 2s 79ms/step - loss: 0.3286 - accuracy: 0.8505 - val_loss: 0.5123 - val_accuracy: 0.7262\n",
            "Epoch 6/30\n",
            "24/24 [==============================] - 2s 80ms/step - loss: 0.2423 - accuracy: 0.9087 - val_loss: 0.4219 - val_accuracy: 0.8452\n",
            "Epoch 7/30\n",
            "24/24 [==============================] - 2s 79ms/step - loss: 0.1751 - accuracy: 0.9458 - val_loss: 0.4531 - val_accuracy: 0.7857\n",
            "Epoch 8/30\n",
            "24/24 [==============================] - 2s 79ms/step - loss: 0.1511 - accuracy: 0.9656 - val_loss: 0.4535 - val_accuracy: 0.7976\n",
            "Epoch 9/30\n",
            "24/24 [==============================] - 2s 77ms/step - loss: 0.1301 - accuracy: 0.9590 - val_loss: 0.5098 - val_accuracy: 0.7857\n",
            "Epoch 10/30\n",
            "24/24 [==============================] - 2s 81ms/step - loss: 0.2029 - accuracy: 0.9087 - val_loss: 2.2267 - val_accuracy: 0.6310\n",
            "Epoch 11/30\n",
            "24/24 [==============================] - 2s 80ms/step - loss: 1.1712 - accuracy: 0.7262 - val_loss: 0.5656 - val_accuracy: 0.8333\n",
            "CPU times: user 26.7 s, sys: 2.53 s, total: 29.2 s\n",
            "Wall time: 27.3 s\n"
          ]
        }
      ]
    },
    {
      "cell_type": "code",
      "source": [
        "losses = pd.DataFrame(results.history)\n",
        "fig, ax = plt.subplots(1, 2, figsize=(10,5))\n",
        "losses[['loss','val_loss']].plot(ax=ax[0])\n",
        "losses[['accuracy','val_accuracy']].plot(ax=ax[1])"
      ],
      "metadata": {
        "id": "-90Cais0o6aw",
        "colab": {
          "base_uri": "https://localhost:8080/",
          "height": 387
        },
        "outputId": "35e88d7d-4377-4f2f-fdbc-f19399b17358"
      },
      "execution_count": 174,
      "outputs": [
        {
          "output_type": "execute_result",
          "data": {
            "text/plain": [
              "<matplotlib.axes._subplots.AxesSubplot at 0x7f5f78c45690>"
            ]
          },
          "metadata": {},
          "execution_count": 174
        },
        {
          "output_type": "display_data",
          "data": {
            "image/png": "[encoded data removed]",
            "text/plain": [
              "<Figure size 720x360 with 2 Axes>"
            ]
          },
          "metadata": {
            "needs_background": "light"
          }
        }
      ]
    },
    {
      "cell_type": "markdown",
      "source": [
        "##### 4.2.1.2.1 Evaluate\n",
        "\n",
        "[back to top](#top)"
      ],
      "metadata": {
        "id": "6ppnGSjVhzSi"
      }
    },
    {
      "cell_type": "code",
      "source": [
        "predictions = model.predict(test_set_tf).argmax(axis=1)\n",
        "labels = np.array([])\n",
        "for x, y in ds_test_:\n",
        "  labels = np.concatenate([labels, tf.squeeze(y.numpy()).numpy()])\n",
        "print(classification_report(labels,predictions))\n",
        "plt.figure(figsize=(10,6))\n",
        "sns.heatmap(confusion_matrix(labels,predictions), annot=True)"
      ],
      "metadata": {
        "id": "ExDYD6IkcNmL",
        "colab": {
          "base_uri": "https://localhost:8080/",
          "height": 618
        },
        "outputId": "29dad807-037b-4aff-a4a8-855e42fa6731"
      },
      "execution_count": 175,
      "outputs": [
        {
          "output_type": "stream",
          "name": "stdout",
          "text": [
            "              precision    recall  f1-score   support\n",
            "\n",
            "         0.0       0.96      0.80      0.87       416\n",
            "         1.0       0.75      0.94      0.83       262\n",
            "\n",
            "    accuracy                           0.85       678\n",
            "   macro avg       0.85      0.87      0.85       678\n",
            "weighted avg       0.88      0.85      0.86       678\n",
            "\n"
          ]
        },
        {
          "output_type": "execute_result",
          "data": {
            "text/plain": [
              "<matplotlib.axes._subplots.AxesSubplot at 0x7f5dab15c910>"
            ]
          },
          "metadata": {},
          "execution_count": 175
        },
        {
          "output_type": "display_data",
          "data": {
            "image/png": "[encoded data removed]",
            "text/plain": [
              "<Figure size 720x432 with 2 Axes>"
            ]
          },
          "metadata": {
            "needs_background": "light"
          }
        }
      ]
    },
    {
      "cell_type": "markdown",
      "source": [
        "#### 4.2.1.3 Keras - ImageDataGenerator\n",
        "\n",
        "[back to top](#top)"
      ],
      "metadata": {
        "id": "erIeE6qGbcwu"
      }
    },
    {
      "cell_type": "code",
      "metadata": {
        "id": "mLQYWTNuNSm2",
        "colab": {
          "base_uri": "https://localhost:8080/"
        },
        "outputId": "ad87dc27-99dd-42d9-a86a-93d6856f9563"
      },
      "source": [
        "%%time\n",
        "model = build_model()\n",
        "with tf.device('/device:GPU:0'):\n",
        "  results = model.fit(train_set_keras,\n",
        "                      epochs=30,\n",
        "                      validation_data=val_set_keras,\n",
        "                      callbacks=[early_stop]\n",
        "                      )"
      ],
      "execution_count": 176,
      "outputs": [
        {
          "output_type": "stream",
          "name": "stdout",
          "text": [
            "Model: \"sequential_8\"\n",
            "_________________________________________________________________\n",
            " Layer (type)                Output Shape              Param #   \n",
            "=================================================================\n",
            " conv2d_82 (Conv2D)          (None, 298, 298, 8)       224       \n",
            "                                                                 \n",
            " max_pooling2d_16 (MaxPoolin  (None, 149, 149, 8)      0         \n",
            " g2D)                                                            \n",
            "                                                                 \n",
            " conv2d_83 (Conv2D)          (None, 147, 147, 16)      1168      \n",
            "                                                                 \n",
            " max_pooling2d_17 (MaxPoolin  (None, 73, 73, 16)       0         \n",
            " g2D)                                                            \n",
            "                                                                 \n",
            " conv2d_84 (Conv2D)          (None, 71, 71, 16)        2320      \n",
            "                                                                 \n",
            " max_pooling2d_18 (MaxPoolin  (None, 35, 35, 16)       0         \n",
            " g2D)                                                            \n",
            "                                                                 \n",
            " flatten_4 (Flatten)         (None, 19600)             0         \n",
            "                                                                 \n",
            " dense_8 (Dense)             (None, 224)               4390624   \n",
            "                                                                 \n",
            " activation_6 (Activation)   (None, 224)               0         \n",
            "                                                                 \n",
            " dense_9 (Dense)             (None, 2)                 450       \n",
            "                                                                 \n",
            "=================================================================\n",
            "Total params: 4,394,786\n",
            "Trainable params: 4,394,786\n",
            "Non-trainable params: 0\n",
            "_________________________________________________________________\n",
            "None\n",
            "Epoch 1/30\n",
            "24/24 [==============================] - 5s 174ms/step - loss: 0.7278 - accuracy: 0.5561 - val_loss: 0.6366 - val_accuracy: 0.6747\n",
            "Epoch 2/30\n",
            "24/24 [==============================] - 4s 150ms/step - loss: 0.5721 - accuracy: 0.7028 - val_loss: 0.5733 - val_accuracy: 0.6386\n",
            "Epoch 3/30\n",
            "24/24 [==============================] - 4s 151ms/step - loss: 0.4539 - accuracy: 0.7900 - val_loss: 0.4812 - val_accuracy: 0.7711\n",
            "Epoch 4/30\n",
            "24/24 [==============================] - 4s 151ms/step - loss: 0.4377 - accuracy: 0.7794 - val_loss: 0.4864 - val_accuracy: 0.7711\n",
            "Epoch 5/30\n",
            "24/24 [==============================] - 4s 148ms/step - loss: 0.3481 - accuracy: 0.8468 - val_loss: 0.4426 - val_accuracy: 0.7831\n",
            "Epoch 6/30\n",
            "24/24 [==============================] - 4s 150ms/step - loss: 0.2842 - accuracy: 0.8838 - val_loss: 0.3726 - val_accuracy: 0.8916\n",
            "Epoch 7/30\n",
            "24/24 [==============================] - 4s 149ms/step - loss: 0.1982 - accuracy: 0.9379 - val_loss: 0.3101 - val_accuracy: 0.8916\n",
            "Epoch 8/30\n",
            "24/24 [==============================] - 4s 150ms/step - loss: 0.1527 - accuracy: 0.9564 - val_loss: 0.2488 - val_accuracy: 0.9036\n",
            "Epoch 9/30\n",
            "24/24 [==============================] - 4s 150ms/step - loss: 0.0921 - accuracy: 0.9802 - val_loss: 0.2471 - val_accuracy: 0.9036\n",
            "Epoch 10/30\n",
            "24/24 [==============================] - 4s 150ms/step - loss: 0.0782 - accuracy: 0.9775 - val_loss: 0.2200 - val_accuracy: 0.9277\n",
            "Epoch 11/30\n",
            "24/24 [==============================] - 4s 148ms/step - loss: 0.0493 - accuracy: 0.9934 - val_loss: 0.1825 - val_accuracy: 0.9518\n",
            "Epoch 12/30\n",
            "24/24 [==============================] - 4s 150ms/step - loss: 0.0319 - accuracy: 0.9947 - val_loss: 0.2291 - val_accuracy: 0.9518\n",
            "Epoch 13/30\n",
            "24/24 [==============================] - 4s 149ms/step - loss: 0.0205 - accuracy: 1.0000 - val_loss: 0.1718 - val_accuracy: 0.9639\n",
            "Epoch 14/30\n",
            "24/24 [==============================] - 4s 146ms/step - loss: 0.0146 - accuracy: 1.0000 - val_loss: 0.1609 - val_accuracy: 0.9398\n",
            "Epoch 15/30\n",
            "24/24 [==============================] - 4s 149ms/step - loss: 0.0159 - accuracy: 0.9987 - val_loss: 0.2507 - val_accuracy: 0.9157\n",
            "Epoch 16/30\n",
            "24/24 [==============================] - 4s 149ms/step - loss: 0.0288 - accuracy: 0.9921 - val_loss: 0.2198 - val_accuracy: 0.9398\n",
            "Epoch 17/30\n",
            "24/24 [==============================] - 4s 150ms/step - loss: 0.0166 - accuracy: 0.9987 - val_loss: 0.2413 - val_accuracy: 0.9398\n",
            "Epoch 18/30\n",
            "24/24 [==============================] - 4s 162ms/step - loss: 0.0113 - accuracy: 1.0000 - val_loss: 0.1890 - val_accuracy: 0.9398\n",
            "Epoch 19/30\n",
            "24/24 [==============================] - 4s 149ms/step - loss: 0.0047 - accuracy: 1.0000 - val_loss: 0.2061 - val_accuracy: 0.9518\n",
            "CPU times: user 1min 9s, sys: 3.85 s, total: 1min 13s\n",
            "Wall time: 1min 10s\n"
          ]
        }
      ]
    },
    {
      "cell_type": "code",
      "metadata": {
        "id": "9eqLn69jlyaD",
        "colab": {
          "base_uri": "https://localhost:8080/",
          "height": 387
        },
        "outputId": "48b8e3c0-564b-46cb-b18b-017d3b30b240"
      },
      "source": [
        "losses = pd.DataFrame(results.history)\n",
        "fig, ax = plt.subplots(1, 2, figsize=(10,5))\n",
        "losses[['loss','val_loss']].plot(ax=ax[0])\n",
        "losses[['accuracy','val_accuracy']].plot(ax=ax[1])"
      ],
      "execution_count": 177,
      "outputs": [
        {
          "output_type": "execute_result",
          "data": {
            "text/plain": [
              "<matplotlib.axes._subplots.AxesSubplot at 0x7f5db3ca5710>"
            ]
          },
          "metadata": {},
          "execution_count": 177
        },
        {
          "output_type": "display_data",
          "data": {
            "image/png": "[encoded data removed]",
            "text/plain": [
              "<Figure size 720x360 with 2 Axes>"
            ]
          },
          "metadata": {
            "needs_background": "light"
          }
        }
      ]
    },
    {
      "cell_type": "markdown",
      "source": [
        "##### 4.2.1.3.1 Evaluate\n",
        "\n",
        "[back to top](#top)"
      ],
      "metadata": {
        "id": "tifnsOhzhqzA"
      }
    },
    {
      "cell_type": "code",
      "source": [
        "predictions = model.predict(test_set_keras).argmax(axis=1)\n",
        "labels = test_set_keras.classes\n",
        "print(classification_report(labels,predictions))\n",
        "plt.figure(figsize=(10,6))\n",
        "sns.heatmap(confusion_matrix(labels,predictions), annot=True)"
      ],
      "metadata": {
        "id": "UqIfo2qgawsu",
        "colab": {
          "base_uri": "https://localhost:8080/",
          "height": 618
        },
        "outputId": "81dd5c7a-3681-497a-f4d8-4f88f8d01eb9"
      },
      "execution_count": 178,
      "outputs": [
        {
          "output_type": "stream",
          "name": "stdout",
          "text": [
            "              precision    recall  f1-score   support\n",
            "\n",
            "           0       0.98      0.95      0.96       416\n",
            "           1       0.92      0.97      0.95       262\n",
            "\n",
            "    accuracy                           0.96       678\n",
            "   macro avg       0.95      0.96      0.96       678\n",
            "weighted avg       0.96      0.96      0.96       678\n",
            "\n"
          ]
        },
        {
          "output_type": "execute_result",
          "data": {
            "text/plain": [
              "<matplotlib.axes._subplots.AxesSubplot at 0x7f5db3ba4dd0>"
            ]
          },
          "metadata": {},
          "execution_count": 178
        },
        {
          "output_type": "display_data",
          "data": {
            "image/png": "[encoded data removed]",
            "text/plain": [
              "<Figure size 720x432 with 2 Axes>"
            ]
          },
          "metadata": {
            "needs_background": "light"
          }
        }
      ]
    },
    {
      "cell_type": "markdown",
      "source": [
        "### 🏋️ Exercise 2: Binary Output\n",
        "\n",
        "In the above, we used a type of loss function called *sparse categorical crossentropy*\n",
        "\n",
        "This loss is useful when we have many target classes set as different integers, i.e.\n",
        "\n",
        "```\n",
        "good = 1\n",
        "bad = 2\n",
        "ugly = 3\n",
        "```\n",
        "\n",
        "another type of loss function is *categorical crossentropy* this is for when the target classes are one-hot encoded, i.e.\n",
        "\n",
        "```\n",
        "good = [1,0,0]\n",
        "bad = [0,1,0]\n",
        "ugly = [0,0,1]\n",
        "```\n",
        "\n",
        "1. Choose one of the datatset import methods from above\n",
        "2. Specify the labels as binary during the loading process\n",
        "3. Redefine the model using \n",
        "  * a single dense node as the final layer with\n",
        "  * a sigmoidal activation function\n",
        "4. Compile with the new loss set to 'binary_crossentropy',\n",
        "5. Train the model\n",
        "6. Evaluate the F1/Precision/Recall metrics and display the confusion matrix. \n",
        "  * *note: our prior method of obtaining the classification using `argmax` will not work, as the output is now a probability score ranging 0-1*"
      ],
      "metadata": {
        "id": "4APst7gsvI2o"
      }
    },
    {
      "cell_type": "code",
      "source": [
        "# Code cell for exercise 2"
      ],
      "metadata": {
        "id": "IQExKnkRwShn"
      },
      "execution_count": 179,
      "outputs": []
    },
    {
      "cell_type": "markdown",
      "metadata": {
        "id": "GTTWyFrXDvoN"
      },
      "source": [
        "<a name='x.3'></a>\n",
        "\n",
        "## 4.3 Data Augmentation\n",
        "\n",
        "[back to top](#top)\n",
        "\n",
        "Alright, alright, alright. We've done pretty good making our CNN model. But let's see if we can make it even better. There's a last trick we'll cover here in regard to image classifiers. We're going to perturb the input images in such a way as to create a pseudo-larger dataset.\n",
        "\n",
        "With any machine learning model, the more relevant training data we give the model, the better. The key here is _relevant_ training data. We can easily do this with images so long as we do not change the class of the image. For example, in the small plot below, we are changing contrast, hue, rotation, and doing other things to the image of a car; and this is okay because it does not change the classification from a car to, say, a truck.\n",
        "\n",
        "<p align=center>\n",
        "<img src=\"https://raw.githubusercontent.com/wesleybeckner/general_applications_of_neural_networks/main/assets/UaOm0ms.png\" width=400></img>\n",
        "</p>\n",
        "\n",
        "Typically when we do data augmentation for images, we do them _online_, i.e. during training. Recall that we train in batches (or minibatches) with CNNs. An example of a minibatch then, might be the small multiples plot below.\n",
        "\n",
        "<p align=center>\n",
        "<img src=\"https://raw.githubusercontent.com/wesleybeckner/general_applications_of_neural_networks/main/assets/MFviYoE.png\" width=400></img>\n",
        "</p>\n",
        "\n",
        "by varying the images in this way, the model always sees slightly new data, and becomes a more robust model. Remember that the caveat is that we can't muddle the relevant classification of the image. Sometimes the best way to see if data augmentation will be helpful is to just try it and see!"
      ]
    },
    {
      "cell_type": "markdown",
      "source": [
        "### 4.3.1 Define Architecture\n",
        "\n",
        "[back to top](#top)"
      ],
      "metadata": {
        "id": "-vxUj_-3jzU8"
      }
    },
    {
      "cell_type": "code",
      "metadata": {
        "id": "1o9ATkGp3-OR",
        "colab": {
          "base_uri": "https://localhost:8080/"
        },
        "outputId": "874566dd-c506-4711-d21b-e33a04efca49"
      },
      "source": [
        "#Creating model\n",
        "model = Sequential()\n",
        "\n",
        "model.add(InputLayer(input_shape=(image_shape)))\n",
        "\n",
        "model.add(preprocessing.RandomFlip('horizontal', seed=seed_value)), # flip left-to-right\n",
        "model.add(preprocessing.RandomFlip('vertical', seed=seed_value)), # flip upside-down\n",
        "model.add(preprocessing.RandomContrast(0.1, seed=seed_value)), # contrast change by up to 50%\n",
        "model.add(preprocessing.RandomRotation(factor=1, fill_mode='constant', seed=seed_value))\n",
        "\n",
        "model.add(Conv2D(filters=8, kernel_size=(3,3),input_shape=image_shape, activation='relu',))\n",
        "model.add(MaxPooling2D(pool_size=(2, 2)))\n",
        "\n",
        "model.add(Conv2D(filters=16, kernel_size=(3,3), activation='relu',))\n",
        "model.add(MaxPooling2D(pool_size=(2, 2)))\n",
        "\n",
        "model.add(Conv2D(filters=16, kernel_size=(3,3), activation='relu',))\n",
        "model.add(MaxPooling2D(pool_size=(2, 2)))\n",
        "\n",
        "model.add(Flatten())\n",
        "\n",
        "model.add(Dense(224))\n",
        "model.add(Activation('relu'))\n",
        "\n",
        "# Last layer\n",
        "model.add(Dense(2))\n",
        "\n",
        "early_stop = EarlyStopping(monitor='val_loss',\n",
        "                           patience=5,\n",
        "                           restore_best_weights=True,)\n",
        "\n",
        "base_learning_rate = 0.001\n",
        "model.compile(loss=tf.keras.losses.SparseCategoricalCrossentropy(from_logits=True),\n",
        "              optimizer=tf.keras.optimizers.Adam(learning_rate=base_learning_rate),\n",
        "              metrics=['accuracy'])\n",
        "\n",
        "model.summary()"
      ],
      "execution_count": 180,
      "outputs": [
        {
          "output_type": "stream",
          "name": "stdout",
          "text": [
            "Model: \"sequential_9\"\n",
            "_________________________________________________________________\n",
            " Layer (type)                Output Shape              Param #   \n",
            "=================================================================\n",
            " random_flip (RandomFlip)    (None, 300, 300, 3)       0         \n",
            "                                                                 \n",
            " random_flip_1 (RandomFlip)  (None, 300, 300, 3)       0         \n",
            "                                                                 \n",
            " random_contrast (RandomCont  (None, 300, 300, 3)      0         \n",
            " rast)                                                           \n",
            "                                                                 \n",
            " random_rotation (RandomRota  (None, 300, 300, 3)      0         \n",
            " tion)                                                           \n",
            "                                                                 \n",
            " conv2d_85 (Conv2D)          (None, 298, 298, 8)       224       \n",
            "                                                                 \n",
            " max_pooling2d_19 (MaxPoolin  (None, 149, 149, 8)      0         \n",
            " g2D)                                                            \n",
            "                                                                 \n",
            " conv2d_86 (Conv2D)          (None, 147, 147, 16)      1168      \n",
            "                                                                 \n",
            " max_pooling2d_20 (MaxPoolin  (None, 73, 73, 16)       0         \n",
            " g2D)                                                            \n",
            "                                                                 \n",
            " conv2d_87 (Conv2D)          (None, 71, 71, 16)        2320      \n",
            "                                                                 \n",
            " max_pooling2d_21 (MaxPoolin  (None, 35, 35, 16)       0         \n",
            " g2D)                                                            \n",
            "                                                                 \n",
            " flatten_5 (Flatten)         (None, 19600)             0         \n",
            "                                                                 \n",
            " dense_10 (Dense)            (None, 224)               4390624   \n",
            "                                                                 \n",
            " activation_7 (Activation)   (None, 224)               0         \n",
            "                                                                 \n",
            " dense_11 (Dense)            (None, 2)                 450       \n",
            "                                                                 \n",
            "=================================================================\n",
            "Total params: 4,394,786\n",
            "Trainable params: 4,394,786\n",
            "Non-trainable params: 0\n",
            "_________________________________________________________________\n"
          ]
        }
      ]
    },
    {
      "cell_type": "code",
      "metadata": {
        "id": "lRZOVdQoHP0z",
        "colab": {
          "base_uri": "https://localhost:8080/"
        },
        "outputId": "555ce65e-b892-49f8-f081-f1bf590560d7"
      },
      "source": [
        "%%time\n",
        "results = model.fit(train_set_tf,\n",
        "                    epochs=30,\n",
        "                    validation_data=val_set_tf,\n",
        "                    callbacks=[early_stop])"
      ],
      "execution_count": 181,
      "outputs": [
        {
          "output_type": "stream",
          "name": "stdout",
          "text": [
            "Epoch 1/30\n",
            "24/24 [==============================] - 4s 91ms/step - loss: 93.7654 - accuracy: 0.5503 - val_loss: 1.5286 - val_accuracy: 0.6190\n",
            "Epoch 2/30\n",
            "24/24 [==============================] - 2s 83ms/step - loss: 1.0640 - accuracy: 0.6508 - val_loss: 0.6292 - val_accuracy: 0.7024\n",
            "Epoch 3/30\n",
            "24/24 [==============================] - 2s 84ms/step - loss: 0.6656 - accuracy: 0.6944 - val_loss: 0.5734 - val_accuracy: 0.7143\n",
            "Epoch 4/30\n",
            "24/24 [==============================] - 2s 83ms/step - loss: 0.5832 - accuracy: 0.7037 - val_loss: 0.5793 - val_accuracy: 0.7143\n",
            "Epoch 5/30\n",
            "24/24 [==============================] - 3s 86ms/step - loss: 0.5902 - accuracy: 0.7235 - val_loss: 0.5230 - val_accuracy: 0.7500\n",
            "Epoch 6/30\n",
            "24/24 [==============================] - 2s 83ms/step - loss: 0.5396 - accuracy: 0.7447 - val_loss: 0.5276 - val_accuracy: 0.7738\n",
            "Epoch 7/30\n",
            "24/24 [==============================] - 2s 84ms/step - loss: 0.4809 - accuracy: 0.7672 - val_loss: 0.4934 - val_accuracy: 0.8095\n",
            "Epoch 8/30\n",
            "24/24 [==============================] - 2s 85ms/step - loss: 0.4144 - accuracy: 0.8108 - val_loss: 0.4401 - val_accuracy: 0.8095\n",
            "Epoch 9/30\n",
            "24/24 [==============================] - 2s 84ms/step - loss: 0.3664 - accuracy: 0.8585 - val_loss: 0.3677 - val_accuracy: 0.8690\n",
            "Epoch 10/30\n",
            "24/24 [==============================] - 2s 83ms/step - loss: 0.4642 - accuracy: 0.7844 - val_loss: 0.4574 - val_accuracy: 0.8095\n",
            "Epoch 11/30\n",
            "24/24 [==============================] - 2s 84ms/step - loss: 0.3724 - accuracy: 0.8135 - val_loss: 0.3456 - val_accuracy: 0.8333\n",
            "Epoch 12/30\n",
            "24/24 [==============================] - 2s 83ms/step - loss: 0.2774 - accuracy: 0.8783 - val_loss: 0.3460 - val_accuracy: 0.8571\n",
            "Epoch 13/30\n",
            "24/24 [==============================] - 3s 86ms/step - loss: 0.2786 - accuracy: 0.8902 - val_loss: 0.2961 - val_accuracy: 0.8929\n",
            "Epoch 14/30\n",
            "24/24 [==============================] - 2s 83ms/step - loss: 0.2955 - accuracy: 0.8730 - val_loss: 0.3577 - val_accuracy: 0.8214\n",
            "Epoch 15/30\n",
            "24/24 [==============================] - 2s 83ms/step - loss: 0.3145 - accuracy: 0.8651 - val_loss: 0.2971 - val_accuracy: 0.8929\n",
            "Epoch 16/30\n",
            "24/24 [==============================] - 2s 84ms/step - loss: 0.2414 - accuracy: 0.9021 - val_loss: 0.2544 - val_accuracy: 0.9167\n",
            "Epoch 17/30\n",
            "24/24 [==============================] - 2s 81ms/step - loss: 0.2229 - accuracy: 0.9127 - val_loss: 0.2901 - val_accuracy: 0.8571\n",
            "Epoch 18/30\n",
            "24/24 [==============================] - 2s 82ms/step - loss: 0.2601 - accuracy: 0.9061 - val_loss: 0.1960 - val_accuracy: 0.9405\n",
            "Epoch 19/30\n",
            "24/24 [==============================] - 2s 84ms/step - loss: 0.2167 - accuracy: 0.9206 - val_loss: 0.2081 - val_accuracy: 0.9286\n",
            "Epoch 20/30\n",
            "24/24 [==============================] - 2s 83ms/step - loss: 0.2397 - accuracy: 0.8929 - val_loss: 0.2204 - val_accuracy: 0.9167\n",
            "Epoch 21/30\n",
            "24/24 [==============================] - 2s 84ms/step - loss: 0.2110 - accuracy: 0.9140 - val_loss: 0.2115 - val_accuracy: 0.9405\n",
            "Epoch 22/30\n",
            "24/24 [==============================] - 2s 83ms/step - loss: 0.1644 - accuracy: 0.9365 - val_loss: 0.2254 - val_accuracy: 0.9286\n",
            "Epoch 23/30\n",
            "24/24 [==============================] - 2s 84ms/step - loss: 0.1505 - accuracy: 0.9431 - val_loss: 0.2011 - val_accuracy: 0.9167\n",
            "CPU times: user 57.8 s, sys: 5.24 s, total: 1min 3s\n",
            "Wall time: 58.7 s\n"
          ]
        }
      ]
    },
    {
      "cell_type": "markdown",
      "metadata": {
        "id": "5pfVDQlYjaWQ"
      },
      "source": [
        "<a name='x.3.1'></a>\n",
        "\n",
        "### 4.3.2 Evaluate Model\n",
        "\n",
        "[back to top](#top)"
      ]
    },
    {
      "cell_type": "code",
      "metadata": {
        "id": "9eQ48mBdN0LB",
        "colab": {
          "base_uri": "https://localhost:8080/",
          "height": 618
        },
        "outputId": "1317fe2e-b41f-4695-b07f-fa8040d278fc"
      },
      "source": [
        "predictions = model.predict(test_set_tf).argmax(axis=1)\n",
        "labels = np.array([])\n",
        "for x, y in ds_test_:\n",
        "  labels = np.concatenate([labels, tf.squeeze(y.numpy()).numpy()])\n",
        "print(classification_report(labels,predictions))\n",
        "plt.figure(figsize=(10,6))\n",
        "sns.heatmap(confusion_matrix(labels,predictions), annot=True)"
      ],
      "execution_count": 182,
      "outputs": [
        {
          "output_type": "stream",
          "name": "stdout",
          "text": [
            "              precision    recall  f1-score   support\n",
            "\n",
            "         0.0       0.99      0.90      0.94       416\n",
            "         1.0       0.86      0.98      0.91       262\n",
            "\n",
            "    accuracy                           0.93       678\n",
            "   macro avg       0.92      0.94      0.93       678\n",
            "weighted avg       0.94      0.93      0.93       678\n",
            "\n"
          ]
        },
        {
          "output_type": "execute_result",
          "data": {
            "text/plain": [
              "<matplotlib.axes._subplots.AxesSubplot at 0x7f5db3f9a3d0>"
            ]
          },
          "metadata": {},
          "execution_count": 182
        },
        {
          "output_type": "display_data",
          "data": {
            "image/png": "[encoded data removed]",
            "text/plain": [
              "<Figure size 720x432 with 2 Axes>"
            ]
          },
          "metadata": {
            "needs_background": "light"
          }
        }
      ]
    },
    {
      "cell_type": "markdown",
      "metadata": {
        "id": "YBElwTahjiOH"
      },
      "source": [
        "<a name='x.3.2'></a>\n",
        "\n",
        "### 🏋️ Exercise 3: Image Preprocessing Layers\n",
        "\n",
        "[back to top](#top)\n",
        "\n",
        "These layers apply random augmentation transforms to a batch of images. They are only active during training. You can visit the documentation [here](https://keras.io/api/layers/preprocessing_layers/image_preprocessing/)\n",
        "\n",
        "* `RandomCrop` layer\n",
        "* `RandomFlip` layer\n",
        "* `RandomTranslation` layer\n",
        "* `RandomRotation` layer\n",
        "* `RandomZoom` layer\n",
        "* `RandomHeight` layer\n",
        "* `RandomWidth` layer\n",
        "\n",
        "Use any combination of random augmentation transforms and retrain your model. Can you get a higher val performance? you may need to increase your epochs."
      ]
    },
    {
      "cell_type": "code",
      "metadata": {
        "id": "EUrtB6o_kFtI"
      },
      "source": [
        "# Code cell for exercise 3"
      ],
      "execution_count": 183,
      "outputs": []
    },
    {
      "cell_type": "markdown",
      "metadata": {
        "id": "GGijUvR_efGS"
      },
      "source": [
        "<a name='x.4'></a>\n",
        "\n",
        "## 4.4 Transfer Learning\n",
        "\n",
        "[back to top](#top)\n",
        "\n",
        "MobileNetV2 - A general purpose, deployable computer vision neural network designed by Google that works efficiently for classification, detection and segmentation.  \n",
        "\n",
        "![](https://miro.medium.com/max/1016/1*5iA55983nBMlQn9f6ICxKg.png)"
      ]
    },
    {
      "cell_type": "markdown",
      "source": [
        "### 4.4.1 Define Architecture\n",
        "\n",
        "[back to top](#top)"
      ],
      "metadata": {
        "id": "71LfkwtShWn_"
      }
    },
    {
      "cell_type": "code",
      "source": [
        "### COMPONENTS (IN ORDER)\n",
        "resize = layers.experimental.preprocessing.Resizing(224,224)\n",
        "preprocess_input_fn = tf.keras.applications.mobilenet_v2.preprocess_input \n",
        "base_model = tf.keras.applications.MobileNetV2(input_shape=(224,224,3),\n",
        "                                               include_top=False,\n",
        "                                               weights='imagenet')\n",
        "base_model.trainable=False\n",
        "global_average_layer = tf.keras.layers.GlobalAveragePooling2D()\n",
        "prediction_layer = tf.keras.layers.Dense(len(classes))"
      ],
      "metadata": {
        "id": "NKY2XanzrFcm",
        "colab": {
          "base_uri": "https://localhost:8080/"
        },
        "outputId": "aa9ee83e-5b4b-4185-a8a6-337684aa8011"
      },
      "execution_count": 184,
      "outputs": [
        {
          "output_type": "stream",
          "name": "stdout",
          "text": [
            "Downloading data from https://storage.googleapis.com/tensorflow/keras-applications/mobilenet_v2/mobilenet_v2_weights_tf_dim_ordering_tf_kernels_1.0_224_no_top.h5\n",
            "9412608/9406464 [==============================] - 0s 0us/step\n",
            "9420800/9406464 [==============================] - 0s 0us/step\n"
          ]
        }
      ]
    },
    {
      "cell_type": "code",
      "source": [
        "### MODEL\n",
        "inputs = tf.keras.Input(shape=image_shape)\n",
        "x = resize(inputs)\n",
        "x = preprocess_input_fn(x)\n",
        "x = base_model(x, training=False)\n",
        "x = global_average_layer(x)\n",
        "x = tf.keras.layers.Dropout(0.2)(x)\n",
        "outputs = prediction_layer(x)\n",
        "\n",
        "model = tf.keras.Model(inputs, outputs)"
      ],
      "metadata": {
        "id": "ZAap4KBfudfc"
      },
      "execution_count": 185,
      "outputs": []
    },
    {
      "cell_type": "code",
      "source": [
        "base_learning_rate = 0.0001\n",
        "model.compile(optimizer=tf.keras.optimizers.Adam(lr=base_learning_rate),\n",
        "              loss=tf.keras.losses.SparseCategoricalCrossentropy(from_logits=True),\n",
        "              metrics=['accuracy'])\n",
        "\n",
        "early_stop = EarlyStopping(monitor='val_loss',\n",
        "                           patience=5,\n",
        "                           restore_best_weights=True,)\n",
        "model.summary()"
      ],
      "metadata": {
        "id": "CtWevtEir3mS",
        "colab": {
          "base_uri": "https://localhost:8080/"
        },
        "outputId": "09a4a60e-3f98-46e4-f9f1-2048eea339fa"
      },
      "execution_count": 186,
      "outputs": [
        {
          "output_type": "stream",
          "name": "stdout",
          "text": [
            "Model: \"model\"\n",
            "_________________________________________________________________\n",
            " Layer (type)                Output Shape              Param #   \n",
            "=================================================================\n",
            " input_8 (InputLayer)        [(None, 300, 300, 3)]     0         \n",
            "                                                                 \n",
            " resizing (Resizing)         (None, 224, 224, 3)       0         \n",
            "                                                                 \n",
            " tf.math.truediv (TFOpLambda  (None, 224, 224, 3)      0         \n",
            " )                                                               \n",
            "                                                                 \n",
            " tf.math.subtract (TFOpLambd  (None, 224, 224, 3)      0         \n",
            " a)                                                              \n",
            "                                                                 \n",
            " mobilenetv2_1.00_224 (Funct  (None, 7, 7, 1280)       2257984   \n",
            " ional)                                                          \n",
            "                                                                 \n",
            " global_average_pooling2d (G  (None, 1280)             0         \n",
            " lobalAveragePooling2D)                                          \n",
            "                                                                 \n",
            " dropout (Dropout)           (None, 1280)              0         \n",
            "                                                                 \n",
            " dense_12 (Dense)            (None, 2)                 2562      \n",
            "                                                                 \n",
            "=================================================================\n",
            "Total params: 2,260,546\n",
            "Trainable params: 2,562\n",
            "Non-trainable params: 2,257,984\n",
            "_________________________________________________________________\n"
          ]
        },
        {
          "output_type": "stream",
          "name": "stderr",
          "text": [
            "/usr/local/lib/python3.7/dist-packages/keras/optimizer_v2/adam.py:105: UserWarning: The `lr` argument is deprecated, use `learning_rate` instead.\n",
            "  super(Adam, self).__init__(name, **kwargs)\n"
          ]
        }
      ]
    },
    {
      "cell_type": "markdown",
      "source": [
        "### 4.4.2 Train Head\n",
        "\n",
        "[back to top](#top)"
      ],
      "metadata": {
        "id": "vivzVi-RhcjG"
      }
    },
    {
      "cell_type": "code",
      "source": [
        "%%time\n",
        "with tf.device('/device:GPU:0'):\n",
        "  results = model.fit(train_set_tf,\n",
        "                      epochs=60,\n",
        "                      validation_data=val_set_tf,\n",
        "                      callbacks=[early_stop]\n",
        "                      )"
      ],
      "metadata": {
        "id": "hR2o4Aa1saQD",
        "colab": {
          "base_uri": "https://localhost:8080/"
        },
        "outputId": "0f2746a4-c985-464a-c5e8-749f5ec0f25a"
      },
      "execution_count": 187,
      "outputs": [
        {
          "output_type": "stream",
          "name": "stdout",
          "text": [
            "Epoch 1/50\n",
            "24/24 [==============================] - 6s 130ms/step - loss: 0.8879 - accuracy: 0.4431 - val_loss: 0.7634 - val_accuracy: 0.4643\n",
            "Epoch 2/50\n",
            "24/24 [==============================] - 3s 86ms/step - loss: 0.8257 - accuracy: 0.4815 - val_loss: 0.6939 - val_accuracy: 0.5238\n",
            "Epoch 3/50\n",
            "24/24 [==============================] - 2s 85ms/step - loss: 0.7602 - accuracy: 0.5278 - val_loss: 0.6392 - val_accuracy: 0.6071\n",
            "Epoch 4/50\n",
            "24/24 [==============================] - 3s 87ms/step - loss: 0.6970 - accuracy: 0.5847 - val_loss: 0.5912 - val_accuracy: 0.6905\n",
            "Epoch 5/50\n",
            "24/24 [==============================] - 3s 86ms/step - loss: 0.6381 - accuracy: 0.6336 - val_loss: 0.5536 - val_accuracy: 0.7857\n",
            "Epoch 6/50\n",
            "24/24 [==============================] - 3s 88ms/step - loss: 0.6212 - accuracy: 0.6521 - val_loss: 0.5171 - val_accuracy: 0.8571\n",
            "Epoch 7/50\n",
            "24/24 [==============================] - 3s 87ms/step - loss: 0.5816 - accuracy: 0.6905 - val_loss: 0.4897 - val_accuracy: 0.8929\n",
            "Epoch 8/50\n",
            "24/24 [==============================] - 3s 87ms/step - loss: 0.5254 - accuracy: 0.7407 - val_loss: 0.4642 - val_accuracy: 0.8929\n",
            "Epoch 9/50\n",
            "24/24 [==============================] - 3s 86ms/step - loss: 0.5293 - accuracy: 0.7209 - val_loss: 0.4405 - val_accuracy: 0.8929\n",
            "Epoch 10/50\n",
            "24/24 [==============================] - 2s 86ms/step - loss: 0.4834 - accuracy: 0.7857 - val_loss: 0.4216 - val_accuracy: 0.9048\n",
            "Epoch 11/50\n",
            "24/24 [==============================] - 2s 85ms/step - loss: 0.5037 - accuracy: 0.7698 - val_loss: 0.4046 - val_accuracy: 0.9167\n",
            "Epoch 12/50\n",
            "24/24 [==============================] - 3s 86ms/step - loss: 0.4370 - accuracy: 0.8214 - val_loss: 0.3900 - val_accuracy: 0.9167\n",
            "Epoch 13/50\n",
            "24/24 [==============================] - 3s 87ms/step - loss: 0.4188 - accuracy: 0.8320 - val_loss: 0.3737 - val_accuracy: 0.9286\n",
            "Epoch 14/50\n",
            "24/24 [==============================] - 3s 87ms/step - loss: 0.4236 - accuracy: 0.8108 - val_loss: 0.3610 - val_accuracy: 0.9405\n",
            "Epoch 15/50\n",
            "24/24 [==============================] - 3s 86ms/step - loss: 0.4260 - accuracy: 0.8360 - val_loss: 0.3494 - val_accuracy: 0.9405\n",
            "Epoch 16/50\n",
            "24/24 [==============================] - 2s 86ms/step - loss: 0.3880 - accuracy: 0.8320 - val_loss: 0.3381 - val_accuracy: 0.9405\n",
            "Epoch 17/50\n",
            "24/24 [==============================] - 3s 87ms/step - loss: 0.3906 - accuracy: 0.8347 - val_loss: 0.3272 - val_accuracy: 0.9524\n",
            "Epoch 18/50\n",
            "24/24 [==============================] - 2s 86ms/step - loss: 0.3680 - accuracy: 0.8558 - val_loss: 0.3192 - val_accuracy: 0.9524\n",
            "Epoch 19/50\n",
            "24/24 [==============================] - 3s 85ms/step - loss: 0.3721 - accuracy: 0.8439 - val_loss: 0.3104 - val_accuracy: 0.9524\n",
            "Epoch 20/50\n",
            "24/24 [==============================] - 2s 85ms/step - loss: 0.3665 - accuracy: 0.8399 - val_loss: 0.3047 - val_accuracy: 0.9405\n",
            "Epoch 21/50\n",
            "24/24 [==============================] - 3s 86ms/step - loss: 0.3405 - accuracy: 0.8730 - val_loss: 0.2952 - val_accuracy: 0.9524\n",
            "Epoch 22/50\n",
            "24/24 [==============================] - 3s 86ms/step - loss: 0.3359 - accuracy: 0.8757 - val_loss: 0.2867 - val_accuracy: 0.9524\n",
            "Epoch 23/50\n",
            "24/24 [==============================] - 3s 87ms/step - loss: 0.3314 - accuracy: 0.8690 - val_loss: 0.2822 - val_accuracy: 0.9524\n",
            "Epoch 24/50\n",
            "24/24 [==============================] - 3s 86ms/step - loss: 0.3229 - accuracy: 0.8849 - val_loss: 0.2734 - val_accuracy: 0.9524\n",
            "Epoch 25/50\n",
            "24/24 [==============================] - 3s 87ms/step - loss: 0.3309 - accuracy: 0.8704 - val_loss: 0.2673 - val_accuracy: 0.9524\n",
            "Epoch 26/50\n",
            "24/24 [==============================] - 3s 87ms/step - loss: 0.3115 - accuracy: 0.8862 - val_loss: 0.2613 - val_accuracy: 0.9524\n",
            "Epoch 27/50\n",
            "24/24 [==============================] - 2s 85ms/step - loss: 0.2988 - accuracy: 0.8889 - val_loss: 0.2565 - val_accuracy: 0.9524\n",
            "Epoch 28/50\n",
            "24/24 [==============================] - 3s 87ms/step - loss: 0.3061 - accuracy: 0.8796 - val_loss: 0.2517 - val_accuracy: 0.9524\n",
            "Epoch 29/50\n",
            "24/24 [==============================] - 2s 86ms/step - loss: 0.2783 - accuracy: 0.9034 - val_loss: 0.2489 - val_accuracy: 0.9524\n",
            "Epoch 30/50\n",
            "24/24 [==============================] - 2s 85ms/step - loss: 0.2839 - accuracy: 0.9048 - val_loss: 0.2417 - val_accuracy: 0.9643\n",
            "Epoch 31/50\n",
            "24/24 [==============================] - 2s 83ms/step - loss: 0.2800 - accuracy: 0.9034 - val_loss: 0.2371 - val_accuracy: 0.9643\n",
            "Epoch 32/50\n",
            "24/24 [==============================] - 2s 85ms/step - loss: 0.2740 - accuracy: 0.9048 - val_loss: 0.2366 - val_accuracy: 0.9524\n",
            "Epoch 33/50\n",
            "24/24 [==============================] - 2s 85ms/step - loss: 0.2806 - accuracy: 0.9021 - val_loss: 0.2292 - val_accuracy: 0.9643\n",
            "Epoch 34/50\n",
            "24/24 [==============================] - 2s 85ms/step - loss: 0.2686 - accuracy: 0.8981 - val_loss: 0.2245 - val_accuracy: 0.9643\n",
            "Epoch 35/50\n",
            "24/24 [==============================] - 2s 84ms/step - loss: 0.2658 - accuracy: 0.9180 - val_loss: 0.2210 - val_accuracy: 0.9643\n",
            "Epoch 36/50\n",
            "24/24 [==============================] - 2s 85ms/step - loss: 0.2574 - accuracy: 0.9021 - val_loss: 0.2190 - val_accuracy: 0.9643\n",
            "Epoch 37/50\n",
            "24/24 [==============================] - 3s 85ms/step - loss: 0.2702 - accuracy: 0.9114 - val_loss: 0.2137 - val_accuracy: 0.9643\n",
            "Epoch 38/50\n",
            "24/24 [==============================] - 3s 87ms/step - loss: 0.2567 - accuracy: 0.9127 - val_loss: 0.2103 - val_accuracy: 0.9643\n",
            "Epoch 39/50\n",
            "24/24 [==============================] - 2s 84ms/step - loss: 0.2477 - accuracy: 0.9206 - val_loss: 0.2075 - val_accuracy: 0.9643\n",
            "Epoch 40/50\n",
            "24/24 [==============================] - 3s 86ms/step - loss: 0.2518 - accuracy: 0.9061 - val_loss: 0.2042 - val_accuracy: 0.9643\n",
            "Epoch 41/50\n",
            "24/24 [==============================] - 3s 87ms/step - loss: 0.2446 - accuracy: 0.9206 - val_loss: 0.2013 - val_accuracy: 0.9643\n",
            "Epoch 42/50\n",
            "24/24 [==============================] - 2s 86ms/step - loss: 0.2342 - accuracy: 0.9127 - val_loss: 0.1979 - val_accuracy: 0.9643\n",
            "Epoch 43/50\n",
            "24/24 [==============================] - 2s 82ms/step - loss: 0.2334 - accuracy: 0.9180 - val_loss: 0.1953 - val_accuracy: 0.9643\n",
            "Epoch 44/50\n",
            "24/24 [==============================] - 2s 85ms/step - loss: 0.2363 - accuracy: 0.9140 - val_loss: 0.1932 - val_accuracy: 0.9643\n",
            "Epoch 45/50\n",
            "24/24 [==============================] - 3s 87ms/step - loss: 0.2370 - accuracy: 0.9101 - val_loss: 0.1911 - val_accuracy: 0.9643\n",
            "Epoch 46/50\n",
            "24/24 [==============================] - 3s 87ms/step - loss: 0.2178 - accuracy: 0.9312 - val_loss: 0.1877 - val_accuracy: 0.9643\n",
            "Epoch 47/50\n",
            "24/24 [==============================] - 2s 84ms/step - loss: 0.2287 - accuracy: 0.9206 - val_loss: 0.1855 - val_accuracy: 0.9643\n",
            "Epoch 48/50\n",
            "24/24 [==============================] - 2s 84ms/step - loss: 0.2263 - accuracy: 0.9193 - val_loss: 0.1835 - val_accuracy: 0.9643\n",
            "Epoch 49/50\n",
            "24/24 [==============================] - 3s 87ms/step - loss: 0.2288 - accuracy: 0.9259 - val_loss: 0.1806 - val_accuracy: 0.9643\n",
            "Epoch 50/50\n",
            "24/24 [==============================] - 3s 86ms/step - loss: 0.2129 - accuracy: 0.9312 - val_loss: 0.1787 - val_accuracy: 0.9643\n",
            "CPU times: user 1min 56s, sys: 11.7 s, total: 2min 8s\n",
            "Wall time: 2min 12s\n"
          ]
        }
      ]
    },
    {
      "cell_type": "markdown",
      "source": [
        "### 4.4.3 Evaluate Model\n",
        "\n",
        "[back to top](#top)"
      ],
      "metadata": {
        "id": "z7MXlVkuhmWv"
      }
    },
    {
      "cell_type": "code",
      "source": [
        "predictions = model.predict(test_set_tf).argmax(axis=1)\n",
        "labels = np.array([])\n",
        "for x, y in ds_test_:\n",
        "  labels = np.concatenate([labels, tf.squeeze(y.numpy()).numpy()])\n",
        "print(classification_report(labels,predictions))\n",
        "plt.figure(figsize=(10,6))\n",
        "sns.heatmap(confusion_matrix(labels,predictions), annot=True)"
      ],
      "metadata": {
        "id": "4vEm2eq3kIzR",
        "colab": {
          "base_uri": "https://localhost:8080/",
          "height": 618
        },
        "outputId": "cce92c96-8410-4a90-955b-29fc7e13bc2d"
      },
      "execution_count": 188,
      "outputs": [
        {
          "output_type": "stream",
          "name": "stdout",
          "text": [
            "              precision    recall  f1-score   support\n",
            "\n",
            "         0.0       0.97      0.92      0.95       416\n",
            "         1.0       0.89      0.95      0.92       262\n",
            "\n",
            "    accuracy                           0.94       678\n",
            "   macro avg       0.93      0.94      0.93       678\n",
            "weighted avg       0.94      0.94      0.94       678\n",
            "\n"
          ]
        },
        {
          "output_type": "execute_result",
          "data": {
            "text/plain": [
              "<matplotlib.axes._subplots.AxesSubplot at 0x7f5da2e393d0>"
            ]
          },
          "metadata": {},
          "execution_count": 188
        },
        {
          "output_type": "display_data",
          "data": {
            "image/png": "[encoded data removed]",
            "text/plain": [
              "<Figure size 720x432 with 2 Axes>"
            ]
          },
          "metadata": {
            "needs_background": "light"
          }
        }
      ]
    },
    {
      "cell_type": "markdown",
      "source": [
        "### 🏋️ Exercise 4: Transfer Learn with other Base Models\n",
        "\n",
        "visit [keras](https://www.tensorflow.org/api_docs/python/tf/keras/applications) and read about 2-3 of the available models. Choose one and reimplement our transfer learning procedure from above!"
      ],
      "metadata": {
        "id": "2Ma3yiKq-SrZ"
      }
    },
    {
      "cell_type": "code",
      "source": [
        "# Code cell for exercise 4"
      ],
      "metadata": {
        "id": "e7-kx-ZZ-dJy"
      },
      "execution_count": 189,
      "outputs": []
    },
    {
      "cell_type": "markdown",
      "source": [
        "## 4.5 Augmentation + Transfer Learning\n",
        "\n",
        "[back to top](#top)"
      ],
      "metadata": {
        "id": "xM4ucqqN1oHT"
      }
    },
    {
      "cell_type": "code",
      "source": [
        "### COMPONENTS (IN ORDER)\n",
        "resize = layers.experimental.preprocessing.Resizing(224,224)\n",
        "preprocess_input_fn = tf.keras.applications.mobilenet_v2.preprocess_input \n",
        "base_model = tf.keras.applications.MobileNetV2(input_shape=(224,224,3),\n",
        "                                               include_top=False,\n",
        "                                               weights='imagenet')\n",
        "base_model.trainable=False\n",
        "global_average_layer = tf.keras.layers.GlobalAveragePooling2D()\n",
        "prediction_layer = tf.keras.layers.Dense(len(classes))\n",
        "\n",
        "aug1 = preprocessing.RandomFlip('horizontal', seed=seed_value) # flip left-to-right\n",
        "aug2 = preprocessing.RandomFlip('vertical', seed=seed_value)\n",
        "aug3 = preprocessing.RandomContrast(0.2, seed=seed_value)\n",
        "aug4 = preprocessing.RandomRotation(factor=0.25, fill_mode='constant', seed=seed_value)\n",
        "\n",
        "### MODEL\n",
        "inputs = tf.keras.Input(shape=image_shape)\n",
        "x = aug1(inputs)\n",
        "x = aug2(x)\n",
        "x = aug3(x)\n",
        "x = aug4(x)\n",
        "x = resize(x)\n",
        "x = preprocess_input_fn(x)\n",
        "x = base_model(x, training=False)\n",
        "x = global_average_layer(x)\n",
        "x = tf.keras.layers.Dropout(0.2)(x)\n",
        "outputs = prediction_layer(x)\n",
        "\n",
        "model = tf.keras.Model(inputs, outputs)"
      ],
      "metadata": {
        "id": "Nc1H-srM18qo"
      },
      "execution_count": 194,
      "outputs": []
    },
    {
      "cell_type": "code",
      "source": [
        "base_learning_rate = 0.0001\n",
        "model.compile(optimizer=tf.keras.optimizers.Adam(lr=base_learning_rate),\n",
        "              loss=tf.keras.losses.SparseCategoricalCrossentropy(from_logits=True),\n",
        "              metrics=['accuracy'])\n",
        "\n",
        "early_stop = EarlyStopping(monitor='val_loss',\n",
        "                           patience=5,\n",
        "                           restore_best_weights=True,)\n",
        "model.summary()"
      ],
      "metadata": {
        "colab": {
          "base_uri": "https://localhost:8080/"
        },
        "id": "NXofLiF92piH",
        "outputId": "09c20249-6d5d-48e8-ab98-0e011954be38"
      },
      "execution_count": 195,
      "outputs": [
        {
          "output_type": "stream",
          "name": "stdout",
          "text": [
            "Model: \"model_2\"\n",
            "_________________________________________________________________\n",
            " Layer (type)                Output Shape              Param #   \n",
            "=================================================================\n",
            " input_12 (InputLayer)       [(None, 300, 300, 3)]     0         \n",
            "                                                                 \n",
            " random_flip_4 (RandomFlip)  (None, 300, 300, 3)       0         \n",
            "                                                                 \n",
            " random_flip_5 (RandomFlip)  (None, 300, 300, 3)       0         \n",
            "                                                                 \n",
            " random_contrast_2 (RandomCo  (None, 300, 300, 3)      0         \n",
            " ntrast)                                                         \n",
            "                                                                 \n",
            " random_rotation_2 (RandomRo  (None, 300, 300, 3)      0         \n",
            " tation)                                                         \n",
            "                                                                 \n",
            " resizing_2 (Resizing)       (None, 224, 224, 3)       0         \n",
            "                                                                 \n",
            " tf.math.truediv_2 (TFOpLamb  (None, 224, 224, 3)      0         \n",
            " da)                                                             \n",
            "                                                                 \n",
            " tf.math.subtract_2 (TFOpLam  (None, 224, 224, 3)      0         \n",
            " bda)                                                            \n",
            "                                                                 \n",
            " mobilenetv2_1.00_224 (Funct  (None, 7, 7, 1280)       2257984   \n",
            " ional)                                                          \n",
            "                                                                 \n",
            " global_average_pooling2d_2   (None, 1280)             0         \n",
            " (GlobalAveragePooling2D)                                        \n",
            "                                                                 \n",
            " dropout_2 (Dropout)         (None, 1280)              0         \n",
            "                                                                 \n",
            " dense_14 (Dense)            (None, 2)                 2562      \n",
            "                                                                 \n",
            "=================================================================\n",
            "Total params: 2,260,546\n",
            "Trainable params: 2,562\n",
            "Non-trainable params: 2,257,984\n",
            "_________________________________________________________________\n"
          ]
        },
        {
          "output_type": "stream",
          "name": "stderr",
          "text": [
            "/usr/local/lib/python3.7/dist-packages/keras/optimizer_v2/adam.py:105: UserWarning: The `lr` argument is deprecated, use `learning_rate` instead.\n",
            "  super(Adam, self).__init__(name, **kwargs)\n"
          ]
        }
      ]
    },
    {
      "cell_type": "code",
      "source": [
        "%%time\n",
        "with tf.device('/device:GPU:0'):\n",
        "  results = model.fit(train_set_tf,\n",
        "                      epochs=60,\n",
        "                      validation_data=val_set_tf,\n",
        "                      callbacks=[early_stop]\n",
        "                      )"
      ],
      "metadata": {
        "colab": {
          "base_uri": "https://localhost:8080/"
        },
        "id": "UPcLWX6T2yf_",
        "outputId": "6f7e0669-64b6-4be8-beb5-c32d3c22c1c4"
      },
      "execution_count": 196,
      "outputs": [
        {
          "output_type": "stream",
          "name": "stdout",
          "text": [
            "Epoch 1/60\n",
            "24/24 [==============================] - 6s 121ms/step - loss: 1.1031 - accuracy: 0.4749 - val_loss: 0.7784 - val_accuracy: 0.4405\n",
            "Epoch 2/60\n",
            "24/24 [==============================] - 3s 91ms/step - loss: 0.9019 - accuracy: 0.4272 - val_loss: 0.7770 - val_accuracy: 0.5000\n",
            "Epoch 3/60\n",
            "24/24 [==============================] - 3s 91ms/step - loss: 0.8208 - accuracy: 0.4828 - val_loss: 0.7223 - val_accuracy: 0.5238\n",
            "Epoch 4/60\n",
            "24/24 [==============================] - 3s 91ms/step - loss: 0.7530 - accuracy: 0.5397 - val_loss: 0.6936 - val_accuracy: 0.5476\n",
            "Epoch 5/60\n",
            "24/24 [==============================] - 3s 92ms/step - loss: 0.7356 - accuracy: 0.5331 - val_loss: 0.6617 - val_accuracy: 0.5595\n",
            "Epoch 6/60\n",
            "24/24 [==============================] - 3s 91ms/step - loss: 0.6974 - accuracy: 0.5714 - val_loss: 0.6388 - val_accuracy: 0.5595\n",
            "Epoch 7/60\n",
            "24/24 [==============================] - 3s 88ms/step - loss: 0.6557 - accuracy: 0.5992 - val_loss: 0.6129 - val_accuracy: 0.5833\n",
            "Epoch 8/60\n",
            "24/24 [==============================] - 3s 90ms/step - loss: 0.6464 - accuracy: 0.6204 - val_loss: 0.5881 - val_accuracy: 0.6071\n",
            "Epoch 9/60\n",
            "24/24 [==============================] - 3s 91ms/step - loss: 0.6505 - accuracy: 0.6270 - val_loss: 0.5684 - val_accuracy: 0.6190\n",
            "Epoch 10/60\n",
            "24/24 [==============================] - 3s 88ms/step - loss: 0.5987 - accuracy: 0.6825 - val_loss: 0.5476 - val_accuracy: 0.6429\n",
            "Epoch 11/60\n",
            "24/24 [==============================] - 3s 90ms/step - loss: 0.5892 - accuracy: 0.6799 - val_loss: 0.5371 - val_accuracy: 0.6667\n",
            "Epoch 12/60\n",
            "24/24 [==============================] - 3s 91ms/step - loss: 0.5802 - accuracy: 0.6878 - val_loss: 0.5172 - val_accuracy: 0.6786\n",
            "Epoch 13/60\n",
            "24/24 [==============================] - 3s 88ms/step - loss: 0.5232 - accuracy: 0.7368 - val_loss: 0.5266 - val_accuracy: 0.6429\n",
            "Epoch 14/60\n",
            "24/24 [==============================] - 3s 92ms/step - loss: 0.5486 - accuracy: 0.7209 - val_loss: 0.4909 - val_accuracy: 0.6905\n",
            "Epoch 15/60\n",
            "24/24 [==============================] - 3s 91ms/step - loss: 0.5099 - accuracy: 0.7646 - val_loss: 0.4740 - val_accuracy: 0.7143\n",
            "Epoch 16/60\n",
            "24/24 [==============================] - 3s 88ms/step - loss: 0.5121 - accuracy: 0.7646 - val_loss: 0.4817 - val_accuracy: 0.6786\n",
            "Epoch 17/60\n",
            "24/24 [==============================] - 3s 90ms/step - loss: 0.4991 - accuracy: 0.7474 - val_loss: 0.4570 - val_accuracy: 0.7143\n",
            "Epoch 18/60\n",
            "24/24 [==============================] - 3s 87ms/step - loss: 0.4878 - accuracy: 0.7672 - val_loss: 0.4622 - val_accuracy: 0.7024\n",
            "Epoch 19/60\n",
            "24/24 [==============================] - 3s 89ms/step - loss: 0.4743 - accuracy: 0.7765 - val_loss: 0.4435 - val_accuracy: 0.7262\n",
            "Epoch 20/60\n",
            "24/24 [==============================] - 3s 88ms/step - loss: 0.4661 - accuracy: 0.7817 - val_loss: 0.4437 - val_accuracy: 0.7024\n",
            "Epoch 21/60\n",
            "24/24 [==============================] - 3s 91ms/step - loss: 0.4671 - accuracy: 0.7778 - val_loss: 0.4418 - val_accuracy: 0.7024\n",
            "Epoch 22/60\n",
            "24/24 [==============================] - 3s 89ms/step - loss: 0.4482 - accuracy: 0.7923 - val_loss: 0.4256 - val_accuracy: 0.7143\n",
            "Epoch 23/60\n",
            "24/24 [==============================] - 3s 89ms/step - loss: 0.4478 - accuracy: 0.7870 - val_loss: 0.4289 - val_accuracy: 0.7143\n",
            "Epoch 24/60\n",
            "24/24 [==============================] - 3s 89ms/step - loss: 0.4124 - accuracy: 0.8214 - val_loss: 0.4237 - val_accuracy: 0.7143\n",
            "Epoch 25/60\n",
            "24/24 [==============================] - 3s 88ms/step - loss: 0.4250 - accuracy: 0.8108 - val_loss: 0.4386 - val_accuracy: 0.7024\n",
            "Epoch 26/60\n",
            "24/24 [==============================] - 3s 87ms/step - loss: 0.4200 - accuracy: 0.8135 - val_loss: 0.4328 - val_accuracy: 0.7024\n",
            "Epoch 27/60\n",
            "24/24 [==============================] - 3s 89ms/step - loss: 0.4195 - accuracy: 0.8122 - val_loss: 0.4139 - val_accuracy: 0.7381\n",
            "Epoch 28/60\n",
            "24/24 [==============================] - 3s 91ms/step - loss: 0.4117 - accuracy: 0.8095 - val_loss: 0.4071 - val_accuracy: 0.7500\n",
            "Epoch 29/60\n",
            "24/24 [==============================] - 3s 90ms/step - loss: 0.3885 - accuracy: 0.8148 - val_loss: 0.3953 - val_accuracy: 0.7857\n",
            "Epoch 30/60\n",
            "24/24 [==============================] - 3s 87ms/step - loss: 0.3774 - accuracy: 0.8452 - val_loss: 0.4010 - val_accuracy: 0.7619\n",
            "Epoch 31/60\n",
            "24/24 [==============================] - 3s 88ms/step - loss: 0.3639 - accuracy: 0.8505 - val_loss: 0.4008 - val_accuracy: 0.7500\n",
            "Epoch 32/60\n",
            "24/24 [==============================] - 3s 88ms/step - loss: 0.3964 - accuracy: 0.8228 - val_loss: 0.3962 - val_accuracy: 0.7500\n",
            "Epoch 33/60\n",
            "24/24 [==============================] - 3s 88ms/step - loss: 0.3644 - accuracy: 0.8320 - val_loss: 0.4159 - val_accuracy: 0.7381\n",
            "Epoch 34/60\n",
            "24/24 [==============================] - 3s 90ms/step - loss: 0.3711 - accuracy: 0.8466 - val_loss: 0.3758 - val_accuracy: 0.8095\n",
            "Epoch 35/60\n",
            "24/24 [==============================] - 3s 86ms/step - loss: 0.3525 - accuracy: 0.8664 - val_loss: 0.3887 - val_accuracy: 0.7857\n",
            "Epoch 36/60\n",
            "24/24 [==============================] - 3s 88ms/step - loss: 0.3470 - accuracy: 0.8571 - val_loss: 0.3953 - val_accuracy: 0.7500\n",
            "Epoch 37/60\n",
            "24/24 [==============================] - 3s 88ms/step - loss: 0.3574 - accuracy: 0.8664 - val_loss: 0.3570 - val_accuracy: 0.8214\n",
            "Epoch 38/60\n",
            "24/24 [==============================] - 3s 87ms/step - loss: 0.3385 - accuracy: 0.8558 - val_loss: 0.3633 - val_accuracy: 0.8214\n",
            "Epoch 39/60\n",
            "24/24 [==============================] - 3s 88ms/step - loss: 0.3500 - accuracy: 0.8532 - val_loss: 0.3698 - val_accuracy: 0.8214\n",
            "Epoch 40/60\n",
            "24/24 [==============================] - 3s 85ms/step - loss: 0.3328 - accuracy: 0.8704 - val_loss: 0.3601 - val_accuracy: 0.8214\n",
            "Epoch 41/60\n",
            "24/24 [==============================] - 3s 87ms/step - loss: 0.3434 - accuracy: 0.8611 - val_loss: 0.3646 - val_accuracy: 0.8214\n",
            "Epoch 42/60\n",
            "24/24 [==============================] - 3s 90ms/step - loss: 0.3339 - accuracy: 0.8690 - val_loss: 0.3656 - val_accuracy: 0.8095\n",
            "CPU times: user 1min 40s, sys: 10.3 s, total: 1min 50s\n",
            "Wall time: 2min 38s\n"
          ]
        }
      ]
    },
    {
      "cell_type": "code",
      "source": [
        "predictions = model.predict(test_set_tf).argmax(axis=1)\n",
        "labels = np.array([])\n",
        "for x, y in ds_test_:\n",
        "  labels = np.concatenate([labels, tf.squeeze(y.numpy()).numpy()])\n",
        "print(classification_report(labels,predictions))\n",
        "plt.figure(figsize=(10,6))\n",
        "sns.heatmap(confusion_matrix(labels,predictions), annot=True)"
      ],
      "metadata": {
        "colab": {
          "base_uri": "https://localhost:8080/",
          "height": 618
        },
        "id": "HoJgx1A03ma9",
        "outputId": "4963191f-f7db-4a1f-84a6-e9f79822bebd"
      },
      "execution_count": 197,
      "outputs": [
        {
          "output_type": "stream",
          "name": "stdout",
          "text": [
            "              precision    recall  f1-score   support\n",
            "\n",
            "         0.0       0.78      1.00      0.88       416\n",
            "         1.0       0.99      0.56      0.72       262\n",
            "\n",
            "    accuracy                           0.83       678\n",
            "   macro avg       0.88      0.78      0.80       678\n",
            "weighted avg       0.86      0.83      0.81       678\n",
            "\n"
          ]
        },
        {
          "output_type": "execute_result",
          "data": {
            "text/plain": [
              "<matplotlib.axes._subplots.AxesSubplot at 0x7f5eb6a05a10>"
            ]
          },
          "metadata": {},
          "execution_count": 197
        },
        {
          "output_type": "display_data",
          "data": {
            "image/png": "[encoded data removed]",
            "text/plain": [
              "<Figure size 720x432 with 2 Axes>"
            ]
          },
          "metadata": {
            "needs_background": "light"
          }
        }
      ]
    },
    {
      "cell_type": "markdown",
      "source": [
        "## 4.6 Summary\n",
        "\n",
        "[back to top](#top)\n",
        "\n",
        "If you ran this notebook as-is you should've gotten something similar to the following table\n",
        "\n",
        "| Data Handling | Model       | Data Augmentation | Weighted F1 | Training Time (min:sec) |\n",
        "|---------------|-------------|-------------------|-------------|-------------------------|\n",
        "| ImageDataGenerator         | CNN         | No                | 0.96        | 1:00                    |\n",
        "| from_directory    | CNN         | No                | 0.86        | 0:39                    |\n",
        "| from_tensor  | CNN         | No                | 0.77        | 0:47                    |\n",
        "| from_directory    | CNN         | Yes               | 0.93        | 2:04                    |\n",
        "| from_directory    | MobileNetV2 | No                | 0.94        | 3:41                    |\n",
        "\n",
        "In conclusion, we can see an appreciable difference in speed when we decide to transfer learn or augment the original dataset. Curiously, Loading our data with scikit-image gives us the best performance in our custom CNN model."
      ],
      "metadata": {
        "id": "2Qv4EFHpfxAu"
      }
    }
  ]
}