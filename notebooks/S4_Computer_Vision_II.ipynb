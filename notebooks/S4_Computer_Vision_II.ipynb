{
  "nbformat": 4,
  "nbformat_minor": 0,
  "metadata": {
    "colab": {
      "name": "S4_Computer_Vision_II.ipynb",
      "provenance": [],
      "collapsed_sections": [],
      "include_colab_link": true
    },
    "kernelspec": {
      "name": "python3",
      "display_name": "Python 3"
    },
    "language_info": {
      "name": "python"
    },
    "accelerator": "GPU"
  },
  "cells": [
    {
      "cell_type": "markdown",
      "metadata": {
        "id": "view-in-github",
        "colab_type": "text"
      },
      "source": [
        "<a href=\"https://colab.research.google.com/github/wesleybeckner/general_applications_of_neural_networks/blob/main/notebooks/S4_Computer_Vision_II.ipynb\" target=\"_parent\"><img src=\"https://colab.research.google.com/assets/colab-badge.svg\" alt=\"Open In Colab\"/></a>"
      ]
    },
    {
      "cell_type": "markdown",
      "metadata": {
        "id": "vhe1yX4AMckE"
      },
      "source": [
        "# General Applications of Neural Networks <br> Session 4: Computer Vision Part 2 (Defect Detection Case Study)\n",
        "\n",
        "**Instructor**: Wesley Beckner\n",
        "\n",
        "**Contact**: wesleybeckner@gmail.com\n",
        "\n",
        "---\n",
        "\n",
        "<br>\n",
        "\n",
        "In this session we will continue with our exploration of CNNs. In the previous session we discussed three flagship layers for the CNN: convolution ReLU and maximum pooling. Here we'll discuss the sliding window, how to build your custom CNN, and data augmentation for images.\n",
        "\n",
        "<br>\n",
        "\n",
        "_images in this notebook borrowed from [Ryan Holbrook](https://mathformachines.com/)_\n",
        "\n",
        "For more information on the dataset we are using today watch this [video](https://www.youtube.com/watch?v=4sDfwS48p0A)\n",
        "\n",
        "\n",
        "---\n",
        "\n",
        "<br>\n",
        "\n",
        "<a name='top'></a>"
      ]
    },
    {
      "cell_type": "markdown",
      "metadata": {
        "id": "mNtJitcRW51Y"
      },
      "source": [
        "<a name='x.0'></a>\n",
        "\n",
        "## 4.0 Preparing Environment and Importing Data\n",
        "\n",
        "[back to top](#top)"
      ]
    },
    {
      "cell_type": "markdown",
      "metadata": {
        "id": "Mv2n4nFG5T9P"
      },
      "source": [
        "<a name='x.0.1'></a>\n",
        "\n",
        "### 4.0.1 Enabling and testing the GPU\n",
        "\n",
        "[back to top](#top)\n",
        "\n",
        "First, you'll need to enable GPUs for the notebook:\n",
        "\n",
        "- Navigate to Edit→Notebook Settings\n",
        "- select GPU from the Hardware Accelerator drop-down\n",
        "\n",
        "Next, we'll confirm that we can connect to the GPU with tensorflow:"
      ]
    },
    {
      "cell_type": "code",
      "metadata": {
        "colab": {
          "base_uri": "https://localhost:8080/"
        },
        "id": "XkmOVrmo5HRN",
        "outputId": "595a2151-1c44-40a4-fd78-fe39582cbd33"
      },
      "source": [
        "%tensorflow_version 2.x\n",
        "import tensorflow as tf\n",
        "device_name = tf.test.gpu_device_name()\n",
        "if device_name != '/device:GPU:0':\n",
        "  raise SystemError('GPU device not found')\n",
        "print('Found GPU at: {}'.format(device_name))"
      ],
      "execution_count": null,
      "outputs": [
        {
          "output_type": "stream",
          "name": "stdout",
          "text": [
            "Found GPU at: /device:GPU:0\n"
          ]
        }
      ]
    },
    {
      "cell_type": "markdown",
      "metadata": {
        "id": "BcFxj2krIp3g"
      },
      "source": [
        "<a name='x.0.2'></a>\n",
        "\n",
        "### 4.0.2 Observe TensorFlow speedup on GPU relative to CPU\n",
        "\n",
        "[back to top](#top)\n",
        "\n",
        "This example constructs a typical convolutional neural network layer over a\n",
        "random image and manually places the resulting ops on either the CPU or the GPU\n",
        "to compare execution speed."
      ]
    },
    {
      "cell_type": "code",
      "source": [
        "%tensorflow_version 2.x\n",
        "import tensorflow as tf\n",
        "import timeit\n",
        "\n",
        "device_name = tf.test.gpu_device_name()\n",
        "if device_name != '/device:GPU:0':\n",
        "  print(\n",
        "      '\\n\\nThis error most likely means that this notebook is not '\n",
        "      'configured to use a GPU.  Change this in Notebook Settings via the '\n",
        "      'command palette (cmd/ctrl-shift-P) or the Edit menu.\\n\\n')\n",
        "  raise SystemError('GPU device not found')\n",
        "\n",
        "def cpu():\n",
        "  with tf.device('/cpu:0'):\n",
        "    random_image_cpu = tf.random.normal((100, 100, 100, 3))\n",
        "    net_cpu = tf.keras.layers.Conv2D(32, 7)(random_image_cpu)\n",
        "    return tf.math.reduce_sum(net_cpu)\n",
        "\n",
        "def gpu():\n",
        "  with tf.device('/device:GPU:0'):\n",
        "    random_image_gpu = tf.random.normal((100, 100, 100, 3))\n",
        "    net_gpu = tf.keras.layers.Conv2D(32, 7)(random_image_gpu)\n",
        "    return tf.math.reduce_sum(net_gpu)\n",
        "  \n",
        "# We run each op once to warm up; see: https://stackoverflow.com/a/45067900\n",
        "cpu()\n",
        "gpu()\n",
        "\n",
        "# Run the op several times.\n",
        "print('Time (s) to convolve 32x7x7x3 filter over random 100x100x100x3 images '\n",
        "      '(batch x height x width x channel). Sum of ten runs.')\n",
        "print('CPU (s):')\n",
        "cpu_time = timeit.timeit('cpu()', number=10, setup=\"from __main__ import cpu\")\n",
        "print(cpu_time)\n",
        "print('GPU (s):')\n",
        "gpu_time = timeit.timeit('gpu()', number=10, setup=\"from __main__ import gpu\")\n",
        "print(gpu_time)\n",
        "print('GPU speedup over CPU: {}x'.format(int(cpu_time/gpu_time)))"
      ],
      "metadata": {
        "colab": {
          "base_uri": "https://localhost:8080/"
        },
        "id": "0oUEiO4hoPds",
        "outputId": "df16052f-759f-44bf-f8d3-e1054c953e58"
      },
      "execution_count": null,
      "outputs": [
        {
          "output_type": "stream",
          "name": "stdout",
          "text": [
            "Time (s) to convolve 32x7x7x3 filter over random 100x100x100x3 images (batch x height x width x channel). Sum of ten runs.\n",
            "CPU (s):\n",
            "3.6013758809995124\n",
            "GPU (s):\n",
            "0.05695467800069309\n",
            "GPU speedup over CPU: 63x\n"
          ]
        }
      ]
    },
    {
      "cell_type": "markdown",
      "metadata": {
        "id": "chdcBoBL8SNm"
      },
      "source": [
        "<a name='x.0.3'></a>\n",
        "\n",
        "### 4.0.3 Import Packages\n",
        "\n",
        "[back to top](#top)"
      ]
    },
    {
      "cell_type": "code",
      "source": [
        "# clear memory from cpu/gpu task (skimage load method is ram intensive)\n",
        "import gc\n",
        "gc.collect()"
      ],
      "metadata": {
        "colab": {
          "base_uri": "https://localhost:8080/"
        },
        "id": "RpDLvkC-LscQ",
        "outputId": "7e1d7294-7156-4bdd-eea8-de6bcefe1f15"
      },
      "execution_count": null,
      "outputs": [
        {
          "output_type": "execute_result",
          "data": {
            "text/plain": [
              "3"
            ]
          },
          "metadata": {},
          "execution_count": 1
        }
      ]
    },
    {
      "cell_type": "code",
      "metadata": {
        "id": "AvkPKLbOmtox"
      },
      "source": [
        "import os\n",
        "import pandas as pd\n",
        "import numpy as np\n",
        "import seaborn as sns\n",
        "import matplotlib.pyplot as plt\n",
        "from skimage import io, feature, filters, exposure, color\n",
        "from skimage.transform import rescale, resize\n",
        "from sklearn.metrics import classification_report,confusion_matrix\n",
        "\n",
        "#importing required tf libraries\n",
        "import tensorflow as tf\n",
        "from tensorflow.keras import layers\n",
        "from tensorflow.keras.layers import Activation, Dropout, Flatten, Dense, Conv2D, MaxPooling2D, InputLayer\n",
        "from tensorflow.data.experimental import AUTOTUNE\n",
        "from tensorflow.keras.preprocessing import image_dataset_from_directory\n",
        "from tensorflow.keras.preprocessing.image import ImageDataGenerator, load_img, img_to_array\n",
        "from tensorflow.keras.models import Sequential\n",
        "from tensorflow.keras.callbacks import EarlyStopping"
      ],
      "execution_count": null,
      "outputs": []
    },
    {
      "cell_type": "code",
      "metadata": {
        "colab": {
          "base_uri": "https://localhost:8080/"
        },
        "id": "ezGii7Nu1mju",
        "outputId": "7e4939a3-1553-4bc9-9d0c-17cc33ae02dd"
      },
      "source": [
        "# Sync your google drive folder\n",
        "from google.colab import drive\n",
        "drive.mount(\"/content/drive\")"
      ],
      "execution_count": null,
      "outputs": [
        {
          "output_type": "stream",
          "name": "stdout",
          "text": [
            "Drive already mounted at /content/drive; to attempt to forcibly remount, call drive.mount(\"/content/drive\", force_remount=True).\n"
          ]
        }
      ]
    },
    {
      "cell_type": "markdown",
      "metadata": {
        "id": "R7vDY-8U8SWd"
      },
      "source": [
        "<a name='x.0.4'></a>\n",
        "\n",
        "### 4.0.4 Load Dataset\n",
        "\n",
        "[back to top](#top)\n",
        "\n",
        "We will actually take a beat here today. When we started building our ML frameworks, we simply wanted our data in a numpy array to feed it into our pipeline. At some point, especially when working with images, the data becomes too large to fit into memory. For this reason we need an alternative way to import our data. With the merger of keras/tf two popular frameworks became available, `ImageDataGenerator` and `image_dataset_from_directory` both under `tf.keras.preprocessing.image`. `image_dataset_from_directory` can sometimes be faster (tf origin) but `ImageDataGenerator` is a lot simpler to use and has on-the-fly data augmentation capability (keras).\n",
        "\n",
        "For a full comparison of methods visit [this link](https://towardsdatascience.com/what-is-the-best-input-pipeline-to-train-image-classification-models-with-tf-keras-eb3fe26d3cc5)"
      ]
    },
    {
      "cell_type": "markdown",
      "source": [
        "#### 4.0.4.0 Define Global Parameters\n",
        "\n",
        "[back to top](#top)"
      ],
      "metadata": {
        "id": "0m44ClC1X1YY"
      }
    },
    {
      "cell_type": "code",
      "source": [
        "# full dataset can be attained from kaggle if you are interested\n",
        "# https://www.kaggle.com/ravirajsinh45/real-life-industrial-dataset-of-casting-product?select=casting_data\n",
        "\n",
        "# set global parameters for all import dataset methods\n",
        "image_shape = (300,300,3) # the images actually are 300,300,3\n",
        "batch_size = 32\n",
        "validation_split = 0.1\n",
        "\n",
        "path_to_casting_data = '/content/drive/MyDrive/courses/tech_fundamentals/TECH_FUNDAMENTALS/data/casting_data_class_practice'\n",
        "technocast_train_path = path_to_casting_data + '/train/'\n",
        "technocast_test_path = path_to_casting_data + '/test/'"
      ],
      "metadata": {
        "id": "TxIdmsAgSUWc"
      },
      "execution_count": null,
      "outputs": []
    },
    {
      "cell_type": "markdown",
      "source": [
        "#### 4.0.4.1 Loading data with skimage\n",
        "\n",
        "[back to top](#top)"
      ],
      "metadata": {
        "id": "7n1TkYeCCB5r"
      }
    },
    {
      "cell_type": "code",
      "source": [
        "class MyImageLoader: \n",
        "    def __init__(self):\n",
        "        self.classifer = None\n",
        "        self.folder = path_to_casting_data\n",
        "\n",
        "    def imread_convert(self, f):\n",
        "        return io.imread(f).astype(np.uint8)\n",
        "\n",
        "    def load_data_from_folder(self, dir):\n",
        "        # read all images into an image \n",
        "        if type(dir) != list:\n",
        "          ic = io.ImageCollection(self.folder + dir + \"*.bmp\",\n",
        "                                  load_func=self.imread_convert)\n",
        "        else:\n",
        "          dir1 = dir[0]\n",
        "          dir2 = dir[1]\n",
        "          ic = io.ImageCollection(self.folder + dir1 + \"*.jpeg:\" + self.folder + dir2 + \"*.jpeg\",\n",
        "                                load_func=self.imread_convert)\n",
        "        \n",
        "        #create one large array of image data\n",
        "        data = io.concatenate_images(ic)\n",
        "\n",
        "        #resize to target shape\n",
        "        # data = resize(data, (data.shape[0], *image_shape[:2])) #uncomment if you need to resize images\n",
        "        \n",
        "        #extract labels from image names\n",
        "        labels = np.array(ic.files)\n",
        "        for i, f in enumerate(labels):\n",
        "            labels[i] = '_'.join(f.split('/')[-1].split('_')[:2])\n",
        "            # print(f, labels[i])\n",
        "        return(data,labels)\n",
        "\n",
        "# Create an object of the class `MyImageLoader`\n",
        "img_clf = MyImageLoader()\n",
        "\n",
        "# load images\n",
        "(train_val_raw, train_val_labels) = img_clf.load_data_from_folder(['/train/ok_front/', '/train/def_front/'])\n",
        "(test_raw, test_labels) = img_clf.load_data_from_folder(['/test/ok_front/', '/test/def_front/'])\n",
        "\n",
        "classes = list(np.unique(train_val_labels))\n",
        "print(f\"Classes: {classes}\")\n",
        "print(\"train and validation labels: {}\".format(len(train_val_labels)))\n",
        "print(\"test labels: {}\".format(len(test_labels)))\n",
        "\n",
        "# convert labels to numeric\n",
        "for i in range(len(classes)):\n",
        "    train_val_labels[train_val_labels == classes[i]] = i\n",
        "    test_labels[test_labels == classes[i]] = i\n",
        "\n",
        "train_val_labels = train_val_labels.astype(float)\n",
        "test_labels = test_labels.astype(float)\n",
        "\n",
        "# create train/val/test and shuffle\n",
        "train_val_dataset = tf.data.Dataset.from_tensor_slices((train_val_raw, train_val_labels)) \n",
        "# shuffling the `train+val` dataset before separating them\n",
        "train_val_dataset = train_val_dataset.shuffle(buffer_size=len(train_val_dataset), seed=12)\n",
        "\n",
        "# use validation_split\n",
        "val_len = int(validation_split * len(train_val_raw))\n",
        "val_dataset = train_val_dataset.take(val_len)\n",
        "train_dataset = train_val_dataset.skip(val_len)\n",
        "\n",
        "test_dataset = tf.data.Dataset.from_tensor_slices((test_raw, test_labels)) \n",
        "# test_dataset = test_dataset.shuffle(buffer_size=len(test_dataset), seed=12)        \n",
        "\n",
        "print(f\"Train size: {len(train_dataset)}\\nVal size: {len(val_dataset)}\\nTest size: {len(test_dataset)}\")\n",
        "\n",
        "# batch the data\n",
        "train_dataset_batched = train_dataset.batch(batch_size)\n",
        "val_dataset_batched = val_dataset.batch(batch_size)\n",
        "test_dataset_batched = test_dataset.batch(batch_size)\n",
        "\n",
        "print(f\"Train batches: {len(train_dataset_batched)}\\nVal batches: {len(val_dataset_batched)}\\nTest batches: {len(test_dataset_batched)}\")"
      ],
      "metadata": {
        "id": "cjt_SpvFCHMZ",
        "colab": {
          "base_uri": "https://localhost:8080/"
        },
        "outputId": "95b9f5c1-7b2a-4fbb-e01e-59dbad3027ca"
      },
      "execution_count": null,
      "outputs": [
        {
          "output_type": "stream",
          "name": "stdout",
          "text": [
            "Classes: ['cast_def', 'cast_ok']\n",
            "train and validation labels: 840\n",
            "test labels: 678\n",
            "Train size: 756\n",
            "Val size: 84\n",
            "Test size: 678\n",
            "Train batches: 24\n",
            "Val batches: 3\n",
            "Test batches: 22\n"
          ]
        }
      ]
    },
    {
      "cell_type": "markdown",
      "metadata": {
        "id": "VwXKg0PAF107"
      },
      "source": [
        "<a name='x.0.4.1'></a>\n",
        "\n",
        "#### 4.0.4.2 Loading Data with `ImageDataGenerator`\n",
        "\n",
        "[back to top](#top)"
      ]
    },
    {
      "cell_type": "code",
      "metadata": {
        "colab": {
          "base_uri": "https://localhost:8080/"
        },
        "id": "gPpg_K-4y85X",
        "outputId": "05cc61d3-00fd-4e5e-c31b-4c4de14a2bcc"
      },
      "source": [
        "image_gen = ImageDataGenerator(rescale=1/255,\n",
        "                               validation_split=validation_split) # normalize pixels to 0-1\n",
        "\n",
        "#we're using keras inbuilt function to ImageDataGenerator so we \n",
        "# dont need to label all images into 0 and 1 \n",
        "print(\"loading training set...\")\n",
        "train_set_keras = image_gen.flow_from_directory(technocast_train_path,\n",
        "                                          target_size=image_shape[:2],\n",
        "                                          color_mode=\"rgb\",\n",
        "                                          batch_size=batch_size,\n",
        "                                          class_mode=\"sparse\",\n",
        "                                          subset=\"training\",\n",
        "                                          shuffle=True)\n",
        "print(\"loading validation set...\")\n",
        "val_set_keras = image_gen.flow_from_directory(technocast_train_path,\n",
        "                                          target_size=image_shape[:2],\n",
        "                                          color_mode=\"rgb\",\n",
        "                                          batch_size=batch_size,\n",
        "                                          class_mode=\"sparse\",\n",
        "                                          subset=\"validation\",\n",
        "                                          shuffle=True)\n",
        "print(\"loading testing set...\")\n",
        "test_set_keras = image_gen.flow_from_directory(technocast_test_path,\n",
        "                                          target_size=image_shape[:2],\n",
        "                                          color_mode=\"rgb\",\n",
        "                                          batch_size=batch_size,\n",
        "                                          class_mode=\"sparse\",\n",
        "                                         shuffle=False)"
      ],
      "execution_count": null,
      "outputs": [
        {
          "output_type": "stream",
          "name": "stdout",
          "text": [
            "loading training set...\n",
            "Found 757 images belonging to 2 classes.\n",
            "loading validation set...\n",
            "Found 83 images belonging to 2 classes.\n",
            "loading testing set...\n",
            "Found 678 images belonging to 2 classes.\n"
          ]
        }
      ]
    },
    {
      "cell_type": "markdown",
      "metadata": {
        "id": "UCV0n9QrF8o1"
      },
      "source": [
        "<a name='x.0.4.2'></a>\n",
        "\n",
        "#### 4.0.4.3 loading data with `image_dataset_from_directory`\n",
        "\n",
        "[back to top](#top)\n",
        "\n",
        "This method should be approx 2x faster than `ImageDataGenerator`"
      ]
    },
    {
      "cell_type": "code",
      "metadata": {
        "colab": {
          "base_uri": "https://localhost:8080/"
        },
        "id": "_y5-Zr0hfLHx",
        "outputId": "b5b8905e-0567-438c-a4d7-51e76f834739"
      },
      "source": [
        "# Load training and validation sets\n",
        "print(\"loading training set...\")\n",
        "ds_train_ = image_dataset_from_directory(\n",
        "    technocast_train_path,\n",
        "    labels=\"inferred\",\n",
        "    label_mode=\"int\",\n",
        "    color_mode=\"rgb\",\n",
        "    image_size=image_shape[:2],\n",
        "    batch_size=batch_size,\n",
        "    validation_split=validation_split,\n",
        "    subset=\"training\",\n",
        "    shuffle=True,\n",
        "    seed=42,\n",
        ")\n",
        "print(\"loading validation set...\")\n",
        "ds_val_ = image_dataset_from_directory(\n",
        "    technocast_train_path,\n",
        "    labels=\"inferred\",\n",
        "    label_mode=\"int\",\n",
        "    color_mode=\"rgb\",\n",
        "    image_size=image_shape[:2],\n",
        "    batch_size=batch_size,\n",
        "    validation_split=validation_split,\n",
        "    subset=\"validation\",\n",
        "    shuffle=True,\n",
        "    seed=42,\n",
        ")\n",
        "print(\"loading testing set...\")\n",
        "ds_test_ = image_dataset_from_directory(\n",
        "    technocast_test_path,\n",
        "    labels=\"inferred\",\n",
        "    label_mode=\"int\",\n",
        "    color_mode=\"rgb\",\n",
        "    image_size=image_shape[:2],\n",
        "    batch_size=batch_size,\n",
        "    shuffle=False,\n",
        ")\n",
        "\n",
        "train_set_tf = ds_train_.prefetch(buffer_size=AUTOTUNE)\n",
        "val_set_tf = ds_val_.prefetch(buffer_size=AUTOTUNE)\n",
        "test_set_tf = ds_test_.prefetch(buffer_size=AUTOTUNE)"
      ],
      "execution_count": null,
      "outputs": [
        {
          "output_type": "stream",
          "name": "stdout",
          "text": [
            "loading training set...\n",
            "Found 840 files belonging to 2 classes.\n",
            "Using 756 files for training.\n",
            "loading validation set...\n",
            "Found 840 files belonging to 2 classes.\n",
            "Using 84 files for validation.\n",
            "loading testing set...\n",
            "Found 678 files belonging to 2 classes.\n"
          ]
        }
      ]
    },
    {
      "cell_type": "markdown",
      "source": [
        "#### 4.0.4.4 View Images\n",
        "\n",
        "[back to top](#top)"
      ],
      "metadata": {
        "id": "rzi9ROWyUPBJ"
      }
    },
    {
      "cell_type": "code",
      "metadata": {
        "id": "_I7kDyYwzeBC",
        "colab": {
          "base_uri": "https://localhost:8080/",
          "height": 357
        },
        "outputId": "fb744dbf-2ce2-4d6b-fac0-188bb20c2ee6"
      },
      "source": [
        "# view some images\n",
        "def_path = '/def_front/cast_def_0_1001.jpeg'\n",
        "ok_path = '/ok_front/cast_ok_0_1.jpeg'\n",
        "image_path = technocast_train_path + ok_path\n",
        "image = tf.io.read_file(image_path)\n",
        "image = tf.io.decode_jpeg(image)\n",
        "image = resize(image, (256, 256),\n",
        "                anti_aliasing=True)\n",
        "\n",
        "plt.figure(figsize=(6, 6))\n",
        "plt.imshow(tf.squeeze(image), cmap='gray')\n",
        "plt.axis('off')\n",
        "plt.show();"
      ],
      "execution_count": null,
      "outputs": [
        {
          "output_type": "display_data",
          "data": {
            "image/png": "[encoded data removed]",
            "text/plain": [
              "<Figure size 432x432 with 1 Axes>"
            ]
          },
          "metadata": {
            "needs_background": "light"
          }
        }
      ]
    },
    {
      "cell_type": "markdown",
      "metadata": {
        "id": "yYnHuIONgksu"
      },
      "source": [
        "<a name='x.1'></a>\n",
        "\n",
        "## 4.1 Understanding the Sliding Window\n",
        "\n",
        "[back to top](#top)\n",
        "\n",
        "The kernels we just reviewed, need to be swept or _slid_ along the preceding layer. We call this a **_sliding window_**, the window being the kernel. \n",
        "\n",
        "<p align=center>\n",
        "<img src=\"https://raw.githubusercontent.com/wesleybeckner/general_applications_of_neural_networks/main/assets/LueNK6b.gif\" width=400></img>\n",
        "</p>\n",
        "\n",
        "What do you notice about the gif? One perhaps obvious observation is that you can't scoot all the way up to the border of the input layer, this is because the kernel defines operations _around_ the centered pixel and so you bang up against the margin of the input array. We can change the behavior at the boundary with a **_padding_** hyperparameter. A second observation, is that the distance we move the kernel along in each step could be variable, we call this the **_stride_**. We will explore the affects of each of these.\n",
        "\n"
      ]
    },
    {
      "cell_type": "code",
      "metadata": {
        "id": "eYolTMVMlnsQ"
      },
      "source": [
        "from tensorflow import keras\n",
        "from tensorflow.keras import layers\n",
        "\n",
        "model = keras.Sequential([\n",
        "    layers.Conv2D(filters=64,\n",
        "                  kernel_size=3,\n",
        "                  strides=1,\n",
        "                  padding='same',\n",
        "                  activation='relu'),\n",
        "    layers.MaxPool2D(pool_size=2,\n",
        "                     strides=1,\n",
        "                     padding='same')\n",
        "    # More layers follow\n",
        "])"
      ],
      "execution_count": null,
      "outputs": []
    },
    {
      "cell_type": "markdown",
      "metadata": {
        "id": "AKKfIv-lhDd5"
      },
      "source": [
        "<a name='x.1.1'></a>\n",
        "\n",
        "### 4.1.1 Stride\n",
        "\n",
        "[back to top](#top)\n",
        "\n",
        "Stride defines the the step size we take with each kernel as it passes along the input array. The stride needs to be defined in both the horizontal and vertical dimensions. This animation shows a 2x2 stride\n",
        "\n",
        "\n",
        "<p align=center>\n",
        "<img src=\"https://raw.githubusercontent.com/wesleybeckner/general_applications_of_neural_networks/main/assets/Tlptsvt.gif\" width=400></img>\n",
        "</p>\n",
        "\n",
        "The stride will often be 1 for CNNs, where we don't want to lose any important information. Maximum pooling layers will often have strides greater than 1, to better summarize/accentuate the relevant features/activations.\n",
        "\n",
        "If the stride is the same in both the horizontal and vertical directions, it can be set with a single number like `strides=2` within keras.\n",
        "\n"
      ]
    },
    {
      "cell_type": "markdown",
      "metadata": {
        "id": "7alp2F6yhHuF"
      },
      "source": [
        "### 4.1.2 Padding\n",
        "\n",
        "[back to top](#top)\n",
        "\n",
        "Padding attempts to resolve our issue at the border: our kernel requires information surrounding the centered pixel, and at the border of the input array we don't have that information. What to do?\n",
        "\n",
        "We have a couple popular options within the keras framework. We can set `padding='valid'` and only slide the kernel to the edge of the input array. This has the drawback of feature maps shrinking in size as we pass through the NN. Another option is to set `padding='same'` what this will do is pad the input array with 0's, just enough of them to allow the feature map to be the same size as the input array. This is shown in the gif below:\n",
        "\n",
        "\n",
        "<p align=center>\n",
        "<img src=\"https://raw.githubusercontent.com/wesleybeckner/general_applications_of_neural_networks/main/assets/RvGM2xb.gif\" width=400></img>\n",
        "</p>\n",
        "\n",
        "The downside of setting the padding to same will be that features at the edges of the image will be diluted. "
      ]
    },
    {
      "cell_type": "markdown",
      "metadata": {
        "id": "NrdxWYLShOHt"
      },
      "source": [
        "<a name='x.1.3'></a>\n",
        "\n",
        "### 🏋️ Exercise 1: Exploring Sliding Windows\n",
        "\n",
        "[back to top](#top)"
      ]
    },
    {
      "cell_type": "code",
      "metadata": {
        "id": "XvS9ayAtrKop"
      },
      "source": [
        "from skimage import draw, transform\n",
        "from itertools import product\n",
        "# helper functions borrowed from Ryan Holbrook\n",
        "# https://mathformachines.com/\n",
        "\n",
        "def circle(size, val=None, r_shrink=0):\n",
        "    circle = np.zeros([size[0]+1, size[1]+1])\n",
        "    rr, cc = draw.circle_perimeter(\n",
        "        size[0]//2, size[1]//2,\n",
        "        radius=size[0]//2 - r_shrink,\n",
        "        shape=[size[0]+1, size[1]+1],\n",
        "    )\n",
        "    if val is None:\n",
        "        circle[rr, cc] = np.random.uniform(size=circle.shape)[rr, cc]\n",
        "    else:\n",
        "        circle[rr, cc] = val\n",
        "    circle = transform.resize(circle, size, order=0)\n",
        "    return circle\n",
        "\n",
        "def show_kernel(kernel, label=True, digits=None, text_size=28):\n",
        "    # Format kernel\n",
        "    kernel = np.array(kernel)\n",
        "    if digits is not None:\n",
        "        kernel = kernel.round(digits)\n",
        "\n",
        "    # Plot kernel\n",
        "    cmap = plt.get_cmap('Blues_r')\n",
        "    plt.imshow(kernel, cmap=cmap)\n",
        "    rows, cols = kernel.shape\n",
        "    thresh = (kernel.max()+kernel.min())/2\n",
        "    # Optionally, add value labels\n",
        "    if label:\n",
        "        for i, j in product(range(rows), range(cols)):\n",
        "            val = kernel[i, j]\n",
        "            color = cmap(0) if val > thresh else cmap(255)\n",
        "            plt.text(j, i, val, \n",
        "                     color=color, size=text_size,\n",
        "                     horizontalalignment='center', verticalalignment='center')\n",
        "    plt.xticks([])\n",
        "    plt.yticks([])\n",
        "\n",
        "def show_extraction(image,\n",
        "                    kernel,\n",
        "                    conv_stride=1,\n",
        "                    conv_padding='valid',\n",
        "                    activation='relu',\n",
        "                    pool_size=2,\n",
        "                    pool_stride=2,\n",
        "                    pool_padding='same',\n",
        "                    figsize=(10, 10),\n",
        "                    subplot_shape=(2, 2),\n",
        "                    ops=['Input', 'Filter', 'Detect', 'Condense'],\n",
        "                    gamma=1.0):\n",
        "    # Create Layers\n",
        "    model = tf.keras.Sequential([\n",
        "                    tf.keras.layers.Conv2D(\n",
        "                        filters=1,\n",
        "                        kernel_size=kernel.shape,\n",
        "                        strides=conv_stride,\n",
        "                        padding=conv_padding,\n",
        "                        use_bias=False,\n",
        "                        input_shape=image.shape,\n",
        "                    ),\n",
        "                    tf.keras.layers.Activation(activation),\n",
        "                    tf.keras.layers.MaxPool2D(\n",
        "                        pool_size=pool_size,\n",
        "                        strides=pool_stride,\n",
        "                        padding=pool_padding,\n",
        "                    ),\n",
        "                   ])\n",
        "\n",
        "    layer_filter, layer_detect, layer_condense = model.layers\n",
        "    kernel = tf.reshape(kernel, [*kernel.shape, 1, 1])\n",
        "    layer_filter.set_weights([kernel])\n",
        "\n",
        "    # Format for TF\n",
        "    image = tf.expand_dims(image, axis=0)\n",
        "    image = tf.image.convert_image_dtype(image, dtype=tf.float32) \n",
        "    \n",
        "    # Extract Feature\n",
        "    image_filter = layer_filter(image)\n",
        "    image_detect = layer_detect(image_filter)\n",
        "    image_condense = layer_condense(image_detect)\n",
        "    \n",
        "    images = {}\n",
        "    if 'Input' in ops:\n",
        "        images.update({'Input': (image, 1.0)})\n",
        "    if 'Filter' in ops:\n",
        "        images.update({'Filter': (image_filter, 1.0)})\n",
        "    if 'Detect' in ops:\n",
        "        images.update({'Detect': (image_detect, gamma)})\n",
        "    if 'Condense' in ops:\n",
        "        images.update({'Condense': (image_condense, gamma)})\n",
        "    \n",
        "    # Plot\n",
        "    plt.figure(figsize=figsize)\n",
        "    for i, title in enumerate(ops):\n",
        "        image, gamma = images[title]\n",
        "        plt.subplot(*subplot_shape, i+1)\n",
        "        plt.imshow(tf.image.adjust_gamma(tf.squeeze(image), gamma))\n",
        "        plt.axis('off')\n",
        "        plt.title(title)"
      ],
      "execution_count": null,
      "outputs": []
    },
    {
      "cell_type": "markdown",
      "metadata": {
        "id": "35AqZwjhr8Fc"
      },
      "source": [
        "Create an image and kernel:"
      ]
    },
    {
      "cell_type": "code",
      "metadata": {
        "colab": {
          "base_uri": "https://localhost:8080/",
          "height": 297
        },
        "id": "fu9k-3_h2la8",
        "outputId": "00991ace-c091-4758-a2ad-7751cceb52ed"
      },
      "source": [
        "import tensorflow as tf\n",
        "import matplotlib.pyplot as plt\n",
        "\n",
        "plt.rc('figure', autolayout=True)\n",
        "plt.rc('axes', labelweight='bold', labelsize='large',\n",
        "       titleweight='bold', titlesize=18, titlepad=10)\n",
        "plt.rc('image', cmap='magma')\n",
        "\n",
        "image = circle([64, 64], val=1.0, r_shrink=3)\n",
        "image = tf.reshape(image, [*image.shape, 1])\n",
        "# Bottom sobel\n",
        "kernel = tf.constant(\n",
        "    [[-1, -2, -1],\n",
        "     [0, 0, 0],\n",
        "     [1, 2, 1]],\n",
        ")\n",
        "\n",
        "show_kernel(kernel)"
      ],
      "execution_count": null,
      "outputs": [
        {
          "output_type": "display_data",
          "data": {
            "image/png": "[encoded data removed]",
            "text/plain": [
              "<Figure size 432x288 with 1 Axes>"
            ]
          },
          "metadata": {}
        }
      ]
    },
    {
      "cell_type": "markdown",
      "metadata": {
        "id": "cja4Tp71sKjI"
      },
      "source": [
        "What do we think this kernel is meant to detect for?\n",
        "\n",
        "We will apply our kernel with a 1x1 stride and our max pooling with a 2x2 stride and pool size of 2."
      ]
    },
    {
      "cell_type": "code",
      "metadata": {
        "colab": {
          "base_uri": "https://localhost:8080/",
          "height": 293
        },
        "id": "kKrNWeYSsV2W",
        "outputId": "bcfd748c-e75d-422c-bdcf-cfe65665743a"
      },
      "source": [
        "show_extraction(\n",
        "    image, kernel,\n",
        "\n",
        "    # Window parameters\n",
        "    conv_stride=1,\n",
        "    pool_size=2,\n",
        "    pool_stride=2,\n",
        "\n",
        "    subplot_shape=(1, 4),\n",
        "    figsize=(14, 6),\n",
        ")"
      ],
      "execution_count": null,
      "outputs": [
        {
          "output_type": "display_data",
          "data": {
            "image/png": "[encoded data removed]",
            "text/plain": [
              "<Figure size 1008x432 with 4 Axes>"
            ]
          },
          "metadata": {
            "needs_background": "light"
          }
        }
      ]
    },
    {
      "cell_type": "markdown",
      "metadata": {
        "id": "zlEbO_Sh0N9c"
      },
      "source": [
        "Works ok! what about a higher conv stride?"
      ]
    },
    {
      "cell_type": "code",
      "metadata": {
        "colab": {
          "base_uri": "https://localhost:8080/",
          "height": 293
        },
        "id": "UUenv0SR0LSn",
        "outputId": "ac041311-6c67-4ac9-8096-cdf988e7f0e2"
      },
      "source": [
        "show_extraction(\n",
        "    image, kernel,\n",
        "\n",
        "    # Window parameters\n",
        "    conv_stride=3,\n",
        "    pool_size=2,\n",
        "    pool_stride=2,\n",
        "\n",
        "    subplot_shape=(1, 4),\n",
        "    figsize=(14, 6),\n",
        ")"
      ],
      "execution_count": null,
      "outputs": [
        {
          "output_type": "display_data",
          "data": {
            "image/png": "[encoded data removed]",
            "text/plain": [
              "<Figure size 1008x432 with 4 Axes>"
            ]
          },
          "metadata": {
            "needs_background": "light"
          }
        }
      ]
    },
    {
      "cell_type": "markdown",
      "metadata": {
        "id": "XzZ0iWn-0Xw2"
      },
      "source": [
        "Looks like we lost a bit of information!\n",
        "\n",
        "Sometimes published models will use a larger kernel and stride in the initial layer to produce large-scale features early on in the network without losing too much information (ResNet50 uses 7x7 kernels with a stride of 2). For now, without having much experience it's safe to set conv strides to 1.\n",
        "\n",
        "Take a moment here with the given kernel and explore different settings for applying both the kernel and the max_pool\n",
        "\n",
        "```\n",
        "conv_stride=YOUR_VALUE, # condenses pixels\n",
        "pool_size=YOUR_VALUE,\n",
        "pool_stride=YOUR_VALUE, # condenses pixels\n",
        "```\n",
        "\n",
        "Given a total condensation of 8 (I'm taking condensation to mean `conv_stride` x `pool_stride`). what do you think is the best combination of values for `conv_stride, pool_size, and pool_stride`?"
      ]
    },
    {
      "cell_type": "markdown",
      "metadata": {
        "id": "FKQh19GnM8Iq"
      },
      "source": [
        "<a name='x.2'></a>\n",
        "\n",
        "## 4.2 Building a Custom CNN\n",
        "\n",
        "[back to top](#top)\n",
        "\n",
        "As we move through the network, small-scale features (lines, edges, etc.) turn to large-scale features (shapes, eyes, ears, etc). We call these blocks of convolution, ReLU, and max pool **_convolutional blocks_** and they are the low level modular framework we work with. By this means, the CNN is able to design it's own features, ones suited for the classification or regression task at hand. \n",
        "\n",
        "We will design a custom CNN for the Casting Defect Detection Dataset."
      ]
    },
    {
      "cell_type": "markdown",
      "metadata": {
        "id": "ErPvdRfJFTs4"
      },
      "source": [
        "### 4.2.1 Define Architecture\n",
        "\n",
        "[back to top](#top)\n",
        "\n",
        "In the following I'm going to double the filter size after the first block. This is a common pattern as the max pooling layers forces us in the opposite direction."
      ]
    },
    {
      "cell_type": "code",
      "metadata": {
        "id": "FJqyUO21M7ZS",
        "colab": {
          "base_uri": "https://localhost:8080/"
        },
        "outputId": "dd1915ff-a0aa-46a3-fe25-dcd21d17556a"
      },
      "source": [
        "# Creating model\n",
        "model = Sequential()\n",
        "\n",
        "model.add(InputLayer(input_shape=(image_shape)))\n",
        "\n",
        "model.add(Conv2D(filters=8, kernel_size=(3,3), activation='relu',))\n",
        "model.add(MaxPooling2D(pool_size=(2, 2)))\n",
        "\n",
        "model.add(Conv2D(filters=16, kernel_size=(3,3), activation='relu',))\n",
        "model.add(MaxPooling2D(pool_size=(2, 2)))\n",
        "\n",
        "model.add(Conv2D(filters=16, kernel_size=(3,3), activation='relu',))\n",
        "model.add(MaxPooling2D(pool_size=(2, 2)))\n",
        "\n",
        "model.add(Flatten())\n",
        "\n",
        "model.add(Dense(224))\n",
        "model.add(Activation('relu'))\n",
        "\n",
        "# Last layer\n",
        "model.add(Dense(2))\n",
        "\n",
        "early_stop = EarlyStopping(monitor='val_loss',\n",
        "                           patience=5,\n",
        "                           restore_best_weights=True,)\n",
        "\n",
        "# FOR BINARY MODE\n",
        "# model.add(Dense(1))\n",
        "# model.add(Activation('sigmoid'))\n",
        "\n",
        "# model.compile(loss='binary_crossentropy',\n",
        "#               optimizer='adam',\n",
        "#               metrics=['binary_accuracy'])\n",
        "\n",
        "# MULTIPLE LABELS\n",
        "base_learning_rate = 0.001\n",
        "model.compile(loss=tf.keras.losses.SparseCategoricalCrossentropy(from_logits=True),\n",
        "              optimizer=tf.keras.optimizers.Adam(learning_rate=base_learning_rate),\n",
        "              metrics=['accuracy'])\n",
        "\n",
        "model.summary()"
      ],
      "execution_count": null,
      "outputs": [
        {
          "output_type": "stream",
          "name": "stdout",
          "text": [
            "Model: \"sequential_3\"\n",
            "_________________________________________________________________\n",
            " Layer (type)                Output Shape              Param #   \n",
            "=================================================================\n",
            " conv2d_25 (Conv2D)          (None, 298, 298, 8)       224       \n",
            "                                                                 \n",
            " max_pooling2d_3 (MaxPooling  (None, 149, 149, 8)      0         \n",
            " 2D)                                                             \n",
            "                                                                 \n",
            " conv2d_26 (Conv2D)          (None, 147, 147, 16)      1168      \n",
            "                                                                 \n",
            " max_pooling2d_4 (MaxPooling  (None, 73, 73, 16)       0         \n",
            " 2D)                                                             \n",
            "                                                                 \n",
            " conv2d_27 (Conv2D)          (None, 71, 71, 16)        2320      \n",
            "                                                                 \n",
            " max_pooling2d_5 (MaxPooling  (None, 35, 35, 16)       0         \n",
            " 2D)                                                             \n",
            "                                                                 \n",
            " flatten (Flatten)           (None, 19600)             0         \n",
            "                                                                 \n",
            " dense (Dense)               (None, 224)               4390624   \n",
            "                                                                 \n",
            " activation_2 (Activation)   (None, 224)               0         \n",
            "                                                                 \n",
            " dense_1 (Dense)             (None, 2)                 450       \n",
            "                                                                 \n",
            "=================================================================\n",
            "Total params: 4,394,786\n",
            "Trainable params: 4,394,786\n",
            "Non-trainable params: 0\n",
            "_________________________________________________________________\n"
          ]
        }
      ]
    },
    {
      "cell_type": "markdown",
      "metadata": {
        "id": "4fSBo4FzlfNX"
      },
      "source": [
        "<a name='x.2.1'></a>\n",
        "\n",
        "### 4.2.1 Train and Evaluate Model\n",
        "\n",
        "[back to top](#top)\n",
        "\n",
        "To save/load weights and training history:\n",
        "```\n",
        "# model.save('inspection_of_casting_products.h5')\n",
        "# model.load_weights('inspection_of_casting_products.h5')\n",
        "# losses.to_csv('history_simple_model.csv', index=False)\n",
        "```"
      ]
    },
    {
      "cell_type": "markdown",
      "source": [
        "#### 4.2.1.1 Keras - ImageDataGenerator\n",
        "\n",
        "[back to top](#top)"
      ],
      "metadata": {
        "id": "erIeE6qGbcwu"
      }
    },
    {
      "cell_type": "code",
      "metadata": {
        "colab": {
          "base_uri": "https://localhost:8080/"
        },
        "id": "mLQYWTNuNSm2",
        "outputId": "6fc1461c-8c3d-4407-9e36-e19c54e1c188"
      },
      "source": [
        "%%time\n",
        "with tf.device('/device:GPU:0'):\n",
        "  results = model.fit(train_set_keras,\n",
        "                      epochs=30,\n",
        "                      validation_data=val_set_keras,\n",
        "                      callbacks=[early_stop]\n",
        "                      )"
      ],
      "execution_count": null,
      "outputs": [
        {
          "output_type": "stream",
          "name": "stdout",
          "text": [
            "Epoch 1/30\n",
            "24/24 [==============================] - 7s 227ms/step - loss: 0.7593 - accuracy: 0.5482 - val_loss: 0.6591 - val_accuracy: 0.6627\n",
            "Epoch 2/30\n",
            "24/24 [==============================] - 5s 194ms/step - loss: 0.6028 - accuracy: 0.6816 - val_loss: 0.6366 - val_accuracy: 0.5904\n",
            "Epoch 3/30\n",
            "24/24 [==============================] - 5s 188ms/step - loss: 0.5142 - accuracy: 0.7213 - val_loss: 0.5086 - val_accuracy: 0.7831\n",
            "Epoch 4/30\n",
            "24/24 [==============================] - 5s 192ms/step - loss: 0.4111 - accuracy: 0.8151 - val_loss: 0.5355 - val_accuracy: 0.6867\n",
            "Epoch 5/30\n",
            "24/24 [==============================] - 5s 192ms/step - loss: 0.4172 - accuracy: 0.7913 - val_loss: 0.4081 - val_accuracy: 0.8313\n",
            "Epoch 6/30\n",
            "24/24 [==============================] - 5s 194ms/step - loss: 0.2995 - accuracy: 0.8771 - val_loss: 0.3466 - val_accuracy: 0.8916\n",
            "Epoch 7/30\n",
            "24/24 [==============================] - 5s 194ms/step - loss: 0.2150 - accuracy: 0.9221 - val_loss: 0.3527 - val_accuracy: 0.8795\n",
            "Epoch 8/30\n",
            "24/24 [==============================] - 5s 193ms/step - loss: 0.1643 - accuracy: 0.9498 - val_loss: 0.2129 - val_accuracy: 0.9277\n",
            "Epoch 9/30\n",
            "24/24 [==============================] - 5s 195ms/step - loss: 0.1013 - accuracy: 0.9762 - val_loss: 0.1806 - val_accuracy: 0.9518\n",
            "Epoch 10/30\n",
            "24/24 [==============================] - 5s 192ms/step - loss: 0.0878 - accuracy: 0.9736 - val_loss: 0.2076 - val_accuracy: 0.9157\n",
            "Epoch 11/30\n",
            "24/24 [==============================] - 5s 193ms/step - loss: 0.0735 - accuracy: 0.9802 - val_loss: 0.2817 - val_accuracy: 0.9277\n",
            "Epoch 12/30\n",
            "24/24 [==============================] - 5s 190ms/step - loss: 0.0507 - accuracy: 0.9881 - val_loss: 0.1857 - val_accuracy: 0.9518\n",
            "Epoch 13/30\n",
            "24/24 [==============================] - 5s 194ms/step - loss: 0.0456 - accuracy: 0.9855 - val_loss: 0.2405 - val_accuracy: 0.9277\n",
            "Epoch 14/30\n",
            "24/24 [==============================] - 5s 193ms/step - loss: 0.0269 - accuracy: 0.9947 - val_loss: 0.2210 - val_accuracy: 0.9277\n",
            "CPU times: user 1min 1s, sys: 4.75 s, total: 1min 6s\n",
            "Wall time: 1min 8s\n"
          ]
        }
      ]
    },
    {
      "cell_type": "code",
      "metadata": {
        "colab": {
          "base_uri": "https://localhost:8080/",
          "height": 387
        },
        "id": "9eqLn69jlyaD",
        "outputId": "4d76d8e1-58fd-4922-91c2-b5df54a9430d"
      },
      "source": [
        "losses = pd.DataFrame(results.history)\n",
        "fig, ax = plt.subplots(1, 2, figsize=(10,5))\n",
        "losses[['loss','val_loss']].plot(ax=ax[0])\n",
        "losses[['accuracy','val_accuracy']].plot(ax=ax[1])"
      ],
      "execution_count": null,
      "outputs": [
        {
          "output_type": "execute_result",
          "data": {
            "text/plain": [
              "<matplotlib.axes._subplots.AxesSubplot at 0x7f213b72ed90>"
            ]
          },
          "metadata": {},
          "execution_count": 18
        },
        {
          "output_type": "display_data",
          "data": {
            "image/png": "[encoded data removed]",
            "text/plain": [
              "<Figure size 720x360 with 2 Axes>"
            ]
          },
          "metadata": {
            "needs_background": "light"
          }
        }
      ]
    },
    {
      "cell_type": "markdown",
      "source": [
        "##### 4.2.1.1.1 Evaluate\n",
        "\n",
        "[back to top](#top)"
      ],
      "metadata": {
        "id": "tifnsOhzhqzA"
      }
    },
    {
      "cell_type": "code",
      "source": [
        "# Keras/ImageDataGenerator results\n",
        "predictions = model.predict(test_set_keras).argmax(axis=1)\n",
        "labels = test_set_keras.classes\n",
        "print(classification_report(labels,predictions))\n",
        "plt.figure(figsize=(10,6))\n",
        "sns.heatmap(confusion_matrix(labels,predictions), annot=True)"
      ],
      "metadata": {
        "colab": {
          "base_uri": "https://localhost:8080/",
          "height": 618
        },
        "id": "UqIfo2qgawsu",
        "outputId": "6e0b5257-82f4-4a3c-f688-7660a539469f"
      },
      "execution_count": null,
      "outputs": [
        {
          "output_type": "stream",
          "name": "stdout",
          "text": [
            "              precision    recall  f1-score   support\n",
            "\n",
            "           0       0.99      0.90      0.94       416\n",
            "           1       0.86      0.98      0.92       262\n",
            "\n",
            "    accuracy                           0.93       678\n",
            "   macro avg       0.93      0.94      0.93       678\n",
            "weighted avg       0.94      0.93      0.93       678\n",
            "\n"
          ]
        },
        {
          "output_type": "execute_result",
          "data": {
            "text/plain": [
              "<matplotlib.axes._subplots.AxesSubplot at 0x7f213bae9590>"
            ]
          },
          "metadata": {},
          "execution_count": 19
        },
        {
          "output_type": "display_data",
          "data": {
            "image/png": "[encoded data removed]",
            "text/plain": [
              "<Figure size 720x432 with 2 Axes>"
            ]
          },
          "metadata": {
            "needs_background": "light"
          }
        }
      ]
    },
    {
      "cell_type": "markdown",
      "source": [
        "#### 4.2.1.2 TF - image_dataset_from_directory\n",
        "\n",
        "[back to top](#top)"
      ],
      "metadata": {
        "id": "d2Io4f1ncFCQ"
      }
    },
    {
      "cell_type": "code",
      "source": [
        "%%time\n",
        "with tf.device('/device:GPU:0'):\n",
        "  results = model.fit(train_set_tf,\n",
        "                      epochs=30,\n",
        "                      validation_data=val_set_tf,\n",
        "                      callbacks=[early_stop]\n",
        "                      )"
      ],
      "metadata": {
        "colab": {
          "base_uri": "https://localhost:8080/"
        },
        "id": "fCkEO464o4zY",
        "outputId": "95e6a68c-dfe0-432f-b2dc-19200ff21f6e"
      },
      "execution_count": null,
      "outputs": [
        {
          "output_type": "stream",
          "name": "stdout",
          "text": [
            "Epoch 1/30\n",
            "24/24 [==============================] - 4s 140ms/step - loss: 55.5491 - accuracy: 0.8201 - val_loss: 5.1122 - val_accuracy: 0.8929\n",
            "Epoch 2/30\n",
            "24/24 [==============================] - 3s 116ms/step - loss: 2.8739 - accuracy: 0.8955 - val_loss: 4.8220 - val_accuracy: 0.8214\n",
            "Epoch 3/30\n",
            "24/24 [==============================] - 3s 119ms/step - loss: 1.2538 - accuracy: 0.9312 - val_loss: 2.1922 - val_accuracy: 0.9167\n",
            "Epoch 4/30\n",
            "24/24 [==============================] - 3s 113ms/step - loss: 0.5790 - accuracy: 0.9524 - val_loss: 1.4201 - val_accuracy: 0.9286\n",
            "Epoch 5/30\n",
            "24/24 [==============================] - 3s 116ms/step - loss: 0.4030 - accuracy: 0.9696 - val_loss: 1.5978 - val_accuracy: 0.8452\n",
            "Epoch 6/30\n",
            "24/24 [==============================] - 3s 114ms/step - loss: 0.2560 - accuracy: 0.9735 - val_loss: 1.7492 - val_accuracy: 0.9286\n",
            "Epoch 7/30\n",
            "24/24 [==============================] - 4s 117ms/step - loss: 0.3537 - accuracy: 0.9656 - val_loss: 1.4600 - val_accuracy: 0.8929\n",
            "Epoch 8/30\n",
            "24/24 [==============================] - 3s 116ms/step - loss: 0.2665 - accuracy: 0.9643 - val_loss: 1.3548 - val_accuracy: 0.9286\n",
            "Epoch 9/30\n",
            "24/24 [==============================] - 3s 116ms/step - loss: 0.1182 - accuracy: 0.9828 - val_loss: 1.1673 - val_accuracy: 0.9286\n",
            "Epoch 10/30\n",
            "24/24 [==============================] - 3s 113ms/step - loss: 0.0726 - accuracy: 0.9934 - val_loss: 1.1526 - val_accuracy: 0.9286\n",
            "Epoch 11/30\n",
            "24/24 [==============================] - 3s 116ms/step - loss: 0.1035 - accuracy: 0.9854 - val_loss: 1.0764 - val_accuracy: 0.9286\n",
            "Epoch 12/30\n",
            "24/24 [==============================] - 3s 115ms/step - loss: 0.0740 - accuracy: 0.9934 - val_loss: 1.1382 - val_accuracy: 0.9286\n",
            "Epoch 13/30\n",
            "24/24 [==============================] - 3s 116ms/step - loss: 0.0715 - accuracy: 0.9947 - val_loss: 1.2261 - val_accuracy: 0.9286\n",
            "Epoch 14/30\n",
            "24/24 [==============================] - 3s 117ms/step - loss: 0.0572 - accuracy: 0.9960 - val_loss: 1.1134 - val_accuracy: 0.9286\n",
            "Epoch 15/30\n",
            "24/24 [==============================] - 3s 116ms/step - loss: 0.0354 - accuracy: 0.9974 - val_loss: 1.1387 - val_accuracy: 0.9167\n",
            "Epoch 16/30\n",
            "24/24 [==============================] - 3s 117ms/step - loss: 0.0244 - accuracy: 0.9960 - val_loss: 1.2322 - val_accuracy: 0.9286\n",
            "CPU times: user 50.5 s, sys: 5.47 s, total: 56 s\n",
            "Wall time: 1min 6s\n"
          ]
        }
      ]
    },
    {
      "cell_type": "code",
      "source": [
        "losses = pd.DataFrame(results.history)\n",
        "fig, ax = plt.subplots(1, 2, figsize=(10,5))\n",
        "losses[['loss','val_loss']].plot(ax=ax[0])\n",
        "losses[['accuracy','val_accuracy']].plot(ax=ax[1])"
      ],
      "metadata": {
        "colab": {
          "base_uri": "https://localhost:8080/",
          "height": 387
        },
        "id": "-90Cais0o6aw",
        "outputId": "1300ed88-8ec6-44af-b592-744d4ba55b62"
      },
      "execution_count": null,
      "outputs": [
        {
          "output_type": "execute_result",
          "data": {
            "text/plain": [
              "<matplotlib.axes._subplots.AxesSubplot at 0x7f213cccda90>"
            ]
          },
          "metadata": {},
          "execution_count": 21
        },
        {
          "output_type": "display_data",
          "data": {
            "image/png": "[encoded data removed]",
            "text/plain": [
              "<Figure size 720x360 with 2 Axes>"
            ]
          },
          "metadata": {
            "needs_background": "light"
          }
        }
      ]
    },
    {
      "cell_type": "markdown",
      "source": [
        "##### 4.2.1.2.1 Evaluate\n",
        "\n",
        "[back to top](#top)"
      ],
      "metadata": {
        "id": "6ppnGSjVhzSi"
      }
    },
    {
      "cell_type": "code",
      "source": [
        "# Keras/ImageDataGenerator results\n",
        "predictions = model.predict(test_set_tf).argmax(axis=1)\n",
        "labels = test_set_keras.classes\n",
        "print(classification_report(labels,predictions))\n",
        "plt.figure(figsize=(10,6))\n",
        "sns.heatmap(confusion_matrix(labels,predictions), annot=True)"
      ],
      "metadata": {
        "colab": {
          "base_uri": "https://localhost:8080/",
          "height": 618
        },
        "id": "ExDYD6IkcNmL",
        "outputId": "16864714-91b7-49bc-b731-b90ca54b42ad"
      },
      "execution_count": null,
      "outputs": [
        {
          "output_type": "stream",
          "name": "stdout",
          "text": [
            "              precision    recall  f1-score   support\n",
            "\n",
            "           0       0.98      0.83      0.90       416\n",
            "           1       0.78      0.97      0.86       262\n",
            "\n",
            "    accuracy                           0.88       678\n",
            "   macro avg       0.88      0.90      0.88       678\n",
            "weighted avg       0.90      0.88      0.88       678\n",
            "\n"
          ]
        },
        {
          "output_type": "execute_result",
          "data": {
            "text/plain": [
              "<matplotlib.axes._subplots.AxesSubplot at 0x7f213cdb3a10>"
            ]
          },
          "metadata": {},
          "execution_count": 22
        },
        {
          "output_type": "display_data",
          "data": {
            "image/png": "[encoded data removed]",
            "text/plain": [
              "<Figure size 720x432 with 2 Axes>"
            ]
          },
          "metadata": {
            "needs_background": "light"
          }
        }
      ]
    },
    {
      "cell_type": "markdown",
      "source": [
        "#### 4.2.1.3 Skimage\n",
        "\n",
        "[back to top](#top)"
      ],
      "metadata": {
        "id": "ivTRVLt5mqZ2"
      }
    },
    {
      "cell_type": "code",
      "source": [
        "%%time\n",
        "with tf.device('/device:GPU:0'):\n",
        "  results = model.fit(train_dataset_batched,\n",
        "                      epochs=30,\n",
        "                      validation_data=val_dataset_batched,\n",
        "                      callbacks=[early_stop]\n",
        "                      )"
      ],
      "metadata": {
        "colab": {
          "base_uri": "https://localhost:8080/"
        },
        "id": "gbelBvmApiVd",
        "outputId": "49746a6b-556c-4c50-cef0-9136e860ed3f"
      },
      "execution_count": null,
      "outputs": [
        {
          "output_type": "stream",
          "name": "stdout",
          "text": [
            "Epoch 1/30\n",
            "24/24 [==============================] - 3s 102ms/step - loss: 0.1753 - accuracy: 0.9907 - val_loss: 0.1404 - val_accuracy: 0.9762\n",
            "Epoch 2/30\n",
            "24/24 [==============================] - 2s 94ms/step - loss: 0.1238 - accuracy: 0.9828 - val_loss: 0.0573 - val_accuracy: 0.9881\n",
            "Epoch 3/30\n",
            "24/24 [==============================] - 2s 94ms/step - loss: 0.1051 - accuracy: 0.9854 - val_loss: 0.0135 - val_accuracy: 0.9881\n",
            "Epoch 4/30\n",
            "24/24 [==============================] - 2s 94ms/step - loss: 0.1496 - accuracy: 0.9881 - val_loss: 1.4501e-04 - val_accuracy: 1.0000\n",
            "Epoch 5/30\n",
            "24/24 [==============================] - 2s 94ms/step - loss: 0.0523 - accuracy: 0.9960 - val_loss: 1.0566e-04 - val_accuracy: 1.0000\n",
            "Epoch 6/30\n",
            "24/24 [==============================] - 2s 94ms/step - loss: 0.0832 - accuracy: 0.9828 - val_loss: 0.0013 - val_accuracy: 1.0000\n",
            "Epoch 7/30\n",
            "24/24 [==============================] - 2s 95ms/step - loss: 0.0398 - accuracy: 0.9921 - val_loss: 0.2791 - val_accuracy: 0.9881\n",
            "Epoch 8/30\n",
            "24/24 [==============================] - 2s 94ms/step - loss: 0.0828 - accuracy: 0.9907 - val_loss: 0.1926 - val_accuracy: 0.9762\n",
            "Epoch 9/30\n",
            "24/24 [==============================] - 2s 94ms/step - loss: 0.0173 - accuracy: 0.9934 - val_loss: 1.9447e-05 - val_accuracy: 1.0000\n",
            "Epoch 10/30\n",
            "24/24 [==============================] - 2s 94ms/step - loss: 0.0234 - accuracy: 0.9974 - val_loss: 0.1100 - val_accuracy: 0.9881\n",
            "Epoch 11/30\n",
            "24/24 [==============================] - 2s 93ms/step - loss: 0.0213 - accuracy: 0.9960 - val_loss: 5.2849e-05 - val_accuracy: 1.0000\n",
            "Epoch 12/30\n",
            "24/24 [==============================] - 2s 93ms/step - loss: 0.0197 - accuracy: 0.9947 - val_loss: 0.0372 - val_accuracy: 0.9762\n",
            "Epoch 13/30\n",
            "24/24 [==============================] - 2s 94ms/step - loss: 0.0230 - accuracy: 0.9947 - val_loss: 3.8684e-06 - val_accuracy: 1.0000\n",
            "Epoch 14/30\n",
            "24/24 [==============================] - 2s 94ms/step - loss: 0.0151 - accuracy: 0.9974 - val_loss: 7.6069e-04 - val_accuracy: 1.0000\n",
            "Epoch 15/30\n",
            "24/24 [==============================] - 2s 94ms/step - loss: 0.0112 - accuracy: 0.9987 - val_loss: 2.3023e-04 - val_accuracy: 1.0000\n",
            "Epoch 16/30\n",
            "24/24 [==============================] - 2s 93ms/step - loss: 0.0049 - accuracy: 0.9960 - val_loss: 9.3551e-06 - val_accuracy: 1.0000\n",
            "Epoch 17/30\n",
            "24/24 [==============================] - 2s 95ms/step - loss: 3.3230e-04 - accuracy: 1.0000 - val_loss: 1.6679e-04 - val_accuracy: 1.0000\n",
            "Epoch 18/30\n",
            "24/24 [==============================] - 2s 93ms/step - loss: 1.5592e-04 - accuracy: 1.0000 - val_loss: 0.0010 - val_accuracy: 1.0000\n",
            "CPU times: user 36 s, sys: 1.42 s, total: 37.4 s\n",
            "Wall time: 44.7 s\n"
          ]
        }
      ]
    },
    {
      "cell_type": "code",
      "source": [
        "losses = pd.DataFrame(results.history)\n",
        "fig, ax = plt.subplots(1, 2, figsize=(10,5))\n",
        "losses[['loss','val_loss']].plot(ax=ax[0])\n",
        "losses[['accuracy','val_accuracy']].plot(ax=ax[1])"
      ],
      "metadata": {
        "colab": {
          "base_uri": "https://localhost:8080/",
          "height": 387
        },
        "id": "M8o5vAd_pj1Y",
        "outputId": "094625d4-474d-495a-97ba-a7db07811624"
      },
      "execution_count": null,
      "outputs": [
        {
          "output_type": "execute_result",
          "data": {
            "text/plain": [
              "<matplotlib.axes._subplots.AxesSubplot at 0x7f213b4fc8d0>"
            ]
          },
          "metadata": {},
          "execution_count": 24
        },
        {
          "output_type": "display_data",
          "data": {
            "image/png": "[encoded data removed]",
            "text/plain": [
              "<Figure size 720x360 with 2 Axes>"
            ]
          },
          "metadata": {
            "needs_background": "light"
          }
        }
      ]
    },
    {
      "cell_type": "markdown",
      "source": [
        "##### 4.2.1.3.1 Evaluate\n",
        "\n",
        "[back to top](#top)"
      ],
      "metadata": {
        "id": "ncUjSrW9h2Af"
      }
    },
    {
      "cell_type": "code",
      "source": [
        "pred = []\n",
        "label = []\n",
        "for batch in range(len(test_dataset_batched)):\n",
        "  image_batch, label_batch = train_dataset_batched.as_numpy_iterator().next()\n",
        "  predictions = model.predict_on_batch(image_batch).argmax(axis=1)\n",
        "  # print(f\"Labels     : {label_batch}\\nPredictions: {predictions.astype(float)}\")\n",
        "  pred.append(predictions)\n",
        "  label.append(label_batch)\n",
        "predictions = np.array(pred).flatten()\n",
        "labels = np.array(label).flatten()\n",
        "print(classification_report(labels,predictions))\n",
        "\n",
        "plt.figure(figsize=(10,6))\n",
        "sns.heatmap(confusion_matrix(labels,predictions), annot=True)"
      ],
      "metadata": {
        "colab": {
          "base_uri": "https://localhost:8080/",
          "height": 618
        },
        "id": "lpNSrw3THaHP",
        "outputId": "fc11b31b-5e34-43c6-8002-fc2fed6ea22a"
      },
      "execution_count": null,
      "outputs": [
        {
          "output_type": "stream",
          "name": "stdout",
          "text": [
            "              precision    recall  f1-score   support\n",
            "\n",
            "         0.0       1.00      1.00      1.00       365\n",
            "         1.0       1.00      1.00      1.00       339\n",
            "\n",
            "    accuracy                           1.00       704\n",
            "   macro avg       1.00      1.00      1.00       704\n",
            "weighted avg       1.00      1.00      1.00       704\n",
            "\n"
          ]
        },
        {
          "output_type": "execute_result",
          "data": {
            "text/plain": [
              "<matplotlib.axes._subplots.AxesSubplot at 0x7f213b530b90>"
            ]
          },
          "metadata": {},
          "execution_count": 25
        },
        {
          "output_type": "display_data",
          "data": {
            "image/png": "[encoded data removed]",
            "text/plain": [
              "<Figure size 720x432 with 2 Axes>"
            ]
          },
          "metadata": {
            "needs_background": "light"
          }
        }
      ]
    },
    {
      "cell_type": "markdown",
      "source": [
        "### 🏋️ Exercise 2: Binary Output\n",
        "\n",
        "In the above, we used a type of loss function called *sparse categorical crossentropy*\n",
        "\n",
        "This loss is useful when we have many target classes set as different integers, i.e.\n",
        "\n",
        "```\n",
        "good = 1\n",
        "bad = 2\n",
        "ugly = 3\n",
        "```\n",
        "\n",
        "another type of loss function is *categorical crossentropy* this is for when the target classes are one-hot encoded, i.e.\n",
        "\n",
        "```\n",
        "good = [1,0,0]\n",
        "bad = [0,1,0]\n",
        "ugly = [0,0,1]\n",
        "```\n",
        "\n",
        "1. Choose one of the datatset import methods from above\n",
        "2. Specify the labels as binar\n",
        "3. redefine the model using a single dense node as the final layer with a sigmoidal activation function\n",
        "4. and compile with the new loss set to 'binary_crossentropy',\n",
        "5. train \n",
        "6. evaluate (check the output of the model, old code will no longer work!"
      ],
      "metadata": {
        "id": "4APst7gsvI2o"
      }
    },
    {
      "cell_type": "code",
      "source": [
        "# Load training and validation sets\n",
        "label_mode = \"binary\"\n",
        "print(\"loading training set...\")\n",
        "ds_train_ = image_dataset_from_directory(\n",
        "    technocast_train_path,\n",
        "    labels=\"inferred\",\n",
        "    label_mode=label_mode,\n",
        "    color_mode=\"rgb\",\n",
        "    image_size=image_shape[:2],\n",
        "    batch_size=batch_size,\n",
        "    validation_split=validation_split,\n",
        "    subset=\"training\",\n",
        "    shuffle=True,\n",
        "    seed=42,\n",
        ")\n",
        "print(\"loading validation set...\")\n",
        "ds_val_ = image_dataset_from_directory(\n",
        "    technocast_train_path,\n",
        "    labels=\"inferred\",\n",
        "    label_mode=label_mode,\n",
        "    color_mode=\"rgb\",\n",
        "    image_size=image_shape[:2],\n",
        "    batch_size=batch_size,\n",
        "    validation_split=validation_split,\n",
        "    subset=\"validation\",\n",
        "    shuffle=True,\n",
        "    seed=42,\n",
        ")\n",
        "print(\"loading testing set...\")\n",
        "ds_test_ = image_dataset_from_directory(\n",
        "    technocast_test_path,\n",
        "    labels=\"inferred\",\n",
        "    label_mode=label_mode,\n",
        "    color_mode=\"rgb\",\n",
        "    image_size=image_shape[:2],\n",
        "    batch_size=batch_size,\n",
        "    shuffle=False,\n",
        ")\n",
        "\n",
        "train_set_tf_binary = ds_train_.prefetch(buffer_size=AUTOTUNE)\n",
        "val_set_tf_binary = ds_val_.prefetch(buffer_size=AUTOTUNE)\n",
        "test_set_tf_binary = ds_test_.prefetch(buffer_size=AUTOTUNE)"
      ],
      "metadata": {
        "colab": {
          "base_uri": "https://localhost:8080/"
        },
        "id": "IQExKnkRwShn",
        "outputId": "02e6cd1b-b28d-494f-9e39-2f430935f6e4"
      },
      "execution_count": null,
      "outputs": [
        {
          "output_type": "stream",
          "name": "stdout",
          "text": [
            "loading training set...\n",
            "Found 840 files belonging to 2 classes.\n",
            "Using 756 files for training.\n",
            "loading validation set...\n",
            "Found 840 files belonging to 2 classes.\n",
            "Using 84 files for validation.\n",
            "loading testing set...\n",
            "Found 678 files belonging to 2 classes.\n"
          ]
        }
      ]
    },
    {
      "cell_type": "code",
      "source": [
        "model = Sequential()\n",
        "\n",
        "model.add(InputLayer(input_shape=(image_shape)))\n",
        "\n",
        "model.add(Conv2D(filters=8, kernel_size=(3,3), activation='relu',))\n",
        "model.add(MaxPooling2D(pool_size=(2, 2)))\n",
        "\n",
        "model.add(Conv2D(filters=16, kernel_size=(3,3), activation='relu',))\n",
        "model.add(MaxPooling2D(pool_size=(2, 2)))\n",
        "\n",
        "model.add(Conv2D(filters=16, kernel_size=(3,3), activation='relu',))\n",
        "model.add(MaxPooling2D(pool_size=(2, 2)))\n",
        "\n",
        "model.add(Flatten())\n",
        "\n",
        "model.add(Dense(224))\n",
        "model.add(Activation('relu'))\n",
        "\n",
        "# Last layer\n",
        "model.add(Dense(1))\n",
        "model.add(Activation('sigmoid'))\n",
        "\n",
        "model.compile(loss='binary_crossentropy',\n",
        "              optimizer='adam',\n",
        "              metrics=['binary_accuracy'])\n",
        "\n",
        "early_stop = EarlyStopping(monitor='val_loss',\n",
        "                           patience=5,\n",
        "                           restore_best_weights=True,)"
      ],
      "metadata": {
        "id": "9Wz-Dye9v76k"
      },
      "execution_count": null,
      "outputs": []
    },
    {
      "cell_type": "code",
      "source": [
        "%%time\n",
        "with tf.device('/device:GPU:0'):\n",
        "  results = model.fit(train_set_tf_binary,\n",
        "                      epochs=30,\n",
        "                      validation_data=val_set_tf_binary,\n",
        "                      callbacks=[early_stop]\n",
        "                      )"
      ],
      "metadata": {
        "colab": {
          "base_uri": "https://localhost:8080/"
        },
        "id": "xicM540Sw__T",
        "outputId": "36abd6e6-745c-4d9c-8893-590121f0d674"
      },
      "execution_count": null,
      "outputs": [
        {
          "output_type": "stream",
          "name": "stdout",
          "text": [
            "Epoch 1/5\n",
            "24/24 [==============================] - 4s 125ms/step - loss: 74.1488 - binary_accuracy: 0.5423 - val_loss: 0.6049 - val_binary_accuracy: 0.6667\n",
            "Epoch 2/5\n",
            "24/24 [==============================] - 4s 119ms/step - loss: 0.5216 - binary_accuracy: 0.7487 - val_loss: 0.5339 - val_binary_accuracy: 0.7381\n",
            "Epoch 3/5\n",
            "24/24 [==============================] - 4s 120ms/step - loss: 0.3575 - binary_accuracy: 0.8519 - val_loss: 0.4508 - val_binary_accuracy: 0.7738\n",
            "Epoch 4/5\n",
            "24/24 [==============================] - 4s 120ms/step - loss: 0.2066 - binary_accuracy: 0.9312 - val_loss: 0.4309 - val_binary_accuracy: 0.7857\n",
            "Epoch 5/5\n",
            "24/24 [==============================] - 4s 122ms/step - loss: 0.1224 - binary_accuracy: 0.9656 - val_loss: 0.3694 - val_binary_accuracy: 0.8333\n",
            "CPU times: user 17.1 s, sys: 1.76 s, total: 18.9 s\n",
            "Wall time: 21.7 s\n"
          ]
        }
      ]
    },
    {
      "cell_type": "code",
      "source": [
        "# Keras/ImageDataGenerator results\n",
        "predictions = model.predict(test_set_tf_binary) > 0.5\n",
        "labels = np.array([])\n",
        "for x, y in ds_test_:\n",
        "  labels = np.concatenate([labels, tf.squeeze(y.numpy()).numpy()])\n",
        "print(classification_report(labels,predictions))\n",
        "plt.figure(figsize=(10,6))\n",
        "sns.heatmap(confusion_matrix(labels,predictions), annot=True)"
      ],
      "metadata": {
        "colab": {
          "base_uri": "https://localhost:8080/",
          "height": 551
        },
        "id": "bTHXzrxtxmYn",
        "outputId": "7487e84a-80ca-4490-e8f5-14bb6ac18693"
      },
      "execution_count": null,
      "outputs": [
        {
          "output_type": "stream",
          "name": "stdout",
          "text": [
            "              precision    recall  f1-score   support\n",
            "\n",
            "         0.0       0.96      0.84      0.90       416\n",
            "         1.0       0.79      0.95      0.86       262\n",
            "\n",
            "    accuracy                           0.88       678\n",
            "   macro avg       0.87      0.89      0.88       678\n",
            "weighted avg       0.90      0.88      0.88       678\n",
            "\n"
          ]
        },
        {
          "output_type": "execute_result",
          "data": {
            "text/plain": [
              "<matplotlib.axes._subplots.AxesSubplot at 0x7f2399ef4c90>"
            ]
          },
          "metadata": {},
          "execution_count": 20
        },
        {
          "output_type": "display_data",
          "data": {
            "image/png": "[encoded data removed]",
            "text/plain": [
              "<Figure size 720x432 with 2 Axes>"
            ]
          },
          "metadata": {
            "needs_background": "light"
          }
        }
      ]
    },
    {
      "cell_type": "markdown",
      "metadata": {
        "id": "GTTWyFrXDvoN"
      },
      "source": [
        "<a name='x.3'></a>\n",
        "\n",
        "## 4.3 Data Augmentation\n",
        "\n",
        "[back to top](#top)\n",
        "\n",
        "Alright, alright, alright. We've done pretty good making our CNN model. But let's see if we can make it even better. There's a last trick we'll cover here in regard to image classifiers. We're going to perturb the input images in such a way as to create a pseudo-larger dataset.\n",
        "\n",
        "With any machine learning model, the more relevant training data we give the model, the better. The key here is _relevant_ training data. We can easily do this with images so long as we do not change the class of the image. For example, in the small plot below, we are changing contrast, hue, rotation, and doing other things to the image of a car; and this is okay because it does not change the classification from a car to, say, a truck.\n",
        "\n",
        "<p align=center>\n",
        "<img src=\"https://raw.githubusercontent.com/wesleybeckner/general_applications_of_neural_networks/main/assets/UaOm0ms.png\" width=400></img>\n",
        "</p>\n",
        "\n",
        "Typically when we do data augmentation for images, we do them _online_, i.e. during training. Recall that we train in batches (or minibatches) with CNNs. An example of a minibatch then, might be the small multiples plot below.\n",
        "\n",
        "<p align=center>\n",
        "<img src=\"https://raw.githubusercontent.com/wesleybeckner/general_applications_of_neural_networks/main/assets/MFviYoE.png\" width=400></img>\n",
        "</p>\n",
        "\n",
        "by varying the images in this way, the model always sees slightly new data, and becomes a more robust model. Remember that the caveat is that we can't muddle the relevant classification of the image. Sometimes the best way to see if data augmentation will be helpful is to just try it and see!"
      ]
    },
    {
      "cell_type": "markdown",
      "source": [
        "### 4.3.1 Define Architecture\n",
        "\n",
        "[back to top](#top)"
      ],
      "metadata": {
        "id": "-vxUj_-3jzU8"
      }
    },
    {
      "cell_type": "code",
      "metadata": {
        "id": "1o9ATkGp3-OR",
        "colab": {
          "base_uri": "https://localhost:8080/"
        },
        "outputId": "b0c6bee6-9270-4e5c-cffa-0c9b599e02fc"
      },
      "source": [
        "from tensorflow.keras.layers.experimental import preprocessing\n",
        "seed = 42\n",
        "\n",
        "#Creating model\n",
        "\n",
        "model = Sequential()\n",
        "\n",
        "model.add(InputLayer(input_shape=(image_shape)))\n",
        "\n",
        "model.add(preprocessing.RandomFlip('horizontal', seed=seed)), # flip left-to-right\n",
        "model.add(preprocessing.RandomFlip('vertical', seed=seed)), # flip upside-down\n",
        "model.add(preprocessing.RandomContrast(0.5, seed=seed)), # contrast change by up to 50%\n",
        "model.add(preprocessing.RandomRotation(factor=1, fill_mode='constant', seed=seed))\n",
        "\n",
        "model.add(Conv2D(filters=8, kernel_size=(3,3),input_shape=image_shape, activation='relu',))\n",
        "model.add(MaxPooling2D(pool_size=(2, 2)))\n",
        "\n",
        "model.add(Conv2D(filters=16, kernel_size=(3,3), activation='relu',))\n",
        "model.add(MaxPooling2D(pool_size=(2, 2)))\n",
        "\n",
        "model.add(Conv2D(filters=16, kernel_size=(3,3), activation='relu',))\n",
        "model.add(MaxPooling2D(pool_size=(2, 2)))\n",
        "\n",
        "model.add(Flatten())\n",
        "\n",
        "model.add(Dense(224))\n",
        "model.add(Activation('relu'))\n",
        "\n",
        "# Last layer\n",
        "model.add(Dense(2))\n",
        "\n",
        "early_stop = EarlyStopping(monitor='val_loss',\n",
        "                           patience=5,\n",
        "                           restore_best_weights=True,)\n",
        "\n",
        "base_learning_rate = 0.001\n",
        "model.compile(loss=tf.keras.losses.SparseCategoricalCrossentropy(from_logits=True),\n",
        "              optimizer=tf.keras.optimizers.Adam(learning_rate=base_learning_rate),\n",
        "              metrics=['accuracy'])\n",
        "\n",
        "model.summary()"
      ],
      "execution_count": null,
      "outputs": [
        {
          "output_type": "stream",
          "name": "stdout",
          "text": [
            "Model: \"sequential_4\"\n",
            "_________________________________________________________________\n",
            " Layer (type)                Output Shape              Param #   \n",
            "=================================================================\n",
            " random_flip (RandomFlip)    (None, 300, 300, 3)       0         \n",
            "                                                                 \n",
            " random_flip_1 (RandomFlip)  (None, 300, 300, 3)       0         \n",
            "                                                                 \n",
            " random_contrast (RandomCont  (None, 300, 300, 3)      0         \n",
            " rast)                                                           \n",
            "                                                                 \n",
            " random_rotation (RandomRota  (None, 300, 300, 3)      0         \n",
            " tion)                                                           \n",
            "                                                                 \n",
            " conv2d_28 (Conv2D)          (None, 298, 298, 8)       224       \n",
            "                                                                 \n",
            " max_pooling2d_6 (MaxPooling  (None, 149, 149, 8)      0         \n",
            " 2D)                                                             \n",
            "                                                                 \n",
            " conv2d_29 (Conv2D)          (None, 147, 147, 16)      1168      \n",
            "                                                                 \n",
            " max_pooling2d_7 (MaxPooling  (None, 73, 73, 16)       0         \n",
            " 2D)                                                             \n",
            "                                                                 \n",
            " conv2d_30 (Conv2D)          (None, 71, 71, 16)        2320      \n",
            "                                                                 \n",
            " max_pooling2d_8 (MaxPooling  (None, 35, 35, 16)       0         \n",
            " 2D)                                                             \n",
            "                                                                 \n",
            " flatten_1 (Flatten)         (None, 19600)             0         \n",
            "                                                                 \n",
            " dense_2 (Dense)             (None, 224)               4390624   \n",
            "                                                                 \n",
            " activation_3 (Activation)   (None, 224)               0         \n",
            "                                                                 \n",
            " dense_3 (Dense)             (None, 2)                 450       \n",
            "                                                                 \n",
            "=================================================================\n",
            "Total params: 4,394,786\n",
            "Trainable params: 4,394,786\n",
            "Non-trainable params: 0\n",
            "_________________________________________________________________\n"
          ]
        }
      ]
    },
    {
      "cell_type": "code",
      "metadata": {
        "id": "lRZOVdQoHP0z",
        "colab": {
          "base_uri": "https://localhost:8080/"
        },
        "outputId": "67aea09f-ab48-4758-f262-ad3b30112529"
      },
      "source": [
        "results = model.fit(train_dataset_batched,\n",
        "                    epochs=30,\n",
        "                    validation_data=val_dataset_batched,\n",
        "                    callbacks=[early_stop])"
      ],
      "execution_count": null,
      "outputs": [
        {
          "output_type": "stream",
          "name": "stdout",
          "text": [
            "Epoch 1/30\n",
            "24/24 [==============================] - 5s 133ms/step - loss: 145.6850 - accuracy: 0.5225 - val_loss: 1.5232 - val_accuracy: 0.5595\n",
            "Epoch 2/30\n",
            "24/24 [==============================] - 4s 126ms/step - loss: 0.9802 - accuracy: 0.6058 - val_loss: 0.6403 - val_accuracy: 0.6667\n",
            "Epoch 3/30\n",
            "24/24 [==============================] - 4s 126ms/step - loss: 0.7388 - accuracy: 0.5754 - val_loss: 0.6368 - val_accuracy: 0.6667\n",
            "Epoch 4/30\n",
            "24/24 [==============================] - 4s 124ms/step - loss: 0.6138 - accuracy: 0.6601 - val_loss: 0.6346 - val_accuracy: 0.6310\n",
            "Epoch 5/30\n",
            "24/24 [==============================] - 4s 125ms/step - loss: 0.6232 - accuracy: 0.6442 - val_loss: 0.6470 - val_accuracy: 0.6429\n",
            "Epoch 6/30\n",
            "24/24 [==============================] - 4s 126ms/step - loss: 0.5683 - accuracy: 0.7077 - val_loss: 0.5956 - val_accuracy: 0.6905\n",
            "Epoch 7/30\n",
            "24/24 [==============================] - 4s 126ms/step - loss: 0.5701 - accuracy: 0.7143 - val_loss: 0.5657 - val_accuracy: 0.7857\n",
            "Epoch 8/30\n",
            "24/24 [==============================] - 4s 130ms/step - loss: 0.5474 - accuracy: 0.7249 - val_loss: 0.4587 - val_accuracy: 0.7976\n",
            "Epoch 9/30\n",
            "24/24 [==============================] - 4s 129ms/step - loss: 0.4564 - accuracy: 0.7976 - val_loss: 0.5166 - val_accuracy: 0.7143\n",
            "Epoch 10/30\n",
            "24/24 [==============================] - 4s 127ms/step - loss: 0.5312 - accuracy: 0.7553 - val_loss: 0.6146 - val_accuracy: 0.7262\n",
            "Epoch 11/30\n",
            "24/24 [==============================] - 4s 128ms/step - loss: 0.5307 - accuracy: 0.7553 - val_loss: 0.4577 - val_accuracy: 0.7976\n",
            "Epoch 12/30\n",
            "24/24 [==============================] - 4s 127ms/step - loss: 0.4135 - accuracy: 0.7937 - val_loss: 0.3433 - val_accuracy: 0.8810\n",
            "Epoch 13/30\n",
            "24/24 [==============================] - 4s 125ms/step - loss: 0.3664 - accuracy: 0.8426 - val_loss: 0.3004 - val_accuracy: 0.8929\n",
            "Epoch 14/30\n",
            "24/24 [==============================] - 4s 129ms/step - loss: 0.3254 - accuracy: 0.8571 - val_loss: 0.3183 - val_accuracy: 0.8810\n",
            "Epoch 15/30\n",
            "24/24 [==============================] - 4s 128ms/step - loss: 0.4240 - accuracy: 0.8214 - val_loss: 0.3149 - val_accuracy: 0.8690\n",
            "Epoch 16/30\n",
            "24/24 [==============================] - 4s 127ms/step - loss: 0.4369 - accuracy: 0.8188 - val_loss: 0.3069 - val_accuracy: 0.8810\n",
            "Epoch 17/30\n",
            "24/24 [==============================] - 4s 126ms/step - loss: 0.3945 - accuracy: 0.8267 - val_loss: 0.3270 - val_accuracy: 0.8214\n",
            "Epoch 18/30\n",
            "24/24 [==============================] - 4s 129ms/step - loss: 0.3162 - accuracy: 0.8479 - val_loss: 0.1927 - val_accuracy: 0.9167\n",
            "Epoch 19/30\n",
            "24/24 [==============================] - 4s 127ms/step - loss: 0.2813 - accuracy: 0.8862 - val_loss: 0.1998 - val_accuracy: 0.9048\n",
            "Epoch 20/30\n",
            "24/24 [==============================] - 4s 128ms/step - loss: 0.2125 - accuracy: 0.9074 - val_loss: 0.1843 - val_accuracy: 0.9167\n",
            "Epoch 21/30\n",
            "24/24 [==============================] - 4s 126ms/step - loss: 0.2999 - accuracy: 0.8876 - val_loss: 0.2909 - val_accuracy: 0.8810\n",
            "Epoch 22/30\n",
            "24/24 [==============================] - 4s 126ms/step - loss: 0.2403 - accuracy: 0.9061 - val_loss: 0.6055 - val_accuracy: 0.7619\n",
            "Epoch 23/30\n",
            "24/24 [==============================] - 4s 131ms/step - loss: 0.2892 - accuracy: 0.8796 - val_loss: 0.1297 - val_accuracy: 0.9524\n",
            "Epoch 24/30\n",
            "24/24 [==============================] - 4s 129ms/step - loss: 0.2871 - accuracy: 0.8849 - val_loss: 0.4373 - val_accuracy: 0.8810\n",
            "Epoch 25/30\n",
            "24/24 [==============================] - 4s 131ms/step - loss: 0.4933 - accuracy: 0.7923 - val_loss: 0.4418 - val_accuracy: 0.7500\n",
            "Epoch 26/30\n",
            "24/24 [==============================] - 4s 128ms/step - loss: 0.3957 - accuracy: 0.8333 - val_loss: 0.5857 - val_accuracy: 0.7738\n",
            "Epoch 27/30\n",
            "24/24 [==============================] - 4s 126ms/step - loss: 0.4295 - accuracy: 0.8082 - val_loss: 0.4596 - val_accuracy: 0.8214\n",
            "Epoch 28/30\n",
            "24/24 [==============================] - 4s 130ms/step - loss: 0.3859 - accuracy: 0.8228 - val_loss: 0.4276 - val_accuracy: 0.8214\n"
          ]
        }
      ]
    },
    {
      "cell_type": "markdown",
      "metadata": {
        "id": "5pfVDQlYjaWQ"
      },
      "source": [
        "<a name='x.3.1'></a>\n",
        "\n",
        "### 4.3.2 Evaluate Model\n",
        "\n",
        "[back to top](#top)"
      ]
    },
    {
      "cell_type": "code",
      "metadata": {
        "id": "9eQ48mBdN0LB",
        "colab": {
          "base_uri": "https://localhost:8080/",
          "height": 618
        },
        "outputId": "ad6d7517-66b9-4641-8038-4f859fe0cba6"
      },
      "source": [
        "# Keras/ImageDataGenerator results\n",
        "predictions = model.predict(test_set_tf).argmax(axis=1)\n",
        "labels = test_set_keras.classes\n",
        "print(classification_report(labels,predictions))\n",
        "plt.figure(figsize=(10,6))\n",
        "sns.heatmap(confusion_matrix(labels,predictions), annot=True)"
      ],
      "execution_count": null,
      "outputs": [
        {
          "output_type": "stream",
          "name": "stdout",
          "text": [
            "              precision    recall  f1-score   support\n",
            "\n",
            "           0       0.96      0.88      0.92       416\n",
            "           1       0.83      0.94      0.88       262\n",
            "\n",
            "    accuracy                           0.90       678\n",
            "   macro avg       0.89      0.91      0.90       678\n",
            "weighted avg       0.91      0.90      0.90       678\n",
            "\n"
          ]
        },
        {
          "output_type": "execute_result",
          "data": {
            "text/plain": [
              "<matplotlib.axes._subplots.AxesSubplot at 0x7f2131a84fd0>"
            ]
          },
          "metadata": {},
          "execution_count": 28
        },
        {
          "output_type": "display_data",
          "data": {
            "image/png": "[encoded data removed]",
            "text/plain": [
              "<Figure size 720x432 with 2 Axes>"
            ]
          },
          "metadata": {
            "needs_background": "light"
          }
        }
      ]
    },
    {
      "cell_type": "markdown",
      "metadata": {
        "id": "YBElwTahjiOH"
      },
      "source": [
        "<a name='x.3.2'></a>\n",
        "\n",
        "### 🏋️ Exercise 3: Image Preprocessing Layers\n",
        "\n",
        "[back to top](#top)\n",
        "\n",
        "These layers apply random augmentation transforms to a batch of images. They are only active during training. You can visit the documentation [here](https://keras.io/api/layers/preprocessing_layers/image_preprocessing/)\n",
        "\n",
        "* `RandomCrop` layer\n",
        "* `RandomFlip` layer\n",
        "* `RandomTranslation` layer\n",
        "* `RandomRotation` layer\n",
        "* `RandomZoom` layer\n",
        "* `RandomHeight` layer\n",
        "* `RandomWidth` layer\n",
        "\n",
        "Use any combination of random augmentation transforms and retrain your model. Can you get a higher val performance? you may need to increase your epochs."
      ]
    },
    {
      "cell_type": "code",
      "metadata": {
        "id": "EUrtB6o_kFtI"
      },
      "source": [
        "# code cell for exercise 4.3.2"
      ],
      "execution_count": null,
      "outputs": []
    },
    {
      "cell_type": "markdown",
      "metadata": {
        "id": "GGijUvR_efGS"
      },
      "source": [
        "<a name='x.4'></a>\n",
        "\n",
        "## 4.4 Transfer Learning\n",
        "\n",
        "[back to top](#top)\n",
        "\n",
        "MobileNetV2 - A general purpose, deployable computer vision neural network designed by Google that works efficiently for classification, detection and segmentation.  \n",
        "\n",
        "![](https://miro.medium.com/max/1016/1*5iA55983nBMlQn9f6ICxKg.png)"
      ]
    },
    {
      "cell_type": "markdown",
      "source": [
        "### 4.4.1 Define Architecture\n",
        "\n",
        "[back to top](#top)"
      ],
      "metadata": {
        "id": "71LfkwtShWn_"
      }
    },
    {
      "cell_type": "code",
      "source": [
        "### COMPONENTS (IN ORDER)\n",
        "resize = layers.experimental.preprocessing.Resizing(224,224)\n",
        "preprocess_input_fn = tf.keras.applications.mobilenet_v2.preprocess_input \n",
        "base_model = tf.keras.applications.MobileNetV2(input_shape=(224,224,3),\n",
        "                                               include_top=False,\n",
        "                                               weights='imagenet')\n",
        "base_model.trainable=False\n",
        "global_average_layer = tf.keras.layers.GlobalAveragePooling2D()\n",
        "prediction_layer = tf.keras.layers.Dense(len(classes))"
      ],
      "metadata": {
        "id": "NKY2XanzrFcm"
      },
      "execution_count": null,
      "outputs": []
    },
    {
      "cell_type": "code",
      "source": [
        "### MODEL\n",
        "inputs = tf.keras.Input(shape=image_shape)\n",
        "x = resize(inputs)\n",
        "x = preprocess_input_fn(x)\n",
        "x = base_model(x, training=False)\n",
        "x = global_average_layer(x)\n",
        "x = tf.keras.layers.Dropout(0.2)(x)\n",
        "outputs = prediction_layer(x)\n",
        "\n",
        "model = tf.keras.Model(inputs, outputs)"
      ],
      "metadata": {
        "id": "ZAap4KBfudfc"
      },
      "execution_count": null,
      "outputs": []
    },
    {
      "cell_type": "code",
      "source": [
        "base_learning_rate = 0.0001\n",
        "model.compile(optimizer=tf.keras.optimizers.Adam(lr=base_learning_rate),\n",
        "              loss=tf.keras.losses.SparseCategoricalCrossentropy(from_logits=True),\n",
        "              metrics=['accuracy'])\n",
        "\n",
        "early_stop = EarlyStopping(monitor='val_loss',\n",
        "                           patience=5,\n",
        "                           restore_best_weights=True,)\n",
        "model.summary()"
      ],
      "metadata": {
        "colab": {
          "base_uri": "https://localhost:8080/"
        },
        "id": "CtWevtEir3mS",
        "outputId": "b15e0832-b111-4d26-abcb-a271aebaeec6"
      },
      "execution_count": null,
      "outputs": [
        {
          "output_type": "stream",
          "name": "stdout",
          "text": [
            "Model: \"model\"\n",
            "_________________________________________________________________\n",
            " Layer (type)                Output Shape              Param #   \n",
            "=================================================================\n",
            " input_4 (InputLayer)        [(None, 300, 300, 3)]     0         \n",
            "                                                                 \n",
            " resizing (Resizing)         (None, 224, 224, 3)       0         \n",
            "                                                                 \n",
            " tf.math.truediv (TFOpLambda  (None, 224, 224, 3)      0         \n",
            " )                                                               \n",
            "                                                                 \n",
            " tf.math.subtract (TFOpLambd  (None, 224, 224, 3)      0         \n",
            " a)                                                              \n",
            "                                                                 \n",
            " mobilenetv2_1.00_224 (Funct  (None, 7, 7, 1280)       2257984   \n",
            " ional)                                                          \n",
            "                                                                 \n",
            " global_average_pooling2d (G  (None, 1280)             0         \n",
            " lobalAveragePooling2D)                                          \n",
            "                                                                 \n",
            " dropout (Dropout)           (None, 1280)              0         \n",
            "                                                                 \n",
            " dense_4 (Dense)             (None, 2)                 2562      \n",
            "                                                                 \n",
            "=================================================================\n",
            "Total params: 2,260,546\n",
            "Trainable params: 2,562\n",
            "Non-trainable params: 2,257,984\n",
            "_________________________________________________________________\n"
          ]
        },
        {
          "output_type": "stream",
          "name": "stderr",
          "text": [
            "/usr/local/lib/python3.7/dist-packages/keras/optimizer_v2/adam.py:105: UserWarning: The `lr` argument is deprecated, use `learning_rate` instead.\n",
            "  super(Adam, self).__init__(name, **kwargs)\n"
          ]
        }
      ]
    },
    {
      "cell_type": "markdown",
      "source": [
        "### 4.4.2 Train Head\n",
        "\n",
        "[back to top](#top)"
      ],
      "metadata": {
        "id": "vivzVi-RhcjG"
      }
    },
    {
      "cell_type": "code",
      "source": [
        "%%time\n",
        "with tf.device('/device:GPU:0'):\n",
        "  results = model.fit(train_dataset_batched,\n",
        "                      epochs=50,\n",
        "                      validation_data=val_dataset_batched,\n",
        "                      callbacks=[early_stop]\n",
        "                      )"
      ],
      "metadata": {
        "colab": {
          "base_uri": "https://localhost:8080/"
        },
        "id": "hR2o4Aa1saQD",
        "outputId": "ce4135ac-da5a-44c4-8ee1-b89fb2ce76a4"
      },
      "execution_count": null,
      "outputs": [
        {
          "output_type": "stream",
          "name": "stdout",
          "text": [
            "Epoch 1/50\n",
            "24/24 [==============================] - 9s 197ms/step - loss: 0.7603 - accuracy: 0.5278 - val_loss: 0.6178 - val_accuracy: 0.6429\n",
            "Epoch 2/50\n",
            "24/24 [==============================] - 3s 126ms/step - loss: 0.6936 - accuracy: 0.5767 - val_loss: 0.6763 - val_accuracy: 0.5595\n",
            "Epoch 3/50\n",
            "24/24 [==============================] - 3s 129ms/step - loss: 0.6354 - accuracy: 0.6376 - val_loss: 0.5695 - val_accuracy: 0.7262\n",
            "Epoch 4/50\n",
            "24/24 [==============================] - 3s 130ms/step - loss: 0.6002 - accuracy: 0.6746 - val_loss: 0.5598 - val_accuracy: 0.7024\n",
            "Epoch 5/50\n",
            "24/24 [==============================] - 3s 130ms/step - loss: 0.5704 - accuracy: 0.6878 - val_loss: 0.4713 - val_accuracy: 0.8810\n",
            "Epoch 6/50\n",
            "24/24 [==============================] - 3s 126ms/step - loss: 0.5374 - accuracy: 0.7183 - val_loss: 0.4817 - val_accuracy: 0.8214\n",
            "Epoch 7/50\n",
            "24/24 [==============================] - 3s 131ms/step - loss: 0.5126 - accuracy: 0.7447 - val_loss: 0.4212 - val_accuracy: 0.9048\n",
            "Epoch 8/50\n",
            "24/24 [==============================] - 3s 127ms/step - loss: 0.4967 - accuracy: 0.7513 - val_loss: 0.4438 - val_accuracy: 0.8571\n",
            "Epoch 9/50\n",
            "24/24 [==============================] - 3s 130ms/step - loss: 0.4822 - accuracy: 0.7778 - val_loss: 0.3902 - val_accuracy: 0.8571\n",
            "Epoch 10/50\n",
            "24/24 [==============================] - 3s 132ms/step - loss: 0.4794 - accuracy: 0.7646 - val_loss: 0.3613 - val_accuracy: 0.9048\n",
            "Epoch 11/50\n",
            "24/24 [==============================] - 3s 126ms/step - loss: 0.4238 - accuracy: 0.8122 - val_loss: 0.4080 - val_accuracy: 0.8571\n",
            "Epoch 12/50\n",
            "24/24 [==============================] - 3s 130ms/step - loss: 0.4047 - accuracy: 0.8399 - val_loss: 0.3566 - val_accuracy: 0.8690\n",
            "Epoch 13/50\n",
            "24/24 [==============================] - 3s 130ms/step - loss: 0.4086 - accuracy: 0.8188 - val_loss: 0.3560 - val_accuracy: 0.9167\n",
            "Epoch 14/50\n",
            "24/24 [==============================] - 3s 125ms/step - loss: 0.4009 - accuracy: 0.8188 - val_loss: 0.3987 - val_accuracy: 0.8095\n",
            "Epoch 15/50\n",
            "24/24 [==============================] - 3s 129ms/step - loss: 0.3818 - accuracy: 0.8452 - val_loss: 0.3182 - val_accuracy: 0.9286\n",
            "Epoch 16/50\n",
            "24/24 [==============================] - 3s 126ms/step - loss: 0.3616 - accuracy: 0.8638 - val_loss: 0.3620 - val_accuracy: 0.8810\n",
            "Epoch 17/50\n",
            "24/24 [==============================] - 3s 131ms/step - loss: 0.3691 - accuracy: 0.8452 - val_loss: 0.3111 - val_accuracy: 0.8810\n",
            "Epoch 18/50\n",
            "24/24 [==============================] - 3s 130ms/step - loss: 0.3590 - accuracy: 0.8598 - val_loss: 0.2612 - val_accuracy: 0.9167\n",
            "Epoch 19/50\n",
            "24/24 [==============================] - 3s 125ms/step - loss: 0.3449 - accuracy: 0.8585 - val_loss: 0.3057 - val_accuracy: 0.9286\n",
            "Epoch 20/50\n",
            "24/24 [==============================] - 3s 126ms/step - loss: 0.3637 - accuracy: 0.8333 - val_loss: 0.3290 - val_accuracy: 0.8810\n",
            "Epoch 21/50\n",
            "24/24 [==============================] - 3s 126ms/step - loss: 0.3451 - accuracy: 0.8651 - val_loss: 0.3110 - val_accuracy: 0.9048\n",
            "Epoch 22/50\n",
            "24/24 [==============================] - 3s 126ms/step - loss: 0.3394 - accuracy: 0.8624 - val_loss: 0.2913 - val_accuracy: 0.9048\n",
            "Epoch 23/50\n",
            "24/24 [==============================] - 3s 131ms/step - loss: 0.3231 - accuracy: 0.8730 - val_loss: 0.2771 - val_accuracy: 0.9524\n",
            "CPU times: user 37.3 s, sys: 2.87 s, total: 40.2 s\n",
            "Wall time: 1min 32s\n"
          ]
        }
      ]
    },
    {
      "cell_type": "markdown",
      "source": [
        "### 4.4.3 Evaluate Model\n",
        "\n",
        "[back to top](#top)"
      ],
      "metadata": {
        "id": "z7MXlVkuhmWv"
      }
    },
    {
      "cell_type": "code",
      "source": [
        "pred = []\n",
        "label = []\n",
        "for batch in range(len(test_dataset_batched)):\n",
        "  image_batch, label_batch = train_dataset_batched.as_numpy_iterator().next()\n",
        "  predictions = model.predict_on_batch(image_batch).argmax(axis=1)\n",
        "  # print(f\"Labels     : {label_batch}\\nPredictions: {predictions.astype(float)}\")\n",
        "  pred.append(predictions)\n",
        "  label.append(label_batch)\n",
        "predictions = np.array(pred).flatten()\n",
        "labels = np.array(label).flatten()\n",
        "print(classification_report(labels,predictions))\n",
        "\n",
        "plt.figure(figsize=(10,6))\n",
        "sns.heatmap(confusion_matrix(labels,predictions), annot=True)"
      ],
      "metadata": {
        "colab": {
          "base_uri": "https://localhost:8080/",
          "height": 618
        },
        "id": "8tp7dBjtgquR",
        "outputId": "b3787287-71c1-4494-891a-18266792936e"
      },
      "execution_count": null,
      "outputs": [
        {
          "output_type": "stream",
          "name": "stdout",
          "text": [
            "              precision    recall  f1-score   support\n",
            "\n",
            "         0.0       0.96      0.86      0.91       349\n",
            "         1.0       0.87      0.97      0.92       355\n",
            "\n",
            "    accuracy                           0.91       704\n",
            "   macro avg       0.92      0.91      0.91       704\n",
            "weighted avg       0.92      0.91      0.91       704\n",
            "\n"
          ]
        },
        {
          "output_type": "execute_result",
          "data": {
            "text/plain": [
              "<matplotlib.axes._subplots.AxesSubplot at 0x7f2132063910>"
            ]
          },
          "metadata": {},
          "execution_count": 35
        },
        {
          "output_type": "display_data",
          "data": {
            "image/png": "[encoded data removed]",
            "text/plain": [
              "<Figure size 720x432 with 2 Axes>"
            ]
          },
          "metadata": {
            "needs_background": "light"
          }
        }
      ]
    }
  ]
}