{
  "cells": [
    {
      "cell_type": "markdown",
      "metadata": {
        "id": "vhe1yX4AMckE"
      },
      "source": [
        "# General Applications of Neural Networks <br> Session 5: Recurrent Neural Networks and Time Series Analysis\n",
        "\n",
        "**Instructor**: Wesley Beckner\n",
        "\n",
        "**Contact**: wesleybeckner@gmail.com\n",
        "\n",
        "---\n",
        "\n",
        "<br>\n",
        "\n",
        "In this session, we'll be exploring NN as they apply to sequenced data, specifically time series data.\n",
        "\n",
        "<br>\n",
        "\n",
        "---\n",
        "\n",
        "<br>\n",
        "\n",
        "<a name='top'></a>"
      ]
    },
    {
      "cell_type": "markdown",
      "metadata": {
        "id": "mNtJitcRW51Y"
      },
      "source": [
        "<a name='x.0'></a>\n",
        "\n",
        "## 5.0 Preparing Environment and Importing Data\n",
        "\n",
        "[back to top](#top)"
      ]
    },
    {
      "cell_type": "markdown",
      "metadata": {
        "id": "chdcBoBL8SNm"
      },
      "source": [
        "<a name='x.0.1'></a>\n",
        "\n",
        "### 5.0.1 Import Packages\n",
        "\n",
        "[back to top](#top)"
      ]
    },
    {
      "cell_type": "code",
      "source": [
        "!pip install plotly==5.6"
      ],
      "metadata": {
        "colab": {
          "base_uri": "https://localhost:8080/"
        },
        "id": "9SYQjRIC8l6n",
        "outputId": "863260a1-40fd-4dba-859b-20750d61c843"
      },
      "execution_count": 1,
      "outputs": [
        {
          "output_type": "stream",
          "name": "stdout",
          "text": [
            "Collecting plotly==5.6\n",
            "  Downloading plotly-5.6.0-py2.py3-none-any.whl (27.7 MB)\n",
            "\u001b[K     |████████████████████████████████| 27.7 MB 39.1 MB/s \n",
            "\u001b[?25hRequirement already satisfied: six in /usr/local/lib/python3.7/dist-packages (from plotly==5.6) (1.15.0)\n",
            "Requirement already satisfied: tenacity>=6.2.0 in /usr/local/lib/python3.7/dist-packages (from plotly==5.6) (8.0.1)\n",
            "Installing collected packages: plotly\n",
            "  Attempting uninstall: plotly\n",
            "    Found existing installation: plotly 4.14.3\n",
            "    Uninstalling plotly-4.14.3:\n",
            "      Successfully uninstalled plotly-4.14.3\n",
            "Successfully installed plotly-5.6.0\n"
          ]
        }
      ]
    },
    {
      "cell_type": "code",
      "execution_count": 2,
      "metadata": {
        "id": "dwdIW99JRl-1",
        "colab": {
          "base_uri": "https://localhost:8080/"
        },
        "outputId": "5e5cb640-057f-4d2d-82cf-e1a2e8affd38"
      },
      "outputs": [
        {
          "output_type": "stream",
          "name": "stderr",
          "text": [
            "/usr/local/lib/python3.7/dist-packages/statsmodels/tools/_testing.py:19: FutureWarning: pandas.util.testing is deprecated. Use the functions in the public API at pandas.testing instead.\n",
            "  import pandas.util.testing as tm\n"
          ]
        }
      ],
      "source": [
        "import pandas as pd\n",
        "import numpy as np\n",
        "import seaborn as sns\n",
        "import matplotlib.pyplot as plt\n",
        "import plotly.express as px\n",
        "import random\n",
        "from scipy.stats import gamma, norm, expon\n",
        "from ipywidgets import interact\n",
        "from statsmodels.tsa.stattools import pacf, acf\n",
        "from sklearn.metrics import mean_squared_error\n",
        "\n",
        "def melt_results(model, X, y):\n",
        "  y_pred = model.predict(X)\n",
        "  results = pd.DataFrame(y_pred, y)\n",
        "  results = results.reset_index()\n",
        "  results.index = data['Date'][window_size:]\n",
        "  results = results.reset_index()\n",
        "  results.columns=['Date', 'real', 'predicted']\n",
        "  results = results.melt(id_vars='Date', var_name='Source', value_name='KG')\n",
        "  return results\n",
        "\n",
        "def process_data(Xy, window=3, time_cols=12, remove_null=False):\n",
        "  \"\"\"\n",
        "  This function splits your time series data into the proper windows\n",
        "\n",
        "  Parameters\n",
        "  ----------\n",
        "  Xy: array\n",
        "    The input data. If there are non-time series columns, assumes they are on\n",
        "    the left and time columns are on the right. \n",
        "  time_cols: int\n",
        "    The number of time columns, default 12\n",
        "  window: int\n",
        "    The time window size, default 3\n",
        "\n",
        "  Returns\n",
        "  -------\n",
        "  X_: array\n",
        "    The independent variables, includes time and non-time series columns with\n",
        "    the new window\n",
        "  y_: array\n",
        "    The dependent variable, selected from the time columns at the end of the \n",
        "    window\n",
        "  labels:\n",
        "    The time series labels, can be used in subsequent plot\n",
        "  \"\"\"\n",
        "  # separate the non-time series columns\n",
        "  X_cat = Xy[:,:-time_cols]\n",
        "\n",
        "  # select the columns to apply the sweeping window\n",
        "  X = Xy[:,-time_cols:]\n",
        "\n",
        "  X_ = []\n",
        "  y = []\n",
        "\n",
        "  for i in range(X.shape[1]-window):\n",
        "    # after attaching the current window to the non-time series \n",
        "    # columns, add it to a growing list\n",
        "    X_.append(np.concatenate((X_cat, X[:, i:i+window]), axis=1))\n",
        "\n",
        "    # add the next time delta after the window to the list of y\n",
        "    # values\n",
        "    y.append(X[:, i+window])\n",
        "\n",
        "  # X_ is 3D: [number of replicates from sweeping window,\n",
        "  #           length of input data, \n",
        "  #           size of new feature with categories and time]\n",
        "  # we want to reshape X_ so that the replicates due to the sweeping window is \n",
        "  # a part of the same dimension as the instances of the input data\n",
        "  X_ = np.array(X_).reshape(X.shape[0]*np.array(X_).shape[0],window+X_cat.shape[1])\n",
        "  y = np.array(y).reshape(X.shape[0]*np.array(y).shape[0],)\n",
        "\n",
        "  if remove_null:\n",
        "    # remove training data where the target is 0 (may be unfair advantage)\n",
        "    X_ = X_[np.where(~np.isnan(y.astype(float)))[0]]\n",
        "    y = y[np.where(~np.isnan(y.astype(float)))[0]]\n",
        "\n",
        "  # create labels that show the previous month values used to train the model\n",
        "  labels = []\n",
        "  for row in X_:\n",
        "    labels.append(\"X: {}\".format(np.array2string(row[-window:].astype(float).round())))\n",
        "  return X_, y, labels\n",
        "\n",
        "def train_test_process(data, train_test_val_ratios = [0.6, 0.8], window_size=3):\n",
        "  # get the indices at the associated ratios\n",
        "  idx_split1 = int(data.shape[1]*train_test_val_ratios[0])\n",
        "  idx_split2 = int(data.shape[1]*train_test_val_ratios[1])\n",
        "\n",
        "  # index the data to build the sets\n",
        "  data_train = data[:,:idx_split1]\n",
        "  data_val = data[:,idx_split1:idx_split2]\n",
        "  data_test = data[:,idx_split2:]\n",
        "\n",
        "  # build out the training sets with the sweeping window method\n",
        "  X_train, y_train, labels = process_data(data_train, window=window_size, time_cols=132)\n",
        "  X_val, y_val, labels = process_data(data_val, window=window_size, time_cols=132)\n",
        "  X_test, y_test, labels = process_data(data_test, window=window_size, time_cols=132)\n",
        "\n",
        "  print(\"train size: {}\".format(X_train.shape[0]))\n",
        "  print(\"val size: {}\".format(X_val.shape[0]))\n",
        "  print(\"test size: {}\".format(X_test.shape[0]), end='\\n\\n')\n",
        "\n",
        "  return X_train, y_train, X_val, y_val, X_test, y_test"
      ]
    },
    {
      "cell_type": "markdown",
      "metadata": {
        "id": "R7vDY-8U8SWd"
      },
      "source": [
        "<a name='x.0.2'></a>\n",
        "\n",
        "### 5.0.2 Load Dataset\n",
        "\n",
        "[back to top](#top)"
      ]
    },
    {
      "cell_type": "code",
      "execution_count": 3,
      "metadata": {
        "colab": {
          "base_uri": "https://localhost:8080/",
          "height": 423
        },
        "id": "PNdnL3fBC9Jr",
        "outputId": "f515f868-ddd6-4d7b-bf51-efccafd71102"
      },
      "outputs": [
        {
          "output_type": "execute_result",
          "data": {
            "text/html": [
              "\n",
              "  <div id=\"df-d65e9f28-ef7d-4d9a-82af-25a97dc82a5e\">\n",
              "    <div class=\"colab-df-container\">\n",
              "      <div>\n",
              "<style scoped>\n",
              "    .dataframe tbody tr th:only-of-type {\n",
              "        vertical-align: middle;\n",
              "    }\n",
              "\n",
              "    .dataframe tbody tr th {\n",
              "        vertical-align: top;\n",
              "    }\n",
              "\n",
              "    .dataframe thead th {\n",
              "        text-align: right;\n",
              "    }\n",
              "</style>\n",
              "<table border=\"1\" class=\"dataframe\">\n",
              "  <thead>\n",
              "    <tr style=\"text-align: right;\">\n",
              "      <th></th>\n",
              "      <th>base_cake</th>\n",
              "      <th>truffle_type</th>\n",
              "      <th>primary_flavor</th>\n",
              "      <th>secondary_flavor</th>\n",
              "      <th>color_group</th>\n",
              "      <th>customer</th>\n",
              "      <th>date</th>\n",
              "      <th>kg</th>\n",
              "    </tr>\n",
              "  </thead>\n",
              "  <tbody>\n",
              "    <tr>\n",
              "      <th>0</th>\n",
              "      <td>Cheese</td>\n",
              "      <td>Candy Outer</td>\n",
              "      <td>Horchata</td>\n",
              "      <td>Vanilla</td>\n",
              "      <td>Amethyst</td>\n",
              "      <td>Perk-a-Cola</td>\n",
              "      <td>1/2010</td>\n",
              "      <td>12570.335165</td>\n",
              "    </tr>\n",
              "    <tr>\n",
              "      <th>1</th>\n",
              "      <td>Tiramisu</td>\n",
              "      <td>Chocolate Outer</td>\n",
              "      <td>Irish Cream</td>\n",
              "      <td>Egg Nog</td>\n",
              "      <td>Slate</td>\n",
              "      <td>Dandy's Candies</td>\n",
              "      <td>1/2010</td>\n",
              "      <td>7922.970436</td>\n",
              "    </tr>\n",
              "    <tr>\n",
              "      <th>2</th>\n",
              "      <td>Sponge</td>\n",
              "      <td>Chocolate Outer</td>\n",
              "      <td>Ginger Ale</td>\n",
              "      <td>Apple</td>\n",
              "      <td>Slate</td>\n",
              "      <td>Dandy's Candies</td>\n",
              "      <td>1/2010</td>\n",
              "      <td>10521.306722</td>\n",
              "    </tr>\n",
              "    <tr>\n",
              "      <th>3</th>\n",
              "      <td>Cheese</td>\n",
              "      <td>Chocolate Outer</td>\n",
              "      <td>Coffee</td>\n",
              "      <td>Pear</td>\n",
              "      <td>Opal</td>\n",
              "      <td>Dandy's Candies</td>\n",
              "      <td>1/2010</td>\n",
              "      <td>4739.122200</td>\n",
              "    </tr>\n",
              "    <tr>\n",
              "      <th>4</th>\n",
              "      <td>Chiffon</td>\n",
              "      <td>Jelly Filled</td>\n",
              "      <td>Butter Toffee</td>\n",
              "      <td>Apricot</td>\n",
              "      <td>Olive</td>\n",
              "      <td>Slugworth</td>\n",
              "      <td>1/2010</td>\n",
              "      <td>2756.891961</td>\n",
              "    </tr>\n",
              "    <tr>\n",
              "      <th>...</th>\n",
              "      <td>...</td>\n",
              "      <td>...</td>\n",
              "      <td>...</td>\n",
              "      <td>...</td>\n",
              "      <td>...</td>\n",
              "      <td>...</td>\n",
              "      <td>...</td>\n",
              "      <td>...</td>\n",
              "    </tr>\n",
              "    <tr>\n",
              "      <th>13195</th>\n",
              "      <td>Chiffon</td>\n",
              "      <td>Chocolate Outer</td>\n",
              "      <td>Acai Berry</td>\n",
              "      <td>Tangerine</td>\n",
              "      <td>Slate</td>\n",
              "      <td>Fickelgruber</td>\n",
              "      <td>12/2020</td>\n",
              "      <td>25714.512372</td>\n",
              "    </tr>\n",
              "    <tr>\n",
              "      <th>13196</th>\n",
              "      <td>Butter</td>\n",
              "      <td>Jelly Filled</td>\n",
              "      <td>Plum</td>\n",
              "      <td>Peppermint</td>\n",
              "      <td>Olive</td>\n",
              "      <td>Fickelgruber</td>\n",
              "      <td>12/2020</td>\n",
              "      <td>15043.303525</td>\n",
              "    </tr>\n",
              "    <tr>\n",
              "      <th>13197</th>\n",
              "      <td>Chiffon</td>\n",
              "      <td>Chocolate Outer</td>\n",
              "      <td>Wild Cherry Cream</td>\n",
              "      <td>Peppermint</td>\n",
              "      <td>Taupe</td>\n",
              "      <td>Perk-a-Cola</td>\n",
              "      <td>12/2020</td>\n",
              "      <td>8769.613116</td>\n",
              "    </tr>\n",
              "    <tr>\n",
              "      <th>13198</th>\n",
              "      <td>Cheese</td>\n",
              "      <td>Candy Outer</td>\n",
              "      <td>Mango</td>\n",
              "      <td>Mango</td>\n",
              "      <td>Rose</td>\n",
              "      <td>Dandy's Candies</td>\n",
              "      <td>12/2020</td>\n",
              "      <td>5065.975534</td>\n",
              "    </tr>\n",
              "    <tr>\n",
              "      <th>13199</th>\n",
              "      <td>Sponge</td>\n",
              "      <td>Chocolate Outer</td>\n",
              "      <td>Ginger Ale</td>\n",
              "      <td>Passion Fruit</td>\n",
              "      <td>Black</td>\n",
              "      <td>Fickelgruber</td>\n",
              "      <td>12/2020</td>\n",
              "      <td>9466.712219</td>\n",
              "    </tr>\n",
              "  </tbody>\n",
              "</table>\n",
              "<p>13200 rows × 8 columns</p>\n",
              "</div>\n",
              "      <button class=\"colab-df-convert\" onclick=\"convertToInteractive('df-d65e9f28-ef7d-4d9a-82af-25a97dc82a5e')\"\n",
              "              title=\"Convert this dataframe to an interactive table.\"\n",
              "              style=\"display:none;\">\n",
              "        \n",
              "  <svg xmlns=\"http://www.w3.org/2000/svg\" height=\"24px\"viewBox=\"0 0 24 24\"\n",
              "       width=\"24px\">\n",
              "    <path d=\"M0 0h24v24H0V0z\" fill=\"none\"/>\n",
              "    <path d=\"M18.56 5.44l.94 2.06.94-2.06 2.06-.94-2.06-.94-.94-2.06-.94 2.06-2.06.94zm-11 1L8.5 8.5l.94-2.06 2.06-.94-2.06-.94L8.5 2.5l-.94 2.06-2.06.94zm10 10l.94 2.06.94-2.06 2.06-.94-2.06-.94-.94-2.06-.94 2.06-2.06.94z\"/><path d=\"M17.41 7.96l-1.37-1.37c-.4-.4-.92-.59-1.43-.59-.52 0-1.04.2-1.43.59L10.3 9.45l-7.72 7.72c-.78.78-.78 2.05 0 2.83L4 21.41c.39.39.9.59 1.41.59.51 0 1.02-.2 1.41-.59l7.78-7.78 2.81-2.81c.8-.78.8-2.07 0-2.86zM5.41 20L4 18.59l7.72-7.72 1.47 1.35L5.41 20z\"/>\n",
              "  </svg>\n",
              "      </button>\n",
              "      \n",
              "  <style>\n",
              "    .colab-df-container {\n",
              "      display:flex;\n",
              "      flex-wrap:wrap;\n",
              "      gap: 12px;\n",
              "    }\n",
              "\n",
              "    .colab-df-convert {\n",
              "      background-color: #E8F0FE;\n",
              "      border: none;\n",
              "      border-radius: 50%;\n",
              "      cursor: pointer;\n",
              "      display: none;\n",
              "      fill: #1967D2;\n",
              "      height: 32px;\n",
              "      padding: 0 0 0 0;\n",
              "      width: 32px;\n",
              "    }\n",
              "\n",
              "    .colab-df-convert:hover {\n",
              "      background-color: #E2EBFA;\n",
              "      box-shadow: 0px 1px 2px rgba(60, 64, 67, 0.3), 0px 1px 3px 1px rgba(60, 64, 67, 0.15);\n",
              "      fill: #174EA6;\n",
              "    }\n",
              "\n",
              "    [theme=dark] .colab-df-convert {\n",
              "      background-color: #3B4455;\n",
              "      fill: #D2E3FC;\n",
              "    }\n",
              "\n",
              "    [theme=dark] .colab-df-convert:hover {\n",
              "      background-color: #434B5C;\n",
              "      box-shadow: 0px 1px 3px 1px rgba(0, 0, 0, 0.15);\n",
              "      filter: drop-shadow(0px 1px 2px rgba(0, 0, 0, 0.3));\n",
              "      fill: #FFFFFF;\n",
              "    }\n",
              "  </style>\n",
              "\n",
              "      <script>\n",
              "        const buttonEl =\n",
              "          document.querySelector('#df-d65e9f28-ef7d-4d9a-82af-25a97dc82a5e button.colab-df-convert');\n",
              "        buttonEl.style.display =\n",
              "          google.colab.kernel.accessAllowed ? 'block' : 'none';\n",
              "\n",
              "        async function convertToInteractive(key) {\n",
              "          const element = document.querySelector('#df-d65e9f28-ef7d-4d9a-82af-25a97dc82a5e');\n",
              "          const dataTable =\n",
              "            await google.colab.kernel.invokeFunction('convertToInteractive',\n",
              "                                                     [key], {});\n",
              "          if (!dataTable) return;\n",
              "\n",
              "          const docLinkHtml = 'Like what you see? Visit the ' +\n",
              "            '<a target=\"_blank\" href=https://colab.research.google.com/notebooks/data_table.ipynb>data table notebook</a>'\n",
              "            + ' to learn more about interactive tables.';\n",
              "          element.innerHTML = '';\n",
              "          dataTable['output_type'] = 'display_data';\n",
              "          await google.colab.output.renderOutput(dataTable, element);\n",
              "          const docLink = document.createElement('div');\n",
              "          docLink.innerHTML = docLinkHtml;\n",
              "          element.appendChild(docLink);\n",
              "        }\n",
              "      </script>\n",
              "    </div>\n",
              "  </div>\n",
              "  "
            ],
            "text/plain": [
              "      base_cake     truffle_type  ...     date            kg\n",
              "0        Cheese      Candy Outer  ...   1/2010  12570.335165\n",
              "1      Tiramisu  Chocolate Outer  ...   1/2010   7922.970436\n",
              "2        Sponge  Chocolate Outer  ...   1/2010  10521.306722\n",
              "3        Cheese  Chocolate Outer  ...   1/2010   4739.122200\n",
              "4       Chiffon     Jelly Filled  ...   1/2010   2756.891961\n",
              "...         ...              ...  ...      ...           ...\n",
              "13195   Chiffon  Chocolate Outer  ...  12/2020  25714.512372\n",
              "13196    Butter     Jelly Filled  ...  12/2020  15043.303525\n",
              "13197   Chiffon  Chocolate Outer  ...  12/2020   8769.613116\n",
              "13198    Cheese      Candy Outer  ...  12/2020   5065.975534\n",
              "13199    Sponge  Chocolate Outer  ...  12/2020   9466.712219\n",
              "\n",
              "[13200 rows x 8 columns]"
            ]
          },
          "metadata": {},
          "execution_count": 3
        }
      ],
      "source": [
        "orders = pd.read_csv(\"https://raw.githubusercontent.com/wesleybeckner/\"\\\n",
        "                     \"truffletopia/main/truffletopia/data/12_year_orders.csv\")\n",
        "\n",
        "cat_cols = ['base_cake', 'truffle_type', 'primary_flavor', 'secondary_flavor',\n",
        "       'color_group', 'customer']\n",
        "       \n",
        "time_cols = [i for i in orders.columns if i not in cat_cols]\n",
        "\n",
        "# note that our data is 'untidy' if we wanted to tidy the data we would need to\n",
        "# unpivot or 'melt' our date columns like so:\n",
        "orders.melt(id_vars=cat_cols, var_name='date', value_name='kg')\n",
        "\n",
        "# however the data as it is, is useful for our purposes of timeseries prediction \n",
        "# today"
      ]
    },
    {
      "cell_type": "markdown",
      "metadata": {
        "id": "062Czp9-rBOi"
      },
      "source": [
        "<a name='x.1'></a>\n",
        "\n",
        "## 5.1 Why We Think in Sequences\n",
        "\n",
        "[back to top](#top)\n",
        "\n",
        "There are some problems that are best framed as a sequence in either the input or the output. For example, in our image classification we are performing a mapping of many-to-one: sequence input (the pixels) to a single output (classification). Other examples include:\n",
        "\n",
        "* One-to-many: sequence output, e.x. word (if treated as a single input) to generate a picture\n",
        "* Many-to-many: sequence input and output, e.x. machine translation (like english to mandarin)\n",
        "* Synchronized many-to-many: synced sequence input and output, e.x. video classification\n",
        "\n",
        "State of the art handling of sequences has occurred in a class of networks called recurrent neural networks"
      ]
    },
    {
      "cell_type": "markdown",
      "metadata": {
        "id": "lPKG1QnNIq_l"
      },
      "source": [
        "<a name='x.2'></a>\n",
        "\n",
        "## 5.2 Recurrent Neural Networks\n",
        "\n",
        "[back to top](#top)\n",
        "\n",
        "Recurrent Neural Networks (RNNs) can be thought of as a FFNN with loops added into the architecture. This allows the network to retain information, create \"memory\" that can be associated with signals later in the sequence. \n",
        "\n",
        "We didn't go into much detail about the actual training algorithm of neural networks: **_back propagation_**. But what we will say here, is that this algorithm breaks down with recurrent neural networks because of the looped connections. A trick was created to overcome this, where the looped connections are unrolled, using a copy of the \"unhooked\" neuron to represent where the loop was initally fed back. This algorithm is called **_back propagation through time_**.\n",
        "\n",
        "Another problem is introduced when training recurrent neural networks, in that the gradients calculated during back propagation can become very large, **_exploding gradients_**, or very small **_vanishing gradients_**. This problem is modulated in FNNNs by the ReLU, In RNNs, a more sophisticated gating mechanism is used in an architecture we call **_Long Short-Term Memory Networks_**\n",
        "\n",
        "<p align=center>\n",
        "<img src=\"https://miro.medium.com/max/4136/1*SKGAqkVVzT6co-sZ29ze-g.png\"></img>\n",
        "</p>\n",
        "<small>LSTM shown in both typical and unfolded format</small>\n",
        "\n"
      ]
    },
    {
      "cell_type": "markdown",
      "metadata": {
        "id": "50iMj89J55nA"
      },
      "source": [
        "### 5.2.1 Long Short-Term Memory Networks\n",
        "\n",
        "[back to top](#top)\n",
        "\n",
        "Long Short-Term Memory Networks (LSTMs) are a type of RNN that are trained using back propagation through time and overcome the vanishing/exploding gradient problem. Similar to CNNs, their architecture is composed of blocks, this time with memory blocks rather than convolutional blocks. A block is smarter than the classical neuron; it contains gates that manage the block's state and output. The gates are operated by a sigmoid function, determining whether they are open or closed (triggered or not trigerred). There are three types of gates within a memory block:\n",
        "\n",
        "* Forget gate: decides what information is discarded\n",
        "* Input gate: decides what information updates the memory state\n",
        "* Output gate: decides what information to send forward depending on the input and memory state\n",
        "\n",
        "These weights that configure these gates are learned during training, and their coordination allow each memory block to learn sophisticated relationships in and among sequenced data. \n",
        "\n",
        "> Big takeaway: memory blocks contain trainable parameters that allow the block to learn relationships between sequenced data \n"
      ]
    },
    {
      "cell_type": "markdown",
      "metadata": {
        "id": "wlj85iTSIwji"
      },
      "source": [
        "<a name='x.3'></a>\n",
        "\n",
        "## 5.3 Exploratory Data Analysis with Plotly/Pandas\n",
        "\n",
        "[back to top](#top)"
      ]
    },
    {
      "cell_type": "code",
      "execution_count": 4,
      "metadata": {
        "colab": {
          "base_uri": "https://localhost:8080/",
          "height": 369
        },
        "id": "gLKYbKEEngST",
        "outputId": "03a9ebfa-5d59-45ac-e006-33ba3c326138"
      },
      "outputs": [
        {
          "output_type": "execute_result",
          "data": {
            "text/html": [
              "\n",
              "  <div id=\"df-caf1d81d-b751-4dff-bd59-c9b4f396032e\">\n",
              "    <div class=\"colab-df-container\">\n",
              "      <div>\n",
              "<style scoped>\n",
              "    .dataframe tbody tr th:only-of-type {\n",
              "        vertical-align: middle;\n",
              "    }\n",
              "\n",
              "    .dataframe tbody tr th {\n",
              "        vertical-align: top;\n",
              "    }\n",
              "\n",
              "    .dataframe thead th {\n",
              "        text-align: right;\n",
              "    }\n",
              "</style>\n",
              "<table border=\"1\" class=\"dataframe\">\n",
              "  <thead>\n",
              "    <tr style=\"text-align: right;\">\n",
              "      <th></th>\n",
              "      <th>base_cake</th>\n",
              "      <th>truffle_type</th>\n",
              "      <th>primary_flavor</th>\n",
              "      <th>secondary_flavor</th>\n",
              "      <th>color_group</th>\n",
              "      <th>customer</th>\n",
              "      <th>1/2010</th>\n",
              "      <th>2/2010</th>\n",
              "      <th>3/2010</th>\n",
              "      <th>4/2010</th>\n",
              "      <th>5/2010</th>\n",
              "      <th>6/2010</th>\n",
              "      <th>7/2010</th>\n",
              "      <th>8/2010</th>\n",
              "      <th>9/2010</th>\n",
              "      <th>10/2010</th>\n",
              "      <th>11/2010</th>\n",
              "      <th>12/2010</th>\n",
              "      <th>1/2011</th>\n",
              "      <th>2/2011</th>\n",
              "      <th>3/2011</th>\n",
              "      <th>4/2011</th>\n",
              "      <th>5/2011</th>\n",
              "      <th>6/2011</th>\n",
              "      <th>7/2011</th>\n",
              "      <th>8/2011</th>\n",
              "      <th>9/2011</th>\n",
              "      <th>10/2011</th>\n",
              "      <th>11/2011</th>\n",
              "      <th>12/2011</th>\n",
              "      <th>1/2012</th>\n",
              "      <th>2/2012</th>\n",
              "      <th>3/2012</th>\n",
              "      <th>4/2012</th>\n",
              "      <th>5/2012</th>\n",
              "      <th>6/2012</th>\n",
              "      <th>7/2012</th>\n",
              "      <th>8/2012</th>\n",
              "      <th>9/2012</th>\n",
              "      <th>10/2012</th>\n",
              "      <th>...</th>\n",
              "      <th>9/2017</th>\n",
              "      <th>10/2017</th>\n",
              "      <th>11/2017</th>\n",
              "      <th>12/2017</th>\n",
              "      <th>1/2018</th>\n",
              "      <th>2/2018</th>\n",
              "      <th>3/2018</th>\n",
              "      <th>4/2018</th>\n",
              "      <th>5/2018</th>\n",
              "      <th>6/2018</th>\n",
              "      <th>7/2018</th>\n",
              "      <th>8/2018</th>\n",
              "      <th>9/2018</th>\n",
              "      <th>10/2018</th>\n",
              "      <th>11/2018</th>\n",
              "      <th>12/2018</th>\n",
              "      <th>1/2019</th>\n",
              "      <th>2/2019</th>\n",
              "      <th>3/2019</th>\n",
              "      <th>4/2019</th>\n",
              "      <th>5/2019</th>\n",
              "      <th>6/2019</th>\n",
              "      <th>7/2019</th>\n",
              "      <th>8/2019</th>\n",
              "      <th>9/2019</th>\n",
              "      <th>10/2019</th>\n",
              "      <th>11/2019</th>\n",
              "      <th>12/2019</th>\n",
              "      <th>1/2020</th>\n",
              "      <th>2/2020</th>\n",
              "      <th>3/2020</th>\n",
              "      <th>4/2020</th>\n",
              "      <th>5/2020</th>\n",
              "      <th>6/2020</th>\n",
              "      <th>7/2020</th>\n",
              "      <th>8/2020</th>\n",
              "      <th>9/2020</th>\n",
              "      <th>10/2020</th>\n",
              "      <th>11/2020</th>\n",
              "      <th>12/2020</th>\n",
              "    </tr>\n",
              "  </thead>\n",
              "  <tbody>\n",
              "    <tr>\n",
              "      <th>0</th>\n",
              "      <td>Cheese</td>\n",
              "      <td>Candy Outer</td>\n",
              "      <td>Horchata</td>\n",
              "      <td>Vanilla</td>\n",
              "      <td>Amethyst</td>\n",
              "      <td>Perk-a-Cola</td>\n",
              "      <td>12570.335165</td>\n",
              "      <td>11569.168746</td>\n",
              "      <td>13616.812204</td>\n",
              "      <td>11884.370881</td>\n",
              "      <td>13950.332334</td>\n",
              "      <td>12781.156536</td>\n",
              "      <td>14256.210023</td>\n",
              "      <td>12887.711960</td>\n",
              "      <td>15038.574006</td>\n",
              "      <td>12626.489306</td>\n",
              "      <td>14611.291109</td>\n",
              "      <td>13194.814300</td>\n",
              "      <td>14921.016216</td>\n",
              "      <td>13477.391457</td>\n",
              "      <td>15409.211080</td>\n",
              "      <td>13999.215069</td>\n",
              "      <td>15597.436976</td>\n",
              "      <td>14098.124978</td>\n",
              "      <td>15596.818092</td>\n",
              "      <td>14941.694032</td>\n",
              "      <td>15715.347212</td>\n",
              "      <td>14181.212142</td>\n",
              "      <td>16282.098006</td>\n",
              "      <td>14650.929410</td>\n",
              "      <td>16433.209008</td>\n",
              "      <td>15400.579034</td>\n",
              "      <td>16756.981263</td>\n",
              "      <td>15128.148250</td>\n",
              "      <td>17523.979943</td>\n",
              "      <td>15413.044691</td>\n",
              "      <td>16366.264377</td>\n",
              "      <td>14568.470959</td>\n",
              "      <td>16901.111542</td>\n",
              "      <td>14659.021365</td>\n",
              "      <td>...</td>\n",
              "      <td>20736.279239</td>\n",
              "      <td>18617.387585</td>\n",
              "      <td>20783.711234</td>\n",
              "      <td>17470.755865</td>\n",
              "      <td>20523.579840</td>\n",
              "      <td>18796.936906</td>\n",
              "      <td>20028.582493</td>\n",
              "      <td>18677.535295</td>\n",
              "      <td>20048.107422</td>\n",
              "      <td>18929.248617</td>\n",
              "      <td>20571.155902</td>\n",
              "      <td>18207.204656</td>\n",
              "      <td>20839.042892</td>\n",
              "      <td>18966.532984</td>\n",
              "      <td>20909.977545</td>\n",
              "      <td>18589.807152</td>\n",
              "      <td>21287.370123</td>\n",
              "      <td>17987.976867</td>\n",
              "      <td>21111.062685</td>\n",
              "      <td>18538.311321</td>\n",
              "      <td>21797.267132</td>\n",
              "      <td>18935.352772</td>\n",
              "      <td>21331.378420</td>\n",
              "      <td>18783.759611</td>\n",
              "      <td>22139.123373</td>\n",
              "      <td>18553.797271</td>\n",
              "      <td>21579.506284</td>\n",
              "      <td>19726.433111</td>\n",
              "      <td>21147.624131</td>\n",
              "      <td>19232.360491</td>\n",
              "      <td>21575.521051</td>\n",
              "      <td>18856.178110</td>\n",
              "      <td>20701.250676</td>\n",
              "      <td>19406.448560</td>\n",
              "      <td>22328.687163</td>\n",
              "      <td>19384.824042</td>\n",
              "      <td>21449.154890</td>\n",
              "      <td>19554.405590</td>\n",
              "      <td>21873.104938</td>\n",
              "      <td>19572.860127</td>\n",
              "    </tr>\n",
              "    <tr>\n",
              "      <th>1</th>\n",
              "      <td>Tiramisu</td>\n",
              "      <td>Chocolate Outer</td>\n",
              "      <td>Irish Cream</td>\n",
              "      <td>Egg Nog</td>\n",
              "      <td>Slate</td>\n",
              "      <td>Dandy's Candies</td>\n",
              "      <td>7922.970436</td>\n",
              "      <td>6464.558625</td>\n",
              "      <td>6616.092291</td>\n",
              "      <td>8244.991928</td>\n",
              "      <td>6602.132649</td>\n",
              "      <td>7032.700478</td>\n",
              "      <td>8437.517865</td>\n",
              "      <td>6919.862786</td>\n",
              "      <td>7003.449554</td>\n",
              "      <td>8516.767749</td>\n",
              "      <td>7541.471510</td>\n",
              "      <td>7145.880001</td>\n",
              "      <td>8821.556334</td>\n",
              "      <td>7325.240199</td>\n",
              "      <td>7618.246523</td>\n",
              "      <td>9385.832260</td>\n",
              "      <td>7705.860411</td>\n",
              "      <td>7709.843383</td>\n",
              "      <td>9471.542415</td>\n",
              "      <td>7791.968645</td>\n",
              "      <td>8214.485181</td>\n",
              "      <td>9393.875864</td>\n",
              "      <td>7911.159820</td>\n",
              "      <td>8181.208339</td>\n",
              "      <td>9750.400651</td>\n",
              "      <td>8084.792749</td>\n",
              "      <td>8234.370603</td>\n",
              "      <td>9777.179731</td>\n",
              "      <td>8134.876166</td>\n",
              "      <td>8449.426300</td>\n",
              "      <td>9911.512891</td>\n",
              "      <td>8686.751188</td>\n",
              "      <td>8359.638696</td>\n",
              "      <td>10147.391908</td>\n",
              "      <td>...</td>\n",
              "      <td>9709.721305</td>\n",
              "      <td>12367.917469</td>\n",
              "      <td>10109.247976</td>\n",
              "      <td>10597.517266</td>\n",
              "      <td>12723.546352</td>\n",
              "      <td>10535.166596</td>\n",
              "      <td>10043.352958</td>\n",
              "      <td>12434.413543</td>\n",
              "      <td>10594.590384</td>\n",
              "      <td>10473.165191</td>\n",
              "      <td>12323.923036</td>\n",
              "      <td>10232.771159</td>\n",
              "      <td>9973.322947</td>\n",
              "      <td>12450.632426</td>\n",
              "      <td>10247.199668</td>\n",
              "      <td>10310.557749</td>\n",
              "      <td>12527.881699</td>\n",
              "      <td>10288.118368</td>\n",
              "      <td>10792.495418</td>\n",
              "      <td>12538.911064</td>\n",
              "      <td>10564.257282</td>\n",
              "      <td>10672.337286</td>\n",
              "      <td>12442.348062</td>\n",
              "      <td>10975.342816</td>\n",
              "      <td>10504.218214</td>\n",
              "      <td>12700.925307</td>\n",
              "      <td>10853.622645</td>\n",
              "      <td>10917.981718</td>\n",
              "      <td>13005.963533</td>\n",
              "      <td>10610.202654</td>\n",
              "      <td>10145.394106</td>\n",
              "      <td>13132.925131</td>\n",
              "      <td>10821.805709</td>\n",
              "      <td>10829.961838</td>\n",
              "      <td>12995.340352</td>\n",
              "      <td>10504.814195</td>\n",
              "      <td>10617.199735</td>\n",
              "      <td>13377.165673</td>\n",
              "      <td>11065.835571</td>\n",
              "      <td>11135.386324</td>\n",
              "    </tr>\n",
              "    <tr>\n",
              "      <th>2</th>\n",
              "      <td>Sponge</td>\n",
              "      <td>Chocolate Outer</td>\n",
              "      <td>Ginger Ale</td>\n",
              "      <td>Apple</td>\n",
              "      <td>Slate</td>\n",
              "      <td>Dandy's Candies</td>\n",
              "      <td>10521.306722</td>\n",
              "      <td>5543.335645</td>\n",
              "      <td>5294.892374</td>\n",
              "      <td>11010.452413</td>\n",
              "      <td>5267.190367</td>\n",
              "      <td>5546.045669</td>\n",
              "      <td>11394.362620</td>\n",
              "      <td>5712.245098</td>\n",
              "      <td>5798.349463</td>\n",
              "      <td>11781.306993</td>\n",
              "      <td>5918.299339</td>\n",
              "      <td>5892.693500</td>\n",
              "      <td>12298.538324</td>\n",
              "      <td>6260.141878</td>\n",
              "      <td>6244.742736</td>\n",
              "      <td>12336.799353</td>\n",
              "      <td>6201.024217</td>\n",
              "      <td>6638.056331</td>\n",
              "      <td>12661.775736</td>\n",
              "      <td>6545.099808</td>\n",
              "      <td>6536.149679</td>\n",
              "      <td>12757.183923</td>\n",
              "      <td>6717.449248</td>\n",
              "      <td>6473.324997</td>\n",
              "      <td>13467.205626</td>\n",
              "      <td>6806.690857</td>\n",
              "      <td>7052.340323</td>\n",
              "      <td>13488.253357</td>\n",
              "      <td>6613.263036</td>\n",
              "      <td>7017.902839</td>\n",
              "      <td>13676.458530</td>\n",
              "      <td>6925.928151</td>\n",
              "      <td>6931.425252</td>\n",
              "      <td>13418.564207</td>\n",
              "      <td>...</td>\n",
              "      <td>8486.837094</td>\n",
              "      <td>16402.754127</td>\n",
              "      <td>8037.467789</td>\n",
              "      <td>8184.225799</td>\n",
              "      <td>16627.369839</td>\n",
              "      <td>8287.853805</td>\n",
              "      <td>8307.474776</td>\n",
              "      <td>16869.445360</td>\n",
              "      <td>8090.179106</td>\n",
              "      <td>8258.503638</td>\n",
              "      <td>16961.500038</td>\n",
              "      <td>8261.880924</td>\n",
              "      <td>8221.327715</td>\n",
              "      <td>16468.858014</td>\n",
              "      <td>8243.277819</td>\n",
              "      <td>8381.807681</td>\n",
              "      <td>16778.471019</td>\n",
              "      <td>8673.021737</td>\n",
              "      <td>8552.964237</td>\n",
              "      <td>16902.958241</td>\n",
              "      <td>8346.914162</td>\n",
              "      <td>8431.816880</td>\n",
              "      <td>17088.184916</td>\n",
              "      <td>8928.738286</td>\n",
              "      <td>8511.985934</td>\n",
              "      <td>17273.307554</td>\n",
              "      <td>8242.173578</td>\n",
              "      <td>8755.268429</td>\n",
              "      <td>16961.225344</td>\n",
              "      <td>8686.594959</td>\n",
              "      <td>8516.098910</td>\n",
              "      <td>17498.911792</td>\n",
              "      <td>8369.846849</td>\n",
              "      <td>8334.206937</td>\n",
              "      <td>17519.678690</td>\n",
              "      <td>8595.378915</td>\n",
              "      <td>8909.348040</td>\n",
              "      <td>17234.636475</td>\n",
              "      <td>9002.216839</td>\n",
              "      <td>8794.467252</td>\n",
              "    </tr>\n",
              "    <tr>\n",
              "      <th>3</th>\n",
              "      <td>Cheese</td>\n",
              "      <td>Chocolate Outer</td>\n",
              "      <td>Coffee</td>\n",
              "      <td>Pear</td>\n",
              "      <td>Opal</td>\n",
              "      <td>Dandy's Candies</td>\n",
              "      <td>4739.122200</td>\n",
              "      <td>2733.281035</td>\n",
              "      <td>4984.394797</td>\n",
              "      <td>2750.709519</td>\n",
              "      <td>5274.473185</td>\n",
              "      <td>2737.736109</td>\n",
              "      <td>5236.191952</td>\n",
              "      <td>2807.504142</td>\n",
              "      <td>5581.285441</td>\n",
              "      <td>2500.882597</td>\n",
              "      <td>5635.195267</td>\n",
              "      <td>3035.782263</td>\n",
              "      <td>5492.449149</td>\n",
              "      <td>2987.850135</td>\n",
              "      <td>6021.641513</td>\n",
              "      <td>3141.406171</td>\n",
              "      <td>5884.424448</td>\n",
              "      <td>2898.492508</td>\n",
              "      <td>5925.633348</td>\n",
              "      <td>2990.291270</td>\n",
              "      <td>6055.228068</td>\n",
              "      <td>3587.204540</td>\n",
              "      <td>6138.483396</td>\n",
              "      <td>2997.648037</td>\n",
              "      <td>6370.293979</td>\n",
              "      <td>3442.123255</td>\n",
              "      <td>6187.807429</td>\n",
              "      <td>3140.255766</td>\n",
              "      <td>6243.439310</td>\n",
              "      <td>3568.780726</td>\n",
              "      <td>6393.113315</td>\n",
              "      <td>3246.908338</td>\n",
              "      <td>6540.176631</td>\n",
              "      <td>3383.552285</td>\n",
              "      <td>...</td>\n",
              "      <td>7756.552767</td>\n",
              "      <td>4233.577541</td>\n",
              "      <td>8119.681843</td>\n",
              "      <td>4046.102552</td>\n",
              "      <td>7738.053080</td>\n",
              "      <td>4401.610595</td>\n",
              "      <td>7675.782975</td>\n",
              "      <td>4248.467389</td>\n",
              "      <td>7835.989038</td>\n",
              "      <td>3784.924538</td>\n",
              "      <td>7778.705078</td>\n",
              "      <td>4023.523503</td>\n",
              "      <td>7996.384938</td>\n",
              "      <td>4236.811930</td>\n",
              "      <td>7780.903630</td>\n",
              "      <td>4324.838890</td>\n",
              "      <td>8706.750222</td>\n",
              "      <td>4592.025934</td>\n",
              "      <td>7864.924599</td>\n",
              "      <td>3831.383360</td>\n",
              "      <td>8121.771691</td>\n",
              "      <td>4428.045665</td>\n",
              "      <td>8216.481440</td>\n",
              "      <td>4193.238269</td>\n",
              "      <td>8316.693448</td>\n",
              "      <td>4591.368108</td>\n",
              "      <td>8184.213024</td>\n",
              "      <td>4112.875085</td>\n",
              "      <td>8342.099081</td>\n",
              "      <td>4074.668047</td>\n",
              "      <td>8093.541144</td>\n",
              "      <td>4301.081977</td>\n",
              "      <td>8235.616589</td>\n",
              "      <td>4151.474242</td>\n",
              "      <td>8213.665500</td>\n",
              "      <td>4008.885583</td>\n",
              "      <td>7912.641813</td>\n",
              "      <td>4275.162782</td>\n",
              "      <td>8031.227879</td>\n",
              "      <td>4628.989194</td>\n",
              "    </tr>\n",
              "    <tr>\n",
              "      <th>4</th>\n",
              "      <td>Chiffon</td>\n",
              "      <td>Jelly Filled</td>\n",
              "      <td>Butter Toffee</td>\n",
              "      <td>Apricot</td>\n",
              "      <td>Olive</td>\n",
              "      <td>Slugworth</td>\n",
              "      <td>2756.891961</td>\n",
              "      <td>1739.900797</td>\n",
              "      <td>1791.975108</td>\n",
              "      <td>1533.023665</td>\n",
              "      <td>1735.868123</td>\n",
              "      <td>1824.082183</td>\n",
              "      <td>2637.470462</td>\n",
              "      <td>1707.745100</td>\n",
              "      <td>1621.994676</td>\n",
              "      <td>1814.318681</td>\n",
              "      <td>1669.867919</td>\n",
              "      <td>1681.547977</td>\n",
              "      <td>2830.947230</td>\n",
              "      <td>1732.084718</td>\n",
              "      <td>1739.759848</td>\n",
              "      <td>1647.585142</td>\n",
              "      <td>1750.293269</td>\n",
              "      <td>1710.317714</td>\n",
              "      <td>2805.902600</td>\n",
              "      <td>1751.767883</td>\n",
              "      <td>2009.631273</td>\n",
              "      <td>1937.539054</td>\n",
              "      <td>1735.097831</td>\n",
              "      <td>1839.490125</td>\n",
              "      <td>2799.159990</td>\n",
              "      <td>1566.971234</td>\n",
              "      <td>1752.097294</td>\n",
              "      <td>1573.071123</td>\n",
              "      <td>1760.829823</td>\n",
              "      <td>1795.254784</td>\n",
              "      <td>2754.540709</td>\n",
              "      <td>1886.366523</td>\n",
              "      <td>1807.204970</td>\n",
              "      <td>1740.528223</td>\n",
              "      <td>...</td>\n",
              "      <td>1842.142055</td>\n",
              "      <td>1500.057312</td>\n",
              "      <td>1731.064289</td>\n",
              "      <td>1675.758204</td>\n",
              "      <td>2904.893170</td>\n",
              "      <td>1789.992333</td>\n",
              "      <td>1810.125486</td>\n",
              "      <td>1795.379685</td>\n",
              "      <td>1907.771505</td>\n",
              "      <td>1973.079708</td>\n",
              "      <td>2865.869167</td>\n",
              "      <td>1574.850737</td>\n",
              "      <td>1783.459110</td>\n",
              "      <td>1787.164751</td>\n",
              "      <td>1752.689655</td>\n",
              "      <td>1734.478146</td>\n",
              "      <td>2804.497744</td>\n",
              "      <td>1956.641539</td>\n",
              "      <td>1909.752412</td>\n",
              "      <td>1693.251443</td>\n",
              "      <td>1748.211959</td>\n",
              "      <td>1842.843637</td>\n",
              "      <td>2757.454985</td>\n",
              "      <td>1674.184059</td>\n",
              "      <td>1698.962332</td>\n",
              "      <td>1631.735285</td>\n",
              "      <td>1769.115620</td>\n",
              "      <td>1663.851403</td>\n",
              "      <td>2919.917902</td>\n",
              "      <td>1830.186857</td>\n",
              "      <td>1864.015449</td>\n",
              "      <td>1800.566323</td>\n",
              "      <td>1625.130275</td>\n",
              "      <td>1908.316219</td>\n",
              "      <td>2696.631511</td>\n",
              "      <td>1859.017636</td>\n",
              "      <td>1690.042699</td>\n",
              "      <td>1764.410866</td>\n",
              "      <td>1909.608709</td>\n",
              "      <td>1711.780317</td>\n",
              "    </tr>\n",
              "  </tbody>\n",
              "</table>\n",
              "<p>5 rows × 138 columns</p>\n",
              "</div>\n",
              "      <button class=\"colab-df-convert\" onclick=\"convertToInteractive('df-caf1d81d-b751-4dff-bd59-c9b4f396032e')\"\n",
              "              title=\"Convert this dataframe to an interactive table.\"\n",
              "              style=\"display:none;\">\n",
              "        \n",
              "  <svg xmlns=\"http://www.w3.org/2000/svg\" height=\"24px\"viewBox=\"0 0 24 24\"\n",
              "       width=\"24px\">\n",
              "    <path d=\"M0 0h24v24H0V0z\" fill=\"none\"/>\n",
              "    <path d=\"M18.56 5.44l.94 2.06.94-2.06 2.06-.94-2.06-.94-.94-2.06-.94 2.06-2.06.94zm-11 1L8.5 8.5l.94-2.06 2.06-.94-2.06-.94L8.5 2.5l-.94 2.06-2.06.94zm10 10l.94 2.06.94-2.06 2.06-.94-2.06-.94-.94-2.06-.94 2.06-2.06.94z\"/><path d=\"M17.41 7.96l-1.37-1.37c-.4-.4-.92-.59-1.43-.59-.52 0-1.04.2-1.43.59L10.3 9.45l-7.72 7.72c-.78.78-.78 2.05 0 2.83L4 21.41c.39.39.9.59 1.41.59.51 0 1.02-.2 1.41-.59l7.78-7.78 2.81-2.81c.8-.78.8-2.07 0-2.86zM5.41 20L4 18.59l7.72-7.72 1.47 1.35L5.41 20z\"/>\n",
              "  </svg>\n",
              "      </button>\n",
              "      \n",
              "  <style>\n",
              "    .colab-df-container {\n",
              "      display:flex;\n",
              "      flex-wrap:wrap;\n",
              "      gap: 12px;\n",
              "    }\n",
              "\n",
              "    .colab-df-convert {\n",
              "      background-color: #E8F0FE;\n",
              "      border: none;\n",
              "      border-radius: 50%;\n",
              "      cursor: pointer;\n",
              "      display: none;\n",
              "      fill: #1967D2;\n",
              "      height: 32px;\n",
              "      padding: 0 0 0 0;\n",
              "      width: 32px;\n",
              "    }\n",
              "\n",
              "    .colab-df-convert:hover {\n",
              "      background-color: #E2EBFA;\n",
              "      box-shadow: 0px 1px 2px rgba(60, 64, 67, 0.3), 0px 1px 3px 1px rgba(60, 64, 67, 0.15);\n",
              "      fill: #174EA6;\n",
              "    }\n",
              "\n",
              "    [theme=dark] .colab-df-convert {\n",
              "      background-color: #3B4455;\n",
              "      fill: #D2E3FC;\n",
              "    }\n",
              "\n",
              "    [theme=dark] .colab-df-convert:hover {\n",
              "      background-color: #434B5C;\n",
              "      box-shadow: 0px 1px 3px 1px rgba(0, 0, 0, 0.15);\n",
              "      filter: drop-shadow(0px 1px 2px rgba(0, 0, 0, 0.3));\n",
              "      fill: #FFFFFF;\n",
              "    }\n",
              "  </style>\n",
              "\n",
              "      <script>\n",
              "        const buttonEl =\n",
              "          document.querySelector('#df-caf1d81d-b751-4dff-bd59-c9b4f396032e button.colab-df-convert');\n",
              "        buttonEl.style.display =\n",
              "          google.colab.kernel.accessAllowed ? 'block' : 'none';\n",
              "\n",
              "        async function convertToInteractive(key) {\n",
              "          const element = document.querySelector('#df-caf1d81d-b751-4dff-bd59-c9b4f396032e');\n",
              "          const dataTable =\n",
              "            await google.colab.kernel.invokeFunction('convertToInteractive',\n",
              "                                                     [key], {});\n",
              "          if (!dataTable) return;\n",
              "\n",
              "          const docLinkHtml = 'Like what you see? Visit the ' +\n",
              "            '<a target=\"_blank\" href=https://colab.research.google.com/notebooks/data_table.ipynb>data table notebook</a>'\n",
              "            + ' to learn more about interactive tables.';\n",
              "          element.innerHTML = '';\n",
              "          dataTable['output_type'] = 'display_data';\n",
              "          await google.colab.output.renderOutput(dataTable, element);\n",
              "          const docLink = document.createElement('div');\n",
              "          docLink.innerHTML = docLinkHtml;\n",
              "          element.appendChild(docLink);\n",
              "        }\n",
              "      </script>\n",
              "    </div>\n",
              "  </div>\n",
              "  "
            ],
            "text/plain": [
              "  base_cake     truffle_type  ...       11/2020       12/2020\n",
              "0    Cheese      Candy Outer  ...  21873.104938  19572.860127\n",
              "1  Tiramisu  Chocolate Outer  ...  11065.835571  11135.386324\n",
              "2    Sponge  Chocolate Outer  ...   9002.216839   8794.467252\n",
              "3    Cheese  Chocolate Outer  ...   8031.227879   4628.989194\n",
              "4   Chiffon     Jelly Filled  ...   1909.608709   1711.780317\n",
              "\n",
              "[5 rows x 138 columns]"
            ]
          },
          "metadata": {},
          "execution_count": 4
        }
      ],
      "source": [
        "orders.head()"
      ]
    },
    {
      "cell_type": "code",
      "execution_count": 5,
      "metadata": {
        "colab": {
          "base_uri": "https://localhost:8080/",
          "height": 542
        },
        "id": "LpEBJL2WEJzg",
        "outputId": "f0747e71-c321-4d51-8729-076fba4ccdab"
      },
      "outputs": [
        {
          "output_type": "display_data",
          "data": {
            "text/html": [
              "<html>\n",
              "<head><meta charset=\"utf-8\" /></head>\n",
              "<body>\n",
              "    <div>            <script src=\"https://cdnjs.cloudflare.com/ajax/libs/mathjax/2.7.5/MathJax.js?config=TeX-AMS-MML_SVG\"></script><script type=\"text/javascript\">if (window.MathJax) {MathJax.Hub.Config({SVG: {font: \"STIX-Web\"}});}</script>                <script type=\"text/javascript\">window.PlotlyConfig = {MathJaxConfig: 'local'};</script>\n",
              "        <script src=\"https://cdn.plot.ly/plotly-2.9.0.min.js\"></script>                <div id=\"fbb6d422-ab24-406a-bee5-14d68f583b3f\" class=\"plotly-graph-div\" style=\"height:525px; width:100%;\"></div>            <script type=\"text/javascript\">                                    window.PLOTLYENV=window.PLOTLYENV || {};                                    if (document.getElementById(\"fbb6d422-ab24-406a-bee5-14d68f583b3f\")) {                    Plotly.newPlot(                        \"fbb6d422-ab24-406a-bee5-14d68f583b3f\",                        [{\"hovertemplate\":\"Date=%{x}<br>KG=%{y}<extra></extra>\",\"legendgroup\":\"\",\"marker\":{\"color\":\"#636efa\",\"symbol\":\"circle\"},\"mode\":\"markers\",\"name\":\"\",\"orientation\":\"v\",\"showlegend\":false,\"x\":[\"1/2010\",\"2/2010\",\"3/2010\",\"4/2010\",\"5/2010\",\"6/2010\",\"7/2010\",\"8/2010\",\"9/2010\",\"10/2010\",\"11/2010\",\"12/2010\",\"1/2011\",\"2/2011\",\"3/2011\",\"4/2011\",\"5/2011\",\"6/2011\",\"7/2011\",\"8/2011\",\"9/2011\",\"10/2011\",\"11/2011\",\"12/2011\",\"1/2012\",\"2/2012\",\"3/2012\",\"4/2012\",\"5/2012\",\"6/2012\",\"7/2012\",\"8/2012\",\"9/2012\",\"10/2012\",\"11/2012\",\"12/2012\",\"1/2013\",\"2/2013\",\"3/2013\",\"4/2013\",\"5/2013\",\"6/2013\",\"7/2013\",\"8/2013\",\"9/2013\",\"10/2013\",\"11/2013\",\"12/2013\",\"1/2014\",\"2/2014\",\"3/2014\",\"4/2014\",\"5/2014\",\"6/2014\",\"7/2014\",\"8/2014\",\"9/2014\",\"10/2014\",\"11/2014\",\"12/2014\",\"1/2015\",\"2/2015\",\"3/2015\",\"4/2015\",\"5/2015\",\"6/2015\",\"7/2015\",\"8/2015\",\"9/2015\",\"10/2015\",\"11/2015\",\"12/2015\",\"1/2016\",\"2/2016\",\"3/2016\",\"4/2016\",\"5/2016\",\"6/2016\",\"7/2016\",\"8/2016\",\"9/2016\",\"10/2016\",\"11/2016\",\"12/2016\",\"1/2017\",\"2/2017\",\"3/2017\",\"4/2017\",\"5/2017\",\"6/2017\",\"7/2017\",\"8/2017\",\"9/2017\",\"10/2017\",\"11/2017\",\"12/2017\",\"1/2018\",\"2/2018\",\"3/2018\",\"4/2018\",\"5/2018\",\"6/2018\",\"7/2018\",\"8/2018\",\"9/2018\",\"10/2018\",\"11/2018\",\"12/2018\",\"1/2019\",\"2/2019\",\"3/2019\",\"4/2019\",\"5/2019\",\"6/2019\",\"7/2019\",\"8/2019\",\"9/2019\",\"10/2019\",\"11/2019\",\"12/2019\",\"1/2020\",\"2/2020\",\"3/2020\",\"4/2020\",\"5/2020\",\"6/2020\",\"7/2020\",\"8/2020\",\"9/2020\",\"10/2020\",\"11/2020\",\"12/2020\"],\"xaxis\":\"x\",\"y\":[12570.33516482565,11569.168746227244,13616.8122044598,11884.3708810225,13950.332334409886,12781.156535682429,14256.210023357236,12887.711959877464,15038.574005789536,12626.48930557771,14611.291109090684,13194.81429999148,14921.016215576235,13477.391456909943,15409.211079596587,13999.215068692509,15597.436975845374,14098.12497823274,15596.818092478728,14941.69403166363,15715.347212025836,14181.212141927936,16282.0980055455,14650.929410064906,16433.209008286325,15400.579033515967,16756.981262857273,15128.148250492244,17523.979943307248,15413.044691473402,16366.26437701746,14568.470958551738,16901.11154186154,14659.021365286097,16494.903960781197,15398.721298130027,17938.090871773184,15850.35787113158,18236.778754419985,15956.750789202086,17401.696472111977,15890.10321935092,17283.79073343649,16302.509223010222,17229.64501478726,16223.309276278227,17796.223621100053,16344.001270241426,17782.006164552513,16326.588260101846,18253.569321985724,16818.12312918114,18554.33980878632,16900.704327264033,18479.00603218699,17042.963875823145,18287.35559715585,17244.887842050513,18822.494484753846,17603.725932131478,18766.104076650663,17170.12649068024,19632.147600450644,16856.921979192426,18854.690380403008,17880.884218985302,19087.480847049384,18196.112254637803,19770.963054596545,16488.739325030063,19699.01989730995,17194.707087425755,19372.65790157132,17715.24432224015,19227.53144133251,17691.136252909622,20114.53450629712,17926.252604903035,19880.02532889845,16690.02893115867,19928.02694695529,18553.766165315024,20547.154033981024,17301.11715078875,19538.97650435099,17902.44835514176,21269.577926886348,18842.69654955895,20095.445399491346,17670.300576591326,20310.884287446843,18754.84178182952,20736.279238797026,18617.387584546323,20783.71123390676,17470.755864944782,20523.579839792717,18796.936905805047,20028.582492587037,18677.535295190337,20048.1074217522,18929.24861718753,20571.15590247796,18207.204656231734,20839.04289237627,18966.53298378622,20909.977545252816,18589.807151786372,21287.370122673103,17987.976866769444,21111.062684974822,18538.311320658097,21797.26713239234,18935.35277235507,21331.37841983855,18783.75961074272,22139.12337340894,18553.79727063604,21579.50628438568,19726.43311123112,21147.624131226225,19232.360491469408,21575.52105110441,18856.1781102771,20701.25067582265,19406.448559709923,22328.687162949856,19384.824041986754,21449.154889830097,19554.40558950196,21873.104938389297,19572.860127015803],\"yaxis\":\"y\",\"type\":\"scatter\"}],                        {\"template\":{\"data\":{\"bar\":[{\"error_x\":{\"color\":\"#2a3f5f\"},\"error_y\":{\"color\":\"#2a3f5f\"},\"marker\":{\"line\":{\"color\":\"#E5ECF6\",\"width\":0.5},\"pattern\":{\"fillmode\":\"overlay\",\"size\":10,\"solidity\":0.2}},\"type\":\"bar\"}],\"barpolar\":[{\"marker\":{\"line\":{\"color\":\"#E5ECF6\",\"width\":0.5},\"pattern\":{\"fillmode\":\"overlay\",\"size\":10,\"solidity\":0.2}},\"type\":\"barpolar\"}],\"carpet\":[{\"aaxis\":{\"endlinecolor\":\"#2a3f5f\",\"gridcolor\":\"white\",\"linecolor\":\"white\",\"minorgridcolor\":\"white\",\"startlinecolor\":\"#2a3f5f\"},\"baxis\":{\"endlinecolor\":\"#2a3f5f\",\"gridcolor\":\"white\",\"linecolor\":\"white\",\"minorgridcolor\":\"white\",\"startlinecolor\":\"#2a3f5f\"},\"type\":\"carpet\"}],\"choropleth\":[{\"colorbar\":{\"outlinewidth\":0,\"ticks\":\"\"},\"type\":\"choropleth\"}],\"contour\":[{\"colorbar\":{\"outlinewidth\":0,\"ticks\":\"\"},\"colorscale\":[[0.0,\"#0d0887\"],[0.1111111111111111,\"#46039f\"],[0.2222222222222222,\"#7201a8\"],[0.3333333333333333,\"#9c179e\"],[0.4444444444444444,\"#bd3786\"],[0.5555555555555556,\"#d8576b\"],[0.6666666666666666,\"#ed7953\"],[0.7777777777777778,\"#fb9f3a\"],[0.8888888888888888,\"#fdca26\"],[1.0,\"#f0f921\"]],\"type\":\"contour\"}],\"contourcarpet\":[{\"colorbar\":{\"outlinewidth\":0,\"ticks\":\"\"},\"type\":\"contourcarpet\"}],\"heatmap\":[{\"colorbar\":{\"outlinewidth\":0,\"ticks\":\"\"},\"colorscale\":[[0.0,\"#0d0887\"],[0.1111111111111111,\"#46039f\"],[0.2222222222222222,\"#7201a8\"],[0.3333333333333333,\"#9c179e\"],[0.4444444444444444,\"#bd3786\"],[0.5555555555555556,\"#d8576b\"],[0.6666666666666666,\"#ed7953\"],[0.7777777777777778,\"#fb9f3a\"],[0.8888888888888888,\"#fdca26\"],[1.0,\"#f0f921\"]],\"type\":\"heatmap\"}],\"heatmapgl\":[{\"colorbar\":{\"outlinewidth\":0,\"ticks\":\"\"},\"colorscale\":[[0.0,\"#0d0887\"],[0.1111111111111111,\"#46039f\"],[0.2222222222222222,\"#7201a8\"],[0.3333333333333333,\"#9c179e\"],[0.4444444444444444,\"#bd3786\"],[0.5555555555555556,\"#d8576b\"],[0.6666666666666666,\"#ed7953\"],[0.7777777777777778,\"#fb9f3a\"],[0.8888888888888888,\"#fdca26\"],[1.0,\"#f0f921\"]],\"type\":\"heatmapgl\"}],\"histogram\":[{\"marker\":{\"pattern\":{\"fillmode\":\"overlay\",\"size\":10,\"solidity\":0.2}},\"type\":\"histogram\"}],\"histogram2d\":[{\"colorbar\":{\"outlinewidth\":0,\"ticks\":\"\"},\"colorscale\":[[0.0,\"#0d0887\"],[0.1111111111111111,\"#46039f\"],[0.2222222222222222,\"#7201a8\"],[0.3333333333333333,\"#9c179e\"],[0.4444444444444444,\"#bd3786\"],[0.5555555555555556,\"#d8576b\"],[0.6666666666666666,\"#ed7953\"],[0.7777777777777778,\"#fb9f3a\"],[0.8888888888888888,\"#fdca26\"],[1.0,\"#f0f921\"]],\"type\":\"histogram2d\"}],\"histogram2dcontour\":[{\"colorbar\":{\"outlinewidth\":0,\"ticks\":\"\"},\"colorscale\":[[0.0,\"#0d0887\"],[0.1111111111111111,\"#46039f\"],[0.2222222222222222,\"#7201a8\"],[0.3333333333333333,\"#9c179e\"],[0.4444444444444444,\"#bd3786\"],[0.5555555555555556,\"#d8576b\"],[0.6666666666666666,\"#ed7953\"],[0.7777777777777778,\"#fb9f3a\"],[0.8888888888888888,\"#fdca26\"],[1.0,\"#f0f921\"]],\"type\":\"histogram2dcontour\"}],\"mesh3d\":[{\"colorbar\":{\"outlinewidth\":0,\"ticks\":\"\"},\"type\":\"mesh3d\"}],\"parcoords\":[{\"line\":{\"colorbar\":{\"outlinewidth\":0,\"ticks\":\"\"}},\"type\":\"parcoords\"}],\"pie\":[{\"automargin\":true,\"type\":\"pie\"}],\"scatter\":[{\"marker\":{\"colorbar\":{\"outlinewidth\":0,\"ticks\":\"\"}},\"type\":\"scatter\"}],\"scatter3d\":[{\"line\":{\"colorbar\":{\"outlinewidth\":0,\"ticks\":\"\"}},\"marker\":{\"colorbar\":{\"outlinewidth\":0,\"ticks\":\"\"}},\"type\":\"scatter3d\"}],\"scattercarpet\":[{\"marker\":{\"colorbar\":{\"outlinewidth\":0,\"ticks\":\"\"}},\"type\":\"scattercarpet\"}],\"scattergeo\":[{\"marker\":{\"colorbar\":{\"outlinewidth\":0,\"ticks\":\"\"}},\"type\":\"scattergeo\"}],\"scattergl\":[{\"marker\":{\"colorbar\":{\"outlinewidth\":0,\"ticks\":\"\"}},\"type\":\"scattergl\"}],\"scattermapbox\":[{\"marker\":{\"colorbar\":{\"outlinewidth\":0,\"ticks\":\"\"}},\"type\":\"scattermapbox\"}],\"scatterpolar\":[{\"marker\":{\"colorbar\":{\"outlinewidth\":0,\"ticks\":\"\"}},\"type\":\"scatterpolar\"}],\"scatterpolargl\":[{\"marker\":{\"colorbar\":{\"outlinewidth\":0,\"ticks\":\"\"}},\"type\":\"scatterpolargl\"}],\"scatterternary\":[{\"marker\":{\"colorbar\":{\"outlinewidth\":0,\"ticks\":\"\"}},\"type\":\"scatterternary\"}],\"surface\":[{\"colorbar\":{\"outlinewidth\":0,\"ticks\":\"\"},\"colorscale\":[[0.0,\"#0d0887\"],[0.1111111111111111,\"#46039f\"],[0.2222222222222222,\"#7201a8\"],[0.3333333333333333,\"#9c179e\"],[0.4444444444444444,\"#bd3786\"],[0.5555555555555556,\"#d8576b\"],[0.6666666666666666,\"#ed7953\"],[0.7777777777777778,\"#fb9f3a\"],[0.8888888888888888,\"#fdca26\"],[1.0,\"#f0f921\"]],\"type\":\"surface\"}],\"table\":[{\"cells\":{\"fill\":{\"color\":\"#EBF0F8\"},\"line\":{\"color\":\"white\"}},\"header\":{\"fill\":{\"color\":\"#C8D4E3\"},\"line\":{\"color\":\"white\"}},\"type\":\"table\"}]},\"layout\":{\"annotationdefaults\":{\"arrowcolor\":\"#2a3f5f\",\"arrowhead\":0,\"arrowwidth\":1},\"autotypenumbers\":\"strict\",\"coloraxis\":{\"colorbar\":{\"outlinewidth\":0,\"ticks\":\"\"}},\"colorscale\":{\"diverging\":[[0,\"#8e0152\"],[0.1,\"#c51b7d\"],[0.2,\"#de77ae\"],[0.3,\"#f1b6da\"],[0.4,\"#fde0ef\"],[0.5,\"#f7f7f7\"],[0.6,\"#e6f5d0\"],[0.7,\"#b8e186\"],[0.8,\"#7fbc41\"],[0.9,\"#4d9221\"],[1,\"#276419\"]],\"sequential\":[[0.0,\"#0d0887\"],[0.1111111111111111,\"#46039f\"],[0.2222222222222222,\"#7201a8\"],[0.3333333333333333,\"#9c179e\"],[0.4444444444444444,\"#bd3786\"],[0.5555555555555556,\"#d8576b\"],[0.6666666666666666,\"#ed7953\"],[0.7777777777777778,\"#fb9f3a\"],[0.8888888888888888,\"#fdca26\"],[1.0,\"#f0f921\"]],\"sequentialminus\":[[0.0,\"#0d0887\"],[0.1111111111111111,\"#46039f\"],[0.2222222222222222,\"#7201a8\"],[0.3333333333333333,\"#9c179e\"],[0.4444444444444444,\"#bd3786\"],[0.5555555555555556,\"#d8576b\"],[0.6666666666666666,\"#ed7953\"],[0.7777777777777778,\"#fb9f3a\"],[0.8888888888888888,\"#fdca26\"],[1.0,\"#f0f921\"]]},\"colorway\":[\"#636efa\",\"#EF553B\",\"#00cc96\",\"#ab63fa\",\"#FFA15A\",\"#19d3f3\",\"#FF6692\",\"#B6E880\",\"#FF97FF\",\"#FECB52\"],\"font\":{\"color\":\"#2a3f5f\"},\"geo\":{\"bgcolor\":\"white\",\"lakecolor\":\"white\",\"landcolor\":\"#E5ECF6\",\"showlakes\":true,\"showland\":true,\"subunitcolor\":\"white\"},\"hoverlabel\":{\"align\":\"left\"},\"hovermode\":\"closest\",\"mapbox\":{\"style\":\"light\"},\"paper_bgcolor\":\"white\",\"plot_bgcolor\":\"#E5ECF6\",\"polar\":{\"angularaxis\":{\"gridcolor\":\"white\",\"linecolor\":\"white\",\"ticks\":\"\"},\"bgcolor\":\"#E5ECF6\",\"radialaxis\":{\"gridcolor\":\"white\",\"linecolor\":\"white\",\"ticks\":\"\"}},\"scene\":{\"xaxis\":{\"backgroundcolor\":\"#E5ECF6\",\"gridcolor\":\"white\",\"gridwidth\":2,\"linecolor\":\"white\",\"showbackground\":true,\"ticks\":\"\",\"zerolinecolor\":\"white\"},\"yaxis\":{\"backgroundcolor\":\"#E5ECF6\",\"gridcolor\":\"white\",\"gridwidth\":2,\"linecolor\":\"white\",\"showbackground\":true,\"ticks\":\"\",\"zerolinecolor\":\"white\"},\"zaxis\":{\"backgroundcolor\":\"#E5ECF6\",\"gridcolor\":\"white\",\"gridwidth\":2,\"linecolor\":\"white\",\"showbackground\":true,\"ticks\":\"\",\"zerolinecolor\":\"white\"}},\"shapedefaults\":{\"line\":{\"color\":\"#2a3f5f\"}},\"ternary\":{\"aaxis\":{\"gridcolor\":\"white\",\"linecolor\":\"white\",\"ticks\":\"\"},\"baxis\":{\"gridcolor\":\"white\",\"linecolor\":\"white\",\"ticks\":\"\"},\"bgcolor\":\"#E5ECF6\",\"caxis\":{\"gridcolor\":\"white\",\"linecolor\":\"white\",\"ticks\":\"\"}},\"title\":{\"x\":0.05},\"xaxis\":{\"automargin\":true,\"gridcolor\":\"white\",\"linecolor\":\"white\",\"ticks\":\"\",\"title\":{\"standoff\":15},\"zerolinecolor\":\"white\",\"zerolinewidth\":2},\"yaxis\":{\"automargin\":true,\"gridcolor\":\"white\",\"linecolor\":\"white\",\"ticks\":\"\",\"title\":{\"standoff\":15},\"zerolinecolor\":\"white\",\"zerolinewidth\":2}}},\"xaxis\":{\"anchor\":\"y\",\"domain\":[0.0,1.0],\"title\":{\"text\":\"Date\"}},\"yaxis\":{\"anchor\":\"x\",\"domain\":[0.0,1.0],\"title\":{\"text\":\"KG\"}},\"legend\":{\"tracegroupgap\":0},\"margin\":{\"t\":60}},                        {\"responsive\": true}                    ).then(function(){\n",
              "                            \n",
              "var gd = document.getElementById('fbb6d422-ab24-406a-bee5-14d68f583b3f');\n",
              "var x = new MutationObserver(function (mutations, observer) {{\n",
              "        var display = window.getComputedStyle(gd).display;\n",
              "        if (!display || display === 'none') {{\n",
              "            console.log([gd, 'removed!']);\n",
              "            Plotly.purge(gd);\n",
              "            observer.disconnect();\n",
              "        }}\n",
              "}});\n",
              "\n",
              "// Listen for the removal of the full notebook cells\n",
              "var notebookContainer = gd.closest('#notebook-container');\n",
              "if (notebookContainer) {{\n",
              "    x.observe(notebookContainer, {childList: true});\n",
              "}}\n",
              "\n",
              "// Listen for the clearing of the current output cell\n",
              "var outputEl = gd.closest('.output');\n",
              "if (outputEl) {{\n",
              "    x.observe(outputEl, {childList: true});\n",
              "}}\n",
              "\n",
              "                        })                };                            </script>        </div>\n",
              "</body>\n",
              "</html>"
            ]
          },
          "metadata": {}
        }
      ],
      "source": [
        "data = pd.DataFrame(orders.loc[0, time_cols])\n",
        "data = data.reset_index()\n",
        "data.columns = ['Date', 'KG']\n",
        "data\n",
        "px.scatter(data, x='Date',  y='KG')"
      ]
    },
    {
      "cell_type": "code",
      "execution_count": 6,
      "metadata": {
        "colab": {
          "base_uri": "https://localhost:8080/",
          "height": 623
        },
        "id": "ZO4KGh2aIhYj",
        "outputId": "8ead3276-aacb-4d3b-f82a-5e5a13091a23"
      },
      "outputs": [
        {
          "output_type": "execute_result",
          "data": {
            "text/plain": [
              "<matplotlib.axes._subplots.AxesSubplot at 0x7fe793475c10>"
            ]
          },
          "metadata": {},
          "execution_count": 6
        },
        {
          "output_type": "display_data",
          "data": {
            "image/png": "[encoded data removed]",
            "text/plain": [
              "<Figure size 720x720 with 1 Axes>"
            ]
          },
          "metadata": {
            "needs_background": "light"
          }
        }
      ],
      "source": [
        "fig, ax = plt.subplots(1,1,figsize=(10,10))\n",
        "pd.plotting.autocorrelation_plot(data['KG'], ax=ax)"
      ]
    },
    {
      "cell_type": "markdown",
      "metadata": {
        "id": "c35IMXN5r1vx"
      },
      "source": [
        "Normally with time series data, we'd want to try a host of preprocessing techniques and remove the trend (really create two separate analyses, one of the trend and one of the seasonality) but to keep things simple and to showcase the utility of machine learning, we are going to deviate from the stats-like approach and work with our data as is. \n",
        "\n",
        "For more details on the stats-like models you can perform a cursory search on _ARIMA_, _ARMA_, _SARIMA_"
      ]
    },
    {
      "cell_type": "markdown",
      "metadata": {
        "id": "2p4qhOHy4BCP"
      },
      "source": [
        "<a name='x.4'></a>\n",
        "\n",
        "## 5.4 Modeling\n",
        "\n",
        "[back to top](#top)"
      ]
    },
    {
      "cell_type": "code",
      "execution_count": 7,
      "metadata": {
        "id": "dAsFW1HvQp2E"
      },
      "outputs": [],
      "source": [
        "from tensorflow import keras\n",
        "from tensorflow.keras import layers"
      ]
    },
    {
      "cell_type": "markdown",
      "metadata": {
        "id": "-iE3lc9FLo68"
      },
      "source": [
        "<a name='x.4.1'></a>\n",
        "\n",
        "### 5.4.1 Sweeping (Rolling) Window\n",
        "\n",
        "[back to top](#top)\n",
        "\n",
        "We're going to revist this idea of a sweeping window from our feature engineering disucssion. It turns out, even though we are using a NN, there is still some preprocessing we need to do. In our case, each time delta is represented by a month. So we will choose some number of months to include in our feature set, this will in turn determine what our overall training data will look like. \n",
        "\n",
        "<p align=center>\n",
        "<img src=\"https://cdn.analyticsvidhya.com/wp-content/uploads/2019/11/3hotmk.gif\"></img>\n",
        "</p>"
      ]
    },
    {
      "cell_type": "code",
      "execution_count": 8,
      "metadata": {
        "id": "c2U8wDoWSD1y"
      },
      "outputs": [],
      "source": [
        "Xy = orders.loc[[0], time_cols].values\n",
        "# separate the non-time series columns\n",
        "X_cat = Xy[:,:-120]\n",
        "\n",
        "# select the columns to apply the sweeping window\n",
        "X = Xy[:,-120:]"
      ]
    },
    {
      "cell_type": "markdown",
      "metadata": {
        "id": "VXRj_yrpGeOD"
      },
      "source": [
        "with a window size of 3, our X will have 3 features, the prior 3 months leading up to the month for which we will attempt to forecast. "
      ]
    },
    {
      "cell_type": "code",
      "execution_count": 9,
      "metadata": {
        "colab": {
          "base_uri": "https://localhost:8080/"
        },
        "id": "QQETIaWfGcNc",
        "outputId": "6ff5874a-94d4-48b1-8402-69856c1ba99b"
      },
      "outputs": [
        {
          "output_type": "execute_result",
          "data": {
            "text/plain": [
              "array([[12570.33516483, 11569.16874623, 13616.81220446],\n",
              "       [11569.16874623, 13616.81220446, 11884.37088102],\n",
              "       [13616.81220446, 11884.37088102, 13950.33233441],\n",
              "       [11884.37088102, 13950.33233441, 12781.15653568],\n",
              "       [13950.33233441, 12781.15653568, 14256.21002336]])"
            ]
          },
          "metadata": {},
          "execution_count": 9
        }
      ],
      "source": [
        "window_size = 3\n",
        "X, y, labels = process_data(orders.loc[[0], time_cols].values, window=window_size, time_cols=132)\n",
        "X[:5]"
      ]
    },
    {
      "cell_type": "markdown",
      "metadata": {
        "id": "NMoUDdpbGR6v"
      },
      "source": [
        "With a window size of 1, our X data will have a feature size of 1"
      ]
    },
    {
      "cell_type": "code",
      "execution_count": 10,
      "metadata": {
        "colab": {
          "base_uri": "https://localhost:8080/"
        },
        "id": "4yzUBeqpM6xR",
        "outputId": "86a6f8e1-6b9f-4182-bb3a-c2f2dda20ee3"
      },
      "outputs": [
        {
          "output_type": "execute_result",
          "data": {
            "text/plain": [
              "array([[12570.33516483],\n",
              "       [11569.16874623],\n",
              "       [13616.81220446],\n",
              "       [11884.37088102],\n",
              "       [13950.33233441]])"
            ]
          },
          "metadata": {},
          "execution_count": 10
        }
      ],
      "source": [
        "window_size = 1\n",
        "X, y, labels = process_data(orders.loc[[0], time_cols].values, window=window_size, time_cols=132)\n",
        "X[:5]"
      ]
    },
    {
      "cell_type": "markdown",
      "metadata": {
        "id": "7XRpDQgHGofC"
      },
      "source": [
        "and so on."
      ]
    },
    {
      "cell_type": "markdown",
      "metadata": {
        "id": "FFWFQP0r9Ab3"
      },
      "source": [
        "<a name='x.4.2'></a>\n",
        "\n",
        "### 5.4.2 FFNN\n",
        "\n",
        "[back to top](#top)\n",
        "\n",
        "I'm going to start with a very simple FFNN model:"
      ]
    },
    {
      "cell_type": "code",
      "execution_count": 11,
      "metadata": {
        "id": "nj-ULeUEP4ML"
      },
      "outputs": [],
      "source": [
        "model = keras.Sequential([\n",
        "    layers.Dense(8, input_shape=[window_size]), # one layer, 8 nodes\n",
        "    layers.Dense(1) # single output for the kg\n",
        "])\n",
        "\n",
        "model.compile(loss='mean_squared_error', optimizer='adam')"
      ]
    },
    {
      "cell_type": "code",
      "execution_count": 12,
      "metadata": {
        "id": "02Ch-AztTtgf"
      },
      "outputs": [],
      "source": [
        "early_stopping = keras.callbacks.EarlyStopping(\n",
        "    patience=10,\n",
        "    min_delta=0.001,\n",
        "    restore_best_weights=True,\n",
        "    monitor='loss'\n",
        ")"
      ]
    },
    {
      "cell_type": "code",
      "execution_count": 13,
      "metadata": {
        "id": "-My8Fl8OR9bp"
      },
      "outputs": [],
      "source": [
        "history = model.fit(\n",
        "    X, y,\n",
        "    batch_size=10,\n",
        "    epochs=1000,\n",
        "    callbacks=[early_stopping],\n",
        "    verbose=0, # hide the output because we have so many epochs\n",
        ")"
      ]
    },
    {
      "cell_type": "code",
      "execution_count": 14,
      "metadata": {
        "colab": {
          "base_uri": "https://localhost:8080/",
          "height": 206
        },
        "id": "BFDYY9t4UViN",
        "outputId": "1126a9c0-e399-4af1-f533-40fdfd2a7fed"
      },
      "outputs": [
        {
          "output_type": "execute_result",
          "data": {
            "text/html": [
              "\n",
              "  <div id=\"df-0ddb6604-cedd-4d63-af3c-e9702c5b84e4\">\n",
              "    <div class=\"colab-df-container\">\n",
              "      <div>\n",
              "<style scoped>\n",
              "    .dataframe tbody tr th:only-of-type {\n",
              "        vertical-align: middle;\n",
              "    }\n",
              "\n",
              "    .dataframe tbody tr th {\n",
              "        vertical-align: top;\n",
              "    }\n",
              "\n",
              "    .dataframe thead th {\n",
              "        text-align: right;\n",
              "    }\n",
              "</style>\n",
              "<table border=\"1\" class=\"dataframe\">\n",
              "  <thead>\n",
              "    <tr style=\"text-align: right;\">\n",
              "      <th></th>\n",
              "      <th>loss</th>\n",
              "    </tr>\n",
              "  </thead>\n",
              "  <tbody>\n",
              "    <tr>\n",
              "      <th>28</th>\n",
              "      <td>4256767.5</td>\n",
              "    </tr>\n",
              "    <tr>\n",
              "      <th>29</th>\n",
              "      <td>4248723.5</td>\n",
              "    </tr>\n",
              "    <tr>\n",
              "      <th>30</th>\n",
              "      <td>4237678.5</td>\n",
              "    </tr>\n",
              "    <tr>\n",
              "      <th>31</th>\n",
              "      <td>4243790.0</td>\n",
              "    </tr>\n",
              "    <tr>\n",
              "      <th>32</th>\n",
              "      <td>4243835.5</td>\n",
              "    </tr>\n",
              "  </tbody>\n",
              "</table>\n",
              "</div>\n",
              "      <button class=\"colab-df-convert\" onclick=\"convertToInteractive('df-0ddb6604-cedd-4d63-af3c-e9702c5b84e4')\"\n",
              "              title=\"Convert this dataframe to an interactive table.\"\n",
              "              style=\"display:none;\">\n",
              "        \n",
              "  <svg xmlns=\"http://www.w3.org/2000/svg\" height=\"24px\"viewBox=\"0 0 24 24\"\n",
              "       width=\"24px\">\n",
              "    <path d=\"M0 0h24v24H0V0z\" fill=\"none\"/>\n",
              "    <path d=\"M18.56 5.44l.94 2.06.94-2.06 2.06-.94-2.06-.94-.94-2.06-.94 2.06-2.06.94zm-11 1L8.5 8.5l.94-2.06 2.06-.94-2.06-.94L8.5 2.5l-.94 2.06-2.06.94zm10 10l.94 2.06.94-2.06 2.06-.94-2.06-.94-.94-2.06-.94 2.06-2.06.94z\"/><path d=\"M17.41 7.96l-1.37-1.37c-.4-.4-.92-.59-1.43-.59-.52 0-1.04.2-1.43.59L10.3 9.45l-7.72 7.72c-.78.78-.78 2.05 0 2.83L4 21.41c.39.39.9.59 1.41.59.51 0 1.02-.2 1.41-.59l7.78-7.78 2.81-2.81c.8-.78.8-2.07 0-2.86zM5.41 20L4 18.59l7.72-7.72 1.47 1.35L5.41 20z\"/>\n",
              "  </svg>\n",
              "      </button>\n",
              "      \n",
              "  <style>\n",
              "    .colab-df-container {\n",
              "      display:flex;\n",
              "      flex-wrap:wrap;\n",
              "      gap: 12px;\n",
              "    }\n",
              "\n",
              "    .colab-df-convert {\n",
              "      background-color: #E8F0FE;\n",
              "      border: none;\n",
              "      border-radius: 50%;\n",
              "      cursor: pointer;\n",
              "      display: none;\n",
              "      fill: #1967D2;\n",
              "      height: 32px;\n",
              "      padding: 0 0 0 0;\n",
              "      width: 32px;\n",
              "    }\n",
              "\n",
              "    .colab-df-convert:hover {\n",
              "      background-color: #E2EBFA;\n",
              "      box-shadow: 0px 1px 2px rgba(60, 64, 67, 0.3), 0px 1px 3px 1px rgba(60, 64, 67, 0.15);\n",
              "      fill: #174EA6;\n",
              "    }\n",
              "\n",
              "    [theme=dark] .colab-df-convert {\n",
              "      background-color: #3B4455;\n",
              "      fill: #D2E3FC;\n",
              "    }\n",
              "\n",
              "    [theme=dark] .colab-df-convert:hover {\n",
              "      background-color: #434B5C;\n",
              "      box-shadow: 0px 1px 3px 1px rgba(0, 0, 0, 0.15);\n",
              "      filter: drop-shadow(0px 1px 2px rgba(0, 0, 0, 0.3));\n",
              "      fill: #FFFFFF;\n",
              "    }\n",
              "  </style>\n",
              "\n",
              "      <script>\n",
              "        const buttonEl =\n",
              "          document.querySelector('#df-0ddb6604-cedd-4d63-af3c-e9702c5b84e4 button.colab-df-convert');\n",
              "        buttonEl.style.display =\n",
              "          google.colab.kernel.accessAllowed ? 'block' : 'none';\n",
              "\n",
              "        async function convertToInteractive(key) {\n",
              "          const element = document.querySelector('#df-0ddb6604-cedd-4d63-af3c-e9702c5b84e4');\n",
              "          const dataTable =\n",
              "            await google.colab.kernel.invokeFunction('convertToInteractive',\n",
              "                                                     [key], {});\n",
              "          if (!dataTable) return;\n",
              "\n",
              "          const docLinkHtml = 'Like what you see? Visit the ' +\n",
              "            '<a target=\"_blank\" href=https://colab.research.google.com/notebooks/data_table.ipynb>data table notebook</a>'\n",
              "            + ' to learn more about interactive tables.';\n",
              "          element.innerHTML = '';\n",
              "          dataTable['output_type'] = 'display_data';\n",
              "          await google.colab.output.renderOutput(dataTable, element);\n",
              "          const docLink = document.createElement('div');\n",
              "          docLink.innerHTML = docLinkHtml;\n",
              "          element.appendChild(docLink);\n",
              "        }\n",
              "      </script>\n",
              "    </div>\n",
              "  </div>\n",
              "  "
            ],
            "text/plain": [
              "         loss\n",
              "28  4256767.5\n",
              "29  4248723.5\n",
              "30  4237678.5\n",
              "31  4243790.0\n",
              "32  4243835.5"
            ]
          },
          "metadata": {},
          "execution_count": 14
        }
      ],
      "source": [
        "history_df = pd.DataFrame(history.history)\n",
        "history_df.tail()"
      ]
    },
    {
      "cell_type": "markdown",
      "metadata": {
        "id": "EsuoEnHVWEuk"
      },
      "source": [
        "As we can see from the `y` vs `y_pred` the FFNN is just predicting the previous month's value:"
      ]
    },
    {
      "cell_type": "code",
      "execution_count": 15,
      "metadata": {
        "colab": {
          "base_uri": "https://localhost:8080/",
          "height": 423
        },
        "id": "c8wvEZSjV3Se",
        "outputId": "6a593d72-f0e5-4262-d1ea-9c18a4f5d596"
      },
      "outputs": [
        {
          "output_type": "execute_result",
          "data": {
            "text/html": [
              "\n",
              "  <div id=\"df-a4d5584c-23a6-4ad1-912d-f5e8f56e8330\">\n",
              "    <div class=\"colab-df-container\">\n",
              "      <div>\n",
              "<style scoped>\n",
              "    .dataframe tbody tr th:only-of-type {\n",
              "        vertical-align: middle;\n",
              "    }\n",
              "\n",
              "    .dataframe tbody tr th {\n",
              "        vertical-align: top;\n",
              "    }\n",
              "\n",
              "    .dataframe thead th {\n",
              "        text-align: right;\n",
              "    }\n",
              "</style>\n",
              "<table border=\"1\" class=\"dataframe\">\n",
              "  <thead>\n",
              "    <tr style=\"text-align: right;\">\n",
              "      <th></th>\n",
              "      <th>0</th>\n",
              "    </tr>\n",
              "  </thead>\n",
              "  <tbody>\n",
              "    <tr>\n",
              "      <th>11569.168746</th>\n",
              "      <td>12492.496094</td>\n",
              "    </tr>\n",
              "    <tr>\n",
              "      <th>13616.812204</th>\n",
              "      <td>11497.576172</td>\n",
              "    </tr>\n",
              "    <tr>\n",
              "      <th>11884.370881</th>\n",
              "      <td>13532.443359</td>\n",
              "    </tr>\n",
              "    <tr>\n",
              "      <th>13950.332334</th>\n",
              "      <td>11810.812500</td>\n",
              "    </tr>\n",
              "    <tr>\n",
              "      <th>12781.156536</th>\n",
              "      <td>13863.880859</td>\n",
              "    </tr>\n",
              "    <tr>\n",
              "      <th>...</th>\n",
              "      <td>...</td>\n",
              "    </tr>\n",
              "    <tr>\n",
              "      <th>19384.824042</th>\n",
              "      <td>22189.955078</td>\n",
              "    </tr>\n",
              "    <tr>\n",
              "      <th>21449.154890</th>\n",
              "      <td>19264.462891</td>\n",
              "    </tr>\n",
              "    <tr>\n",
              "      <th>19554.405590</th>\n",
              "      <td>21315.910156</td>\n",
              "    </tr>\n",
              "    <tr>\n",
              "      <th>21873.104938</th>\n",
              "      <td>19432.988281</td>\n",
              "    </tr>\n",
              "    <tr>\n",
              "      <th>19572.860127</th>\n",
              "      <td>21737.216797</td>\n",
              "    </tr>\n",
              "  </tbody>\n",
              "</table>\n",
              "<p>131 rows × 1 columns</p>\n",
              "</div>\n",
              "      <button class=\"colab-df-convert\" onclick=\"convertToInteractive('df-a4d5584c-23a6-4ad1-912d-f5e8f56e8330')\"\n",
              "              title=\"Convert this dataframe to an interactive table.\"\n",
              "              style=\"display:none;\">\n",
              "        \n",
              "  <svg xmlns=\"http://www.w3.org/2000/svg\" height=\"24px\"viewBox=\"0 0 24 24\"\n",
              "       width=\"24px\">\n",
              "    <path d=\"M0 0h24v24H0V0z\" fill=\"none\"/>\n",
              "    <path d=\"M18.56 5.44l.94 2.06.94-2.06 2.06-.94-2.06-.94-.94-2.06-.94 2.06-2.06.94zm-11 1L8.5 8.5l.94-2.06 2.06-.94-2.06-.94L8.5 2.5l-.94 2.06-2.06.94zm10 10l.94 2.06.94-2.06 2.06-.94-2.06-.94-.94-2.06-.94 2.06-2.06.94z\"/><path d=\"M17.41 7.96l-1.37-1.37c-.4-.4-.92-.59-1.43-.59-.52 0-1.04.2-1.43.59L10.3 9.45l-7.72 7.72c-.78.78-.78 2.05 0 2.83L4 21.41c.39.39.9.59 1.41.59.51 0 1.02-.2 1.41-.59l7.78-7.78 2.81-2.81c.8-.78.8-2.07 0-2.86zM5.41 20L4 18.59l7.72-7.72 1.47 1.35L5.41 20z\"/>\n",
              "  </svg>\n",
              "      </button>\n",
              "      \n",
              "  <style>\n",
              "    .colab-df-container {\n",
              "      display:flex;\n",
              "      flex-wrap:wrap;\n",
              "      gap: 12px;\n",
              "    }\n",
              "\n",
              "    .colab-df-convert {\n",
              "      background-color: #E8F0FE;\n",
              "      border: none;\n",
              "      border-radius: 50%;\n",
              "      cursor: pointer;\n",
              "      display: none;\n",
              "      fill: #1967D2;\n",
              "      height: 32px;\n",
              "      padding: 0 0 0 0;\n",
              "      width: 32px;\n",
              "    }\n",
              "\n",
              "    .colab-df-convert:hover {\n",
              "      background-color: #E2EBFA;\n",
              "      box-shadow: 0px 1px 2px rgba(60, 64, 67, 0.3), 0px 1px 3px 1px rgba(60, 64, 67, 0.15);\n",
              "      fill: #174EA6;\n",
              "    }\n",
              "\n",
              "    [theme=dark] .colab-df-convert {\n",
              "      background-color: #3B4455;\n",
              "      fill: #D2E3FC;\n",
              "    }\n",
              "\n",
              "    [theme=dark] .colab-df-convert:hover {\n",
              "      background-color: #434B5C;\n",
              "      box-shadow: 0px 1px 3px 1px rgba(0, 0, 0, 0.15);\n",
              "      filter: drop-shadow(0px 1px 2px rgba(0, 0, 0, 0.3));\n",
              "      fill: #FFFFFF;\n",
              "    }\n",
              "  </style>\n",
              "\n",
              "      <script>\n",
              "        const buttonEl =\n",
              "          document.querySelector('#df-a4d5584c-23a6-4ad1-912d-f5e8f56e8330 button.colab-df-convert');\n",
              "        buttonEl.style.display =\n",
              "          google.colab.kernel.accessAllowed ? 'block' : 'none';\n",
              "\n",
              "        async function convertToInteractive(key) {\n",
              "          const element = document.querySelector('#df-a4d5584c-23a6-4ad1-912d-f5e8f56e8330');\n",
              "          const dataTable =\n",
              "            await google.colab.kernel.invokeFunction('convertToInteractive',\n",
              "                                                     [key], {});\n",
              "          if (!dataTable) return;\n",
              "\n",
              "          const docLinkHtml = 'Like what you see? Visit the ' +\n",
              "            '<a target=\"_blank\" href=https://colab.research.google.com/notebooks/data_table.ipynb>data table notebook</a>'\n",
              "            + ' to learn more about interactive tables.';\n",
              "          element.innerHTML = '';\n",
              "          dataTable['output_type'] = 'display_data';\n",
              "          await google.colab.output.renderOutput(dataTable, element);\n",
              "          const docLink = document.createElement('div');\n",
              "          docLink.innerHTML = docLinkHtml;\n",
              "          element.appendChild(docLink);\n",
              "        }\n",
              "      </script>\n",
              "    </div>\n",
              "  </div>\n",
              "  "
            ],
            "text/plain": [
              "                         0\n",
              "11569.168746  12492.496094\n",
              "13616.812204  11497.576172\n",
              "11884.370881  13532.443359\n",
              "13950.332334  11810.812500\n",
              "12781.156536  13863.880859\n",
              "...                    ...\n",
              "19384.824042  22189.955078\n",
              "21449.154890  19264.462891\n",
              "19554.405590  21315.910156\n",
              "21873.104938  19432.988281\n",
              "19572.860127  21737.216797\n",
              "\n",
              "[131 rows x 1 columns]"
            ]
          },
          "metadata": {},
          "execution_count": 15
        }
      ],
      "source": [
        "y_pred = model.predict(X)\n",
        "pd.DataFrame(y_pred, y)"
      ]
    },
    {
      "cell_type": "markdown",
      "metadata": {
        "id": "GAcVdW0zWPFm"
      },
      "source": [
        "We can try this with a more suitable window size"
      ]
    },
    {
      "cell_type": "code",
      "execution_count": 16,
      "metadata": {
        "id": "DZlqAdNaWQ36"
      },
      "outputs": [],
      "source": [
        "window_size = 3\n",
        "X, y, labels = process_data(orders.loc[[0], time_cols].values, window=window_size, time_cols=132)\n",
        "\n",
        "model = keras.Sequential([\n",
        "    # layers.Dense(8, input_shape=[window_size]),\n",
        "    layers.Dense(1, input_shape=[window_size])\n",
        "])\n",
        "\n",
        "model.compile(loss='mean_squared_error', optimizer='adam')"
      ]
    },
    {
      "cell_type": "code",
      "execution_count": 17,
      "metadata": {
        "id": "xZOse2SdWSEW"
      },
      "outputs": [],
      "source": [
        "history = model.fit(\n",
        "    X, y,\n",
        "    batch_size=10,\n",
        "    epochs=1000,\n",
        "    callbacks=[early_stopping],\n",
        "    verbose=0, # hide the output because we have so many epochs\n",
        ")"
      ]
    },
    {
      "cell_type": "code",
      "execution_count": 18,
      "metadata": {
        "colab": {
          "base_uri": "https://localhost:8080/",
          "height": 206
        },
        "id": "3LrH3h-cWUOw",
        "outputId": "44ea2458-df8f-4e55-f087-dc34edcde99e"
      },
      "outputs": [
        {
          "output_type": "execute_result",
          "data": {
            "text/html": [
              "\n",
              "  <div id=\"df-58ac3f7d-aac2-4f93-acd0-5469f9738462\">\n",
              "    <div class=\"colab-df-container\">\n",
              "      <div>\n",
              "<style scoped>\n",
              "    .dataframe tbody tr th:only-of-type {\n",
              "        vertical-align: middle;\n",
              "    }\n",
              "\n",
              "    .dataframe tbody tr th {\n",
              "        vertical-align: top;\n",
              "    }\n",
              "\n",
              "    .dataframe thead th {\n",
              "        text-align: right;\n",
              "    }\n",
              "</style>\n",
              "<table border=\"1\" class=\"dataframe\">\n",
              "  <thead>\n",
              "    <tr style=\"text-align: right;\">\n",
              "      <th></th>\n",
              "      <th>loss</th>\n",
              "    </tr>\n",
              "  </thead>\n",
              "  <tbody>\n",
              "    <tr>\n",
              "      <th>918</th>\n",
              "      <td>497154.00000</td>\n",
              "    </tr>\n",
              "    <tr>\n",
              "      <th>919</th>\n",
              "      <td>497142.50000</td>\n",
              "    </tr>\n",
              "    <tr>\n",
              "      <th>920</th>\n",
              "      <td>500566.28125</td>\n",
              "    </tr>\n",
              "    <tr>\n",
              "      <th>921</th>\n",
              "      <td>496939.93750</td>\n",
              "    </tr>\n",
              "    <tr>\n",
              "      <th>922</th>\n",
              "      <td>498039.28125</td>\n",
              "    </tr>\n",
              "  </tbody>\n",
              "</table>\n",
              "</div>\n",
              "      <button class=\"colab-df-convert\" onclick=\"convertToInteractive('df-58ac3f7d-aac2-4f93-acd0-5469f9738462')\"\n",
              "              title=\"Convert this dataframe to an interactive table.\"\n",
              "              style=\"display:none;\">\n",
              "        \n",
              "  <svg xmlns=\"http://www.w3.org/2000/svg\" height=\"24px\"viewBox=\"0 0 24 24\"\n",
              "       width=\"24px\">\n",
              "    <path d=\"M0 0h24v24H0V0z\" fill=\"none\"/>\n",
              "    <path d=\"M18.56 5.44l.94 2.06.94-2.06 2.06-.94-2.06-.94-.94-2.06-.94 2.06-2.06.94zm-11 1L8.5 8.5l.94-2.06 2.06-.94-2.06-.94L8.5 2.5l-.94 2.06-2.06.94zm10 10l.94 2.06.94-2.06 2.06-.94-2.06-.94-.94-2.06-.94 2.06-2.06.94z\"/><path d=\"M17.41 7.96l-1.37-1.37c-.4-.4-.92-.59-1.43-.59-.52 0-1.04.2-1.43.59L10.3 9.45l-7.72 7.72c-.78.78-.78 2.05 0 2.83L4 21.41c.39.39.9.59 1.41.59.51 0 1.02-.2 1.41-.59l7.78-7.78 2.81-2.81c.8-.78.8-2.07 0-2.86zM5.41 20L4 18.59l7.72-7.72 1.47 1.35L5.41 20z\"/>\n",
              "  </svg>\n",
              "      </button>\n",
              "      \n",
              "  <style>\n",
              "    .colab-df-container {\n",
              "      display:flex;\n",
              "      flex-wrap:wrap;\n",
              "      gap: 12px;\n",
              "    }\n",
              "\n",
              "    .colab-df-convert {\n",
              "      background-color: #E8F0FE;\n",
              "      border: none;\n",
              "      border-radius: 50%;\n",
              "      cursor: pointer;\n",
              "      display: none;\n",
              "      fill: #1967D2;\n",
              "      height: 32px;\n",
              "      padding: 0 0 0 0;\n",
              "      width: 32px;\n",
              "    }\n",
              "\n",
              "    .colab-df-convert:hover {\n",
              "      background-color: #E2EBFA;\n",
              "      box-shadow: 0px 1px 2px rgba(60, 64, 67, 0.3), 0px 1px 3px 1px rgba(60, 64, 67, 0.15);\n",
              "      fill: #174EA6;\n",
              "    }\n",
              "\n",
              "    [theme=dark] .colab-df-convert {\n",
              "      background-color: #3B4455;\n",
              "      fill: #D2E3FC;\n",
              "    }\n",
              "\n",
              "    [theme=dark] .colab-df-convert:hover {\n",
              "      background-color: #434B5C;\n",
              "      box-shadow: 0px 1px 3px 1px rgba(0, 0, 0, 0.15);\n",
              "      filter: drop-shadow(0px 1px 2px rgba(0, 0, 0, 0.3));\n",
              "      fill: #FFFFFF;\n",
              "    }\n",
              "  </style>\n",
              "\n",
              "      <script>\n",
              "        const buttonEl =\n",
              "          document.querySelector('#df-58ac3f7d-aac2-4f93-acd0-5469f9738462 button.colab-df-convert');\n",
              "        buttonEl.style.display =\n",
              "          google.colab.kernel.accessAllowed ? 'block' : 'none';\n",
              "\n",
              "        async function convertToInteractive(key) {\n",
              "          const element = document.querySelector('#df-58ac3f7d-aac2-4f93-acd0-5469f9738462');\n",
              "          const dataTable =\n",
              "            await google.colab.kernel.invokeFunction('convertToInteractive',\n",
              "                                                     [key], {});\n",
              "          if (!dataTable) return;\n",
              "\n",
              "          const docLinkHtml = 'Like what you see? Visit the ' +\n",
              "            '<a target=\"_blank\" href=https://colab.research.google.com/notebooks/data_table.ipynb>data table notebook</a>'\n",
              "            + ' to learn more about interactive tables.';\n",
              "          element.innerHTML = '';\n",
              "          dataTable['output_type'] = 'display_data';\n",
              "          await google.colab.output.renderOutput(dataTable, element);\n",
              "          const docLink = document.createElement('div');\n",
              "          docLink.innerHTML = docLinkHtml;\n",
              "          element.appendChild(docLink);\n",
              "        }\n",
              "      </script>\n",
              "    </div>\n",
              "  </div>\n",
              "  "
            ],
            "text/plain": [
              "             loss\n",
              "918  497154.00000\n",
              "919  497142.50000\n",
              "920  500566.28125\n",
              "921  496939.93750\n",
              "922  498039.28125"
            ]
          },
          "metadata": {},
          "execution_count": 18
        }
      ],
      "source": [
        "history_df = pd.DataFrame(history.history)\n",
        "history_df.tail()"
      ]
    },
    {
      "cell_type": "markdown",
      "metadata": {
        "id": "Z_K0EUvyWzbL"
      },
      "source": [
        "A cursory glance looks like our values are closer together"
      ]
    },
    {
      "cell_type": "code",
      "execution_count": 19,
      "metadata": {
        "id": "r9uvAPUJWohB"
      },
      "outputs": [],
      "source": [
        "results = melt_results(model, X, y)"
      ]
    },
    {
      "cell_type": "code",
      "execution_count": 20,
      "metadata": {
        "colab": {
          "base_uri": "https://localhost:8080/",
          "height": 542
        },
        "id": "jwtkIXVXZXB2",
        "outputId": "df5a4ade-b0a3-4d22-e1c2-36338a1ed443"
      },
      "outputs": [
        {
          "output_type": "display_data",
          "data": {
            "text/html": [
              "<html>\n",
              "<head><meta charset=\"utf-8\" /></head>\n",
              "<body>\n",
              "    <div>            <script src=\"https://cdnjs.cloudflare.com/ajax/libs/mathjax/2.7.5/MathJax.js?config=TeX-AMS-MML_SVG\"></script><script type=\"text/javascript\">if (window.MathJax) {MathJax.Hub.Config({SVG: {font: \"STIX-Web\"}});}</script>                <script type=\"text/javascript\">window.PlotlyConfig = {MathJaxConfig: 'local'};</script>\n",
              "        <script src=\"https://cdn.plot.ly/plotly-latest.min.js\"></script>                <div id=\"92835750-3113-41db-bd8b-8c86c9c699fa\" class=\"plotly-graph-div\" style=\"height:525px; width:100%;\"></div>            <script type=\"text/javascript\">                                    window.PLOTLYENV=window.PLOTLYENV || {};                                    if (document.getElementById(\"92835750-3113-41db-bd8b-8c86c9c699fa\")) {                    Plotly.newPlot(                        \"92835750-3113-41db-bd8b-8c86c9c699fa\",                        [{\"hovertemplate\": \"Source=real<br>Date=%{x}<br>KG=%{y}<extra></extra>\", \"legendgroup\": \"real\", \"line\": {\"color\": \"#636efa\", \"dash\": \"solid\"}, \"mode\": \"lines\", \"name\": \"real\", \"orientation\": \"v\", \"showlegend\": true, \"type\": \"scatter\", \"x\": [\"4/2010\", \"5/2010\", \"6/2010\", \"7/2010\", \"8/2010\", \"9/2010\", \"10/2010\", \"11/2010\", \"12/2010\", \"1/2011\", \"2/2011\", \"3/2011\", \"4/2011\", \"5/2011\", \"6/2011\", \"7/2011\", \"8/2011\", \"9/2011\", \"10/2011\", \"11/2011\", \"12/2011\", \"1/2012\", \"2/2012\", \"3/2012\", \"4/2012\", \"5/2012\", \"6/2012\", \"7/2012\", \"8/2012\", \"9/2012\", \"10/2012\", \"11/2012\", \"12/2012\", \"1/2013\", \"2/2013\", \"3/2013\", \"4/2013\", \"5/2013\", \"6/2013\", \"7/2013\", \"8/2013\", \"9/2013\", \"10/2013\", \"11/2013\", \"12/2013\", \"1/2014\", \"2/2014\", \"3/2014\", \"4/2014\", \"5/2014\", \"6/2014\", \"7/2014\", \"8/2014\", \"9/2014\", \"10/2014\", \"11/2014\", \"12/2014\", \"1/2015\", \"2/2015\", \"3/2015\", \"4/2015\", \"5/2015\", \"6/2015\", \"7/2015\", \"8/2015\", \"9/2015\", \"10/2015\", \"11/2015\", \"12/2015\", \"1/2016\", \"2/2016\", \"3/2016\", \"4/2016\", \"5/2016\", \"6/2016\", \"7/2016\", \"8/2016\", \"9/2016\", \"10/2016\", \"11/2016\", \"12/2016\", \"1/2017\", \"2/2017\", \"3/2017\", \"4/2017\", \"5/2017\", \"6/2017\", \"7/2017\", \"8/2017\", \"9/2017\", \"10/2017\", \"11/2017\", \"12/2017\", \"1/2018\", \"2/2018\", \"3/2018\", \"4/2018\", \"5/2018\", \"6/2018\", \"7/2018\", \"8/2018\", \"9/2018\", \"10/2018\", \"11/2018\", \"12/2018\", \"1/2019\", \"2/2019\", \"3/2019\", \"4/2019\", \"5/2019\", \"6/2019\", \"7/2019\", \"8/2019\", \"9/2019\", \"10/2019\", \"11/2019\", \"12/2019\", \"1/2020\", \"2/2020\", \"3/2020\", \"4/2020\", \"5/2020\", \"6/2020\", \"7/2020\", \"8/2020\", \"9/2020\", \"10/2020\", \"11/2020\", \"12/2020\"], \"xaxis\": \"x\", \"y\": [11884.3708810225, 13950.332334409886, 12781.156535682429, 14256.210023357236, 12887.711959877464, 15038.574005789536, 12626.48930557771, 14611.291109090684, 13194.81429999148, 14921.016215576235, 13477.391456909943, 15409.211079596587, 13999.215068692509, 15597.436975845374, 14098.12497823274, 15596.818092478728, 14941.69403166363, 15715.347212025836, 14181.212141927936, 16282.0980055455, 14650.929410064906, 16433.209008286325, 15400.579033515967, 16756.981262857273, 15128.148250492244, 17523.979943307248, 15413.044691473402, 16366.26437701746, 14568.470958551738, 16901.11154186154, 14659.021365286097, 16494.903960781197, 15398.721298130027, 17938.090871773184, 15850.35787113158, 18236.778754419985, 15956.750789202086, 17401.696472111977, 15890.10321935092, 17283.79073343649, 16302.509223010222, 17229.64501478726, 16223.309276278227, 17796.223621100053, 16344.001270241426, 17782.006164552513, 16326.588260101846, 18253.569321985724, 16818.12312918114, 18554.33980878632, 16900.704327264033, 18479.00603218699, 17042.963875823145, 18287.35559715585, 17244.887842050513, 18822.494484753846, 17603.725932131478, 18766.104076650663, 17170.12649068024, 19632.147600450644, 16856.921979192426, 18854.690380403008, 17880.884218985302, 19087.480847049384, 18196.112254637803, 19770.963054596545, 16488.739325030063, 19699.01989730995, 17194.707087425755, 19372.65790157132, 17715.24432224015, 19227.53144133251, 17691.136252909622, 20114.53450629712, 17926.252604903035, 19880.02532889845, 16690.02893115867, 19928.02694695529, 18553.766165315024, 20547.154033981024, 17301.11715078875, 19538.97650435099, 17902.44835514176, 21269.577926886348, 18842.69654955895, 20095.445399491346, 17670.300576591326, 20310.884287446843, 18754.84178182952, 20736.279238797026, 18617.387584546323, 20783.71123390676, 17470.755864944782, 20523.579839792717, 18796.936905805047, 20028.582492587037, 18677.535295190337, 20048.1074217522, 18929.24861718753, 20571.15590247796, 18207.204656231734, 20839.04289237627, 18966.53298378622, 20909.977545252816, 18589.807151786372, 21287.370122673103, 17987.976866769444, 21111.062684974822, 18538.311320658097, 21797.26713239234, 18935.35277235507, 21331.37841983855, 18783.75961074272, 22139.12337340894, 18553.79727063604, 21579.50628438568, 19726.43311123112, 21147.624131226225, 19232.360491469408, 21575.52105110441, 18856.1781102771, 20701.25067582265, 19406.448559709923, 22328.687162949856, 19384.824041986754, 21449.154889830097, 19554.40558950196, 21873.104938389297, 19572.860127015803], \"yaxis\": \"y\"}, {\"hovertemplate\": \"Source=predicted<br>Date=%{x}<br>KG=%{y}<extra></extra>\", \"legendgroup\": \"predicted\", \"line\": {\"color\": \"#EF553B\", \"dash\": \"solid\"}, \"mode\": \"lines\", \"name\": \"predicted\", \"orientation\": \"v\", \"showlegend\": true, \"type\": \"scatter\", \"x\": [\"4/2010\", \"5/2010\", \"6/2010\", \"7/2010\", \"8/2010\", \"9/2010\", \"10/2010\", \"11/2010\", \"12/2010\", \"1/2011\", \"2/2011\", \"3/2011\", \"4/2011\", \"5/2011\", \"6/2011\", \"7/2011\", \"8/2011\", \"9/2011\", \"10/2011\", \"11/2011\", \"12/2011\", \"1/2012\", \"2/2012\", \"3/2012\", \"4/2012\", \"5/2012\", \"6/2012\", \"7/2012\", \"8/2012\", \"9/2012\", \"10/2012\", \"11/2012\", \"12/2012\", \"1/2013\", \"2/2013\", \"3/2013\", \"4/2013\", \"5/2013\", \"6/2013\", \"7/2013\", \"8/2013\", \"9/2013\", \"10/2013\", \"11/2013\", \"12/2013\", \"1/2014\", \"2/2014\", \"3/2014\", \"4/2014\", \"5/2014\", \"6/2014\", \"7/2014\", \"8/2014\", \"9/2014\", \"10/2014\", \"11/2014\", \"12/2014\", \"1/2015\", \"2/2015\", \"3/2015\", \"4/2015\", \"5/2015\", \"6/2015\", \"7/2015\", \"8/2015\", \"9/2015\", \"10/2015\", \"11/2015\", \"12/2015\", \"1/2016\", \"2/2016\", \"3/2016\", \"4/2016\", \"5/2016\", \"6/2016\", \"7/2016\", \"8/2016\", \"9/2016\", \"10/2016\", \"11/2016\", \"12/2016\", \"1/2017\", \"2/2017\", \"3/2017\", \"4/2017\", \"5/2017\", \"6/2017\", \"7/2017\", \"8/2017\", \"9/2017\", \"10/2017\", \"11/2017\", \"12/2017\", \"1/2018\", \"2/2018\", \"3/2018\", \"4/2018\", \"5/2018\", \"6/2018\", \"7/2018\", \"8/2018\", \"9/2018\", \"10/2018\", \"11/2018\", \"12/2018\", \"1/2019\", \"2/2019\", \"3/2019\", \"4/2019\", \"5/2019\", \"6/2019\", \"7/2019\", \"8/2019\", \"9/2019\", \"10/2019\", \"11/2019\", \"12/2019\", \"1/2020\", \"2/2020\", \"3/2020\", \"4/2020\", \"5/2020\", \"6/2020\", \"7/2020\", \"8/2020\", \"9/2020\", \"10/2020\", \"11/2020\", \"12/2020\"], \"xaxis\": \"x\", \"y\": [11417.0390625, 13399.7001953125, 12070.298828125, 13527.8876953125, 12921.6796875, 14183.3564453125, 12882.6015625, 15027.267578125, 13165.5244140625, 14320.509765625, 13365.560546875, 14763.515625, 13590.455078125, 15148.1484375, 14219.65234375, 15525.64453125, 14396.5029296875, 15272.060546875, 15110.501953125, 16042.2578125, 14282.998046875, 16028.443359375, 14915.3515625, 16117.4736328125, 15543.232421875, 16854.677734375, 15178.171875, 17314.00390625, 16202.6689453125, 16708.724609375, 14714.763671875, 16761.517578125, 15189.951171875, 16177.23046875, 15151.41015625, 17656.58984375, 16124.712890625, 18097.671875, 16655.900390625, 17422.30078125, 16247.779296875, 17139.15234375, 16581.654296875, 17311.396484375, 16284.359375, 17739.5625, 16662.345703125, 17789.38671875, 16472.810546875, 18029.68359375, 17027.158203125, 18499.7265625, 17268.458984375, 18420.302734375, 17428.791015625, 18243.314453125, 17330.453125, 18690.16796875, 17922.228515625, 18961.087890625, 17199.904296875, 19646.08203125, 17599.5390625, 18439.439453125, 18071.767578125, 19014.78125, 18220.7109375, 20380.53515625, 17034.77734375, 19267.8359375, 17749.89453125, 19120.43359375, 18115.595703125, 19242.083984375, 17711.517578125, 19942.697265625, 18419.958984375, 20280.826171875, 17184.970703125, 19085.109375, 18658.78125, 20955.396484375, 18182.591796875, 19252.865234375, 17636.765625, 20751.935546875, 19704.90625, 20554.439453125, 18028.71484375, 19815.076171875, 18950.865234375, 20751.98828125, 19009.564453125, 21137.0390625, 18095.947265625, 19897.607421875, 19339.03125, 20115.806640625, 18993.765625, 19988.232421875, 19043.029296875, 20830.939453125, 18545.017578125, 20464.390625, 19325.828125, 21016.421875, 18887.330078125, 21392.25390625, 18586.611328125, 20757.75, 18754.23828125, 21489.291015625, 19596.115234375, 21310.873046875, 18955.978515625, 22045.83203125, 19325.728515625, 21020.662109375, 20268.826171875, 21356.615234375, 19472.259765625, 21642.857421875, 19645.044921875, 20488.0234375, 19152.603515625, 22211.951171875, 20205.6328125, 21353.107421875, 19796.326171875], \"yaxis\": \"y\"}],                        {\"legend\": {\"title\": {\"text\": \"Source\"}, \"tracegroupgap\": 0}, \"margin\": {\"t\": 60}, \"template\": {\"data\": {\"bar\": [{\"error_x\": {\"color\": \"#2a3f5f\"}, \"error_y\": {\"color\": \"#2a3f5f\"}, \"marker\": {\"line\": {\"color\": \"#E5ECF6\", \"width\": 0.5}}, \"type\": \"bar\"}], \"barpolar\": [{\"marker\": {\"line\": {\"color\": \"#E5ECF6\", \"width\": 0.5}}, \"type\": \"barpolar\"}], \"carpet\": [{\"aaxis\": {\"endlinecolor\": \"#2a3f5f\", \"gridcolor\": \"white\", \"linecolor\": \"white\", \"minorgridcolor\": \"white\", \"startlinecolor\": \"#2a3f5f\"}, \"baxis\": {\"endlinecolor\": \"#2a3f5f\", \"gridcolor\": \"white\", \"linecolor\": \"white\", \"minorgridcolor\": \"white\", \"startlinecolor\": \"#2a3f5f\"}, \"type\": \"carpet\"}], \"choropleth\": [{\"colorbar\": {\"outlinewidth\": 0, \"ticks\": \"\"}, \"type\": \"choropleth\"}], \"contour\": [{\"colorbar\": {\"outlinewidth\": 0, \"ticks\": \"\"}, \"colorscale\": [[0.0, \"#0d0887\"], [0.1111111111111111, \"#46039f\"], [0.2222222222222222, \"#7201a8\"], [0.3333333333333333, \"#9c179e\"], [0.4444444444444444, \"#bd3786\"], [0.5555555555555556, \"#d8576b\"], [0.6666666666666666, \"#ed7953\"], [0.7777777777777778, \"#fb9f3a\"], [0.8888888888888888, \"#fdca26\"], [1.0, \"#f0f921\"]], \"type\": \"contour\"}], \"contourcarpet\": [{\"colorbar\": {\"outlinewidth\": 0, \"ticks\": \"\"}, \"type\": \"contourcarpet\"}], \"heatmap\": [{\"colorbar\": {\"outlinewidth\": 0, \"ticks\": \"\"}, \"colorscale\": [[0.0, \"#0d0887\"], [0.1111111111111111, \"#46039f\"], [0.2222222222222222, \"#7201a8\"], [0.3333333333333333, \"#9c179e\"], [0.4444444444444444, \"#bd3786\"], [0.5555555555555556, \"#d8576b\"], [0.6666666666666666, \"#ed7953\"], [0.7777777777777778, \"#fb9f3a\"], [0.8888888888888888, \"#fdca26\"], [1.0, \"#f0f921\"]], \"type\": \"heatmap\"}], \"heatmapgl\": [{\"colorbar\": {\"outlinewidth\": 0, \"ticks\": \"\"}, \"colorscale\": [[0.0, \"#0d0887\"], [0.1111111111111111, \"#46039f\"], [0.2222222222222222, \"#7201a8\"], [0.3333333333333333, \"#9c179e\"], [0.4444444444444444, \"#bd3786\"], [0.5555555555555556, \"#d8576b\"], [0.6666666666666666, \"#ed7953\"], [0.7777777777777778, \"#fb9f3a\"], [0.8888888888888888, \"#fdca26\"], [1.0, \"#f0f921\"]], \"type\": \"heatmapgl\"}], \"histogram\": [{\"marker\": {\"colorbar\": {\"outlinewidth\": 0, \"ticks\": \"\"}}, \"type\": \"histogram\"}], \"histogram2d\": [{\"colorbar\": {\"outlinewidth\": 0, \"ticks\": \"\"}, \"colorscale\": [[0.0, \"#0d0887\"], [0.1111111111111111, \"#46039f\"], [0.2222222222222222, \"#7201a8\"], [0.3333333333333333, \"#9c179e\"], [0.4444444444444444, \"#bd3786\"], [0.5555555555555556, \"#d8576b\"], [0.6666666666666666, \"#ed7953\"], [0.7777777777777778, \"#fb9f3a\"], [0.8888888888888888, \"#fdca26\"], [1.0, \"#f0f921\"]], \"type\": \"histogram2d\"}], \"histogram2dcontour\": [{\"colorbar\": {\"outlinewidth\": 0, \"ticks\": \"\"}, \"colorscale\": [[0.0, \"#0d0887\"], [0.1111111111111111, \"#46039f\"], [0.2222222222222222, \"#7201a8\"], [0.3333333333333333, \"#9c179e\"], [0.4444444444444444, \"#bd3786\"], [0.5555555555555556, \"#d8576b\"], [0.6666666666666666, \"#ed7953\"], [0.7777777777777778, \"#fb9f3a\"], [0.8888888888888888, \"#fdca26\"], [1.0, \"#f0f921\"]], \"type\": \"histogram2dcontour\"}], \"mesh3d\": [{\"colorbar\": {\"outlinewidth\": 0, \"ticks\": \"\"}, \"type\": \"mesh3d\"}], \"parcoords\": [{\"line\": {\"colorbar\": {\"outlinewidth\": 0, \"ticks\": \"\"}}, \"type\": \"parcoords\"}], \"pie\": [{\"automargin\": true, \"type\": \"pie\"}], \"scatter\": [{\"marker\": {\"colorbar\": {\"outlinewidth\": 0, \"ticks\": \"\"}}, \"type\": \"scatter\"}], \"scatter3d\": [{\"line\": {\"colorbar\": {\"outlinewidth\": 0, \"ticks\": \"\"}}, \"marker\": {\"colorbar\": {\"outlinewidth\": 0, \"ticks\": \"\"}}, \"type\": \"scatter3d\"}], \"scattercarpet\": [{\"marker\": {\"colorbar\": {\"outlinewidth\": 0, \"ticks\": \"\"}}, \"type\": \"scattercarpet\"}], \"scattergeo\": [{\"marker\": {\"colorbar\": {\"outlinewidth\": 0, \"ticks\": \"\"}}, \"type\": \"scattergeo\"}], \"scattergl\": [{\"marker\": {\"colorbar\": {\"outlinewidth\": 0, \"ticks\": \"\"}}, \"type\": \"scattergl\"}], \"scattermapbox\": [{\"marker\": {\"colorbar\": {\"outlinewidth\": 0, \"ticks\": \"\"}}, \"type\": \"scattermapbox\"}], \"scatterpolar\": [{\"marker\": {\"colorbar\": {\"outlinewidth\": 0, \"ticks\": \"\"}}, \"type\": \"scatterpolar\"}], \"scatterpolargl\": [{\"marker\": {\"colorbar\": {\"outlinewidth\": 0, \"ticks\": \"\"}}, \"type\": \"scatterpolargl\"}], \"scatterternary\": [{\"marker\": {\"colorbar\": {\"outlinewidth\": 0, \"ticks\": \"\"}}, \"type\": \"scatterternary\"}], \"surface\": [{\"colorbar\": {\"outlinewidth\": 0, \"ticks\": \"\"}, \"colorscale\": [[0.0, \"#0d0887\"], [0.1111111111111111, \"#46039f\"], [0.2222222222222222, \"#7201a8\"], [0.3333333333333333, \"#9c179e\"], [0.4444444444444444, \"#bd3786\"], [0.5555555555555556, \"#d8576b\"], [0.6666666666666666, \"#ed7953\"], [0.7777777777777778, \"#fb9f3a\"], [0.8888888888888888, \"#fdca26\"], [1.0, \"#f0f921\"]], \"type\": \"surface\"}], \"table\": [{\"cells\": {\"fill\": {\"color\": \"#EBF0F8\"}, \"line\": {\"color\": \"white\"}}, \"header\": {\"fill\": {\"color\": \"#C8D4E3\"}, \"line\": {\"color\": \"white\"}}, \"type\": \"table\"}]}, \"layout\": {\"annotationdefaults\": {\"arrowcolor\": \"#2a3f5f\", \"arrowhead\": 0, \"arrowwidth\": 1}, \"autotypenumbers\": \"strict\", \"coloraxis\": {\"colorbar\": {\"outlinewidth\": 0, \"ticks\": \"\"}}, \"colorscale\": {\"diverging\": [[0, \"#8e0152\"], [0.1, \"#c51b7d\"], [0.2, \"#de77ae\"], [0.3, \"#f1b6da\"], [0.4, \"#fde0ef\"], [0.5, \"#f7f7f7\"], [0.6, \"#e6f5d0\"], [0.7, \"#b8e186\"], [0.8, \"#7fbc41\"], [0.9, \"#4d9221\"], [1, \"#276419\"]], \"sequential\": [[0.0, \"#0d0887\"], [0.1111111111111111, \"#46039f\"], [0.2222222222222222, \"#7201a8\"], [0.3333333333333333, \"#9c179e\"], [0.4444444444444444, \"#bd3786\"], [0.5555555555555556, \"#d8576b\"], [0.6666666666666666, \"#ed7953\"], [0.7777777777777778, \"#fb9f3a\"], [0.8888888888888888, \"#fdca26\"], [1.0, \"#f0f921\"]], \"sequentialminus\": [[0.0, \"#0d0887\"], [0.1111111111111111, \"#46039f\"], [0.2222222222222222, \"#7201a8\"], [0.3333333333333333, \"#9c179e\"], [0.4444444444444444, \"#bd3786\"], [0.5555555555555556, \"#d8576b\"], [0.6666666666666666, \"#ed7953\"], [0.7777777777777778, \"#fb9f3a\"], [0.8888888888888888, \"#fdca26\"], [1.0, \"#f0f921\"]]}, \"colorway\": [\"#636efa\", \"#EF553B\", \"#00cc96\", \"#ab63fa\", \"#FFA15A\", \"#19d3f3\", \"#FF6692\", \"#B6E880\", \"#FF97FF\", \"#FECB52\"], \"font\": {\"color\": \"#2a3f5f\"}, \"geo\": {\"bgcolor\": \"white\", \"lakecolor\": \"white\", \"landcolor\": \"#E5ECF6\", \"showlakes\": true, \"showland\": true, \"subunitcolor\": \"white\"}, \"hoverlabel\": {\"align\": \"left\"}, \"hovermode\": \"closest\", \"mapbox\": {\"style\": \"light\"}, \"paper_bgcolor\": \"white\", \"plot_bgcolor\": \"#E5ECF6\", \"polar\": {\"angularaxis\": {\"gridcolor\": \"white\", \"linecolor\": \"white\", \"ticks\": \"\"}, \"bgcolor\": \"#E5ECF6\", \"radialaxis\": {\"gridcolor\": \"white\", \"linecolor\": \"white\", \"ticks\": \"\"}}, \"scene\": {\"xaxis\": {\"backgroundcolor\": \"#E5ECF6\", \"gridcolor\": \"white\", \"gridwidth\": 2, \"linecolor\": \"white\", \"showbackground\": true, \"ticks\": \"\", \"zerolinecolor\": \"white\"}, \"yaxis\": {\"backgroundcolor\": \"#E5ECF6\", \"gridcolor\": \"white\", \"gridwidth\": 2, \"linecolor\": \"white\", \"showbackground\": true, \"ticks\": \"\", \"zerolinecolor\": \"white\"}, \"zaxis\": {\"backgroundcolor\": \"#E5ECF6\", \"gridcolor\": \"white\", \"gridwidth\": 2, \"linecolor\": \"white\", \"showbackground\": true, \"ticks\": \"\", \"zerolinecolor\": \"white\"}}, \"shapedefaults\": {\"line\": {\"color\": \"#2a3f5f\"}}, \"ternary\": {\"aaxis\": {\"gridcolor\": \"white\", \"linecolor\": \"white\", \"ticks\": \"\"}, \"baxis\": {\"gridcolor\": \"white\", \"linecolor\": \"white\", \"ticks\": \"\"}, \"bgcolor\": \"#E5ECF6\", \"caxis\": {\"gridcolor\": \"white\", \"linecolor\": \"white\", \"ticks\": \"\"}}, \"title\": {\"x\": 0.05}, \"xaxis\": {\"automargin\": true, \"gridcolor\": \"white\", \"linecolor\": \"white\", \"ticks\": \"\", \"title\": {\"standoff\": 15}, \"zerolinecolor\": \"white\", \"zerolinewidth\": 2}, \"yaxis\": {\"automargin\": true, \"gridcolor\": \"white\", \"linecolor\": \"white\", \"ticks\": \"\", \"title\": {\"standoff\": 15}, \"zerolinecolor\": \"white\", \"zerolinewidth\": 2}}}, \"xaxis\": {\"anchor\": \"y\", \"domain\": [0.0, 1.0], \"title\": {\"text\": \"Date\"}}, \"yaxis\": {\"anchor\": \"x\", \"domain\": [0.0, 1.0], \"title\": {\"text\": \"KG\"}}},                        {\"responsive\": true}                    ).then(function(){\n",
              "                            \n",
              "var gd = document.getElementById('92835750-3113-41db-bd8b-8c86c9c699fa');\n",
              "var x = new MutationObserver(function (mutations, observer) {{\n",
              "        var display = window.getComputedStyle(gd).display;\n",
              "        if (!display || display === 'none') {{\n",
              "            console.log([gd, 'removed!']);\n",
              "            Plotly.purge(gd);\n",
              "            observer.disconnect();\n",
              "        }}\n",
              "}});\n",
              "\n",
              "// Listen for the removal of the full notebook cells\n",
              "var notebookContainer = gd.closest('#notebook-container');\n",
              "if (notebookContainer) {{\n",
              "    x.observe(notebookContainer, {childList: true});\n",
              "}}\n",
              "\n",
              "// Listen for the clearing of the current output cell\n",
              "var outputEl = gd.closest('.output');\n",
              "if (outputEl) {{\n",
              "    x.observe(outputEl, {childList: true});\n",
              "}}\n",
              "\n",
              "                        })                };                            </script>        </div>\n",
              "</body>\n",
              "</html>"
            ]
          },
          "metadata": {}
        }
      ],
      "source": [
        "px.line(results, x='Date', y='KG', color='Source')"
      ]
    },
    {
      "cell_type": "markdown",
      "metadata": {
        "id": "S1LrcsH-qgqQ"
      },
      "source": [
        "<a name='x.4.2.1'></a>\n",
        "\n",
        "#### 🏋️ Exercise-Discussion 1: Varify that the model is linear\n",
        "\n",
        "[back to top](#top)\n",
        "\n",
        "We're having to change our way of thinking here with time series analysis. Recall that a model without an activation function can only encapsulate linear relationships. How come we can see non-linear relationships in our time series plot above? make a plot that showcases we are indeed still within a linear world.\n",
        "\n",
        "This is an open ended question and I myself don't have the _best_ answer. Think about how you would attempt to show linearity of the model. (On Monday our model was only in 2D, and it was a binary classification task, so it was easier to view the decision boundaries and verify linearity)."
      ]
    },
    {
      "cell_type": "code",
      "execution_count": 21,
      "metadata": {
        "id": "YpjWpOTaqd-T"
      },
      "outputs": [],
      "source": [
        "# Code cell for Exercise 1"
      ]
    },
    {
      "cell_type": "markdown",
      "metadata": {
        "id": "DJoOpFMMa5YK"
      },
      "source": [
        "<a name='x.4.2.2'></a>\n",
        "\n",
        "#### 🏋️ Exercise 2: Vary model architecture and window size\n",
        "\n",
        "[back to top](#top)\n",
        "\n",
        "Create these three different models. Train on the whole dataset with a window size of 3. record the training loss for the last 5 epochs of each model\n",
        "\n",
        "```\n",
        "models = [\n",
        "          keras.Sequential([\n",
        "    layers.Dense(8, input_shape=[window_size]),\n",
        "    layers.Dense(1)\n",
        "]),\n",
        "keras.Sequential([\n",
        "    layers.Dense(8, activation='relu', input_shape=[window_size]),\n",
        "    layers.Dense(1)\n",
        "]),\n",
        "keras.Sequential([\n",
        "    layers.Dense(4, activation='relu', input_shape=[window_size]),\n",
        "    layers.Dense(1)\n",
        "])]\n",
        "```\n",
        "\n",
        "You can create the training sets with:\n",
        "\n",
        "```\n",
        "window_size = 3\n",
        "X, y, labels = process_data(orders.loc[[0], time_cols].values, window=window_size, time_cols=132)\n",
        "```\n",
        "\n",
        "Use a batch size of 10 when training.\n",
        "\n",
        "When you are finished training a model use `melt_results` and plotly to make a graph of your predictions vs actuals\n",
        "\n",
        "```\n",
        "df = melt_results(model, X, y)\n",
        "px.line(df, x='Date', y='KG', color='Source')\n",
        "```\n",
        "\n",
        "You can use the same early_stopping and fit formula from 6.4.2"
      ]
    },
    {
      "cell_type": "code",
      "execution_count": 22,
      "metadata": {
        "id": "K_9HhTgJw2Uj"
      },
      "outputs": [],
      "source": [
        "# Code cell for exercise 2"
      ]
    },
    {
      "cell_type": "code",
      "execution_count": 23,
      "metadata": {
        "id": "FMMddEPt2DOS"
      },
      "outputs": [],
      "source": [
        "# px.line(df, x='Date', y='KG', color='Source')"
      ]
    },
    {
      "cell_type": "markdown",
      "metadata": {
        "id": "zwgi8MPtiL9v"
      },
      "source": [
        "<a name='x.4.3'></a>\n",
        "\n",
        "### 5.4.3 LSTM NN\n",
        "\n",
        "[back to top](#top)\n",
        "\n",
        "Our data preparation for the LSTM NN includes time steps. The parameter `input_dim` tells our `LSTM` block how man time steps we have in the input data. This is a reframing (and a more appropriate reframing) of the same problem. The LSTM model is viewing the input feature w/ multiple time steps as a single feature at different times, rather than separate features. We could, for instance, have a second dimension that includes non-time related information, such as the customer name or truffle types (or other featurse that also vary through time, multiple feed rates or T/P, etc)."
      ]
    },
    {
      "cell_type": "code",
      "execution_count": 24,
      "metadata": {
        "id": "mx3EaOVbiQG9",
        "colab": {
          "base_uri": "https://localhost:8080/"
        },
        "outputId": "422afa41-8c6d-47a3-b4db-2b57b1f96627"
      },
      "outputs": [
        {
          "output_type": "stream",
          "name": "stdout",
          "text": [
            "WARNING:tensorflow:Layer lstm will not use cuDNN kernels since it doesn't meet the criteria. It will use a generic GPU kernel as fallback when running on GPU.\n"
          ]
        }
      ],
      "source": [
        "window_size = 6\n",
        "batch_size = 10\n",
        "\n",
        "X, y, labels = process_data(orders.loc[[0], time_cols].values, window=window_size, time_cols=132)\n",
        "\n",
        "X = X.reshape(-1, 1, window_size)\n",
        "y = y.reshape(-1, 1, 1)\n",
        "\n",
        "model = keras.Sequential([\n",
        "    layers.LSTM(8, activation='relu', input_dim=window_size),\n",
        "    layers.Dense(8),\n",
        "    layers.Dense(1)\n",
        "])\n",
        "\n",
        "model.compile(loss='mean_squared_error', optimizer='adam')"
      ]
    },
    {
      "cell_type": "code",
      "execution_count": 25,
      "metadata": {
        "id": "8ZDjSaKrjuko"
      },
      "outputs": [],
      "source": [
        "history = model.fit(\n",
        "    X, y,\n",
        "    batch_size=batch_size,\n",
        "    epochs=1000,\n",
        "    callbacks=[early_stopping],\n",
        "    verbose=0, # hide the output because we have so many epochs\n",
        ")"
      ]
    },
    {
      "cell_type": "code",
      "execution_count": 26,
      "metadata": {
        "colab": {
          "base_uri": "https://localhost:8080/",
          "height": 206
        },
        "id": "ibLkZmnslG7o",
        "outputId": "c80c266c-ad11-46a0-a9ab-aecd7a9e704a"
      },
      "outputs": [
        {
          "output_type": "execute_result",
          "data": {
            "text/html": [
              "\n",
              "  <div id=\"df-a28d7b70-2cd4-422c-8690-d5d905fe61b5\">\n",
              "    <div class=\"colab-df-container\">\n",
              "      <div>\n",
              "<style scoped>\n",
              "    .dataframe tbody tr th:only-of-type {\n",
              "        vertical-align: middle;\n",
              "    }\n",
              "\n",
              "    .dataframe tbody tr th {\n",
              "        vertical-align: top;\n",
              "    }\n",
              "\n",
              "    .dataframe thead th {\n",
              "        text-align: right;\n",
              "    }\n",
              "</style>\n",
              "<table border=\"1\" class=\"dataframe\">\n",
              "  <thead>\n",
              "    <tr style=\"text-align: right;\">\n",
              "      <th></th>\n",
              "      <th>loss</th>\n",
              "    </tr>\n",
              "  </thead>\n",
              "  <tbody>\n",
              "    <tr>\n",
              "      <th>995</th>\n",
              "      <td>261473984.0</td>\n",
              "    </tr>\n",
              "    <tr>\n",
              "      <th>996</th>\n",
              "      <td>261362848.0</td>\n",
              "    </tr>\n",
              "    <tr>\n",
              "      <th>997</th>\n",
              "      <td>261252816.0</td>\n",
              "    </tr>\n",
              "    <tr>\n",
              "      <th>998</th>\n",
              "      <td>261142672.0</td>\n",
              "    </tr>\n",
              "    <tr>\n",
              "      <th>999</th>\n",
              "      <td>261031200.0</td>\n",
              "    </tr>\n",
              "  </tbody>\n",
              "</table>\n",
              "</div>\n",
              "      <button class=\"colab-df-convert\" onclick=\"convertToInteractive('df-a28d7b70-2cd4-422c-8690-d5d905fe61b5')\"\n",
              "              title=\"Convert this dataframe to an interactive table.\"\n",
              "              style=\"display:none;\">\n",
              "        \n",
              "  <svg xmlns=\"http://www.w3.org/2000/svg\" height=\"24px\"viewBox=\"0 0 24 24\"\n",
              "       width=\"24px\">\n",
              "    <path d=\"M0 0h24v24H0V0z\" fill=\"none\"/>\n",
              "    <path d=\"M18.56 5.44l.94 2.06.94-2.06 2.06-.94-2.06-.94-.94-2.06-.94 2.06-2.06.94zm-11 1L8.5 8.5l.94-2.06 2.06-.94-2.06-.94L8.5 2.5l-.94 2.06-2.06.94zm10 10l.94 2.06.94-2.06 2.06-.94-2.06-.94-.94-2.06-.94 2.06-2.06.94z\"/><path d=\"M17.41 7.96l-1.37-1.37c-.4-.4-.92-.59-1.43-.59-.52 0-1.04.2-1.43.59L10.3 9.45l-7.72 7.72c-.78.78-.78 2.05 0 2.83L4 21.41c.39.39.9.59 1.41.59.51 0 1.02-.2 1.41-.59l7.78-7.78 2.81-2.81c.8-.78.8-2.07 0-2.86zM5.41 20L4 18.59l7.72-7.72 1.47 1.35L5.41 20z\"/>\n",
              "  </svg>\n",
              "      </button>\n",
              "      \n",
              "  <style>\n",
              "    .colab-df-container {\n",
              "      display:flex;\n",
              "      flex-wrap:wrap;\n",
              "      gap: 12px;\n",
              "    }\n",
              "\n",
              "    .colab-df-convert {\n",
              "      background-color: #E8F0FE;\n",
              "      border: none;\n",
              "      border-radius: 50%;\n",
              "      cursor: pointer;\n",
              "      display: none;\n",
              "      fill: #1967D2;\n",
              "      height: 32px;\n",
              "      padding: 0 0 0 0;\n",
              "      width: 32px;\n",
              "    }\n",
              "\n",
              "    .colab-df-convert:hover {\n",
              "      background-color: #E2EBFA;\n",
              "      box-shadow: 0px 1px 2px rgba(60, 64, 67, 0.3), 0px 1px 3px 1px rgba(60, 64, 67, 0.15);\n",
              "      fill: #174EA6;\n",
              "    }\n",
              "\n",
              "    [theme=dark] .colab-df-convert {\n",
              "      background-color: #3B4455;\n",
              "      fill: #D2E3FC;\n",
              "    }\n",
              "\n",
              "    [theme=dark] .colab-df-convert:hover {\n",
              "      background-color: #434B5C;\n",
              "      box-shadow: 0px 1px 3px 1px rgba(0, 0, 0, 0.15);\n",
              "      filter: drop-shadow(0px 1px 2px rgba(0, 0, 0, 0.3));\n",
              "      fill: #FFFFFF;\n",
              "    }\n",
              "  </style>\n",
              "\n",
              "      <script>\n",
              "        const buttonEl =\n",
              "          document.querySelector('#df-a28d7b70-2cd4-422c-8690-d5d905fe61b5 button.colab-df-convert');\n",
              "        buttonEl.style.display =\n",
              "          google.colab.kernel.accessAllowed ? 'block' : 'none';\n",
              "\n",
              "        async function convertToInteractive(key) {\n",
              "          const element = document.querySelector('#df-a28d7b70-2cd4-422c-8690-d5d905fe61b5');\n",
              "          const dataTable =\n",
              "            await google.colab.kernel.invokeFunction('convertToInteractive',\n",
              "                                                     [key], {});\n",
              "          if (!dataTable) return;\n",
              "\n",
              "          const docLinkHtml = 'Like what you see? Visit the ' +\n",
              "            '<a target=\"_blank\" href=https://colab.research.google.com/notebooks/data_table.ipynb>data table notebook</a>'\n",
              "            + ' to learn more about interactive tables.';\n",
              "          element.innerHTML = '';\n",
              "          dataTable['output_type'] = 'display_data';\n",
              "          await google.colab.output.renderOutput(dataTable, element);\n",
              "          const docLink = document.createElement('div');\n",
              "          docLink.innerHTML = docLinkHtml;\n",
              "          element.appendChild(docLink);\n",
              "        }\n",
              "      </script>\n",
              "    </div>\n",
              "  </div>\n",
              "  "
            ],
            "text/plain": [
              "            loss\n",
              "995  261473984.0\n",
              "996  261362848.0\n",
              "997  261252816.0\n",
              "998  261142672.0\n",
              "999  261031200.0"
            ]
          },
          "metadata": {},
          "execution_count": 26
        }
      ],
      "source": [
        "history_df = pd.DataFrame(history.history)\n",
        "history_df.tail()"
      ]
    },
    {
      "cell_type": "code",
      "execution_count": 27,
      "metadata": {
        "id": "42fD1IJplFk_"
      },
      "outputs": [],
      "source": [
        "results = melt_results(model, X, y.flatten())"
      ]
    },
    {
      "cell_type": "code",
      "execution_count": 28,
      "metadata": {
        "colab": {
          "base_uri": "https://localhost:8080/",
          "height": 542
        },
        "id": "B-r4M1nYlOrP",
        "outputId": "b9e8b57f-c4b8-4930-bb4e-3d014a562969"
      },
      "outputs": [
        {
          "output_type": "display_data",
          "data": {
            "text/html": [
              "<html>\n",
              "<head><meta charset=\"utf-8\" /></head>\n",
              "<body>\n",
              "    <div>            <script src=\"https://cdnjs.cloudflare.com/ajax/libs/mathjax/2.7.5/MathJax.js?config=TeX-AMS-MML_SVG\"></script><script type=\"text/javascript\">if (window.MathJax) {MathJax.Hub.Config({SVG: {font: \"STIX-Web\"}});}</script>                <script type=\"text/javascript\">window.PlotlyConfig = {MathJaxConfig: 'local'};</script>\n",
              "        <script src=\"https://cdn.plot.ly/plotly-latest.min.js\"></script>                <div id=\"a8b7fc0e-ff7c-4228-92ed-4309184d972a\" class=\"plotly-graph-div\" style=\"height:525px; width:100%;\"></div>            <script type=\"text/javascript\">                                    window.PLOTLYENV=window.PLOTLYENV || {};                                    if (document.getElementById(\"a8b7fc0e-ff7c-4228-92ed-4309184d972a\")) {                    Plotly.newPlot(                        \"a8b7fc0e-ff7c-4228-92ed-4309184d972a\",                        [{\"hovertemplate\": \"Source=real<br>Date=%{x}<br>KG=%{y}<extra></extra>\", \"legendgroup\": \"real\", \"line\": {\"color\": \"#636efa\", \"dash\": \"solid\"}, \"mode\": \"lines\", \"name\": \"real\", \"orientation\": \"v\", \"showlegend\": true, \"type\": \"scatter\", \"x\": [\"7/2010\", \"8/2010\", \"9/2010\", \"10/2010\", \"11/2010\", \"12/2010\", \"1/2011\", \"2/2011\", \"3/2011\", \"4/2011\", \"5/2011\", \"6/2011\", \"7/2011\", \"8/2011\", \"9/2011\", \"10/2011\", \"11/2011\", \"12/2011\", \"1/2012\", \"2/2012\", \"3/2012\", \"4/2012\", \"5/2012\", \"6/2012\", \"7/2012\", \"8/2012\", \"9/2012\", \"10/2012\", \"11/2012\", \"12/2012\", \"1/2013\", \"2/2013\", \"3/2013\", \"4/2013\", \"5/2013\", \"6/2013\", \"7/2013\", \"8/2013\", \"9/2013\", \"10/2013\", \"11/2013\", \"12/2013\", \"1/2014\", \"2/2014\", \"3/2014\", \"4/2014\", \"5/2014\", \"6/2014\", \"7/2014\", \"8/2014\", \"9/2014\", \"10/2014\", \"11/2014\", \"12/2014\", \"1/2015\", \"2/2015\", \"3/2015\", \"4/2015\", \"5/2015\", \"6/2015\", \"7/2015\", \"8/2015\", \"9/2015\", \"10/2015\", \"11/2015\", \"12/2015\", \"1/2016\", \"2/2016\", \"3/2016\", \"4/2016\", \"5/2016\", \"6/2016\", \"7/2016\", \"8/2016\", \"9/2016\", \"10/2016\", \"11/2016\", \"12/2016\", \"1/2017\", \"2/2017\", \"3/2017\", \"4/2017\", \"5/2017\", \"6/2017\", \"7/2017\", \"8/2017\", \"9/2017\", \"10/2017\", \"11/2017\", \"12/2017\", \"1/2018\", \"2/2018\", \"3/2018\", \"4/2018\", \"5/2018\", \"6/2018\", \"7/2018\", \"8/2018\", \"9/2018\", \"10/2018\", \"11/2018\", \"12/2018\", \"1/2019\", \"2/2019\", \"3/2019\", \"4/2019\", \"5/2019\", \"6/2019\", \"7/2019\", \"8/2019\", \"9/2019\", \"10/2019\", \"11/2019\", \"12/2019\", \"1/2020\", \"2/2020\", \"3/2020\", \"4/2020\", \"5/2020\", \"6/2020\", \"7/2020\", \"8/2020\", \"9/2020\", \"10/2020\", \"11/2020\", \"12/2020\"], \"xaxis\": \"x\", \"y\": [14256.210023357236, 12887.711959877464, 15038.574005789536, 12626.48930557771, 14611.291109090684, 13194.81429999148, 14921.016215576235, 13477.391456909943, 15409.211079596587, 13999.215068692509, 15597.436975845374, 14098.12497823274, 15596.818092478728, 14941.69403166363, 15715.347212025836, 14181.212141927936, 16282.0980055455, 14650.929410064906, 16433.209008286325, 15400.579033515967, 16756.981262857273, 15128.148250492244, 17523.979943307248, 15413.044691473402, 16366.26437701746, 14568.470958551738, 16901.11154186154, 14659.021365286097, 16494.903960781197, 15398.721298130027, 17938.090871773184, 15850.35787113158, 18236.778754419985, 15956.750789202086, 17401.696472111977, 15890.10321935092, 17283.79073343649, 16302.509223010222, 17229.64501478726, 16223.309276278227, 17796.223621100053, 16344.001270241426, 17782.006164552513, 16326.588260101846, 18253.569321985724, 16818.12312918114, 18554.33980878632, 16900.704327264033, 18479.00603218699, 17042.963875823145, 18287.35559715585, 17244.887842050513, 18822.494484753846, 17603.725932131478, 18766.104076650663, 17170.12649068024, 19632.147600450644, 16856.921979192426, 18854.690380403008, 17880.884218985302, 19087.480847049384, 18196.112254637803, 19770.963054596545, 16488.739325030063, 19699.01989730995, 17194.707087425755, 19372.65790157132, 17715.24432224015, 19227.53144133251, 17691.136252909622, 20114.53450629712, 17926.252604903035, 19880.02532889845, 16690.02893115867, 19928.02694695529, 18553.766165315024, 20547.154033981024, 17301.11715078875, 19538.97650435099, 17902.44835514176, 21269.577926886348, 18842.69654955895, 20095.445399491346, 17670.300576591326, 20310.884287446843, 18754.84178182952, 20736.279238797026, 18617.387584546323, 20783.71123390676, 17470.755864944782, 20523.579839792717, 18796.936905805047, 20028.582492587037, 18677.535295190337, 20048.1074217522, 18929.24861718753, 20571.15590247796, 18207.204656231734, 20839.04289237627, 18966.53298378622, 20909.977545252816, 18589.807151786372, 21287.370122673103, 17987.976866769444, 21111.062684974822, 18538.311320658097, 21797.26713239234, 18935.35277235507, 21331.37841983855, 18783.75961074272, 22139.12337340894, 18553.79727063604, 21579.50628438568, 19726.43311123112, 21147.624131226225, 19232.360491469408, 21575.52105110441, 18856.1781102771, 20701.25067582265, 19406.448559709923, 22328.687162949856, 19384.824041986754, 21449.154889830097, 19554.40558950196, 21873.104938389297, 19572.860127015803], \"yaxis\": \"y\"}, {\"hovertemplate\": \"Source=predicted<br>Date=%{x}<br>KG=%{y}<extra></extra>\", \"legendgroup\": \"predicted\", \"line\": {\"color\": \"#EF553B\", \"dash\": \"solid\"}, \"mode\": \"lines\", \"name\": \"predicted\", \"orientation\": \"v\", \"showlegend\": true, \"type\": \"scatter\", \"x\": [\"7/2010\", \"8/2010\", \"9/2010\", \"10/2010\", \"11/2010\", \"12/2010\", \"1/2011\", \"2/2011\", \"3/2011\", \"4/2011\", \"5/2011\", \"6/2011\", \"7/2011\", \"8/2011\", \"9/2011\", \"10/2011\", \"11/2011\", \"12/2011\", \"1/2012\", \"2/2012\", \"3/2012\", \"4/2012\", \"5/2012\", \"6/2012\", \"7/2012\", \"8/2012\", \"9/2012\", \"10/2012\", \"11/2012\", \"12/2012\", \"1/2013\", \"2/2013\", \"3/2013\", \"4/2013\", \"5/2013\", \"6/2013\", \"7/2013\", \"8/2013\", \"9/2013\", \"10/2013\", \"11/2013\", \"12/2013\", \"1/2014\", \"2/2014\", \"3/2014\", \"4/2014\", \"5/2014\", \"6/2014\", \"7/2014\", \"8/2014\", \"9/2014\", \"10/2014\", \"11/2014\", \"12/2014\", \"1/2015\", \"2/2015\", \"3/2015\", \"4/2015\", \"5/2015\", \"6/2015\", \"7/2015\", \"8/2015\", \"9/2015\", \"10/2015\", \"11/2015\", \"12/2015\", \"1/2016\", \"2/2016\", \"3/2016\", \"4/2016\", \"5/2016\", \"6/2016\", \"7/2016\", \"8/2016\", \"9/2016\", \"10/2016\", \"11/2016\", \"12/2016\", \"1/2017\", \"2/2017\", \"3/2017\", \"4/2017\", \"5/2017\", \"6/2017\", \"7/2017\", \"8/2017\", \"9/2017\", \"10/2017\", \"11/2017\", \"12/2017\", \"1/2018\", \"2/2018\", \"3/2018\", \"4/2018\", \"5/2018\", \"6/2018\", \"7/2018\", \"8/2018\", \"9/2018\", \"10/2018\", \"11/2018\", \"12/2018\", \"1/2019\", \"2/2019\", \"3/2019\", \"4/2019\", \"5/2019\", \"6/2019\", \"7/2019\", \"8/2019\", \"9/2019\", \"10/2019\", \"11/2019\", \"12/2019\", \"1/2020\", \"2/2020\", \"3/2020\", \"4/2020\", \"5/2020\", \"6/2020\", \"7/2020\", \"8/2020\", \"9/2020\", \"10/2020\", \"11/2020\", \"12/2020\"], \"xaxis\": \"x\", \"y\": [1978.7598876953125, 1978.7598876953125, 1978.7598876953125, 1978.7598876953125, 1978.7598876953125, 1978.7598876953125, 1978.7598876953125, 1978.7598876953125, 1978.7598876953125, 1978.7598876953125, 1978.7598876953125, 1978.7598876953125, 1978.7598876953125, 1978.7598876953125, 1978.7598876953125, 1978.7598876953125, 1978.7598876953125, 1978.7598876953125, 1978.7598876953125, 1978.7598876953125, 1978.7598876953125, 1978.7598876953125, 1978.7598876953125, 1978.7598876953125, 1978.7598876953125, 1978.7598876953125, 1978.7598876953125, 1978.7598876953125, 1978.7598876953125, 1978.7598876953125, 1978.7598876953125, 1978.7598876953125, 1978.7598876953125, 1978.7598876953125, 1978.7598876953125, 1978.7598876953125, 1978.7598876953125, 1978.7598876953125, 1978.7598876953125, 1978.7598876953125, 1978.7598876953125, 1978.7598876953125, 1978.7598876953125, 1978.7598876953125, 1978.7598876953125, 1978.7598876953125, 1978.7598876953125, 1978.7598876953125, 1978.7598876953125, 1978.7598876953125, 1978.7598876953125, 1978.7598876953125, 1978.7598876953125, 1978.7598876953125, 1978.7598876953125, 1978.7598876953125, 1978.7598876953125, 1978.7598876953125, 1978.7598876953125, 1978.7598876953125, 1978.7598876953125, 1978.7598876953125, 1978.7598876953125, 1978.7598876953125, 1978.7598876953125, 1978.7598876953125, 1978.7598876953125, 1978.7598876953125, 1978.7598876953125, 1978.7598876953125, 1978.7598876953125, 1978.7598876953125, 1978.7598876953125, 1978.7598876953125, 1978.7598876953125, 1978.7598876953125, 1978.7598876953125, 1978.7598876953125, 1978.7598876953125, 1978.7598876953125, 1978.7598876953125, 1978.7598876953125, 1978.7598876953125, 1978.7598876953125, 1978.7598876953125, 1978.7598876953125, 1978.7598876953125, 1978.7598876953125, 1978.7598876953125, 1978.7598876953125, 1978.7598876953125, 1978.7598876953125, 1978.7598876953125, 1978.7598876953125, 1978.7598876953125, 1978.7598876953125, 1978.7598876953125, 1978.7598876953125, 1978.7598876953125, 1978.7598876953125, 1978.7598876953125, 1978.7598876953125, 1978.7598876953125, 1978.7598876953125, 1978.7598876953125, 1978.7598876953125, 1978.7598876953125, 1978.7598876953125, 1978.7598876953125, 1978.7598876953125, 1978.7598876953125, 1978.7598876953125, 1978.7598876953125, 1978.7598876953125, 1978.7598876953125, 1978.7598876953125, 1978.7598876953125, 1978.7598876953125, 1978.7598876953125, 1978.7598876953125, 1978.7598876953125, 1978.7598876953125, 1978.7598876953125, 1978.7598876953125, 1978.7598876953125, 1978.7598876953125], \"yaxis\": \"y\"}],                        {\"legend\": {\"title\": {\"text\": \"Source\"}, \"tracegroupgap\": 0}, \"margin\": {\"t\": 60}, \"template\": {\"data\": {\"bar\": [{\"error_x\": {\"color\": \"#2a3f5f\"}, \"error_y\": {\"color\": \"#2a3f5f\"}, \"marker\": {\"line\": {\"color\": \"#E5ECF6\", \"width\": 0.5}}, \"type\": \"bar\"}], \"barpolar\": [{\"marker\": {\"line\": {\"color\": \"#E5ECF6\", \"width\": 0.5}}, \"type\": \"barpolar\"}], \"carpet\": [{\"aaxis\": {\"endlinecolor\": \"#2a3f5f\", \"gridcolor\": \"white\", \"linecolor\": \"white\", \"minorgridcolor\": \"white\", \"startlinecolor\": \"#2a3f5f\"}, \"baxis\": {\"endlinecolor\": \"#2a3f5f\", \"gridcolor\": \"white\", \"linecolor\": \"white\", \"minorgridcolor\": \"white\", \"startlinecolor\": \"#2a3f5f\"}, \"type\": \"carpet\"}], \"choropleth\": [{\"colorbar\": {\"outlinewidth\": 0, \"ticks\": \"\"}, \"type\": \"choropleth\"}], \"contour\": [{\"colorbar\": {\"outlinewidth\": 0, \"ticks\": \"\"}, \"colorscale\": [[0.0, \"#0d0887\"], [0.1111111111111111, \"#46039f\"], [0.2222222222222222, \"#7201a8\"], [0.3333333333333333, \"#9c179e\"], [0.4444444444444444, \"#bd3786\"], [0.5555555555555556, \"#d8576b\"], [0.6666666666666666, \"#ed7953\"], [0.7777777777777778, \"#fb9f3a\"], [0.8888888888888888, \"#fdca26\"], [1.0, \"#f0f921\"]], \"type\": \"contour\"}], \"contourcarpet\": [{\"colorbar\": {\"outlinewidth\": 0, \"ticks\": \"\"}, \"type\": \"contourcarpet\"}], \"heatmap\": [{\"colorbar\": {\"outlinewidth\": 0, \"ticks\": \"\"}, \"colorscale\": [[0.0, \"#0d0887\"], [0.1111111111111111, \"#46039f\"], [0.2222222222222222, \"#7201a8\"], [0.3333333333333333, \"#9c179e\"], [0.4444444444444444, \"#bd3786\"], [0.5555555555555556, \"#d8576b\"], [0.6666666666666666, \"#ed7953\"], [0.7777777777777778, \"#fb9f3a\"], [0.8888888888888888, \"#fdca26\"], [1.0, \"#f0f921\"]], \"type\": \"heatmap\"}], \"heatmapgl\": [{\"colorbar\": {\"outlinewidth\": 0, \"ticks\": \"\"}, \"colorscale\": [[0.0, \"#0d0887\"], [0.1111111111111111, \"#46039f\"], [0.2222222222222222, \"#7201a8\"], [0.3333333333333333, \"#9c179e\"], [0.4444444444444444, \"#bd3786\"], [0.5555555555555556, \"#d8576b\"], [0.6666666666666666, \"#ed7953\"], [0.7777777777777778, \"#fb9f3a\"], [0.8888888888888888, \"#fdca26\"], [1.0, \"#f0f921\"]], \"type\": \"heatmapgl\"}], \"histogram\": [{\"marker\": {\"colorbar\": {\"outlinewidth\": 0, \"ticks\": \"\"}}, \"type\": \"histogram\"}], \"histogram2d\": [{\"colorbar\": {\"outlinewidth\": 0, \"ticks\": \"\"}, \"colorscale\": [[0.0, \"#0d0887\"], [0.1111111111111111, \"#46039f\"], [0.2222222222222222, \"#7201a8\"], [0.3333333333333333, \"#9c179e\"], [0.4444444444444444, \"#bd3786\"], [0.5555555555555556, \"#d8576b\"], [0.6666666666666666, \"#ed7953\"], [0.7777777777777778, \"#fb9f3a\"], [0.8888888888888888, \"#fdca26\"], [1.0, \"#f0f921\"]], \"type\": \"histogram2d\"}], \"histogram2dcontour\": [{\"colorbar\": {\"outlinewidth\": 0, \"ticks\": \"\"}, \"colorscale\": [[0.0, \"#0d0887\"], [0.1111111111111111, \"#46039f\"], [0.2222222222222222, \"#7201a8\"], [0.3333333333333333, \"#9c179e\"], [0.4444444444444444, \"#bd3786\"], [0.5555555555555556, \"#d8576b\"], [0.6666666666666666, \"#ed7953\"], [0.7777777777777778, \"#fb9f3a\"], [0.8888888888888888, \"#fdca26\"], [1.0, \"#f0f921\"]], \"type\": \"histogram2dcontour\"}], \"mesh3d\": [{\"colorbar\": {\"outlinewidth\": 0, \"ticks\": \"\"}, \"type\": \"mesh3d\"}], \"parcoords\": [{\"line\": {\"colorbar\": {\"outlinewidth\": 0, \"ticks\": \"\"}}, \"type\": \"parcoords\"}], \"pie\": [{\"automargin\": true, \"type\": \"pie\"}], \"scatter\": [{\"marker\": {\"colorbar\": {\"outlinewidth\": 0, \"ticks\": \"\"}}, \"type\": \"scatter\"}], \"scatter3d\": [{\"line\": {\"colorbar\": {\"outlinewidth\": 0, \"ticks\": \"\"}}, \"marker\": {\"colorbar\": {\"outlinewidth\": 0, \"ticks\": \"\"}}, \"type\": \"scatter3d\"}], \"scattercarpet\": [{\"marker\": {\"colorbar\": {\"outlinewidth\": 0, \"ticks\": \"\"}}, \"type\": \"scattercarpet\"}], \"scattergeo\": [{\"marker\": {\"colorbar\": {\"outlinewidth\": 0, \"ticks\": \"\"}}, \"type\": \"scattergeo\"}], \"scattergl\": [{\"marker\": {\"colorbar\": {\"outlinewidth\": 0, \"ticks\": \"\"}}, \"type\": \"scattergl\"}], \"scattermapbox\": [{\"marker\": {\"colorbar\": {\"outlinewidth\": 0, \"ticks\": \"\"}}, \"type\": \"scattermapbox\"}], \"scatterpolar\": [{\"marker\": {\"colorbar\": {\"outlinewidth\": 0, \"ticks\": \"\"}}, \"type\": \"scatterpolar\"}], \"scatterpolargl\": [{\"marker\": {\"colorbar\": {\"outlinewidth\": 0, \"ticks\": \"\"}}, \"type\": \"scatterpolargl\"}], \"scatterternary\": [{\"marker\": {\"colorbar\": {\"outlinewidth\": 0, \"ticks\": \"\"}}, \"type\": \"scatterternary\"}], \"surface\": [{\"colorbar\": {\"outlinewidth\": 0, \"ticks\": \"\"}, \"colorscale\": [[0.0, \"#0d0887\"], [0.1111111111111111, \"#46039f\"], [0.2222222222222222, \"#7201a8\"], [0.3333333333333333, \"#9c179e\"], [0.4444444444444444, \"#bd3786\"], [0.5555555555555556, \"#d8576b\"], [0.6666666666666666, \"#ed7953\"], [0.7777777777777778, \"#fb9f3a\"], [0.8888888888888888, \"#fdca26\"], [1.0, \"#f0f921\"]], \"type\": \"surface\"}], \"table\": [{\"cells\": {\"fill\": {\"color\": \"#EBF0F8\"}, \"line\": {\"color\": \"white\"}}, \"header\": {\"fill\": {\"color\": \"#C8D4E3\"}, \"line\": {\"color\": \"white\"}}, \"type\": \"table\"}]}, \"layout\": {\"annotationdefaults\": {\"arrowcolor\": \"#2a3f5f\", \"arrowhead\": 0, \"arrowwidth\": 1}, \"autotypenumbers\": \"strict\", \"coloraxis\": {\"colorbar\": {\"outlinewidth\": 0, \"ticks\": \"\"}}, \"colorscale\": {\"diverging\": [[0, \"#8e0152\"], [0.1, \"#c51b7d\"], [0.2, \"#de77ae\"], [0.3, \"#f1b6da\"], [0.4, \"#fde0ef\"], [0.5, \"#f7f7f7\"], [0.6, \"#e6f5d0\"], [0.7, \"#b8e186\"], [0.8, \"#7fbc41\"], [0.9, \"#4d9221\"], [1, \"#276419\"]], \"sequential\": [[0.0, \"#0d0887\"], [0.1111111111111111, \"#46039f\"], [0.2222222222222222, \"#7201a8\"], [0.3333333333333333, \"#9c179e\"], [0.4444444444444444, \"#bd3786\"], [0.5555555555555556, \"#d8576b\"], [0.6666666666666666, \"#ed7953\"], [0.7777777777777778, \"#fb9f3a\"], [0.8888888888888888, \"#fdca26\"], [1.0, \"#f0f921\"]], \"sequentialminus\": [[0.0, \"#0d0887\"], [0.1111111111111111, \"#46039f\"], [0.2222222222222222, \"#7201a8\"], [0.3333333333333333, \"#9c179e\"], [0.4444444444444444, \"#bd3786\"], [0.5555555555555556, \"#d8576b\"], [0.6666666666666666, \"#ed7953\"], [0.7777777777777778, \"#fb9f3a\"], [0.8888888888888888, \"#fdca26\"], [1.0, \"#f0f921\"]]}, \"colorway\": [\"#636efa\", \"#EF553B\", \"#00cc96\", \"#ab63fa\", \"#FFA15A\", \"#19d3f3\", \"#FF6692\", \"#B6E880\", \"#FF97FF\", \"#FECB52\"], \"font\": {\"color\": \"#2a3f5f\"}, \"geo\": {\"bgcolor\": \"white\", \"lakecolor\": \"white\", \"landcolor\": \"#E5ECF6\", \"showlakes\": true, \"showland\": true, \"subunitcolor\": \"white\"}, \"hoverlabel\": {\"align\": \"left\"}, \"hovermode\": \"closest\", \"mapbox\": {\"style\": \"light\"}, \"paper_bgcolor\": \"white\", \"plot_bgcolor\": \"#E5ECF6\", \"polar\": {\"angularaxis\": {\"gridcolor\": \"white\", \"linecolor\": \"white\", \"ticks\": \"\"}, \"bgcolor\": \"#E5ECF6\", \"radialaxis\": {\"gridcolor\": \"white\", \"linecolor\": \"white\", \"ticks\": \"\"}}, \"scene\": {\"xaxis\": {\"backgroundcolor\": \"#E5ECF6\", \"gridcolor\": \"white\", \"gridwidth\": 2, \"linecolor\": \"white\", \"showbackground\": true, \"ticks\": \"\", \"zerolinecolor\": \"white\"}, \"yaxis\": {\"backgroundcolor\": \"#E5ECF6\", \"gridcolor\": \"white\", \"gridwidth\": 2, \"linecolor\": \"white\", \"showbackground\": true, \"ticks\": \"\", \"zerolinecolor\": \"white\"}, \"zaxis\": {\"backgroundcolor\": \"#E5ECF6\", \"gridcolor\": \"white\", \"gridwidth\": 2, \"linecolor\": \"white\", \"showbackground\": true, \"ticks\": \"\", \"zerolinecolor\": \"white\"}}, \"shapedefaults\": {\"line\": {\"color\": \"#2a3f5f\"}}, \"ternary\": {\"aaxis\": {\"gridcolor\": \"white\", \"linecolor\": \"white\", \"ticks\": \"\"}, \"baxis\": {\"gridcolor\": \"white\", \"linecolor\": \"white\", \"ticks\": \"\"}, \"bgcolor\": \"#E5ECF6\", \"caxis\": {\"gridcolor\": \"white\", \"linecolor\": \"white\", \"ticks\": \"\"}}, \"title\": {\"x\": 0.05}, \"xaxis\": {\"automargin\": true, \"gridcolor\": \"white\", \"linecolor\": \"white\", \"ticks\": \"\", \"title\": {\"standoff\": 15}, \"zerolinecolor\": \"white\", \"zerolinewidth\": 2}, \"yaxis\": {\"automargin\": true, \"gridcolor\": \"white\", \"linecolor\": \"white\", \"ticks\": \"\", \"title\": {\"standoff\": 15}, \"zerolinecolor\": \"white\", \"zerolinewidth\": 2}}}, \"xaxis\": {\"anchor\": \"y\", \"domain\": [0.0, 1.0], \"title\": {\"text\": \"Date\"}}, \"yaxis\": {\"anchor\": \"x\", \"domain\": [0.0, 1.0], \"title\": {\"text\": \"KG\"}}},                        {\"responsive\": true}                    ).then(function(){\n",
              "                            \n",
              "var gd = document.getElementById('a8b7fc0e-ff7c-4228-92ed-4309184d972a');\n",
              "var x = new MutationObserver(function (mutations, observer) {{\n",
              "        var display = window.getComputedStyle(gd).display;\n",
              "        if (!display || display === 'none') {{\n",
              "            console.log([gd, 'removed!']);\n",
              "            Plotly.purge(gd);\n",
              "            observer.disconnect();\n",
              "        }}\n",
              "}});\n",
              "\n",
              "// Listen for the removal of the full notebook cells\n",
              "var notebookContainer = gd.closest('#notebook-container');\n",
              "if (notebookContainer) {{\n",
              "    x.observe(notebookContainer, {childList: true});\n",
              "}}\n",
              "\n",
              "// Listen for the clearing of the current output cell\n",
              "var outputEl = gd.closest('.output');\n",
              "if (outputEl) {{\n",
              "    x.observe(outputEl, {childList: true});\n",
              "}}\n",
              "\n",
              "                        })                };                            </script>        </div>\n",
              "</body>\n",
              "</html>"
            ]
          },
          "metadata": {}
        }
      ],
      "source": [
        "px.line(results, x='Date', y='KG', color='Source')"
      ]
    },
    {
      "cell_type": "markdown",
      "metadata": {
        "id": "1pauUKEdPv5L"
      },
      "source": [
        "<a name='x.3.4.1'></a>\n",
        "\n",
        "#### 🏋️ Exercise 3: Compare LSTM with FFNN using Train/Val/Test sets and 3 Month Window\n",
        "\n",
        "[back to top](#top)"
      ]
    },
    {
      "cell_type": "code",
      "execution_count": null,
      "metadata": {
        "id": "u4vr_Qsq8O2i"
      },
      "outputs": [],
      "source": [
        "### YOUR OPT WINDOW SIZE FROM EXERCISE 2 ###\n",
        "window_size = 3\n",
        "batch_size = 10\n",
        "patience = 50\n",
        "\n",
        "# training on single order history\n",
        "data = orders.loc[[0], time_cols].values\n",
        "\n",
        "# describes the split train 0-.6/val .6-.8/test .8-1\n",
        "train_test_val_ratios = [0.6, 0.8]\n",
        "\n",
        "X_train, y_train, X_val, y_val, X_test, y_test = train_test_process(data,\n",
        "                                                        train_test_val_ratios)\n",
        "\n",
        "\n",
        "### YOUR EARLY STOPPING FORMULA ###\n",
        "\n",
        "### YOUR MODEL FROM EX 6.3.3.2 ###\n",
        "\n",
        "# compile the model\n",
        "model.compile(loss='mean_squared_error', optimizer='adam')\n",
        "\n",
        "# fit the model\n",
        "history = model.fit(\n",
        "    X_train, y_train,\n",
        "    validation_data=(X_val, y_val),\n",
        "    batch_size=batch_size,\n",
        "    epochs=10000,\n",
        "    callbacks=[early_stopping],\n",
        "    verbose=0, # hide the output because we have so many epochs\n",
        "  )\n",
        "\n",
        "print(pd.DataFrame(history.history).tail())"
      ]
    },
    {
      "cell_type": "markdown",
      "metadata": {
        "id": "q9vId5bEJHaz"
      },
      "source": [
        "We'll then record the mse performance of the model to later compare with the LSTM"
      ]
    },
    {
      "cell_type": "code",
      "execution_count": null,
      "metadata": {
        "id": "xKLs8As7Aumr"
      },
      "outputs": [],
      "source": [
        "results = []\n",
        "y_pred = model.predict(X_test)\n",
        "mse = mean_squared_error(y_test, y_pred)\n",
        "results.append(['Dense', mse])\n",
        "results"
      ]
    },
    {
      "cell_type": "markdown",
      "metadata": {
        "id": "dzjhtmJOJN8L"
      },
      "source": [
        "We'll use the same parameters (window size, batch size, and early stopping to train the LSTM and compare the optimum FFNN architecture we previously used)"
      ]
    },
    {
      "cell_type": "code",
      "execution_count": null,
      "metadata": {
        "id": "L2bcJXyN-i90"
      },
      "outputs": [],
      "source": [
        "X_train = X_train.reshape(-1, 1, window_size)\n",
        "y_train = y_train.reshape(-1, 1, 1)\n",
        "X_val = X_val.reshape(-1, 1, window_size)\n",
        "y_val = y_val.reshape(-1, 1, 1)\n",
        "X_test = X_test.reshape(-1, 1, window_size)\n",
        "y_test = y_test.reshape(-1, 1, 1)\n",
        "\n",
        "model = keras.Sequential([\n",
        "    layers.LSTM(8, activation='relu', input_dim=window_size),\n",
        "    layers.Dense(1)\n",
        "])\n",
        "\n",
        "model.compile(loss='mean_squared_error', optimizer='adam')\n",
        "\n",
        "history = model.fit(\n",
        "    X_train, y_train,\n",
        "    validation_data=(X_val, y_val),\n",
        "    batch_size=batch_size,\n",
        "    epochs=10000,\n",
        "    callbacks=[early_stopping],\n",
        "    verbose=0, \n",
        "  )\n",
        "\n",
        "print(pd.DataFrame(history.history).tail())"
      ]
    },
    {
      "cell_type": "code",
      "execution_count": null,
      "metadata": {
        "id": "s8S3eo0uBcs2"
      },
      "outputs": [],
      "source": [
        "y_pred = model.predict(X_test)\n",
        "mse = mean_squared_error(y_test.flatten(), y_pred.flatten())\n",
        "results.append(['LSTM', mse])"
      ]
    },
    {
      "cell_type": "markdown",
      "metadata": {
        "id": "rucg8Gi-JECa"
      },
      "source": [
        "Comparison of results:"
      ]
    },
    {
      "cell_type": "code",
      "execution_count": null,
      "metadata": {
        "id": "QqpsXGHpTidC"
      },
      "outputs": [],
      "source": [
        "pd.DataFrame(results, columns=['Model', 'Test MSE']).set_index('Model').astype(int)"
      ]
    },
    {
      "cell_type": "markdown",
      "metadata": {
        "id": "KAXwn_1fJlws"
      },
      "source": [
        "As a last visualization in this exercise we'll look at the trian/val/test predictions along the actual"
      ]
    },
    {
      "cell_type": "code",
      "execution_count": null,
      "metadata": {
        "id": "vkYIeMmuCcRA"
      },
      "outputs": [],
      "source": [
        "data = orders.loc[[0], time_cols].values\n",
        "idx_split1 = int(data.shape[1]*train_test_val_ratios[0])\n",
        "idx_split2 = int(data.shape[1]*train_test_val_ratios[1])\n",
        "\n",
        "y_p_train = model.predict(X_train)\n",
        "y_p_val = model.predict(X_val)\n",
        "y_p_test = model.predict(X_test)\n",
        "new = orders.loc[[0], time_cols].T.reset_index()\n",
        "new.columns = ['Date', 'Real']\n",
        "new['Train'] = np.nan\n",
        "new.iloc[window_size:idx_split1,2] = y_p_train\n",
        "new['Val'] = np.nan\n",
        "new.iloc[idx_split1+window_size:idx_split2,3] = y_p_val\n",
        "new['Test'] = np.nan\n",
        "new.iloc[idx_split2+window_size:,4] = y_p_test\n",
        "new = new.melt(id_vars='Date', var_name='Source', value_name='KG')"
      ]
    },
    {
      "cell_type": "code",
      "execution_count": null,
      "metadata": {
        "id": "y5TVNGx3C8vC"
      },
      "outputs": [],
      "source": [
        "px.line(new, x='Date', y='KG', color='Source')"
      ]
    },
    {
      "cell_type": "markdown",
      "metadata": {
        "id": "utLO4bRCGweP"
      },
      "source": [
        "<a name='x.5'></a>\n",
        "\n",
        "## 5.5 Model Extensibility\n",
        "\n",
        "[back to top](#top)"
      ]
    },
    {
      "cell_type": "code",
      "execution_count": null,
      "metadata": {
        "id": "F2M2msSVA3JL"
      },
      "outputs": [],
      "source": [
        "from ipywidgets import interact"
      ]
    },
    {
      "cell_type": "markdown",
      "metadata": {
        "id": "DEZFcEbMhqne"
      },
      "source": [
        "<a name='x.5.1'></a>\n",
        "\n",
        "### 🏋️ Exercise 4: Apply Model to Other Orders\n",
        "\n",
        "Take the last LSTM model and apply it to other orders in the dataset. What do you notice?\n",
        "\n",
        "[back to top](#top)"
      ]
    },
    {
      "cell_type": "code",
      "execution_count": null,
      "metadata": {
        "id": "zaeF4L1_HnJm"
      },
      "outputs": [],
      "source": [
        "def apply_model(dataset=orders.index, window_size=3):\n",
        "  window_size = window_size\n",
        "  data = pd.DataFrame(orders.loc[dataset, time_cols])\n",
        "  data = data.reset_index()\n",
        "  data.columns = ['Date', 'KG']\n",
        "\n",
        "  \n",
        "\n",
        "  X, y, labels = process_data(orders.loc[[dataset], \n",
        "                              time_cols].values, \n",
        "                              window=window_size, \n",
        "                              time_cols=132)\n",
        "\n",
        "  y_pred = model.predict(X.reshape(-1, 1, window_size)).flatten()\n",
        "\n",
        "  results = pd.DataFrame(y_pred,  y)\n",
        "  results = results.reset_index()\n",
        "  results.index = data['Date'][window_size:]\n",
        "  results = results.reset_index()\n",
        "  results.columns=['Date', 'real', 'predicted']\n",
        "  results = results.melt(id_vars='Date', var_name='Source', value_name='KG')\n",
        "\n",
        "  fig = px.line(results, x='Date', y='KG', color='Source')\n",
        "  return fig"
      ]
    },
    {
      "cell_type": "code",
      "execution_count": null,
      "metadata": {
        "id": "YFYPPI8dA_ye"
      },
      "outputs": [],
      "source": [
        "interact(apply_model)"
      ]
    },
    {
      "cell_type": "markdown",
      "metadata": {
        "id": "KvTtb8VpITmZ"
      },
      "source": [
        "<a name='x.5.2'></a>\n",
        "\n",
        "### 🏋️ Exercise-Discussion 5.1: How Would You Create a General Forecast Model?\n",
        "\n",
        "[back to top](#top)\n",
        "\n",
        "> After exploring how your model does on other order histories, what do you think is a good strategy for developing company wide order forecasts?\n",
        "\n",
        "Some possible questions:\n",
        "\n",
        "* should you create a single model for the whole company?\n",
        "* could you embed meta data about the order in this all-inclusive model?\n",
        "* should you make models specific to certain customers, products, etc. \n",
        "  * what kind of analysis could you do before hand to determine how your models should be grouped?"
      ]
    },
    {
      "cell_type": "code",
      "execution_count": null,
      "metadata": {
        "id": "aRPVmitPzrbz"
      },
      "outputs": [],
      "source": [
        "melted = orders.melt(id_vars=['base_cake', 'truffle_type', 'primary_flavor', 'secondary_flavor',\n",
        "       'color_group', 'customer'], var_name='month', value_name='kg')"
      ]
    },
    {
      "cell_type": "code",
      "execution_count": null,
      "metadata": {
        "id": "lF5Etme5IPOa"
      },
      "outputs": [],
      "source": [
        "def my_eda(color=cat_cols):\n",
        "  fig = px.line(melted, x='month', y='kg', color=color)\n",
        "  return fig"
      ]
    },
    {
      "cell_type": "code",
      "execution_count": null,
      "metadata": {
        "id": "MWs-Liyp0CSZ"
      },
      "outputs": [],
      "source": [
        "interact(my_eda)"
      ]
    },
    {
      "cell_type": "markdown",
      "metadata": {
        "id": "l16UTW23wsd1"
      },
      "source": [
        "<a name='x.5.2.1'></a>\n",
        "\n",
        "### 🏋️ Exercise 5.2: EDA\n",
        "\n",
        "[back to top](#top)\n",
        "\n",
        "In our quest to create a model that works well for all orders to truffltopia. I tell you that there are some orders with patterned behavior, according to their meta data. Your first task, is to find out which categorical variable best separates the data. You can use any statistical or visual method you like\n",
        "\n",
        "```\n",
        "# recall the categorical variables:\n",
        "['base_cake', 'truffle_type', 'primary_flavor', 'secondary_flavor', 'color_group', 'customer']\n",
        "```\n",
        "\n",
        "From C1 S6, it may be useful to think of this diagram:\n",
        "\n",
        "<img src=\"https://cdn.scribbr.com/wp-content/uploads//2020/01/flowchart-for-choosing-a-statistical-test.png\" width=800px></img>"
      ]
    },
    {
      "cell_type": "markdown",
      "metadata": {
        "id": "adG6lXNjxsb_"
      },
      "source": [
        "<a name='x.5.2.2'></a>\n",
        "\n",
        "### 🏋️ Exercise 5.3: Decide on Model\n",
        "\n",
        "[back to top](#top)\n",
        "\n",
        "Will you model the whole dataset together? Will you create a number of submodels? Choose based on the groupings you determined statistically significant in the data. \n",
        "\n",
        "As a base comparison I have provided a formula that trains a model on the entire order history:\n",
        "\n",
        "```\n",
        "data = orders\n",
        "data = data[time_cols].values\n",
        "\n",
        "batch_size = 256\n",
        "window_size = 12\n",
        "\n",
        "print(\"batch size: {}\".format(batch_size))\n",
        "print(\"window size: {}\".format(window_size), end='\\n\\n')\n",
        "\n",
        "# describes the split train 0-.6/val .6-.8/test .8-1\n",
        "train_test_val_ratios = [0.8, 0.9]\n",
        "\n",
        "X_train, y_train, X_val, y_val, X_test, y_test = train_test_process(data,\n",
        "                                                        train_test_val_ratios,\n",
        "                                                        window_size)\n",
        "\n",
        "early_stopping = keras.callbacks.EarlyStopping(\n",
        "    patience=50,\n",
        "    min_delta=0.001,\n",
        "    restore_best_weights=True,\n",
        "    monitor='loss'\n",
        ")\n",
        "\n",
        "model = keras.Sequential([\n",
        "    layers.Dense(8, input_shape=[window_size]),\n",
        "    layers.Dense(16),\n",
        "    layers.Dense(32),\n",
        "    layers.Dense(16),\n",
        "    layers.Dense(1)\n",
        "])\n",
        "\n",
        "model.compile(loss='mean_squared_error', optimizer='adam')\n",
        "\n",
        "history = model.fit(\n",
        "    X_train, y_train,\n",
        "    validation_data=(X_val, y_val),\n",
        "    batch_size=batch_size,\n",
        "    epochs=10000,\n",
        "    callbacks=[early_stopping],\n",
        "    verbose=0, # hide the output because we have so many epochs\n",
        "  )\n",
        "\n",
        "print(pd.DataFrame(history.history).tail())\n",
        "```"
      ]
    },
    {
      "cell_type": "code",
      "execution_count": null,
      "metadata": {
        "id": "WIxjKWrqCwQ3"
      },
      "outputs": [],
      "source": [
        "data = orders\n",
        "data = data[time_cols].values\n",
        "\n",
        "batch_size = 256\n",
        "window_size = 12\n",
        "\n",
        "print(\"batch size: {}\".format(batch_size))\n",
        "print(\"window size: {}\".format(window_size), end='\\n\\n')\n",
        "\n",
        "# describes the split train 0-.6/val .6-.8/test .8-1\n",
        "train_test_val_ratios = [0.8, 0.9]\n",
        "\n",
        "X_train, y_train, X_val, y_val, X_test, y_test = train_test_process(data,\n",
        "                                                        train_test_val_ratios,\n",
        "                                                        window_size)\n",
        "\n",
        "early_stopping = keras.callbacks.EarlyStopping(\n",
        "    patience=50,\n",
        "    min_delta=0.001,\n",
        "    restore_best_weights=True,\n",
        "    monitor='loss'\n",
        ")\n",
        "\n",
        "model = keras.Sequential([\n",
        "    layers.Dense(8, input_shape=[window_size]),\n",
        "    layers.Dense(16),\n",
        "    layers.Dense(32),\n",
        "    layers.Dense(16),\n",
        "    layers.Dense(1)\n",
        "])\n",
        "\n",
        "model.compile(loss='mean_squared_error', optimizer='adam')\n",
        "\n",
        "history = model.fit(\n",
        "    X_train, y_train,\n",
        "    validation_data=(X_val, y_val),\n",
        "    batch_size=batch_size,\n",
        "    epochs=10000,\n",
        "    callbacks=[early_stopping],\n",
        "    verbose=0, # hide the output because we have so many epochs\n",
        "  )\n",
        "\n",
        "print(pd.DataFrame(history.history).tail())"
      ]
    },
    {
      "cell_type": "markdown",
      "metadata": {
        "id": "Ou7iaizMMJ5k"
      },
      "source": [
        "And a history of the loss with the following settings:\n",
        "```\n",
        "batch size: 256\n",
        "window size: 12\n",
        "\n",
        "train size: 9300\n",
        "val size: 100\n",
        "test size: 200\n",
        "\n",
        "             loss     val_loss\n",
        "326  279111.15625  953265.0625\n",
        "327  322529.15625  580780.2500\n",
        "328  285901.56250  476007.4375\n",
        "329  302237.68750  496192.8125\n",
        "330  281779.40625  480916.6250\n",
        "```"
      ]
    },
    {
      "cell_type": "code",
      "execution_count": null,
      "metadata": {
        "id": "cxCe5Yo6DrkI"
      },
      "outputs": [],
      "source": [
        "interact(apply_model, window_size=window_size)"
      ]
    },
    {
      "cell_type": "code",
      "execution_count": null,
      "metadata": {
        "id": "_CAY6pKIDrus"
      },
      "outputs": [],
      "source": [
        ""
      ]
    }
  ],
  "metadata": {
    "colab": {
      "collapsed_sections": [],
      "name": "S5_Time_Series_Analysis.ipynb",
      "provenance": [],
      "toc_visible": true
    },
    "kernelspec": {
      "display_name": "Python 3 (ipykernel)",
      "language": "python",
      "name": "python3"
    },
    "language_info": {
      "codemirror_mode": {
        "name": "ipython",
        "version": 3
      },
      "file_extension": ".py",
      "mimetype": "text/x-python",
      "name": "python",
      "nbconvert_exporter": "python",
      "pygments_lexer": "ipython3",
      "version": "3.9.7"
    },
    "accelerator": "GPU"
  },
  "nbformat": 4,
  "nbformat_minor": 0
}