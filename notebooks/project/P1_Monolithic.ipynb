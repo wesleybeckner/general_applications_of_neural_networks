{
 "cells": [
  {
   "cell_type": "markdown",
   "id": "fa0f97b2-d6be-46ff-8f0e-956736eca14e",
   "metadata": {},
   "source": [
    "<a href=\"https://colab.research.google.com/github/wesleybeckner/general_applications_of_neural_networks/blob/main/notebooks/project/P1_Monolithic.ipynb\" target=\"_parent\"><img src=\"https://colab.research.google.com/assets/colab-badge.svg\" alt=\"Open In Colab\"/></a>"
   ]
  },
  {
   "cell_type": "markdown",
   "id": "994daadf-45a9-498a-bfa2-ffb839958537",
   "metadata": {},
   "source": [
    "# General Applications of Neural Networks <br> P1: Monolithic Tic-Tac-Toe App\n",
    "\n",
    "**Instructor**: Wesley Beckner\n",
    "\n",
    "**Contact**: wesleybeckner@gmail.com\n",
    "\n",
    "<br>\n",
    "\n",
    "---\n",
    "\n",
    "<br>\n",
    "\n",
    "\n",
    "In this session we'll be building a monolithic application that allows a user to play Tic-tac-toe!\n",
    "\n",
    "<br>\n",
    "\n",
    "---\n",
    "\n",
    "<br>\n"
   ]
  }
 ],
 "metadata": {
  "kernelspec": {
   "display_name": "Python 3",
   "language": "python",
   "name": "python3"
  },
  "language_info": {
   "codemirror_mode": {
    "name": "ipython",
    "version": 3
   },
   "file_extension": ".py",
   "mimetype": "text/x-python",
   "name": "python",
   "nbconvert_exporter": "python",
   "pygments_lexer": "ipython3",
   "version": "3.6.13"
  }
 },
 "nbformat": 4,
 "nbformat_minor": 5
}
