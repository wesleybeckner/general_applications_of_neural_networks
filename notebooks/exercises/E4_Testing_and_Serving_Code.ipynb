{
  "nbformat": 4,
  "nbformat_minor": 0,
  "metadata": {
    "colab": {
      "name": "Tech Fun C4 L2 Testing and Serving Code.ipynb",
      "provenance": [],
      "collapsed_sections": [],
      "toc_visible": true,
      "authorship_tag": "ABX9TyMNuwsoEJKmHWlsAXy0edSh",
      "include_colab_link": true
    },
    "kernelspec": {
      "name": "python3",
      "display_name": "Python 3"
    },
    "language_info": {
      "name": "python"
    }
  },
  "cells": [
    {
      "cell_type": "markdown",
      "metadata": {
        "id": "view-in-github",
        "colab_type": "text"
      },
      "source": [
        "<a href=\"https://colab.research.google.com/github/wesleybeckner/technology_fundamentals/blob/main/C4%20Machine%20Learning%20II/LABS_PROJECT/Tech_Fun_C4_L2_Testing_and_Serving_Code.ipynb\" target=\"_parent\"><img src=\"https://colab.research.google.com/assets/colab-badge.svg\" alt=\"Open In Colab\"/></a>"
      ]
    },
    {
      "cell_type": "markdown",
      "metadata": {
        "id": "3rZ3ZWSkhxyS"
      },
      "source": [
        "# Technology Fundamentals Course 4, Lab 2: DevOps: Testing and Serving Code.ipynb\n",
        "\n",
        "**Instructor**: Wesley Beckner\n",
        "\n",
        "**Contact**: wesleybeckner@gmail.com\n",
        "\n",
        "**Teaching Assitants**: Varsha Bang, Harsha Vardhan\n",
        "\n",
        "**Contact**: vbang@uw.edu, harshav@uw.edu\n",
        "<br>\n",
        "\n",
        "---\n",
        "\n",
        "<br>\n",
        "\n",
        "In this lab we will practice writing unit tests (part 1) as well as serving our python code in a web framework (part 2). There is an optional part 3 where we move our unit tests into a local directory and run them with `pytest`.\n",
        "\n",
        "<br>\n",
        "\n",
        "---\n",
        "\n",
        "<img src=\"https://www.pentalog.com/wp-content/uploads/2020/03/DevOps-engineer-job-roles-and-responsibilities.png\"></img>\n",
        "\n",
        "\n"
      ]
    },
    {
      "cell_type": "markdown",
      "metadata": {
        "id": "1_SHD8I8-ir2"
      },
      "source": [
        "# Part 1: Writing Tests"
      ]
    },
    {
      "cell_type": "code",
      "metadata": {
        "colab": {
          "base_uri": "https://localhost:8080/"
        },
        "id": "oHYHq7XpRyCj",
        "outputId": "948b9a44-bd86-4d2e-c04b-05421cb76ed5"
      },
      "source": [
        "!pip install fastapi"
      ],
      "execution_count": null,
      "outputs": [
        {
          "output_type": "stream",
          "text": [
            "Collecting fastapi\n",
            "\u001b[?25l  Downloading https://files.pythonhosted.org/packages/4e/b9/a91a699f5c201413b3f61405dbccc29ebe5ad25945230e9cec98fdb2434c/fastapi-0.65.1-py3-none-any.whl (50kB)\n",
            "\u001b[K     |████████████████████████████████| 51kB 6.8MB/s \n",
            "\u001b[?25hCollecting pydantic!=1.7,!=1.7.1,!=1.7.2,!=1.7.3,!=1.8,!=1.8.1,<2.0.0,>=1.6.2\n",
            "\u001b[?25l  Downloading https://files.pythonhosted.org/packages/9f/f2/2d5425efe57f6c4e06cbe5e587c1fd16929dcf0eb90bd4d3d1e1c97d1151/pydantic-1.8.2-cp37-cp37m-manylinux2014_x86_64.whl (10.1MB)\n",
            "\u001b[K     |████████████████████████████████| 10.1MB 35.9MB/s \n",
            "\u001b[?25hCollecting starlette==0.14.2\n",
            "\u001b[?25l  Downloading https://files.pythonhosted.org/packages/15/34/db1890f442a1cd3a2c761f4109a0eb4e63503218d70a8c8e97faa09a5500/starlette-0.14.2-py3-none-any.whl (60kB)\n",
            "\u001b[K     |████████████████████████████████| 61kB 9.2MB/s \n",
            "\u001b[?25hRequirement already satisfied: typing-extensions>=3.7.4.3 in /usr/local/lib/python3.7/dist-packages (from pydantic!=1.7,!=1.7.1,!=1.7.2,!=1.7.3,!=1.8,!=1.8.1,<2.0.0,>=1.6.2->fastapi) (3.7.4.3)\n",
            "Installing collected packages: pydantic, starlette, fastapi\n",
            "Successfully installed fastapi-0.65.1 pydantic-1.8.2 starlette-0.14.2\n"
          ],
          "name": "stdout"
        }
      ]
    },
    {
      "cell_type": "code",
      "metadata": {
        "id": "QbaV8zMBXh9_"
      },
      "source": [
        "import random\n",
        "import numpy as np\n",
        "from contextlib import contextmanager\n",
        "import sys, os\n",
        "\n",
        "@contextmanager\n",
        "def suppress_stdout():\n",
        "    with open(os.devnull, \"w\") as devnull:\n",
        "        old_stdout = sys.stdout\n",
        "        sys.stdout = devnull\n",
        "        try:  \n",
        "            yield\n",
        "        finally:\n",
        "            sys.stdout = old_stdout"
      ],
      "execution_count": null,
      "outputs": []
    },
    {
      "cell_type": "markdown",
      "metadata": {
        "id": "lGbWAzdgx0bj"
      },
      "source": [
        "## Types of Tests\n",
        "\n",
        "There are two main types of tests we want to distinguish:\n",
        "* **_Unit test_**: an automatic test to test the internal workings of a class or function. It should be a stand-alone test which is not related to other resources.\n",
        "* **_Integration test_**: an automatic test that is done on an environment, it tests the coordination of different classes and functions as well as with the running environment. This usually precedes sending code to a QA team.\n",
        "\n",
        "To this I will add:\n",
        "\n",
        "* **_Acid test_**: extremely rigorous tests that push beyond the intended use cases for your classes/functions. Written when you, like me, cannot afford QA employees to actually test your code. (word origin: [gold acid tests in the 1850s](https://en.wikipedia.org/wiki/Acid_test_(gold)), [acid tests in the 70's](https://en.wikipedia.org/wiki/Acid_Tests))\n",
        "\n",
        "In this lab we will focus on _unit tests_."
      ]
    },
    {
      "cell_type": "markdown",
      "metadata": {
        "id": "WeELH5izfpcW"
      },
      "source": [
        "## Unit Tests\n",
        "\n",
        "Each unit test should test the smallest portion of your code possible, i.e. a single method or function. Any random number generators should be seeded so that they run the exact same way every time. Unit tests should not rely on any local files or the local environment. \n",
        "\n",
        "Why bother with Unit Tests when we have Integration tests?\n",
        "\n",
        "A major challenge with integration testing is when an integration test fails. It’s very hard to diagnose a system issue without being able to isolate which part of the system is failing. Here comes the unit test to the rescue. \n",
        "\n",
        "Let's take a simple example. If I wanted to test that the sume of two numbers is correct"
      ]
    },
    {
      "cell_type": "code",
      "metadata": {
        "id": "dHJEOhTheT5I"
      },
      "source": [
        "assert sum([2, 5]) == 7, \"should be 7\""
      ],
      "execution_count": null,
      "outputs": []
    },
    {
      "cell_type": "markdown",
      "metadata": {
        "id": "vapg_Y96jePB"
      },
      "source": [
        "Nothing is sent to the print out because the condition is satisfied. If we run, however:\n",
        "\n",
        "```\n",
        "assert sum([2, 4]) == 7, \"should be 7\"\n",
        "```\n",
        "\n",
        "we get an error message:\n",
        "\n",
        "```\n",
        "---------------------------------------------------------------------------\n",
        "AssertionError                            Traceback (most recent call last)\n",
        "<ipython-input-3-d5724b127818> in <module>()\n",
        "----> 1 assert sum([2, 4]) == 7, \"should be 7\"\n",
        "\n",
        "AssertionError: should be 7\n",
        "```\n"
      ]
    },
    {
      "cell_type": "markdown",
      "metadata": {
        "id": "_myc2iDDjqmk"
      },
      "source": [
        "To make this a Unit Test, you will want to wrap it in a function"
      ]
    },
    {
      "cell_type": "code",
      "metadata": {
        "colab": {
          "base_uri": "https://localhost:8080/"
        },
        "id": "mxdkoYntjt1E",
        "outputId": "1507ce22-9ce7-46c4-ba11-8a2721fa9108"
      },
      "source": [
        "def test_sum():\n",
        "    assert sum([1, 2, 3]) == 6, \"Should be 6\"\n",
        "\n",
        "test_sum()\n",
        "print(\"Everything passed\")"
      ],
      "execution_count": null,
      "outputs": [
        {
          "output_type": "stream",
          "text": [
            "Everything passed\n"
          ],
          "name": "stdout"
        }
      ]
    },
    {
      "cell_type": "markdown",
      "metadata": {
        "id": "QP4xzyYGLJRG"
      },
      "source": [
        "And if we include a test that does not pass:\n",
        "\n",
        "```\n",
        "def test_sum():\n",
        "  assert sum([3, 3]) == 6, \"Should be 6\"\n",
        "\n",
        "def test_my_broken_func():\n",
        "  assert sum([1, 2]) == 5, \"Should be 5\"\n",
        "\n",
        "test_sum()\n",
        "test_my_broken_func()\n",
        "print(\"Everything passed\")\n",
        "```\n",
        "\n"
      ]
    },
    {
      "cell_type": "markdown",
      "metadata": {
        "id": "QDrcx65ymKd4"
      },
      "source": [
        "Here our test fails, because the sum of 1 and 2 is 3 and not 5. We get a traceback that tells us the source of the error:\n",
        "\n",
        "```\n",
        "---------------------------------------------------------------------------\n",
        "AssertionError                            Traceback (most recent call last)\n",
        "<ipython-input-13-8a552fbf52bd> in <module>()\n",
        "      6 \n",
        "      7 test_sum()\n",
        "----> 8 test_my_broken_func()\n",
        "      9 print(\"Everything passed\")\n",
        "\n",
        "<ipython-input-13-8a552fbf52bd> in test_my_broken_func()\n",
        "      3 \n",
        "      4 def test_my_broken_func():\n",
        "----> 5   assert sum([1, 2]) == 5, \"Should be 5\"\n",
        "      6 \n",
        "      7 test_sum()\n",
        "\n",
        "AssertionError: Should be 5\n",
        "```\n",
        "\n"
      ]
    },
    {
      "cell_type": "markdown",
      "metadata": {
        "id": "eUWcSQ3osABW"
      },
      "source": [
        "Before sending us on our merry way to practice writing unit tests, we will want to ask, what do I want to write a test about? Here, we've been testing sum(). There are many behaviors in sum() we could check, such as:\n",
        "\n",
        "* Does it sum a list of whole numbers (integers)?\n",
        "* Can it sum a tuple or set?\n",
        "* Can it sum a list of floats?\n",
        "* What happens if one of the numbers is negative? etc..\n",
        "\n",
        "In the end, what you test is up to you, and depends on your intended use cases. As a general rule of thumb, your unit test should test what is relevant.\n",
        "\n",
        "The only caveat to that, is that many continuous integration services (like [TravisCI](https://travis-ci.com/)) will benchmark you based on the percentage of lines of code you have that are covered by your unit tests (ex: [85% coverage](https://github.com/wesleybeckner/gains))."
      ]
    },
    {
      "cell_type": "markdown",
      "metadata": {
        "id": "kRwuV7gay0hX"
      },
      "source": [
        "## L2 Q1 Write a Unit Test\n",
        "\n",
        "Remember our Pokeball discussion in C2? We'll return to that here. This time writing unit tests for our classes.\n",
        "\n",
        "Sometimes when writing unit tests, it can be more complicated than checking the return value of a function. Think back on our pokemon example:\n",
        "\n",
        "<br>\n",
        "\n",
        "<p align=center>\n",
        "<img src=\"https://cdn2.bulbagarden.net/upload/thumb/2/23/Pok%C3%A9_Balls_GL.png/250px-Pok%C3%A9_Balls_GL.png\"></img>\n",
        "\n",
        "```\n",
        "class Pokeball:\n",
        "  def __init__(self, contains=None, type_name=\"poke ball\"):\n",
        "    self.contains = contains\n",
        "    self.type_name = type_name\n",
        "    self.catch_rate = 0.50 # note this attribute is not accessible upon init\n",
        "\n",
        "  # the method catch, will update self.contains, if a catch is successful\n",
        "  # it will also use self.catch_rate to set the performance of the catch\n",
        "  def catch(self, pokemon):\n",
        "    if self.contains == None:\n",
        "      if random.random() < self.catch_rate:\n",
        "        self.contains = pokemon\n",
        "        print(f\"{pokemon} captured!\")\n",
        "      else:\n",
        "        print(f\"{pokemon} escaped!\")\n",
        "        pass\n",
        "    else:\n",
        "      print(\"pokeball is not empty!\")\n",
        "      \n",
        "  def release(self):\n",
        "    if self.contains == None:\n",
        "      print(\"Pokeball is already empty\")\n",
        "    else:\n",
        "      print(self.contains, \"has been released\")\n",
        "      self.contains = None\n",
        "```\n",
        "\n",
        "If I wanted to write a unit test for the release method, I couldn't directly check for the output of a function. I'll have to check for a **_side effect_**, in this case, the change of an attribute belonging to a pokeball object; that is the change to the attribute _contains_.\n",
        "\n"
      ]
    },
    {
      "cell_type": "code",
      "metadata": {
        "id": "HalrD0nxqBTR"
      },
      "source": [
        "class Pokeball:\n",
        "  def __init__(self, contains=None, type_name=\"poke ball\"):\n",
        "    self.contains = contains\n",
        "    self.type_name = type_name\n",
        "    self.catch_rate = 0.50 # note this attribute is not accessible upon init\n",
        "\n",
        "  # the method catch, will update self.contains, if a catch is successful\n",
        "  # it will also use self.catch_rate to set the performance of the catch\n",
        "  def catch(self, pokemon):\n",
        "    if self.contains == None:\n",
        "      if random.random() < self.catch_rate:\n",
        "        self.contains = pokemon\n",
        "        print(f\"{pokemon} captured!\")\n",
        "      else:\n",
        "        print(f\"{pokemon} escaped!\")\n",
        "        pass\n",
        "    else:\n",
        "      print(\"pokeball is not empty!\")\n",
        "      \n",
        "  def release(self):\n",
        "    if self.contains == None:\n",
        "      print(\"Pokeball is already empty\")\n",
        "    else:\n",
        "      print(self.contains, \"has been released\")\n",
        "      self.contains = None"
      ],
      "execution_count": null,
      "outputs": []
    },
    {
      "cell_type": "markdown",
      "metadata": {
        "id": "h98l1tNRPKRd"
      },
      "source": [
        "In the following cell, finish the code to test the functionality of the _release_ method:"
      ]
    },
    {
      "cell_type": "code",
      "metadata": {
        "id": "4otRRh71rBj_"
      },
      "source": [
        "def test_release():\n",
        "  ball = Pokeball()\n",
        "  ball.contains = 'Pikachu'\n",
        "  ball.release()\n",
        "  # turn the pseudo code below into an assert statement\n",
        "  \n",
        "  ### YOUR CODE HERE ###\n",
        "  # assert <object.attribute> == <something>"
      ],
      "execution_count": null,
      "outputs": []
    },
    {
      "cell_type": "code",
      "metadata": {
        "colab": {
          "base_uri": "https://localhost:8080/"
        },
        "id": "hAwXirZ0L_yk",
        "outputId": "85219b06-af0b-4d31-be91-3ed63ec3f9ee"
      },
      "source": [
        "test_release()"
      ],
      "execution_count": null,
      "outputs": [
        {
          "output_type": "stream",
          "text": [
            "Pikachu has been released\n"
          ],
          "name": "stdout"
        }
      ]
    },
    {
      "cell_type": "markdown",
      "metadata": {
        "id": "QJVclx-MUL0S"
      },
      "source": [
        "## L2 Q2 Write a Unit Test for the Catch Rate\n",
        "\n",
        "First, we will check that the succcessful catch is operating correctly. Remember that we depend on `random.random` and condition our success on whether that random value is less than the `catch_rate` of the pokeball:\n",
        "\n",
        "```\n",
        "if self.contains == None:\n",
        "      if random.random() < self.catch_rate:\n",
        "        self.contains = pokemon\n",
        "```\n",
        "\n",
        "so to test whether the successful catch is working we will seed our random number generator with a value that returns less than the `catch_rate` of the pokeball and then write our assert statement:\n"
      ]
    },
    {
      "cell_type": "code",
      "metadata": {
        "id": "HVnPbFn7Wcxy"
      },
      "source": [
        "def test_successful_catch():\n",
        "  # choose a random seed such that\n",
        "  # we know the catch call should succeed\n",
        "  \n",
        "  ### YOUR CODE BELOW ###\n",
        "  # random.seed(<your number here>)\n",
        "  ball = Pokeball()\n",
        "  ball.catch('Psyduck') # Sabrina's fave pokemon\n",
        "\n",
        "  ### YOUR CODE BELOW ###\n",
        "  # <object.attribute> == <something>, \"ball did not catch as expected\""
      ],
      "execution_count": null,
      "outputs": []
    },
    {
      "cell_type": "markdown",
      "metadata": {
        "id": "VJkA7mOCYghS"
      },
      "source": [
        "NICE. Now we will do the same thing again, this time testing for an unsuccessful catch. SO in order to do this, we need to choose a random seed that will cause our catch to fail:"
      ]
    },
    {
      "cell_type": "code",
      "metadata": {
        "id": "HO3HTccaXQ5t"
      },
      "source": [
        "def test_unsuccessful_catch():\n",
        "  # choose a random seed such that\n",
        "  # we know the catch call should FAIL\n",
        "  \n",
        "  ### YOUR CODE BELOW ###\n",
        "  # random.seed(<your number here>)\n",
        "  ball = Pokeball()\n",
        "  ball.catch('Psyduck') # Sabrina's fave pokemon\n",
        "\n",
        "  ### YOUR CODE BELOW ###\n",
        "  # <object.attribute> == <something>, \"ball did not fail as expected\""
      ],
      "execution_count": null,
      "outputs": []
    },
    {
      "cell_type": "markdown",
      "metadata": {
        "id": "SvR_oU1lYtn3"
      },
      "source": [
        "When you are finished test your functions below"
      ]
    },
    {
      "cell_type": "code",
      "metadata": {
        "colab": {
          "base_uri": "https://localhost:8080/"
        },
        "id": "bM_mq6niY429",
        "outputId": "6a76898c-ea4e-4813-ec76-0e820de2245c"
      },
      "source": [
        "test_unsuccessful_catch()"
      ],
      "execution_count": null,
      "outputs": [
        {
          "output_type": "stream",
          "text": [
            "Psyduck captured!\n"
          ],
          "name": "stdout"
        }
      ]
    },
    {
      "cell_type": "code",
      "metadata": {
        "colab": {
          "base_uri": "https://localhost:8080/"
        },
        "id": "YqhIkH0nYyQW",
        "outputId": "8b78aa5e-1bd8-4ddb-9187-ec41483a2162"
      },
      "source": [
        "test_successful_catch()"
      ],
      "execution_count": null,
      "outputs": [
        {
          "output_type": "stream",
          "text": [
            "Psyduck captured!\n"
          ],
          "name": "stdout"
        }
      ]
    },
    {
      "cell_type": "markdown",
      "metadata": {
        "id": "BiQgfk6BZA16"
      },
      "source": [
        "## L2 Q3 Write a Unit Test that Checks Whether the Overall Catch Rate is 50/50\n",
        "\n",
        "For this one, we're going to take those same ideas around seeding the random number generator. However, here we'd like to run the catch function multiple times to check whether it is truly creating a 50/50 catch rate situation.\n",
        "\n",
        "Here's a pseudo code outline:\n",
        "\n",
        "1. seed the random number generator\n",
        "2. for 100 iterations: \n",
        "  * create a pokeball\n",
        "  * try to catch something\n",
        "  * log whether it was successful\n",
        "3. check that for the 100 attempts the success was approximately 50/50\n",
        "\n",
        "_note:_ you can use my `suppress stdout()` function to suppress the print statements from `ball.catch`\n",
        "\n",
        "ex:\n",
        "\n",
        "```\n",
        "with suppress_stdout():\n",
        "  print(\"HELLO OUT THERE!\")\n",
        "```\n",
        "\n",
        "> quick segway: what is the actual behavior of `random.seed()`? Does it produce the same number every time we call `random.random()` now? Check for yourself:"
      ]
    },
    {
      "cell_type": "code",
      "metadata": {
        "colab": {
          "base_uri": "https://localhost:8080/"
        },
        "id": "tH-R1S7-aF9X",
        "outputId": "1034637a-f405-4bc6-c20d-1a6b0570b532"
      },
      "source": [
        "random.seed(42)\n",
        "[random.random() for i in range(5)]"
      ],
      "execution_count": null,
      "outputs": [
        {
          "output_type": "execute_result",
          "data": {
            "text/plain": [
              "[0.6394267984578837,\n",
              " 0.025010755222666936,\n",
              " 0.27502931836911926,\n",
              " 0.22321073814882275,\n",
              " 0.7364712141640124]"
            ]
          },
          "metadata": {
            "tags": []
          },
          "execution_count": 12
        }
      ]
    },
    {
      "cell_type": "markdown",
      "metadata": {
        "id": "LXUHxvQMasoN"
      },
      "source": [
        "We see that it still produces random numbers with each call to `random.random`. However, those numbers are the same with every execution of the cell. What happens when we do this:"
      ]
    },
    {
      "cell_type": "code",
      "metadata": {
        "colab": {
          "base_uri": "https://localhost:8080/"
        },
        "id": "GbBLOZgqa1AZ",
        "outputId": "1f04099c-a077-44c8-80ed-14d5aea01cfe"
      },
      "source": [
        "[random.random() for i in range(5)]"
      ],
      "execution_count": null,
      "outputs": [
        {
          "output_type": "execute_result",
          "data": {
            "text/plain": [
              "[0.6766994874229113,\n",
              " 0.8921795677048454,\n",
              " 0.08693883262941615,\n",
              " 0.4219218196852704,\n",
              " 0.029797219438070344]"
            ]
          },
          "metadata": {
            "tags": []
          },
          "execution_count": 13
        }
      ]
    },
    {
      "cell_type": "markdown",
      "metadata": {
        "id": "x-UWTf1Ta4He"
      },
      "source": [
        "The numbers are different. BUT:"
      ]
    },
    {
      "cell_type": "code",
      "metadata": {
        "colab": {
          "base_uri": "https://localhost:8080/"
        },
        "id": "LZk3tQ5Ja7S0",
        "outputId": "82e18e62-d495-4d26-ce57-1349c92910c3"
      },
      "source": [
        "random.seed(42)\n",
        "[random.random() for i in range(10)]"
      ],
      "execution_count": null,
      "outputs": [
        {
          "output_type": "execute_result",
          "data": {
            "text/plain": [
              "[0.6394267984578837,\n",
              " 0.025010755222666936,\n",
              " 0.27502931836911926,\n",
              " 0.22321073814882275,\n",
              " 0.7364712141640124,\n",
              " 0.6766994874229113,\n",
              " 0.8921795677048454,\n",
              " 0.08693883262941615,\n",
              " 0.4219218196852704,\n",
              " 0.029797219438070344]"
            ]
          },
          "metadata": {
            "tags": []
          },
          "execution_count": 14
        }
      ]
    },
    {
      "cell_type": "markdown",
      "metadata": {
        "id": "pGh81x6Sa814"
      },
      "source": [
        "We see them here in the bottom half of the list again. So, random.seed() is _seeding_ the random number generator such that it will produce the same sequence of random numbers every time, from the given seed. This will reset whenever random.seed() is set again. This behavior is useful because it allows us to continue using random number generation in our code, (for testing, creating examples and demos, etc.) but it will be reproducable each time.\n",
        "\n",
        "_End Segway_"
      ]
    },
    {
      "cell_type": "code",
      "metadata": {
        "id": "T-5i7ndkU8B_"
      },
      "source": [
        "def test_catch_rate():\n",
        "  ### YOUR CODE HERE ###\n",
        "  \n",
        "  ### END YOUR CODE ###\n",
        "  assert np.abs(np.mean(results) - 0.5) < 0.1, \"catch rate not 50/50\"\n",
        "test_catch_rate()"
      ],
      "execution_count": null,
      "outputs": []
    },
    {
      "cell_type": "markdown",
      "metadata": {
        "id": "eyAe363HyC5j"
      },
      "source": [
        "## Test Runners\n",
        "\n",
        "When we start to create many tests like this, it can be cumbersome to run them all at once and log which ones fail. To handle our unit tests we use what are called **_test runners_**. We won't dedicate time to any single one here but the three most common are:\n",
        "\n",
        "* unittest\n",
        "* nose2\n",
        "* pytest\n",
        "\n",
        "unittest is built into python. I don't like it because you have to follow a strict class/method structure when writing the tests. nose2 is popular with many useful features and is generally good for high volumes of tests. My favorite is pytest, it's flexible and has an ecosystem of plugins for extensibility. "
      ]
    },
    {
      "cell_type": "code",
      "metadata": {
        "id": "s58qSx8f0AsF"
      },
      "source": [
        "# maybe have a demo of writing a file from jupyterlab cell\n",
        "# and then running that test file with pytest\n",
        "\n",
        "# conversely, could go to the actual command line since it looks like\n",
        "# everyone has a local environment, have them clone a few files from truffletopia\n",
        "# and demo pytest that way.\n",
        "\n",
        "!pytest test_release"
      ],
      "execution_count": null,
      "outputs": []
    },
    {
      "cell_type": "markdown",
      "metadata": {
        "id": "UOrIjFKI-qA7"
      },
      "source": [
        "# Part 2: Serving Python\n",
        "\n",
        "Our next objective is to serve our code to the wide, wide world (ahem, the world, wide, web) in as simple a manner as possible. As _s i m p l e_ as possible. "
      ]
    },
    {
      "cell_type": "code",
      "metadata": {
        "id": "_SQBNQzORvKC"
      },
      "source": [
        "from fastapi import FastAPI\n",
        "\n",
        "app = FastAPI()\n",
        "\n",
        "@app.get(\"/\")\n",
        "async def root():\n",
        "    return {\"message\": \"Hello World\"}"
      ],
      "execution_count": null,
      "outputs": []
    },
    {
      "cell_type": "markdown",
      "metadata": {
        "id": "52e3WTfESr6j"
      },
      "source": [
        "Copy the above code into a local file `main.py` \n",
        "\n",
        "install fastapi and uvicorn with:\n",
        "\n",
        "```\n",
        "pip install fastapi[all]\n",
        "```\n",
        "\n",
        "then from the terminal run:\n",
        "\n",
        "```\n",
        "uvicorn main:app --reload\n",
        "```\n",
        "\n",
        "`uvicorn` is the server we will use to run our fastapi application. `main` refers to the name of the file to run and `app` the object within it. `--reload` will cause the server to reboot the app anytime changes are made to the file `main.py`\n",
        "\n",
        "You should see on the command line now something like:\n",
        "\n",
        "```\n",
        "INFO:     Uvicorn running on http://127.0.0.1:8000 (Press CTRL+C to quit)\n",
        "```\n",
        "\n",
        "This is telling us where our python app is running "
      ]
    },
    {
      "cell_type": "markdown",
      "metadata": {
        "id": "wxiJS84fT0cz"
      },
      "source": [
        "## Interactive API docs\n",
        "\n",
        "Now go to http://127.0.0.1:8000/docs\n",
        "\n"
      ]
    },
    {
      "cell_type": "markdown",
      "metadata": {
        "id": "yymGe-rvV4Fl"
      },
      "source": [
        "## Recap, step by step\n",
        "\n",
        "1. we imported fastapi\n",
        "\n",
        "`from fastapi import FastAPI`\n",
        "\n",
        "2. created a `FastAPI` instance\n",
        "\n",
        "`app = FastAPI()` \n",
        "\n",
        "3. created a _path_ _operation_\n",
        "\n",
        "**_path_** here refers to the last part of the URL starting from the first `/`. So in a URL like:\n",
        "\n",
        "`truffletopia.io/basecake/chiffon`\n",
        "\n",
        "...the path would be:\n",
        "\n",
        "`/basecake/chiffon`\n",
        "\n",
        "> a path is commonly referred to as an \"endpoint\" as in \"API endpoint\" or a \"route\"\n",
        "\n",
        "**_operation_** refers to one of the HTTP \"methods\"\n",
        "\n",
        "One of:\n",
        "\n",
        "* `POST`: create data\n",
        "* `GET`: read data\n",
        "* `PUT`: update data\n",
        "* `DELETE`: delete data\n",
        "\n",
        "...and more exotic ones\n",
        "\n",
        "We can think of these HTTP methods as synonymous with _operation_. Taking it together:\n",
        "\n",
        "`@app.get(\"/\")`\n",
        "\n",
        "tells FastAPI that the function right below is in charge of handling requests that go to:\n",
        "\n",
        "* the path `/`\n",
        "* using a `get` operation\n",
        "\n",
        "> the `@` in python is called a decorator and lets the python executor know it is going to be modifying a function in some way, in this case FastAPI's handling of the `get` requests to `/`\n",
        "\n",
        "4. define the **_path operation function_**\n",
        "\n",
        "* path is `/`\n",
        "* operation is `GET`\n",
        "* function is the funtion below the decorator\n",
        "\n",
        "If you're curious about the `async` infront of our path operation function you can read about it [here](https://fastapi.tiangolo.com/async/#in-a-hurry)."
      ]
    }
  ]
}